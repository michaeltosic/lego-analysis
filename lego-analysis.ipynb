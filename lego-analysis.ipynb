{
 "cells": [
  {
   "cell_type": "markdown",
   "id": "5463ae3f",
   "metadata": {},
   "source": [
    "# Lego Analysis"
   ]
  },
  {
   "cell_type": "markdown",
   "id": "3b6eaf52",
   "metadata": {},
   "source": [
    "Author: M. Tosic\n",
    "\n",
    "Date: 01.2022\n",
    "\n",
    "This notebook is part of my capstone project for a data science course. The project is independent and has no connection to the company LEGO."
   ]
  },
  {
   "cell_type": "markdown",
   "id": "dbf46020",
   "metadata": {},
   "source": [
    "# 1. Business Understanding"
   ]
  },
  {
   "cell_type": "markdown",
   "id": "47d6de17",
   "metadata": {},
   "source": [
    "### Questions of interest\n",
    "\n",
    "**A) Exploratory Analysis**\n",
    "* **What themes are most dominant over the years?**\n",
    "* **What sets where record breakers in terms of piece count?**\n",
    "* **What sets where record breakers in terms of number of minifigs?**\n",
    "* **What words do most often come up in set names?**\n",
    "* Are lego sets becomming more and more expensive?\n",
    "* Retail price to piece count?\n",
    "* Does the value of sets go up after eol on average?\n",
    "* What sets do best after eol? (eol = lego-term for end-of-life meaning the date when the set is not being produced \n",
    "\n",
    "**B) Predictive Analysis**\n",
    "* What are features of the data set are good predictors that will rise in value after eol?\n",
    "* What do the words contained in the set names tell us about the rise of value after eol.\n",
    "* What sets that are currently being sold can I predicte to be a good investment after eol?* \n",
    "\n",
    "*e.g. price increase of at least 10 usd (for package and shipment when selling) + at least 25% profit"
   ]
  },
  {
   "cell_type": "markdown",
   "id": "4e400715",
   "metadata": {},
   "source": [
    "# 2. Data Understanding"
   ]
  },
  {
   "cell_type": "markdown",
   "id": "9c82e802",
   "metadata": {},
   "source": [
    "Data being used in this notebook has been downloaded from the following sources:\n",
    "\n",
    "* https://brickset.com/\n",
    "* https://rebrickable.com/downloads/"
   ]
  },
  {
   "cell_type": "markdown",
   "id": "4e37bf7c",
   "metadata": {},
   "source": [
    "Simplifications:\n",
    "* No time series data on the price averages available. Assumption: price changes average out over time after eol. The price curves are already in a steady state.\n",
    "* No data available on unique minifigs in sets (minifig are popular for collectors that focus on them and are generally believed to drive up the prices of some sets after eol)."
   ]
  },
  {
   "cell_type": "markdown",
   "id": "9b372ace",
   "metadata": {},
   "source": [
    "### Import Libraries"
   ]
  },
  {
   "cell_type": "code",
   "execution_count": 205,
   "id": "ba87183f",
   "metadata": {},
   "outputs": [
    {
     "name": "stderr",
     "output_type": "stream",
     "text": [
      "[nltk_data] Downloading package stopwords to\n",
      "[nltk_data]     /Users/michaeltosic/nltk_data...\n",
      "[nltk_data]   Package stopwords is already up-to-date!\n",
      "[nltk_data] Downloading package punkt to\n",
      "[nltk_data]     /Users/michaeltosic/nltk_data...\n",
      "[nltk_data]   Package punkt is already up-to-date!\n",
      "[nltk_data] Downloading package wordnet to\n",
      "[nltk_data]     /Users/michaeltosic/nltk_data...\n",
      "[nltk_data]   Package wordnet is already up-to-date!\n"
     ]
    }
   ],
   "source": [
    "import numpy as np\n",
    "import pandas as pd\n",
    "\n",
    "#cisualization\n",
    "import matplotlib.pyplot as plt\n",
    "%matplotlib inline\n",
    "import seaborn as sns\n",
    "import plotly.express as px\n",
    "pd.options.display.float_format = '{:,.2f}'.format\n",
    "pd.set_option('display.max_rows', 100) #pd.set_option('display.max_rows', None)\n",
    "\n",
    "# import necessary libraries for batch import csv:\n",
    "import os\n",
    "import glob\n",
    "\n",
    "#for counting elements in a list:\n",
    "from collections import Counter\n",
    "\n",
    "#needed for text processing:\n",
    "import nltk\n",
    "nltk.download('stopwords')\n",
    "nltk.download('punkt')\n",
    "nltk.download('wordnet')\n",
    "from nltk.corpus import stopwords\n",
    "from nltk.stem.wordnet import WordNetLemmatizer\n",
    "from nltk.tokenize import word_tokenize\n",
    "\n",
    "import re\n",
    "\n",
    "from datetime import datetime\n"
   ]
  },
  {
   "cell_type": "markdown",
   "id": "a37d5a66",
   "metadata": {},
   "source": [
    "### Import Data"
   ]
  },
  {
   "cell_type": "code",
   "execution_count": 2,
   "id": "c138d2ce",
   "metadata": {},
   "outputs": [],
   "source": [
    "#df_sets = pd.read_csv('data/rebrickable-sets.csv')\n",
    "#df_themes = pd.read_csv('data/rebrickable-themes.csv')"
   ]
  },
  {
   "cell_type": "code",
   "execution_count": 407,
   "id": "6e8d8e93",
   "metadata": {},
   "outputs": [],
   "source": [
    "def import_csv_with_date_column(filename, date_col_name, skiprows_val = 0):\n",
    "    dateparse = lambda x: datetime.strptime(x, '%Y-%m-%d')\n",
    "    df = pd.read_csv(filename, parse_dates=[date_col_name], date_parser=dateparse,skiprows = skiprows_val)\n",
    "    df.rename(columns=lambda x: x.strip(), inplace = True)\n",
    "    return df\n",
    "\n",
    "def slice_2_date_range(df, date_col,start_date, end_date):\n",
    "    #greater than start date and smaller than the end date\n",
    "    mask = (df[date_col] > start_date) & (df[date_col] <= end_date)\n",
    "    df = df[mask].reset_index(drop = True)\n",
    "    return df"
   ]
  },
  {
   "cell_type": "code",
   "execution_count": 414,
   "id": "eca83aa5",
   "metadata": {},
   "outputs": [
    {
     "data": {
      "text/plain": [
       "(date     datetime64[ns]\n",
       " value           float64\n",
       " dtype: object,\n",
       "         date  value\n",
       " 0 1971-01-04   2.39\n",
       " 1 1971-01-05   2.39\n",
       " 2 1971-01-06   2.40)"
      ]
     },
     "execution_count": 414,
     "metadata": {},
     "output_type": "execute_result"
    }
   ],
   "source": [
    "df_gdp_usd = import_csv_with_date_column(\"data/exchange-rate-historical-chart_pound-dollar.csv\",  \"date\", 15)\n",
    "df_gdp_usd.dtypes, df_gdp_usd.head(3)"
   ]
  },
  {
   "cell_type": "code",
   "execution_count": 415,
   "id": "336bba5a",
   "metadata": {},
   "outputs": [
    {
     "data": {
      "text/plain": [
       "(date     datetime64[ns]\n",
       " value           float64\n",
       " dtype: object,\n",
       "         date  value\n",
       " 0 1999-01-04   1.18\n",
       " 1 1999-01-05   1.18\n",
       " 2 1999-01-06   1.16)"
      ]
     },
     "execution_count": 415,
     "metadata": {},
     "output_type": "execute_result"
    }
   ],
   "source": [
    "df_eur_usd = import_csv_with_date_column(\"data/exchange-rate-historical-chart_euro-dollar.csv\",  \"date\", 15)\n",
    "df_eur_usd.dtypes, df_eur_usd.head(3)"
   ]
  },
  {
   "cell_type": "code",
   "execution_count": 416,
   "id": "6ad32864",
   "metadata": {},
   "outputs": [
    {
     "data": {
      "text/plain": [
       "(        date  value\n",
       " 0 1991-01-02   1.94\n",
       " 1 1991-01-03   1.95\n",
       " 2 1991-01-04   1.93\n",
       " 3 1991-01-07   1.91\n",
       " 4 1991-01-08   1.91,\n",
       "         date  value\n",
       " 0 1999-01-04   1.18\n",
       " 1 1999-01-05   1.18\n",
       " 2 1999-01-06   1.16\n",
       " 3 1999-01-07   1.17\n",
       " 4 1999-01-08   1.16)"
      ]
     },
     "execution_count": 416,
     "metadata": {},
     "output_type": "execute_result"
    }
   ],
   "source": [
    "df_gdp_usd = slice_2_date_range(df_gdp_usd, \"date\", \"1991-01-01\", \"2021-12-31\")\n",
    "df_eur_usd = slice_2_date_range(df_eur_usd, \"date\", \"1991-01-01\", \"2021-12-31\")\n",
    "\n",
    "df_gdp_usd.head(), df_eur_usd.head()"
   ]
  },
  {
   "cell_type": "code",
   "execution_count": 417,
   "id": "1584b985",
   "metadata": {},
   "outputs": [
    {
     "data": {
      "text/plain": [
       "Index(['date', 'value'], dtype='object')"
      ]
     },
     "execution_count": 417,
     "metadata": {},
     "output_type": "execute_result"
    }
   ],
   "source": [
    "df_gdp_usd.columns"
   ]
  },
  {
   "cell_type": "code",
   "execution_count": 418,
   "id": "594b98d1",
   "metadata": {},
   "outputs": [
    {
     "name": "stdout",
     "output_type": "stream",
     "text": [
      "1.5725745846764236\n",
      "1.1970355369182681\n"
     ]
    }
   ],
   "source": [
    "rate_gdp_usd = df_gdp_usd[\"value\"].mean()\n",
    "print(rate_gdp_usd)\n",
    "rate_eur_usd = df_eur_usd[\"value\"].mean()\n",
    "print(rate_eur_usd)"
   ]
  },
  {
   "cell_type": "code",
   "execution_count": 3,
   "id": "ce73d50e",
   "metadata": {},
   "outputs": [],
   "source": [
    "def import_multiple_csv_files_2_df (relative_path):\n",
    "    \"\"\" Function uses os and glob packages to import multiple csv files into one dataframe. \n",
    "    The current working directory should be the one where this notebook is located.\n",
    "    INPUT: \n",
    "    Relative path to the files e.g. \"./data/Kurac*.csv\"\n",
    "    OUTPUT: \n",
    "    One dataframe containting all csv files concatenated together over axis = 0.\n",
    "    \"\"\"\n",
    "    path = os.getcwd()\n",
    "    files = glob.glob(os.path.join(path, relative_path))\n",
    "    \n",
    "    print('Glob search with parameters:', relative_path)\n",
    "   # print('Ingested files:')\n",
    "    li = []\n",
    "    for file in files:\n",
    "        df_temp = pd.read_csv(file, index_col = None, header = 0)\n",
    "        li.append(df_temp)\n",
    "        #print(file)\n",
    "    try:    \n",
    "        df = pd.concat(li, axis=0, ignore_index=True)\n",
    "        print('Done.')\n",
    "\n",
    "    except:\n",
    "        print('Something went wrong the concatenation of the files, returning None. Is the relative_path correctly set?')\n",
    "        return(None)\n",
    "    \n",
    "    return (df)"
   ]
  },
  {
   "cell_type": "code",
   "execution_count": 436,
   "id": "ff77f982",
   "metadata": {},
   "outputs": [
    {
     "name": "stdout",
     "output_type": "stream",
     "text": [
      "Glob search with parameters: ./data/Brickset*.csv\n",
      "Done.\n"
     ]
    }
   ],
   "source": [
    "df = import_multiple_csv_files_2_df(\"./data/Brickset*.csv\")"
   ]
  },
  {
   "cell_type": "markdown",
   "id": "ad5f3452",
   "metadata": {},
   "source": [
    "**Droping unnessecary columns:**"
   ]
  },
  {
   "cell_type": "code",
   "execution_count": 437,
   "id": "7c9f463e",
   "metadata": {},
   "outputs": [],
   "source": [
    "df.drop(['Qty owned','UPC','Qty owned new', \n",
    "         'Qty owned used', 'EAN','Priority','Wanted', 'Height', 'Depth', 'Weight', 'Width', \n",
    "         'Notes','Qty wanted','RRP (CAD)','Flag 1 not used', 'Flag 2 not used', 'Flag 3 not used',\n",
    "         'Flag 4 not used', 'Flag 5 not used', 'Flag 6 not used','Flag 7 not used', 'Flag 8 not used'], axis=1, inplace=True)"
   ]
  },
  {
   "cell_type": "markdown",
   "id": "30cfb3d4",
   "metadata": {},
   "source": [
    "**Adapting columns names to be able to user dot notation and more intuitive code(e.g. price instead of rrp):**"
   ]
  },
  {
   "cell_type": "code",
   "execution_count": 438,
   "id": "80839907",
   "metadata": {},
   "outputs": [
    {
     "data": {
      "text/plain": [
       "Index(['number', 'theme', 'subtheme', 'year', 'set_name', 'minifigs', 'pieces',\n",
       "       'rrp_gbp', 'rrp_usd', 'rrp_eur', 'value_new_usd', 'value_used_usd',\n",
       "       'launch_date', 'exit_date'],\n",
       "      dtype='object')"
      ]
     },
     "execution_count": 438,
     "metadata": {},
     "output_type": "execute_result"
    }
   ],
   "source": [
    "df.rename(columns = lambda x : x.replace(' ', '_').replace('(','').replace(')','').lower().strip(), inplace = True)\n",
    "df.columns"
   ]
  },
  {
   "cell_type": "code",
   "execution_count": 439,
   "id": "8e7c10eb",
   "metadata": {},
   "outputs": [
    {
     "data": {
      "text/plain": [
       "Index(['number', 'theme', 'subtheme', 'year', 'set_name', 'minifigs', 'pieces',\n",
       "       'rrp_gbp', 'price', 'rrp_eur', 'value_new', 'value_used', 'launch_date',\n",
       "       'exit_date'],\n",
       "      dtype='object')"
      ]
     },
     "execution_count": 439,
     "metadata": {},
     "output_type": "execute_result"
    }
   ],
   "source": [
    "df.rename(columns={'rrp_usd': 'price', 'value_new_usd': 'value_new', 'value_used_usd':'value_used'}, inplace = True)\n",
    "df.columns"
   ]
  },
  {
   "cell_type": "code",
   "execution_count": 440,
   "id": "ff4caacb",
   "metadata": {},
   "outputs": [],
   "source": [
    "df.sort_values([\"year\",\"launch_date\"], inplace = True)"
   ]
  },
  {
   "cell_type": "code",
   "execution_count": 441,
   "id": "62a3a06a",
   "metadata": {},
   "outputs": [],
   "source": [
    "#Parse dates\n",
    "#df['launch_date'] = pd.to_datetime(df['launch_date'])\n",
    "#df['exit_date'] = pd.to_datetime(df['exit_date'])"
   ]
  },
  {
   "cell_type": "code",
   "execution_count": 442,
   "id": "84101fb1",
   "metadata": {},
   "outputs": [
    {
     "data": {
      "text/html": [
       "<div>\n",
       "<style scoped>\n",
       "    .dataframe tbody tr th:only-of-type {\n",
       "        vertical-align: middle;\n",
       "    }\n",
       "\n",
       "    .dataframe tbody tr th {\n",
       "        vertical-align: top;\n",
       "    }\n",
       "\n",
       "    .dataframe thead th {\n",
       "        text-align: right;\n",
       "    }\n",
       "</style>\n",
       "<table border=\"1\" class=\"dataframe\">\n",
       "  <thead>\n",
       "    <tr style=\"text-align: right;\">\n",
       "      <th></th>\n",
       "      <th>number</th>\n",
       "      <th>theme</th>\n",
       "      <th>subtheme</th>\n",
       "      <th>year</th>\n",
       "      <th>set_name</th>\n",
       "      <th>minifigs</th>\n",
       "      <th>pieces</th>\n",
       "      <th>rrp_gbp</th>\n",
       "      <th>price</th>\n",
       "      <th>rrp_eur</th>\n",
       "      <th>value_new</th>\n",
       "      <th>value_used</th>\n",
       "      <th>launch_date</th>\n",
       "      <th>exit_date</th>\n",
       "    </tr>\n",
       "  </thead>\n",
       "  <tbody>\n",
       "    <tr>\n",
       "      <th>0</th>\n",
       "      <td>819-1</td>\n",
       "      <td>Basic</td>\n",
       "      <td>Supplementaries</td>\n",
       "      <td>1991</td>\n",
       "      <td>Blue baseplate</td>\n",
       "      <td>NaN</td>\n",
       "      <td>1.00</td>\n",
       "      <td>NaN</td>\n",
       "      <td>5.50</td>\n",
       "      <td>NaN</td>\n",
       "      <td>6.26</td>\n",
       "      <td>NaN</td>\n",
       "      <td>NaN</td>\n",
       "      <td>NaN</td>\n",
       "    </tr>\n",
       "    <tr>\n",
       "      <th>1</th>\n",
       "      <td>1040-1</td>\n",
       "      <td>Dacta</td>\n",
       "      <td>NaN</td>\n",
       "      <td>1991</td>\n",
       "      <td>Farm</td>\n",
       "      <td>4.00</td>\n",
       "      <td>89.00</td>\n",
       "      <td>NaN</td>\n",
       "      <td>NaN</td>\n",
       "      <td>NaN</td>\n",
       "      <td>NaN</td>\n",
       "      <td>NaN</td>\n",
       "      <td>NaN</td>\n",
       "      <td>NaN</td>\n",
       "    </tr>\n",
       "    <tr>\n",
       "      <th>2</th>\n",
       "      <td>1474-1</td>\n",
       "      <td>Basic</td>\n",
       "      <td>Universal Building Set</td>\n",
       "      <td>1991</td>\n",
       "      <td>Basic Building Set with Gift Item</td>\n",
       "      <td>1.00</td>\n",
       "      <td>69.00</td>\n",
       "      <td>NaN</td>\n",
       "      <td>NaN</td>\n",
       "      <td>NaN</td>\n",
       "      <td>24.64</td>\n",
       "      <td>NaN</td>\n",
       "      <td>NaN</td>\n",
       "      <td>NaN</td>\n",
       "    </tr>\n",
       "    <tr>\n",
       "      <th>3</th>\n",
       "      <td>1475-1</td>\n",
       "      <td>Town</td>\n",
       "      <td>Flight</td>\n",
       "      <td>1991</td>\n",
       "      <td>Airport Security Squad</td>\n",
       "      <td>2.00</td>\n",
       "      <td>123.00</td>\n",
       "      <td>NaN</td>\n",
       "      <td>10.00</td>\n",
       "      <td>NaN</td>\n",
       "      <td>165.90</td>\n",
       "      <td>49.80</td>\n",
       "      <td>NaN</td>\n",
       "      <td>NaN</td>\n",
       "    </tr>\n",
       "    <tr>\n",
       "      <th>4</th>\n",
       "      <td>1476-1</td>\n",
       "      <td>Assorted</td>\n",
       "      <td>Bonus/Value Pack</td>\n",
       "      <td>1991</td>\n",
       "      <td>Five Set Bonus Pack</td>\n",
       "      <td>NaN</td>\n",
       "      <td>158.00</td>\n",
       "      <td>NaN</td>\n",
       "      <td>NaN</td>\n",
       "      <td>NaN</td>\n",
       "      <td>450.00</td>\n",
       "      <td>100.00</td>\n",
       "      <td>NaN</td>\n",
       "      <td>NaN</td>\n",
       "    </tr>\n",
       "  </tbody>\n",
       "</table>\n",
       "</div>"
      ],
      "text/plain": [
       "   number     theme                subtheme  year  \\\n",
       "0   819-1     Basic         Supplementaries  1991   \n",
       "1  1040-1     Dacta                     NaN  1991   \n",
       "2  1474-1     Basic  Universal Building Set  1991   \n",
       "3  1475-1      Town                  Flight  1991   \n",
       "4  1476-1  Assorted        Bonus/Value Pack  1991   \n",
       "\n",
       "                            set_name  minifigs  pieces  rrp_gbp  price  \\\n",
       "0                     Blue baseplate       NaN    1.00      NaN   5.50   \n",
       "1                               Farm      4.00   89.00      NaN    NaN   \n",
       "2  Basic Building Set with Gift Item      1.00   69.00      NaN    NaN   \n",
       "3             Airport Security Squad      2.00  123.00      NaN  10.00   \n",
       "4                Five Set Bonus Pack       NaN  158.00      NaN    NaN   \n",
       "\n",
       "   rrp_eur  value_new  value_used launch_date exit_date  \n",
       "0      NaN       6.26         NaN         NaN       NaN  \n",
       "1      NaN        NaN         NaN         NaN       NaN  \n",
       "2      NaN      24.64         NaN         NaN       NaN  \n",
       "3      NaN     165.90       49.80         NaN       NaN  \n",
       "4      NaN     450.00      100.00         NaN       NaN  "
      ]
     },
     "execution_count": 442,
     "metadata": {},
     "output_type": "execute_result"
    }
   ],
   "source": [
    "df.head()"
   ]
  },
  {
   "cell_type": "markdown",
   "id": "9694a235",
   "metadata": {},
   "source": [
    "### Exploring Content"
   ]
  },
  {
   "cell_type": "markdown",
   "id": "5254b14d",
   "metadata": {},
   "source": [
    "**Checking types per column:**"
   ]
  },
  {
   "cell_type": "code",
   "execution_count": 443,
   "id": "fa52fba2",
   "metadata": {},
   "outputs": [
    {
     "data": {
      "text/html": [
       "<div>\n",
       "<style scoped>\n",
       "    .dataframe tbody tr th:only-of-type {\n",
       "        vertical-align: middle;\n",
       "    }\n",
       "\n",
       "    .dataframe tbody tr th {\n",
       "        vertical-align: top;\n",
       "    }\n",
       "\n",
       "    .dataframe thead th {\n",
       "        text-align: right;\n",
       "    }\n",
       "</style>\n",
       "<table border=\"1\" class=\"dataframe\">\n",
       "  <thead>\n",
       "    <tr style=\"text-align: right;\">\n",
       "      <th></th>\n",
       "      <th>year</th>\n",
       "      <th>minifigs</th>\n",
       "      <th>pieces</th>\n",
       "      <th>rrp_gbp</th>\n",
       "      <th>price</th>\n",
       "      <th>rrp_eur</th>\n",
       "      <th>value_new</th>\n",
       "      <th>value_used</th>\n",
       "    </tr>\n",
       "  </thead>\n",
       "  <tbody>\n",
       "    <tr>\n",
       "      <th>count</th>\n",
       "      <td>15,634.00</td>\n",
       "      <td>7,171.00</td>\n",
       "      <td>12,118.00</td>\n",
       "      <td>8,172.00</td>\n",
       "      <td>10,234.00</td>\n",
       "      <td>3,900.00</td>\n",
       "      <td>10,541.00</td>\n",
       "      <td>8,751.00</td>\n",
       "    </tr>\n",
       "    <tr>\n",
       "      <th>mean</th>\n",
       "      <td>2,010.44</td>\n",
       "      <td>2.67</td>\n",
       "      <td>233.25</td>\n",
       "      <td>26.55</td>\n",
       "      <td>29.97</td>\n",
       "      <td>38.66</td>\n",
       "      <td>79.04</td>\n",
       "      <td>41.11</td>\n",
       "    </tr>\n",
       "    <tr>\n",
       "      <th>std</th>\n",
       "      <td>8.05</td>\n",
       "      <td>2.79</td>\n",
       "      <td>470.34</td>\n",
       "      <td>39.71</td>\n",
       "      <td>44.52</td>\n",
       "      <td>56.64</td>\n",
       "      <td>213.08</td>\n",
       "      <td>75.64</td>\n",
       "    </tr>\n",
       "    <tr>\n",
       "      <th>min</th>\n",
       "      <td>1,991.00</td>\n",
       "      <td>1.00</td>\n",
       "      <td>0.00</td>\n",
       "      <td>0.00</td>\n",
       "      <td>0.00</td>\n",
       "      <td>0.01</td>\n",
       "      <td>0.00</td>\n",
       "      <td>0.25</td>\n",
       "    </tr>\n",
       "    <tr>\n",
       "      <th>25%</th>\n",
       "      <td>2,004.00</td>\n",
       "      <td>1.00</td>\n",
       "      <td>24.00</td>\n",
       "      <td>5.99</td>\n",
       "      <td>6.99</td>\n",
       "      <td>9.99</td>\n",
       "      <td>11.05</td>\n",
       "      <td>6.57</td>\n",
       "    </tr>\n",
       "    <tr>\n",
       "      <th>50%</th>\n",
       "      <td>2,012.00</td>\n",
       "      <td>2.00</td>\n",
       "      <td>75.00</td>\n",
       "      <td>14.99</td>\n",
       "      <td>15.00</td>\n",
       "      <td>19.99</td>\n",
       "      <td>28.98</td>\n",
       "      <td>16.23</td>\n",
       "    </tr>\n",
       "    <tr>\n",
       "      <th>75%</th>\n",
       "      <td>2,017.00</td>\n",
       "      <td>3.00</td>\n",
       "      <td>251.00</td>\n",
       "      <td>29.99</td>\n",
       "      <td>34.99</td>\n",
       "      <td>44.95</td>\n",
       "      <td>74.89</td>\n",
       "      <td>43.35</td>\n",
       "    </tr>\n",
       "    <tr>\n",
       "      <th>max</th>\n",
       "      <td>2,022.00</td>\n",
       "      <td>33.00</td>\n",
       "      <td>11,695.00</td>\n",
       "      <td>699.99</td>\n",
       "      <td>799.99</td>\n",
       "      <td>799.99</td>\n",
       "      <td>9,773.99</td>\n",
       "      <td>1,391.39</td>\n",
       "    </tr>\n",
       "  </tbody>\n",
       "</table>\n",
       "</div>"
      ],
      "text/plain": [
       "           year  minifigs    pieces  rrp_gbp     price  rrp_eur  value_new  \\\n",
       "count 15,634.00  7,171.00 12,118.00 8,172.00 10,234.00 3,900.00  10,541.00   \n",
       "mean   2,010.44      2.67    233.25    26.55     29.97    38.66      79.04   \n",
       "std        8.05      2.79    470.34    39.71     44.52    56.64     213.08   \n",
       "min    1,991.00      1.00      0.00     0.00      0.00     0.01       0.00   \n",
       "25%    2,004.00      1.00     24.00     5.99      6.99     9.99      11.05   \n",
       "50%    2,012.00      2.00     75.00    14.99     15.00    19.99      28.98   \n",
       "75%    2,017.00      3.00    251.00    29.99     34.99    44.95      74.89   \n",
       "max    2,022.00     33.00 11,695.00   699.99    799.99   799.99   9,773.99   \n",
       "\n",
       "       value_used  \n",
       "count    8,751.00  \n",
       "mean        41.11  \n",
       "std         75.64  \n",
       "min          0.25  \n",
       "25%          6.57  \n",
       "50%         16.23  \n",
       "75%         43.35  \n",
       "max      1,391.39  "
      ]
     },
     "execution_count": 443,
     "metadata": {},
     "output_type": "execute_result"
    }
   ],
   "source": [
    " df.describe()"
   ]
  },
  {
   "cell_type": "code",
   "execution_count": 444,
   "id": "0a37b666",
   "metadata": {},
   "outputs": [
    {
     "name": "stdout",
     "output_type": "stream",
     "text": [
      "<class 'pandas.core.frame.DataFrame'>\n",
      "Int64Index: 15634 entries, 0 to 4106\n",
      "Data columns (total 14 columns):\n",
      " #   Column       Non-Null Count  Dtype  \n",
      "---  ------       --------------  -----  \n",
      " 0   number       15634 non-null  object \n",
      " 1   theme        15634 non-null  object \n",
      " 2   subtheme     12655 non-null  object \n",
      " 3   year         15634 non-null  int64  \n",
      " 4   set_name     15634 non-null  object \n",
      " 5   minifigs     7171 non-null   float64\n",
      " 6   pieces       12118 non-null  float64\n",
      " 7   rrp_gbp      8172 non-null   float64\n",
      " 8   price        10234 non-null  float64\n",
      " 9   rrp_eur      3900 non-null   float64\n",
      " 10  value_new    10541 non-null  float64\n",
      " 11  value_used   8751 non-null   float64\n",
      " 12  launch_date  6624 non-null   object \n",
      " 13  exit_date    6624 non-null   object \n",
      "dtypes: float64(7), int64(1), object(6)\n",
      "memory usage: 1.8+ MB\n"
     ]
    }
   ],
   "source": [
    "df.info()"
   ]
  },
  {
   "cell_type": "markdown",
   "id": "45ee3058",
   "metadata": {},
   "source": [
    "**Check if there are duplicated values:**"
   ]
  },
  {
   "cell_type": "code",
   "execution_count": 445,
   "id": "167e8aa1",
   "metadata": {
    "scrolled": true
   },
   "outputs": [
    {
     "data": {
      "text/html": [
       "<div>\n",
       "<style scoped>\n",
       "    .dataframe tbody tr th:only-of-type {\n",
       "        vertical-align: middle;\n",
       "    }\n",
       "\n",
       "    .dataframe tbody tr th {\n",
       "        vertical-align: top;\n",
       "    }\n",
       "\n",
       "    .dataframe thead th {\n",
       "        text-align: right;\n",
       "    }\n",
       "</style>\n",
       "<table border=\"1\" class=\"dataframe\">\n",
       "  <thead>\n",
       "    <tr style=\"text-align: right;\">\n",
       "      <th></th>\n",
       "      <th>number</th>\n",
       "      <th>theme</th>\n",
       "      <th>subtheme</th>\n",
       "      <th>year</th>\n",
       "      <th>set_name</th>\n",
       "      <th>minifigs</th>\n",
       "      <th>pieces</th>\n",
       "      <th>rrp_gbp</th>\n",
       "      <th>price</th>\n",
       "      <th>rrp_eur</th>\n",
       "      <th>value_new</th>\n",
       "      <th>value_used</th>\n",
       "      <th>launch_date</th>\n",
       "      <th>exit_date</th>\n",
       "    </tr>\n",
       "  </thead>\n",
       "  <tbody>\n",
       "  </tbody>\n",
       "</table>\n",
       "</div>"
      ],
      "text/plain": [
       "Empty DataFrame\n",
       "Columns: [number, theme, subtheme, year, set_name, minifigs, pieces, rrp_gbp, price, rrp_eur, value_new, value_used, launch_date, exit_date]\n",
       "Index: []"
      ]
     },
     "execution_count": 445,
     "metadata": {},
     "output_type": "execute_result"
    }
   ],
   "source": [
    "df[df.duplicated()]"
   ]
  },
  {
   "cell_type": "markdown",
   "id": "2d63c2e2",
   "metadata": {},
   "source": [
    "**Unique values per column:**"
   ]
  },
  {
   "cell_type": "code",
   "execution_count": 446,
   "id": "2a73a5df",
   "metadata": {
    "scrolled": true
   },
   "outputs": [
    {
     "data": {
      "text/plain": [
       "minifigs          31\n",
       "year              32\n",
       "theme            141\n",
       "rrp_eur          143\n",
       "exit_date        165\n",
       "rrp_gbp          270\n",
       "price            322\n",
       "launch_date      404\n",
       "subtheme         801\n",
       "pieces          1332\n",
       "value_used      4522\n",
       "value_new       6178\n",
       "set_name       13328\n",
       "number         15634\n",
       "dtype: int64"
      ]
     },
     "execution_count": 446,
     "metadata": {},
     "output_type": "execute_result"
    }
   ],
   "source": [
    "df.nunique().sort_values(ascending = True)"
   ]
  },
  {
   "cell_type": "markdown",
   "id": "880efc1d",
   "metadata": {},
   "source": [
    "**Investigate missing values in data set:**"
   ]
  },
  {
   "cell_type": "code",
   "execution_count": 447,
   "id": "1ec5188f",
   "metadata": {},
   "outputs": [
    {
     "name": "stdout",
     "output_type": "stream",
     "text": [
      "Percentages of missing values:\n",
      "number         0.00\n",
      "theme          0.00\n",
      "subtheme      19.05\n",
      "year           0.00\n",
      "set_name       0.00\n",
      "minifigs      54.13\n",
      "pieces        22.49\n",
      "rrp_gbp       47.73\n",
      "price         34.54\n",
      "rrp_eur       75.05\n",
      "value_new     32.58\n",
      "value_used    44.03\n",
      "launch_date   57.63\n",
      "exit_date     57.63\n",
      "dtype: float64\n"
     ]
    }
   ],
   "source": [
    "print(\"Percentages of missing values:\\n{}\".format(df.isnull().sum()/df.shape[0]*100))"
   ]
  },
  {
   "cell_type": "code",
   "execution_count": 448,
   "id": "f294fb3e",
   "metadata": {},
   "outputs": [],
   "source": [
    "df_missing_val_per = pd.DataFrame(df.isnull().sum()/df.shape[0]*100, columns=['value'])\n",
    "df_missing_val_per_sorted = df_missing_val_per.sort_values(by = \"value\", ascending = False)"
   ]
  },
  {
   "cell_type": "code",
   "execution_count": 449,
   "id": "fb5b378b",
   "metadata": {},
   "outputs": [
    {
     "data": {
      "application/vnd.plotly.v1+json": {
       "config": {
        "plotlyServerURL": "https://plot.ly"
       },
       "data": [
        {
         "alignmentgroup": "True",
         "hovertemplate": "index=%{x}<br>percentage of missing values=%{y}<extra></extra>",
         "legendgroup": "",
         "marker": {
          "color": "#636efa",
          "pattern": {
           "shape": ""
          }
         },
         "name": "",
         "offsetgroup": "",
         "orientation": "v",
         "showlegend": false,
         "textposition": "auto",
         "type": "bar",
         "x": [
          "rrp_eur",
          "launch_date",
          "exit_date",
          "minifigs",
          "rrp_gbp",
          "value_used",
          "price",
          "value_new",
          "pieces",
          "subtheme",
          "number",
          "theme",
          "year",
          "set_name"
         ],
         "xaxis": "x",
         "y": [
          75.05436868363823,
          57.63080465651784,
          57.63080465651784,
          54.13201995650505,
          47.72930791863887,
          44.02584111551746,
          34.54010489957785,
          32.57643597287962,
          22.48944607905846,
          19.05462453626711,
          0,
          0,
          0,
          0
         ],
         "yaxis": "y"
        }
       ],
       "layout": {
        "barmode": "relative",
        "legend": {
         "tracegroupgap": 0
        },
        "margin": {
         "t": 60
        },
        "template": {
         "data": {
          "bar": [
           {
            "error_x": {
             "color": "#2a3f5f"
            },
            "error_y": {
             "color": "#2a3f5f"
            },
            "marker": {
             "line": {
              "color": "#E5ECF6",
              "width": 0.5
             },
             "pattern": {
              "fillmode": "overlay",
              "size": 10,
              "solidity": 0.2
             }
            },
            "type": "bar"
           }
          ],
          "barpolar": [
           {
            "marker": {
             "line": {
              "color": "#E5ECF6",
              "width": 0.5
             },
             "pattern": {
              "fillmode": "overlay",
              "size": 10,
              "solidity": 0.2
             }
            },
            "type": "barpolar"
           }
          ],
          "carpet": [
           {
            "aaxis": {
             "endlinecolor": "#2a3f5f",
             "gridcolor": "white",
             "linecolor": "white",
             "minorgridcolor": "white",
             "startlinecolor": "#2a3f5f"
            },
            "baxis": {
             "endlinecolor": "#2a3f5f",
             "gridcolor": "white",
             "linecolor": "white",
             "minorgridcolor": "white",
             "startlinecolor": "#2a3f5f"
            },
            "type": "carpet"
           }
          ],
          "choropleth": [
           {
            "colorbar": {
             "outlinewidth": 0,
             "ticks": ""
            },
            "type": "choropleth"
           }
          ],
          "contour": [
           {
            "colorbar": {
             "outlinewidth": 0,
             "ticks": ""
            },
            "colorscale": [
             [
              0,
              "#0d0887"
             ],
             [
              0.1111111111111111,
              "#46039f"
             ],
             [
              0.2222222222222222,
              "#7201a8"
             ],
             [
              0.3333333333333333,
              "#9c179e"
             ],
             [
              0.4444444444444444,
              "#bd3786"
             ],
             [
              0.5555555555555556,
              "#d8576b"
             ],
             [
              0.6666666666666666,
              "#ed7953"
             ],
             [
              0.7777777777777778,
              "#fb9f3a"
             ],
             [
              0.8888888888888888,
              "#fdca26"
             ],
             [
              1,
              "#f0f921"
             ]
            ],
            "type": "contour"
           }
          ],
          "contourcarpet": [
           {
            "colorbar": {
             "outlinewidth": 0,
             "ticks": ""
            },
            "type": "contourcarpet"
           }
          ],
          "heatmap": [
           {
            "colorbar": {
             "outlinewidth": 0,
             "ticks": ""
            },
            "colorscale": [
             [
              0,
              "#0d0887"
             ],
             [
              0.1111111111111111,
              "#46039f"
             ],
             [
              0.2222222222222222,
              "#7201a8"
             ],
             [
              0.3333333333333333,
              "#9c179e"
             ],
             [
              0.4444444444444444,
              "#bd3786"
             ],
             [
              0.5555555555555556,
              "#d8576b"
             ],
             [
              0.6666666666666666,
              "#ed7953"
             ],
             [
              0.7777777777777778,
              "#fb9f3a"
             ],
             [
              0.8888888888888888,
              "#fdca26"
             ],
             [
              1,
              "#f0f921"
             ]
            ],
            "type": "heatmap"
           }
          ],
          "heatmapgl": [
           {
            "colorbar": {
             "outlinewidth": 0,
             "ticks": ""
            },
            "colorscale": [
             [
              0,
              "#0d0887"
             ],
             [
              0.1111111111111111,
              "#46039f"
             ],
             [
              0.2222222222222222,
              "#7201a8"
             ],
             [
              0.3333333333333333,
              "#9c179e"
             ],
             [
              0.4444444444444444,
              "#bd3786"
             ],
             [
              0.5555555555555556,
              "#d8576b"
             ],
             [
              0.6666666666666666,
              "#ed7953"
             ],
             [
              0.7777777777777778,
              "#fb9f3a"
             ],
             [
              0.8888888888888888,
              "#fdca26"
             ],
             [
              1,
              "#f0f921"
             ]
            ],
            "type": "heatmapgl"
           }
          ],
          "histogram": [
           {
            "marker": {
             "pattern": {
              "fillmode": "overlay",
              "size": 10,
              "solidity": 0.2
             }
            },
            "type": "histogram"
           }
          ],
          "histogram2d": [
           {
            "colorbar": {
             "outlinewidth": 0,
             "ticks": ""
            },
            "colorscale": [
             [
              0,
              "#0d0887"
             ],
             [
              0.1111111111111111,
              "#46039f"
             ],
             [
              0.2222222222222222,
              "#7201a8"
             ],
             [
              0.3333333333333333,
              "#9c179e"
             ],
             [
              0.4444444444444444,
              "#bd3786"
             ],
             [
              0.5555555555555556,
              "#d8576b"
             ],
             [
              0.6666666666666666,
              "#ed7953"
             ],
             [
              0.7777777777777778,
              "#fb9f3a"
             ],
             [
              0.8888888888888888,
              "#fdca26"
             ],
             [
              1,
              "#f0f921"
             ]
            ],
            "type": "histogram2d"
           }
          ],
          "histogram2dcontour": [
           {
            "colorbar": {
             "outlinewidth": 0,
             "ticks": ""
            },
            "colorscale": [
             [
              0,
              "#0d0887"
             ],
             [
              0.1111111111111111,
              "#46039f"
             ],
             [
              0.2222222222222222,
              "#7201a8"
             ],
             [
              0.3333333333333333,
              "#9c179e"
             ],
             [
              0.4444444444444444,
              "#bd3786"
             ],
             [
              0.5555555555555556,
              "#d8576b"
             ],
             [
              0.6666666666666666,
              "#ed7953"
             ],
             [
              0.7777777777777778,
              "#fb9f3a"
             ],
             [
              0.8888888888888888,
              "#fdca26"
             ],
             [
              1,
              "#f0f921"
             ]
            ],
            "type": "histogram2dcontour"
           }
          ],
          "mesh3d": [
           {
            "colorbar": {
             "outlinewidth": 0,
             "ticks": ""
            },
            "type": "mesh3d"
           }
          ],
          "parcoords": [
           {
            "line": {
             "colorbar": {
              "outlinewidth": 0,
              "ticks": ""
             }
            },
            "type": "parcoords"
           }
          ],
          "pie": [
           {
            "automargin": true,
            "type": "pie"
           }
          ],
          "scatter": [
           {
            "marker": {
             "colorbar": {
              "outlinewidth": 0,
              "ticks": ""
             }
            },
            "type": "scatter"
           }
          ],
          "scatter3d": [
           {
            "line": {
             "colorbar": {
              "outlinewidth": 0,
              "ticks": ""
             }
            },
            "marker": {
             "colorbar": {
              "outlinewidth": 0,
              "ticks": ""
             }
            },
            "type": "scatter3d"
           }
          ],
          "scattercarpet": [
           {
            "marker": {
             "colorbar": {
              "outlinewidth": 0,
              "ticks": ""
             }
            },
            "type": "scattercarpet"
           }
          ],
          "scattergeo": [
           {
            "marker": {
             "colorbar": {
              "outlinewidth": 0,
              "ticks": ""
             }
            },
            "type": "scattergeo"
           }
          ],
          "scattergl": [
           {
            "marker": {
             "colorbar": {
              "outlinewidth": 0,
              "ticks": ""
             }
            },
            "type": "scattergl"
           }
          ],
          "scattermapbox": [
           {
            "marker": {
             "colorbar": {
              "outlinewidth": 0,
              "ticks": ""
             }
            },
            "type": "scattermapbox"
           }
          ],
          "scatterpolar": [
           {
            "marker": {
             "colorbar": {
              "outlinewidth": 0,
              "ticks": ""
             }
            },
            "type": "scatterpolar"
           }
          ],
          "scatterpolargl": [
           {
            "marker": {
             "colorbar": {
              "outlinewidth": 0,
              "ticks": ""
             }
            },
            "type": "scatterpolargl"
           }
          ],
          "scatterternary": [
           {
            "marker": {
             "colorbar": {
              "outlinewidth": 0,
              "ticks": ""
             }
            },
            "type": "scatterternary"
           }
          ],
          "surface": [
           {
            "colorbar": {
             "outlinewidth": 0,
             "ticks": ""
            },
            "colorscale": [
             [
              0,
              "#0d0887"
             ],
             [
              0.1111111111111111,
              "#46039f"
             ],
             [
              0.2222222222222222,
              "#7201a8"
             ],
             [
              0.3333333333333333,
              "#9c179e"
             ],
             [
              0.4444444444444444,
              "#bd3786"
             ],
             [
              0.5555555555555556,
              "#d8576b"
             ],
             [
              0.6666666666666666,
              "#ed7953"
             ],
             [
              0.7777777777777778,
              "#fb9f3a"
             ],
             [
              0.8888888888888888,
              "#fdca26"
             ],
             [
              1,
              "#f0f921"
             ]
            ],
            "type": "surface"
           }
          ],
          "table": [
           {
            "cells": {
             "fill": {
              "color": "#EBF0F8"
             },
             "line": {
              "color": "white"
             }
            },
            "header": {
             "fill": {
              "color": "#C8D4E3"
             },
             "line": {
              "color": "white"
             }
            },
            "type": "table"
           }
          ]
         },
         "layout": {
          "annotationdefaults": {
           "arrowcolor": "#2a3f5f",
           "arrowhead": 0,
           "arrowwidth": 1
          },
          "autotypenumbers": "strict",
          "coloraxis": {
           "colorbar": {
            "outlinewidth": 0,
            "ticks": ""
           }
          },
          "colorscale": {
           "diverging": [
            [
             0,
             "#8e0152"
            ],
            [
             0.1,
             "#c51b7d"
            ],
            [
             0.2,
             "#de77ae"
            ],
            [
             0.3,
             "#f1b6da"
            ],
            [
             0.4,
             "#fde0ef"
            ],
            [
             0.5,
             "#f7f7f7"
            ],
            [
             0.6,
             "#e6f5d0"
            ],
            [
             0.7,
             "#b8e186"
            ],
            [
             0.8,
             "#7fbc41"
            ],
            [
             0.9,
             "#4d9221"
            ],
            [
             1,
             "#276419"
            ]
           ],
           "sequential": [
            [
             0,
             "#0d0887"
            ],
            [
             0.1111111111111111,
             "#46039f"
            ],
            [
             0.2222222222222222,
             "#7201a8"
            ],
            [
             0.3333333333333333,
             "#9c179e"
            ],
            [
             0.4444444444444444,
             "#bd3786"
            ],
            [
             0.5555555555555556,
             "#d8576b"
            ],
            [
             0.6666666666666666,
             "#ed7953"
            ],
            [
             0.7777777777777778,
             "#fb9f3a"
            ],
            [
             0.8888888888888888,
             "#fdca26"
            ],
            [
             1,
             "#f0f921"
            ]
           ],
           "sequentialminus": [
            [
             0,
             "#0d0887"
            ],
            [
             0.1111111111111111,
             "#46039f"
            ],
            [
             0.2222222222222222,
             "#7201a8"
            ],
            [
             0.3333333333333333,
             "#9c179e"
            ],
            [
             0.4444444444444444,
             "#bd3786"
            ],
            [
             0.5555555555555556,
             "#d8576b"
            ],
            [
             0.6666666666666666,
             "#ed7953"
            ],
            [
             0.7777777777777778,
             "#fb9f3a"
            ],
            [
             0.8888888888888888,
             "#fdca26"
            ],
            [
             1,
             "#f0f921"
            ]
           ]
          },
          "colorway": [
           "#636efa",
           "#EF553B",
           "#00cc96",
           "#ab63fa",
           "#FFA15A",
           "#19d3f3",
           "#FF6692",
           "#B6E880",
           "#FF97FF",
           "#FECB52"
          ],
          "font": {
           "color": "#2a3f5f"
          },
          "geo": {
           "bgcolor": "white",
           "lakecolor": "white",
           "landcolor": "#E5ECF6",
           "showlakes": true,
           "showland": true,
           "subunitcolor": "white"
          },
          "hoverlabel": {
           "align": "left"
          },
          "hovermode": "closest",
          "mapbox": {
           "style": "light"
          },
          "paper_bgcolor": "white",
          "plot_bgcolor": "#E5ECF6",
          "polar": {
           "angularaxis": {
            "gridcolor": "white",
            "linecolor": "white",
            "ticks": ""
           },
           "bgcolor": "#E5ECF6",
           "radialaxis": {
            "gridcolor": "white",
            "linecolor": "white",
            "ticks": ""
           }
          },
          "scene": {
           "xaxis": {
            "backgroundcolor": "#E5ECF6",
            "gridcolor": "white",
            "gridwidth": 2,
            "linecolor": "white",
            "showbackground": true,
            "ticks": "",
            "zerolinecolor": "white"
           },
           "yaxis": {
            "backgroundcolor": "#E5ECF6",
            "gridcolor": "white",
            "gridwidth": 2,
            "linecolor": "white",
            "showbackground": true,
            "ticks": "",
            "zerolinecolor": "white"
           },
           "zaxis": {
            "backgroundcolor": "#E5ECF6",
            "gridcolor": "white",
            "gridwidth": 2,
            "linecolor": "white",
            "showbackground": true,
            "ticks": "",
            "zerolinecolor": "white"
           }
          },
          "shapedefaults": {
           "line": {
            "color": "#2a3f5f"
           }
          },
          "ternary": {
           "aaxis": {
            "gridcolor": "white",
            "linecolor": "white",
            "ticks": ""
           },
           "baxis": {
            "gridcolor": "white",
            "linecolor": "white",
            "ticks": ""
           },
           "bgcolor": "#E5ECF6",
           "caxis": {
            "gridcolor": "white",
            "linecolor": "white",
            "ticks": ""
           }
          },
          "title": {
           "x": 0.05
          },
          "xaxis": {
           "automargin": true,
           "gridcolor": "white",
           "linecolor": "white",
           "ticks": "",
           "title": {
            "standoff": 15
           },
           "zerolinecolor": "white",
           "zerolinewidth": 2
          },
          "yaxis": {
           "automargin": true,
           "gridcolor": "white",
           "linecolor": "white",
           "ticks": "",
           "title": {
            "standoff": 15
           },
           "zerolinecolor": "white",
           "zerolinewidth": 2
          }
         }
        },
        "xaxis": {
         "anchor": "y",
         "domain": [
          0,
          1
         ],
         "title": {
          "text": "index"
         }
        },
        "yaxis": {
         "anchor": "x",
         "domain": [
          0,
          1
         ],
         "title": {
          "text": "percentage of missing values"
         }
        }
       }
      },
      "text/html": [
       "<div>                            <div id=\"9c5dadf8-1d88-4d62-a922-1cd18fcd0aaf\" class=\"plotly-graph-div\" style=\"height:525px; width:100%;\"></div>            <script type=\"text/javascript\">                require([\"plotly\"], function(Plotly) {                    window.PLOTLYENV=window.PLOTLYENV || {};                                    if (document.getElementById(\"9c5dadf8-1d88-4d62-a922-1cd18fcd0aaf\")) {                    Plotly.newPlot(                        \"9c5dadf8-1d88-4d62-a922-1cd18fcd0aaf\",                        [{\"alignmentgroup\":\"True\",\"hovertemplate\":\"index=%{x}<br>percentage of missing values=%{y}<extra></extra>\",\"legendgroup\":\"\",\"marker\":{\"color\":\"#636efa\",\"pattern\":{\"shape\":\"\"}},\"name\":\"\",\"offsetgroup\":\"\",\"orientation\":\"v\",\"showlegend\":false,\"textposition\":\"auto\",\"x\":[\"rrp_eur\",\"launch_date\",\"exit_date\",\"minifigs\",\"rrp_gbp\",\"value_used\",\"price\",\"value_new\",\"pieces\",\"subtheme\",\"number\",\"theme\",\"year\",\"set_name\"],\"xaxis\":\"x\",\"y\":[75.05436868363823,57.63080465651784,57.63080465651784,54.13201995650505,47.72930791863887,44.02584111551746,34.54010489957785,32.57643597287962,22.48944607905846,19.05462453626711,0.0,0.0,0.0,0.0],\"yaxis\":\"y\",\"type\":\"bar\"}],                        {\"template\":{\"data\":{\"bar\":[{\"error_x\":{\"color\":\"#2a3f5f\"},\"error_y\":{\"color\":\"#2a3f5f\"},\"marker\":{\"line\":{\"color\":\"#E5ECF6\",\"width\":0.5},\"pattern\":{\"fillmode\":\"overlay\",\"size\":10,\"solidity\":0.2}},\"type\":\"bar\"}],\"barpolar\":[{\"marker\":{\"line\":{\"color\":\"#E5ECF6\",\"width\":0.5},\"pattern\":{\"fillmode\":\"overlay\",\"size\":10,\"solidity\":0.2}},\"type\":\"barpolar\"}],\"carpet\":[{\"aaxis\":{\"endlinecolor\":\"#2a3f5f\",\"gridcolor\":\"white\",\"linecolor\":\"white\",\"minorgridcolor\":\"white\",\"startlinecolor\":\"#2a3f5f\"},\"baxis\":{\"endlinecolor\":\"#2a3f5f\",\"gridcolor\":\"white\",\"linecolor\":\"white\",\"minorgridcolor\":\"white\",\"startlinecolor\":\"#2a3f5f\"},\"type\":\"carpet\"}],\"choropleth\":[{\"colorbar\":{\"outlinewidth\":0,\"ticks\":\"\"},\"type\":\"choropleth\"}],\"contour\":[{\"colorbar\":{\"outlinewidth\":0,\"ticks\":\"\"},\"colorscale\":[[0.0,\"#0d0887\"],[0.1111111111111111,\"#46039f\"],[0.2222222222222222,\"#7201a8\"],[0.3333333333333333,\"#9c179e\"],[0.4444444444444444,\"#bd3786\"],[0.5555555555555556,\"#d8576b\"],[0.6666666666666666,\"#ed7953\"],[0.7777777777777778,\"#fb9f3a\"],[0.8888888888888888,\"#fdca26\"],[1.0,\"#f0f921\"]],\"type\":\"contour\"}],\"contourcarpet\":[{\"colorbar\":{\"outlinewidth\":0,\"ticks\":\"\"},\"type\":\"contourcarpet\"}],\"heatmap\":[{\"colorbar\":{\"outlinewidth\":0,\"ticks\":\"\"},\"colorscale\":[[0.0,\"#0d0887\"],[0.1111111111111111,\"#46039f\"],[0.2222222222222222,\"#7201a8\"],[0.3333333333333333,\"#9c179e\"],[0.4444444444444444,\"#bd3786\"],[0.5555555555555556,\"#d8576b\"],[0.6666666666666666,\"#ed7953\"],[0.7777777777777778,\"#fb9f3a\"],[0.8888888888888888,\"#fdca26\"],[1.0,\"#f0f921\"]],\"type\":\"heatmap\"}],\"heatmapgl\":[{\"colorbar\":{\"outlinewidth\":0,\"ticks\":\"\"},\"colorscale\":[[0.0,\"#0d0887\"],[0.1111111111111111,\"#46039f\"],[0.2222222222222222,\"#7201a8\"],[0.3333333333333333,\"#9c179e\"],[0.4444444444444444,\"#bd3786\"],[0.5555555555555556,\"#d8576b\"],[0.6666666666666666,\"#ed7953\"],[0.7777777777777778,\"#fb9f3a\"],[0.8888888888888888,\"#fdca26\"],[1.0,\"#f0f921\"]],\"type\":\"heatmapgl\"}],\"histogram\":[{\"marker\":{\"pattern\":{\"fillmode\":\"overlay\",\"size\":10,\"solidity\":0.2}},\"type\":\"histogram\"}],\"histogram2d\":[{\"colorbar\":{\"outlinewidth\":0,\"ticks\":\"\"},\"colorscale\":[[0.0,\"#0d0887\"],[0.1111111111111111,\"#46039f\"],[0.2222222222222222,\"#7201a8\"],[0.3333333333333333,\"#9c179e\"],[0.4444444444444444,\"#bd3786\"],[0.5555555555555556,\"#d8576b\"],[0.6666666666666666,\"#ed7953\"],[0.7777777777777778,\"#fb9f3a\"],[0.8888888888888888,\"#fdca26\"],[1.0,\"#f0f921\"]],\"type\":\"histogram2d\"}],\"histogram2dcontour\":[{\"colorbar\":{\"outlinewidth\":0,\"ticks\":\"\"},\"colorscale\":[[0.0,\"#0d0887\"],[0.1111111111111111,\"#46039f\"],[0.2222222222222222,\"#7201a8\"],[0.3333333333333333,\"#9c179e\"],[0.4444444444444444,\"#bd3786\"],[0.5555555555555556,\"#d8576b\"],[0.6666666666666666,\"#ed7953\"],[0.7777777777777778,\"#fb9f3a\"],[0.8888888888888888,\"#fdca26\"],[1.0,\"#f0f921\"]],\"type\":\"histogram2dcontour\"}],\"mesh3d\":[{\"colorbar\":{\"outlinewidth\":0,\"ticks\":\"\"},\"type\":\"mesh3d\"}],\"parcoords\":[{\"line\":{\"colorbar\":{\"outlinewidth\":0,\"ticks\":\"\"}},\"type\":\"parcoords\"}],\"pie\":[{\"automargin\":true,\"type\":\"pie\"}],\"scatter\":[{\"marker\":{\"colorbar\":{\"outlinewidth\":0,\"ticks\":\"\"}},\"type\":\"scatter\"}],\"scatter3d\":[{\"line\":{\"colorbar\":{\"outlinewidth\":0,\"ticks\":\"\"}},\"marker\":{\"colorbar\":{\"outlinewidth\":0,\"ticks\":\"\"}},\"type\":\"scatter3d\"}],\"scattercarpet\":[{\"marker\":{\"colorbar\":{\"outlinewidth\":0,\"ticks\":\"\"}},\"type\":\"scattercarpet\"}],\"scattergeo\":[{\"marker\":{\"colorbar\":{\"outlinewidth\":0,\"ticks\":\"\"}},\"type\":\"scattergeo\"}],\"scattergl\":[{\"marker\":{\"colorbar\":{\"outlinewidth\":0,\"ticks\":\"\"}},\"type\":\"scattergl\"}],\"scattermapbox\":[{\"marker\":{\"colorbar\":{\"outlinewidth\":0,\"ticks\":\"\"}},\"type\":\"scattermapbox\"}],\"scatterpolar\":[{\"marker\":{\"colorbar\":{\"outlinewidth\":0,\"ticks\":\"\"}},\"type\":\"scatterpolar\"}],\"scatterpolargl\":[{\"marker\":{\"colorbar\":{\"outlinewidth\":0,\"ticks\":\"\"}},\"type\":\"scatterpolargl\"}],\"scatterternary\":[{\"marker\":{\"colorbar\":{\"outlinewidth\":0,\"ticks\":\"\"}},\"type\":\"scatterternary\"}],\"surface\":[{\"colorbar\":{\"outlinewidth\":0,\"ticks\":\"\"},\"colorscale\":[[0.0,\"#0d0887\"],[0.1111111111111111,\"#46039f\"],[0.2222222222222222,\"#7201a8\"],[0.3333333333333333,\"#9c179e\"],[0.4444444444444444,\"#bd3786\"],[0.5555555555555556,\"#d8576b\"],[0.6666666666666666,\"#ed7953\"],[0.7777777777777778,\"#fb9f3a\"],[0.8888888888888888,\"#fdca26\"],[1.0,\"#f0f921\"]],\"type\":\"surface\"}],\"table\":[{\"cells\":{\"fill\":{\"color\":\"#EBF0F8\"},\"line\":{\"color\":\"white\"}},\"header\":{\"fill\":{\"color\":\"#C8D4E3\"},\"line\":{\"color\":\"white\"}},\"type\":\"table\"}]},\"layout\":{\"annotationdefaults\":{\"arrowcolor\":\"#2a3f5f\",\"arrowhead\":0,\"arrowwidth\":1},\"autotypenumbers\":\"strict\",\"coloraxis\":{\"colorbar\":{\"outlinewidth\":0,\"ticks\":\"\"}},\"colorscale\":{\"diverging\":[[0,\"#8e0152\"],[0.1,\"#c51b7d\"],[0.2,\"#de77ae\"],[0.3,\"#f1b6da\"],[0.4,\"#fde0ef\"],[0.5,\"#f7f7f7\"],[0.6,\"#e6f5d0\"],[0.7,\"#b8e186\"],[0.8,\"#7fbc41\"],[0.9,\"#4d9221\"],[1,\"#276419\"]],\"sequential\":[[0.0,\"#0d0887\"],[0.1111111111111111,\"#46039f\"],[0.2222222222222222,\"#7201a8\"],[0.3333333333333333,\"#9c179e\"],[0.4444444444444444,\"#bd3786\"],[0.5555555555555556,\"#d8576b\"],[0.6666666666666666,\"#ed7953\"],[0.7777777777777778,\"#fb9f3a\"],[0.8888888888888888,\"#fdca26\"],[1.0,\"#f0f921\"]],\"sequentialminus\":[[0.0,\"#0d0887\"],[0.1111111111111111,\"#46039f\"],[0.2222222222222222,\"#7201a8\"],[0.3333333333333333,\"#9c179e\"],[0.4444444444444444,\"#bd3786\"],[0.5555555555555556,\"#d8576b\"],[0.6666666666666666,\"#ed7953\"],[0.7777777777777778,\"#fb9f3a\"],[0.8888888888888888,\"#fdca26\"],[1.0,\"#f0f921\"]]},\"colorway\":[\"#636efa\",\"#EF553B\",\"#00cc96\",\"#ab63fa\",\"#FFA15A\",\"#19d3f3\",\"#FF6692\",\"#B6E880\",\"#FF97FF\",\"#FECB52\"],\"font\":{\"color\":\"#2a3f5f\"},\"geo\":{\"bgcolor\":\"white\",\"lakecolor\":\"white\",\"landcolor\":\"#E5ECF6\",\"showlakes\":true,\"showland\":true,\"subunitcolor\":\"white\"},\"hoverlabel\":{\"align\":\"left\"},\"hovermode\":\"closest\",\"mapbox\":{\"style\":\"light\"},\"paper_bgcolor\":\"white\",\"plot_bgcolor\":\"#E5ECF6\",\"polar\":{\"angularaxis\":{\"gridcolor\":\"white\",\"linecolor\":\"white\",\"ticks\":\"\"},\"bgcolor\":\"#E5ECF6\",\"radialaxis\":{\"gridcolor\":\"white\",\"linecolor\":\"white\",\"ticks\":\"\"}},\"scene\":{\"xaxis\":{\"backgroundcolor\":\"#E5ECF6\",\"gridcolor\":\"white\",\"gridwidth\":2,\"linecolor\":\"white\",\"showbackground\":true,\"ticks\":\"\",\"zerolinecolor\":\"white\"},\"yaxis\":{\"backgroundcolor\":\"#E5ECF6\",\"gridcolor\":\"white\",\"gridwidth\":2,\"linecolor\":\"white\",\"showbackground\":true,\"ticks\":\"\",\"zerolinecolor\":\"white\"},\"zaxis\":{\"backgroundcolor\":\"#E5ECF6\",\"gridcolor\":\"white\",\"gridwidth\":2,\"linecolor\":\"white\",\"showbackground\":true,\"ticks\":\"\",\"zerolinecolor\":\"white\"}},\"shapedefaults\":{\"line\":{\"color\":\"#2a3f5f\"}},\"ternary\":{\"aaxis\":{\"gridcolor\":\"white\",\"linecolor\":\"white\",\"ticks\":\"\"},\"baxis\":{\"gridcolor\":\"white\",\"linecolor\":\"white\",\"ticks\":\"\"},\"bgcolor\":\"#E5ECF6\",\"caxis\":{\"gridcolor\":\"white\",\"linecolor\":\"white\",\"ticks\":\"\"}},\"title\":{\"x\":0.05},\"xaxis\":{\"automargin\":true,\"gridcolor\":\"white\",\"linecolor\":\"white\",\"ticks\":\"\",\"title\":{\"standoff\":15},\"zerolinecolor\":\"white\",\"zerolinewidth\":2},\"yaxis\":{\"automargin\":true,\"gridcolor\":\"white\",\"linecolor\":\"white\",\"ticks\":\"\",\"title\":{\"standoff\":15},\"zerolinecolor\":\"white\",\"zerolinewidth\":2}}},\"xaxis\":{\"anchor\":\"y\",\"domain\":[0.0,1.0],\"title\":{\"text\":\"index\"}},\"yaxis\":{\"anchor\":\"x\",\"domain\":[0.0,1.0],\"title\":{\"text\":\"percentage of missing values\"}},\"legend\":{\"tracegroupgap\":0},\"margin\":{\"t\":60},\"barmode\":\"relative\"},                        {\"responsive\": true}                    ).then(function(){\n",
       "                            \n",
       "var gd = document.getElementById('9c5dadf8-1d88-4d62-a922-1cd18fcd0aaf');\n",
       "var x = new MutationObserver(function (mutations, observer) {{\n",
       "        var display = window.getComputedStyle(gd).display;\n",
       "        if (!display || display === 'none') {{\n",
       "            console.log([gd, 'removed!']);\n",
       "            Plotly.purge(gd);\n",
       "            observer.disconnect();\n",
       "        }}\n",
       "}});\n",
       "\n",
       "// Listen for the removal of the full notebook cells\n",
       "var notebookContainer = gd.closest('#notebook-container');\n",
       "if (notebookContainer) {{\n",
       "    x.observe(notebookContainer, {childList: true});\n",
       "}}\n",
       "\n",
       "// Listen for the clearing of the current output cell\n",
       "var outputEl = gd.closest('.output');\n",
       "if (outputEl) {{\n",
       "    x.observe(outputEl, {childList: true});\n",
       "}}\n",
       "\n",
       "                        })                };                });            </script>        </div>"
      ]
     },
     "metadata": {},
     "output_type": "display_data"
    }
   ],
   "source": [
    "px.bar(df_missing_val_per_sorted, \n",
    "       x = df_missing_val_per_sorted.index, \n",
    "       y = \"value\", \n",
    "       labels = {\"value\":\"percentage of missing values\"})"
   ]
  },
  {
   "cell_type": "markdown",
   "id": "7119b291",
   "metadata": {},
   "source": [
    "**Comments:**\n",
    "* There are NaN values in most columns.\n",
    "* Most values are missing in rrp_eur, but this is ok since the analysis will be done in usd (due to value_new and value_used also being in usd). The available rrp_eur values can be used to fill-in missing data in the usd column.\n",
    "* More than half of the items don't have a launch and exit date.\n",
    "* The missing values for minifigs could just be due to the items being lego sets without any minifigures or those are other lego product merchendise."
   ]
  },
  {
   "cell_type": "markdown",
   "id": "b760cd91",
   "metadata": {},
   "source": [
    "**Tasks:**\n",
    "* A quarter of the items are missing piece counts. This must be investigated since it could indicate the item is not a lego set but some other kind of merchandise from the database. I will aim to categorize the items into sets and other merchendise. A possible way to does this is to use the pieces count >0 or minifigure >0.\n",
    "\n",
    "* Most prices are available in usd, also the value new and used is available in usd. If possible I will try to calculate missing values in usd by the columns of other currencies then drop the other columns to reduce complexity for further processing (one currency is enough for the inteded analysis).\n",
    "\n",
    "* Also some dates are missing, I'll take a look at that. Sets from 2022 have probably not yet been released, I will label them as not released. The items that have a launch date but no exit date will be labeled as active, items that have an exit date will be label eol (popular lego term \"end-of-life\" for items that are no longer produced)."
   ]
  },
  {
   "cell_type": "markdown",
   "id": "e94a19fa",
   "metadata": {},
   "source": [
    "**Make box-plots of all columns with numerival values:**"
   ]
  },
  {
   "cell_type": "code",
   "execution_count": 450,
   "id": "5b449cb6",
   "metadata": {},
   "outputs": [],
   "source": [
    "def make_plots_of_num_cols(df):\n",
    "    for col in df.columns:\n",
    "        if df[col].dtype == np.int64 or df[col].dtype == np.float64:\n",
    "            print(col)\n",
    "            fig = px.box(df, x = col, points=\"all\")\n",
    "            fig.update_yaxes(visible = False, showticklabels = False)\n",
    "            fig.show()\n",
    "        else:\n",
    "            continue"
   ]
  },
  {
   "cell_type": "code",
   "execution_count": 451,
   "id": "643f02a2",
   "metadata": {},
   "outputs": [],
   "source": [
    "#make_plots_of_num_cols(df)"
   ]
  },
  {
   "cell_type": "markdown",
   "id": "742c4164",
   "metadata": {},
   "source": [
    "**Comments**\n",
    "* Year: The median is 2012 meaning that half of the items in the data-set containing the past 30th years were released in the past 9 years.\n",
    "* Minifing: Median is only 2. This should be investigated in more detail since data set includes lego items that are not necessarily sets but other merchandice.\n",
    "* Pieces: Similare goes for the rather low median of pieces. \n",
    "\n",
    "**Task**\n",
    "* Task categorize entries as sets very other merchandice."
   ]
  },
  {
   "cell_type": "markdown",
   "id": "a260434e",
   "metadata": {},
   "source": [
    "## 3. Prepare Data"
   ]
  },
  {
   "cell_type": "markdown",
   "id": "8c57aa34",
   "metadata": {},
   "source": [
    "### Removing rows where there is no numeric data"
   ]
  },
  {
   "cell_type": "code",
   "execution_count": 452,
   "id": "dbc2998c",
   "metadata": {},
   "outputs": [
    {
     "data": {
      "text/html": [
       "<div>\n",
       "<style scoped>\n",
       "    .dataframe tbody tr th:only-of-type {\n",
       "        vertical-align: middle;\n",
       "    }\n",
       "\n",
       "    .dataframe tbody tr th {\n",
       "        vertical-align: top;\n",
       "    }\n",
       "\n",
       "    .dataframe thead th {\n",
       "        text-align: right;\n",
       "    }\n",
       "</style>\n",
       "<table border=\"1\" class=\"dataframe\">\n",
       "  <thead>\n",
       "    <tr style=\"text-align: right;\">\n",
       "      <th></th>\n",
       "      <th>number</th>\n",
       "      <th>theme</th>\n",
       "      <th>subtheme</th>\n",
       "      <th>year</th>\n",
       "      <th>set_name</th>\n",
       "      <th>minifigs</th>\n",
       "      <th>pieces</th>\n",
       "      <th>rrp_gbp</th>\n",
       "      <th>price</th>\n",
       "      <th>rrp_eur</th>\n",
       "      <th>value_new</th>\n",
       "      <th>value_used</th>\n",
       "      <th>launch_date</th>\n",
       "      <th>exit_date</th>\n",
       "      <th>numeric_data_nan</th>\n",
       "    </tr>\n",
       "  </thead>\n",
       "  <tbody>\n",
       "    <tr>\n",
       "      <th>142</th>\n",
       "      <td>BK15SPR1991-1</td>\n",
       "      <td>Books</td>\n",
       "      <td>Brick Kicks</td>\n",
       "      <td>1991</td>\n",
       "      <td>BRICK KICKS Spring 1991</td>\n",
       "      <td>NaN</td>\n",
       "      <td>NaN</td>\n",
       "      <td>NaN</td>\n",
       "      <td>NaN</td>\n",
       "      <td>NaN</td>\n",
       "      <td>NaN</td>\n",
       "      <td>NaN</td>\n",
       "      <td>NaN</td>\n",
       "      <td>NaN</td>\n",
       "      <td>True</td>\n",
       "    </tr>\n",
       "    <tr>\n",
       "      <th>143</th>\n",
       "      <td>BK16SUM1991-1</td>\n",
       "      <td>Books</td>\n",
       "      <td>Brick Kicks</td>\n",
       "      <td>1991</td>\n",
       "      <td>BRICK KICKS Summer 1991</td>\n",
       "      <td>NaN</td>\n",
       "      <td>NaN</td>\n",
       "      <td>NaN</td>\n",
       "      <td>NaN</td>\n",
       "      <td>NaN</td>\n",
       "      <td>NaN</td>\n",
       "      <td>NaN</td>\n",
       "      <td>NaN</td>\n",
       "      <td>NaN</td>\n",
       "      <td>True</td>\n",
       "    </tr>\n",
       "    <tr>\n",
       "      <th>144</th>\n",
       "      <td>BK17FAL1991-1</td>\n",
       "      <td>Books</td>\n",
       "      <td>Brick Kicks</td>\n",
       "      <td>1991</td>\n",
       "      <td>BRICK KICKS Fall 1991</td>\n",
       "      <td>NaN</td>\n",
       "      <td>NaN</td>\n",
       "      <td>NaN</td>\n",
       "      <td>NaN</td>\n",
       "      <td>NaN</td>\n",
       "      <td>NaN</td>\n",
       "      <td>NaN</td>\n",
       "      <td>NaN</td>\n",
       "      <td>NaN</td>\n",
       "      <td>True</td>\n",
       "    </tr>\n",
       "    <tr>\n",
       "      <th>145</th>\n",
       "      <td>BK18WIN1991-1</td>\n",
       "      <td>Books</td>\n",
       "      <td>Brick Kicks</td>\n",
       "      <td>1991</td>\n",
       "      <td>BRICK KICKS Winter 1991 - 1992</td>\n",
       "      <td>NaN</td>\n",
       "      <td>NaN</td>\n",
       "      <td>NaN</td>\n",
       "      <td>NaN</td>\n",
       "      <td>NaN</td>\n",
       "      <td>NaN</td>\n",
       "      <td>NaN</td>\n",
       "      <td>NaN</td>\n",
       "      <td>NaN</td>\n",
       "      <td>True</td>\n",
       "    </tr>\n",
       "    <tr>\n",
       "      <th>253</th>\n",
       "      <td>BK19SPR1992-1</td>\n",
       "      <td>Books</td>\n",
       "      <td>Brick Kicks</td>\n",
       "      <td>1992</td>\n",
       "      <td>BRICK KICKS Spring 1992</td>\n",
       "      <td>NaN</td>\n",
       "      <td>NaN</td>\n",
       "      <td>NaN</td>\n",
       "      <td>NaN</td>\n",
       "      <td>NaN</td>\n",
       "      <td>NaN</td>\n",
       "      <td>NaN</td>\n",
       "      <td>NaN</td>\n",
       "      <td>NaN</td>\n",
       "      <td>True</td>\n",
       "    </tr>\n",
       "  </tbody>\n",
       "</table>\n",
       "</div>"
      ],
      "text/plain": [
       "            number  theme     subtheme  year                        set_name  \\\n",
       "142  BK15SPR1991-1  Books  Brick Kicks  1991         BRICK KICKS Spring 1991   \n",
       "143  BK16SUM1991-1  Books  Brick Kicks  1991         BRICK KICKS Summer 1991   \n",
       "144  BK17FAL1991-1  Books  Brick Kicks  1991           BRICK KICKS Fall 1991   \n",
       "145  BK18WIN1991-1  Books  Brick Kicks  1991  BRICK KICKS Winter 1991 - 1992   \n",
       "253  BK19SPR1992-1  Books  Brick Kicks  1992         BRICK KICKS Spring 1992   \n",
       "\n",
       "     minifigs  pieces  rrp_gbp  price  rrp_eur  value_new  value_used  \\\n",
       "142       NaN     NaN      NaN    NaN      NaN        NaN         NaN   \n",
       "143       NaN     NaN      NaN    NaN      NaN        NaN         NaN   \n",
       "144       NaN     NaN      NaN    NaN      NaN        NaN         NaN   \n",
       "145       NaN     NaN      NaN    NaN      NaN        NaN         NaN   \n",
       "253       NaN     NaN      NaN    NaN      NaN        NaN         NaN   \n",
       "\n",
       "    launch_date exit_date  numeric_data_nan  \n",
       "142         NaN       NaN              True  \n",
       "143         NaN       NaN              True  \n",
       "144         NaN       NaN              True  \n",
       "145         NaN       NaN              True  \n",
       "253         NaN       NaN              True  "
      ]
     },
     "execution_count": 452,
     "metadata": {},
     "output_type": "execute_result"
    }
   ],
   "source": [
    "cond = df[['minifigs','pieces',\n",
    "       \"rrp_gbp\", \"rrp_eur\", \"price\", \n",
    "       \"value_new\", \"value_used\", \n",
    "       \"launch_date\", \"exit_date\"]].isnull().values.all(axis=1)\n",
    "df['numeric_data_nan'] = np.where(cond, True, False)\n",
    "df[df[\"numeric_data_nan\"] == True].head()"
   ]
  },
  {
   "cell_type": "code",
   "execution_count": 453,
   "id": "24ee039d",
   "metadata": {},
   "outputs": [],
   "source": [
    "df = df[df[\"numeric_data_nan\"] == False]"
   ]
  },
  {
   "cell_type": "code",
   "execution_count": 454,
   "id": "61173d08",
   "metadata": {},
   "outputs": [
    {
     "data": {
      "text/html": [
       "<div>\n",
       "<style scoped>\n",
       "    .dataframe tbody tr th:only-of-type {\n",
       "        vertical-align: middle;\n",
       "    }\n",
       "\n",
       "    .dataframe tbody tr th {\n",
       "        vertical-align: top;\n",
       "    }\n",
       "\n",
       "    .dataframe thead th {\n",
       "        text-align: right;\n",
       "    }\n",
       "</style>\n",
       "<table border=\"1\" class=\"dataframe\">\n",
       "  <thead>\n",
       "    <tr style=\"text-align: right;\">\n",
       "      <th></th>\n",
       "      <th>number</th>\n",
       "      <th>theme</th>\n",
       "      <th>subtheme</th>\n",
       "      <th>year</th>\n",
       "      <th>set_name</th>\n",
       "      <th>minifigs</th>\n",
       "      <th>pieces</th>\n",
       "      <th>rrp_gbp</th>\n",
       "      <th>price</th>\n",
       "      <th>rrp_eur</th>\n",
       "      <th>value_new</th>\n",
       "      <th>value_used</th>\n",
       "      <th>launch_date</th>\n",
       "      <th>exit_date</th>\n",
       "      <th>numeric_data_nan</th>\n",
       "    </tr>\n",
       "  </thead>\n",
       "  <tbody>\n",
       "    <tr>\n",
       "      <th>0</th>\n",
       "      <td>819-1</td>\n",
       "      <td>Basic</td>\n",
       "      <td>Supplementaries</td>\n",
       "      <td>1991</td>\n",
       "      <td>Blue baseplate</td>\n",
       "      <td>NaN</td>\n",
       "      <td>1.00</td>\n",
       "      <td>NaN</td>\n",
       "      <td>5.50</td>\n",
       "      <td>NaN</td>\n",
       "      <td>6.26</td>\n",
       "      <td>NaN</td>\n",
       "      <td>NaN</td>\n",
       "      <td>NaN</td>\n",
       "      <td>False</td>\n",
       "    </tr>\n",
       "    <tr>\n",
       "      <th>1</th>\n",
       "      <td>1040-1</td>\n",
       "      <td>Dacta</td>\n",
       "      <td>NaN</td>\n",
       "      <td>1991</td>\n",
       "      <td>Farm</td>\n",
       "      <td>4.00</td>\n",
       "      <td>89.00</td>\n",
       "      <td>NaN</td>\n",
       "      <td>NaN</td>\n",
       "      <td>NaN</td>\n",
       "      <td>NaN</td>\n",
       "      <td>NaN</td>\n",
       "      <td>NaN</td>\n",
       "      <td>NaN</td>\n",
       "      <td>False</td>\n",
       "    </tr>\n",
       "    <tr>\n",
       "      <th>2</th>\n",
       "      <td>1474-1</td>\n",
       "      <td>Basic</td>\n",
       "      <td>Universal Building Set</td>\n",
       "      <td>1991</td>\n",
       "      <td>Basic Building Set with Gift Item</td>\n",
       "      <td>1.00</td>\n",
       "      <td>69.00</td>\n",
       "      <td>NaN</td>\n",
       "      <td>NaN</td>\n",
       "      <td>NaN</td>\n",
       "      <td>24.64</td>\n",
       "      <td>NaN</td>\n",
       "      <td>NaN</td>\n",
       "      <td>NaN</td>\n",
       "      <td>False</td>\n",
       "    </tr>\n",
       "    <tr>\n",
       "      <th>3</th>\n",
       "      <td>1475-1</td>\n",
       "      <td>Town</td>\n",
       "      <td>Flight</td>\n",
       "      <td>1991</td>\n",
       "      <td>Airport Security Squad</td>\n",
       "      <td>2.00</td>\n",
       "      <td>123.00</td>\n",
       "      <td>NaN</td>\n",
       "      <td>10.00</td>\n",
       "      <td>NaN</td>\n",
       "      <td>165.90</td>\n",
       "      <td>49.80</td>\n",
       "      <td>NaN</td>\n",
       "      <td>NaN</td>\n",
       "      <td>False</td>\n",
       "    </tr>\n",
       "    <tr>\n",
       "      <th>4</th>\n",
       "      <td>1476-1</td>\n",
       "      <td>Assorted</td>\n",
       "      <td>Bonus/Value Pack</td>\n",
       "      <td>1991</td>\n",
       "      <td>Five Set Bonus Pack</td>\n",
       "      <td>NaN</td>\n",
       "      <td>158.00</td>\n",
       "      <td>NaN</td>\n",
       "      <td>NaN</td>\n",
       "      <td>NaN</td>\n",
       "      <td>450.00</td>\n",
       "      <td>100.00</td>\n",
       "      <td>NaN</td>\n",
       "      <td>NaN</td>\n",
       "      <td>False</td>\n",
       "    </tr>\n",
       "  </tbody>\n",
       "</table>\n",
       "</div>"
      ],
      "text/plain": [
       "   number     theme                subtheme  year  \\\n",
       "0   819-1     Basic         Supplementaries  1991   \n",
       "1  1040-1     Dacta                     NaN  1991   \n",
       "2  1474-1     Basic  Universal Building Set  1991   \n",
       "3  1475-1      Town                  Flight  1991   \n",
       "4  1476-1  Assorted        Bonus/Value Pack  1991   \n",
       "\n",
       "                            set_name  minifigs  pieces  rrp_gbp  price  \\\n",
       "0                     Blue baseplate       NaN    1.00      NaN   5.50   \n",
       "1                               Farm      4.00   89.00      NaN    NaN   \n",
       "2  Basic Building Set with Gift Item      1.00   69.00      NaN    NaN   \n",
       "3             Airport Security Squad      2.00  123.00      NaN  10.00   \n",
       "4                Five Set Bonus Pack       NaN  158.00      NaN    NaN   \n",
       "\n",
       "   rrp_eur  value_new  value_used launch_date exit_date  numeric_data_nan  \n",
       "0      NaN       6.26         NaN         NaN       NaN             False  \n",
       "1      NaN        NaN         NaN         NaN       NaN             False  \n",
       "2      NaN      24.64         NaN         NaN       NaN             False  \n",
       "3      NaN     165.90       49.80         NaN       NaN             False  \n",
       "4      NaN     450.00      100.00         NaN       NaN             False  "
      ]
     },
     "execution_count": 454,
     "metadata": {},
     "output_type": "execute_result"
    }
   ],
   "source": [
    "df.head()"
   ]
  },
  {
   "cell_type": "markdown",
   "id": "18984628",
   "metadata": {},
   "source": [
    "### Categorization of items to sets and minifigures while removing items such as gear, books, etc."
   ]
  },
  {
   "cell_type": "code",
   "execution_count": 455,
   "id": "7f745b3c",
   "metadata": {},
   "outputs": [],
   "source": [
    "#Over our long history, we’ve made loads of unique sets, many with similar names. We use numbers as a quick and convenient way to instantly identify any LEGO set. Numbers on the first sets we made were three digits long, but as we made more and more sets, we started using longer numbers. Currently, set numbers are five to seven digits long and are featured prominently on the box and instructions for the set."
   ]
  },
  {
   "cell_type": "code",
   "execution_count": 456,
   "id": "95c0bac4",
   "metadata": {},
   "outputs": [],
   "source": [
    "df[['number_main','number_sub']] = df['number'].str.split('-',expand=True)"
   ]
  },
  {
   "cell_type": "code",
   "execution_count": 457,
   "id": "fba668a8",
   "metadata": {},
   "outputs": [
    {
     "data": {
      "text/plain": [
       "0                     819\n",
       "1                    1040\n",
       "2                    1474\n",
       "3                    1475\n",
       "4                    1476\n",
       "              ...        \n",
       "4094              5007182\n",
       "4095              5007183\n",
       "4096              5007184\n",
       "4097              5007185\n",
       "4102    ISBN9780744054576\n",
       "Name: number_main, Length: 14473, dtype: object"
      ]
     },
     "execution_count": 457,
     "metadata": {},
     "output_type": "execute_result"
    }
   ],
   "source": [
    "df.number_main"
   ]
  },
  {
   "cell_type": "code",
   "execution_count": 458,
   "id": "b30119b6",
   "metadata": {},
   "outputs": [],
   "source": [
    "df.drop(df.index[df[\"number_main\"].apply(lambda x: not (x.isnumeric()))], axis=0, inplace=True)"
   ]
  },
  {
   "cell_type": "code",
   "execution_count": 459,
   "id": "03cac5e0",
   "metadata": {},
   "outputs": [],
   "source": [
    "df.drop(df.index[df[\"number_sub\"].apply(lambda x: not (x.isnumeric()))], axis=0, inplace=True)"
   ]
  },
  {
   "cell_type": "code",
   "execution_count": 460,
   "id": "245e2e11",
   "metadata": {},
   "outputs": [],
   "source": [
    "df.drop(['number_main','number_sub'], axis = \"columns\", inplace = True)"
   ]
  },
  {
   "cell_type": "markdown",
   "id": "6aba100a",
   "metadata": {},
   "source": [
    "**Adding category column with value set for all items with > 0 number of pieces:**"
   ]
  },
  {
   "cell_type": "code",
   "execution_count": 461,
   "id": "a7738ddd",
   "metadata": {},
   "outputs": [
    {
     "data": {
      "text/html": [
       "<div>\n",
       "<style scoped>\n",
       "    .dataframe tbody tr th:only-of-type {\n",
       "        vertical-align: middle;\n",
       "    }\n",
       "\n",
       "    .dataframe tbody tr th {\n",
       "        vertical-align: top;\n",
       "    }\n",
       "\n",
       "    .dataframe thead th {\n",
       "        text-align: right;\n",
       "    }\n",
       "</style>\n",
       "<table border=\"1\" class=\"dataframe\">\n",
       "  <thead>\n",
       "    <tr style=\"text-align: right;\">\n",
       "      <th></th>\n",
       "      <th>year</th>\n",
       "      <th>minifigs</th>\n",
       "      <th>pieces</th>\n",
       "      <th>rrp_gbp</th>\n",
       "      <th>price</th>\n",
       "      <th>rrp_eur</th>\n",
       "      <th>value_new</th>\n",
       "      <th>value_used</th>\n",
       "    </tr>\n",
       "  </thead>\n",
       "  <tbody>\n",
       "    <tr>\n",
       "      <th>count</th>\n",
       "      <td>2,099.00</td>\n",
       "      <td>102.00</td>\n",
       "      <td>6.00</td>\n",
       "      <td>1,385.00</td>\n",
       "      <td>1,599.00</td>\n",
       "      <td>703.00</td>\n",
       "      <td>104.00</td>\n",
       "      <td>47.00</td>\n",
       "    </tr>\n",
       "    <tr>\n",
       "      <th>mean</th>\n",
       "      <td>2,013.40</td>\n",
       "      <td>2.28</td>\n",
       "      <td>0.00</td>\n",
       "      <td>13.14</td>\n",
       "      <td>18.44</td>\n",
       "      <td>14.74</td>\n",
       "      <td>105.31</td>\n",
       "      <td>33.08</td>\n",
       "    </tr>\n",
       "    <tr>\n",
       "      <th>std</th>\n",
       "      <td>5.44</td>\n",
       "      <td>3.28</td>\n",
       "      <td>0.00</td>\n",
       "      <td>21.54</td>\n",
       "      <td>23.99</td>\n",
       "      <td>26.17</td>\n",
       "      <td>444.30</td>\n",
       "      <td>92.03</td>\n",
       "    </tr>\n",
       "    <tr>\n",
       "      <th>min</th>\n",
       "      <td>1,997.00</td>\n",
       "      <td>1.00</td>\n",
       "      <td>0.00</td>\n",
       "      <td>1.95</td>\n",
       "      <td>0.00</td>\n",
       "      <td>1.99</td>\n",
       "      <td>1.36</td>\n",
       "      <td>2.73</td>\n",
       "    </tr>\n",
       "    <tr>\n",
       "      <th>25%</th>\n",
       "      <td>2,009.00</td>\n",
       "      <td>1.00</td>\n",
       "      <td>0.00</td>\n",
       "      <td>3.99</td>\n",
       "      <td>4.99</td>\n",
       "      <td>4.99</td>\n",
       "      <td>4.88</td>\n",
       "      <td>4.00</td>\n",
       "    </tr>\n",
       "    <tr>\n",
       "      <th>50%</th>\n",
       "      <td>2,014.00</td>\n",
       "      <td>1.00</td>\n",
       "      <td>0.00</td>\n",
       "      <td>6.99</td>\n",
       "      <td>12.99</td>\n",
       "      <td>6.99</td>\n",
       "      <td>7.35</td>\n",
       "      <td>5.04</td>\n",
       "    </tr>\n",
       "    <tr>\n",
       "      <th>75%</th>\n",
       "      <td>2,018.00</td>\n",
       "      <td>3.00</td>\n",
       "      <td>0.00</td>\n",
       "      <td>14.65</td>\n",
       "      <td>24.99</td>\n",
       "      <td>14.99</td>\n",
       "      <td>40.93</td>\n",
       "      <td>14.24</td>\n",
       "    </tr>\n",
       "    <tr>\n",
       "      <th>max</th>\n",
       "      <td>2,022.00</td>\n",
       "      <td>24.00</td>\n",
       "      <td>0.00</td>\n",
       "      <td>274.99</td>\n",
       "      <td>299.99</td>\n",
       "      <td>304.99</td>\n",
       "      <td>3,432.84</td>\n",
       "      <td>499.00</td>\n",
       "    </tr>\n",
       "  </tbody>\n",
       "</table>\n",
       "</div>"
      ],
      "text/plain": [
       "          year  minifigs  pieces  rrp_gbp    price  rrp_eur  value_new  \\\n",
       "count 2,099.00    102.00    6.00 1,385.00 1,599.00   703.00     104.00   \n",
       "mean  2,013.40      2.28    0.00    13.14    18.44    14.74     105.31   \n",
       "std       5.44      3.28    0.00    21.54    23.99    26.17     444.30   \n",
       "min   1,997.00      1.00    0.00     1.95     0.00     1.99       1.36   \n",
       "25%   2,009.00      1.00    0.00     3.99     4.99     4.99       4.88   \n",
       "50%   2,014.00      1.00    0.00     6.99    12.99     6.99       7.35   \n",
       "75%   2,018.00      3.00    0.00    14.65    24.99    14.99      40.93   \n",
       "max   2,022.00     24.00    0.00   274.99   299.99   304.99   3,432.84   \n",
       "\n",
       "       value_used  \n",
       "count       47.00  \n",
       "mean        33.08  \n",
       "std         92.03  \n",
       "min          2.73  \n",
       "25%          4.00  \n",
       "50%          5.04  \n",
       "75%         14.24  \n",
       "max        499.00  "
      ]
     },
     "execution_count": 461,
     "metadata": {},
     "output_type": "execute_result"
    }
   ],
   "source": [
    "df['category'] = np.where(df['pieces'] > 0, \"set\", \"uncategorized\")\n",
    "df[df.category == \"uncategorized\"].describe()"
   ]
  },
  {
   "cell_type": "markdown",
   "id": "2f47e02b",
   "metadata": {},
   "source": [
    "**Dealing with uncategorized items:**"
   ]
  },
  {
   "cell_type": "code",
   "execution_count": 462,
   "id": "39320f9b",
   "metadata": {},
   "outputs": [
    {
     "name": "stdout",
     "output_type": "stream",
     "text": [
      "{'Clikits', 'Collectable Minifigures', 'Friends', 'Legends of Chima', 'Disney', 'Star Wars', 'Gear', 'The LEGO Movie 2', 'Ninjago', 'Sports', 'City', 'Education', 'BrickHeadz', 'Seasonal', 'Duplo', 'Marvel Super Heroes', 'Creator Expert', 'DC Comics Super Heroes', 'Make and Create', 'Power Miners', 'Technic', 'Promotional', 'Books', 'Miscellaneous', 'Vidiyo', 'Unikitty', 'Super Mario'}\n"
     ]
    }
   ],
   "source": [
    "uncat_themes = set(df[(df.category == \"uncategorized\")].theme)\n",
    "print(uncat_themes)"
   ]
  },
  {
   "cell_type": "code",
   "execution_count": 463,
   "id": "2eafa410",
   "metadata": {
    "scrolled": true
   },
   "outputs": [
    {
     "name": "stdout",
     "output_type": "stream",
     "text": [
      "Theme: Clikits\n",
      "Number of rows: 1\n"
     ]
    },
    {
     "data": {
      "text/html": [
       "<div>\n",
       "<style scoped>\n",
       "    .dataframe tbody tr th:only-of-type {\n",
       "        vertical-align: middle;\n",
       "    }\n",
       "\n",
       "    .dataframe tbody tr th {\n",
       "        vertical-align: top;\n",
       "    }\n",
       "\n",
       "    .dataframe thead th {\n",
       "        text-align: right;\n",
       "    }\n",
       "</style>\n",
       "<table border=\"1\" class=\"dataframe\">\n",
       "  <thead>\n",
       "    <tr style=\"text-align: right;\">\n",
       "      <th></th>\n",
       "      <th>number</th>\n",
       "      <th>theme</th>\n",
       "      <th>subtheme</th>\n",
       "      <th>year</th>\n",
       "      <th>set_name</th>\n",
       "      <th>minifigs</th>\n",
       "      <th>pieces</th>\n",
       "      <th>rrp_gbp</th>\n",
       "      <th>price</th>\n",
       "      <th>rrp_eur</th>\n",
       "      <th>value_new</th>\n",
       "      <th>value_used</th>\n",
       "      <th>launch_date</th>\n",
       "      <th>exit_date</th>\n",
       "      <th>numeric_data_nan</th>\n",
       "      <th>category</th>\n",
       "    </tr>\n",
       "  </thead>\n",
       "  <tbody>\n",
       "    <tr>\n",
       "      <th>14672</th>\n",
       "      <td>7575-1</td>\n",
       "      <td>Clikits</td>\n",
       "      <td>Seasonal</td>\n",
       "      <td>2004</td>\n",
       "      <td>Clikits Advent Calendar</td>\n",
       "      <td>NaN</td>\n",
       "      <td>NaN</td>\n",
       "      <td>11.99</td>\n",
       "      <td>15.00</td>\n",
       "      <td>NaN</td>\n",
       "      <td>18.75</td>\n",
       "      <td>NaN</td>\n",
       "      <td>01/10/2004</td>\n",
       "      <td>31/12/2006</td>\n",
       "      <td>False</td>\n",
       "      <td>uncategorized</td>\n",
       "    </tr>\n",
       "  </tbody>\n",
       "</table>\n",
       "</div>"
      ],
      "text/plain": [
       "       number    theme  subtheme  year                 set_name  minifigs  \\\n",
       "14672  7575-1  Clikits  Seasonal  2004  Clikits Advent Calendar       NaN   \n",
       "\n",
       "       pieces  rrp_gbp  price  rrp_eur  value_new  value_used launch_date  \\\n",
       "14672     NaN    11.99  15.00      NaN      18.75         NaN  01/10/2004   \n",
       "\n",
       "        exit_date  numeric_data_nan       category  \n",
       "14672  31/12/2006             False  uncategorized  "
      ]
     },
     "metadata": {},
     "output_type": "display_data"
    },
    {
     "name": "stdout",
     "output_type": "stream",
     "text": [
      "Theme: Collectable Minifigures\n",
      "Number of rows: 68\n"
     ]
    },
    {
     "data": {
      "text/html": [
       "<div>\n",
       "<style scoped>\n",
       "    .dataframe tbody tr th:only-of-type {\n",
       "        vertical-align: middle;\n",
       "    }\n",
       "\n",
       "    .dataframe tbody tr th {\n",
       "        vertical-align: top;\n",
       "    }\n",
       "\n",
       "    .dataframe thead th {\n",
       "        text-align: right;\n",
       "    }\n",
       "</style>\n",
       "<table border=\"1\" class=\"dataframe\">\n",
       "  <thead>\n",
       "    <tr style=\"text-align: right;\">\n",
       "      <th></th>\n",
       "      <th>number</th>\n",
       "      <th>theme</th>\n",
       "      <th>subtheme</th>\n",
       "      <th>year</th>\n",
       "      <th>set_name</th>\n",
       "      <th>minifigs</th>\n",
       "      <th>pieces</th>\n",
       "      <th>rrp_gbp</th>\n",
       "      <th>price</th>\n",
       "      <th>rrp_eur</th>\n",
       "      <th>value_new</th>\n",
       "      <th>value_used</th>\n",
       "      <th>launch_date</th>\n",
       "      <th>exit_date</th>\n",
       "      <th>numeric_data_nan</th>\n",
       "      <th>category</th>\n",
       "    </tr>\n",
       "  </thead>\n",
       "  <tbody>\n",
       "    <tr>\n",
       "      <th>14162</th>\n",
       "      <td>8683-0</td>\n",
       "      <td>Collectable Minifigures</td>\n",
       "      <td>Series 1</td>\n",
       "      <td>2010</td>\n",
       "      <td>LEGO Minifigures - Series 1 {Random bag}</td>\n",
       "      <td>NaN</td>\n",
       "      <td>NaN</td>\n",
       "      <td>1.99</td>\n",
       "      <td>1.99</td>\n",
       "      <td>NaN</td>\n",
       "      <td>NaN</td>\n",
       "      <td>NaN</td>\n",
       "      <td>01/05/2010</td>\n",
       "      <td>31/12/2010</td>\n",
       "      <td>False</td>\n",
       "      <td>uncategorized</td>\n",
       "    </tr>\n",
       "    <tr>\n",
       "      <th>14180</th>\n",
       "      <td>8683-18</td>\n",
       "      <td>Collectable Minifigures</td>\n",
       "      <td>Series 1</td>\n",
       "      <td>2010</td>\n",
       "      <td>LEGO Minifigures - Series 1 - Sealed Box</td>\n",
       "      <td>NaN</td>\n",
       "      <td>NaN</td>\n",
       "      <td>119.40</td>\n",
       "      <td>NaN</td>\n",
       "      <td>NaN</td>\n",
       "      <td>NaN</td>\n",
       "      <td>NaN</td>\n",
       "      <td>01/05/2010</td>\n",
       "      <td>31/12/2010</td>\n",
       "      <td>False</td>\n",
       "      <td>uncategorized</td>\n",
       "    </tr>\n",
       "    <tr>\n",
       "      <th>14181</th>\n",
       "      <td>8684-0</td>\n",
       "      <td>Collectable Minifigures</td>\n",
       "      <td>Series 2</td>\n",
       "      <td>2010</td>\n",
       "      <td>LEGO Minifigures - Series 2 {Random bag}</td>\n",
       "      <td>NaN</td>\n",
       "      <td>NaN</td>\n",
       "      <td>1.99</td>\n",
       "      <td>1.99</td>\n",
       "      <td>NaN</td>\n",
       "      <td>NaN</td>\n",
       "      <td>NaN</td>\n",
       "      <td>01/09/2010</td>\n",
       "      <td>31/12/2010</td>\n",
       "      <td>False</td>\n",
       "      <td>uncategorized</td>\n",
       "    </tr>\n",
       "    <tr>\n",
       "      <th>14199</th>\n",
       "      <td>8684-18</td>\n",
       "      <td>Collectable Minifigures</td>\n",
       "      <td>Series 2</td>\n",
       "      <td>2010</td>\n",
       "      <td>LEGO Minifigures - Series 2 - Sealed Box</td>\n",
       "      <td>NaN</td>\n",
       "      <td>NaN</td>\n",
       "      <td>NaN</td>\n",
       "      <td>NaN</td>\n",
       "      <td>NaN</td>\n",
       "      <td>NaN</td>\n",
       "      <td>NaN</td>\n",
       "      <td>01/09/2010</td>\n",
       "      <td>31/12/2010</td>\n",
       "      <td>False</td>\n",
       "      <td>uncategorized</td>\n",
       "    </tr>\n",
       "    <tr>\n",
       "      <th>13594</th>\n",
       "      <td>8803-0</td>\n",
       "      <td>Collectable Minifigures</td>\n",
       "      <td>Series 3</td>\n",
       "      <td>2011</td>\n",
       "      <td>LEGO Minifigures - Series 3 {Random bag}</td>\n",
       "      <td>NaN</td>\n",
       "      <td>NaN</td>\n",
       "      <td>1.99</td>\n",
       "      <td>2.99</td>\n",
       "      <td>NaN</td>\n",
       "      <td>NaN</td>\n",
       "      <td>NaN</td>\n",
       "      <td>01/01/2011</td>\n",
       "      <td>31/05/2011</td>\n",
       "      <td>False</td>\n",
       "      <td>uncategorized</td>\n",
       "    </tr>\n",
       "    <tr>\n",
       "      <th>13612</th>\n",
       "      <td>8803-18</td>\n",
       "      <td>Collectable Minifigures</td>\n",
       "      <td>Series 3</td>\n",
       "      <td>2011</td>\n",
       "      <td>LEGO Minifigures - Series 3 - Sealed Box</td>\n",
       "      <td>NaN</td>\n",
       "      <td>NaN</td>\n",
       "      <td>119.40</td>\n",
       "      <td>NaN</td>\n",
       "      <td>NaN</td>\n",
       "      <td>NaN</td>\n",
       "      <td>NaN</td>\n",
       "      <td>01/01/2011</td>\n",
       "      <td>31/05/2011</td>\n",
       "      <td>False</td>\n",
       "      <td>uncategorized</td>\n",
       "    </tr>\n",
       "    <tr>\n",
       "      <th>13613</th>\n",
       "      <td>8804-0</td>\n",
       "      <td>Collectable Minifigures</td>\n",
       "      <td>Series 4</td>\n",
       "      <td>2011</td>\n",
       "      <td>LEGO Minifigures - Series 4 {Random bag}</td>\n",
       "      <td>NaN</td>\n",
       "      <td>NaN</td>\n",
       "      <td>1.99</td>\n",
       "      <td>2.99</td>\n",
       "      <td>NaN</td>\n",
       "      <td>NaN</td>\n",
       "      <td>NaN</td>\n",
       "      <td>01/04/2011</td>\n",
       "      <td>31/08/2011</td>\n",
       "      <td>False</td>\n",
       "      <td>uncategorized</td>\n",
       "    </tr>\n",
       "    <tr>\n",
       "      <th>13631</th>\n",
       "      <td>8804-18</td>\n",
       "      <td>Collectable Minifigures</td>\n",
       "      <td>Series 4</td>\n",
       "      <td>2011</td>\n",
       "      <td>LEGO Minifigures - Series 4 - Sealed Box</td>\n",
       "      <td>NaN</td>\n",
       "      <td>NaN</td>\n",
       "      <td>119.40</td>\n",
       "      <td>NaN</td>\n",
       "      <td>NaN</td>\n",
       "      <td>NaN</td>\n",
       "      <td>NaN</td>\n",
       "      <td>01/04/2011</td>\n",
       "      <td>31/08/2011</td>\n",
       "      <td>False</td>\n",
       "      <td>uncategorized</td>\n",
       "    </tr>\n",
       "    <tr>\n",
       "      <th>13632</th>\n",
       "      <td>8805-0</td>\n",
       "      <td>Collectable Minifigures</td>\n",
       "      <td>Series 5</td>\n",
       "      <td>2011</td>\n",
       "      <td>LEGO Minifigures - Series 5 {Random bag}</td>\n",
       "      <td>NaN</td>\n",
       "      <td>NaN</td>\n",
       "      <td>1.99</td>\n",
       "      <td>2.99</td>\n",
       "      <td>NaN</td>\n",
       "      <td>NaN</td>\n",
       "      <td>NaN</td>\n",
       "      <td>01/09/2011</td>\n",
       "      <td>31/12/2011</td>\n",
       "      <td>False</td>\n",
       "      <td>uncategorized</td>\n",
       "    </tr>\n",
       "    <tr>\n",
       "      <th>13650</th>\n",
       "      <td>8805-18</td>\n",
       "      <td>Collectable Minifigures</td>\n",
       "      <td>Series 5</td>\n",
       "      <td>2011</td>\n",
       "      <td>LEGO Minifigures - Series 5 - Sealed Box</td>\n",
       "      <td>NaN</td>\n",
       "      <td>NaN</td>\n",
       "      <td>119.40</td>\n",
       "      <td>NaN</td>\n",
       "      <td>NaN</td>\n",
       "      <td>NaN</td>\n",
       "      <td>NaN</td>\n",
       "      <td>01/09/2011</td>\n",
       "      <td>31/12/2011</td>\n",
       "      <td>False</td>\n",
       "      <td>uncategorized</td>\n",
       "    </tr>\n",
       "    <tr>\n",
       "      <th>10826</th>\n",
       "      <td>8827-0</td>\n",
       "      <td>Collectable Minifigures</td>\n",
       "      <td>Series 6</td>\n",
       "      <td>2012</td>\n",
       "      <td>LEGO Minifigures - Series 6 {Random bag}</td>\n",
       "      <td>NaN</td>\n",
       "      <td>NaN</td>\n",
       "      <td>1.99</td>\n",
       "      <td>2.99</td>\n",
       "      <td>NaN</td>\n",
       "      <td>NaN</td>\n",
       "      <td>NaN</td>\n",
       "      <td>01/01/2012</td>\n",
       "      <td>30/04/2012</td>\n",
       "      <td>False</td>\n",
       "      <td>uncategorized</td>\n",
       "    </tr>\n",
       "    <tr>\n",
       "      <th>10844</th>\n",
       "      <td>8827-18</td>\n",
       "      <td>Collectable Minifigures</td>\n",
       "      <td>Series 6</td>\n",
       "      <td>2012</td>\n",
       "      <td>LEGO Minifigures - Series 6 - Sealed Box</td>\n",
       "      <td>NaN</td>\n",
       "      <td>NaN</td>\n",
       "      <td>119.40</td>\n",
       "      <td>NaN</td>\n",
       "      <td>NaN</td>\n",
       "      <td>NaN</td>\n",
       "      <td>NaN</td>\n",
       "      <td>01/01/2012</td>\n",
       "      <td>30/04/2012</td>\n",
       "      <td>False</td>\n",
       "      <td>uncategorized</td>\n",
       "    </tr>\n",
       "    <tr>\n",
       "      <th>10845</th>\n",
       "      <td>8831-0</td>\n",
       "      <td>Collectable Minifigures</td>\n",
       "      <td>Series 7</td>\n",
       "      <td>2012</td>\n",
       "      <td>LEGO Minifigures - Series 7 {Random bag}</td>\n",
       "      <td>NaN</td>\n",
       "      <td>NaN</td>\n",
       "      <td>1.99</td>\n",
       "      <td>2.99</td>\n",
       "      <td>NaN</td>\n",
       "      <td>NaN</td>\n",
       "      <td>NaN</td>\n",
       "      <td>01/05/2012</td>\n",
       "      <td>31/08/2012</td>\n",
       "      <td>False</td>\n",
       "      <td>uncategorized</td>\n",
       "    </tr>\n",
       "    <tr>\n",
       "      <th>10863</th>\n",
       "      <td>8831-18</td>\n",
       "      <td>Collectable Minifigures</td>\n",
       "      <td>Series 7</td>\n",
       "      <td>2012</td>\n",
       "      <td>LEGO Minifigures - Series 7 - Sealed Box</td>\n",
       "      <td>NaN</td>\n",
       "      <td>NaN</td>\n",
       "      <td>119.40</td>\n",
       "      <td>NaN</td>\n",
       "      <td>NaN</td>\n",
       "      <td>NaN</td>\n",
       "      <td>NaN</td>\n",
       "      <td>01/05/2012</td>\n",
       "      <td>31/08/2012</td>\n",
       "      <td>False</td>\n",
       "      <td>uncategorized</td>\n",
       "    </tr>\n",
       "    <tr>\n",
       "      <th>10883</th>\n",
       "      <td>8909-0</td>\n",
       "      <td>Collectable Minifigures</td>\n",
       "      <td>Team GB</td>\n",
       "      <td>2012</td>\n",
       "      <td>LEGO Minifigures - Team GB {Random bag}</td>\n",
       "      <td>NaN</td>\n",
       "      <td>NaN</td>\n",
       "      <td>1.99</td>\n",
       "      <td>2.99</td>\n",
       "      <td>NaN</td>\n",
       "      <td>NaN</td>\n",
       "      <td>NaN</td>\n",
       "      <td>01/07/2012</td>\n",
       "      <td>31/12/2012</td>\n",
       "      <td>False</td>\n",
       "      <td>uncategorized</td>\n",
       "    </tr>\n",
       "    <tr>\n",
       "      <th>10864</th>\n",
       "      <td>8833-0</td>\n",
       "      <td>Collectable Minifigures</td>\n",
       "      <td>Series 8</td>\n",
       "      <td>2012</td>\n",
       "      <td>LEGO Minifigures - Series 8 {Random bag}</td>\n",
       "      <td>NaN</td>\n",
       "      <td>NaN</td>\n",
       "      <td>1.99</td>\n",
       "      <td>2.99</td>\n",
       "      <td>NaN</td>\n",
       "      <td>NaN</td>\n",
       "      <td>NaN</td>\n",
       "      <td>01/09/2012</td>\n",
       "      <td>31/12/2012</td>\n",
       "      <td>False</td>\n",
       "      <td>uncategorized</td>\n",
       "    </tr>\n",
       "    <tr>\n",
       "      <th>10882</th>\n",
       "      <td>8833-18</td>\n",
       "      <td>Collectable Minifigures</td>\n",
       "      <td>Series 8</td>\n",
       "      <td>2012</td>\n",
       "      <td>LEGO Minifigures - Series 8 - Sealed Box</td>\n",
       "      <td>NaN</td>\n",
       "      <td>NaN</td>\n",
       "      <td>NaN</td>\n",
       "      <td>NaN</td>\n",
       "      <td>NaN</td>\n",
       "      <td>NaN</td>\n",
       "      <td>NaN</td>\n",
       "      <td>01/09/2012</td>\n",
       "      <td>31/12/2012</td>\n",
       "      <td>False</td>\n",
       "      <td>uncategorized</td>\n",
       "    </tr>\n",
       "    <tr>\n",
       "      <th>12638</th>\n",
       "      <td>71000-18</td>\n",
       "      <td>Collectable Minifigures</td>\n",
       "      <td>Series 9</td>\n",
       "      <td>2013</td>\n",
       "      <td>LEGO Minifigures - Series 9 - Sealed Box</td>\n",
       "      <td>NaN</td>\n",
       "      <td>NaN</td>\n",
       "      <td>NaN</td>\n",
       "      <td>NaN</td>\n",
       "      <td>NaN</td>\n",
       "      <td>NaN</td>\n",
       "      <td>NaN</td>\n",
       "      <td>01/01/2013</td>\n",
       "      <td>30/04/2013</td>\n",
       "      <td>False</td>\n",
       "      <td>uncategorized</td>\n",
       "    </tr>\n",
       "    <tr>\n",
       "      <th>12639</th>\n",
       "      <td>71001-0</td>\n",
       "      <td>Collectable Minifigures</td>\n",
       "      <td>Series 10</td>\n",
       "      <td>2013</td>\n",
       "      <td>LEGO Minifigures Series 10 {Random bag}</td>\n",
       "      <td>NaN</td>\n",
       "      <td>NaN</td>\n",
       "      <td>1.99</td>\n",
       "      <td>2.99</td>\n",
       "      <td>NaN</td>\n",
       "      <td>NaN</td>\n",
       "      <td>NaN</td>\n",
       "      <td>01/05/2013</td>\n",
       "      <td>31/08/2013</td>\n",
       "      <td>False</td>\n",
       "      <td>uncategorized</td>\n",
       "    </tr>\n",
       "    <tr>\n",
       "      <th>12657</th>\n",
       "      <td>71001-18</td>\n",
       "      <td>Collectable Minifigures</td>\n",
       "      <td>Series 10</td>\n",
       "      <td>2013</td>\n",
       "      <td>LEGO Minifigures - Series 10 - Sealed Box</td>\n",
       "      <td>NaN</td>\n",
       "      <td>NaN</td>\n",
       "      <td>NaN</td>\n",
       "      <td>NaN</td>\n",
       "      <td>NaN</td>\n",
       "      <td>NaN</td>\n",
       "      <td>NaN</td>\n",
       "      <td>01/05/2013</td>\n",
       "      <td>31/08/2013</td>\n",
       "      <td>False</td>\n",
       "      <td>uncategorized</td>\n",
       "    </tr>\n",
       "    <tr>\n",
       "      <th>12677</th>\n",
       "      <td>71002-18</td>\n",
       "      <td>Collectable Minifigures</td>\n",
       "      <td>Series 11</td>\n",
       "      <td>2013</td>\n",
       "      <td>LEGO Minifigures - Series 11 - Sealed Box</td>\n",
       "      <td>NaN</td>\n",
       "      <td>NaN</td>\n",
       "      <td>1.99</td>\n",
       "      <td>NaN</td>\n",
       "      <td>NaN</td>\n",
       "      <td>NaN</td>\n",
       "      <td>NaN</td>\n",
       "      <td>01/09/2013</td>\n",
       "      <td>31/12/2013</td>\n",
       "      <td>False</td>\n",
       "      <td>uncategorized</td>\n",
       "    </tr>\n",
       "    <tr>\n",
       "      <th>6502</th>\n",
       "      <td>71004-0</td>\n",
       "      <td>Collectable Minifigures</td>\n",
       "      <td>The LEGO Movie</td>\n",
       "      <td>2014</td>\n",
       "      <td>LEGO Minifigures - The LEGO Movie Series {Rand...</td>\n",
       "      <td>NaN</td>\n",
       "      <td>NaN</td>\n",
       "      <td>NaN</td>\n",
       "      <td>2.99</td>\n",
       "      <td>NaN</td>\n",
       "      <td>NaN</td>\n",
       "      <td>NaN</td>\n",
       "      <td>01/01/2014</td>\n",
       "      <td>31/12/2014</td>\n",
       "      <td>False</td>\n",
       "      <td>uncategorized</td>\n",
       "    </tr>\n",
       "    <tr>\n",
       "      <th>6520</th>\n",
       "      <td>71004-18</td>\n",
       "      <td>Collectable Minifigures</td>\n",
       "      <td>The LEGO Movie</td>\n",
       "      <td>2014</td>\n",
       "      <td>LEGO Minifigures - The LEGO Movie Series - Sea...</td>\n",
       "      <td>NaN</td>\n",
       "      <td>NaN</td>\n",
       "      <td>2.49</td>\n",
       "      <td>NaN</td>\n",
       "      <td>NaN</td>\n",
       "      <td>NaN</td>\n",
       "      <td>NaN</td>\n",
       "      <td>01/01/2014</td>\n",
       "      <td>31/12/2014</td>\n",
       "      <td>False</td>\n",
       "      <td>uncategorized</td>\n",
       "    </tr>\n",
       "    <tr>\n",
       "      <th>6521</th>\n",
       "      <td>71005-0</td>\n",
       "      <td>Collectable Minifigures</td>\n",
       "      <td>The Simpsons</td>\n",
       "      <td>2014</td>\n",
       "      <td>LEGO Minifigures - The Simpsons Series {Random...</td>\n",
       "      <td>NaN</td>\n",
       "      <td>NaN</td>\n",
       "      <td>NaN</td>\n",
       "      <td>3.99</td>\n",
       "      <td>NaN</td>\n",
       "      <td>NaN</td>\n",
       "      <td>NaN</td>\n",
       "      <td>01/05/2014</td>\n",
       "      <td>31/12/2014</td>\n",
       "      <td>False</td>\n",
       "      <td>uncategorized</td>\n",
       "    </tr>\n",
       "    <tr>\n",
       "      <th>6539</th>\n",
       "      <td>71005-18</td>\n",
       "      <td>Collectable Minifigures</td>\n",
       "      <td>The Simpsons</td>\n",
       "      <td>2014</td>\n",
       "      <td>LEGO Minifigures - The Simpsons Series - Seale...</td>\n",
       "      <td>NaN</td>\n",
       "      <td>NaN</td>\n",
       "      <td>2.49</td>\n",
       "      <td>NaN</td>\n",
       "      <td>NaN</td>\n",
       "      <td>NaN</td>\n",
       "      <td>NaN</td>\n",
       "      <td>01/05/2014</td>\n",
       "      <td>31/12/2014</td>\n",
       "      <td>False</td>\n",
       "      <td>uncategorized</td>\n",
       "    </tr>\n",
       "    <tr>\n",
       "      <th>6541</th>\n",
       "      <td>71007-0</td>\n",
       "      <td>Collectable Minifigures</td>\n",
       "      <td>Series 12</td>\n",
       "      <td>2014</td>\n",
       "      <td>LEGO Minifigures Series 12 {Random bag}</td>\n",
       "      <td>NaN</td>\n",
       "      <td>NaN</td>\n",
       "      <td>2.49</td>\n",
       "      <td>3.99</td>\n",
       "      <td>NaN</td>\n",
       "      <td>NaN</td>\n",
       "      <td>NaN</td>\n",
       "      <td>01/10/2014</td>\n",
       "      <td>31/12/2014</td>\n",
       "      <td>False</td>\n",
       "      <td>uncategorized</td>\n",
       "    </tr>\n",
       "    <tr>\n",
       "      <th>6559</th>\n",
       "      <td>71007-18</td>\n",
       "      <td>Collectable Minifigures</td>\n",
       "      <td>Series 12</td>\n",
       "      <td>2014</td>\n",
       "      <td>LEGO Minifigures - Series 12 - Sealed Box</td>\n",
       "      <td>NaN</td>\n",
       "      <td>NaN</td>\n",
       "      <td>2.49</td>\n",
       "      <td>NaN</td>\n",
       "      <td>NaN</td>\n",
       "      <td>NaN</td>\n",
       "      <td>NaN</td>\n",
       "      <td>01/10/2014</td>\n",
       "      <td>31/12/2014</td>\n",
       "      <td>False</td>\n",
       "      <td>uncategorized</td>\n",
       "    </tr>\n",
       "    <tr>\n",
       "      <th>7263</th>\n",
       "      <td>71008-18</td>\n",
       "      <td>Collectable Minifigures</td>\n",
       "      <td>Series 13</td>\n",
       "      <td>2015</td>\n",
       "      <td>LEGO Minifigures - Series 13 - Sealed Box</td>\n",
       "      <td>NaN</td>\n",
       "      <td>NaN</td>\n",
       "      <td>2.49</td>\n",
       "      <td>NaN</td>\n",
       "      <td>2.99</td>\n",
       "      <td>NaN</td>\n",
       "      <td>NaN</td>\n",
       "      <td>01/01/2015</td>\n",
       "      <td>30/04/2015</td>\n",
       "      <td>False</td>\n",
       "      <td>uncategorized</td>\n",
       "    </tr>\n",
       "    <tr>\n",
       "      <th>7264</th>\n",
       "      <td>71009-0</td>\n",
       "      <td>Collectable Minifigures</td>\n",
       "      <td>The Simpsons Series 2</td>\n",
       "      <td>2015</td>\n",
       "      <td>LEGO Minifigures - The Simpsons Series 2 {Rand...</td>\n",
       "      <td>NaN</td>\n",
       "      <td>NaN</td>\n",
       "      <td>NaN</td>\n",
       "      <td>3.99</td>\n",
       "      <td>NaN</td>\n",
       "      <td>NaN</td>\n",
       "      <td>NaN</td>\n",
       "      <td>01/05/2015</td>\n",
       "      <td>31/08/2015</td>\n",
       "      <td>False</td>\n",
       "      <td>uncategorized</td>\n",
       "    </tr>\n",
       "    <tr>\n",
       "      <th>7282</th>\n",
       "      <td>71009-18</td>\n",
       "      <td>Collectable Minifigures</td>\n",
       "      <td>The Simpsons Series 2</td>\n",
       "      <td>2015</td>\n",
       "      <td>LEGO Minifigures - The Simpsons Series 2 - Sea...</td>\n",
       "      <td>NaN</td>\n",
       "      <td>NaN</td>\n",
       "      <td>2.49</td>\n",
       "      <td>NaN</td>\n",
       "      <td>2.99</td>\n",
       "      <td>NaN</td>\n",
       "      <td>NaN</td>\n",
       "      <td>01/05/2015</td>\n",
       "      <td>31/08/2015</td>\n",
       "      <td>False</td>\n",
       "      <td>uncategorized</td>\n",
       "    </tr>\n",
       "    <tr>\n",
       "      <th>7283</th>\n",
       "      <td>71010-0</td>\n",
       "      <td>Collectable Minifigures</td>\n",
       "      <td>Series 14 - Monsters</td>\n",
       "      <td>2015</td>\n",
       "      <td>LEGO Minifigures - Series 14 - Monsters {Rando...</td>\n",
       "      <td>NaN</td>\n",
       "      <td>NaN</td>\n",
       "      <td>NaN</td>\n",
       "      <td>3.99</td>\n",
       "      <td>NaN</td>\n",
       "      <td>NaN</td>\n",
       "      <td>NaN</td>\n",
       "      <td>01/09/2015</td>\n",
       "      <td>31/12/2015</td>\n",
       "      <td>False</td>\n",
       "      <td>uncategorized</td>\n",
       "    </tr>\n",
       "    <tr>\n",
       "      <th>7301</th>\n",
       "      <td>71010-18</td>\n",
       "      <td>Collectable Minifigures</td>\n",
       "      <td>Series 14 - Monsters</td>\n",
       "      <td>2015</td>\n",
       "      <td>LEGO Minifigures - Series 14 - Monsters - Seal...</td>\n",
       "      <td>NaN</td>\n",
       "      <td>NaN</td>\n",
       "      <td>2.49</td>\n",
       "      <td>NaN</td>\n",
       "      <td>2.99</td>\n",
       "      <td>NaN</td>\n",
       "      <td>NaN</td>\n",
       "      <td>01/09/2015</td>\n",
       "      <td>31/12/2015</td>\n",
       "      <td>False</td>\n",
       "      <td>uncategorized</td>\n",
       "    </tr>\n",
       "    <tr>\n",
       "      <th>10182</th>\n",
       "      <td>71011-0</td>\n",
       "      <td>Collectable Minifigures</td>\n",
       "      <td>Series 15</td>\n",
       "      <td>2016</td>\n",
       "      <td>LEGO Minifigures - Series 15 {Random bag}</td>\n",
       "      <td>NaN</td>\n",
       "      <td>NaN</td>\n",
       "      <td>NaN</td>\n",
       "      <td>3.99</td>\n",
       "      <td>NaN</td>\n",
       "      <td>NaN</td>\n",
       "      <td>NaN</td>\n",
       "      <td>01/01/2016</td>\n",
       "      <td>30/04/2016</td>\n",
       "      <td>False</td>\n",
       "      <td>uncategorized</td>\n",
       "    </tr>\n",
       "    <tr>\n",
       "      <th>10200</th>\n",
       "      <td>71011-18</td>\n",
       "      <td>Collectable Minifigures</td>\n",
       "      <td>Series 15</td>\n",
       "      <td>2016</td>\n",
       "      <td>LEGO Minifigures - Series 15 - Sealed Box</td>\n",
       "      <td>NaN</td>\n",
       "      <td>NaN</td>\n",
       "      <td>2.49</td>\n",
       "      <td>NaN</td>\n",
       "      <td>2.99</td>\n",
       "      <td>NaN</td>\n",
       "      <td>NaN</td>\n",
       "      <td>01/01/2016</td>\n",
       "      <td>30/04/2016</td>\n",
       "      <td>False</td>\n",
       "      <td>uncategorized</td>\n",
       "    </tr>\n",
       "    <tr>\n",
       "      <th>10201</th>\n",
       "      <td>71012-0</td>\n",
       "      <td>Collectable Minifigures</td>\n",
       "      <td>Disney</td>\n",
       "      <td>2016</td>\n",
       "      <td>LEGO Minifigures - Disney Series {Random bag}</td>\n",
       "      <td>NaN</td>\n",
       "      <td>NaN</td>\n",
       "      <td>NaN</td>\n",
       "      <td>3.99</td>\n",
       "      <td>NaN</td>\n",
       "      <td>NaN</td>\n",
       "      <td>NaN</td>\n",
       "      <td>01/05/2016</td>\n",
       "      <td>31/08/2016</td>\n",
       "      <td>False</td>\n",
       "      <td>uncategorized</td>\n",
       "    </tr>\n",
       "    <tr>\n",
       "      <th>10221</th>\n",
       "      <td>71012-20</td>\n",
       "      <td>Collectable Minifigures</td>\n",
       "      <td>Disney</td>\n",
       "      <td>2016</td>\n",
       "      <td>LEGO Minifigures - Disney Series - Sealed Box</td>\n",
       "      <td>NaN</td>\n",
       "      <td>NaN</td>\n",
       "      <td>NaN</td>\n",
       "      <td>NaN</td>\n",
       "      <td>NaN</td>\n",
       "      <td>NaN</td>\n",
       "      <td>NaN</td>\n",
       "      <td>01/05/2016</td>\n",
       "      <td>31/08/2016</td>\n",
       "      <td>False</td>\n",
       "      <td>uncategorized</td>\n",
       "    </tr>\n",
       "    <tr>\n",
       "      <th>10241</th>\n",
       "      <td>71014-0</td>\n",
       "      <td>Collectable Minifigures</td>\n",
       "      <td>DFB Series</td>\n",
       "      <td>2016</td>\n",
       "      <td>LEGO Minifigures - DFB Series {Random bag}</td>\n",
       "      <td>NaN</td>\n",
       "      <td>NaN</td>\n",
       "      <td>NaN</td>\n",
       "      <td>NaN</td>\n",
       "      <td>NaN</td>\n",
       "      <td>NaN</td>\n",
       "      <td>NaN</td>\n",
       "      <td>01/05/2016</td>\n",
       "      <td>31/08/2016</td>\n",
       "      <td>False</td>\n",
       "      <td>uncategorized</td>\n",
       "    </tr>\n",
       "    <tr>\n",
       "      <th>10259</th>\n",
       "      <td>71014-18</td>\n",
       "      <td>Collectable Minifigures</td>\n",
       "      <td>DFB Series</td>\n",
       "      <td>2016</td>\n",
       "      <td>LEGO Minifigures - DFB Series - Sealed Box</td>\n",
       "      <td>NaN</td>\n",
       "      <td>NaN</td>\n",
       "      <td>NaN</td>\n",
       "      <td>NaN</td>\n",
       "      <td>NaN</td>\n",
       "      <td>NaN</td>\n",
       "      <td>NaN</td>\n",
       "      <td>01/05/2016</td>\n",
       "      <td>31/08/2016</td>\n",
       "      <td>False</td>\n",
       "      <td>uncategorized</td>\n",
       "    </tr>\n",
       "    <tr>\n",
       "      <th>10222</th>\n",
       "      <td>71013-0</td>\n",
       "      <td>Collectable Minifigures</td>\n",
       "      <td>Series 16</td>\n",
       "      <td>2016</td>\n",
       "      <td>LEGO Minifigures - Series 16 {Random bag}</td>\n",
       "      <td>NaN</td>\n",
       "      <td>NaN</td>\n",
       "      <td>NaN</td>\n",
       "      <td>3.99</td>\n",
       "      <td>NaN</td>\n",
       "      <td>NaN</td>\n",
       "      <td>NaN</td>\n",
       "      <td>01/09/2016</td>\n",
       "      <td>31/12/2016</td>\n",
       "      <td>False</td>\n",
       "      <td>uncategorized</td>\n",
       "    </tr>\n",
       "    <tr>\n",
       "      <th>10240</th>\n",
       "      <td>71013-18</td>\n",
       "      <td>Collectable Minifigures</td>\n",
       "      <td>Series 16</td>\n",
       "      <td>2016</td>\n",
       "      <td>LEGO Minifigures - Series 16 - Sealed Box</td>\n",
       "      <td>NaN</td>\n",
       "      <td>NaN</td>\n",
       "      <td>NaN</td>\n",
       "      <td>NaN</td>\n",
       "      <td>NaN</td>\n",
       "      <td>NaN</td>\n",
       "      <td>NaN</td>\n",
       "      <td>01/09/2016</td>\n",
       "      <td>31/12/2016</td>\n",
       "      <td>False</td>\n",
       "      <td>uncategorized</td>\n",
       "    </tr>\n",
       "    <tr>\n",
       "      <th>8492</th>\n",
       "      <td>71017-0</td>\n",
       "      <td>Collectable Minifigures</td>\n",
       "      <td>The LEGO Batman Movie</td>\n",
       "      <td>2017</td>\n",
       "      <td>LEGO Minifigures - The LEGO Batman Movie Serie...</td>\n",
       "      <td>NaN</td>\n",
       "      <td>NaN</td>\n",
       "      <td>NaN</td>\n",
       "      <td>NaN</td>\n",
       "      <td>NaN</td>\n",
       "      <td>NaN</td>\n",
       "      <td>NaN</td>\n",
       "      <td>01/01/2017</td>\n",
       "      <td>30/04/2017</td>\n",
       "      <td>False</td>\n",
       "      <td>uncategorized</td>\n",
       "    </tr>\n",
       "    <tr>\n",
       "      <th>8514</th>\n",
       "      <td>71017-22</td>\n",
       "      <td>Collectable Minifigures</td>\n",
       "      <td>The LEGO Batman Movie</td>\n",
       "      <td>2017</td>\n",
       "      <td>LEGO Minifigures - The LEGO Batman Movie Serie...</td>\n",
       "      <td>NaN</td>\n",
       "      <td>NaN</td>\n",
       "      <td>2.99</td>\n",
       "      <td>3.99</td>\n",
       "      <td>3.99</td>\n",
       "      <td>NaN</td>\n",
       "      <td>NaN</td>\n",
       "      <td>01/01/2017</td>\n",
       "      <td>30/04/2017</td>\n",
       "      <td>False</td>\n",
       "      <td>uncategorized</td>\n",
       "    </tr>\n",
       "    <tr>\n",
       "      <th>8515</th>\n",
       "      <td>71018-0</td>\n",
       "      <td>Collectable Minifigures</td>\n",
       "      <td>Series 17</td>\n",
       "      <td>2017</td>\n",
       "      <td>LEGO Minifigures - Series 17 {Random bag}</td>\n",
       "      <td>NaN</td>\n",
       "      <td>NaN</td>\n",
       "      <td>NaN</td>\n",
       "      <td>3.99</td>\n",
       "      <td>NaN</td>\n",
       "      <td>NaN</td>\n",
       "      <td>NaN</td>\n",
       "      <td>01/05/2017</td>\n",
       "      <td>31/07/2017</td>\n",
       "      <td>False</td>\n",
       "      <td>uncategorized</td>\n",
       "    </tr>\n",
       "    <tr>\n",
       "      <th>8533</th>\n",
       "      <td>71018-18</td>\n",
       "      <td>Collectable Minifigures</td>\n",
       "      <td>Series 17</td>\n",
       "      <td>2017</td>\n",
       "      <td>LEGO Minifigures - Series 17 - Sealed Box</td>\n",
       "      <td>NaN</td>\n",
       "      <td>NaN</td>\n",
       "      <td>2.99</td>\n",
       "      <td>3.99</td>\n",
       "      <td>3.99</td>\n",
       "      <td>NaN</td>\n",
       "      <td>NaN</td>\n",
       "      <td>01/05/2017</td>\n",
       "      <td>31/07/2017</td>\n",
       "      <td>False</td>\n",
       "      <td>uncategorized</td>\n",
       "    </tr>\n",
       "    <tr>\n",
       "      <th>8534</th>\n",
       "      <td>71019-0</td>\n",
       "      <td>Collectable Minifigures</td>\n",
       "      <td>The LEGO Ninjago Movie</td>\n",
       "      <td>2017</td>\n",
       "      <td>LEGO Minifigures - The LEGO NINJAGO Movie Seri...</td>\n",
       "      <td>NaN</td>\n",
       "      <td>NaN</td>\n",
       "      <td>NaN</td>\n",
       "      <td>3.99</td>\n",
       "      <td>NaN</td>\n",
       "      <td>NaN</td>\n",
       "      <td>NaN</td>\n",
       "      <td>01/08/2017</td>\n",
       "      <td>31/12/2017</td>\n",
       "      <td>False</td>\n",
       "      <td>uncategorized</td>\n",
       "    </tr>\n",
       "    <tr>\n",
       "      <th>8556</th>\n",
       "      <td>71019-22</td>\n",
       "      <td>Collectable Minifigures</td>\n",
       "      <td>The LEGO Ninjago Movie</td>\n",
       "      <td>2017</td>\n",
       "      <td>LEGO Minifigures - The LEGO NINJAGO Movie Seri...</td>\n",
       "      <td>NaN</td>\n",
       "      <td>NaN</td>\n",
       "      <td>2.99</td>\n",
       "      <td>3.99</td>\n",
       "      <td>3.99</td>\n",
       "      <td>NaN</td>\n",
       "      <td>NaN</td>\n",
       "      <td>01/08/2017</td>\n",
       "      <td>31/12/2017</td>\n",
       "      <td>False</td>\n",
       "      <td>uncategorized</td>\n",
       "    </tr>\n",
       "    <tr>\n",
       "      <th>4469</th>\n",
       "      <td>71020-0</td>\n",
       "      <td>Collectable Minifigures</td>\n",
       "      <td>The LEGO Batman Movie Series 2</td>\n",
       "      <td>2018</td>\n",
       "      <td>LEGO Minifigures - The LEGO Batman Movie Serie...</td>\n",
       "      <td>NaN</td>\n",
       "      <td>NaN</td>\n",
       "      <td>NaN</td>\n",
       "      <td>3.99</td>\n",
       "      <td>NaN</td>\n",
       "      <td>NaN</td>\n",
       "      <td>NaN</td>\n",
       "      <td>01/01/2018</td>\n",
       "      <td>31/03/2018</td>\n",
       "      <td>False</td>\n",
       "      <td>uncategorized</td>\n",
       "    </tr>\n",
       "    <tr>\n",
       "      <th>4491</th>\n",
       "      <td>71020-22</td>\n",
       "      <td>Collectable Minifigures</td>\n",
       "      <td>The LEGO Batman Movie Series 2</td>\n",
       "      <td>2018</td>\n",
       "      <td>LEGO Minifigures - The LEGO Batman Movie Serie...</td>\n",
       "      <td>NaN</td>\n",
       "      <td>NaN</td>\n",
       "      <td>NaN</td>\n",
       "      <td>NaN</td>\n",
       "      <td>NaN</td>\n",
       "      <td>NaN</td>\n",
       "      <td>NaN</td>\n",
       "      <td>01/01/2018</td>\n",
       "      <td>31/03/2018</td>\n",
       "      <td>False</td>\n",
       "      <td>uncategorized</td>\n",
       "    </tr>\n",
       "    <tr>\n",
       "      <th>4492</th>\n",
       "      <td>71021-0</td>\n",
       "      <td>Collectable Minifigures</td>\n",
       "      <td>Series 18</td>\n",
       "      <td>2018</td>\n",
       "      <td>LEGO Minifigures - Series 18 {Random bag}</td>\n",
       "      <td>NaN</td>\n",
       "      <td>NaN</td>\n",
       "      <td>NaN</td>\n",
       "      <td>3.99</td>\n",
       "      <td>NaN</td>\n",
       "      <td>NaN</td>\n",
       "      <td>NaN</td>\n",
       "      <td>01/04/2018</td>\n",
       "      <td>31/07/2018</td>\n",
       "      <td>False</td>\n",
       "      <td>uncategorized</td>\n",
       "    </tr>\n",
       "    <tr>\n",
       "      <th>4511</th>\n",
       "      <td>71021-19</td>\n",
       "      <td>Collectable Minifigures</td>\n",
       "      <td>Series 18</td>\n",
       "      <td>2018</td>\n",
       "      <td>LEGO Minifigures - Series 18 - Sealed Box</td>\n",
       "      <td>NaN</td>\n",
       "      <td>NaN</td>\n",
       "      <td>2.99</td>\n",
       "      <td>3.99</td>\n",
       "      <td>3.99</td>\n",
       "      <td>NaN</td>\n",
       "      <td>NaN</td>\n",
       "      <td>01/04/2018</td>\n",
       "      <td>31/07/2018</td>\n",
       "      <td>False</td>\n",
       "      <td>uncategorized</td>\n",
       "    </tr>\n",
       "    <tr>\n",
       "      <th>4512</th>\n",
       "      <td>71022-0</td>\n",
       "      <td>Collectable Minifigures</td>\n",
       "      <td>Harry Potter</td>\n",
       "      <td>2018</td>\n",
       "      <td>LEGO Minifigures - Harry Potter and Fantastic ...</td>\n",
       "      <td>NaN</td>\n",
       "      <td>NaN</td>\n",
       "      <td>NaN</td>\n",
       "      <td>NaN</td>\n",
       "      <td>NaN</td>\n",
       "      <td>NaN</td>\n",
       "      <td>NaN</td>\n",
       "      <td>01/08/2018</td>\n",
       "      <td>31/12/2018</td>\n",
       "      <td>False</td>\n",
       "      <td>uncategorized</td>\n",
       "    </tr>\n",
       "    <tr>\n",
       "      <th>4536</th>\n",
       "      <td>71022-24</td>\n",
       "      <td>Collectable Minifigures</td>\n",
       "      <td>Harry Potter</td>\n",
       "      <td>2018</td>\n",
       "      <td>LEGO Minifigures - Harry Potter and Fantastic ...</td>\n",
       "      <td>NaN</td>\n",
       "      <td>NaN</td>\n",
       "      <td>2.99</td>\n",
       "      <td>3.99</td>\n",
       "      <td>3.99</td>\n",
       "      <td>NaN</td>\n",
       "      <td>NaN</td>\n",
       "      <td>01/08/2018</td>\n",
       "      <td>31/12/2018</td>\n",
       "      <td>False</td>\n",
       "      <td>uncategorized</td>\n",
       "    </tr>\n",
       "    <tr>\n",
       "      <th>5247</th>\n",
       "      <td>71023-0</td>\n",
       "      <td>Collectable Minifigures</td>\n",
       "      <td>The LEGO Movie 2</td>\n",
       "      <td>2019</td>\n",
       "      <td>LEGO Minifigures - The LEGO Movie 2 Series {Ra...</td>\n",
       "      <td>NaN</td>\n",
       "      <td>NaN</td>\n",
       "      <td>NaN</td>\n",
       "      <td>3.99</td>\n",
       "      <td>NaN</td>\n",
       "      <td>NaN</td>\n",
       "      <td>NaN</td>\n",
       "      <td>NaN</td>\n",
       "      <td>NaN</td>\n",
       "      <td>False</td>\n",
       "      <td>uncategorized</td>\n",
       "    </tr>\n",
       "    <tr>\n",
       "      <th>5269</th>\n",
       "      <td>71023-22</td>\n",
       "      <td>Collectable Minifigures</td>\n",
       "      <td>The LEGO Movie 2</td>\n",
       "      <td>2019</td>\n",
       "      <td>LEGO Minifigures - The LEGO Movie 2 Series - S...</td>\n",
       "      <td>NaN</td>\n",
       "      <td>NaN</td>\n",
       "      <td>2.99</td>\n",
       "      <td>3.99</td>\n",
       "      <td>3.99</td>\n",
       "      <td>NaN</td>\n",
       "      <td>NaN</td>\n",
       "      <td>NaN</td>\n",
       "      <td>NaN</td>\n",
       "      <td>False</td>\n",
       "      <td>uncategorized</td>\n",
       "    </tr>\n",
       "    <tr>\n",
       "      <th>5290</th>\n",
       "      <td>71024-20</td>\n",
       "      <td>Collectable Minifigures</td>\n",
       "      <td>Disney series 2</td>\n",
       "      <td>2019</td>\n",
       "      <td>LEGO Minifigures - Disney Series 2 - Sealed Box</td>\n",
       "      <td>NaN</td>\n",
       "      <td>NaN</td>\n",
       "      <td>2.99</td>\n",
       "      <td>3.99</td>\n",
       "      <td>3.99</td>\n",
       "      <td>NaN</td>\n",
       "      <td>NaN</td>\n",
       "      <td>NaN</td>\n",
       "      <td>NaN</td>\n",
       "      <td>False</td>\n",
       "      <td>uncategorized</td>\n",
       "    </tr>\n",
       "    <tr>\n",
       "      <th>5291</th>\n",
       "      <td>71025-0</td>\n",
       "      <td>Collectable Minifigures</td>\n",
       "      <td>Series 19</td>\n",
       "      <td>2019</td>\n",
       "      <td>LEGO Minifigures - Series 19 {Random Bag}</td>\n",
       "      <td>NaN</td>\n",
       "      <td>NaN</td>\n",
       "      <td>NaN</td>\n",
       "      <td>3.99</td>\n",
       "      <td>NaN</td>\n",
       "      <td>NaN</td>\n",
       "      <td>NaN</td>\n",
       "      <td>NaN</td>\n",
       "      <td>NaN</td>\n",
       "      <td>False</td>\n",
       "      <td>uncategorized</td>\n",
       "    </tr>\n",
       "    <tr>\n",
       "      <th>3429</th>\n",
       "      <td>71027-0</td>\n",
       "      <td>Collectable Minifigures</td>\n",
       "      <td>Series 20</td>\n",
       "      <td>2020</td>\n",
       "      <td>LEGO Minifigures - Series 20 {Random Bag}</td>\n",
       "      <td>NaN</td>\n",
       "      <td>NaN</td>\n",
       "      <td>NaN</td>\n",
       "      <td>4.99</td>\n",
       "      <td>NaN</td>\n",
       "      <td>NaN</td>\n",
       "      <td>NaN</td>\n",
       "      <td>NaN</td>\n",
       "      <td>NaN</td>\n",
       "      <td>False</td>\n",
       "      <td>uncategorized</td>\n",
       "    </tr>\n",
       "    <tr>\n",
       "      <th>3448</th>\n",
       "      <td>71028-0</td>\n",
       "      <td>Collectable Minifigures</td>\n",
       "      <td>Harry Potter Series 2</td>\n",
       "      <td>2020</td>\n",
       "      <td>LEGO Minifigures - Harry Potter Series 2 {Rand...</td>\n",
       "      <td>NaN</td>\n",
       "      <td>NaN</td>\n",
       "      <td>NaN</td>\n",
       "      <td>4.99</td>\n",
       "      <td>NaN</td>\n",
       "      <td>NaN</td>\n",
       "      <td>NaN</td>\n",
       "      <td>NaN</td>\n",
       "      <td>NaN</td>\n",
       "      <td>False</td>\n",
       "      <td>uncategorized</td>\n",
       "    </tr>\n",
       "    <tr>\n",
       "      <th>3466</th>\n",
       "      <td>71028-18</td>\n",
       "      <td>Collectable Minifigures</td>\n",
       "      <td>Harry Potter Series 2</td>\n",
       "      <td>2020</td>\n",
       "      <td>LEGO Minifigures - Harry Potter Series 2 - Sea...</td>\n",
       "      <td>NaN</td>\n",
       "      <td>NaN</td>\n",
       "      <td>3.49</td>\n",
       "      <td>4.99</td>\n",
       "      <td>3.89</td>\n",
       "      <td>NaN</td>\n",
       "      <td>NaN</td>\n",
       "      <td>NaN</td>\n",
       "      <td>NaN</td>\n",
       "      <td>False</td>\n",
       "      <td>uncategorized</td>\n",
       "    </tr>\n",
       "    <tr>\n",
       "      <th>1592</th>\n",
       "      <td>71029-0</td>\n",
       "      <td>Collectable Minifigures</td>\n",
       "      <td>Series 21</td>\n",
       "      <td>2021</td>\n",
       "      <td>LEGO Minifigures - Series 21 {Random bag}</td>\n",
       "      <td>NaN</td>\n",
       "      <td>NaN</td>\n",
       "      <td>3.49</td>\n",
       "      <td>4.99</td>\n",
       "      <td>3.99</td>\n",
       "      <td>NaN</td>\n",
       "      <td>NaN</td>\n",
       "      <td>01/01/2021</td>\n",
       "      <td>30/04/2021</td>\n",
       "      <td>False</td>\n",
       "      <td>uncategorized</td>\n",
       "    </tr>\n",
       "    <tr>\n",
       "      <th>1606</th>\n",
       "      <td>71029-14</td>\n",
       "      <td>Collectable Minifigures</td>\n",
       "      <td>Series 21</td>\n",
       "      <td>2021</td>\n",
       "      <td>LEGO Minifigures - Series 21 - Sealed Box</td>\n",
       "      <td>NaN</td>\n",
       "      <td>NaN</td>\n",
       "      <td>3.49</td>\n",
       "      <td>4.99</td>\n",
       "      <td>3.99</td>\n",
       "      <td>NaN</td>\n",
       "      <td>NaN</td>\n",
       "      <td>01/01/2021</td>\n",
       "      <td>30/04/2021</td>\n",
       "      <td>False</td>\n",
       "      <td>uncategorized</td>\n",
       "    </tr>\n",
       "    <tr>\n",
       "      <th>1622</th>\n",
       "      <td>71031-0</td>\n",
       "      <td>Collectable Minifigures</td>\n",
       "      <td>Marvel Studios</td>\n",
       "      <td>2021</td>\n",
       "      <td>LEGO Minifigures - Marvel Studios Series {Rand...</td>\n",
       "      <td>NaN</td>\n",
       "      <td>NaN</td>\n",
       "      <td>3.49</td>\n",
       "      <td>4.99</td>\n",
       "      <td>3.99</td>\n",
       "      <td>NaN</td>\n",
       "      <td>NaN</td>\n",
       "      <td>01/09/2021</td>\n",
       "      <td>31/12/2021</td>\n",
       "      <td>False</td>\n",
       "      <td>uncategorized</td>\n",
       "    </tr>\n",
       "    <tr>\n",
       "      <th>1636</th>\n",
       "      <td>71031-14</td>\n",
       "      <td>Collectable Minifigures</td>\n",
       "      <td>Marvel Studios</td>\n",
       "      <td>2021</td>\n",
       "      <td>LEGO Minifigures - Marvel Studios Series - Sea...</td>\n",
       "      <td>NaN</td>\n",
       "      <td>NaN</td>\n",
       "      <td>NaN</td>\n",
       "      <td>NaN</td>\n",
       "      <td>NaN</td>\n",
       "      <td>NaN</td>\n",
       "      <td>NaN</td>\n",
       "      <td>01/09/2021</td>\n",
       "      <td>31/12/2021</td>\n",
       "      <td>False</td>\n",
       "      <td>uncategorized</td>\n",
       "    </tr>\n",
       "    <tr>\n",
       "      <th>1607</th>\n",
       "      <td>71030-0</td>\n",
       "      <td>Collectable Minifigures</td>\n",
       "      <td>Looney Tunes</td>\n",
       "      <td>2021</td>\n",
       "      <td>LEGO Minifigures - Looney Tunes Series {Random...</td>\n",
       "      <td>NaN</td>\n",
       "      <td>NaN</td>\n",
       "      <td>3.49</td>\n",
       "      <td>4.99</td>\n",
       "      <td>3.99</td>\n",
       "      <td>NaN</td>\n",
       "      <td>NaN</td>\n",
       "      <td>26/04/2021</td>\n",
       "      <td>31/08/2021</td>\n",
       "      <td>False</td>\n",
       "      <td>uncategorized</td>\n",
       "    </tr>\n",
       "    <tr>\n",
       "      <th>1621</th>\n",
       "      <td>71030-14</td>\n",
       "      <td>Collectable Minifigures</td>\n",
       "      <td>Looney Tunes</td>\n",
       "      <td>2021</td>\n",
       "      <td>LEGO Minifigures - Looney Tunes Series - Seale...</td>\n",
       "      <td>NaN</td>\n",
       "      <td>NaN</td>\n",
       "      <td>3.49</td>\n",
       "      <td>4.99</td>\n",
       "      <td>3.99</td>\n",
       "      <td>NaN</td>\n",
       "      <td>NaN</td>\n",
       "      <td>26/04/2021</td>\n",
       "      <td>31/08/2021</td>\n",
       "      <td>False</td>\n",
       "      <td>uncategorized</td>\n",
       "    </tr>\n",
       "    <tr>\n",
       "      <th>1588</th>\n",
       "      <td>66678-1</td>\n",
       "      <td>Collectable Minifigures</td>\n",
       "      <td>Marvel Studios</td>\n",
       "      <td>2021</td>\n",
       "      <td>LEGO Minifigures - Marvel Studios Series {Box ...</td>\n",
       "      <td>NaN</td>\n",
       "      <td>NaN</td>\n",
       "      <td>NaN</td>\n",
       "      <td>29.94</td>\n",
       "      <td>NaN</td>\n",
       "      <td>42.00</td>\n",
       "      <td>NaN</td>\n",
       "      <td>NaN</td>\n",
       "      <td>NaN</td>\n",
       "      <td>False</td>\n",
       "      <td>uncategorized</td>\n",
       "    </tr>\n",
       "    <tr>\n",
       "      <th>4013</th>\n",
       "      <td>66700-1</td>\n",
       "      <td>Collectable Minifigures</td>\n",
       "      <td>Series 22</td>\n",
       "      <td>2022</td>\n",
       "      <td>LEGO Minifigures - Series 22 {Box of 6 random ...</td>\n",
       "      <td>NaN</td>\n",
       "      <td>NaN</td>\n",
       "      <td>NaN</td>\n",
       "      <td>29.94</td>\n",
       "      <td>NaN</td>\n",
       "      <td>NaN</td>\n",
       "      <td>NaN</td>\n",
       "      <td>NaN</td>\n",
       "      <td>NaN</td>\n",
       "      <td>False</td>\n",
       "      <td>uncategorized</td>\n",
       "    </tr>\n",
       "    <tr>\n",
       "      <th>4028</th>\n",
       "      <td>71032-14</td>\n",
       "      <td>Collectable Minifigures</td>\n",
       "      <td>Series 22</td>\n",
       "      <td>2022</td>\n",
       "      <td>LEGO Minifigures - Series 22 - Sealed Box</td>\n",
       "      <td>NaN</td>\n",
       "      <td>NaN</td>\n",
       "      <td>3.49</td>\n",
       "      <td>4.99</td>\n",
       "      <td>3.99</td>\n",
       "      <td>NaN</td>\n",
       "      <td>NaN</td>\n",
       "      <td>NaN</td>\n",
       "      <td>NaN</td>\n",
       "      <td>False</td>\n",
       "      <td>uncategorized</td>\n",
       "    </tr>\n",
       "  </tbody>\n",
       "</table>\n",
       "</div>"
      ],
      "text/plain": [
       "         number                    theme                        subtheme  \\\n",
       "14162    8683-0  Collectable Minifigures                        Series 1   \n",
       "14180   8683-18  Collectable Minifigures                        Series 1   \n",
       "14181    8684-0  Collectable Minifigures                        Series 2   \n",
       "14199   8684-18  Collectable Minifigures                        Series 2   \n",
       "13594    8803-0  Collectable Minifigures                        Series 3   \n",
       "13612   8803-18  Collectable Minifigures                        Series 3   \n",
       "13613    8804-0  Collectable Minifigures                        Series 4   \n",
       "13631   8804-18  Collectable Minifigures                        Series 4   \n",
       "13632    8805-0  Collectable Minifigures                        Series 5   \n",
       "13650   8805-18  Collectable Minifigures                        Series 5   \n",
       "10826    8827-0  Collectable Minifigures                        Series 6   \n",
       "10844   8827-18  Collectable Minifigures                        Series 6   \n",
       "10845    8831-0  Collectable Minifigures                        Series 7   \n",
       "10863   8831-18  Collectable Minifigures                        Series 7   \n",
       "10883    8909-0  Collectable Minifigures                         Team GB   \n",
       "10864    8833-0  Collectable Minifigures                        Series 8   \n",
       "10882   8833-18  Collectable Minifigures                        Series 8   \n",
       "12638  71000-18  Collectable Minifigures                        Series 9   \n",
       "12639   71001-0  Collectable Minifigures                       Series 10   \n",
       "12657  71001-18  Collectable Minifigures                       Series 10   \n",
       "12677  71002-18  Collectable Minifigures                       Series 11   \n",
       "6502    71004-0  Collectable Minifigures                  The LEGO Movie   \n",
       "6520   71004-18  Collectable Minifigures                  The LEGO Movie   \n",
       "6521    71005-0  Collectable Minifigures                    The Simpsons   \n",
       "6539   71005-18  Collectable Minifigures                    The Simpsons   \n",
       "6541    71007-0  Collectable Minifigures                       Series 12   \n",
       "6559   71007-18  Collectable Minifigures                       Series 12   \n",
       "7263   71008-18  Collectable Minifigures                       Series 13   \n",
       "7264    71009-0  Collectable Minifigures           The Simpsons Series 2   \n",
       "7282   71009-18  Collectable Minifigures           The Simpsons Series 2   \n",
       "7283    71010-0  Collectable Minifigures            Series 14 - Monsters   \n",
       "7301   71010-18  Collectable Minifigures            Series 14 - Monsters   \n",
       "10182   71011-0  Collectable Minifigures                       Series 15   \n",
       "10200  71011-18  Collectable Minifigures                       Series 15   \n",
       "10201   71012-0  Collectable Minifigures                          Disney   \n",
       "10221  71012-20  Collectable Minifigures                          Disney   \n",
       "10241   71014-0  Collectable Minifigures                      DFB Series   \n",
       "10259  71014-18  Collectable Minifigures                      DFB Series   \n",
       "10222   71013-0  Collectable Minifigures                       Series 16   \n",
       "10240  71013-18  Collectable Minifigures                       Series 16   \n",
       "8492    71017-0  Collectable Minifigures           The LEGO Batman Movie   \n",
       "8514   71017-22  Collectable Minifigures           The LEGO Batman Movie   \n",
       "8515    71018-0  Collectable Minifigures                       Series 17   \n",
       "8533   71018-18  Collectable Minifigures                       Series 17   \n",
       "8534    71019-0  Collectable Minifigures          The LEGO Ninjago Movie   \n",
       "8556   71019-22  Collectable Minifigures          The LEGO Ninjago Movie   \n",
       "4469    71020-0  Collectable Minifigures  The LEGO Batman Movie Series 2   \n",
       "4491   71020-22  Collectable Minifigures  The LEGO Batman Movie Series 2   \n",
       "4492    71021-0  Collectable Minifigures                       Series 18   \n",
       "4511   71021-19  Collectable Minifigures                       Series 18   \n",
       "4512    71022-0  Collectable Minifigures                    Harry Potter   \n",
       "4536   71022-24  Collectable Minifigures                    Harry Potter   \n",
       "5247    71023-0  Collectable Minifigures                The LEGO Movie 2   \n",
       "5269   71023-22  Collectable Minifigures                The LEGO Movie 2   \n",
       "5290   71024-20  Collectable Minifigures                 Disney series 2   \n",
       "5291    71025-0  Collectable Minifigures                       Series 19   \n",
       "3429    71027-0  Collectable Minifigures                       Series 20   \n",
       "3448    71028-0  Collectable Minifigures           Harry Potter Series 2   \n",
       "3466   71028-18  Collectable Minifigures           Harry Potter Series 2   \n",
       "1592    71029-0  Collectable Minifigures                       Series 21   \n",
       "1606   71029-14  Collectable Minifigures                       Series 21   \n",
       "1622    71031-0  Collectable Minifigures                  Marvel Studios   \n",
       "1636   71031-14  Collectable Minifigures                  Marvel Studios   \n",
       "1607    71030-0  Collectable Minifigures                    Looney Tunes   \n",
       "1621   71030-14  Collectable Minifigures                    Looney Tunes   \n",
       "1588    66678-1  Collectable Minifigures                  Marvel Studios   \n",
       "4013    66700-1  Collectable Minifigures                       Series 22   \n",
       "4028   71032-14  Collectable Minifigures                       Series 22   \n",
       "\n",
       "       year                                           set_name  minifigs  \\\n",
       "14162  2010           LEGO Minifigures - Series 1 {Random bag}       NaN   \n",
       "14180  2010           LEGO Minifigures - Series 1 - Sealed Box       NaN   \n",
       "14181  2010           LEGO Minifigures - Series 2 {Random bag}       NaN   \n",
       "14199  2010           LEGO Minifigures - Series 2 - Sealed Box       NaN   \n",
       "13594  2011          LEGO Minifigures - Series 3 {Random bag}        NaN   \n",
       "13612  2011           LEGO Minifigures - Series 3 - Sealed Box       NaN   \n",
       "13613  2011          LEGO Minifigures - Series 4 {Random bag}        NaN   \n",
       "13631  2011           LEGO Minifigures - Series 4 - Sealed Box       NaN   \n",
       "13632  2011          LEGO Minifigures - Series 5 {Random bag}        NaN   \n",
       "13650  2011           LEGO Minifigures - Series 5 - Sealed Box       NaN   \n",
       "10826  2012          LEGO Minifigures - Series 6 {Random bag}        NaN   \n",
       "10844  2012           LEGO Minifigures - Series 6 - Sealed Box       NaN   \n",
       "10845  2012          LEGO Minifigures - Series 7 {Random bag}        NaN   \n",
       "10863  2012           LEGO Minifigures - Series 7 - Sealed Box       NaN   \n",
       "10883  2012            LEGO Minifigures - Team GB {Random bag}       NaN   \n",
       "10864  2012          LEGO Minifigures - Series 8 {Random bag}        NaN   \n",
       "10882  2012           LEGO Minifigures - Series 8 - Sealed Box       NaN   \n",
       "12638  2013           LEGO Minifigures - Series 9 - Sealed Box       NaN   \n",
       "12639  2013            LEGO Minifigures Series 10 {Random bag}       NaN   \n",
       "12657  2013          LEGO Minifigures - Series 10 - Sealed Box       NaN   \n",
       "12677  2013          LEGO Minifigures - Series 11 - Sealed Box       NaN   \n",
       "6502   2014  LEGO Minifigures - The LEGO Movie Series {Rand...       NaN   \n",
       "6520   2014  LEGO Minifigures - The LEGO Movie Series - Sea...       NaN   \n",
       "6521   2014  LEGO Minifigures - The Simpsons Series {Random...       NaN   \n",
       "6539   2014  LEGO Minifigures - The Simpsons Series - Seale...       NaN   \n",
       "6541   2014            LEGO Minifigures Series 12 {Random bag}       NaN   \n",
       "6559   2014          LEGO Minifigures - Series 12 - Sealed Box       NaN   \n",
       "7263   2015          LEGO Minifigures - Series 13 - Sealed Box       NaN   \n",
       "7264   2015  LEGO Minifigures - The Simpsons Series 2 {Rand...       NaN   \n",
       "7282   2015  LEGO Minifigures - The Simpsons Series 2 - Sea...       NaN   \n",
       "7283   2015  LEGO Minifigures - Series 14 - Monsters {Rando...       NaN   \n",
       "7301   2015  LEGO Minifigures - Series 14 - Monsters - Seal...       NaN   \n",
       "10182  2016          LEGO Minifigures - Series 15 {Random bag}       NaN   \n",
       "10200  2016          LEGO Minifigures - Series 15 - Sealed Box       NaN   \n",
       "10201  2016      LEGO Minifigures - Disney Series {Random bag}       NaN   \n",
       "10221  2016      LEGO Minifigures - Disney Series - Sealed Box       NaN   \n",
       "10241  2016         LEGO Minifigures - DFB Series {Random bag}       NaN   \n",
       "10259  2016         LEGO Minifigures - DFB Series - Sealed Box       NaN   \n",
       "10222  2016          LEGO Minifigures - Series 16 {Random bag}       NaN   \n",
       "10240  2016          LEGO Minifigures - Series 16 - Sealed Box       NaN   \n",
       "8492   2017  LEGO Minifigures - The LEGO Batman Movie Serie...       NaN   \n",
       "8514   2017  LEGO Minifigures - The LEGO Batman Movie Serie...       NaN   \n",
       "8515   2017          LEGO Minifigures - Series 17 {Random bag}       NaN   \n",
       "8533   2017          LEGO Minifigures - Series 17 - Sealed Box       NaN   \n",
       "8534   2017  LEGO Minifigures - The LEGO NINJAGO Movie Seri...       NaN   \n",
       "8556   2017  LEGO Minifigures - The LEGO NINJAGO Movie Seri...       NaN   \n",
       "4469   2018  LEGO Minifigures - The LEGO Batman Movie Serie...       NaN   \n",
       "4491   2018  LEGO Minifigures - The LEGO Batman Movie Serie...       NaN   \n",
       "4492   2018          LEGO Minifigures - Series 18 {Random bag}       NaN   \n",
       "4511   2018          LEGO Minifigures - Series 18 - Sealed Box       NaN   \n",
       "4512   2018  LEGO Minifigures - Harry Potter and Fantastic ...       NaN   \n",
       "4536   2018  LEGO Minifigures - Harry Potter and Fantastic ...       NaN   \n",
       "5247   2019  LEGO Minifigures - The LEGO Movie 2 Series {Ra...       NaN   \n",
       "5269   2019  LEGO Minifigures - The LEGO Movie 2 Series - S...       NaN   \n",
       "5290   2019    LEGO Minifigures - Disney Series 2 - Sealed Box       NaN   \n",
       "5291   2019          LEGO Minifigures - Series 19 {Random Bag}       NaN   \n",
       "3429   2020          LEGO Minifigures - Series 20 {Random Bag}       NaN   \n",
       "3448   2020  LEGO Minifigures - Harry Potter Series 2 {Rand...       NaN   \n",
       "3466   2020  LEGO Minifigures - Harry Potter Series 2 - Sea...       NaN   \n",
       "1592   2021          LEGO Minifigures - Series 21 {Random bag}       NaN   \n",
       "1606   2021          LEGO Minifigures - Series 21 - Sealed Box       NaN   \n",
       "1622   2021  LEGO Minifigures - Marvel Studios Series {Rand...       NaN   \n",
       "1636   2021  LEGO Minifigures - Marvel Studios Series - Sea...       NaN   \n",
       "1607   2021  LEGO Minifigures - Looney Tunes Series {Random...       NaN   \n",
       "1621   2021  LEGO Minifigures - Looney Tunes Series - Seale...       NaN   \n",
       "1588   2021  LEGO Minifigures - Marvel Studios Series {Box ...       NaN   \n",
       "4013   2022  LEGO Minifigures - Series 22 {Box of 6 random ...       NaN   \n",
       "4028   2022          LEGO Minifigures - Series 22 - Sealed Box       NaN   \n",
       "\n",
       "       pieces  rrp_gbp  price  rrp_eur  value_new  value_used launch_date  \\\n",
       "14162     NaN     1.99   1.99      NaN        NaN         NaN  01/05/2010   \n",
       "14180     NaN   119.40    NaN      NaN        NaN         NaN  01/05/2010   \n",
       "14181     NaN     1.99   1.99      NaN        NaN         NaN  01/09/2010   \n",
       "14199     NaN      NaN    NaN      NaN        NaN         NaN  01/09/2010   \n",
       "13594     NaN     1.99   2.99      NaN        NaN         NaN  01/01/2011   \n",
       "13612     NaN   119.40    NaN      NaN        NaN         NaN  01/01/2011   \n",
       "13613     NaN     1.99   2.99      NaN        NaN         NaN  01/04/2011   \n",
       "13631     NaN   119.40    NaN      NaN        NaN         NaN  01/04/2011   \n",
       "13632     NaN     1.99   2.99      NaN        NaN         NaN  01/09/2011   \n",
       "13650     NaN   119.40    NaN      NaN        NaN         NaN  01/09/2011   \n",
       "10826     NaN     1.99   2.99      NaN        NaN         NaN  01/01/2012   \n",
       "10844     NaN   119.40    NaN      NaN        NaN         NaN  01/01/2012   \n",
       "10845     NaN     1.99   2.99      NaN        NaN         NaN  01/05/2012   \n",
       "10863     NaN   119.40    NaN      NaN        NaN         NaN  01/05/2012   \n",
       "10883     NaN     1.99   2.99      NaN        NaN         NaN  01/07/2012   \n",
       "10864     NaN     1.99   2.99      NaN        NaN         NaN  01/09/2012   \n",
       "10882     NaN      NaN    NaN      NaN        NaN         NaN  01/09/2012   \n",
       "12638     NaN      NaN    NaN      NaN        NaN         NaN  01/01/2013   \n",
       "12639     NaN     1.99   2.99      NaN        NaN         NaN  01/05/2013   \n",
       "12657     NaN      NaN    NaN      NaN        NaN         NaN  01/05/2013   \n",
       "12677     NaN     1.99    NaN      NaN        NaN         NaN  01/09/2013   \n",
       "6502      NaN      NaN   2.99      NaN        NaN         NaN  01/01/2014   \n",
       "6520      NaN     2.49    NaN      NaN        NaN         NaN  01/01/2014   \n",
       "6521      NaN      NaN   3.99      NaN        NaN         NaN  01/05/2014   \n",
       "6539      NaN     2.49    NaN      NaN        NaN         NaN  01/05/2014   \n",
       "6541      NaN     2.49   3.99      NaN        NaN         NaN  01/10/2014   \n",
       "6559      NaN     2.49    NaN      NaN        NaN         NaN  01/10/2014   \n",
       "7263      NaN     2.49    NaN     2.99        NaN         NaN  01/01/2015   \n",
       "7264      NaN      NaN   3.99      NaN        NaN         NaN  01/05/2015   \n",
       "7282      NaN     2.49    NaN     2.99        NaN         NaN  01/05/2015   \n",
       "7283      NaN      NaN   3.99      NaN        NaN         NaN  01/09/2015   \n",
       "7301      NaN     2.49    NaN     2.99        NaN         NaN  01/09/2015   \n",
       "10182     NaN      NaN   3.99      NaN        NaN         NaN  01/01/2016   \n",
       "10200     NaN     2.49    NaN     2.99        NaN         NaN  01/01/2016   \n",
       "10201     NaN      NaN   3.99      NaN        NaN         NaN  01/05/2016   \n",
       "10221     NaN      NaN    NaN      NaN        NaN         NaN  01/05/2016   \n",
       "10241     NaN      NaN    NaN      NaN        NaN         NaN  01/05/2016   \n",
       "10259     NaN      NaN    NaN      NaN        NaN         NaN  01/05/2016   \n",
       "10222     NaN      NaN   3.99      NaN        NaN         NaN  01/09/2016   \n",
       "10240     NaN      NaN    NaN      NaN        NaN         NaN  01/09/2016   \n",
       "8492      NaN      NaN    NaN      NaN        NaN         NaN  01/01/2017   \n",
       "8514      NaN     2.99   3.99     3.99        NaN         NaN  01/01/2017   \n",
       "8515      NaN      NaN   3.99      NaN        NaN         NaN  01/05/2017   \n",
       "8533      NaN     2.99   3.99     3.99        NaN         NaN  01/05/2017   \n",
       "8534      NaN      NaN   3.99      NaN        NaN         NaN  01/08/2017   \n",
       "8556      NaN     2.99   3.99     3.99        NaN         NaN  01/08/2017   \n",
       "4469      NaN      NaN   3.99      NaN        NaN         NaN  01/01/2018   \n",
       "4491      NaN      NaN    NaN      NaN        NaN         NaN  01/01/2018   \n",
       "4492      NaN      NaN   3.99      NaN        NaN         NaN  01/04/2018   \n",
       "4511      NaN     2.99   3.99     3.99        NaN         NaN  01/04/2018   \n",
       "4512      NaN      NaN    NaN      NaN        NaN         NaN  01/08/2018   \n",
       "4536      NaN     2.99   3.99     3.99        NaN         NaN  01/08/2018   \n",
       "5247      NaN      NaN   3.99      NaN        NaN         NaN         NaN   \n",
       "5269      NaN     2.99   3.99     3.99        NaN         NaN         NaN   \n",
       "5290      NaN     2.99   3.99     3.99        NaN         NaN         NaN   \n",
       "5291      NaN      NaN   3.99      NaN        NaN         NaN         NaN   \n",
       "3429      NaN      NaN   4.99      NaN        NaN         NaN         NaN   \n",
       "3448      NaN      NaN   4.99      NaN        NaN         NaN         NaN   \n",
       "3466      NaN     3.49   4.99     3.89        NaN         NaN         NaN   \n",
       "1592      NaN     3.49   4.99     3.99        NaN         NaN  01/01/2021   \n",
       "1606      NaN     3.49   4.99     3.99        NaN         NaN  01/01/2021   \n",
       "1622      NaN     3.49   4.99     3.99        NaN         NaN  01/09/2021   \n",
       "1636      NaN      NaN    NaN      NaN        NaN         NaN  01/09/2021   \n",
       "1607      NaN     3.49   4.99     3.99        NaN         NaN  26/04/2021   \n",
       "1621      NaN     3.49   4.99     3.99        NaN         NaN  26/04/2021   \n",
       "1588      NaN      NaN  29.94      NaN      42.00         NaN         NaN   \n",
       "4013      NaN      NaN  29.94      NaN        NaN         NaN         NaN   \n",
       "4028      NaN     3.49   4.99     3.99        NaN         NaN         NaN   \n",
       "\n",
       "        exit_date  numeric_data_nan       category  \n",
       "14162  31/12/2010             False  uncategorized  \n",
       "14180  31/12/2010             False  uncategorized  \n",
       "14181  31/12/2010             False  uncategorized  \n",
       "14199  31/12/2010             False  uncategorized  \n",
       "13594  31/05/2011             False  uncategorized  \n",
       "13612  31/05/2011             False  uncategorized  \n",
       "13613  31/08/2011             False  uncategorized  \n",
       "13631  31/08/2011             False  uncategorized  \n",
       "13632  31/12/2011             False  uncategorized  \n",
       "13650  31/12/2011             False  uncategorized  \n",
       "10826  30/04/2012             False  uncategorized  \n",
       "10844  30/04/2012             False  uncategorized  \n",
       "10845  31/08/2012             False  uncategorized  \n",
       "10863  31/08/2012             False  uncategorized  \n",
       "10883  31/12/2012             False  uncategorized  \n",
       "10864  31/12/2012             False  uncategorized  \n",
       "10882  31/12/2012             False  uncategorized  \n",
       "12638  30/04/2013             False  uncategorized  \n",
       "12639  31/08/2013             False  uncategorized  \n",
       "12657  31/08/2013             False  uncategorized  \n",
       "12677  31/12/2013             False  uncategorized  \n",
       "6502   31/12/2014             False  uncategorized  \n",
       "6520   31/12/2014             False  uncategorized  \n",
       "6521   31/12/2014             False  uncategorized  \n",
       "6539   31/12/2014             False  uncategorized  \n",
       "6541   31/12/2014             False  uncategorized  \n",
       "6559   31/12/2014             False  uncategorized  \n",
       "7263   30/04/2015             False  uncategorized  \n",
       "7264   31/08/2015             False  uncategorized  \n",
       "7282   31/08/2015             False  uncategorized  \n",
       "7283   31/12/2015             False  uncategorized  \n",
       "7301   31/12/2015             False  uncategorized  \n",
       "10182  30/04/2016             False  uncategorized  \n",
       "10200  30/04/2016             False  uncategorized  \n",
       "10201  31/08/2016             False  uncategorized  \n",
       "10221  31/08/2016             False  uncategorized  \n",
       "10241  31/08/2016             False  uncategorized  \n",
       "10259  31/08/2016             False  uncategorized  \n",
       "10222  31/12/2016             False  uncategorized  \n",
       "10240  31/12/2016             False  uncategorized  \n",
       "8492   30/04/2017             False  uncategorized  \n",
       "8514   30/04/2017             False  uncategorized  \n",
       "8515   31/07/2017             False  uncategorized  \n",
       "8533   31/07/2017             False  uncategorized  \n",
       "8534   31/12/2017             False  uncategorized  \n",
       "8556   31/12/2017             False  uncategorized  \n",
       "4469   31/03/2018             False  uncategorized  \n",
       "4491   31/03/2018             False  uncategorized  \n",
       "4492   31/07/2018             False  uncategorized  \n",
       "4511   31/07/2018             False  uncategorized  \n",
       "4512   31/12/2018             False  uncategorized  \n",
       "4536   31/12/2018             False  uncategorized  \n",
       "5247          NaN             False  uncategorized  \n",
       "5269          NaN             False  uncategorized  \n",
       "5290          NaN             False  uncategorized  \n",
       "5291          NaN             False  uncategorized  \n",
       "3429          NaN             False  uncategorized  \n",
       "3448          NaN             False  uncategorized  \n",
       "3466          NaN             False  uncategorized  \n",
       "1592   30/04/2021             False  uncategorized  \n",
       "1606   30/04/2021             False  uncategorized  \n",
       "1622   31/12/2021             False  uncategorized  \n",
       "1636   31/12/2021             False  uncategorized  \n",
       "1607   31/08/2021             False  uncategorized  \n",
       "1621   31/08/2021             False  uncategorized  \n",
       "1588          NaN             False  uncategorized  \n",
       "4013          NaN             False  uncategorized  \n",
       "4028          NaN             False  uncategorized  "
      ]
     },
     "metadata": {},
     "output_type": "display_data"
    },
    {
     "name": "stdout",
     "output_type": "stream",
     "text": [
      "Theme: Friends\n",
      "Number of rows: 2\n"
     ]
    },
    {
     "data": {
      "text/html": [
       "<div>\n",
       "<style scoped>\n",
       "    .dataframe tbody tr th:only-of-type {\n",
       "        vertical-align: middle;\n",
       "    }\n",
       "\n",
       "    .dataframe tbody tr th {\n",
       "        vertical-align: top;\n",
       "    }\n",
       "\n",
       "    .dataframe thead th {\n",
       "        text-align: right;\n",
       "    }\n",
       "</style>\n",
       "<table border=\"1\" class=\"dataframe\">\n",
       "  <thead>\n",
       "    <tr style=\"text-align: right;\">\n",
       "      <th></th>\n",
       "      <th>number</th>\n",
       "      <th>theme</th>\n",
       "      <th>subtheme</th>\n",
       "      <th>year</th>\n",
       "      <th>set_name</th>\n",
       "      <th>minifigs</th>\n",
       "      <th>pieces</th>\n",
       "      <th>rrp_gbp</th>\n",
       "      <th>price</th>\n",
       "      <th>rrp_eur</th>\n",
       "      <th>value_new</th>\n",
       "      <th>value_used</th>\n",
       "      <th>launch_date</th>\n",
       "      <th>exit_date</th>\n",
       "      <th>numeric_data_nan</th>\n",
       "      <th>category</th>\n",
       "    </tr>\n",
       "  </thead>\n",
       "  <tbody>\n",
       "    <tr>\n",
       "      <th>4805</th>\n",
       "      <td>5005553-1</td>\n",
       "      <td>Friends</td>\n",
       "      <td>Product Collection</td>\n",
       "      <td>2018</td>\n",
       "      <td>LEGO Friends Easter Bundle</td>\n",
       "      <td>NaN</td>\n",
       "      <td>NaN</td>\n",
       "      <td>35.97</td>\n",
       "      <td>NaN</td>\n",
       "      <td>43.97</td>\n",
       "      <td>NaN</td>\n",
       "      <td>NaN</td>\n",
       "      <td>NaN</td>\n",
       "      <td>NaN</td>\n",
       "      <td>False</td>\n",
       "      <td>uncategorized</td>\n",
       "    </tr>\n",
       "    <tr>\n",
       "      <th>1585</th>\n",
       "      <td>66673-1</td>\n",
       "      <td>Friends</td>\n",
       "      <td>Product Collection</td>\n",
       "      <td>2021</td>\n",
       "      <td>Animal Gift Set</td>\n",
       "      <td>NaN</td>\n",
       "      <td>NaN</td>\n",
       "      <td>NaN</td>\n",
       "      <td>NaN</td>\n",
       "      <td>NaN</td>\n",
       "      <td>NaN</td>\n",
       "      <td>NaN</td>\n",
       "      <td>01/11/2021</td>\n",
       "      <td>31/12/2021</td>\n",
       "      <td>False</td>\n",
       "      <td>uncategorized</td>\n",
       "    </tr>\n",
       "  </tbody>\n",
       "</table>\n",
       "</div>"
      ],
      "text/plain": [
       "         number    theme            subtheme  year  \\\n",
       "4805  5005553-1  Friends  Product Collection  2018   \n",
       "1585    66673-1  Friends  Product Collection  2021   \n",
       "\n",
       "                        set_name  minifigs  pieces  rrp_gbp  price  rrp_eur  \\\n",
       "4805  LEGO Friends Easter Bundle       NaN     NaN    35.97    NaN    43.97   \n",
       "1585             Animal Gift Set       NaN     NaN      NaN    NaN      NaN   \n",
       "\n",
       "      value_new  value_used launch_date   exit_date  numeric_data_nan  \\\n",
       "4805        NaN         NaN         NaN         NaN             False   \n",
       "1585        NaN         NaN  01/11/2021  31/12/2021             False   \n",
       "\n",
       "           category  \n",
       "4805  uncategorized  \n",
       "1585  uncategorized  "
      ]
     },
     "metadata": {},
     "output_type": "display_data"
    },
    {
     "name": "stdout",
     "output_type": "stream",
     "text": [
      "Theme: Legends of Chima\n",
      "Number of rows: 19\n"
     ]
    },
    {
     "data": {
      "text/html": [
       "<div>\n",
       "<style scoped>\n",
       "    .dataframe tbody tr th:only-of-type {\n",
       "        vertical-align: middle;\n",
       "    }\n",
       "\n",
       "    .dataframe tbody tr th {\n",
       "        vertical-align: top;\n",
       "    }\n",
       "\n",
       "    .dataframe thead th {\n",
       "        text-align: right;\n",
       "    }\n",
       "</style>\n",
       "<table border=\"1\" class=\"dataframe\">\n",
       "  <thead>\n",
       "    <tr style=\"text-align: right;\">\n",
       "      <th></th>\n",
       "      <th>number</th>\n",
       "      <th>theme</th>\n",
       "      <th>subtheme</th>\n",
       "      <th>year</th>\n",
       "      <th>set_name</th>\n",
       "      <th>minifigs</th>\n",
       "      <th>pieces</th>\n",
       "      <th>rrp_gbp</th>\n",
       "      <th>price</th>\n",
       "      <th>rrp_eur</th>\n",
       "      <th>value_new</th>\n",
       "      <th>value_used</th>\n",
       "      <th>launch_date</th>\n",
       "      <th>exit_date</th>\n",
       "      <th>numeric_data_nan</th>\n",
       "      <th>category</th>\n",
       "    </tr>\n",
       "  </thead>\n",
       "  <tbody>\n",
       "    <tr>\n",
       "      <th>6617</th>\n",
       "      <td>391214-1</td>\n",
       "      <td>Legends of Chima</td>\n",
       "      <td>Magazine gift</td>\n",
       "      <td>2014</td>\n",
       "      <td>Speedorz Ramp</td>\n",
       "      <td>NaN</td>\n",
       "      <td>NaN</td>\n",
       "      <td>NaN</td>\n",
       "      <td>NaN</td>\n",
       "      <td>NaN</td>\n",
       "      <td>2.37</td>\n",
       "      <td>NaN</td>\n",
       "      <td>NaN</td>\n",
       "      <td>NaN</td>\n",
       "      <td>False</td>\n",
       "      <td>uncategorized</td>\n",
       "    </tr>\n",
       "    <tr>\n",
       "      <th>6619</th>\n",
       "      <td>391404-1</td>\n",
       "      <td>Legends of Chima</td>\n",
       "      <td>Magazine gift</td>\n",
       "      <td>2014</td>\n",
       "      <td>Worriz</td>\n",
       "      <td>NaN</td>\n",
       "      <td>NaN</td>\n",
       "      <td>NaN</td>\n",
       "      <td>NaN</td>\n",
       "      <td>NaN</td>\n",
       "      <td>6.22</td>\n",
       "      <td>NaN</td>\n",
       "      <td>NaN</td>\n",
       "      <td>NaN</td>\n",
       "      <td>False</td>\n",
       "      <td>uncategorized</td>\n",
       "    </tr>\n",
       "    <tr>\n",
       "      <th>6620</th>\n",
       "      <td>391405-1</td>\n",
       "      <td>Legends of Chima</td>\n",
       "      <td>Magazine gift</td>\n",
       "      <td>2014</td>\n",
       "      <td>Crocodile Hideout</td>\n",
       "      <td>NaN</td>\n",
       "      <td>NaN</td>\n",
       "      <td>NaN</td>\n",
       "      <td>NaN</td>\n",
       "      <td>NaN</td>\n",
       "      <td>1.63</td>\n",
       "      <td>NaN</td>\n",
       "      <td>NaN</td>\n",
       "      <td>NaN</td>\n",
       "      <td>False</td>\n",
       "      <td>uncategorized</td>\n",
       "    </tr>\n",
       "    <tr>\n",
       "      <th>6621</th>\n",
       "      <td>391406-1</td>\n",
       "      <td>Legends of Chima</td>\n",
       "      <td>Magazine gift</td>\n",
       "      <td>2014</td>\n",
       "      <td>Crug minifigure with armour and sword</td>\n",
       "      <td>NaN</td>\n",
       "      <td>NaN</td>\n",
       "      <td>NaN</td>\n",
       "      <td>NaN</td>\n",
       "      <td>NaN</td>\n",
       "      <td>2.50</td>\n",
       "      <td>NaN</td>\n",
       "      <td>NaN</td>\n",
       "      <td>NaN</td>\n",
       "      <td>False</td>\n",
       "      <td>uncategorized</td>\n",
       "    </tr>\n",
       "    <tr>\n",
       "      <th>6622</th>\n",
       "      <td>391407-1</td>\n",
       "      <td>Legends of Chima</td>\n",
       "      <td>Magazine gift</td>\n",
       "      <td>2014</td>\n",
       "      <td>Fire spinner and ramp</td>\n",
       "      <td>NaN</td>\n",
       "      <td>NaN</td>\n",
       "      <td>NaN</td>\n",
       "      <td>NaN</td>\n",
       "      <td>NaN</td>\n",
       "      <td>3.96</td>\n",
       "      <td>NaN</td>\n",
       "      <td>NaN</td>\n",
       "      <td>NaN</td>\n",
       "      <td>False</td>\n",
       "      <td>uncategorized</td>\n",
       "    </tr>\n",
       "    <tr>\n",
       "      <th>6623</th>\n",
       "      <td>391408-1</td>\n",
       "      <td>Legends of Chima</td>\n",
       "      <td>Magazine gift</td>\n",
       "      <td>2014</td>\n",
       "      <td>Vornon</td>\n",
       "      <td>NaN</td>\n",
       "      <td>NaN</td>\n",
       "      <td>NaN</td>\n",
       "      <td>NaN</td>\n",
       "      <td>NaN</td>\n",
       "      <td>2.54</td>\n",
       "      <td>3.75</td>\n",
       "      <td>NaN</td>\n",
       "      <td>NaN</td>\n",
       "      <td>False</td>\n",
       "      <td>uncategorized</td>\n",
       "    </tr>\n",
       "    <tr>\n",
       "      <th>6624</th>\n",
       "      <td>391409-1</td>\n",
       "      <td>Legends of Chima</td>\n",
       "      <td>Magazine gift</td>\n",
       "      <td>2014</td>\n",
       "      <td>Ice Prison</td>\n",
       "      <td>NaN</td>\n",
       "      <td>NaN</td>\n",
       "      <td>NaN</td>\n",
       "      <td>NaN</td>\n",
       "      <td>NaN</td>\n",
       "      <td>1.36</td>\n",
       "      <td>NaN</td>\n",
       "      <td>NaN</td>\n",
       "      <td>NaN</td>\n",
       "      <td>False</td>\n",
       "      <td>uncategorized</td>\n",
       "    </tr>\n",
       "    <tr>\n",
       "      <th>6625</th>\n",
       "      <td>391410-1</td>\n",
       "      <td>Legends of Chima</td>\n",
       "      <td>Magazine gift</td>\n",
       "      <td>2014</td>\n",
       "      <td>Sykor</td>\n",
       "      <td>NaN</td>\n",
       "      <td>NaN</td>\n",
       "      <td>NaN</td>\n",
       "      <td>NaN</td>\n",
       "      <td>NaN</td>\n",
       "      <td>3.81</td>\n",
       "      <td>NaN</td>\n",
       "      <td>NaN</td>\n",
       "      <td>NaN</td>\n",
       "      <td>False</td>\n",
       "      <td>uncategorized</td>\n",
       "    </tr>\n",
       "    <tr>\n",
       "      <th>6626</th>\n",
       "      <td>391411-1</td>\n",
       "      <td>Legends of Chima</td>\n",
       "      <td>Magazine gift</td>\n",
       "      <td>2014</td>\n",
       "      <td>Shooter</td>\n",
       "      <td>NaN</td>\n",
       "      <td>NaN</td>\n",
       "      <td>NaN</td>\n",
       "      <td>NaN</td>\n",
       "      <td>NaN</td>\n",
       "      <td>1.84</td>\n",
       "      <td>NaN</td>\n",
       "      <td>NaN</td>\n",
       "      <td>NaN</td>\n",
       "      <td>False</td>\n",
       "      <td>uncategorized</td>\n",
       "    </tr>\n",
       "    <tr>\n",
       "      <th>6627</th>\n",
       "      <td>391412-1</td>\n",
       "      <td>Legends of Chima</td>\n",
       "      <td>Magazine gift</td>\n",
       "      <td>2014</td>\n",
       "      <td>Worriz</td>\n",
       "      <td>NaN</td>\n",
       "      <td>NaN</td>\n",
       "      <td>NaN</td>\n",
       "      <td>NaN</td>\n",
       "      <td>NaN</td>\n",
       "      <td>2.40</td>\n",
       "      <td>NaN</td>\n",
       "      <td>NaN</td>\n",
       "      <td>NaN</td>\n",
       "      <td>False</td>\n",
       "      <td>uncategorized</td>\n",
       "    </tr>\n",
       "    <tr>\n",
       "      <th>6628</th>\n",
       "      <td>471408-1</td>\n",
       "      <td>Legends of Chima</td>\n",
       "      <td>Magazine gift</td>\n",
       "      <td>2014</td>\n",
       "      <td>Lennox with Lion Cannon</td>\n",
       "      <td>NaN</td>\n",
       "      <td>NaN</td>\n",
       "      <td>NaN</td>\n",
       "      <td>NaN</td>\n",
       "      <td>NaN</td>\n",
       "      <td>5.13</td>\n",
       "      <td>NaN</td>\n",
       "      <td>NaN</td>\n",
       "      <td>NaN</td>\n",
       "      <td>False</td>\n",
       "      <td>uncategorized</td>\n",
       "    </tr>\n",
       "    <tr>\n",
       "      <th>7412</th>\n",
       "      <td>391501-1</td>\n",
       "      <td>Legends of Chima</td>\n",
       "      <td>Magazine gift</td>\n",
       "      <td>2015</td>\n",
       "      <td>Gorzan</td>\n",
       "      <td>NaN</td>\n",
       "      <td>NaN</td>\n",
       "      <td>NaN</td>\n",
       "      <td>NaN</td>\n",
       "      <td>NaN</td>\n",
       "      <td>6.80</td>\n",
       "      <td>NaN</td>\n",
       "      <td>NaN</td>\n",
       "      <td>NaN</td>\n",
       "      <td>False</td>\n",
       "      <td>uncategorized</td>\n",
       "    </tr>\n",
       "    <tr>\n",
       "      <th>7413</th>\n",
       "      <td>391502-1</td>\n",
       "      <td>Legends of Chima</td>\n",
       "      <td>Magazine gift</td>\n",
       "      <td>2015</td>\n",
       "      <td>Saber-tooth tribe launcher</td>\n",
       "      <td>NaN</td>\n",
       "      <td>NaN</td>\n",
       "      <td>NaN</td>\n",
       "      <td>NaN</td>\n",
       "      <td>NaN</td>\n",
       "      <td>2.45</td>\n",
       "      <td>NaN</td>\n",
       "      <td>NaN</td>\n",
       "      <td>NaN</td>\n",
       "      <td>False</td>\n",
       "      <td>uncategorized</td>\n",
       "    </tr>\n",
       "    <tr>\n",
       "      <th>7414</th>\n",
       "      <td>391503-1</td>\n",
       "      <td>Legends of Chima</td>\n",
       "      <td>Magazine gift</td>\n",
       "      <td>2015</td>\n",
       "      <td>Lundor</td>\n",
       "      <td>NaN</td>\n",
       "      <td>NaN</td>\n",
       "      <td>NaN</td>\n",
       "      <td>NaN</td>\n",
       "      <td>NaN</td>\n",
       "      <td>3.21</td>\n",
       "      <td>NaN</td>\n",
       "      <td>NaN</td>\n",
       "      <td>NaN</td>\n",
       "      <td>False</td>\n",
       "      <td>uncategorized</td>\n",
       "    </tr>\n",
       "    <tr>\n",
       "      <th>7415</th>\n",
       "      <td>391504-1</td>\n",
       "      <td>Legends of Chima</td>\n",
       "      <td>Magazine gift</td>\n",
       "      <td>2015</td>\n",
       "      <td>Fire and Ice weapons</td>\n",
       "      <td>NaN</td>\n",
       "      <td>NaN</td>\n",
       "      <td>NaN</td>\n",
       "      <td>NaN</td>\n",
       "      <td>NaN</td>\n",
       "      <td>2.56</td>\n",
       "      <td>NaN</td>\n",
       "      <td>NaN</td>\n",
       "      <td>NaN</td>\n",
       "      <td>False</td>\n",
       "      <td>uncategorized</td>\n",
       "    </tr>\n",
       "    <tr>\n",
       "      <th>7416</th>\n",
       "      <td>391505-1</td>\n",
       "      <td>Legends of Chima</td>\n",
       "      <td>Magazine gift</td>\n",
       "      <td>2015</td>\n",
       "      <td>Iceklaw</td>\n",
       "      <td>NaN</td>\n",
       "      <td>NaN</td>\n",
       "      <td>NaN</td>\n",
       "      <td>NaN</td>\n",
       "      <td>NaN</td>\n",
       "      <td>2.70</td>\n",
       "      <td>NaN</td>\n",
       "      <td>NaN</td>\n",
       "      <td>NaN</td>\n",
       "      <td>False</td>\n",
       "      <td>uncategorized</td>\n",
       "    </tr>\n",
       "    <tr>\n",
       "      <th>7417</th>\n",
       "      <td>391506-1</td>\n",
       "      <td>Legends of Chima</td>\n",
       "      <td>Magazine gift</td>\n",
       "      <td>2015</td>\n",
       "      <td>Fire Catapault</td>\n",
       "      <td>NaN</td>\n",
       "      <td>NaN</td>\n",
       "      <td>NaN</td>\n",
       "      <td>NaN</td>\n",
       "      <td>NaN</td>\n",
       "      <td>2.04</td>\n",
       "      <td>NaN</td>\n",
       "      <td>NaN</td>\n",
       "      <td>NaN</td>\n",
       "      <td>False</td>\n",
       "      <td>uncategorized</td>\n",
       "    </tr>\n",
       "    <tr>\n",
       "      <th>7418</th>\n",
       "      <td>391507-1</td>\n",
       "      <td>Legends of Chima</td>\n",
       "      <td>Magazine gift</td>\n",
       "      <td>2015</td>\n",
       "      <td>Stealthor</td>\n",
       "      <td>NaN</td>\n",
       "      <td>NaN</td>\n",
       "      <td>NaN</td>\n",
       "      <td>NaN</td>\n",
       "      <td>NaN</td>\n",
       "      <td>2.02</td>\n",
       "      <td>NaN</td>\n",
       "      <td>NaN</td>\n",
       "      <td>NaN</td>\n",
       "      <td>False</td>\n",
       "      <td>uncategorized</td>\n",
       "    </tr>\n",
       "    <tr>\n",
       "      <th>7419</th>\n",
       "      <td>391508-1</td>\n",
       "      <td>Legends of Chima</td>\n",
       "      <td>Magazine gift</td>\n",
       "      <td>2015</td>\n",
       "      <td>Bulkar</td>\n",
       "      <td>NaN</td>\n",
       "      <td>NaN</td>\n",
       "      <td>NaN</td>\n",
       "      <td>NaN</td>\n",
       "      <td>NaN</td>\n",
       "      <td>4.54</td>\n",
       "      <td>NaN</td>\n",
       "      <td>NaN</td>\n",
       "      <td>NaN</td>\n",
       "      <td>False</td>\n",
       "      <td>uncategorized</td>\n",
       "    </tr>\n",
       "  </tbody>\n",
       "</table>\n",
       "</div>"
      ],
      "text/plain": [
       "        number             theme       subtheme  year  \\\n",
       "6617  391214-1  Legends of Chima  Magazine gift  2014   \n",
       "6619  391404-1  Legends of Chima  Magazine gift  2014   \n",
       "6620  391405-1  Legends of Chima  Magazine gift  2014   \n",
       "6621  391406-1  Legends of Chima  Magazine gift  2014   \n",
       "6622  391407-1  Legends of Chima  Magazine gift  2014   \n",
       "6623  391408-1  Legends of Chima  Magazine gift  2014   \n",
       "6624  391409-1  Legends of Chima  Magazine gift  2014   \n",
       "6625  391410-1  Legends of Chima  Magazine gift  2014   \n",
       "6626  391411-1  Legends of Chima  Magazine gift  2014   \n",
       "6627  391412-1  Legends of Chima  Magazine gift  2014   \n",
       "6628  471408-1  Legends of Chima  Magazine gift  2014   \n",
       "7412  391501-1  Legends of Chima  Magazine gift  2015   \n",
       "7413  391502-1  Legends of Chima  Magazine gift  2015   \n",
       "7414  391503-1  Legends of Chima  Magazine gift  2015   \n",
       "7415  391504-1  Legends of Chima  Magazine gift  2015   \n",
       "7416  391505-1  Legends of Chima  Magazine gift  2015   \n",
       "7417  391506-1  Legends of Chima  Magazine gift  2015   \n",
       "7418  391507-1  Legends of Chima  Magazine gift  2015   \n",
       "7419  391508-1  Legends of Chima  Magazine gift  2015   \n",
       "\n",
       "                                   set_name  minifigs  pieces  rrp_gbp  price  \\\n",
       "6617                          Speedorz Ramp       NaN     NaN      NaN    NaN   \n",
       "6619                                 Worriz       NaN     NaN      NaN    NaN   \n",
       "6620                      Crocodile Hideout       NaN     NaN      NaN    NaN   \n",
       "6621  Crug minifigure with armour and sword       NaN     NaN      NaN    NaN   \n",
       "6622                  Fire spinner and ramp       NaN     NaN      NaN    NaN   \n",
       "6623                                 Vornon       NaN     NaN      NaN    NaN   \n",
       "6624                             Ice Prison       NaN     NaN      NaN    NaN   \n",
       "6625                                  Sykor       NaN     NaN      NaN    NaN   \n",
       "6626                                Shooter       NaN     NaN      NaN    NaN   \n",
       "6627                                 Worriz       NaN     NaN      NaN    NaN   \n",
       "6628                Lennox with Lion Cannon       NaN     NaN      NaN    NaN   \n",
       "7412                                 Gorzan       NaN     NaN      NaN    NaN   \n",
       "7413             Saber-tooth tribe launcher       NaN     NaN      NaN    NaN   \n",
       "7414                                 Lundor       NaN     NaN      NaN    NaN   \n",
       "7415                   Fire and Ice weapons       NaN     NaN      NaN    NaN   \n",
       "7416                                Iceklaw       NaN     NaN      NaN    NaN   \n",
       "7417                         Fire Catapault       NaN     NaN      NaN    NaN   \n",
       "7418                              Stealthor       NaN     NaN      NaN    NaN   \n",
       "7419                                 Bulkar       NaN     NaN      NaN    NaN   \n",
       "\n",
       "      rrp_eur  value_new  value_used launch_date exit_date  numeric_data_nan  \\\n",
       "6617      NaN       2.37         NaN         NaN       NaN             False   \n",
       "6619      NaN       6.22         NaN         NaN       NaN             False   \n",
       "6620      NaN       1.63         NaN         NaN       NaN             False   \n",
       "6621      NaN       2.50         NaN         NaN       NaN             False   \n",
       "6622      NaN       3.96         NaN         NaN       NaN             False   \n",
       "6623      NaN       2.54        3.75         NaN       NaN             False   \n",
       "6624      NaN       1.36         NaN         NaN       NaN             False   \n",
       "6625      NaN       3.81         NaN         NaN       NaN             False   \n",
       "6626      NaN       1.84         NaN         NaN       NaN             False   \n",
       "6627      NaN       2.40         NaN         NaN       NaN             False   \n",
       "6628      NaN       5.13         NaN         NaN       NaN             False   \n",
       "7412      NaN       6.80         NaN         NaN       NaN             False   \n",
       "7413      NaN       2.45         NaN         NaN       NaN             False   \n",
       "7414      NaN       3.21         NaN         NaN       NaN             False   \n",
       "7415      NaN       2.56         NaN         NaN       NaN             False   \n",
       "7416      NaN       2.70         NaN         NaN       NaN             False   \n",
       "7417      NaN       2.04         NaN         NaN       NaN             False   \n",
       "7418      NaN       2.02         NaN         NaN       NaN             False   \n",
       "7419      NaN       4.54         NaN         NaN       NaN             False   \n",
       "\n",
       "           category  \n",
       "6617  uncategorized  \n",
       "6619  uncategorized  \n",
       "6620  uncategorized  \n",
       "6621  uncategorized  \n",
       "6622  uncategorized  \n",
       "6623  uncategorized  \n",
       "6624  uncategorized  \n",
       "6625  uncategorized  \n",
       "6626  uncategorized  \n",
       "6627  uncategorized  \n",
       "6628  uncategorized  \n",
       "7412  uncategorized  \n",
       "7413  uncategorized  \n",
       "7414  uncategorized  \n",
       "7415  uncategorized  \n",
       "7416  uncategorized  \n",
       "7417  uncategorized  \n",
       "7418  uncategorized  \n",
       "7419  uncategorized  "
      ]
     },
     "metadata": {},
     "output_type": "display_data"
    },
    {
     "name": "stdout",
     "output_type": "stream",
     "text": [
      "Theme: Disney\n",
      "Number of rows: 4\n"
     ]
    },
    {
     "data": {
      "text/html": [
       "<div>\n",
       "<style scoped>\n",
       "    .dataframe tbody tr th:only-of-type {\n",
       "        vertical-align: middle;\n",
       "    }\n",
       "\n",
       "    .dataframe tbody tr th {\n",
       "        vertical-align: top;\n",
       "    }\n",
       "\n",
       "    .dataframe thead th {\n",
       "        text-align: right;\n",
       "    }\n",
       "</style>\n",
       "<table border=\"1\" class=\"dataframe\">\n",
       "  <thead>\n",
       "    <tr style=\"text-align: right;\">\n",
       "      <th></th>\n",
       "      <th>number</th>\n",
       "      <th>theme</th>\n",
       "      <th>subtheme</th>\n",
       "      <th>year</th>\n",
       "      <th>set_name</th>\n",
       "      <th>minifigs</th>\n",
       "      <th>pieces</th>\n",
       "      <th>rrp_gbp</th>\n",
       "      <th>price</th>\n",
       "      <th>rrp_eur</th>\n",
       "      <th>value_new</th>\n",
       "      <th>value_used</th>\n",
       "      <th>launch_date</th>\n",
       "      <th>exit_date</th>\n",
       "      <th>numeric_data_nan</th>\n",
       "      <th>category</th>\n",
       "    </tr>\n",
       "  </thead>\n",
       "  <tbody>\n",
       "    <tr>\n",
       "      <th>1834</th>\n",
       "      <td>302102-1</td>\n",
       "      <td>Disney</td>\n",
       "      <td>Magazine Gift</td>\n",
       "      <td>2021</td>\n",
       "      <td>Rapunzel &amp; Hairbrush</td>\n",
       "      <td>NaN</td>\n",
       "      <td>NaN</td>\n",
       "      <td>NaN</td>\n",
       "      <td>NaN</td>\n",
       "      <td>NaN</td>\n",
       "      <td>3.66</td>\n",
       "      <td>NaN</td>\n",
       "      <td>NaN</td>\n",
       "      <td>NaN</td>\n",
       "      <td>False</td>\n",
       "      <td>uncategorized</td>\n",
       "    </tr>\n",
       "    <tr>\n",
       "      <th>1835</th>\n",
       "      <td>302103-1</td>\n",
       "      <td>Disney</td>\n",
       "      <td>Magazine Gift</td>\n",
       "      <td>2021</td>\n",
       "      <td>Cinderella's Kitchen</td>\n",
       "      <td>NaN</td>\n",
       "      <td>NaN</td>\n",
       "      <td>NaN</td>\n",
       "      <td>NaN</td>\n",
       "      <td>NaN</td>\n",
       "      <td>3.39</td>\n",
       "      <td>NaN</td>\n",
       "      <td>NaN</td>\n",
       "      <td>NaN</td>\n",
       "      <td>False</td>\n",
       "      <td>uncategorized</td>\n",
       "    </tr>\n",
       "    <tr>\n",
       "      <th>1837</th>\n",
       "      <td>302105-1</td>\n",
       "      <td>Disney</td>\n",
       "      <td>Magazine Gift</td>\n",
       "      <td>2021</td>\n",
       "      <td>Lumiere, Cogsworth and Sultan</td>\n",
       "      <td>NaN</td>\n",
       "      <td>NaN</td>\n",
       "      <td>NaN</td>\n",
       "      <td>NaN</td>\n",
       "      <td>NaN</td>\n",
       "      <td>3.90</td>\n",
       "      <td>NaN</td>\n",
       "      <td>NaN</td>\n",
       "      <td>NaN</td>\n",
       "      <td>False</td>\n",
       "      <td>uncategorized</td>\n",
       "    </tr>\n",
       "    <tr>\n",
       "      <th>1838</th>\n",
       "      <td>302106-1</td>\n",
       "      <td>Disney</td>\n",
       "      <td>Magazine Gift</td>\n",
       "      <td>2021</td>\n",
       "      <td>Princess Ariel</td>\n",
       "      <td>NaN</td>\n",
       "      <td>NaN</td>\n",
       "      <td>NaN</td>\n",
       "      <td>NaN</td>\n",
       "      <td>NaN</td>\n",
       "      <td>4.62</td>\n",
       "      <td>NaN</td>\n",
       "      <td>NaN</td>\n",
       "      <td>NaN</td>\n",
       "      <td>False</td>\n",
       "      <td>uncategorized</td>\n",
       "    </tr>\n",
       "  </tbody>\n",
       "</table>\n",
       "</div>"
      ],
      "text/plain": [
       "        number   theme       subtheme  year                       set_name  \\\n",
       "1834  302102-1  Disney  Magazine Gift  2021           Rapunzel & Hairbrush   \n",
       "1835  302103-1  Disney  Magazine Gift  2021           Cinderella's Kitchen   \n",
       "1837  302105-1  Disney  Magazine Gift  2021  Lumiere, Cogsworth and Sultan   \n",
       "1838  302106-1  Disney  Magazine Gift  2021                 Princess Ariel   \n",
       "\n",
       "      minifigs  pieces  rrp_gbp  price  rrp_eur  value_new  value_used  \\\n",
       "1834       NaN     NaN      NaN    NaN      NaN       3.66         NaN   \n",
       "1835       NaN     NaN      NaN    NaN      NaN       3.39         NaN   \n",
       "1837       NaN     NaN      NaN    NaN      NaN       3.90         NaN   \n",
       "1838       NaN     NaN      NaN    NaN      NaN       4.62         NaN   \n",
       "\n",
       "     launch_date exit_date  numeric_data_nan       category  \n",
       "1834         NaN       NaN             False  uncategorized  \n",
       "1835         NaN       NaN             False  uncategorized  \n",
       "1837         NaN       NaN             False  uncategorized  \n",
       "1838         NaN       NaN             False  uncategorized  "
      ]
     },
     "metadata": {},
     "output_type": "display_data"
    },
    {
     "name": "stdout",
     "output_type": "stream",
     "text": [
      "Theme: Star Wars\n",
      "Number of rows: 1\n"
     ]
    },
    {
     "data": {
      "text/html": [
       "<div>\n",
       "<style scoped>\n",
       "    .dataframe tbody tr th:only-of-type {\n",
       "        vertical-align: middle;\n",
       "    }\n",
       "\n",
       "    .dataframe tbody tr th {\n",
       "        vertical-align: top;\n",
       "    }\n",
       "\n",
       "    .dataframe thead th {\n",
       "        text-align: right;\n",
       "    }\n",
       "</style>\n",
       "<table border=\"1\" class=\"dataframe\">\n",
       "  <thead>\n",
       "    <tr style=\"text-align: right;\">\n",
       "      <th></th>\n",
       "      <th>number</th>\n",
       "      <th>theme</th>\n",
       "      <th>subtheme</th>\n",
       "      <th>year</th>\n",
       "      <th>set_name</th>\n",
       "      <th>minifigs</th>\n",
       "      <th>pieces</th>\n",
       "      <th>rrp_gbp</th>\n",
       "      <th>price</th>\n",
       "      <th>rrp_eur</th>\n",
       "      <th>value_new</th>\n",
       "      <th>value_used</th>\n",
       "      <th>launch_date</th>\n",
       "      <th>exit_date</th>\n",
       "      <th>numeric_data_nan</th>\n",
       "      <th>category</th>\n",
       "    </tr>\n",
       "  </thead>\n",
       "  <tbody>\n",
       "    <tr>\n",
       "      <th>1586</th>\n",
       "      <td>66674-1</td>\n",
       "      <td>Star Wars</td>\n",
       "      <td>Product Collection</td>\n",
       "      <td>2021</td>\n",
       "      <td>Skywalker Adventures Pack</td>\n",
       "      <td>NaN</td>\n",
       "      <td>NaN</td>\n",
       "      <td>NaN</td>\n",
       "      <td>NaN</td>\n",
       "      <td>NaN</td>\n",
       "      <td>66.58</td>\n",
       "      <td>NaN</td>\n",
       "      <td>01/11/2021</td>\n",
       "      <td>31/12/2021</td>\n",
       "      <td>False</td>\n",
       "      <td>uncategorized</td>\n",
       "    </tr>\n",
       "  </tbody>\n",
       "</table>\n",
       "</div>"
      ],
      "text/plain": [
       "       number      theme            subtheme  year                   set_name  \\\n",
       "1586  66674-1  Star Wars  Product Collection  2021  Skywalker Adventures Pack   \n",
       "\n",
       "      minifigs  pieces  rrp_gbp  price  rrp_eur  value_new  value_used  \\\n",
       "1586       NaN     NaN      NaN    NaN      NaN      66.58         NaN   \n",
       "\n",
       "     launch_date   exit_date  numeric_data_nan       category  \n",
       "1586  01/11/2021  31/12/2021             False  uncategorized  "
      ]
     },
     "metadata": {},
     "output_type": "display_data"
    },
    {
     "name": "stdout",
     "output_type": "stream",
     "text": [
      "Theme: Gear\n",
      "Number of rows: 1873\n"
     ]
    },
    {
     "data": {
      "text/html": [
       "<div>\n",
       "<style scoped>\n",
       "    .dataframe tbody tr th:only-of-type {\n",
       "        vertical-align: middle;\n",
       "    }\n",
       "\n",
       "    .dataframe tbody tr th {\n",
       "        vertical-align: top;\n",
       "    }\n",
       "\n",
       "    .dataframe thead th {\n",
       "        text-align: right;\n",
       "    }\n",
       "</style>\n",
       "<table border=\"1\" class=\"dataframe\">\n",
       "  <thead>\n",
       "    <tr style=\"text-align: right;\">\n",
       "      <th></th>\n",
       "      <th>number</th>\n",
       "      <th>theme</th>\n",
       "      <th>subtheme</th>\n",
       "      <th>year</th>\n",
       "      <th>set_name</th>\n",
       "      <th>minifigs</th>\n",
       "      <th>pieces</th>\n",
       "      <th>rrp_gbp</th>\n",
       "      <th>price</th>\n",
       "      <th>rrp_eur</th>\n",
       "      <th>value_new</th>\n",
       "      <th>value_used</th>\n",
       "      <th>launch_date</th>\n",
       "      <th>exit_date</th>\n",
       "      <th>numeric_data_nan</th>\n",
       "      <th>category</th>\n",
       "    </tr>\n",
       "  </thead>\n",
       "  <tbody>\n",
       "    <tr>\n",
       "      <th>678</th>\n",
       "      <td>9708-1</td>\n",
       "      <td>Gear</td>\n",
       "      <td>Education</td>\n",
       "      <td>1997</td>\n",
       "      <td>Intelligent House Activity Pack</td>\n",
       "      <td>NaN</td>\n",
       "      <td>NaN</td>\n",
       "      <td>NaN</td>\n",
       "      <td>12.00</td>\n",
       "      <td>NaN</td>\n",
       "      <td>NaN</td>\n",
       "      <td>NaN</td>\n",
       "      <td>NaN</td>\n",
       "      <td>NaN</td>\n",
       "      <td>False</td>\n",
       "      <td>uncategorized</td>\n",
       "    </tr>\n",
       "    <tr>\n",
       "      <th>15096</th>\n",
       "      <td>3978-1</td>\n",
       "      <td>Gear</td>\n",
       "      <td>Key Chains/Castle</td>\n",
       "      <td>1998</td>\n",
       "      <td>Magic Wizard Key Chain</td>\n",
       "      <td>NaN</td>\n",
       "      <td>NaN</td>\n",
       "      <td>NaN</td>\n",
       "      <td>3.00</td>\n",
       "      <td>NaN</td>\n",
       "      <td>NaN</td>\n",
       "      <td>NaN</td>\n",
       "      <td>NaN</td>\n",
       "      <td>NaN</td>\n",
       "      <td>False</td>\n",
       "      <td>uncategorized</td>\n",
       "    </tr>\n",
       "    <tr>\n",
       "      <th>15154</th>\n",
       "      <td>5701-1</td>\n",
       "      <td>Gear</td>\n",
       "      <td>Video Games/PC</td>\n",
       "      <td>1998</td>\n",
       "      <td>LEGO Loco</td>\n",
       "      <td>NaN</td>\n",
       "      <td>NaN</td>\n",
       "      <td>NaN</td>\n",
       "      <td>10.00</td>\n",
       "      <td>NaN</td>\n",
       "      <td>NaN</td>\n",
       "      <td>NaN</td>\n",
       "      <td>NaN</td>\n",
       "      <td>NaN</td>\n",
       "      <td>False</td>\n",
       "      <td>uncategorized</td>\n",
       "    </tr>\n",
       "    <tr>\n",
       "      <th>15155</th>\n",
       "      <td>5702-1</td>\n",
       "      <td>Gear</td>\n",
       "      <td>Video Games/PC</td>\n",
       "      <td>1998</td>\n",
       "      <td>LEGO Chess</td>\n",
       "      <td>NaN</td>\n",
       "      <td>NaN</td>\n",
       "      <td>NaN</td>\n",
       "      <td>10.00</td>\n",
       "      <td>NaN</td>\n",
       "      <td>NaN</td>\n",
       "      <td>NaN</td>\n",
       "      <td>NaN</td>\n",
       "      <td>NaN</td>\n",
       "      <td>False</td>\n",
       "      <td>uncategorized</td>\n",
       "    </tr>\n",
       "    <tr>\n",
       "      <th>15515</th>\n",
       "      <td>5703-1</td>\n",
       "      <td>Gear</td>\n",
       "      <td>Video Games/Nintendo 64</td>\n",
       "      <td>1999</td>\n",
       "      <td>LEGO Racers</td>\n",
       "      <td>NaN</td>\n",
       "      <td>NaN</td>\n",
       "      <td>NaN</td>\n",
       "      <td>20.00</td>\n",
       "      <td>NaN</td>\n",
       "      <td>NaN</td>\n",
       "      <td>NaN</td>\n",
       "      <td>NaN</td>\n",
       "      <td>NaN</td>\n",
       "      <td>False</td>\n",
       "      <td>uncategorized</td>\n",
       "    </tr>\n",
       "    <tr>\n",
       "      <th>...</th>\n",
       "      <td>...</td>\n",
       "      <td>...</td>\n",
       "      <td>...</td>\n",
       "      <td>...</td>\n",
       "      <td>...</td>\n",
       "      <td>...</td>\n",
       "      <td>...</td>\n",
       "      <td>...</td>\n",
       "      <td>...</td>\n",
       "      <td>...</td>\n",
       "      <td>...</td>\n",
       "      <td>...</td>\n",
       "      <td>...</td>\n",
       "      <td>...</td>\n",
       "      <td>...</td>\n",
       "      <td>...</td>\n",
       "    </tr>\n",
       "    <tr>\n",
       "      <th>4093</th>\n",
       "      <td>5007181-1</td>\n",
       "      <td>Gear</td>\n",
       "      <td>Housewares</td>\n",
       "      <td>2022</td>\n",
       "      <td>Fire Chief 46 in x 60 in Throw</td>\n",
       "      <td>NaN</td>\n",
       "      <td>NaN</td>\n",
       "      <td>NaN</td>\n",
       "      <td>19.99</td>\n",
       "      <td>NaN</td>\n",
       "      <td>NaN</td>\n",
       "      <td>NaN</td>\n",
       "      <td>NaN</td>\n",
       "      <td>NaN</td>\n",
       "      <td>False</td>\n",
       "      <td>uncategorized</td>\n",
       "    </tr>\n",
       "    <tr>\n",
       "      <th>4094</th>\n",
       "      <td>5007182-1</td>\n",
       "      <td>Gear</td>\n",
       "      <td>Housewares</td>\n",
       "      <td>2022</td>\n",
       "      <td>City Town Map 46 in x 60 in Throw</td>\n",
       "      <td>NaN</td>\n",
       "      <td>NaN</td>\n",
       "      <td>NaN</td>\n",
       "      <td>19.99</td>\n",
       "      <td>NaN</td>\n",
       "      <td>NaN</td>\n",
       "      <td>NaN</td>\n",
       "      <td>NaN</td>\n",
       "      <td>NaN</td>\n",
       "      <td>False</td>\n",
       "      <td>uncategorized</td>\n",
       "    </tr>\n",
       "    <tr>\n",
       "      <th>4095</th>\n",
       "      <td>5007183-1</td>\n",
       "      <td>Gear</td>\n",
       "      <td>Housewares</td>\n",
       "      <td>2022</td>\n",
       "      <td>City Police 46 in x 60 in Throw</td>\n",
       "      <td>NaN</td>\n",
       "      <td>NaN</td>\n",
       "      <td>NaN</td>\n",
       "      <td>19.99</td>\n",
       "      <td>NaN</td>\n",
       "      <td>NaN</td>\n",
       "      <td>NaN</td>\n",
       "      <td>NaN</td>\n",
       "      <td>NaN</td>\n",
       "      <td>False</td>\n",
       "      <td>uncategorized</td>\n",
       "    </tr>\n",
       "    <tr>\n",
       "      <th>4096</th>\n",
       "      <td>5007184-1</td>\n",
       "      <td>Gear</td>\n",
       "      <td>Housewares</td>\n",
       "      <td>2022</td>\n",
       "      <td>Butterfly 46 in x 60 in Throw</td>\n",
       "      <td>NaN</td>\n",
       "      <td>NaN</td>\n",
       "      <td>NaN</td>\n",
       "      <td>19.99</td>\n",
       "      <td>NaN</td>\n",
       "      <td>NaN</td>\n",
       "      <td>NaN</td>\n",
       "      <td>NaN</td>\n",
       "      <td>NaN</td>\n",
       "      <td>False</td>\n",
       "      <td>uncategorized</td>\n",
       "    </tr>\n",
       "    <tr>\n",
       "      <th>4097</th>\n",
       "      <td>5007185-1</td>\n",
       "      <td>Gear</td>\n",
       "      <td>Housewares</td>\n",
       "      <td>2022</td>\n",
       "      <td>Mermaid 46 in x 60 in Throw</td>\n",
       "      <td>NaN</td>\n",
       "      <td>NaN</td>\n",
       "      <td>NaN</td>\n",
       "      <td>19.99</td>\n",
       "      <td>NaN</td>\n",
       "      <td>NaN</td>\n",
       "      <td>NaN</td>\n",
       "      <td>NaN</td>\n",
       "      <td>NaN</td>\n",
       "      <td>False</td>\n",
       "      <td>uncategorized</td>\n",
       "    </tr>\n",
       "  </tbody>\n",
       "</table>\n",
       "<p>1873 rows × 16 columns</p>\n",
       "</div>"
      ],
      "text/plain": [
       "          number theme                 subtheme  year  \\\n",
       "678       9708-1  Gear                Education  1997   \n",
       "15096     3978-1  Gear        Key Chains/Castle  1998   \n",
       "15154     5701-1  Gear           Video Games/PC  1998   \n",
       "15155     5702-1  Gear           Video Games/PC  1998   \n",
       "15515     5703-1  Gear  Video Games/Nintendo 64  1999   \n",
       "...          ...   ...                      ...   ...   \n",
       "4093   5007181-1  Gear               Housewares  2022   \n",
       "4094   5007182-1  Gear               Housewares  2022   \n",
       "4095   5007183-1  Gear               Housewares  2022   \n",
       "4096   5007184-1  Gear               Housewares  2022   \n",
       "4097   5007185-1  Gear               Housewares  2022   \n",
       "\n",
       "                                set_name  minifigs  pieces  rrp_gbp  price  \\\n",
       "678      Intelligent House Activity Pack       NaN     NaN      NaN  12.00   \n",
       "15096            Magic Wizard Key Chain        NaN     NaN      NaN   3.00   \n",
       "15154                          LEGO Loco       NaN     NaN      NaN  10.00   \n",
       "15155                         LEGO Chess       NaN     NaN      NaN  10.00   \n",
       "15515                        LEGO Racers       NaN     NaN      NaN  20.00   \n",
       "...                                  ...       ...     ...      ...    ...   \n",
       "4093      Fire Chief 46 in x 60 in Throw       NaN     NaN      NaN  19.99   \n",
       "4094   City Town Map 46 in x 60 in Throw       NaN     NaN      NaN  19.99   \n",
       "4095     City Police 46 in x 60 in Throw       NaN     NaN      NaN  19.99   \n",
       "4096       Butterfly 46 in x 60 in Throw       NaN     NaN      NaN  19.99   \n",
       "4097         Mermaid 46 in x 60 in Throw       NaN     NaN      NaN  19.99   \n",
       "\n",
       "       rrp_eur  value_new  value_used launch_date exit_date  numeric_data_nan  \\\n",
       "678        NaN        NaN         NaN         NaN       NaN             False   \n",
       "15096      NaN        NaN         NaN         NaN       NaN             False   \n",
       "15154      NaN        NaN         NaN         NaN       NaN             False   \n",
       "15155      NaN        NaN         NaN         NaN       NaN             False   \n",
       "15515      NaN        NaN         NaN         NaN       NaN             False   \n",
       "...        ...        ...         ...         ...       ...               ...   \n",
       "4093       NaN        NaN         NaN         NaN       NaN             False   \n",
       "4094       NaN        NaN         NaN         NaN       NaN             False   \n",
       "4095       NaN        NaN         NaN         NaN       NaN             False   \n",
       "4096       NaN        NaN         NaN         NaN       NaN             False   \n",
       "4097       NaN        NaN         NaN         NaN       NaN             False   \n",
       "\n",
       "            category  \n",
       "678    uncategorized  \n",
       "15096  uncategorized  \n",
       "15154  uncategorized  \n",
       "15155  uncategorized  \n",
       "15515  uncategorized  \n",
       "...              ...  \n",
       "4093   uncategorized  \n",
       "4094   uncategorized  \n",
       "4095   uncategorized  \n",
       "4096   uncategorized  \n",
       "4097   uncategorized  \n",
       "\n",
       "[1873 rows x 16 columns]"
      ]
     },
     "metadata": {},
     "output_type": "display_data"
    },
    {
     "name": "stdout",
     "output_type": "stream",
     "text": [
      "Theme: The LEGO Movie 2\n",
      "Number of rows: 2\n"
     ]
    },
    {
     "data": {
      "text/html": [
       "<div>\n",
       "<style scoped>\n",
       "    .dataframe tbody tr th:only-of-type {\n",
       "        vertical-align: middle;\n",
       "    }\n",
       "\n",
       "    .dataframe tbody tr th {\n",
       "        vertical-align: top;\n",
       "    }\n",
       "\n",
       "    .dataframe thead th {\n",
       "        text-align: right;\n",
       "    }\n",
       "</style>\n",
       "<table border=\"1\" class=\"dataframe\">\n",
       "  <thead>\n",
       "    <tr style=\"text-align: right;\">\n",
       "      <th></th>\n",
       "      <th>number</th>\n",
       "      <th>theme</th>\n",
       "      <th>subtheme</th>\n",
       "      <th>year</th>\n",
       "      <th>set_name</th>\n",
       "      <th>minifigs</th>\n",
       "      <th>pieces</th>\n",
       "      <th>rrp_gbp</th>\n",
       "      <th>price</th>\n",
       "      <th>rrp_eur</th>\n",
       "      <th>value_new</th>\n",
       "      <th>value_used</th>\n",
       "      <th>launch_date</th>\n",
       "      <th>exit_date</th>\n",
       "      <th>numeric_data_nan</th>\n",
       "      <th>category</th>\n",
       "    </tr>\n",
       "  </thead>\n",
       "  <tbody>\n",
       "    <tr>\n",
       "      <th>5435</th>\n",
       "      <td>471906-1</td>\n",
       "      <td>The LEGO Movie 2</td>\n",
       "      <td>Magazine Gift</td>\n",
       "      <td>2019</td>\n",
       "      <td>Rex with Jetpack</td>\n",
       "      <td>1.00</td>\n",
       "      <td>NaN</td>\n",
       "      <td>NaN</td>\n",
       "      <td>NaN</td>\n",
       "      <td>NaN</td>\n",
       "      <td>3.19</td>\n",
       "      <td>NaN</td>\n",
       "      <td>NaN</td>\n",
       "      <td>NaN</td>\n",
       "      <td>False</td>\n",
       "      <td>uncategorized</td>\n",
       "    </tr>\n",
       "    <tr>\n",
       "      <th>5582</th>\n",
       "      <td>5005738-1</td>\n",
       "      <td>The LEGO Movie 2</td>\n",
       "      <td>NaN</td>\n",
       "      <td>2019</td>\n",
       "      <td>Sticker roll</td>\n",
       "      <td>NaN</td>\n",
       "      <td>NaN</td>\n",
       "      <td>3.99</td>\n",
       "      <td>3.99</td>\n",
       "      <td>3.99</td>\n",
       "      <td>NaN</td>\n",
       "      <td>NaN</td>\n",
       "      <td>NaN</td>\n",
       "      <td>NaN</td>\n",
       "      <td>False</td>\n",
       "      <td>uncategorized</td>\n",
       "    </tr>\n",
       "  </tbody>\n",
       "</table>\n",
       "</div>"
      ],
      "text/plain": [
       "         number             theme       subtheme  year          set_name  \\\n",
       "5435   471906-1  The LEGO Movie 2  Magazine Gift  2019  Rex with Jetpack   \n",
       "5582  5005738-1  The LEGO Movie 2            NaN  2019      Sticker roll   \n",
       "\n",
       "      minifigs  pieces  rrp_gbp  price  rrp_eur  value_new  value_used  \\\n",
       "5435      1.00     NaN      NaN    NaN      NaN       3.19         NaN   \n",
       "5582       NaN     NaN     3.99   3.99     3.99        NaN         NaN   \n",
       "\n",
       "     launch_date exit_date  numeric_data_nan       category  \n",
       "5435         NaN       NaN             False  uncategorized  \n",
       "5582         NaN       NaN             False  uncategorized  "
      ]
     },
     "metadata": {},
     "output_type": "display_data"
    },
    {
     "name": "stdout",
     "output_type": "stream",
     "text": [
      "Theme: Ninjago\n",
      "Number of rows: 1\n"
     ]
    },
    {
     "data": {
      "text/html": [
       "<div>\n",
       "<style scoped>\n",
       "    .dataframe tbody tr th:only-of-type {\n",
       "        vertical-align: middle;\n",
       "    }\n",
       "\n",
       "    .dataframe tbody tr th {\n",
       "        vertical-align: top;\n",
       "    }\n",
       "\n",
       "    .dataframe thead th {\n",
       "        text-align: right;\n",
       "    }\n",
       "</style>\n",
       "<table border=\"1\" class=\"dataframe\">\n",
       "  <thead>\n",
       "    <tr style=\"text-align: right;\">\n",
       "      <th></th>\n",
       "      <th>number</th>\n",
       "      <th>theme</th>\n",
       "      <th>subtheme</th>\n",
       "      <th>year</th>\n",
       "      <th>set_name</th>\n",
       "      <th>minifigs</th>\n",
       "      <th>pieces</th>\n",
       "      <th>rrp_gbp</th>\n",
       "      <th>price</th>\n",
       "      <th>rrp_eur</th>\n",
       "      <th>value_new</th>\n",
       "      <th>value_used</th>\n",
       "      <th>launch_date</th>\n",
       "      <th>exit_date</th>\n",
       "      <th>numeric_data_nan</th>\n",
       "      <th>category</th>\n",
       "    </tr>\n",
       "  </thead>\n",
       "  <tbody>\n",
       "    <tr>\n",
       "      <th>4804</th>\n",
       "      <td>5005552-1</td>\n",
       "      <td>Ninjago</td>\n",
       "      <td>Product Collection</td>\n",
       "      <td>2018</td>\n",
       "      <td>LEGO NINJAGO Easter Bundle</td>\n",
       "      <td>NaN</td>\n",
       "      <td>NaN</td>\n",
       "      <td>42.95</td>\n",
       "      <td>NaN</td>\n",
       "      <td>44.95</td>\n",
       "      <td>NaN</td>\n",
       "      <td>NaN</td>\n",
       "      <td>NaN</td>\n",
       "      <td>NaN</td>\n",
       "      <td>False</td>\n",
       "      <td>uncategorized</td>\n",
       "    </tr>\n",
       "  </tbody>\n",
       "</table>\n",
       "</div>"
      ],
      "text/plain": [
       "         number    theme            subtheme  year  \\\n",
       "4804  5005552-1  Ninjago  Product Collection  2018   \n",
       "\n",
       "                        set_name  minifigs  pieces  rrp_gbp  price  rrp_eur  \\\n",
       "4804  LEGO NINJAGO Easter Bundle       NaN     NaN    42.95    NaN    44.95   \n",
       "\n",
       "      value_new  value_used launch_date exit_date  numeric_data_nan  \\\n",
       "4804        NaN         NaN         NaN       NaN             False   \n",
       "\n",
       "           category  \n",
       "4804  uncategorized  "
      ]
     },
     "metadata": {},
     "output_type": "display_data"
    },
    {
     "name": "stdout",
     "output_type": "stream",
     "text": [
      "Theme: Sports\n",
      "Number of rows: 1\n"
     ]
    },
    {
     "data": {
      "text/html": [
       "<div>\n",
       "<style scoped>\n",
       "    .dataframe tbody tr th:only-of-type {\n",
       "        vertical-align: middle;\n",
       "    }\n",
       "\n",
       "    .dataframe tbody tr th {\n",
       "        vertical-align: top;\n",
       "    }\n",
       "\n",
       "    .dataframe thead th {\n",
       "        text-align: right;\n",
       "    }\n",
       "</style>\n",
       "<table border=\"1\" class=\"dataframe\">\n",
       "  <thead>\n",
       "    <tr style=\"text-align: right;\">\n",
       "      <th></th>\n",
       "      <th>number</th>\n",
       "      <th>theme</th>\n",
       "      <th>subtheme</th>\n",
       "      <th>year</th>\n",
       "      <th>set_name</th>\n",
       "      <th>minifigs</th>\n",
       "      <th>pieces</th>\n",
       "      <th>rrp_gbp</th>\n",
       "      <th>price</th>\n",
       "      <th>rrp_eur</th>\n",
       "      <th>value_new</th>\n",
       "      <th>value_used</th>\n",
       "      <th>launch_date</th>\n",
       "      <th>exit_date</th>\n",
       "      <th>numeric_data_nan</th>\n",
       "      <th>category</th>\n",
       "    </tr>\n",
       "  </thead>\n",
       "  <tbody>\n",
       "    <tr>\n",
       "      <th>5896</th>\n",
       "      <td>3406-2</td>\n",
       "      <td>Sports</td>\n",
       "      <td>Football</td>\n",
       "      <td>2000</td>\n",
       "      <td>French Team Bus</td>\n",
       "      <td>NaN</td>\n",
       "      <td>NaN</td>\n",
       "      <td>NaN</td>\n",
       "      <td>NaN</td>\n",
       "      <td>NaN</td>\n",
       "      <td>NaN</td>\n",
       "      <td>NaN</td>\n",
       "      <td>01/04/2000</td>\n",
       "      <td>30/06/2002</td>\n",
       "      <td>False</td>\n",
       "      <td>uncategorized</td>\n",
       "    </tr>\n",
       "  </tbody>\n",
       "</table>\n",
       "</div>"
      ],
      "text/plain": [
       "      number   theme  subtheme  year         set_name  minifigs  pieces  \\\n",
       "5896  3406-2  Sports  Football  2000  French Team Bus       NaN     NaN   \n",
       "\n",
       "      rrp_gbp  price  rrp_eur  value_new  value_used launch_date   exit_date  \\\n",
       "5896      NaN    NaN      NaN        NaN         NaN  01/04/2000  30/06/2002   \n",
       "\n",
       "      numeric_data_nan       category  \n",
       "5896             False  uncategorized  "
      ]
     },
     "metadata": {},
     "output_type": "display_data"
    },
    {
     "name": "stdout",
     "output_type": "stream",
     "text": [
      "Theme: City\n",
      "Number of rows: 2\n"
     ]
    },
    {
     "data": {
      "text/html": [
       "<div>\n",
       "<style scoped>\n",
       "    .dataframe tbody tr th:only-of-type {\n",
       "        vertical-align: middle;\n",
       "    }\n",
       "\n",
       "    .dataframe tbody tr th {\n",
       "        vertical-align: top;\n",
       "    }\n",
       "\n",
       "    .dataframe thead th {\n",
       "        text-align: right;\n",
       "    }\n",
       "</style>\n",
       "<table border=\"1\" class=\"dataframe\">\n",
       "  <thead>\n",
       "    <tr style=\"text-align: right;\">\n",
       "      <th></th>\n",
       "      <th>number</th>\n",
       "      <th>theme</th>\n",
       "      <th>subtheme</th>\n",
       "      <th>year</th>\n",
       "      <th>set_name</th>\n",
       "      <th>minifigs</th>\n",
       "      <th>pieces</th>\n",
       "      <th>rrp_gbp</th>\n",
       "      <th>price</th>\n",
       "      <th>rrp_eur</th>\n",
       "      <th>value_new</th>\n",
       "      <th>value_used</th>\n",
       "      <th>launch_date</th>\n",
       "      <th>exit_date</th>\n",
       "      <th>numeric_data_nan</th>\n",
       "      <th>category</th>\n",
       "    </tr>\n",
       "  </thead>\n",
       "  <tbody>\n",
       "    <tr>\n",
       "      <th>10130</th>\n",
       "      <td>66540-1</td>\n",
       "      <td>City</td>\n",
       "      <td>Volcano Explorers</td>\n",
       "      <td>2016</td>\n",
       "      <td>City Volcano Value Pack</td>\n",
       "      <td>NaN</td>\n",
       "      <td>NaN</td>\n",
       "      <td>NaN</td>\n",
       "      <td>NaN</td>\n",
       "      <td>NaN</td>\n",
       "      <td>88.23</td>\n",
       "      <td>55.18</td>\n",
       "      <td>01/09/2016</td>\n",
       "      <td>31/12/2016</td>\n",
       "      <td>False</td>\n",
       "      <td>uncategorized</td>\n",
       "    </tr>\n",
       "    <tr>\n",
       "      <th>4806</th>\n",
       "      <td>5005554-1</td>\n",
       "      <td>City</td>\n",
       "      <td>Product Collection</td>\n",
       "      <td>2018</td>\n",
       "      <td>LEGO City Easter Bundle</td>\n",
       "      <td>NaN</td>\n",
       "      <td>NaN</td>\n",
       "      <td>37.97</td>\n",
       "      <td>NaN</td>\n",
       "      <td>44.97</td>\n",
       "      <td>NaN</td>\n",
       "      <td>NaN</td>\n",
       "      <td>NaN</td>\n",
       "      <td>NaN</td>\n",
       "      <td>False</td>\n",
       "      <td>uncategorized</td>\n",
       "    </tr>\n",
       "  </tbody>\n",
       "</table>\n",
       "</div>"
      ],
      "text/plain": [
       "          number theme            subtheme  year                 set_name  \\\n",
       "10130    66540-1  City   Volcano Explorers  2016  City Volcano Value Pack   \n",
       "4806   5005554-1  City  Product Collection  2018  LEGO City Easter Bundle   \n",
       "\n",
       "       minifigs  pieces  rrp_gbp  price  rrp_eur  value_new  value_used  \\\n",
       "10130       NaN     NaN      NaN    NaN      NaN      88.23       55.18   \n",
       "4806        NaN     NaN    37.97    NaN    44.97        NaN         NaN   \n",
       "\n",
       "      launch_date   exit_date  numeric_data_nan       category  \n",
       "10130  01/09/2016  31/12/2016             False  uncategorized  \n",
       "4806          NaN         NaN             False  uncategorized  "
      ]
     },
     "metadata": {},
     "output_type": "display_data"
    },
    {
     "name": "stdout",
     "output_type": "stream",
     "text": [
      "Theme: Education\n",
      "Number of rows: 9\n"
     ]
    },
    {
     "data": {
      "text/html": [
       "<div>\n",
       "<style scoped>\n",
       "    .dataframe tbody tr th:only-of-type {\n",
       "        vertical-align: middle;\n",
       "    }\n",
       "\n",
       "    .dataframe tbody tr th {\n",
       "        vertical-align: top;\n",
       "    }\n",
       "\n",
       "    .dataframe thead th {\n",
       "        text-align: right;\n",
       "    }\n",
       "</style>\n",
       "<table border=\"1\" class=\"dataframe\">\n",
       "  <thead>\n",
       "    <tr style=\"text-align: right;\">\n",
       "      <th></th>\n",
       "      <th>number</th>\n",
       "      <th>theme</th>\n",
       "      <th>subtheme</th>\n",
       "      <th>year</th>\n",
       "      <th>set_name</th>\n",
       "      <th>minifigs</th>\n",
       "      <th>pieces</th>\n",
       "      <th>rrp_gbp</th>\n",
       "      <th>price</th>\n",
       "      <th>rrp_eur</th>\n",
       "      <th>value_new</th>\n",
       "      <th>value_used</th>\n",
       "      <th>launch_date</th>\n",
       "      <th>exit_date</th>\n",
       "      <th>numeric_data_nan</th>\n",
       "      <th>category</th>\n",
       "    </tr>\n",
       "  </thead>\n",
       "  <tbody>\n",
       "    <tr>\n",
       "      <th>9282</th>\n",
       "      <td>9412-1</td>\n",
       "      <td>Education</td>\n",
       "      <td>Duplo</td>\n",
       "      <td>2003</td>\n",
       "      <td>Duplo Bricks</td>\n",
       "      <td>NaN</td>\n",
       "      <td>NaN</td>\n",
       "      <td>28.99</td>\n",
       "      <td>NaN</td>\n",
       "      <td>NaN</td>\n",
       "      <td>NaN</td>\n",
       "      <td>NaN</td>\n",
       "      <td>NaN</td>\n",
       "      <td>NaN</td>\n",
       "      <td>False</td>\n",
       "      <td>uncategorized</td>\n",
       "    </tr>\n",
       "    <tr>\n",
       "      <th>12048</th>\n",
       "      <td>9310-1</td>\n",
       "      <td>Education</td>\n",
       "      <td>NaN</td>\n",
       "      <td>2007</td>\n",
       "      <td>Dinosaurs Set</td>\n",
       "      <td>NaN</td>\n",
       "      <td>NaN</td>\n",
       "      <td>NaN</td>\n",
       "      <td>NaN</td>\n",
       "      <td>NaN</td>\n",
       "      <td>NaN</td>\n",
       "      <td>89.99</td>\n",
       "      <td>NaN</td>\n",
       "      <td>NaN</td>\n",
       "      <td>False</td>\n",
       "      <td>uncategorized</td>\n",
       "    </tr>\n",
       "    <tr>\n",
       "      <th>12492</th>\n",
       "      <td>45080-1</td>\n",
       "      <td>Education</td>\n",
       "      <td>NaN</td>\n",
       "      <td>2013</td>\n",
       "      <td>Creative Cards</td>\n",
       "      <td>NaN</td>\n",
       "      <td>NaN</td>\n",
       "      <td>NaN</td>\n",
       "      <td>NaN</td>\n",
       "      <td>NaN</td>\n",
       "      <td>6.57</td>\n",
       "      <td>NaN</td>\n",
       "      <td>NaN</td>\n",
       "      <td>NaN</td>\n",
       "      <td>False</td>\n",
       "      <td>uncategorized</td>\n",
       "    </tr>\n",
       "    <tr>\n",
       "      <th>8378</th>\n",
       "      <td>45497-1</td>\n",
       "      <td>Education</td>\n",
       "      <td>Storage</td>\n",
       "      <td>2017</td>\n",
       "      <td>Storage boxes, pack of 7</td>\n",
       "      <td>NaN</td>\n",
       "      <td>NaN</td>\n",
       "      <td>NaN</td>\n",
       "      <td>NaN</td>\n",
       "      <td>NaN</td>\n",
       "      <td>74.92</td>\n",
       "      <td>NaN</td>\n",
       "      <td>NaN</td>\n",
       "      <td>NaN</td>\n",
       "      <td>False</td>\n",
       "      <td>uncategorized</td>\n",
       "    </tr>\n",
       "    <tr>\n",
       "      <th>8379</th>\n",
       "      <td>45498-1</td>\n",
       "      <td>Education</td>\n",
       "      <td>NaN</td>\n",
       "      <td>2017</td>\n",
       "      <td>Medium storage, 8 pack</td>\n",
       "      <td>NaN</td>\n",
       "      <td>NaN</td>\n",
       "      <td>NaN</td>\n",
       "      <td>NaN</td>\n",
       "      <td>NaN</td>\n",
       "      <td>111.49</td>\n",
       "      <td>NaN</td>\n",
       "      <td>NaN</td>\n",
       "      <td>NaN</td>\n",
       "      <td>False</td>\n",
       "      <td>uncategorized</td>\n",
       "    </tr>\n",
       "    <tr>\n",
       "      <th>1541</th>\n",
       "      <td>45816-1</td>\n",
       "      <td>Education</td>\n",
       "      <td>FIRST LEGO League</td>\n",
       "      <td>2021</td>\n",
       "      <td>FIRST LEGO League Challenge</td>\n",
       "      <td>NaN</td>\n",
       "      <td>NaN</td>\n",
       "      <td>NaN</td>\n",
       "      <td>NaN</td>\n",
       "      <td>NaN</td>\n",
       "      <td>NaN</td>\n",
       "      <td>NaN</td>\n",
       "      <td>01/08/2021</td>\n",
       "      <td>31/12/2023</td>\n",
       "      <td>False</td>\n",
       "      <td>uncategorized</td>\n",
       "    </tr>\n",
       "    <tr>\n",
       "      <th>1542</th>\n",
       "      <td>45817-1</td>\n",
       "      <td>Education</td>\n",
       "      <td>FIRST LEGO League</td>\n",
       "      <td>2021</td>\n",
       "      <td>Cargo Connect Explore Set</td>\n",
       "      <td>NaN</td>\n",
       "      <td>NaN</td>\n",
       "      <td>NaN</td>\n",
       "      <td>NaN</td>\n",
       "      <td>NaN</td>\n",
       "      <td>NaN</td>\n",
       "      <td>NaN</td>\n",
       "      <td>01/08/2021</td>\n",
       "      <td>31/12/2023</td>\n",
       "      <td>False</td>\n",
       "      <td>uncategorized</td>\n",
       "    </tr>\n",
       "    <tr>\n",
       "      <th>1533</th>\n",
       "      <td>45345-1</td>\n",
       "      <td>Education</td>\n",
       "      <td>SPIKE Essential</td>\n",
       "      <td>2021</td>\n",
       "      <td>SPIKE Essential Set</td>\n",
       "      <td>NaN</td>\n",
       "      <td>NaN</td>\n",
       "      <td>274.99</td>\n",
       "      <td>274.95</td>\n",
       "      <td>304.99</td>\n",
       "      <td>380.61</td>\n",
       "      <td>NaN</td>\n",
       "      <td>NaN</td>\n",
       "      <td>NaN</td>\n",
       "      <td>False</td>\n",
       "      <td>uncategorized</td>\n",
       "    </tr>\n",
       "    <tr>\n",
       "      <th>1538</th>\n",
       "      <td>45609-1</td>\n",
       "      <td>Education</td>\n",
       "      <td>SPIKE Prime</td>\n",
       "      <td>2021</td>\n",
       "      <td>Small Hub</td>\n",
       "      <td>NaN</td>\n",
       "      <td>NaN</td>\n",
       "      <td>189.99</td>\n",
       "      <td>189.95</td>\n",
       "      <td>209.99</td>\n",
       "      <td>NaN</td>\n",
       "      <td>NaN</td>\n",
       "      <td>NaN</td>\n",
       "      <td>NaN</td>\n",
       "      <td>False</td>\n",
       "      <td>uncategorized</td>\n",
       "    </tr>\n",
       "  </tbody>\n",
       "</table>\n",
       "</div>"
      ],
      "text/plain": [
       "        number      theme           subtheme  year  \\\n",
       "9282    9412-1  Education              Duplo  2003   \n",
       "12048   9310-1  Education                NaN  2007   \n",
       "12492  45080-1  Education                NaN  2013   \n",
       "8378   45497-1  Education            Storage  2017   \n",
       "8379   45498-1  Education                NaN  2017   \n",
       "1541   45816-1  Education  FIRST LEGO League  2021   \n",
       "1542   45817-1  Education  FIRST LEGO League  2021   \n",
       "1533   45345-1  Education    SPIKE Essential  2021   \n",
       "1538   45609-1  Education        SPIKE Prime  2021   \n",
       "\n",
       "                          set_name  minifigs  pieces  rrp_gbp  price  rrp_eur  \\\n",
       "9282                  Duplo Bricks       NaN     NaN    28.99    NaN      NaN   \n",
       "12048                Dinosaurs Set       NaN     NaN      NaN    NaN      NaN   \n",
       "12492               Creative Cards       NaN     NaN      NaN    NaN      NaN   \n",
       "8378      Storage boxes, pack of 7       NaN     NaN      NaN    NaN      NaN   \n",
       "8379        Medium storage, 8 pack       NaN     NaN      NaN    NaN      NaN   \n",
       "1541   FIRST LEGO League Challenge       NaN     NaN      NaN    NaN      NaN   \n",
       "1542     Cargo Connect Explore Set       NaN     NaN      NaN    NaN      NaN   \n",
       "1533           SPIKE Essential Set       NaN     NaN   274.99 274.95   304.99   \n",
       "1538                     Small Hub       NaN     NaN   189.99 189.95   209.99   \n",
       "\n",
       "       value_new  value_used launch_date   exit_date  numeric_data_nan  \\\n",
       "9282         NaN         NaN         NaN         NaN             False   \n",
       "12048        NaN       89.99         NaN         NaN             False   \n",
       "12492       6.57         NaN         NaN         NaN             False   \n",
       "8378       74.92         NaN         NaN         NaN             False   \n",
       "8379      111.49         NaN         NaN         NaN             False   \n",
       "1541         NaN         NaN  01/08/2021  31/12/2023             False   \n",
       "1542         NaN         NaN  01/08/2021  31/12/2023             False   \n",
       "1533      380.61         NaN         NaN         NaN             False   \n",
       "1538         NaN         NaN         NaN         NaN             False   \n",
       "\n",
       "            category  \n",
       "9282   uncategorized  \n",
       "12048  uncategorized  \n",
       "12492  uncategorized  \n",
       "8378   uncategorized  \n",
       "8379   uncategorized  \n",
       "1541   uncategorized  \n",
       "1542   uncategorized  \n",
       "1533   uncategorized  \n",
       "1538   uncategorized  "
      ]
     },
     "metadata": {},
     "output_type": "display_data"
    },
    {
     "name": "stdout",
     "output_type": "stream",
     "text": [
      "Theme: BrickHeadz\n",
      "Number of rows: 1\n"
     ]
    },
    {
     "data": {
      "text/html": [
       "<div>\n",
       "<style scoped>\n",
       "    .dataframe tbody tr th:only-of-type {\n",
       "        vertical-align: middle;\n",
       "    }\n",
       "\n",
       "    .dataframe tbody tr th {\n",
       "        vertical-align: top;\n",
       "    }\n",
       "\n",
       "    .dataframe thead th {\n",
       "        text-align: right;\n",
       "    }\n",
       "</style>\n",
       "<table border=\"1\" class=\"dataframe\">\n",
       "  <thead>\n",
       "    <tr style=\"text-align: right;\">\n",
       "      <th></th>\n",
       "      <th>number</th>\n",
       "      <th>theme</th>\n",
       "      <th>subtheme</th>\n",
       "      <th>year</th>\n",
       "      <th>set_name</th>\n",
       "      <th>minifigs</th>\n",
       "      <th>pieces</th>\n",
       "      <th>rrp_gbp</th>\n",
       "      <th>price</th>\n",
       "      <th>rrp_eur</th>\n",
       "      <th>value_new</th>\n",
       "      <th>value_used</th>\n",
       "      <th>launch_date</th>\n",
       "      <th>exit_date</th>\n",
       "      <th>numeric_data_nan</th>\n",
       "      <th>category</th>\n",
       "    </tr>\n",
       "  </thead>\n",
       "  <tbody>\n",
       "    <tr>\n",
       "      <th>5669</th>\n",
       "      <td>6315025-1</td>\n",
       "      <td>BrickHeadz</td>\n",
       "      <td>Promotional</td>\n",
       "      <td>2019</td>\n",
       "      <td>Amsterdam BrickHeadz</td>\n",
       "      <td>NaN</td>\n",
       "      <td>NaN</td>\n",
       "      <td>NaN</td>\n",
       "      <td>NaN</td>\n",
       "      <td>NaN</td>\n",
       "      <td>433.60</td>\n",
       "      <td>NaN</td>\n",
       "      <td>NaN</td>\n",
       "      <td>NaN</td>\n",
       "      <td>False</td>\n",
       "      <td>uncategorized</td>\n",
       "    </tr>\n",
       "  </tbody>\n",
       "</table>\n",
       "</div>"
      ],
      "text/plain": [
       "         number       theme     subtheme  year              set_name  \\\n",
       "5669  6315025-1  BrickHeadz  Promotional  2019  Amsterdam BrickHeadz   \n",
       "\n",
       "      minifigs  pieces  rrp_gbp  price  rrp_eur  value_new  value_used  \\\n",
       "5669       NaN     NaN      NaN    NaN      NaN     433.60         NaN   \n",
       "\n",
       "     launch_date exit_date  numeric_data_nan       category  \n",
       "5669         NaN       NaN             False  uncategorized  "
      ]
     },
     "metadata": {},
     "output_type": "display_data"
    },
    {
     "name": "stdout",
     "output_type": "stream",
     "text": [
      "Theme: Seasonal\n",
      "Number of rows: 1\n"
     ]
    },
    {
     "data": {
      "text/html": [
       "<div>\n",
       "<style scoped>\n",
       "    .dataframe tbody tr th:only-of-type {\n",
       "        vertical-align: middle;\n",
       "    }\n",
       "\n",
       "    .dataframe tbody tr th {\n",
       "        vertical-align: top;\n",
       "    }\n",
       "\n",
       "    .dataframe thead th {\n",
       "        text-align: right;\n",
       "    }\n",
       "</style>\n",
       "<table border=\"1\" class=\"dataframe\">\n",
       "  <thead>\n",
       "    <tr style=\"text-align: right;\">\n",
       "      <th></th>\n",
       "      <th>number</th>\n",
       "      <th>theme</th>\n",
       "      <th>subtheme</th>\n",
       "      <th>year</th>\n",
       "      <th>set_name</th>\n",
       "      <th>minifigs</th>\n",
       "      <th>pieces</th>\n",
       "      <th>rrp_gbp</th>\n",
       "      <th>price</th>\n",
       "      <th>rrp_eur</th>\n",
       "      <th>value_new</th>\n",
       "      <th>value_used</th>\n",
       "      <th>launch_date</th>\n",
       "      <th>exit_date</th>\n",
       "      <th>numeric_data_nan</th>\n",
       "      <th>category</th>\n",
       "    </tr>\n",
       "  </thead>\n",
       "  <tbody>\n",
       "    <tr>\n",
       "      <th>6807</th>\n",
       "      <td>5004259-1</td>\n",
       "      <td>Seasonal</td>\n",
       "      <td>Christmas</td>\n",
       "      <td>2014</td>\n",
       "      <td>Holiday Ornament Collection</td>\n",
       "      <td>NaN</td>\n",
       "      <td>NaN</td>\n",
       "      <td>NaN</td>\n",
       "      <td>47.94</td>\n",
       "      <td>NaN</td>\n",
       "      <td>NaN</td>\n",
       "      <td>NaN</td>\n",
       "      <td>NaN</td>\n",
       "      <td>NaN</td>\n",
       "      <td>False</td>\n",
       "      <td>uncategorized</td>\n",
       "    </tr>\n",
       "  </tbody>\n",
       "</table>\n",
       "</div>"
      ],
      "text/plain": [
       "         number     theme   subtheme  year                     set_name  \\\n",
       "6807  5004259-1  Seasonal  Christmas  2014  Holiday Ornament Collection   \n",
       "\n",
       "      minifigs  pieces  rrp_gbp  price  rrp_eur  value_new  value_used  \\\n",
       "6807       NaN     NaN      NaN  47.94      NaN        NaN         NaN   \n",
       "\n",
       "     launch_date exit_date  numeric_data_nan       category  \n",
       "6807         NaN       NaN             False  uncategorized  "
      ]
     },
     "metadata": {},
     "output_type": "display_data"
    },
    {
     "name": "stdout",
     "output_type": "stream",
     "text": [
      "Theme: Duplo\n",
      "Number of rows: 21\n"
     ]
    },
    {
     "data": {
      "text/html": [
       "<div>\n",
       "<style scoped>\n",
       "    .dataframe tbody tr th:only-of-type {\n",
       "        vertical-align: middle;\n",
       "    }\n",
       "\n",
       "    .dataframe tbody tr th {\n",
       "        vertical-align: top;\n",
       "    }\n",
       "\n",
       "    .dataframe thead th {\n",
       "        text-align: right;\n",
       "    }\n",
       "</style>\n",
       "<table border=\"1\" class=\"dataframe\">\n",
       "  <thead>\n",
       "    <tr style=\"text-align: right;\">\n",
       "      <th></th>\n",
       "      <th>number</th>\n",
       "      <th>theme</th>\n",
       "      <th>subtheme</th>\n",
       "      <th>year</th>\n",
       "      <th>set_name</th>\n",
       "      <th>minifigs</th>\n",
       "      <th>pieces</th>\n",
       "      <th>rrp_gbp</th>\n",
       "      <th>price</th>\n",
       "      <th>rrp_eur</th>\n",
       "      <th>value_new</th>\n",
       "      <th>value_used</th>\n",
       "      <th>launch_date</th>\n",
       "      <th>exit_date</th>\n",
       "      <th>numeric_data_nan</th>\n",
       "      <th>category</th>\n",
       "    </tr>\n",
       "  </thead>\n",
       "  <tbody>\n",
       "    <tr>\n",
       "      <th>5838</th>\n",
       "      <td>2751-1</td>\n",
       "      <td>Duplo</td>\n",
       "      <td>NaN</td>\n",
       "      <td>2000</td>\n",
       "      <td>Egg Fun</td>\n",
       "      <td>NaN</td>\n",
       "      <td>NaN</td>\n",
       "      <td>NaN</td>\n",
       "      <td>4.00</td>\n",
       "      <td>NaN</td>\n",
       "      <td>NaN</td>\n",
       "      <td>NaN</td>\n",
       "      <td>NaN</td>\n",
       "      <td>NaN</td>\n",
       "      <td>False</td>\n",
       "      <td>uncategorized</td>\n",
       "    </tr>\n",
       "    <tr>\n",
       "      <th>11429</th>\n",
       "      <td>5484-1</td>\n",
       "      <td>Duplo</td>\n",
       "      <td>NaN</td>\n",
       "      <td>2006</td>\n",
       "      <td>{Zoo animal}</td>\n",
       "      <td>NaN</td>\n",
       "      <td>NaN</td>\n",
       "      <td>NaN</td>\n",
       "      <td>NaN</td>\n",
       "      <td>NaN</td>\n",
       "      <td>NaN</td>\n",
       "      <td>NaN</td>\n",
       "      <td>01/01/2006</td>\n",
       "      <td>31/12/2009</td>\n",
       "      <td>False</td>\n",
       "      <td>uncategorized</td>\n",
       "    </tr>\n",
       "    <tr>\n",
       "      <th>11431</th>\n",
       "      <td>5485-2</td>\n",
       "      <td>Duplo</td>\n",
       "      <td>NaN</td>\n",
       "      <td>2006</td>\n",
       "      <td>Zoo - Zoo Keeper</td>\n",
       "      <td>NaN</td>\n",
       "      <td>NaN</td>\n",
       "      <td>NaN</td>\n",
       "      <td>NaN</td>\n",
       "      <td>NaN</td>\n",
       "      <td>NaN</td>\n",
       "      <td>NaN</td>\n",
       "      <td>01/01/2006</td>\n",
       "      <td>31/12/2007</td>\n",
       "      <td>False</td>\n",
       "      <td>uncategorized</td>\n",
       "    </tr>\n",
       "    <tr>\n",
       "      <th>11432</th>\n",
       "      <td>5485-3</td>\n",
       "      <td>Duplo</td>\n",
       "      <td>NaN</td>\n",
       "      <td>2006</td>\n",
       "      <td>Zoo  - Penguin</td>\n",
       "      <td>NaN</td>\n",
       "      <td>NaN</td>\n",
       "      <td>NaN</td>\n",
       "      <td>NaN</td>\n",
       "      <td>NaN</td>\n",
       "      <td>NaN</td>\n",
       "      <td>NaN</td>\n",
       "      <td>01/01/2006</td>\n",
       "      <td>31/12/2007</td>\n",
       "      <td>False</td>\n",
       "      <td>uncategorized</td>\n",
       "    </tr>\n",
       "    <tr>\n",
       "      <th>11433</th>\n",
       "      <td>5485-4</td>\n",
       "      <td>Duplo</td>\n",
       "      <td>NaN</td>\n",
       "      <td>2006</td>\n",
       "      <td>Zoo - Polar Bear</td>\n",
       "      <td>NaN</td>\n",
       "      <td>NaN</td>\n",
       "      <td>NaN</td>\n",
       "      <td>NaN</td>\n",
       "      <td>NaN</td>\n",
       "      <td>NaN</td>\n",
       "      <td>NaN</td>\n",
       "      <td>01/01/2006</td>\n",
       "      <td>31/12/2007</td>\n",
       "      <td>False</td>\n",
       "      <td>uncategorized</td>\n",
       "    </tr>\n",
       "    <tr>\n",
       "      <th>11434</th>\n",
       "      <td>5485-5</td>\n",
       "      <td>Duplo</td>\n",
       "      <td>NaN</td>\n",
       "      <td>2006</td>\n",
       "      <td>Zoo - Hippopotamus</td>\n",
       "      <td>NaN</td>\n",
       "      <td>NaN</td>\n",
       "      <td>NaN</td>\n",
       "      <td>NaN</td>\n",
       "      <td>NaN</td>\n",
       "      <td>NaN</td>\n",
       "      <td>NaN</td>\n",
       "      <td>01/01/2006</td>\n",
       "      <td>31/12/2007</td>\n",
       "      <td>False</td>\n",
       "      <td>uncategorized</td>\n",
       "    </tr>\n",
       "    <tr>\n",
       "      <th>11435</th>\n",
       "      <td>5485-6</td>\n",
       "      <td>Duplo</td>\n",
       "      <td>NaN</td>\n",
       "      <td>2006</td>\n",
       "      <td>Zoo - Giraffe</td>\n",
       "      <td>NaN</td>\n",
       "      <td>NaN</td>\n",
       "      <td>NaN</td>\n",
       "      <td>NaN</td>\n",
       "      <td>NaN</td>\n",
       "      <td>NaN</td>\n",
       "      <td>NaN</td>\n",
       "      <td>01/01/2006</td>\n",
       "      <td>31/12/2007</td>\n",
       "      <td>False</td>\n",
       "      <td>uncategorized</td>\n",
       "    </tr>\n",
       "    <tr>\n",
       "      <th>14260</th>\n",
       "      <td>30060-2</td>\n",
       "      <td>Duplo</td>\n",
       "      <td>NaN</td>\n",
       "      <td>2010</td>\n",
       "      <td>Farm  - Farmer</td>\n",
       "      <td>NaN</td>\n",
       "      <td>NaN</td>\n",
       "      <td>NaN</td>\n",
       "      <td>NaN</td>\n",
       "      <td>NaN</td>\n",
       "      <td>NaN</td>\n",
       "      <td>NaN</td>\n",
       "      <td>01/01/2010</td>\n",
       "      <td>31/12/2011</td>\n",
       "      <td>False</td>\n",
       "      <td>uncategorized</td>\n",
       "    </tr>\n",
       "    <tr>\n",
       "      <th>14261</th>\n",
       "      <td>30060-3</td>\n",
       "      <td>Duplo</td>\n",
       "      <td>NaN</td>\n",
       "      <td>2010</td>\n",
       "      <td>Farm - Dog</td>\n",
       "      <td>NaN</td>\n",
       "      <td>NaN</td>\n",
       "      <td>NaN</td>\n",
       "      <td>NaN</td>\n",
       "      <td>NaN</td>\n",
       "      <td>NaN</td>\n",
       "      <td>NaN</td>\n",
       "      <td>01/01/2010</td>\n",
       "      <td>31/12/2011</td>\n",
       "      <td>False</td>\n",
       "      <td>uncategorized</td>\n",
       "    </tr>\n",
       "    <tr>\n",
       "      <th>14262</th>\n",
       "      <td>30060-4</td>\n",
       "      <td>Duplo</td>\n",
       "      <td>NaN</td>\n",
       "      <td>2010</td>\n",
       "      <td>Farm - Sheep</td>\n",
       "      <td>NaN</td>\n",
       "      <td>NaN</td>\n",
       "      <td>NaN</td>\n",
       "      <td>NaN</td>\n",
       "      <td>NaN</td>\n",
       "      <td>NaN</td>\n",
       "      <td>NaN</td>\n",
       "      <td>01/01/2010</td>\n",
       "      <td>31/12/2011</td>\n",
       "      <td>False</td>\n",
       "      <td>uncategorized</td>\n",
       "    </tr>\n",
       "    <tr>\n",
       "      <th>14263</th>\n",
       "      <td>30060-5</td>\n",
       "      <td>Duplo</td>\n",
       "      <td>NaN</td>\n",
       "      <td>2010</td>\n",
       "      <td>Farm - Horse</td>\n",
       "      <td>NaN</td>\n",
       "      <td>NaN</td>\n",
       "      <td>NaN</td>\n",
       "      <td>NaN</td>\n",
       "      <td>NaN</td>\n",
       "      <td>NaN</td>\n",
       "      <td>NaN</td>\n",
       "      <td>01/01/2010</td>\n",
       "      <td>31/12/2011</td>\n",
       "      <td>False</td>\n",
       "      <td>uncategorized</td>\n",
       "    </tr>\n",
       "    <tr>\n",
       "      <th>14264</th>\n",
       "      <td>30060-6</td>\n",
       "      <td>Duplo</td>\n",
       "      <td>NaN</td>\n",
       "      <td>2010</td>\n",
       "      <td>Farm - Cow</td>\n",
       "      <td>NaN</td>\n",
       "      <td>NaN</td>\n",
       "      <td>NaN</td>\n",
       "      <td>NaN</td>\n",
       "      <td>NaN</td>\n",
       "      <td>NaN</td>\n",
       "      <td>NaN</td>\n",
       "      <td>01/01/2010</td>\n",
       "      <td>31/12/2011</td>\n",
       "      <td>False</td>\n",
       "      <td>uncategorized</td>\n",
       "    </tr>\n",
       "    <tr>\n",
       "      <th>10128</th>\n",
       "      <td>66538-1</td>\n",
       "      <td>Duplo</td>\n",
       "      <td>NaN</td>\n",
       "      <td>2016</td>\n",
       "      <td>Forests Value Pack</td>\n",
       "      <td>NaN</td>\n",
       "      <td>NaN</td>\n",
       "      <td>NaN</td>\n",
       "      <td>NaN</td>\n",
       "      <td>NaN</td>\n",
       "      <td>86.15</td>\n",
       "      <td>NaN</td>\n",
       "      <td>01/09/2016</td>\n",
       "      <td>31/12/2016</td>\n",
       "      <td>False</td>\n",
       "      <td>uncategorized</td>\n",
       "    </tr>\n",
       "    <tr>\n",
       "      <th>8187</th>\n",
       "      <td>30324-0</td>\n",
       "      <td>Duplo</td>\n",
       "      <td>NaN</td>\n",
       "      <td>2017</td>\n",
       "      <td>My Town {Random Bag}</td>\n",
       "      <td>NaN</td>\n",
       "      <td>NaN</td>\n",
       "      <td>NaN</td>\n",
       "      <td>NaN</td>\n",
       "      <td>NaN</td>\n",
       "      <td>NaN</td>\n",
       "      <td>NaN</td>\n",
       "      <td>01/01/2017</td>\n",
       "      <td>31/12/2017</td>\n",
       "      <td>False</td>\n",
       "      <td>uncategorized</td>\n",
       "    </tr>\n",
       "    <tr>\n",
       "      <th>4187</th>\n",
       "      <td>30326-0</td>\n",
       "      <td>Duplo</td>\n",
       "      <td>NaN</td>\n",
       "      <td>2018</td>\n",
       "      <td>Farm {Random bag}</td>\n",
       "      <td>NaN</td>\n",
       "      <td>NaN</td>\n",
       "      <td>NaN</td>\n",
       "      <td>NaN</td>\n",
       "      <td>NaN</td>\n",
       "      <td>NaN</td>\n",
       "      <td>NaN</td>\n",
       "      <td>01/01/2018</td>\n",
       "      <td>31/12/2018</td>\n",
       "      <td>False</td>\n",
       "      <td>uncategorized</td>\n",
       "    </tr>\n",
       "    <tr>\n",
       "      <th>4983</th>\n",
       "      <td>30328-0</td>\n",
       "      <td>Duplo</td>\n",
       "      <td>NaN</td>\n",
       "      <td>2019</td>\n",
       "      <td>Town Rescue - {Random Bag}</td>\n",
       "      <td>NaN</td>\n",
       "      <td>NaN</td>\n",
       "      <td>NaN</td>\n",
       "      <td>NaN</td>\n",
       "      <td>NaN</td>\n",
       "      <td>NaN</td>\n",
       "      <td>NaN</td>\n",
       "      <td>01/01/2019</td>\n",
       "      <td>31/12/2019</td>\n",
       "      <td>False</td>\n",
       "      <td>uncategorized</td>\n",
       "    </tr>\n",
       "    <tr>\n",
       "      <th>4984</th>\n",
       "      <td>30328-2</td>\n",
       "      <td>Duplo</td>\n",
       "      <td>NaN</td>\n",
       "      <td>2019</td>\n",
       "      <td>Town Rescue - Bird</td>\n",
       "      <td>NaN</td>\n",
       "      <td>NaN</td>\n",
       "      <td>NaN</td>\n",
       "      <td>NaN</td>\n",
       "      <td>NaN</td>\n",
       "      <td>NaN</td>\n",
       "      <td>NaN</td>\n",
       "      <td>01/01/2019</td>\n",
       "      <td>31/12/2019</td>\n",
       "      <td>False</td>\n",
       "      <td>uncategorized</td>\n",
       "    </tr>\n",
       "    <tr>\n",
       "      <th>4985</th>\n",
       "      <td>30328-3</td>\n",
       "      <td>Duplo</td>\n",
       "      <td>NaN</td>\n",
       "      <td>2019</td>\n",
       "      <td>Town Rescue - Fireman</td>\n",
       "      <td>NaN</td>\n",
       "      <td>NaN</td>\n",
       "      <td>NaN</td>\n",
       "      <td>NaN</td>\n",
       "      <td>NaN</td>\n",
       "      <td>NaN</td>\n",
       "      <td>NaN</td>\n",
       "      <td>01/01/2019</td>\n",
       "      <td>31/12/2019</td>\n",
       "      <td>False</td>\n",
       "      <td>uncategorized</td>\n",
       "    </tr>\n",
       "    <tr>\n",
       "      <th>4986</th>\n",
       "      <td>30328-4</td>\n",
       "      <td>Duplo</td>\n",
       "      <td>NaN</td>\n",
       "      <td>2019</td>\n",
       "      <td>Town Rescue - Cat</td>\n",
       "      <td>NaN</td>\n",
       "      <td>NaN</td>\n",
       "      <td>NaN</td>\n",
       "      <td>NaN</td>\n",
       "      <td>NaN</td>\n",
       "      <td>NaN</td>\n",
       "      <td>NaN</td>\n",
       "      <td>01/01/2019</td>\n",
       "      <td>31/12/2019</td>\n",
       "      <td>False</td>\n",
       "      <td>uncategorized</td>\n",
       "    </tr>\n",
       "    <tr>\n",
       "      <th>4987</th>\n",
       "      <td>30328-5</td>\n",
       "      <td>Duplo</td>\n",
       "      <td>NaN</td>\n",
       "      <td>2019</td>\n",
       "      <td>Town Rescue - Policewoman</td>\n",
       "      <td>NaN</td>\n",
       "      <td>NaN</td>\n",
       "      <td>NaN</td>\n",
       "      <td>NaN</td>\n",
       "      <td>NaN</td>\n",
       "      <td>NaN</td>\n",
       "      <td>NaN</td>\n",
       "      <td>01/01/2019</td>\n",
       "      <td>31/12/2019</td>\n",
       "      <td>False</td>\n",
       "      <td>uncategorized</td>\n",
       "    </tr>\n",
       "    <tr>\n",
       "      <th>4988</th>\n",
       "      <td>30328-6</td>\n",
       "      <td>Duplo</td>\n",
       "      <td>NaN</td>\n",
       "      <td>2019</td>\n",
       "      <td>Town Rescue - Dog</td>\n",
       "      <td>NaN</td>\n",
       "      <td>NaN</td>\n",
       "      <td>NaN</td>\n",
       "      <td>NaN</td>\n",
       "      <td>NaN</td>\n",
       "      <td>NaN</td>\n",
       "      <td>NaN</td>\n",
       "      <td>01/01/2019</td>\n",
       "      <td>31/12/2019</td>\n",
       "      <td>False</td>\n",
       "      <td>uncategorized</td>\n",
       "    </tr>\n",
       "  </tbody>\n",
       "</table>\n",
       "</div>"
      ],
      "text/plain": [
       "        number  theme subtheme  year                    set_name  minifigs  \\\n",
       "5838    2751-1  Duplo      NaN  2000                     Egg Fun       NaN   \n",
       "11429   5484-1  Duplo      NaN  2006                {Zoo animal}       NaN   \n",
       "11431   5485-2  Duplo      NaN  2006            Zoo - Zoo Keeper       NaN   \n",
       "11432   5485-3  Duplo      NaN  2006              Zoo  - Penguin       NaN   \n",
       "11433   5485-4  Duplo      NaN  2006            Zoo - Polar Bear       NaN   \n",
       "11434   5485-5  Duplo      NaN  2006          Zoo - Hippopotamus       NaN   \n",
       "11435   5485-6  Duplo      NaN  2006               Zoo - Giraffe       NaN   \n",
       "14260  30060-2  Duplo      NaN  2010              Farm  - Farmer       NaN   \n",
       "14261  30060-3  Duplo      NaN  2010                  Farm - Dog       NaN   \n",
       "14262  30060-4  Duplo      NaN  2010                Farm - Sheep       NaN   \n",
       "14263  30060-5  Duplo      NaN  2010                Farm - Horse       NaN   \n",
       "14264  30060-6  Duplo      NaN  2010                  Farm - Cow       NaN   \n",
       "10128  66538-1  Duplo      NaN  2016          Forests Value Pack       NaN   \n",
       "8187   30324-0  Duplo      NaN  2017        My Town {Random Bag}       NaN   \n",
       "4187   30326-0  Duplo      NaN  2018           Farm {Random bag}       NaN   \n",
       "4983   30328-0  Duplo      NaN  2019  Town Rescue - {Random Bag}       NaN   \n",
       "4984   30328-2  Duplo      NaN  2019          Town Rescue - Bird       NaN   \n",
       "4985   30328-3  Duplo      NaN  2019       Town Rescue - Fireman       NaN   \n",
       "4986   30328-4  Duplo      NaN  2019           Town Rescue - Cat       NaN   \n",
       "4987   30328-5  Duplo      NaN  2019   Town Rescue - Policewoman       NaN   \n",
       "4988   30328-6  Duplo      NaN  2019           Town Rescue - Dog       NaN   \n",
       "\n",
       "       pieces  rrp_gbp  price  rrp_eur  value_new  value_used launch_date  \\\n",
       "5838      NaN      NaN   4.00      NaN        NaN         NaN         NaN   \n",
       "11429     NaN      NaN    NaN      NaN        NaN         NaN  01/01/2006   \n",
       "11431     NaN      NaN    NaN      NaN        NaN         NaN  01/01/2006   \n",
       "11432     NaN      NaN    NaN      NaN        NaN         NaN  01/01/2006   \n",
       "11433     NaN      NaN    NaN      NaN        NaN         NaN  01/01/2006   \n",
       "11434     NaN      NaN    NaN      NaN        NaN         NaN  01/01/2006   \n",
       "11435     NaN      NaN    NaN      NaN        NaN         NaN  01/01/2006   \n",
       "14260     NaN      NaN    NaN      NaN        NaN         NaN  01/01/2010   \n",
       "14261     NaN      NaN    NaN      NaN        NaN         NaN  01/01/2010   \n",
       "14262     NaN      NaN    NaN      NaN        NaN         NaN  01/01/2010   \n",
       "14263     NaN      NaN    NaN      NaN        NaN         NaN  01/01/2010   \n",
       "14264     NaN      NaN    NaN      NaN        NaN         NaN  01/01/2010   \n",
       "10128     NaN      NaN    NaN      NaN      86.15         NaN  01/09/2016   \n",
       "8187      NaN      NaN    NaN      NaN        NaN         NaN  01/01/2017   \n",
       "4187      NaN      NaN    NaN      NaN        NaN         NaN  01/01/2018   \n",
       "4983      NaN      NaN    NaN      NaN        NaN         NaN  01/01/2019   \n",
       "4984      NaN      NaN    NaN      NaN        NaN         NaN  01/01/2019   \n",
       "4985      NaN      NaN    NaN      NaN        NaN         NaN  01/01/2019   \n",
       "4986      NaN      NaN    NaN      NaN        NaN         NaN  01/01/2019   \n",
       "4987      NaN      NaN    NaN      NaN        NaN         NaN  01/01/2019   \n",
       "4988      NaN      NaN    NaN      NaN        NaN         NaN  01/01/2019   \n",
       "\n",
       "        exit_date  numeric_data_nan       category  \n",
       "5838          NaN             False  uncategorized  \n",
       "11429  31/12/2009             False  uncategorized  \n",
       "11431  31/12/2007             False  uncategorized  \n",
       "11432  31/12/2007             False  uncategorized  \n",
       "11433  31/12/2007             False  uncategorized  \n",
       "11434  31/12/2007             False  uncategorized  \n",
       "11435  31/12/2007             False  uncategorized  \n",
       "14260  31/12/2011             False  uncategorized  \n",
       "14261  31/12/2011             False  uncategorized  \n",
       "14262  31/12/2011             False  uncategorized  \n",
       "14263  31/12/2011             False  uncategorized  \n",
       "14264  31/12/2011             False  uncategorized  \n",
       "10128  31/12/2016             False  uncategorized  \n",
       "8187   31/12/2017             False  uncategorized  \n",
       "4187   31/12/2018             False  uncategorized  \n",
       "4983   31/12/2019             False  uncategorized  \n",
       "4984   31/12/2019             False  uncategorized  \n",
       "4985   31/12/2019             False  uncategorized  \n",
       "4986   31/12/2019             False  uncategorized  \n",
       "4987   31/12/2019             False  uncategorized  \n",
       "4988   31/12/2019             False  uncategorized  "
      ]
     },
     "metadata": {},
     "output_type": "display_data"
    },
    {
     "name": "stdout",
     "output_type": "stream",
     "text": [
      "Theme: Marvel Super Heroes\n",
      "Number of rows: 1\n"
     ]
    },
    {
     "data": {
      "text/html": [
       "<div>\n",
       "<style scoped>\n",
       "    .dataframe tbody tr th:only-of-type {\n",
       "        vertical-align: middle;\n",
       "    }\n",
       "\n",
       "    .dataframe tbody tr th {\n",
       "        vertical-align: top;\n",
       "    }\n",
       "\n",
       "    .dataframe thead th {\n",
       "        text-align: right;\n",
       "    }\n",
       "</style>\n",
       "<table border=\"1\" class=\"dataframe\">\n",
       "  <thead>\n",
       "    <tr style=\"text-align: right;\">\n",
       "      <th></th>\n",
       "      <th>number</th>\n",
       "      <th>theme</th>\n",
       "      <th>subtheme</th>\n",
       "      <th>year</th>\n",
       "      <th>set_name</th>\n",
       "      <th>minifigs</th>\n",
       "      <th>pieces</th>\n",
       "      <th>rrp_gbp</th>\n",
       "      <th>price</th>\n",
       "      <th>rrp_eur</th>\n",
       "      <th>value_new</th>\n",
       "      <th>value_used</th>\n",
       "      <th>launch_date</th>\n",
       "      <th>exit_date</th>\n",
       "      <th>numeric_data_nan</th>\n",
       "      <th>category</th>\n",
       "    </tr>\n",
       "  </thead>\n",
       "  <tbody>\n",
       "    <tr>\n",
       "      <th>4076</th>\n",
       "      <td>242210-1</td>\n",
       "      <td>Marvel Super Heroes</td>\n",
       "      <td>Magazine Gift</td>\n",
       "      <td>2022</td>\n",
       "      <td>Iron Man</td>\n",
       "      <td>NaN</td>\n",
       "      <td>NaN</td>\n",
       "      <td>NaN</td>\n",
       "      <td>NaN</td>\n",
       "      <td>NaN</td>\n",
       "      <td>5.04</td>\n",
       "      <td>NaN</td>\n",
       "      <td>NaN</td>\n",
       "      <td>NaN</td>\n",
       "      <td>False</td>\n",
       "      <td>uncategorized</td>\n",
       "    </tr>\n",
       "  </tbody>\n",
       "</table>\n",
       "</div>"
      ],
      "text/plain": [
       "        number                theme       subtheme  year  set_name  minifigs  \\\n",
       "4076  242210-1  Marvel Super Heroes  Magazine Gift  2022  Iron Man       NaN   \n",
       "\n",
       "      pieces  rrp_gbp  price  rrp_eur  value_new  value_used launch_date  \\\n",
       "4076     NaN      NaN    NaN      NaN       5.04         NaN         NaN   \n",
       "\n",
       "     exit_date  numeric_data_nan       category  \n",
       "4076       NaN             False  uncategorized  "
      ]
     },
     "metadata": {},
     "output_type": "display_data"
    },
    {
     "name": "stdout",
     "output_type": "stream",
     "text": [
      "Theme: Creator Expert\n",
      "Number of rows: 1\n"
     ]
    },
    {
     "data": {
      "text/html": [
       "<div>\n",
       "<style scoped>\n",
       "    .dataframe tbody tr th:only-of-type {\n",
       "        vertical-align: middle;\n",
       "    }\n",
       "\n",
       "    .dataframe tbody tr th {\n",
       "        vertical-align: top;\n",
       "    }\n",
       "\n",
       "    .dataframe thead th {\n",
       "        text-align: right;\n",
       "    }\n",
       "</style>\n",
       "<table border=\"1\" class=\"dataframe\">\n",
       "  <thead>\n",
       "    <tr style=\"text-align: right;\">\n",
       "      <th></th>\n",
       "      <th>number</th>\n",
       "      <th>theme</th>\n",
       "      <th>subtheme</th>\n",
       "      <th>year</th>\n",
       "      <th>set_name</th>\n",
       "      <th>minifigs</th>\n",
       "      <th>pieces</th>\n",
       "      <th>rrp_gbp</th>\n",
       "      <th>price</th>\n",
       "      <th>rrp_eur</th>\n",
       "      <th>value_new</th>\n",
       "      <th>value_used</th>\n",
       "      <th>launch_date</th>\n",
       "      <th>exit_date</th>\n",
       "      <th>numeric_data_nan</th>\n",
       "      <th>category</th>\n",
       "    </tr>\n",
       "  </thead>\n",
       "  <tbody>\n",
       "    <tr>\n",
       "      <th>1229</th>\n",
       "      <td>10282-2</td>\n",
       "      <td>Creator Expert</td>\n",
       "      <td>Adidas</td>\n",
       "      <td>2021</td>\n",
       "      <td>Adidas Originals Superstar X Footshop 'Bluepri...</td>\n",
       "      <td>NaN</td>\n",
       "      <td>NaN</td>\n",
       "      <td>79.99</td>\n",
       "      <td>79.99</td>\n",
       "      <td>89.99</td>\n",
       "      <td>NaN</td>\n",
       "      <td>NaN</td>\n",
       "      <td>01/07/2021</td>\n",
       "      <td>31/12/2023</td>\n",
       "      <td>False</td>\n",
       "      <td>uncategorized</td>\n",
       "    </tr>\n",
       "  </tbody>\n",
       "</table>\n",
       "</div>"
      ],
      "text/plain": [
       "       number           theme subtheme  year  \\\n",
       "1229  10282-2  Creator Expert   Adidas  2021   \n",
       "\n",
       "                                               set_name  minifigs  pieces  \\\n",
       "1229  Adidas Originals Superstar X Footshop 'Bluepri...       NaN     NaN   \n",
       "\n",
       "      rrp_gbp  price  rrp_eur  value_new  value_used launch_date   exit_date  \\\n",
       "1229    79.99  79.99    89.99        NaN         NaN  01/07/2021  31/12/2023   \n",
       "\n",
       "      numeric_data_nan       category  \n",
       "1229             False  uncategorized  "
      ]
     },
     "metadata": {},
     "output_type": "display_data"
    },
    {
     "name": "stdout",
     "output_type": "stream",
     "text": [
      "Theme: DC Comics Super Heroes\n",
      "Number of rows: 2\n"
     ]
    },
    {
     "data": {
      "text/html": [
       "<div>\n",
       "<style scoped>\n",
       "    .dataframe tbody tr th:only-of-type {\n",
       "        vertical-align: middle;\n",
       "    }\n",
       "\n",
       "    .dataframe tbody tr th {\n",
       "        vertical-align: top;\n",
       "    }\n",
       "\n",
       "    .dataframe thead th {\n",
       "        text-align: right;\n",
       "    }\n",
       "</style>\n",
       "<table border=\"1\" class=\"dataframe\">\n",
       "  <thead>\n",
       "    <tr style=\"text-align: right;\">\n",
       "      <th></th>\n",
       "      <th>number</th>\n",
       "      <th>theme</th>\n",
       "      <th>subtheme</th>\n",
       "      <th>year</th>\n",
       "      <th>set_name</th>\n",
       "      <th>minifigs</th>\n",
       "      <th>pieces</th>\n",
       "      <th>rrp_gbp</th>\n",
       "      <th>price</th>\n",
       "      <th>rrp_eur</th>\n",
       "      <th>value_new</th>\n",
       "      <th>value_used</th>\n",
       "      <th>launch_date</th>\n",
       "      <th>exit_date</th>\n",
       "      <th>numeric_data_nan</th>\n",
       "      <th>category</th>\n",
       "    </tr>\n",
       "  </thead>\n",
       "  <tbody>\n",
       "    <tr>\n",
       "      <th>7594</th>\n",
       "      <td>5004816-1</td>\n",
       "      <td>DC Comics Super Heroes</td>\n",
       "      <td>Product Collection</td>\n",
       "      <td>2015</td>\n",
       "      <td>Super Heroes DC Collection</td>\n",
       "      <td>NaN</td>\n",
       "      <td>NaN</td>\n",
       "      <td>NaN</td>\n",
       "      <td>149.98</td>\n",
       "      <td>NaN</td>\n",
       "      <td>NaN</td>\n",
       "      <td>NaN</td>\n",
       "      <td>NaN</td>\n",
       "      <td>NaN</td>\n",
       "      <td>False</td>\n",
       "      <td>uncategorized</td>\n",
       "    </tr>\n",
       "    <tr>\n",
       "      <th>3631</th>\n",
       "      <td>212010-1</td>\n",
       "      <td>DC Comics Super Heroes</td>\n",
       "      <td>Magazine Gift</td>\n",
       "      <td>2020</td>\n",
       "      <td>Batman</td>\n",
       "      <td>1.00</td>\n",
       "      <td>NaN</td>\n",
       "      <td>NaN</td>\n",
       "      <td>NaN</td>\n",
       "      <td>NaN</td>\n",
       "      <td>3.38</td>\n",
       "      <td>2.73</td>\n",
       "      <td>NaN</td>\n",
       "      <td>NaN</td>\n",
       "      <td>False</td>\n",
       "      <td>uncategorized</td>\n",
       "    </tr>\n",
       "  </tbody>\n",
       "</table>\n",
       "</div>"
      ],
      "text/plain": [
       "         number                   theme            subtheme  year  \\\n",
       "7594  5004816-1  DC Comics Super Heroes  Product Collection  2015   \n",
       "3631   212010-1  DC Comics Super Heroes       Magazine Gift  2020   \n",
       "\n",
       "                        set_name  minifigs  pieces  rrp_gbp  price  rrp_eur  \\\n",
       "7594  Super Heroes DC Collection       NaN     NaN      NaN 149.98      NaN   \n",
       "3631                      Batman      1.00     NaN      NaN    NaN      NaN   \n",
       "\n",
       "      value_new  value_used launch_date exit_date  numeric_data_nan  \\\n",
       "7594        NaN         NaN         NaN       NaN             False   \n",
       "3631       3.38        2.73         NaN       NaN             False   \n",
       "\n",
       "           category  \n",
       "7594  uncategorized  \n",
       "3631  uncategorized  "
      ]
     },
     "metadata": {},
     "output_type": "display_data"
    },
    {
     "name": "stdout",
     "output_type": "stream",
     "text": [
      "Theme: Make and Create\n",
      "Number of rows: 1\n"
     ]
    },
    {
     "data": {
      "text/html": [
       "<div>\n",
       "<style scoped>\n",
       "    .dataframe tbody tr th:only-of-type {\n",
       "        vertical-align: middle;\n",
       "    }\n",
       "\n",
       "    .dataframe tbody tr th {\n",
       "        vertical-align: top;\n",
       "    }\n",
       "\n",
       "    .dataframe thead th {\n",
       "        text-align: right;\n",
       "    }\n",
       "</style>\n",
       "<table border=\"1\" class=\"dataframe\">\n",
       "  <thead>\n",
       "    <tr style=\"text-align: right;\">\n",
       "      <th></th>\n",
       "      <th>number</th>\n",
       "      <th>theme</th>\n",
       "      <th>subtheme</th>\n",
       "      <th>year</th>\n",
       "      <th>set_name</th>\n",
       "      <th>minifigs</th>\n",
       "      <th>pieces</th>\n",
       "      <th>rrp_gbp</th>\n",
       "      <th>price</th>\n",
       "      <th>rrp_eur</th>\n",
       "      <th>value_new</th>\n",
       "      <th>value_used</th>\n",
       "      <th>launch_date</th>\n",
       "      <th>exit_date</th>\n",
       "      <th>numeric_data_nan</th>\n",
       "      <th>category</th>\n",
       "    </tr>\n",
       "  </thead>\n",
       "  <tbody>\n",
       "    <tr>\n",
       "      <th>11514</th>\n",
       "      <td>7794-1</td>\n",
       "      <td>Make and Create</td>\n",
       "      <td>NaN</td>\n",
       "      <td>2006</td>\n",
       "      <td>{Set with two minifigs}</td>\n",
       "      <td>NaN</td>\n",
       "      <td>NaN</td>\n",
       "      <td>19.99</td>\n",
       "      <td>NaN</td>\n",
       "      <td>NaN</td>\n",
       "      <td>NaN</td>\n",
       "      <td>NaN</td>\n",
       "      <td>NaN</td>\n",
       "      <td>NaN</td>\n",
       "      <td>False</td>\n",
       "      <td>uncategorized</td>\n",
       "    </tr>\n",
       "  </tbody>\n",
       "</table>\n",
       "</div>"
      ],
      "text/plain": [
       "       number            theme subtheme  year                 set_name  \\\n",
       "11514  7794-1  Make and Create      NaN  2006  {Set with two minifigs}   \n",
       "\n",
       "       minifigs  pieces  rrp_gbp  price  rrp_eur  value_new  value_used  \\\n",
       "11514       NaN     NaN    19.99    NaN      NaN        NaN         NaN   \n",
       "\n",
       "      launch_date exit_date  numeric_data_nan       category  \n",
       "11514         NaN       NaN             False  uncategorized  "
      ]
     },
     "metadata": {},
     "output_type": "display_data"
    },
    {
     "name": "stdout",
     "output_type": "stream",
     "text": [
      "Theme: Power Miners\n",
      "Number of rows: 3\n"
     ]
    },
    {
     "data": {
      "text/html": [
       "<div>\n",
       "<style scoped>\n",
       "    .dataframe tbody tr th:only-of-type {\n",
       "        vertical-align: middle;\n",
       "    }\n",
       "\n",
       "    .dataframe tbody tr th {\n",
       "        vertical-align: top;\n",
       "    }\n",
       "\n",
       "    .dataframe thead th {\n",
       "        text-align: right;\n",
       "    }\n",
       "</style>\n",
       "<table border=\"1\" class=\"dataframe\">\n",
       "  <thead>\n",
       "    <tr style=\"text-align: right;\">\n",
       "      <th></th>\n",
       "      <th>number</th>\n",
       "      <th>theme</th>\n",
       "      <th>subtheme</th>\n",
       "      <th>year</th>\n",
       "      <th>set_name</th>\n",
       "      <th>minifigs</th>\n",
       "      <th>pieces</th>\n",
       "      <th>rrp_gbp</th>\n",
       "      <th>price</th>\n",
       "      <th>rrp_eur</th>\n",
       "      <th>value_new</th>\n",
       "      <th>value_used</th>\n",
       "      <th>launch_date</th>\n",
       "      <th>exit_date</th>\n",
       "      <th>numeric_data_nan</th>\n",
       "      <th>category</th>\n",
       "    </tr>\n",
       "  </thead>\n",
       "  <tbody>\n",
       "    <tr>\n",
       "      <th>2556</th>\n",
       "      <td>4559288-1</td>\n",
       "      <td>Power Miners</td>\n",
       "      <td>Promotional</td>\n",
       "      <td>2009</td>\n",
       "      <td>{Power Miners Promotional Polybag}</td>\n",
       "      <td>1.00</td>\n",
       "      <td>NaN</td>\n",
       "      <td>NaN</td>\n",
       "      <td>NaN</td>\n",
       "      <td>NaN</td>\n",
       "      <td>29.50</td>\n",
       "      <td>NaN</td>\n",
       "      <td>NaN</td>\n",
       "      <td>NaN</td>\n",
       "      <td>False</td>\n",
       "      <td>uncategorized</td>\n",
       "    </tr>\n",
       "    <tr>\n",
       "      <th>2557</th>\n",
       "      <td>4559385-1</td>\n",
       "      <td>Power Miners</td>\n",
       "      <td>Promotional</td>\n",
       "      <td>2009</td>\n",
       "      <td>{Power Miners Promotional Polybag}</td>\n",
       "      <td>1.00</td>\n",
       "      <td>NaN</td>\n",
       "      <td>NaN</td>\n",
       "      <td>NaN</td>\n",
       "      <td>NaN</td>\n",
       "      <td>14.63</td>\n",
       "      <td>NaN</td>\n",
       "      <td>NaN</td>\n",
       "      <td>NaN</td>\n",
       "      <td>False</td>\n",
       "      <td>uncategorized</td>\n",
       "    </tr>\n",
       "    <tr>\n",
       "      <th>2558</th>\n",
       "      <td>4559387-1</td>\n",
       "      <td>Power Miners</td>\n",
       "      <td>Promotional</td>\n",
       "      <td>2009</td>\n",
       "      <td>{Power Miners Promotional Polybag}</td>\n",
       "      <td>1.00</td>\n",
       "      <td>NaN</td>\n",
       "      <td>NaN</td>\n",
       "      <td>NaN</td>\n",
       "      <td>NaN</td>\n",
       "      <td>9.26</td>\n",
       "      <td>NaN</td>\n",
       "      <td>NaN</td>\n",
       "      <td>NaN</td>\n",
       "      <td>False</td>\n",
       "      <td>uncategorized</td>\n",
       "    </tr>\n",
       "  </tbody>\n",
       "</table>\n",
       "</div>"
      ],
      "text/plain": [
       "         number         theme     subtheme  year  \\\n",
       "2556  4559288-1  Power Miners  Promotional  2009   \n",
       "2557  4559385-1  Power Miners  Promotional  2009   \n",
       "2558  4559387-1  Power Miners  Promotional  2009   \n",
       "\n",
       "                                set_name  minifigs  pieces  rrp_gbp  price  \\\n",
       "2556  {Power Miners Promotional Polybag}      1.00     NaN      NaN    NaN   \n",
       "2557  {Power Miners Promotional Polybag}      1.00     NaN      NaN    NaN   \n",
       "2558  {Power Miners Promotional Polybag}      1.00     NaN      NaN    NaN   \n",
       "\n",
       "      rrp_eur  value_new  value_used launch_date exit_date  numeric_data_nan  \\\n",
       "2556      NaN      29.50         NaN         NaN       NaN             False   \n",
       "2557      NaN      14.63         NaN         NaN       NaN             False   \n",
       "2558      NaN       9.26         NaN         NaN       NaN             False   \n",
       "\n",
       "           category  \n",
       "2556  uncategorized  \n",
       "2557  uncategorized  \n",
       "2558  uncategorized  "
      ]
     },
     "metadata": {},
     "output_type": "display_data"
    },
    {
     "name": "stdout",
     "output_type": "stream",
     "text": [
      "Theme: Technic\n",
      "Number of rows: 1\n"
     ]
    },
    {
     "data": {
      "text/html": [
       "<div>\n",
       "<style scoped>\n",
       "    .dataframe tbody tr th:only-of-type {\n",
       "        vertical-align: middle;\n",
       "    }\n",
       "\n",
       "    .dataframe tbody tr th {\n",
       "        vertical-align: top;\n",
       "    }\n",
       "\n",
       "    .dataframe thead th {\n",
       "        text-align: right;\n",
       "    }\n",
       "</style>\n",
       "<table border=\"1\" class=\"dataframe\">\n",
       "  <thead>\n",
       "    <tr style=\"text-align: right;\">\n",
       "      <th></th>\n",
       "      <th>number</th>\n",
       "      <th>theme</th>\n",
       "      <th>subtheme</th>\n",
       "      <th>year</th>\n",
       "      <th>set_name</th>\n",
       "      <th>minifigs</th>\n",
       "      <th>pieces</th>\n",
       "      <th>rrp_gbp</th>\n",
       "      <th>price</th>\n",
       "      <th>rrp_eur</th>\n",
       "      <th>value_new</th>\n",
       "      <th>value_used</th>\n",
       "      <th>launch_date</th>\n",
       "      <th>exit_date</th>\n",
       "      <th>numeric_data_nan</th>\n",
       "      <th>category</th>\n",
       "    </tr>\n",
       "  </thead>\n",
       "  <tbody>\n",
       "    <tr>\n",
       "      <th>662</th>\n",
       "      <td>8299-1</td>\n",
       "      <td>Technic</td>\n",
       "      <td>NaN</td>\n",
       "      <td>1997</td>\n",
       "      <td>Search Sub</td>\n",
       "      <td>1.00</td>\n",
       "      <td>0.00</td>\n",
       "      <td>NaN</td>\n",
       "      <td>50.00</td>\n",
       "      <td>NaN</td>\n",
       "      <td>108.62</td>\n",
       "      <td>61.46</td>\n",
       "      <td>NaN</td>\n",
       "      <td>NaN</td>\n",
       "      <td>False</td>\n",
       "      <td>uncategorized</td>\n",
       "    </tr>\n",
       "  </tbody>\n",
       "</table>\n",
       "</div>"
      ],
      "text/plain": [
       "     number    theme subtheme  year    set_name  minifigs  pieces  rrp_gbp  \\\n",
       "662  8299-1  Technic      NaN  1997  Search Sub      1.00    0.00      NaN   \n",
       "\n",
       "     price  rrp_eur  value_new  value_used launch_date exit_date  \\\n",
       "662  50.00      NaN     108.62       61.46         NaN       NaN   \n",
       "\n",
       "     numeric_data_nan       category  \n",
       "662             False  uncategorized  "
      ]
     },
     "metadata": {},
     "output_type": "display_data"
    },
    {
     "name": "stdout",
     "output_type": "stream",
     "text": [
      "Theme: Promotional\n",
      "Number of rows: 18\n"
     ]
    },
    {
     "data": {
      "text/html": [
       "<div>\n",
       "<style scoped>\n",
       "    .dataframe tbody tr th:only-of-type {\n",
       "        vertical-align: middle;\n",
       "    }\n",
       "\n",
       "    .dataframe tbody tr th {\n",
       "        vertical-align: top;\n",
       "    }\n",
       "\n",
       "    .dataframe thead th {\n",
       "        text-align: right;\n",
       "    }\n",
       "</style>\n",
       "<table border=\"1\" class=\"dataframe\">\n",
       "  <thead>\n",
       "    <tr style=\"text-align: right;\">\n",
       "      <th></th>\n",
       "      <th>number</th>\n",
       "      <th>theme</th>\n",
       "      <th>subtheme</th>\n",
       "      <th>year</th>\n",
       "      <th>set_name</th>\n",
       "      <th>minifigs</th>\n",
       "      <th>pieces</th>\n",
       "      <th>rrp_gbp</th>\n",
       "      <th>price</th>\n",
       "      <th>rrp_eur</th>\n",
       "      <th>value_new</th>\n",
       "      <th>value_used</th>\n",
       "      <th>launch_date</th>\n",
       "      <th>exit_date</th>\n",
       "      <th>numeric_data_nan</th>\n",
       "      <th>category</th>\n",
       "    </tr>\n",
       "  </thead>\n",
       "  <tbody>\n",
       "    <tr>\n",
       "      <th>14860</th>\n",
       "      <td>4212850-1</td>\n",
       "      <td>Promotional</td>\n",
       "      <td>LEGO brand stores</td>\n",
       "      <td>2004</td>\n",
       "      <td>Easter Egg Orange</td>\n",
       "      <td>NaN</td>\n",
       "      <td>NaN</td>\n",
       "      <td>NaN</td>\n",
       "      <td>NaN</td>\n",
       "      <td>NaN</td>\n",
       "      <td>49.00</td>\n",
       "      <td>NaN</td>\n",
       "      <td>NaN</td>\n",
       "      <td>NaN</td>\n",
       "      <td>False</td>\n",
       "      <td>uncategorized</td>\n",
       "    </tr>\n",
       "    <tr>\n",
       "      <th>4841</th>\n",
       "      <td>6258620-1</td>\n",
       "      <td>Promotional</td>\n",
       "      <td>Miscellaneous</td>\n",
       "      <td>2018</td>\n",
       "      <td>Classic Wooden Duck</td>\n",
       "      <td>NaN</td>\n",
       "      <td>NaN</td>\n",
       "      <td>NaN</td>\n",
       "      <td>NaN</td>\n",
       "      <td>NaN</td>\n",
       "      <td>47.70</td>\n",
       "      <td>NaN</td>\n",
       "      <td>NaN</td>\n",
       "      <td>NaN</td>\n",
       "      <td>False</td>\n",
       "      <td>uncategorized</td>\n",
       "    </tr>\n",
       "    <tr>\n",
       "      <th>4842</th>\n",
       "      <td>6258622-1</td>\n",
       "      <td>Promotional</td>\n",
       "      <td>Miscellaneous</td>\n",
       "      <td>2018</td>\n",
       "      <td>Classic Wooden Bus</td>\n",
       "      <td>NaN</td>\n",
       "      <td>NaN</td>\n",
       "      <td>NaN</td>\n",
       "      <td>NaN</td>\n",
       "      <td>NaN</td>\n",
       "      <td>52.51</td>\n",
       "      <td>NaN</td>\n",
       "      <td>NaN</td>\n",
       "      <td>NaN</td>\n",
       "      <td>False</td>\n",
       "      <td>uncategorized</td>\n",
       "    </tr>\n",
       "    <tr>\n",
       "      <th>4843</th>\n",
       "      <td>6258623-1</td>\n",
       "      <td>Promotional</td>\n",
       "      <td>Miscellaneous</td>\n",
       "      <td>2018</td>\n",
       "      <td>Classic Wooden Train</td>\n",
       "      <td>NaN</td>\n",
       "      <td>NaN</td>\n",
       "      <td>NaN</td>\n",
       "      <td>NaN</td>\n",
       "      <td>NaN</td>\n",
       "      <td>40.77</td>\n",
       "      <td>NaN</td>\n",
       "      <td>NaN</td>\n",
       "      <td>NaN</td>\n",
       "      <td>False</td>\n",
       "      <td>uncategorized</td>\n",
       "    </tr>\n",
       "    <tr>\n",
       "      <th>5653</th>\n",
       "      <td>5006065-1</td>\n",
       "      <td>Promotional</td>\n",
       "      <td>Minifigure</td>\n",
       "      <td>2019</td>\n",
       "      <td>Brick Friday 2019 minifigure</td>\n",
       "      <td>1.00</td>\n",
       "      <td>NaN</td>\n",
       "      <td>NaN</td>\n",
       "      <td>NaN</td>\n",
       "      <td>NaN</td>\n",
       "      <td>48.50</td>\n",
       "      <td>32.37</td>\n",
       "      <td>NaN</td>\n",
       "      <td>NaN</td>\n",
       "      <td>False</td>\n",
       "      <td>uncategorized</td>\n",
       "    </tr>\n",
       "    <tr>\n",
       "      <th>5654</th>\n",
       "      <td>5006066-1</td>\n",
       "      <td>Promotional</td>\n",
       "      <td>LEGO brand stores</td>\n",
       "      <td>2019</td>\n",
       "      <td>Brick Friday 2019 brick</td>\n",
       "      <td>NaN</td>\n",
       "      <td>NaN</td>\n",
       "      <td>NaN</td>\n",
       "      <td>NaN</td>\n",
       "      <td>NaN</td>\n",
       "      <td>16.78</td>\n",
       "      <td>NaN</td>\n",
       "      <td>NaN</td>\n",
       "      <td>NaN</td>\n",
       "      <td>False</td>\n",
       "      <td>uncategorized</td>\n",
       "    </tr>\n",
       "    <tr>\n",
       "      <th>5656</th>\n",
       "      <td>6244853-1</td>\n",
       "      <td>Promotional</td>\n",
       "      <td>LEGO brand stores</td>\n",
       "      <td>2019</td>\n",
       "      <td>Lion Dance</td>\n",
       "      <td>NaN</td>\n",
       "      <td>NaN</td>\n",
       "      <td>NaN</td>\n",
       "      <td>NaN</td>\n",
       "      <td>NaN</td>\n",
       "      <td>59.04</td>\n",
       "      <td>NaN</td>\n",
       "      <td>NaN</td>\n",
       "      <td>NaN</td>\n",
       "      <td>False</td>\n",
       "      <td>uncategorized</td>\n",
       "    </tr>\n",
       "    <tr>\n",
       "      <th>5658</th>\n",
       "      <td>6307986-1</td>\n",
       "      <td>Promotional</td>\n",
       "      <td>Toys R Us</td>\n",
       "      <td>2019</td>\n",
       "      <td>Summer</td>\n",
       "      <td>NaN</td>\n",
       "      <td>NaN</td>\n",
       "      <td>NaN</td>\n",
       "      <td>NaN</td>\n",
       "      <td>NaN</td>\n",
       "      <td>41.42</td>\n",
       "      <td>14.24</td>\n",
       "      <td>NaN</td>\n",
       "      <td>NaN</td>\n",
       "      <td>False</td>\n",
       "      <td>uncategorized</td>\n",
       "    </tr>\n",
       "    <tr>\n",
       "      <th>5659</th>\n",
       "      <td>6307987-1</td>\n",
       "      <td>Promotional</td>\n",
       "      <td>Toys R Us</td>\n",
       "      <td>2019</td>\n",
       "      <td>Autumn</td>\n",
       "      <td>NaN</td>\n",
       "      <td>NaN</td>\n",
       "      <td>NaN</td>\n",
       "      <td>NaN</td>\n",
       "      <td>NaN</td>\n",
       "      <td>35.07</td>\n",
       "      <td>14.24</td>\n",
       "      <td>NaN</td>\n",
       "      <td>NaN</td>\n",
       "      <td>False</td>\n",
       "      <td>uncategorized</td>\n",
       "    </tr>\n",
       "    <tr>\n",
       "      <th>5660</th>\n",
       "      <td>6307988-1</td>\n",
       "      <td>Promotional</td>\n",
       "      <td>Toys R Us</td>\n",
       "      <td>2019</td>\n",
       "      <td>Winter</td>\n",
       "      <td>NaN</td>\n",
       "      <td>NaN</td>\n",
       "      <td>NaN</td>\n",
       "      <td>NaN</td>\n",
       "      <td>NaN</td>\n",
       "      <td>48.25</td>\n",
       "      <td>14.24</td>\n",
       "      <td>NaN</td>\n",
       "      <td>NaN</td>\n",
       "      <td>False</td>\n",
       "      <td>uncategorized</td>\n",
       "    </tr>\n",
       "    <tr>\n",
       "      <th>5661</th>\n",
       "      <td>6311307-1</td>\n",
       "      <td>Promotional</td>\n",
       "      <td>Toys R Us</td>\n",
       "      <td>2019</td>\n",
       "      <td>Reindeer ornament</td>\n",
       "      <td>NaN</td>\n",
       "      <td>NaN</td>\n",
       "      <td>NaN</td>\n",
       "      <td>NaN</td>\n",
       "      <td>NaN</td>\n",
       "      <td>5.97</td>\n",
       "      <td>NaN</td>\n",
       "      <td>NaN</td>\n",
       "      <td>NaN</td>\n",
       "      <td>False</td>\n",
       "      <td>uncategorized</td>\n",
       "    </tr>\n",
       "    <tr>\n",
       "      <th>5662</th>\n",
       "      <td>6311310-1</td>\n",
       "      <td>Promotional</td>\n",
       "      <td>Toys R Us</td>\n",
       "      <td>2019</td>\n",
       "      <td>Snowman ornament</td>\n",
       "      <td>NaN</td>\n",
       "      <td>NaN</td>\n",
       "      <td>NaN</td>\n",
       "      <td>NaN</td>\n",
       "      <td>NaN</td>\n",
       "      <td>5.67</td>\n",
       "      <td>NaN</td>\n",
       "      <td>NaN</td>\n",
       "      <td>NaN</td>\n",
       "      <td>False</td>\n",
       "      <td>uncategorized</td>\n",
       "    </tr>\n",
       "    <tr>\n",
       "      <th>5663</th>\n",
       "      <td>6311314-1</td>\n",
       "      <td>Promotional</td>\n",
       "      <td>Toys R Us</td>\n",
       "      <td>2019</td>\n",
       "      <td>Santa ornament</td>\n",
       "      <td>NaN</td>\n",
       "      <td>NaN</td>\n",
       "      <td>NaN</td>\n",
       "      <td>NaN</td>\n",
       "      <td>NaN</td>\n",
       "      <td>5.17</td>\n",
       "      <td>NaN</td>\n",
       "      <td>NaN</td>\n",
       "      <td>NaN</td>\n",
       "      <td>False</td>\n",
       "      <td>uncategorized</td>\n",
       "    </tr>\n",
       "    <tr>\n",
       "      <th>5664</th>\n",
       "      <td>6311315-1</td>\n",
       "      <td>Promotional</td>\n",
       "      <td>Toys R Us</td>\n",
       "      <td>2019</td>\n",
       "      <td>Christmas tree ornament</td>\n",
       "      <td>NaN</td>\n",
       "      <td>NaN</td>\n",
       "      <td>NaN</td>\n",
       "      <td>NaN</td>\n",
       "      <td>NaN</td>\n",
       "      <td>5.96</td>\n",
       "      <td>NaN</td>\n",
       "      <td>NaN</td>\n",
       "      <td>NaN</td>\n",
       "      <td>False</td>\n",
       "      <td>uncategorized</td>\n",
       "    </tr>\n",
       "    <tr>\n",
       "      <th>3846</th>\n",
       "      <td>6317941-1</td>\n",
       "      <td>Promotional</td>\n",
       "      <td>LEGO brand stores</td>\n",
       "      <td>2020</td>\n",
       "      <td>Drum</td>\n",
       "      <td>NaN</td>\n",
       "      <td>NaN</td>\n",
       "      <td>NaN</td>\n",
       "      <td>NaN</td>\n",
       "      <td>NaN</td>\n",
       "      <td>12.88</td>\n",
       "      <td>NaN</td>\n",
       "      <td>NaN</td>\n",
       "      <td>NaN</td>\n",
       "      <td>False</td>\n",
       "      <td>uncategorized</td>\n",
       "    </tr>\n",
       "    <tr>\n",
       "      <th>2098</th>\n",
       "      <td>6394851-1</td>\n",
       "      <td>Promotional</td>\n",
       "      <td>LEGO Brand Store Opening Set</td>\n",
       "      <td>2021</td>\n",
       "      <td>Disneytown, China brand store associate figure</td>\n",
       "      <td>NaN</td>\n",
       "      <td>NaN</td>\n",
       "      <td>NaN</td>\n",
       "      <td>NaN</td>\n",
       "      <td>NaN</td>\n",
       "      <td>55.90</td>\n",
       "      <td>NaN</td>\n",
       "      <td>NaN</td>\n",
       "      <td>NaN</td>\n",
       "      <td>False</td>\n",
       "      <td>uncategorized</td>\n",
       "    </tr>\n",
       "    <tr>\n",
       "      <th>2100</th>\n",
       "      <td>6394854-1</td>\n",
       "      <td>Promotional</td>\n",
       "      <td>LEGO Brand Store Opening Set</td>\n",
       "      <td>2021</td>\n",
       "      <td>Shenzhen brand store associate figure</td>\n",
       "      <td>NaN</td>\n",
       "      <td>NaN</td>\n",
       "      <td>NaN</td>\n",
       "      <td>NaN</td>\n",
       "      <td>NaN</td>\n",
       "      <td>59.23</td>\n",
       "      <td>NaN</td>\n",
       "      <td>NaN</td>\n",
       "      <td>NaN</td>\n",
       "      <td>False</td>\n",
       "      <td>uncategorized</td>\n",
       "    </tr>\n",
       "    <tr>\n",
       "      <th>2102</th>\n",
       "      <td>6399471-1</td>\n",
       "      <td>Promotional</td>\n",
       "      <td>LEGO Brand Store Opening Set</td>\n",
       "      <td>2021</td>\n",
       "      <td>Wroclaw brand store associate figure</td>\n",
       "      <td>NaN</td>\n",
       "      <td>NaN</td>\n",
       "      <td>NaN</td>\n",
       "      <td>NaN</td>\n",
       "      <td>NaN</td>\n",
       "      <td>111.40</td>\n",
       "      <td>NaN</td>\n",
       "      <td>NaN</td>\n",
       "      <td>NaN</td>\n",
       "      <td>False</td>\n",
       "      <td>uncategorized</td>\n",
       "    </tr>\n",
       "  </tbody>\n",
       "</table>\n",
       "</div>"
      ],
      "text/plain": [
       "          number        theme                      subtheme  year  \\\n",
       "14860  4212850-1  Promotional             LEGO brand stores  2004   \n",
       "4841   6258620-1  Promotional                 Miscellaneous  2018   \n",
       "4842   6258622-1  Promotional                 Miscellaneous  2018   \n",
       "4843   6258623-1  Promotional                 Miscellaneous  2018   \n",
       "5653   5006065-1  Promotional                    Minifigure  2019   \n",
       "5654   5006066-1  Promotional             LEGO brand stores  2019   \n",
       "5656   6244853-1  Promotional             LEGO brand stores  2019   \n",
       "5658   6307986-1  Promotional                     Toys R Us  2019   \n",
       "5659   6307987-1  Promotional                     Toys R Us  2019   \n",
       "5660   6307988-1  Promotional                     Toys R Us  2019   \n",
       "5661   6311307-1  Promotional                     Toys R Us  2019   \n",
       "5662   6311310-1  Promotional                     Toys R Us  2019   \n",
       "5663   6311314-1  Promotional                     Toys R Us  2019   \n",
       "5664   6311315-1  Promotional                     Toys R Us  2019   \n",
       "3846   6317941-1  Promotional             LEGO brand stores  2020   \n",
       "2098   6394851-1  Promotional  LEGO Brand Store Opening Set  2021   \n",
       "2100   6394854-1  Promotional  LEGO Brand Store Opening Set  2021   \n",
       "2102   6399471-1  Promotional  LEGO Brand Store Opening Set  2021   \n",
       "\n",
       "                                             set_name  minifigs  pieces  \\\n",
       "14860                               Easter Egg Orange       NaN     NaN   \n",
       "4841                              Classic Wooden Duck       NaN     NaN   \n",
       "4842                               Classic Wooden Bus       NaN     NaN   \n",
       "4843                             Classic Wooden Train       NaN     NaN   \n",
       "5653                     Brick Friday 2019 minifigure      1.00     NaN   \n",
       "5654                          Brick Friday 2019 brick       NaN     NaN   \n",
       "5656                                       Lion Dance       NaN     NaN   \n",
       "5658                                           Summer       NaN     NaN   \n",
       "5659                                           Autumn       NaN     NaN   \n",
       "5660                                           Winter       NaN     NaN   \n",
       "5661                                Reindeer ornament       NaN     NaN   \n",
       "5662                                 Snowman ornament       NaN     NaN   \n",
       "5663                                   Santa ornament       NaN     NaN   \n",
       "5664                          Christmas tree ornament       NaN     NaN   \n",
       "3846                                             Drum       NaN     NaN   \n",
       "2098   Disneytown, China brand store associate figure       NaN     NaN   \n",
       "2100            Shenzhen brand store associate figure       NaN     NaN   \n",
       "2102             Wroclaw brand store associate figure       NaN     NaN   \n",
       "\n",
       "       rrp_gbp  price  rrp_eur  value_new  value_used launch_date exit_date  \\\n",
       "14860      NaN    NaN      NaN      49.00         NaN         NaN       NaN   \n",
       "4841       NaN    NaN      NaN      47.70         NaN         NaN       NaN   \n",
       "4842       NaN    NaN      NaN      52.51         NaN         NaN       NaN   \n",
       "4843       NaN    NaN      NaN      40.77         NaN         NaN       NaN   \n",
       "5653       NaN    NaN      NaN      48.50       32.37         NaN       NaN   \n",
       "5654       NaN    NaN      NaN      16.78         NaN         NaN       NaN   \n",
       "5656       NaN    NaN      NaN      59.04         NaN         NaN       NaN   \n",
       "5658       NaN    NaN      NaN      41.42       14.24         NaN       NaN   \n",
       "5659       NaN    NaN      NaN      35.07       14.24         NaN       NaN   \n",
       "5660       NaN    NaN      NaN      48.25       14.24         NaN       NaN   \n",
       "5661       NaN    NaN      NaN       5.97         NaN         NaN       NaN   \n",
       "5662       NaN    NaN      NaN       5.67         NaN         NaN       NaN   \n",
       "5663       NaN    NaN      NaN       5.17         NaN         NaN       NaN   \n",
       "5664       NaN    NaN      NaN       5.96         NaN         NaN       NaN   \n",
       "3846       NaN    NaN      NaN      12.88         NaN         NaN       NaN   \n",
       "2098       NaN    NaN      NaN      55.90         NaN         NaN       NaN   \n",
       "2100       NaN    NaN      NaN      59.23         NaN         NaN       NaN   \n",
       "2102       NaN    NaN      NaN     111.40         NaN         NaN       NaN   \n",
       "\n",
       "       numeric_data_nan       category  \n",
       "14860             False  uncategorized  \n",
       "4841              False  uncategorized  \n",
       "4842              False  uncategorized  \n",
       "4843              False  uncategorized  \n",
       "5653              False  uncategorized  \n",
       "5654              False  uncategorized  \n",
       "5656              False  uncategorized  \n",
       "5658              False  uncategorized  \n",
       "5659              False  uncategorized  \n",
       "5660              False  uncategorized  \n",
       "5661              False  uncategorized  \n",
       "5662              False  uncategorized  \n",
       "5663              False  uncategorized  \n",
       "5664              False  uncategorized  \n",
       "3846              False  uncategorized  \n",
       "2098              False  uncategorized  \n",
       "2100              False  uncategorized  \n",
       "2102              False  uncategorized  "
      ]
     },
     "metadata": {},
     "output_type": "display_data"
    },
    {
     "name": "stdout",
     "output_type": "stream",
     "text": [
      "Theme: Books\n",
      "Number of rows: 2\n"
     ]
    },
    {
     "data": {
      "text/html": [
       "<div>\n",
       "<style scoped>\n",
       "    .dataframe tbody tr th:only-of-type {\n",
       "        vertical-align: middle;\n",
       "    }\n",
       "\n",
       "    .dataframe tbody tr th {\n",
       "        vertical-align: top;\n",
       "    }\n",
       "\n",
       "    .dataframe thead th {\n",
       "        text-align: right;\n",
       "    }\n",
       "</style>\n",
       "<table border=\"1\" class=\"dataframe\">\n",
       "  <thead>\n",
       "    <tr style=\"text-align: right;\">\n",
       "      <th></th>\n",
       "      <th>number</th>\n",
       "      <th>theme</th>\n",
       "      <th>subtheme</th>\n",
       "      <th>year</th>\n",
       "      <th>set_name</th>\n",
       "      <th>minifigs</th>\n",
       "      <th>pieces</th>\n",
       "      <th>rrp_gbp</th>\n",
       "      <th>price</th>\n",
       "      <th>rrp_eur</th>\n",
       "      <th>value_new</th>\n",
       "      <th>value_used</th>\n",
       "      <th>launch_date</th>\n",
       "      <th>exit_date</th>\n",
       "      <th>numeric_data_nan</th>\n",
       "      <th>category</th>\n",
       "    </tr>\n",
       "  </thead>\n",
       "  <tbody>\n",
       "    <tr>\n",
       "      <th>5988</th>\n",
       "      <td>4006-1</td>\n",
       "      <td>Books</td>\n",
       "      <td>LEGO</td>\n",
       "      <td>2000</td>\n",
       "      <td>Brick Tricks: Cool Cars</td>\n",
       "      <td>NaN</td>\n",
       "      <td>NaN</td>\n",
       "      <td>NaN</td>\n",
       "      <td>8.00</td>\n",
       "      <td>NaN</td>\n",
       "      <td>NaN</td>\n",
       "      <td>NaN</td>\n",
       "      <td>NaN</td>\n",
       "      <td>NaN</td>\n",
       "      <td>False</td>\n",
       "      <td>uncategorized</td>\n",
       "    </tr>\n",
       "    <tr>\n",
       "      <th>5989</th>\n",
       "      <td>4007-1</td>\n",
       "      <td>Books</td>\n",
       "      <td>LEGO</td>\n",
       "      <td>2000</td>\n",
       "      <td>Brick Tricks: Fantastic Fliers</td>\n",
       "      <td>NaN</td>\n",
       "      <td>NaN</td>\n",
       "      <td>NaN</td>\n",
       "      <td>8.00</td>\n",
       "      <td>NaN</td>\n",
       "      <td>NaN</td>\n",
       "      <td>NaN</td>\n",
       "      <td>NaN</td>\n",
       "      <td>NaN</td>\n",
       "      <td>False</td>\n",
       "      <td>uncategorized</td>\n",
       "    </tr>\n",
       "  </tbody>\n",
       "</table>\n",
       "</div>"
      ],
      "text/plain": [
       "      number  theme subtheme  year                        set_name  minifigs  \\\n",
       "5988  4006-1  Books     LEGO  2000         Brick Tricks: Cool Cars       NaN   \n",
       "5989  4007-1  Books     LEGO  2000  Brick Tricks: Fantastic Fliers       NaN   \n",
       "\n",
       "      pieces  rrp_gbp  price  rrp_eur  value_new  value_used launch_date  \\\n",
       "5988     NaN      NaN   8.00      NaN        NaN         NaN         NaN   \n",
       "5989     NaN      NaN   8.00      NaN        NaN         NaN         NaN   \n",
       "\n",
       "     exit_date  numeric_data_nan       category  \n",
       "5988       NaN             False  uncategorized  \n",
       "5989       NaN             False  uncategorized  "
      ]
     },
     "metadata": {},
     "output_type": "display_data"
    },
    {
     "name": "stdout",
     "output_type": "stream",
     "text": [
      "Theme: Miscellaneous\n",
      "Number of rows: 5\n"
     ]
    },
    {
     "data": {
      "text/html": [
       "<div>\n",
       "<style scoped>\n",
       "    .dataframe tbody tr th:only-of-type {\n",
       "        vertical-align: middle;\n",
       "    }\n",
       "\n",
       "    .dataframe tbody tr th {\n",
       "        vertical-align: top;\n",
       "    }\n",
       "\n",
       "    .dataframe thead th {\n",
       "        text-align: right;\n",
       "    }\n",
       "</style>\n",
       "<table border=\"1\" class=\"dataframe\">\n",
       "  <thead>\n",
       "    <tr style=\"text-align: right;\">\n",
       "      <th></th>\n",
       "      <th>number</th>\n",
       "      <th>theme</th>\n",
       "      <th>subtheme</th>\n",
       "      <th>year</th>\n",
       "      <th>set_name</th>\n",
       "      <th>minifigs</th>\n",
       "      <th>pieces</th>\n",
       "      <th>rrp_gbp</th>\n",
       "      <th>price</th>\n",
       "      <th>rrp_eur</th>\n",
       "      <th>value_new</th>\n",
       "      <th>value_used</th>\n",
       "      <th>launch_date</th>\n",
       "      <th>exit_date</th>\n",
       "      <th>numeric_data_nan</th>\n",
       "      <th>category</th>\n",
       "    </tr>\n",
       "  </thead>\n",
       "  <tbody>\n",
       "    <tr>\n",
       "      <th>8769</th>\n",
       "      <td>4000024-1</td>\n",
       "      <td>Miscellaneous</td>\n",
       "      <td>LEGO Inside Tour Exclusive</td>\n",
       "      <td>2017</td>\n",
       "      <td>LEGO House Tree of Creativity</td>\n",
       "      <td>NaN</td>\n",
       "      <td>NaN</td>\n",
       "      <td>NaN</td>\n",
       "      <td>NaN</td>\n",
       "      <td>NaN</td>\n",
       "      <td>1,960.86</td>\n",
       "      <td>NaN</td>\n",
       "      <td>NaN</td>\n",
       "      <td>NaN</td>\n",
       "      <td>False</td>\n",
       "      <td>uncategorized</td>\n",
       "    </tr>\n",
       "    <tr>\n",
       "      <th>4743</th>\n",
       "      <td>4000025-1</td>\n",
       "      <td>Miscellaneous</td>\n",
       "      <td>LEGO Inside Tour Exclusive</td>\n",
       "      <td>2018</td>\n",
       "      <td>LEGO Ferguson Tractor</td>\n",
       "      <td>NaN</td>\n",
       "      <td>NaN</td>\n",
       "      <td>NaN</td>\n",
       "      <td>NaN</td>\n",
       "      <td>NaN</td>\n",
       "      <td>2,300.00</td>\n",
       "      <td>NaN</td>\n",
       "      <td>NaN</td>\n",
       "      <td>NaN</td>\n",
       "      <td>False</td>\n",
       "      <td>uncategorized</td>\n",
       "    </tr>\n",
       "    <tr>\n",
       "      <th>5559</th>\n",
       "      <td>4000034-1</td>\n",
       "      <td>Miscellaneous</td>\n",
       "      <td>LEGO Inside Tour Exclusive</td>\n",
       "      <td>2019</td>\n",
       "      <td>LEGO System House</td>\n",
       "      <td>NaN</td>\n",
       "      <td>NaN</td>\n",
       "      <td>NaN</td>\n",
       "      <td>NaN</td>\n",
       "      <td>NaN</td>\n",
       "      <td>3,432.84</td>\n",
       "      <td>NaN</td>\n",
       "      <td>NaN</td>\n",
       "      <td>NaN</td>\n",
       "      <td>False</td>\n",
       "      <td>uncategorized</td>\n",
       "    </tr>\n",
       "    <tr>\n",
       "      <th>3105</th>\n",
       "      <td>11929-1</td>\n",
       "      <td>Miscellaneous</td>\n",
       "      <td>NaN</td>\n",
       "      <td>2020</td>\n",
       "      <td>Parts for The LEGO Games Book</td>\n",
       "      <td>NaN</td>\n",
       "      <td>0.00</td>\n",
       "      <td>NaN</td>\n",
       "      <td>NaN</td>\n",
       "      <td>NaN</td>\n",
       "      <td>NaN</td>\n",
       "      <td>NaN</td>\n",
       "      <td>NaN</td>\n",
       "      <td>NaN</td>\n",
       "      <td>False</td>\n",
       "      <td>uncategorized</td>\n",
       "    </tr>\n",
       "    <tr>\n",
       "      <th>3106</th>\n",
       "      <td>11930-1</td>\n",
       "      <td>Miscellaneous</td>\n",
       "      <td>NaN</td>\n",
       "      <td>2020</td>\n",
       "      <td>Parts for Halloween Ideas</td>\n",
       "      <td>NaN</td>\n",
       "      <td>0.00</td>\n",
       "      <td>NaN</td>\n",
       "      <td>NaN</td>\n",
       "      <td>NaN</td>\n",
       "      <td>NaN</td>\n",
       "      <td>NaN</td>\n",
       "      <td>NaN</td>\n",
       "      <td>NaN</td>\n",
       "      <td>False</td>\n",
       "      <td>uncategorized</td>\n",
       "    </tr>\n",
       "  </tbody>\n",
       "</table>\n",
       "</div>"
      ],
      "text/plain": [
       "         number          theme                    subtheme  year  \\\n",
       "8769  4000024-1  Miscellaneous  LEGO Inside Tour Exclusive  2017   \n",
       "4743  4000025-1  Miscellaneous  LEGO Inside Tour Exclusive  2018   \n",
       "5559  4000034-1  Miscellaneous  LEGO Inside Tour Exclusive  2019   \n",
       "3105    11929-1  Miscellaneous                         NaN  2020   \n",
       "3106    11930-1  Miscellaneous                         NaN  2020   \n",
       "\n",
       "                           set_name  minifigs  pieces  rrp_gbp  price  \\\n",
       "8769  LEGO House Tree of Creativity       NaN     NaN      NaN    NaN   \n",
       "4743          LEGO Ferguson Tractor       NaN     NaN      NaN    NaN   \n",
       "5559              LEGO System House       NaN     NaN      NaN    NaN   \n",
       "3105  Parts for The LEGO Games Book       NaN    0.00      NaN    NaN   \n",
       "3106      Parts for Halloween Ideas       NaN    0.00      NaN    NaN   \n",
       "\n",
       "      rrp_eur  value_new  value_used launch_date exit_date  numeric_data_nan  \\\n",
       "8769      NaN   1,960.86         NaN         NaN       NaN             False   \n",
       "4743      NaN   2,300.00         NaN         NaN       NaN             False   \n",
       "5559      NaN   3,432.84         NaN         NaN       NaN             False   \n",
       "3105      NaN        NaN         NaN         NaN       NaN             False   \n",
       "3106      NaN        NaN         NaN         NaN       NaN             False   \n",
       "\n",
       "           category  \n",
       "8769  uncategorized  \n",
       "4743  uncategorized  \n",
       "5559  uncategorized  \n",
       "3105  uncategorized  \n",
       "3106  uncategorized  "
      ]
     },
     "metadata": {},
     "output_type": "display_data"
    },
    {
     "name": "stdout",
     "output_type": "stream",
     "text": [
      "Theme: Vidiyo\n",
      "Number of rows: 4\n"
     ]
    },
    {
     "data": {
      "text/html": [
       "<div>\n",
       "<style scoped>\n",
       "    .dataframe tbody tr th:only-of-type {\n",
       "        vertical-align: middle;\n",
       "    }\n",
       "\n",
       "    .dataframe tbody tr th {\n",
       "        vertical-align: top;\n",
       "    }\n",
       "\n",
       "    .dataframe thead th {\n",
       "        text-align: right;\n",
       "    }\n",
       "</style>\n",
       "<table border=\"1\" class=\"dataframe\">\n",
       "  <thead>\n",
       "    <tr style=\"text-align: right;\">\n",
       "      <th></th>\n",
       "      <th>number</th>\n",
       "      <th>theme</th>\n",
       "      <th>subtheme</th>\n",
       "      <th>year</th>\n",
       "      <th>set_name</th>\n",
       "      <th>minifigs</th>\n",
       "      <th>pieces</th>\n",
       "      <th>rrp_gbp</th>\n",
       "      <th>price</th>\n",
       "      <th>rrp_eur</th>\n",
       "      <th>value_new</th>\n",
       "      <th>value_used</th>\n",
       "      <th>launch_date</th>\n",
       "      <th>exit_date</th>\n",
       "      <th>numeric_data_nan</th>\n",
       "      <th>category</th>\n",
       "    </tr>\n",
       "  </thead>\n",
       "  <tbody>\n",
       "    <tr>\n",
       "      <th>1475</th>\n",
       "      <td>43101-0</td>\n",
       "      <td>Vidiyo</td>\n",
       "      <td>Bandmates Series 1</td>\n",
       "      <td>2021</td>\n",
       "      <td>Bandmates Series 1 {Random box}</td>\n",
       "      <td>NaN</td>\n",
       "      <td>NaN</td>\n",
       "      <td>3.99</td>\n",
       "      <td>4.99</td>\n",
       "      <td>4.99</td>\n",
       "      <td>NaN</td>\n",
       "      <td>NaN</td>\n",
       "      <td>01/03/2021</td>\n",
       "      <td>31/12/2022</td>\n",
       "      <td>False</td>\n",
       "      <td>uncategorized</td>\n",
       "    </tr>\n",
       "    <tr>\n",
       "      <th>1489</th>\n",
       "      <td>43101-14</td>\n",
       "      <td>Vidiyo</td>\n",
       "      <td>Bandmates Series 1</td>\n",
       "      <td>2021</td>\n",
       "      <td>Bandmates Series 1 - Sealed Box</td>\n",
       "      <td>NaN</td>\n",
       "      <td>NaN</td>\n",
       "      <td>3.99</td>\n",
       "      <td>4.99</td>\n",
       "      <td>4.99</td>\n",
       "      <td>NaN</td>\n",
       "      <td>NaN</td>\n",
       "      <td>01/03/2021</td>\n",
       "      <td>31/12/2022</td>\n",
       "      <td>False</td>\n",
       "      <td>uncategorized</td>\n",
       "    </tr>\n",
       "    <tr>\n",
       "      <th>1496</th>\n",
       "      <td>43108-0</td>\n",
       "      <td>Vidiyo</td>\n",
       "      <td>Bandmates Series 2</td>\n",
       "      <td>2021</td>\n",
       "      <td>Bandmates Series 2 {Random box}</td>\n",
       "      <td>NaN</td>\n",
       "      <td>NaN</td>\n",
       "      <td>3.99</td>\n",
       "      <td>4.99</td>\n",
       "      <td>4.99</td>\n",
       "      <td>NaN</td>\n",
       "      <td>NaN</td>\n",
       "      <td>01/10/2021</td>\n",
       "      <td>31/12/2022</td>\n",
       "      <td>False</td>\n",
       "      <td>uncategorized</td>\n",
       "    </tr>\n",
       "    <tr>\n",
       "      <th>1510</th>\n",
       "      <td>43108-14</td>\n",
       "      <td>Vidiyo</td>\n",
       "      <td>Bandmates Series 2</td>\n",
       "      <td>2021</td>\n",
       "      <td>Bandmates Series 2 - Sealed Box</td>\n",
       "      <td>NaN</td>\n",
       "      <td>NaN</td>\n",
       "      <td>4.49</td>\n",
       "      <td>4.99</td>\n",
       "      <td>4.99</td>\n",
       "      <td>NaN</td>\n",
       "      <td>NaN</td>\n",
       "      <td>01/10/2021</td>\n",
       "      <td>31/12/2022</td>\n",
       "      <td>False</td>\n",
       "      <td>uncategorized</td>\n",
       "    </tr>\n",
       "  </tbody>\n",
       "</table>\n",
       "</div>"
      ],
      "text/plain": [
       "        number   theme            subtheme  year  \\\n",
       "1475   43101-0  Vidiyo  Bandmates Series 1  2021   \n",
       "1489  43101-14  Vidiyo  Bandmates Series 1  2021   \n",
       "1496   43108-0  Vidiyo  Bandmates Series 2  2021   \n",
       "1510  43108-14  Vidiyo  Bandmates Series 2  2021   \n",
       "\n",
       "                             set_name  minifigs  pieces  rrp_gbp  price  \\\n",
       "1475  Bandmates Series 1 {Random box}       NaN     NaN     3.99   4.99   \n",
       "1489  Bandmates Series 1 - Sealed Box       NaN     NaN     3.99   4.99   \n",
       "1496  Bandmates Series 2 {Random box}       NaN     NaN     3.99   4.99   \n",
       "1510  Bandmates Series 2 - Sealed Box       NaN     NaN     4.49   4.99   \n",
       "\n",
       "      rrp_eur  value_new  value_used launch_date   exit_date  \\\n",
       "1475     4.99        NaN         NaN  01/03/2021  31/12/2022   \n",
       "1489     4.99        NaN         NaN  01/03/2021  31/12/2022   \n",
       "1496     4.99        NaN         NaN  01/10/2021  31/12/2022   \n",
       "1510     4.99        NaN         NaN  01/10/2021  31/12/2022   \n",
       "\n",
       "      numeric_data_nan       category  \n",
       "1475             False  uncategorized  \n",
       "1489             False  uncategorized  \n",
       "1496             False  uncategorized  \n",
       "1510             False  uncategorized  "
      ]
     },
     "metadata": {},
     "output_type": "display_data"
    },
    {
     "name": "stdout",
     "output_type": "stream",
     "text": [
      "Theme: Unikitty\n",
      "Number of rows: 1\n"
     ]
    },
    {
     "data": {
      "text/html": [
       "<div>\n",
       "<style scoped>\n",
       "    .dataframe tbody tr th:only-of-type {\n",
       "        vertical-align: middle;\n",
       "    }\n",
       "\n",
       "    .dataframe tbody tr th {\n",
       "        vertical-align: top;\n",
       "    }\n",
       "\n",
       "    .dataframe thead th {\n",
       "        text-align: right;\n",
       "    }\n",
       "</style>\n",
       "<table border=\"1\" class=\"dataframe\">\n",
       "  <thead>\n",
       "    <tr style=\"text-align: right;\">\n",
       "      <th></th>\n",
       "      <th>number</th>\n",
       "      <th>theme</th>\n",
       "      <th>subtheme</th>\n",
       "      <th>year</th>\n",
       "      <th>set_name</th>\n",
       "      <th>minifigs</th>\n",
       "      <th>pieces</th>\n",
       "      <th>rrp_gbp</th>\n",
       "      <th>price</th>\n",
       "      <th>rrp_eur</th>\n",
       "      <th>value_new</th>\n",
       "      <th>value_used</th>\n",
       "      <th>launch_date</th>\n",
       "      <th>exit_date</th>\n",
       "      <th>numeric_data_nan</th>\n",
       "      <th>category</th>\n",
       "    </tr>\n",
       "  </thead>\n",
       "  <tbody>\n",
       "    <tr>\n",
       "      <th>4385</th>\n",
       "      <td>41775-14</td>\n",
       "      <td>Unikitty</td>\n",
       "      <td>Blind Bags Series 1</td>\n",
       "      <td>2018</td>\n",
       "      <td>Unikitty! - Blind Bags Series 1 - Sealed Box</td>\n",
       "      <td>NaN</td>\n",
       "      <td>NaN</td>\n",
       "      <td>NaN</td>\n",
       "      <td>NaN</td>\n",
       "      <td>NaN</td>\n",
       "      <td>NaN</td>\n",
       "      <td>NaN</td>\n",
       "      <td>01/06/2018</td>\n",
       "      <td>31/12/2018</td>\n",
       "      <td>False</td>\n",
       "      <td>uncategorized</td>\n",
       "    </tr>\n",
       "  </tbody>\n",
       "</table>\n",
       "</div>"
      ],
      "text/plain": [
       "        number     theme             subtheme  year  \\\n",
       "4385  41775-14  Unikitty  Blind Bags Series 1  2018   \n",
       "\n",
       "                                          set_name  minifigs  pieces  rrp_gbp  \\\n",
       "4385  Unikitty! - Blind Bags Series 1 - Sealed Box       NaN     NaN      NaN   \n",
       "\n",
       "      price  rrp_eur  value_new  value_used launch_date   exit_date  \\\n",
       "4385    NaN      NaN        NaN         NaN  01/06/2018  31/12/2018   \n",
       "\n",
       "      numeric_data_nan       category  \n",
       "4385             False  uncategorized  "
      ]
     },
     "metadata": {},
     "output_type": "display_data"
    },
    {
     "name": "stdout",
     "output_type": "stream",
     "text": [
      "Theme: Super Mario\n",
      "Number of rows: 54\n"
     ]
    },
    {
     "data": {
      "text/html": [
       "<div>\n",
       "<style scoped>\n",
       "    .dataframe tbody tr th:only-of-type {\n",
       "        vertical-align: middle;\n",
       "    }\n",
       "\n",
       "    .dataframe tbody tr th {\n",
       "        vertical-align: top;\n",
       "    }\n",
       "\n",
       "    .dataframe thead th {\n",
       "        text-align: right;\n",
       "    }\n",
       "</style>\n",
       "<table border=\"1\" class=\"dataframe\">\n",
       "  <thead>\n",
       "    <tr style=\"text-align: right;\">\n",
       "      <th></th>\n",
       "      <th>number</th>\n",
       "      <th>theme</th>\n",
       "      <th>subtheme</th>\n",
       "      <th>year</th>\n",
       "      <th>set_name</th>\n",
       "      <th>minifigs</th>\n",
       "      <th>pieces</th>\n",
       "      <th>rrp_gbp</th>\n",
       "      <th>price</th>\n",
       "      <th>rrp_eur</th>\n",
       "      <th>value_new</th>\n",
       "      <th>value_used</th>\n",
       "      <th>launch_date</th>\n",
       "      <th>exit_date</th>\n",
       "      <th>numeric_data_nan</th>\n",
       "      <th>category</th>\n",
       "    </tr>\n",
       "  </thead>\n",
       "  <tbody>\n",
       "    <tr>\n",
       "      <th>3468</th>\n",
       "      <td>71361-0</td>\n",
       "      <td>Super Mario</td>\n",
       "      <td>Character Pack - Series 1</td>\n",
       "      <td>2020</td>\n",
       "      <td>Character Pack - Series 1 {Random bag}</td>\n",
       "      <td>NaN</td>\n",
       "      <td>NaN</td>\n",
       "      <td>NaN</td>\n",
       "      <td>4.99</td>\n",
       "      <td>NaN</td>\n",
       "      <td>NaN</td>\n",
       "      <td>NaN</td>\n",
       "      <td>01/08/2020</td>\n",
       "      <td>31/12/2020</td>\n",
       "      <td>False</td>\n",
       "      <td>uncategorized</td>\n",
       "    </tr>\n",
       "    <tr>\n",
       "      <th>3469</th>\n",
       "      <td>71361-1</td>\n",
       "      <td>Super Mario</td>\n",
       "      <td>Character Pack - Series 1</td>\n",
       "      <td>2020</td>\n",
       "      <td>Paragoomba</td>\n",
       "      <td>1.00</td>\n",
       "      <td>NaN</td>\n",
       "      <td>NaN</td>\n",
       "      <td>4.99</td>\n",
       "      <td>NaN</td>\n",
       "      <td>12.92</td>\n",
       "      <td>5.39</td>\n",
       "      <td>01/08/2020</td>\n",
       "      <td>31/12/2020</td>\n",
       "      <td>False</td>\n",
       "      <td>uncategorized</td>\n",
       "    </tr>\n",
       "    <tr>\n",
       "      <th>3470</th>\n",
       "      <td>71361-2</td>\n",
       "      <td>Super Mario</td>\n",
       "      <td>Character Pack - Series 1</td>\n",
       "      <td>2020</td>\n",
       "      <td>Fuzzy</td>\n",
       "      <td>1.00</td>\n",
       "      <td>NaN</td>\n",
       "      <td>NaN</td>\n",
       "      <td>4.99</td>\n",
       "      <td>NaN</td>\n",
       "      <td>6.00</td>\n",
       "      <td>4.67</td>\n",
       "      <td>01/08/2020</td>\n",
       "      <td>31/12/2020</td>\n",
       "      <td>False</td>\n",
       "      <td>uncategorized</td>\n",
       "    </tr>\n",
       "    <tr>\n",
       "      <th>3471</th>\n",
       "      <td>71361-3</td>\n",
       "      <td>Super Mario</td>\n",
       "      <td>Character Pack - Series 1</td>\n",
       "      <td>2020</td>\n",
       "      <td>Spiny</td>\n",
       "      <td>1.00</td>\n",
       "      <td>NaN</td>\n",
       "      <td>NaN</td>\n",
       "      <td>4.99</td>\n",
       "      <td>NaN</td>\n",
       "      <td>7.95</td>\n",
       "      <td>4.71</td>\n",
       "      <td>01/08/2020</td>\n",
       "      <td>31/12/2020</td>\n",
       "      <td>False</td>\n",
       "      <td>uncategorized</td>\n",
       "    </tr>\n",
       "    <tr>\n",
       "      <th>3472</th>\n",
       "      <td>71361-4</td>\n",
       "      <td>Super Mario</td>\n",
       "      <td>Character Pack - Series 1</td>\n",
       "      <td>2020</td>\n",
       "      <td>Buzzy Beetle</td>\n",
       "      <td>1.00</td>\n",
       "      <td>NaN</td>\n",
       "      <td>NaN</td>\n",
       "      <td>4.99</td>\n",
       "      <td>NaN</td>\n",
       "      <td>6.80</td>\n",
       "      <td>4.13</td>\n",
       "      <td>01/08/2020</td>\n",
       "      <td>31/12/2020</td>\n",
       "      <td>False</td>\n",
       "      <td>uncategorized</td>\n",
       "    </tr>\n",
       "    <tr>\n",
       "      <th>3473</th>\n",
       "      <td>71361-5</td>\n",
       "      <td>Super Mario</td>\n",
       "      <td>Character Pack - Series 1</td>\n",
       "      <td>2020</td>\n",
       "      <td>Bullet Bill</td>\n",
       "      <td>1.00</td>\n",
       "      <td>NaN</td>\n",
       "      <td>NaN</td>\n",
       "      <td>4.99</td>\n",
       "      <td>NaN</td>\n",
       "      <td>25.65</td>\n",
       "      <td>16.37</td>\n",
       "      <td>01/08/2020</td>\n",
       "      <td>31/12/2020</td>\n",
       "      <td>False</td>\n",
       "      <td>uncategorized</td>\n",
       "    </tr>\n",
       "    <tr>\n",
       "      <th>3474</th>\n",
       "      <td>71361-6</td>\n",
       "      <td>Super Mario</td>\n",
       "      <td>Character Pack - Series 1</td>\n",
       "      <td>2020</td>\n",
       "      <td>Bob-omb</td>\n",
       "      <td>1.00</td>\n",
       "      <td>NaN</td>\n",
       "      <td>NaN</td>\n",
       "      <td>4.99</td>\n",
       "      <td>NaN</td>\n",
       "      <td>9.08</td>\n",
       "      <td>5.45</td>\n",
       "      <td>01/08/2020</td>\n",
       "      <td>31/12/2020</td>\n",
       "      <td>False</td>\n",
       "      <td>uncategorized</td>\n",
       "    </tr>\n",
       "    <tr>\n",
       "      <th>3475</th>\n",
       "      <td>71361-7</td>\n",
       "      <td>Super Mario</td>\n",
       "      <td>Character Pack - Series 1</td>\n",
       "      <td>2020</td>\n",
       "      <td>Eep Cheep</td>\n",
       "      <td>1.00</td>\n",
       "      <td>NaN</td>\n",
       "      <td>NaN</td>\n",
       "      <td>4.99</td>\n",
       "      <td>NaN</td>\n",
       "      <td>7.99</td>\n",
       "      <td>4.35</td>\n",
       "      <td>01/08/2020</td>\n",
       "      <td>31/12/2020</td>\n",
       "      <td>False</td>\n",
       "      <td>uncategorized</td>\n",
       "    </tr>\n",
       "    <tr>\n",
       "      <th>3476</th>\n",
       "      <td>71361-8</td>\n",
       "      <td>Super Mario</td>\n",
       "      <td>Character Pack - Series 1</td>\n",
       "      <td>2020</td>\n",
       "      <td>Blooper</td>\n",
       "      <td>1.00</td>\n",
       "      <td>NaN</td>\n",
       "      <td>NaN</td>\n",
       "      <td>4.99</td>\n",
       "      <td>NaN</td>\n",
       "      <td>7.27</td>\n",
       "      <td>6.14</td>\n",
       "      <td>01/08/2020</td>\n",
       "      <td>31/12/2020</td>\n",
       "      <td>False</td>\n",
       "      <td>uncategorized</td>\n",
       "    </tr>\n",
       "    <tr>\n",
       "      <th>3477</th>\n",
       "      <td>71361-9</td>\n",
       "      <td>Super Mario</td>\n",
       "      <td>Character Pack - Series 1</td>\n",
       "      <td>2020</td>\n",
       "      <td>Urchin</td>\n",
       "      <td>1.00</td>\n",
       "      <td>NaN</td>\n",
       "      <td>NaN</td>\n",
       "      <td>4.99</td>\n",
       "      <td>NaN</td>\n",
       "      <td>8.45</td>\n",
       "      <td>4.28</td>\n",
       "      <td>01/08/2020</td>\n",
       "      <td>31/12/2020</td>\n",
       "      <td>False</td>\n",
       "      <td>uncategorized</td>\n",
       "    </tr>\n",
       "    <tr>\n",
       "      <th>3478</th>\n",
       "      <td>71361-10</td>\n",
       "      <td>Super Mario</td>\n",
       "      <td>Character Pack - Series 1</td>\n",
       "      <td>2020</td>\n",
       "      <td>Peepa</td>\n",
       "      <td>1.00</td>\n",
       "      <td>NaN</td>\n",
       "      <td>3.49</td>\n",
       "      <td>4.99</td>\n",
       "      <td>3.89</td>\n",
       "      <td>8.72</td>\n",
       "      <td>6.14</td>\n",
       "      <td>01/08/2020</td>\n",
       "      <td>31/12/2020</td>\n",
       "      <td>False</td>\n",
       "      <td>uncategorized</td>\n",
       "    </tr>\n",
       "    <tr>\n",
       "      <th>3479</th>\n",
       "      <td>71361-11</td>\n",
       "      <td>Super Mario</td>\n",
       "      <td>Character Pack - Series 1</td>\n",
       "      <td>2020</td>\n",
       "      <td>Character Pack - Series 1 - Complete</td>\n",
       "      <td>10.00</td>\n",
       "      <td>0.00</td>\n",
       "      <td>NaN</td>\n",
       "      <td>NaN</td>\n",
       "      <td>NaN</td>\n",
       "      <td>NaN</td>\n",
       "      <td>NaN</td>\n",
       "      <td>01/08/2020</td>\n",
       "      <td>31/12/2020</td>\n",
       "      <td>False</td>\n",
       "      <td>uncategorized</td>\n",
       "    </tr>\n",
       "    <tr>\n",
       "      <th>3480</th>\n",
       "      <td>71361-12</td>\n",
       "      <td>Super Mario</td>\n",
       "      <td>Character Pack - Series 1</td>\n",
       "      <td>2020</td>\n",
       "      <td>Character Pack - Series 1 - Sealed Box</td>\n",
       "      <td>NaN</td>\n",
       "      <td>NaN</td>\n",
       "      <td>3.49</td>\n",
       "      <td>4.99</td>\n",
       "      <td>3.89</td>\n",
       "      <td>NaN</td>\n",
       "      <td>NaN</td>\n",
       "      <td>01/08/2020</td>\n",
       "      <td>31/12/2020</td>\n",
       "      <td>False</td>\n",
       "      <td>uncategorized</td>\n",
       "    </tr>\n",
       "    <tr>\n",
       "      <th>1643</th>\n",
       "      <td>71386-0</td>\n",
       "      <td>Super Mario</td>\n",
       "      <td>Character Pack - Series 2</td>\n",
       "      <td>2021</td>\n",
       "      <td>Character Pack - Series 2 {Random bag}</td>\n",
       "      <td>NaN</td>\n",
       "      <td>NaN</td>\n",
       "      <td>3.49</td>\n",
       "      <td>4.99</td>\n",
       "      <td>3.99</td>\n",
       "      <td>NaN</td>\n",
       "      <td>NaN</td>\n",
       "      <td>01/01/2021</td>\n",
       "      <td>31/07/2021</td>\n",
       "      <td>False</td>\n",
       "      <td>uncategorized</td>\n",
       "    </tr>\n",
       "    <tr>\n",
       "      <th>1644</th>\n",
       "      <td>71386-1</td>\n",
       "      <td>Super Mario</td>\n",
       "      <td>Character Pack - Series 2</td>\n",
       "      <td>2021</td>\n",
       "      <td>Huckit Crab</td>\n",
       "      <td>1.00</td>\n",
       "      <td>NaN</td>\n",
       "      <td>3.49</td>\n",
       "      <td>4.99</td>\n",
       "      <td>3.99</td>\n",
       "      <td>6.57</td>\n",
       "      <td>4.15</td>\n",
       "      <td>01/01/2021</td>\n",
       "      <td>31/07/2021</td>\n",
       "      <td>False</td>\n",
       "      <td>uncategorized</td>\n",
       "    </tr>\n",
       "    <tr>\n",
       "      <th>1645</th>\n",
       "      <td>71386-2</td>\n",
       "      <td>Super Mario</td>\n",
       "      <td>Character Pack - Series 2</td>\n",
       "      <td>2021</td>\n",
       "      <td>Spiny Cheep Cheep</td>\n",
       "      <td>1.00</td>\n",
       "      <td>NaN</td>\n",
       "      <td>3.49</td>\n",
       "      <td>4.99</td>\n",
       "      <td>3.99</td>\n",
       "      <td>6.46</td>\n",
       "      <td>3.88</td>\n",
       "      <td>01/01/2021</td>\n",
       "      <td>31/07/2021</td>\n",
       "      <td>False</td>\n",
       "      <td>uncategorized</td>\n",
       "    </tr>\n",
       "    <tr>\n",
       "      <th>1646</th>\n",
       "      <td>71386-3</td>\n",
       "      <td>Super Mario</td>\n",
       "      <td>Character Pack - Series 2</td>\n",
       "      <td>2021</td>\n",
       "      <td>Ninji</td>\n",
       "      <td>1.00</td>\n",
       "      <td>NaN</td>\n",
       "      <td>3.49</td>\n",
       "      <td>4.99</td>\n",
       "      <td>3.99</td>\n",
       "      <td>7.43</td>\n",
       "      <td>3.30</td>\n",
       "      <td>01/01/2021</td>\n",
       "      <td>31/07/2021</td>\n",
       "      <td>False</td>\n",
       "      <td>uncategorized</td>\n",
       "    </tr>\n",
       "    <tr>\n",
       "      <th>1647</th>\n",
       "      <td>71386-4</td>\n",
       "      <td>Super Mario</td>\n",
       "      <td>Character Pack - Series 2</td>\n",
       "      <td>2021</td>\n",
       "      <td>Foo</td>\n",
       "      <td>1.00</td>\n",
       "      <td>NaN</td>\n",
       "      <td>3.49</td>\n",
       "      <td>4.99</td>\n",
       "      <td>3.99</td>\n",
       "      <td>6.84</td>\n",
       "      <td>4.00</td>\n",
       "      <td>01/01/2021</td>\n",
       "      <td>31/07/2021</td>\n",
       "      <td>False</td>\n",
       "      <td>uncategorized</td>\n",
       "    </tr>\n",
       "    <tr>\n",
       "      <th>1648</th>\n",
       "      <td>71386-5</td>\n",
       "      <td>Super Mario</td>\n",
       "      <td>Character Pack - Series 2</td>\n",
       "      <td>2021</td>\n",
       "      <td>Parachute Goomba</td>\n",
       "      <td>1.00</td>\n",
       "      <td>NaN</td>\n",
       "      <td>3.49</td>\n",
       "      <td>4.99</td>\n",
       "      <td>3.99</td>\n",
       "      <td>6.60</td>\n",
       "      <td>3.15</td>\n",
       "      <td>01/01/2021</td>\n",
       "      <td>31/07/2021</td>\n",
       "      <td>False</td>\n",
       "      <td>uncategorized</td>\n",
       "    </tr>\n",
       "    <tr>\n",
       "      <th>1649</th>\n",
       "      <td>71386-6</td>\n",
       "      <td>Super Mario</td>\n",
       "      <td>Character Pack - Series 2</td>\n",
       "      <td>2021</td>\n",
       "      <td>Para-Beetle</td>\n",
       "      <td>1.00</td>\n",
       "      <td>NaN</td>\n",
       "      <td>3.49</td>\n",
       "      <td>4.99</td>\n",
       "      <td>3.99</td>\n",
       "      <td>5.91</td>\n",
       "      <td>4.20</td>\n",
       "      <td>01/01/2021</td>\n",
       "      <td>31/07/2021</td>\n",
       "      <td>False</td>\n",
       "      <td>uncategorized</td>\n",
       "    </tr>\n",
       "    <tr>\n",
       "      <th>1650</th>\n",
       "      <td>71386-7</td>\n",
       "      <td>Super Mario</td>\n",
       "      <td>Character Pack - Series 2</td>\n",
       "      <td>2021</td>\n",
       "      <td>Poison Mushroom</td>\n",
       "      <td>1.00</td>\n",
       "      <td>NaN</td>\n",
       "      <td>3.49</td>\n",
       "      <td>4.99</td>\n",
       "      <td>3.99</td>\n",
       "      <td>6.30</td>\n",
       "      <td>4.98</td>\n",
       "      <td>01/01/2021</td>\n",
       "      <td>31/07/2021</td>\n",
       "      <td>False</td>\n",
       "      <td>uncategorized</td>\n",
       "    </tr>\n",
       "    <tr>\n",
       "      <th>1651</th>\n",
       "      <td>71386-8</td>\n",
       "      <td>Super Mario</td>\n",
       "      <td>Character Pack - Series 2</td>\n",
       "      <td>2021</td>\n",
       "      <td>Thwimp</td>\n",
       "      <td>1.00</td>\n",
       "      <td>NaN</td>\n",
       "      <td>3.49</td>\n",
       "      <td>4.99</td>\n",
       "      <td>3.99</td>\n",
       "      <td>7.10</td>\n",
       "      <td>3.83</td>\n",
       "      <td>01/01/2021</td>\n",
       "      <td>31/07/2021</td>\n",
       "      <td>False</td>\n",
       "      <td>uncategorized</td>\n",
       "    </tr>\n",
       "    <tr>\n",
       "      <th>1652</th>\n",
       "      <td>71386-9</td>\n",
       "      <td>Super Mario</td>\n",
       "      <td>Character Pack - Series 2</td>\n",
       "      <td>2021</td>\n",
       "      <td>Fly Guy</td>\n",
       "      <td>1.00</td>\n",
       "      <td>NaN</td>\n",
       "      <td>3.49</td>\n",
       "      <td>4.99</td>\n",
       "      <td>3.99</td>\n",
       "      <td>6.35</td>\n",
       "      <td>4.50</td>\n",
       "      <td>01/01/2021</td>\n",
       "      <td>31/07/2021</td>\n",
       "      <td>False</td>\n",
       "      <td>uncategorized</td>\n",
       "    </tr>\n",
       "    <tr>\n",
       "      <th>1653</th>\n",
       "      <td>71386-10</td>\n",
       "      <td>Super Mario</td>\n",
       "      <td>Character Pack - Series 2</td>\n",
       "      <td>2021</td>\n",
       "      <td>Bone Goomba</td>\n",
       "      <td>1.00</td>\n",
       "      <td>NaN</td>\n",
       "      <td>3.49</td>\n",
       "      <td>4.99</td>\n",
       "      <td>3.99</td>\n",
       "      <td>5.70</td>\n",
       "      <td>4.86</td>\n",
       "      <td>01/01/2021</td>\n",
       "      <td>31/07/2021</td>\n",
       "      <td>False</td>\n",
       "      <td>uncategorized</td>\n",
       "    </tr>\n",
       "    <tr>\n",
       "      <th>1654</th>\n",
       "      <td>71386-11</td>\n",
       "      <td>Super Mario</td>\n",
       "      <td>Character Pack - Series 2</td>\n",
       "      <td>2021</td>\n",
       "      <td>Character Pack - Series 2 - Complete</td>\n",
       "      <td>10.00</td>\n",
       "      <td>0.00</td>\n",
       "      <td>NaN</td>\n",
       "      <td>NaN</td>\n",
       "      <td>NaN</td>\n",
       "      <td>NaN</td>\n",
       "      <td>NaN</td>\n",
       "      <td>01/01/2021</td>\n",
       "      <td>31/07/2021</td>\n",
       "      <td>False</td>\n",
       "      <td>uncategorized</td>\n",
       "    </tr>\n",
       "    <tr>\n",
       "      <th>1655</th>\n",
       "      <td>71386-12</td>\n",
       "      <td>Super Mario</td>\n",
       "      <td>Character Pack - Series 2</td>\n",
       "      <td>2021</td>\n",
       "      <td>Character Pack - Series 2 - Sealed Box</td>\n",
       "      <td>NaN</td>\n",
       "      <td>NaN</td>\n",
       "      <td>NaN</td>\n",
       "      <td>NaN</td>\n",
       "      <td>NaN</td>\n",
       "      <td>NaN</td>\n",
       "      <td>NaN</td>\n",
       "      <td>01/01/2021</td>\n",
       "      <td>31/07/2021</td>\n",
       "      <td>False</td>\n",
       "      <td>uncategorized</td>\n",
       "    </tr>\n",
       "    <tr>\n",
       "      <th>1663</th>\n",
       "      <td>71394-0</td>\n",
       "      <td>Super Mario</td>\n",
       "      <td>Character Pack - Series 3</td>\n",
       "      <td>2021</td>\n",
       "      <td>Character Pack - Series 3 {Random bag}</td>\n",
       "      <td>NaN</td>\n",
       "      <td>NaN</td>\n",
       "      <td>3.49</td>\n",
       "      <td>4.99</td>\n",
       "      <td>3.99</td>\n",
       "      <td>NaN</td>\n",
       "      <td>NaN</td>\n",
       "      <td>01/08/2021</td>\n",
       "      <td>31/12/2021</td>\n",
       "      <td>False</td>\n",
       "      <td>uncategorized</td>\n",
       "    </tr>\n",
       "    <tr>\n",
       "      <th>1664</th>\n",
       "      <td>71394-1</td>\n",
       "      <td>Super Mario</td>\n",
       "      <td>Character Pack - Series 3</td>\n",
       "      <td>2021</td>\n",
       "      <td>1-Up Mushroom</td>\n",
       "      <td>1.00</td>\n",
       "      <td>NaN</td>\n",
       "      <td>3.49</td>\n",
       "      <td>4.99</td>\n",
       "      <td>3.99</td>\n",
       "      <td>5.47</td>\n",
       "      <td>5.04</td>\n",
       "      <td>01/08/2021</td>\n",
       "      <td>31/12/2021</td>\n",
       "      <td>False</td>\n",
       "      <td>uncategorized</td>\n",
       "    </tr>\n",
       "    <tr>\n",
       "      <th>1665</th>\n",
       "      <td>71394-2</td>\n",
       "      <td>Super Mario</td>\n",
       "      <td>Character Pack - Series 3</td>\n",
       "      <td>2021</td>\n",
       "      <td>Amp</td>\n",
       "      <td>1.00</td>\n",
       "      <td>NaN</td>\n",
       "      <td>3.49</td>\n",
       "      <td>4.99</td>\n",
       "      <td>3.99</td>\n",
       "      <td>4.91</td>\n",
       "      <td>3.40</td>\n",
       "      <td>01/08/2021</td>\n",
       "      <td>31/12/2021</td>\n",
       "      <td>False</td>\n",
       "      <td>uncategorized</td>\n",
       "    </tr>\n",
       "    <tr>\n",
       "      <th>1666</th>\n",
       "      <td>71394-3</td>\n",
       "      <td>Super Mario</td>\n",
       "      <td>Character Pack - Series 3</td>\n",
       "      <td>2021</td>\n",
       "      <td>Scuttlebug</td>\n",
       "      <td>1.00</td>\n",
       "      <td>NaN</td>\n",
       "      <td>3.49</td>\n",
       "      <td>4.99</td>\n",
       "      <td>3.99</td>\n",
       "      <td>5.59</td>\n",
       "      <td>6.23</td>\n",
       "      <td>01/08/2021</td>\n",
       "      <td>31/12/2021</td>\n",
       "      <td>False</td>\n",
       "      <td>uncategorized</td>\n",
       "    </tr>\n",
       "    <tr>\n",
       "      <th>1667</th>\n",
       "      <td>71394-4</td>\n",
       "      <td>Super Mario</td>\n",
       "      <td>Character Pack - Series 3</td>\n",
       "      <td>2021</td>\n",
       "      <td>Parachute Bob-omb</td>\n",
       "      <td>1.00</td>\n",
       "      <td>NaN</td>\n",
       "      <td>3.49</td>\n",
       "      <td>4.99</td>\n",
       "      <td>3.99</td>\n",
       "      <td>5.99</td>\n",
       "      <td>NaN</td>\n",
       "      <td>01/08/2021</td>\n",
       "      <td>31/12/2021</td>\n",
       "      <td>False</td>\n",
       "      <td>uncategorized</td>\n",
       "    </tr>\n",
       "    <tr>\n",
       "      <th>1668</th>\n",
       "      <td>71394-5</td>\n",
       "      <td>Super Mario</td>\n",
       "      <td>Character Pack - Series 3</td>\n",
       "      <td>2021</td>\n",
       "      <td>Swoop</td>\n",
       "      <td>1.00</td>\n",
       "      <td>NaN</td>\n",
       "      <td>3.49</td>\n",
       "      <td>4.99</td>\n",
       "      <td>3.99</td>\n",
       "      <td>3.53</td>\n",
       "      <td>3.40</td>\n",
       "      <td>01/08/2021</td>\n",
       "      <td>31/12/2021</td>\n",
       "      <td>False</td>\n",
       "      <td>uncategorized</td>\n",
       "    </tr>\n",
       "    <tr>\n",
       "      <th>1669</th>\n",
       "      <td>71394-6</td>\n",
       "      <td>Super Mario</td>\n",
       "      <td>Character Pack - Series 3</td>\n",
       "      <td>2021</td>\n",
       "      <td>Galoomba</td>\n",
       "      <td>1.00</td>\n",
       "      <td>NaN</td>\n",
       "      <td>3.49</td>\n",
       "      <td>4.99</td>\n",
       "      <td>3.99</td>\n",
       "      <td>4.75</td>\n",
       "      <td>5.16</td>\n",
       "      <td>01/08/2021</td>\n",
       "      <td>31/12/2021</td>\n",
       "      <td>False</td>\n",
       "      <td>uncategorized</td>\n",
       "    </tr>\n",
       "    <tr>\n",
       "      <th>1670</th>\n",
       "      <td>71394-7</td>\n",
       "      <td>Super Mario</td>\n",
       "      <td>Character Pack - Series 3</td>\n",
       "      <td>2021</td>\n",
       "      <td>Crowber</td>\n",
       "      <td>1.00</td>\n",
       "      <td>NaN</td>\n",
       "      <td>3.49</td>\n",
       "      <td>4.99</td>\n",
       "      <td>3.99</td>\n",
       "      <td>9.83</td>\n",
       "      <td>5.49</td>\n",
       "      <td>01/08/2021</td>\n",
       "      <td>31/12/2021</td>\n",
       "      <td>False</td>\n",
       "      <td>uncategorized</td>\n",
       "    </tr>\n",
       "    <tr>\n",
       "      <th>1671</th>\n",
       "      <td>71394-8</td>\n",
       "      <td>Super Mario</td>\n",
       "      <td>Character Pack - Series 3</td>\n",
       "      <td>2021</td>\n",
       "      <td>Torpedo Ted</td>\n",
       "      <td>1.00</td>\n",
       "      <td>NaN</td>\n",
       "      <td>3.49</td>\n",
       "      <td>4.99</td>\n",
       "      <td>3.99</td>\n",
       "      <td>5.21</td>\n",
       "      <td>3.40</td>\n",
       "      <td>01/08/2021</td>\n",
       "      <td>31/12/2021</td>\n",
       "      <td>False</td>\n",
       "      <td>uncategorized</td>\n",
       "    </tr>\n",
       "    <tr>\n",
       "      <th>1672</th>\n",
       "      <td>71394-9</td>\n",
       "      <td>Super Mario</td>\n",
       "      <td>Character Pack - Series 3</td>\n",
       "      <td>2021</td>\n",
       "      <td>Bony Beetle</td>\n",
       "      <td>1.00</td>\n",
       "      <td>NaN</td>\n",
       "      <td>3.49</td>\n",
       "      <td>4.99</td>\n",
       "      <td>3.99</td>\n",
       "      <td>10.34</td>\n",
       "      <td>11.00</td>\n",
       "      <td>01/08/2021</td>\n",
       "      <td>31/12/2021</td>\n",
       "      <td>False</td>\n",
       "      <td>uncategorized</td>\n",
       "    </tr>\n",
       "    <tr>\n",
       "      <th>1673</th>\n",
       "      <td>71394-10</td>\n",
       "      <td>Super Mario</td>\n",
       "      <td>Character Pack - Series 3</td>\n",
       "      <td>2021</td>\n",
       "      <td>Boo</td>\n",
       "      <td>1.00</td>\n",
       "      <td>NaN</td>\n",
       "      <td>3.49</td>\n",
       "      <td>4.99</td>\n",
       "      <td>3.99</td>\n",
       "      <td>4.81</td>\n",
       "      <td>4.00</td>\n",
       "      <td>01/08/2021</td>\n",
       "      <td>31/12/2021</td>\n",
       "      <td>False</td>\n",
       "      <td>uncategorized</td>\n",
       "    </tr>\n",
       "    <tr>\n",
       "      <th>1674</th>\n",
       "      <td>71394-11</td>\n",
       "      <td>Super Mario</td>\n",
       "      <td>Character Pack - Series 3</td>\n",
       "      <td>2021</td>\n",
       "      <td>Character Pack - Series 3 - Complete</td>\n",
       "      <td>10.00</td>\n",
       "      <td>0.00</td>\n",
       "      <td>3.49</td>\n",
       "      <td>4.99</td>\n",
       "      <td>3.99</td>\n",
       "      <td>NaN</td>\n",
       "      <td>NaN</td>\n",
       "      <td>01/08/2021</td>\n",
       "      <td>31/12/2021</td>\n",
       "      <td>False</td>\n",
       "      <td>uncategorized</td>\n",
       "    </tr>\n",
       "    <tr>\n",
       "      <th>1675</th>\n",
       "      <td>71394-12</td>\n",
       "      <td>Super Mario</td>\n",
       "      <td>Character Pack - Series 3</td>\n",
       "      <td>2021</td>\n",
       "      <td>Character Pack - Series 3 - Sealed Box</td>\n",
       "      <td>NaN</td>\n",
       "      <td>NaN</td>\n",
       "      <td>NaN</td>\n",
       "      <td>NaN</td>\n",
       "      <td>NaN</td>\n",
       "      <td>NaN</td>\n",
       "      <td>NaN</td>\n",
       "      <td>01/08/2021</td>\n",
       "      <td>31/12/2021</td>\n",
       "      <td>False</td>\n",
       "      <td>uncategorized</td>\n",
       "    </tr>\n",
       "    <tr>\n",
       "      <th>2056</th>\n",
       "      <td>5007060-1</td>\n",
       "      <td>Super Mario</td>\n",
       "      <td>Product Collection</td>\n",
       "      <td>2021</td>\n",
       "      <td>The Team Up Bundle</td>\n",
       "      <td>NaN</td>\n",
       "      <td>NaN</td>\n",
       "      <td>99.98</td>\n",
       "      <td>119.98</td>\n",
       "      <td>119.98</td>\n",
       "      <td>NaN</td>\n",
       "      <td>NaN</td>\n",
       "      <td>NaN</td>\n",
       "      <td>NaN</td>\n",
       "      <td>False</td>\n",
       "      <td>uncategorized</td>\n",
       "    </tr>\n",
       "    <tr>\n",
       "      <th>2057</th>\n",
       "      <td>5007061-1</td>\n",
       "      <td>Super Mario</td>\n",
       "      <td>Product Collection</td>\n",
       "      <td>2021</td>\n",
       "      <td>The Creative Bundle</td>\n",
       "      <td>NaN</td>\n",
       "      <td>NaN</td>\n",
       "      <td>109.97</td>\n",
       "      <td>129.97</td>\n",
       "      <td>129.97</td>\n",
       "      <td>NaN</td>\n",
       "      <td>NaN</td>\n",
       "      <td>NaN</td>\n",
       "      <td>NaN</td>\n",
       "      <td>False</td>\n",
       "      <td>uncategorized</td>\n",
       "    </tr>\n",
       "    <tr>\n",
       "      <th>2058</th>\n",
       "      <td>5007062-1</td>\n",
       "      <td>Super Mario</td>\n",
       "      <td>Product Collection</td>\n",
       "      <td>2021</td>\n",
       "      <td>The Ultimate Bundle</td>\n",
       "      <td>NaN</td>\n",
       "      <td>NaN</td>\n",
       "      <td>264.95</td>\n",
       "      <td>299.95</td>\n",
       "      <td>299.95</td>\n",
       "      <td>NaN</td>\n",
       "      <td>NaN</td>\n",
       "      <td>NaN</td>\n",
       "      <td>NaN</td>\n",
       "      <td>False</td>\n",
       "      <td>uncategorized</td>\n",
       "    </tr>\n",
       "    <tr>\n",
       "      <th>4035</th>\n",
       "      <td>71402-0</td>\n",
       "      <td>Super Mario</td>\n",
       "      <td>Character Pack - Series 4</td>\n",
       "      <td>2022</td>\n",
       "      <td>Character Pack - Series 4 {Random bag}</td>\n",
       "      <td>NaN</td>\n",
       "      <td>NaN</td>\n",
       "      <td>3.49</td>\n",
       "      <td>4.99</td>\n",
       "      <td>3.99</td>\n",
       "      <td>NaN</td>\n",
       "      <td>NaN</td>\n",
       "      <td>01/01/2022</td>\n",
       "      <td>31/07/2022</td>\n",
       "      <td>False</td>\n",
       "      <td>uncategorized</td>\n",
       "    </tr>\n",
       "    <tr>\n",
       "      <th>4036</th>\n",
       "      <td>71402-1</td>\n",
       "      <td>Super Mario</td>\n",
       "      <td>Character Pack - Series 4</td>\n",
       "      <td>2022</td>\n",
       "      <td>Freezie</td>\n",
       "      <td>NaN</td>\n",
       "      <td>NaN</td>\n",
       "      <td>3.49</td>\n",
       "      <td>4.99</td>\n",
       "      <td>3.99</td>\n",
       "      <td>12.56</td>\n",
       "      <td>NaN</td>\n",
       "      <td>01/01/2022</td>\n",
       "      <td>31/07/2022</td>\n",
       "      <td>False</td>\n",
       "      <td>uncategorized</td>\n",
       "    </tr>\n",
       "    <tr>\n",
       "      <th>4037</th>\n",
       "      <td>71402-2</td>\n",
       "      <td>Super Mario</td>\n",
       "      <td>Character Pack - Series 4</td>\n",
       "      <td>2022</td>\n",
       "      <td>Mechakoopa</td>\n",
       "      <td>NaN</td>\n",
       "      <td>NaN</td>\n",
       "      <td>3.49</td>\n",
       "      <td>4.99</td>\n",
       "      <td>3.99</td>\n",
       "      <td>76.78</td>\n",
       "      <td>NaN</td>\n",
       "      <td>01/01/2022</td>\n",
       "      <td>31/07/2022</td>\n",
       "      <td>False</td>\n",
       "      <td>uncategorized</td>\n",
       "    </tr>\n",
       "    <tr>\n",
       "      <th>4038</th>\n",
       "      <td>71402-3</td>\n",
       "      <td>Super Mario</td>\n",
       "      <td>Character Pack - Series 4</td>\n",
       "      <td>2022</td>\n",
       "      <td>Ant Trooper</td>\n",
       "      <td>NaN</td>\n",
       "      <td>NaN</td>\n",
       "      <td>3.49</td>\n",
       "      <td>4.99</td>\n",
       "      <td>3.99</td>\n",
       "      <td>NaN</td>\n",
       "      <td>NaN</td>\n",
       "      <td>01/01/2022</td>\n",
       "      <td>31/07/2022</td>\n",
       "      <td>False</td>\n",
       "      <td>uncategorized</td>\n",
       "    </tr>\n",
       "    <tr>\n",
       "      <th>4039</th>\n",
       "      <td>71402-4</td>\n",
       "      <td>Super Mario</td>\n",
       "      <td>Character Pack - Series 4</td>\n",
       "      <td>2022</td>\n",
       "      <td>Goombrat</td>\n",
       "      <td>NaN</td>\n",
       "      <td>NaN</td>\n",
       "      <td>3.49</td>\n",
       "      <td>4.99</td>\n",
       "      <td>3.99</td>\n",
       "      <td>NaN</td>\n",
       "      <td>NaN</td>\n",
       "      <td>01/01/2022</td>\n",
       "      <td>31/07/2022</td>\n",
       "      <td>False</td>\n",
       "      <td>uncategorized</td>\n",
       "    </tr>\n",
       "    <tr>\n",
       "      <th>4040</th>\n",
       "      <td>71402-5</td>\n",
       "      <td>Super Mario</td>\n",
       "      <td>Character Pack - Series 4</td>\n",
       "      <td>2022</td>\n",
       "      <td>Scaredy Rat</td>\n",
       "      <td>NaN</td>\n",
       "      <td>NaN</td>\n",
       "      <td>3.49</td>\n",
       "      <td>4.99</td>\n",
       "      <td>3.99</td>\n",
       "      <td>NaN</td>\n",
       "      <td>NaN</td>\n",
       "      <td>01/01/2022</td>\n",
       "      <td>31/07/2022</td>\n",
       "      <td>False</td>\n",
       "      <td>uncategorized</td>\n",
       "    </tr>\n",
       "    <tr>\n",
       "      <th>4041</th>\n",
       "      <td>71402-6</td>\n",
       "      <td>Super Mario</td>\n",
       "      <td>Character Pack - Series 4</td>\n",
       "      <td>2022</td>\n",
       "      <td>Bully</td>\n",
       "      <td>NaN</td>\n",
       "      <td>NaN</td>\n",
       "      <td>3.49</td>\n",
       "      <td>4.99</td>\n",
       "      <td>3.99</td>\n",
       "      <td>NaN</td>\n",
       "      <td>NaN</td>\n",
       "      <td>01/01/2022</td>\n",
       "      <td>31/07/2022</td>\n",
       "      <td>False</td>\n",
       "      <td>uncategorized</td>\n",
       "    </tr>\n",
       "    <tr>\n",
       "      <th>4042</th>\n",
       "      <td>71402-7</td>\n",
       "      <td>Super Mario</td>\n",
       "      <td>Character Pack - Series 4</td>\n",
       "      <td>2022</td>\n",
       "      <td>Baby Penguin</td>\n",
       "      <td>NaN</td>\n",
       "      <td>NaN</td>\n",
       "      <td>3.49</td>\n",
       "      <td>4.99</td>\n",
       "      <td>3.99</td>\n",
       "      <td>NaN</td>\n",
       "      <td>NaN</td>\n",
       "      <td>01/01/2022</td>\n",
       "      <td>31/07/2022</td>\n",
       "      <td>False</td>\n",
       "      <td>uncategorized</td>\n",
       "    </tr>\n",
       "    <tr>\n",
       "      <th>4043</th>\n",
       "      <td>71402-8</td>\n",
       "      <td>Super Mario</td>\n",
       "      <td>Character Pack - Series 4</td>\n",
       "      <td>2022</td>\n",
       "      <td>Stingby</td>\n",
       "      <td>NaN</td>\n",
       "      <td>NaN</td>\n",
       "      <td>3.49</td>\n",
       "      <td>4.99</td>\n",
       "      <td>3.99</td>\n",
       "      <td>NaN</td>\n",
       "      <td>NaN</td>\n",
       "      <td>01/01/2022</td>\n",
       "      <td>31/07/2022</td>\n",
       "      <td>False</td>\n",
       "      <td>uncategorized</td>\n",
       "    </tr>\n",
       "    <tr>\n",
       "      <th>4044</th>\n",
       "      <td>71402-9</td>\n",
       "      <td>Super Mario</td>\n",
       "      <td>Character Pack - Series 4</td>\n",
       "      <td>2022</td>\n",
       "      <td>Coin Coffer</td>\n",
       "      <td>NaN</td>\n",
       "      <td>NaN</td>\n",
       "      <td>3.49</td>\n",
       "      <td>4.99</td>\n",
       "      <td>3.99</td>\n",
       "      <td>NaN</td>\n",
       "      <td>NaN</td>\n",
       "      <td>01/01/2022</td>\n",
       "      <td>31/07/2022</td>\n",
       "      <td>False</td>\n",
       "      <td>uncategorized</td>\n",
       "    </tr>\n",
       "    <tr>\n",
       "      <th>4045</th>\n",
       "      <td>71402-10</td>\n",
       "      <td>Super Mario</td>\n",
       "      <td>Character Pack - Series 4</td>\n",
       "      <td>2022</td>\n",
       "      <td>Para-Biddybud</td>\n",
       "      <td>NaN</td>\n",
       "      <td>NaN</td>\n",
       "      <td>3.49</td>\n",
       "      <td>4.99</td>\n",
       "      <td>3.99</td>\n",
       "      <td>NaN</td>\n",
       "      <td>NaN</td>\n",
       "      <td>01/01/2022</td>\n",
       "      <td>31/07/2022</td>\n",
       "      <td>False</td>\n",
       "      <td>uncategorized</td>\n",
       "    </tr>\n",
       "    <tr>\n",
       "      <th>4046</th>\n",
       "      <td>71402-12</td>\n",
       "      <td>Super Mario</td>\n",
       "      <td>Character Pack - Series 4</td>\n",
       "      <td>2022</td>\n",
       "      <td>Character Pack - Series 4 - Sealed Box</td>\n",
       "      <td>NaN</td>\n",
       "      <td>NaN</td>\n",
       "      <td>NaN</td>\n",
       "      <td>NaN</td>\n",
       "      <td>NaN</td>\n",
       "      <td>NaN</td>\n",
       "      <td>NaN</td>\n",
       "      <td>01/01/2022</td>\n",
       "      <td>31/07/2022</td>\n",
       "      <td>False</td>\n",
       "      <td>uncategorized</td>\n",
       "    </tr>\n",
       "  </tbody>\n",
       "</table>\n",
       "</div>"
      ],
      "text/plain": [
       "         number        theme                   subtheme  year  \\\n",
       "3468    71361-0  Super Mario  Character Pack - Series 1  2020   \n",
       "3469    71361-1  Super Mario  Character Pack - Series 1  2020   \n",
       "3470    71361-2  Super Mario  Character Pack - Series 1  2020   \n",
       "3471    71361-3  Super Mario  Character Pack - Series 1  2020   \n",
       "3472    71361-4  Super Mario  Character Pack - Series 1  2020   \n",
       "3473    71361-5  Super Mario  Character Pack - Series 1  2020   \n",
       "3474    71361-6  Super Mario  Character Pack - Series 1  2020   \n",
       "3475    71361-7  Super Mario  Character Pack - Series 1  2020   \n",
       "3476    71361-8  Super Mario  Character Pack - Series 1  2020   \n",
       "3477    71361-9  Super Mario  Character Pack - Series 1  2020   \n",
       "3478   71361-10  Super Mario  Character Pack - Series 1  2020   \n",
       "3479   71361-11  Super Mario  Character Pack - Series 1  2020   \n",
       "3480   71361-12  Super Mario  Character Pack - Series 1  2020   \n",
       "1643    71386-0  Super Mario  Character Pack - Series 2  2021   \n",
       "1644    71386-1  Super Mario  Character Pack - Series 2  2021   \n",
       "1645    71386-2  Super Mario  Character Pack - Series 2  2021   \n",
       "1646    71386-3  Super Mario  Character Pack - Series 2  2021   \n",
       "1647    71386-4  Super Mario  Character Pack - Series 2  2021   \n",
       "1648    71386-5  Super Mario  Character Pack - Series 2  2021   \n",
       "1649    71386-6  Super Mario  Character Pack - Series 2  2021   \n",
       "1650    71386-7  Super Mario  Character Pack - Series 2  2021   \n",
       "1651    71386-8  Super Mario  Character Pack - Series 2  2021   \n",
       "1652    71386-9  Super Mario  Character Pack - Series 2  2021   \n",
       "1653   71386-10  Super Mario  Character Pack - Series 2  2021   \n",
       "1654   71386-11  Super Mario  Character Pack - Series 2  2021   \n",
       "1655   71386-12  Super Mario  Character Pack - Series 2  2021   \n",
       "1663    71394-0  Super Mario  Character Pack - Series 3  2021   \n",
       "1664    71394-1  Super Mario  Character Pack - Series 3  2021   \n",
       "1665    71394-2  Super Mario  Character Pack - Series 3  2021   \n",
       "1666    71394-3  Super Mario  Character Pack - Series 3  2021   \n",
       "1667    71394-4  Super Mario  Character Pack - Series 3  2021   \n",
       "1668    71394-5  Super Mario  Character Pack - Series 3  2021   \n",
       "1669    71394-6  Super Mario  Character Pack - Series 3  2021   \n",
       "1670    71394-7  Super Mario  Character Pack - Series 3  2021   \n",
       "1671    71394-8  Super Mario  Character Pack - Series 3  2021   \n",
       "1672    71394-9  Super Mario  Character Pack - Series 3  2021   \n",
       "1673   71394-10  Super Mario  Character Pack - Series 3  2021   \n",
       "1674   71394-11  Super Mario  Character Pack - Series 3  2021   \n",
       "1675   71394-12  Super Mario  Character Pack - Series 3  2021   \n",
       "2056  5007060-1  Super Mario         Product Collection  2021   \n",
       "2057  5007061-1  Super Mario         Product Collection  2021   \n",
       "2058  5007062-1  Super Mario         Product Collection  2021   \n",
       "4035    71402-0  Super Mario  Character Pack - Series 4  2022   \n",
       "4036    71402-1  Super Mario  Character Pack - Series 4  2022   \n",
       "4037    71402-2  Super Mario  Character Pack - Series 4  2022   \n",
       "4038    71402-3  Super Mario  Character Pack - Series 4  2022   \n",
       "4039    71402-4  Super Mario  Character Pack - Series 4  2022   \n",
       "4040    71402-5  Super Mario  Character Pack - Series 4  2022   \n",
       "4041    71402-6  Super Mario  Character Pack - Series 4  2022   \n",
       "4042    71402-7  Super Mario  Character Pack - Series 4  2022   \n",
       "4043    71402-8  Super Mario  Character Pack - Series 4  2022   \n",
       "4044    71402-9  Super Mario  Character Pack - Series 4  2022   \n",
       "4045   71402-10  Super Mario  Character Pack - Series 4  2022   \n",
       "4046   71402-12  Super Mario  Character Pack - Series 4  2022   \n",
       "\n",
       "                                    set_name  minifigs  pieces  rrp_gbp  \\\n",
       "3468  Character Pack - Series 1 {Random bag}       NaN     NaN      NaN   \n",
       "3469                              Paragoomba      1.00     NaN      NaN   \n",
       "3470                                   Fuzzy      1.00     NaN      NaN   \n",
       "3471                                   Spiny      1.00     NaN      NaN   \n",
       "3472                            Buzzy Beetle      1.00     NaN      NaN   \n",
       "3473                             Bullet Bill      1.00     NaN      NaN   \n",
       "3474                                 Bob-omb      1.00     NaN      NaN   \n",
       "3475                               Eep Cheep      1.00     NaN      NaN   \n",
       "3476                                 Blooper      1.00     NaN      NaN   \n",
       "3477                                  Urchin      1.00     NaN      NaN   \n",
       "3478                                   Peepa      1.00     NaN     3.49   \n",
       "3479    Character Pack - Series 1 - Complete     10.00    0.00      NaN   \n",
       "3480  Character Pack - Series 1 - Sealed Box       NaN     NaN     3.49   \n",
       "1643  Character Pack - Series 2 {Random bag}       NaN     NaN     3.49   \n",
       "1644                             Huckit Crab      1.00     NaN     3.49   \n",
       "1645                       Spiny Cheep Cheep      1.00     NaN     3.49   \n",
       "1646                                   Ninji      1.00     NaN     3.49   \n",
       "1647                                     Foo      1.00     NaN     3.49   \n",
       "1648                        Parachute Goomba      1.00     NaN     3.49   \n",
       "1649                             Para-Beetle      1.00     NaN     3.49   \n",
       "1650                         Poison Mushroom      1.00     NaN     3.49   \n",
       "1651                                  Thwimp      1.00     NaN     3.49   \n",
       "1652                                 Fly Guy      1.00     NaN     3.49   \n",
       "1653                             Bone Goomba      1.00     NaN     3.49   \n",
       "1654    Character Pack - Series 2 - Complete     10.00    0.00      NaN   \n",
       "1655  Character Pack - Series 2 - Sealed Box       NaN     NaN      NaN   \n",
       "1663  Character Pack - Series 3 {Random bag}       NaN     NaN     3.49   \n",
       "1664                           1-Up Mushroom      1.00     NaN     3.49   \n",
       "1665                                     Amp      1.00     NaN     3.49   \n",
       "1666                              Scuttlebug      1.00     NaN     3.49   \n",
       "1667                       Parachute Bob-omb      1.00     NaN     3.49   \n",
       "1668                                   Swoop      1.00     NaN     3.49   \n",
       "1669                                Galoomba      1.00     NaN     3.49   \n",
       "1670                                 Crowber      1.00     NaN     3.49   \n",
       "1671                             Torpedo Ted      1.00     NaN     3.49   \n",
       "1672                             Bony Beetle      1.00     NaN     3.49   \n",
       "1673                                     Boo      1.00     NaN     3.49   \n",
       "1674    Character Pack - Series 3 - Complete     10.00    0.00     3.49   \n",
       "1675  Character Pack - Series 3 - Sealed Box       NaN     NaN      NaN   \n",
       "2056                      The Team Up Bundle       NaN     NaN    99.98   \n",
       "2057                     The Creative Bundle       NaN     NaN   109.97   \n",
       "2058                     The Ultimate Bundle       NaN     NaN   264.95   \n",
       "4035  Character Pack - Series 4 {Random bag}       NaN     NaN     3.49   \n",
       "4036                                 Freezie       NaN     NaN     3.49   \n",
       "4037                              Mechakoopa       NaN     NaN     3.49   \n",
       "4038                             Ant Trooper       NaN     NaN     3.49   \n",
       "4039                                Goombrat       NaN     NaN     3.49   \n",
       "4040                             Scaredy Rat       NaN     NaN     3.49   \n",
       "4041                                   Bully       NaN     NaN     3.49   \n",
       "4042                            Baby Penguin       NaN     NaN     3.49   \n",
       "4043                                 Stingby       NaN     NaN     3.49   \n",
       "4044                             Coin Coffer       NaN     NaN     3.49   \n",
       "4045                           Para-Biddybud       NaN     NaN     3.49   \n",
       "4046  Character Pack - Series 4 - Sealed Box       NaN     NaN      NaN   \n",
       "\n",
       "      price  rrp_eur  value_new  value_used launch_date   exit_date  \\\n",
       "3468   4.99      NaN        NaN         NaN  01/08/2020  31/12/2020   \n",
       "3469   4.99      NaN      12.92        5.39  01/08/2020  31/12/2020   \n",
       "3470   4.99      NaN       6.00        4.67  01/08/2020  31/12/2020   \n",
       "3471   4.99      NaN       7.95        4.71  01/08/2020  31/12/2020   \n",
       "3472   4.99      NaN       6.80        4.13  01/08/2020  31/12/2020   \n",
       "3473   4.99      NaN      25.65       16.37  01/08/2020  31/12/2020   \n",
       "3474   4.99      NaN       9.08        5.45  01/08/2020  31/12/2020   \n",
       "3475   4.99      NaN       7.99        4.35  01/08/2020  31/12/2020   \n",
       "3476   4.99      NaN       7.27        6.14  01/08/2020  31/12/2020   \n",
       "3477   4.99      NaN       8.45        4.28  01/08/2020  31/12/2020   \n",
       "3478   4.99     3.89       8.72        6.14  01/08/2020  31/12/2020   \n",
       "3479    NaN      NaN        NaN         NaN  01/08/2020  31/12/2020   \n",
       "3480   4.99     3.89        NaN         NaN  01/08/2020  31/12/2020   \n",
       "1643   4.99     3.99        NaN         NaN  01/01/2021  31/07/2021   \n",
       "1644   4.99     3.99       6.57        4.15  01/01/2021  31/07/2021   \n",
       "1645   4.99     3.99       6.46        3.88  01/01/2021  31/07/2021   \n",
       "1646   4.99     3.99       7.43        3.30  01/01/2021  31/07/2021   \n",
       "1647   4.99     3.99       6.84        4.00  01/01/2021  31/07/2021   \n",
       "1648   4.99     3.99       6.60        3.15  01/01/2021  31/07/2021   \n",
       "1649   4.99     3.99       5.91        4.20  01/01/2021  31/07/2021   \n",
       "1650   4.99     3.99       6.30        4.98  01/01/2021  31/07/2021   \n",
       "1651   4.99     3.99       7.10        3.83  01/01/2021  31/07/2021   \n",
       "1652   4.99     3.99       6.35        4.50  01/01/2021  31/07/2021   \n",
       "1653   4.99     3.99       5.70        4.86  01/01/2021  31/07/2021   \n",
       "1654    NaN      NaN        NaN         NaN  01/01/2021  31/07/2021   \n",
       "1655    NaN      NaN        NaN         NaN  01/01/2021  31/07/2021   \n",
       "1663   4.99     3.99        NaN         NaN  01/08/2021  31/12/2021   \n",
       "1664   4.99     3.99       5.47        5.04  01/08/2021  31/12/2021   \n",
       "1665   4.99     3.99       4.91        3.40  01/08/2021  31/12/2021   \n",
       "1666   4.99     3.99       5.59        6.23  01/08/2021  31/12/2021   \n",
       "1667   4.99     3.99       5.99         NaN  01/08/2021  31/12/2021   \n",
       "1668   4.99     3.99       3.53        3.40  01/08/2021  31/12/2021   \n",
       "1669   4.99     3.99       4.75        5.16  01/08/2021  31/12/2021   \n",
       "1670   4.99     3.99       9.83        5.49  01/08/2021  31/12/2021   \n",
       "1671   4.99     3.99       5.21        3.40  01/08/2021  31/12/2021   \n",
       "1672   4.99     3.99      10.34       11.00  01/08/2021  31/12/2021   \n",
       "1673   4.99     3.99       4.81        4.00  01/08/2021  31/12/2021   \n",
       "1674   4.99     3.99        NaN         NaN  01/08/2021  31/12/2021   \n",
       "1675    NaN      NaN        NaN         NaN  01/08/2021  31/12/2021   \n",
       "2056 119.98   119.98        NaN         NaN         NaN         NaN   \n",
       "2057 129.97   129.97        NaN         NaN         NaN         NaN   \n",
       "2058 299.95   299.95        NaN         NaN         NaN         NaN   \n",
       "4035   4.99     3.99        NaN         NaN  01/01/2022  31/07/2022   \n",
       "4036   4.99     3.99      12.56         NaN  01/01/2022  31/07/2022   \n",
       "4037   4.99     3.99      76.78         NaN  01/01/2022  31/07/2022   \n",
       "4038   4.99     3.99        NaN         NaN  01/01/2022  31/07/2022   \n",
       "4039   4.99     3.99        NaN         NaN  01/01/2022  31/07/2022   \n",
       "4040   4.99     3.99        NaN         NaN  01/01/2022  31/07/2022   \n",
       "4041   4.99     3.99        NaN         NaN  01/01/2022  31/07/2022   \n",
       "4042   4.99     3.99        NaN         NaN  01/01/2022  31/07/2022   \n",
       "4043   4.99     3.99        NaN         NaN  01/01/2022  31/07/2022   \n",
       "4044   4.99     3.99        NaN         NaN  01/01/2022  31/07/2022   \n",
       "4045   4.99     3.99        NaN         NaN  01/01/2022  31/07/2022   \n",
       "4046    NaN      NaN        NaN         NaN  01/01/2022  31/07/2022   \n",
       "\n",
       "      numeric_data_nan       category  \n",
       "3468             False  uncategorized  \n",
       "3469             False  uncategorized  \n",
       "3470             False  uncategorized  \n",
       "3471             False  uncategorized  \n",
       "3472             False  uncategorized  \n",
       "3473             False  uncategorized  \n",
       "3474             False  uncategorized  \n",
       "3475             False  uncategorized  \n",
       "3476             False  uncategorized  \n",
       "3477             False  uncategorized  \n",
       "3478             False  uncategorized  \n",
       "3479             False  uncategorized  \n",
       "3480             False  uncategorized  \n",
       "1643             False  uncategorized  \n",
       "1644             False  uncategorized  \n",
       "1645             False  uncategorized  \n",
       "1646             False  uncategorized  \n",
       "1647             False  uncategorized  \n",
       "1648             False  uncategorized  \n",
       "1649             False  uncategorized  \n",
       "1650             False  uncategorized  \n",
       "1651             False  uncategorized  \n",
       "1652             False  uncategorized  \n",
       "1653             False  uncategorized  \n",
       "1654             False  uncategorized  \n",
       "1655             False  uncategorized  \n",
       "1663             False  uncategorized  \n",
       "1664             False  uncategorized  \n",
       "1665             False  uncategorized  \n",
       "1666             False  uncategorized  \n",
       "1667             False  uncategorized  \n",
       "1668             False  uncategorized  \n",
       "1669             False  uncategorized  \n",
       "1670             False  uncategorized  \n",
       "1671             False  uncategorized  \n",
       "1672             False  uncategorized  \n",
       "1673             False  uncategorized  \n",
       "1674             False  uncategorized  \n",
       "1675             False  uncategorized  \n",
       "2056             False  uncategorized  \n",
       "2057             False  uncategorized  \n",
       "2058             False  uncategorized  \n",
       "4035             False  uncategorized  \n",
       "4036             False  uncategorized  \n",
       "4037             False  uncategorized  \n",
       "4038             False  uncategorized  \n",
       "4039             False  uncategorized  \n",
       "4040             False  uncategorized  \n",
       "4041             False  uncategorized  \n",
       "4042             False  uncategorized  \n",
       "4043             False  uncategorized  \n",
       "4044             False  uncategorized  \n",
       "4045             False  uncategorized  \n",
       "4046             False  uncategorized  "
      ]
     },
     "metadata": {},
     "output_type": "display_data"
    }
   ],
   "source": [
    "for theme in uncat_themes:\n",
    "    cond_2 = (df.theme == theme) & (df.category == \"uncategorized\")\n",
    "    print(\"Theme:\", theme)\n",
    "    print(\"Number of rows:\", df[cond_2].shape[0])\n",
    "    display(df[cond_2])"
   ]
  },
  {
   "cell_type": "markdown",
   "id": "c988adc4",
   "metadata": {},
   "source": [
    "**Dropping product collections, bundle, promotionals, sealed boxes, magazine gifts, shoes such as Adidas Original Superstar, etc. Other items that could be sorted as sets or minifigures are categorized.**\n"
   ]
  },
  {
   "cell_type": "code",
   "execution_count": 464,
   "id": "b4313347",
   "metadata": {},
   "outputs": [
    {
     "name": "stdout",
     "output_type": "stream",
     "text": [
      "Rows that will be dropped: ['Star Wars', 'DC Comics Super Heroes', 'City', 'The LEGO Movie 2', 'Legends of Chima', 'Marvel Super Heroes', 'Books', 'Creator Expert', 'Ninjago', 'Vidiyo', 'Disney', 'Miscellaneous', 'Gear', 'Duplo', 'BrickHeadz', 'Promotional', 'Friends', 'Seasonal', 'Unikitty']\n",
      "To be categorized as sets: ['Clikits', 'Education', 'Make and Create', 'Sports']\n",
      "To be categorized as minifigs: ['Collectable Minifigures', 'Power Miners', 'Super Mario', 'Technic']\n"
     ]
    }
   ],
   "source": [
    "drop_col_list = ['Star Wars', 'DC Comics Super Heroes', 'City', 'The LEGO Movie 2', \n",
    "                     'Legends of Chima', 'Marvel Super Heroes',  'Books', 'Creator Expert', \n",
    "                       'Ninjago', 'Vidiyo', 'Disney', 'Miscellaneous', 'Gear', 'Duplo', \n",
    "                     'BrickHeadz', 'Promotional', 'Friends', 'Seasonal', 'Unikitty']\n",
    "set_list = [\"Clikits\", 'Education','Make and Create', 'Sports']\n",
    "minifig_list = ['Collectable Minifigures', 'Power Miners', 'Super Mario','Technic']\n",
    "print(\"Rows that will be dropped:\", drop_col_list)\n",
    "print(\"To be categorized as sets:\", set_list)\n",
    "print(\"To be categorized as minifigs:\", minifig_list)\n"
   ]
  },
  {
   "cell_type": "code",
   "execution_count": 465,
   "id": "8b8a5241",
   "metadata": {},
   "outputs": [],
   "source": [
    "for theme in set_list:\n",
    "    df.loc[(df.theme == theme) & (df.category == \"uncategorized\"),'category'] ='set'"
   ]
  },
  {
   "cell_type": "code",
   "execution_count": 466,
   "id": "a290ce92",
   "metadata": {},
   "outputs": [],
   "source": [
    "for theme in minifig_list:\n",
    "    df.loc[(df.theme == theme) & (df.category == \"uncategorized\"),'category'] = \"minifig\""
   ]
  },
  {
   "cell_type": "code",
   "execution_count": 467,
   "id": "5655cd97",
   "metadata": {},
   "outputs": [],
   "source": [
    "df = df.drop(df[(df.category == \"uncategorized\") & (df.theme.isin(drop_col_list))].index)"
   ]
  },
  {
   "cell_type": "code",
   "execution_count": 468,
   "id": "508f616c",
   "metadata": {},
   "outputs": [
    {
     "data": {
      "text/plain": [
       "array(['set', 'minifig'], dtype=object)"
      ]
     },
     "execution_count": 468,
     "metadata": {},
     "output_type": "execute_result"
    }
   ],
   "source": [
    "df.category.unique()"
   ]
  },
  {
   "cell_type": "markdown",
   "id": "ea016ead",
   "metadata": {},
   "source": [
    "**Categorize Collectable Minifigures as minifigs.**\n"
   ]
  },
  {
   "cell_type": "code",
   "execution_count": 469,
   "id": "e4b61df9",
   "metadata": {},
   "outputs": [],
   "source": [
    "df.loc[(df.theme == \"Collectable Minifigures\"), \"category\"] = \"minifig\""
   ]
  },
  {
   "cell_type": "code",
   "execution_count": 470,
   "id": "6cc7af7f",
   "metadata": {},
   "outputs": [
    {
     "data": {
      "text/plain": [
       "{'minifig'}"
      ]
     },
     "execution_count": 470,
     "metadata": {},
     "output_type": "execute_result"
    }
   ],
   "source": [
    "set(df[df.theme == \"Collectable Minifigures\"].category)"
   ]
  },
  {
   "cell_type": "markdown",
   "id": "25efc487",
   "metadata": {},
   "source": [
    "**Since 2022 is incomplete we sill save the rows from 2022 in a new dataframe and remove it from the main one.**\n"
   ]
  },
  {
   "cell_type": "code",
   "execution_count": 471,
   "id": "bebe8a48",
   "metadata": {},
   "outputs": [],
   "source": [
    "df_2022 = df[df.year == 2022]"
   ]
  },
  {
   "cell_type": "code",
   "execution_count": 472,
   "id": "8152a1ea",
   "metadata": {},
   "outputs": [
    {
     "name": "stdout",
     "output_type": "stream",
     "text": [
      "{1991, 1992, 1993, 1994, 1995, 1996, 1997, 1998, 1999, 2000, 2001, 2002, 2003, 2004, 2005, 2006, 2007, 2008, 2009, 2010, 2011, 2012, 2013, 2014, 2015, 2016, 2017, 2018, 2019, 2020, 2021}\n"
     ]
    }
   ],
   "source": [
    "df = df[df.year != 2022]\n",
    "print(set(df.year))"
   ]
  },
  {
   "cell_type": "markdown",
   "id": "ea22d0e2",
   "metadata": {},
   "source": [
    "**Creating dataframe containing only sets, since they will be the main focus of the analysis:**\n"
   ]
  },
  {
   "cell_type": "code",
   "execution_count": 513,
   "id": "1ba1264b",
   "metadata": {},
   "outputs": [],
   "source": [
    "df_sets = df[df.category == \"set\"].sort_values(by = \"year\")"
   ]
  },
  {
   "cell_type": "markdown",
   "id": "0948bead",
   "metadata": {},
   "source": [
    "### Further preparation steps for exploration analysis"
   ]
  },
  {
   "cell_type": "markdown",
   "id": "33c7a125",
   "metadata": {},
   "source": [
    "**Filling in price data in usd from other currencies where possible:**\n"
   ]
  },
  {
   "cell_type": "code",
   "execution_count": 514,
   "id": "91e62178",
   "metadata": {},
   "outputs": [
    {
     "data": {
      "text/plain": [
       "(1.1970355369182681, 1.5725745846764236)"
      ]
     },
     "execution_count": 514,
     "metadata": {},
     "output_type": "execute_result"
    }
   ],
   "source": [
    "rate_eur_usd, rate_gdp_usd"
   ]
  },
  {
   "cell_type": "code",
   "execution_count": 515,
   "id": "3db800ff",
   "metadata": {},
   "outputs": [
    {
     "name": "stdout",
     "output_type": "stream",
     "text": [
      "No. of rows where the price could be filled exclusively with gbp-data:\n"
     ]
    },
    {
     "data": {
      "text/plain": [
       "(243, 16)"
      ]
     },
     "execution_count": 515,
     "metadata": {},
     "output_type": "execute_result"
    }
   ],
   "source": [
    "print(\"No. of rows where the price could be filled exclusively with gbp-data:\")\n",
    "mask_gbp = (df_sets.price.isna()) & (df_sets.rrp_eur.isna()) & (df_sets.rrp_gbp.notnull())\n",
    "df_sets[mask_gbp].shape"
   ]
  },
  {
   "cell_type": "code",
   "execution_count": 516,
   "id": "4c402b2d",
   "metadata": {},
   "outputs": [
    {
     "name": "stdout",
     "output_type": "stream",
     "text": [
      "No. of rows where the price could be filled exclusively with eur-data:\n"
     ]
    },
    {
     "data": {
      "text/plain": [
       "(5, 16)"
      ]
     },
     "execution_count": 516,
     "metadata": {},
     "output_type": "execute_result"
    }
   ],
   "source": [
    "print(\"No. of rows where the price could be filled exclusively with eur-data:\")\n",
    "mask_eur = (df_sets.price.isna()) & (df_sets.rrp_gbp.isna()) & (df_sets.rrp_eur.notnull())\n",
    "df_sets[mask_eur].shape"
   ]
  },
  {
   "cell_type": "code",
   "execution_count": 517,
   "id": "1bc2fa78",
   "metadata": {},
   "outputs": [
    {
     "data": {
      "text/plain": [
       "(3285, 16)"
      ]
     },
     "execution_count": 517,
     "metadata": {},
     "output_type": "execute_result"
    }
   ],
   "source": [
    "df_sets[df_sets['price'].isnull()].shape"
   ]
  },
  {
   "cell_type": "code",
   "execution_count": 518,
   "id": "30b5ddf2",
   "metadata": {},
   "outputs": [],
   "source": [
    "df_sets[\"price_eur_calc\"] = df_sets[\"rrp_eur\"].apply(lambda x: x*rate_eur_usd)"
   ]
  },
  {
   "cell_type": "code",
   "execution_count": 519,
   "id": "3eb6c086",
   "metadata": {},
   "outputs": [],
   "source": [
    "df_sets[\"price_gbp_calc\"] = df_sets[\"rrp_gbp\"].apply(lambda x: x*rate_gdp_usd)"
   ]
  },
  {
   "cell_type": "code",
   "execution_count": 520,
   "id": "ac4a484d",
   "metadata": {},
   "outputs": [
    {
     "data": {
      "text/html": [
       "<div>\n",
       "<style scoped>\n",
       "    .dataframe tbody tr th:only-of-type {\n",
       "        vertical-align: middle;\n",
       "    }\n",
       "\n",
       "    .dataframe tbody tr th {\n",
       "        vertical-align: top;\n",
       "    }\n",
       "\n",
       "    .dataframe thead th {\n",
       "        text-align: right;\n",
       "    }\n",
       "</style>\n",
       "<table border=\"1\" class=\"dataframe\">\n",
       "  <thead>\n",
       "    <tr style=\"text-align: right;\">\n",
       "      <th></th>\n",
       "      <th>number</th>\n",
       "      <th>theme</th>\n",
       "      <th>subtheme</th>\n",
       "      <th>year</th>\n",
       "      <th>set_name</th>\n",
       "      <th>minifigs</th>\n",
       "      <th>pieces</th>\n",
       "      <th>rrp_gbp</th>\n",
       "      <th>price</th>\n",
       "      <th>rrp_eur</th>\n",
       "      <th>value_new</th>\n",
       "      <th>value_used</th>\n",
       "      <th>launch_date</th>\n",
       "      <th>exit_date</th>\n",
       "      <th>numeric_data_nan</th>\n",
       "      <th>category</th>\n",
       "      <th>price_eur_calc</th>\n",
       "      <th>price_gbp_calc</th>\n",
       "    </tr>\n",
       "  </thead>\n",
       "  <tbody>\n",
       "    <tr>\n",
       "      <th>0</th>\n",
       "      <td>819-1</td>\n",
       "      <td>Basic</td>\n",
       "      <td>Supplementaries</td>\n",
       "      <td>1991</td>\n",
       "      <td>Blue baseplate</td>\n",
       "      <td>NaN</td>\n",
       "      <td>1.00</td>\n",
       "      <td>NaN</td>\n",
       "      <td>5.50</td>\n",
       "      <td>NaN</td>\n",
       "      <td>6.26</td>\n",
       "      <td>NaN</td>\n",
       "      <td>NaN</td>\n",
       "      <td>NaN</td>\n",
       "      <td>False</td>\n",
       "      <td>set</td>\n",
       "      <td>NaN</td>\n",
       "      <td>NaN</td>\n",
       "    </tr>\n",
       "    <tr>\n",
       "      <th>91</th>\n",
       "      <td>5165-1</td>\n",
       "      <td>Service Packs</td>\n",
       "      <td>NaN</td>\n",
       "      <td>1991</td>\n",
       "      <td>Hinges, Couplings and Tilting Bearings</td>\n",
       "      <td>NaN</td>\n",
       "      <td>31.00</td>\n",
       "      <td>NaN</td>\n",
       "      <td>3.00</td>\n",
       "      <td>NaN</td>\n",
       "      <td>20.00</td>\n",
       "      <td>NaN</td>\n",
       "      <td>NaN</td>\n",
       "      <td>NaN</td>\n",
       "      <td>False</td>\n",
       "      <td>set</td>\n",
       "      <td>NaN</td>\n",
       "      <td>NaN</td>\n",
       "    </tr>\n",
       "    <tr>\n",
       "      <th>92</th>\n",
       "      <td>5166-1</td>\n",
       "      <td>Service Packs</td>\n",
       "      <td>NaN</td>\n",
       "      <td>1991</td>\n",
       "      <td>Lamp Holders, Tool Holder Plates</td>\n",
       "      <td>NaN</td>\n",
       "      <td>18.00</td>\n",
       "      <td>NaN</td>\n",
       "      <td>NaN</td>\n",
       "      <td>NaN</td>\n",
       "      <td>12.79</td>\n",
       "      <td>NaN</td>\n",
       "      <td>NaN</td>\n",
       "      <td>NaN</td>\n",
       "      <td>False</td>\n",
       "      <td>set</td>\n",
       "      <td>NaN</td>\n",
       "      <td>NaN</td>\n",
       "    </tr>\n",
       "    <tr>\n",
       "      <th>93</th>\n",
       "      <td>5271-1</td>\n",
       "      <td>Service Packs</td>\n",
       "      <td>NaN</td>\n",
       "      <td>1991</td>\n",
       "      <td>Tyres and Hubs 49.6 mm White</td>\n",
       "      <td>NaN</td>\n",
       "      <td>4.00</td>\n",
       "      <td>NaN</td>\n",
       "      <td>NaN</td>\n",
       "      <td>NaN</td>\n",
       "      <td>5.90</td>\n",
       "      <td>NaN</td>\n",
       "      <td>NaN</td>\n",
       "      <td>NaN</td>\n",
       "      <td>False</td>\n",
       "      <td>set</td>\n",
       "      <td>NaN</td>\n",
       "      <td>NaN</td>\n",
       "    </tr>\n",
       "    <tr>\n",
       "      <th>94</th>\n",
       "      <td>5272-1</td>\n",
       "      <td>Service Packs</td>\n",
       "      <td>Technic</td>\n",
       "      <td>1991</td>\n",
       "      <td>Cylinder Motor</td>\n",
       "      <td>NaN</td>\n",
       "      <td>9.00</td>\n",
       "      <td>NaN</td>\n",
       "      <td>3.00</td>\n",
       "      <td>NaN</td>\n",
       "      <td>3.67</td>\n",
       "      <td>NaN</td>\n",
       "      <td>NaN</td>\n",
       "      <td>NaN</td>\n",
       "      <td>False</td>\n",
       "      <td>set</td>\n",
       "      <td>NaN</td>\n",
       "      <td>NaN</td>\n",
       "    </tr>\n",
       "  </tbody>\n",
       "</table>\n",
       "</div>"
      ],
      "text/plain": [
       "    number          theme         subtheme  year  \\\n",
       "0    819-1          Basic  Supplementaries  1991   \n",
       "91  5165-1  Service Packs              NaN  1991   \n",
       "92  5166-1  Service Packs              NaN  1991   \n",
       "93  5271-1  Service Packs              NaN  1991   \n",
       "94  5272-1  Service Packs          Technic  1991   \n",
       "\n",
       "                                  set_name  minifigs  pieces  rrp_gbp  price  \\\n",
       "0                           Blue baseplate       NaN    1.00      NaN   5.50   \n",
       "91  Hinges, Couplings and Tilting Bearings       NaN   31.00      NaN   3.00   \n",
       "92        Lamp Holders, Tool Holder Plates       NaN   18.00      NaN    NaN   \n",
       "93            Tyres and Hubs 49.6 mm White       NaN    4.00      NaN    NaN   \n",
       "94                          Cylinder Motor       NaN    9.00      NaN   3.00   \n",
       "\n",
       "    rrp_eur  value_new  value_used launch_date exit_date  numeric_data_nan  \\\n",
       "0       NaN       6.26         NaN         NaN       NaN             False   \n",
       "91      NaN      20.00         NaN         NaN       NaN             False   \n",
       "92      NaN      12.79         NaN         NaN       NaN             False   \n",
       "93      NaN       5.90         NaN         NaN       NaN             False   \n",
       "94      NaN       3.67         NaN         NaN       NaN             False   \n",
       "\n",
       "   category  price_eur_calc  price_gbp_calc  \n",
       "0       set             NaN             NaN  \n",
       "91      set             NaN             NaN  \n",
       "92      set             NaN             NaN  \n",
       "93      set             NaN             NaN  \n",
       "94      set             NaN             NaN  "
      ]
     },
     "execution_count": 520,
     "metadata": {},
     "output_type": "execute_result"
    }
   ],
   "source": [
    "df_sets.head()"
   ]
  },
  {
   "cell_type": "code",
   "execution_count": 521,
   "id": "a70b93ae",
   "metadata": {},
   "outputs": [],
   "source": [
    "df_sets['price'].fillna(df_sets['price_gbp_calc'], inplace=True)"
   ]
  },
  {
   "cell_type": "code",
   "execution_count": 522,
   "id": "43d35522",
   "metadata": {},
   "outputs": [
    {
     "data": {
      "text/plain": [
       "(2999, 18)"
      ]
     },
     "execution_count": 522,
     "metadata": {},
     "output_type": "execute_result"
    }
   ],
   "source": [
    "df_sets[df_sets['price'].isnull()].shape"
   ]
  },
  {
   "cell_type": "code",
   "execution_count": 523,
   "id": "1b17a1db",
   "metadata": {},
   "outputs": [],
   "source": [
    "df_sets['price'].fillna(df_sets['price_eur_calc'], inplace=True)"
   ]
  },
  {
   "cell_type": "code",
   "execution_count": 524,
   "id": "05898b26",
   "metadata": {},
   "outputs": [
    {
     "data": {
      "text/plain": [
       "(2994, 18)"
      ]
     },
     "execution_count": 524,
     "metadata": {},
     "output_type": "execute_result"
    }
   ],
   "source": [
    "df_sets[df_sets['price'].isnull()].shape"
   ]
  },
  {
   "cell_type": "code",
   "execution_count": 525,
   "id": "cdb95071",
   "metadata": {},
   "outputs": [
    {
     "data": {
      "text/html": [
       "<div>\n",
       "<style scoped>\n",
       "    .dataframe tbody tr th:only-of-type {\n",
       "        vertical-align: middle;\n",
       "    }\n",
       "\n",
       "    .dataframe tbody tr th {\n",
       "        vertical-align: top;\n",
       "    }\n",
       "\n",
       "    .dataframe thead th {\n",
       "        text-align: right;\n",
       "    }\n",
       "</style>\n",
       "<table border=\"1\" class=\"dataframe\">\n",
       "  <thead>\n",
       "    <tr style=\"text-align: right;\">\n",
       "      <th></th>\n",
       "      <th>number</th>\n",
       "      <th>theme</th>\n",
       "      <th>subtheme</th>\n",
       "      <th>year</th>\n",
       "      <th>set_name</th>\n",
       "      <th>minifigs</th>\n",
       "      <th>pieces</th>\n",
       "      <th>rrp_gbp</th>\n",
       "      <th>price</th>\n",
       "      <th>rrp_eur</th>\n",
       "      <th>value_new</th>\n",
       "      <th>value_used</th>\n",
       "      <th>launch_date</th>\n",
       "      <th>exit_date</th>\n",
       "      <th>numeric_data_nan</th>\n",
       "      <th>category</th>\n",
       "      <th>price_eur_calc</th>\n",
       "      <th>price_gbp_calc</th>\n",
       "    </tr>\n",
       "  </thead>\n",
       "  <tbody>\n",
       "    <tr>\n",
       "      <th>92</th>\n",
       "      <td>5166-1</td>\n",
       "      <td>Service Packs</td>\n",
       "      <td>NaN</td>\n",
       "      <td>1991</td>\n",
       "      <td>Lamp Holders, Tool Holder Plates</td>\n",
       "      <td>NaN</td>\n",
       "      <td>18.00</td>\n",
       "      <td>NaN</td>\n",
       "      <td>NaN</td>\n",
       "      <td>NaN</td>\n",
       "      <td>12.79</td>\n",
       "      <td>NaN</td>\n",
       "      <td>NaN</td>\n",
       "      <td>NaN</td>\n",
       "      <td>False</td>\n",
       "      <td>set</td>\n",
       "      <td>NaN</td>\n",
       "      <td>NaN</td>\n",
       "    </tr>\n",
       "    <tr>\n",
       "      <th>93</th>\n",
       "      <td>5271-1</td>\n",
       "      <td>Service Packs</td>\n",
       "      <td>NaN</td>\n",
       "      <td>1991</td>\n",
       "      <td>Tyres and Hubs 49.6 mm White</td>\n",
       "      <td>NaN</td>\n",
       "      <td>4.00</td>\n",
       "      <td>NaN</td>\n",
       "      <td>NaN</td>\n",
       "      <td>NaN</td>\n",
       "      <td>5.90</td>\n",
       "      <td>NaN</td>\n",
       "      <td>NaN</td>\n",
       "      <td>NaN</td>\n",
       "      <td>False</td>\n",
       "      <td>set</td>\n",
       "      <td>NaN</td>\n",
       "      <td>NaN</td>\n",
       "    </tr>\n",
       "    <tr>\n",
       "      <th>102</th>\n",
       "      <td>6352-1</td>\n",
       "      <td>Town</td>\n",
       "      <td>Vehicles</td>\n",
       "      <td>1991</td>\n",
       "      <td>Cargomaster Crane</td>\n",
       "      <td>1.00</td>\n",
       "      <td>140.00</td>\n",
       "      <td>NaN</td>\n",
       "      <td>NaN</td>\n",
       "      <td>NaN</td>\n",
       "      <td>115.92</td>\n",
       "      <td>24.24</td>\n",
       "      <td>NaN</td>\n",
       "      <td>NaN</td>\n",
       "      <td>False</td>\n",
       "      <td>set</td>\n",
       "      <td>NaN</td>\n",
       "      <td>NaN</td>\n",
       "    </tr>\n",
       "    <tr>\n",
       "      <th>106</th>\n",
       "      <td>6509-1</td>\n",
       "      <td>Town</td>\n",
       "      <td>Racing</td>\n",
       "      <td>1991</td>\n",
       "      <td>Red Devil Racer</td>\n",
       "      <td>1.00</td>\n",
       "      <td>39.00</td>\n",
       "      <td>NaN</td>\n",
       "      <td>NaN</td>\n",
       "      <td>NaN</td>\n",
       "      <td>17.81</td>\n",
       "      <td>5.40</td>\n",
       "      <td>NaN</td>\n",
       "      <td>NaN</td>\n",
       "      <td>False</td>\n",
       "      <td>set</td>\n",
       "      <td>NaN</td>\n",
       "      <td>NaN</td>\n",
       "    </tr>\n",
       "    <tr>\n",
       "      <th>77</th>\n",
       "      <td>5045-1</td>\n",
       "      <td>Service Packs</td>\n",
       "      <td>NaN</td>\n",
       "      <td>1991</td>\n",
       "      <td>Magnets, Magnet Holders</td>\n",
       "      <td>NaN</td>\n",
       "      <td>12.00</td>\n",
       "      <td>NaN</td>\n",
       "      <td>NaN</td>\n",
       "      <td>NaN</td>\n",
       "      <td>31.82</td>\n",
       "      <td>NaN</td>\n",
       "      <td>NaN</td>\n",
       "      <td>NaN</td>\n",
       "      <td>False</td>\n",
       "      <td>set</td>\n",
       "      <td>NaN</td>\n",
       "      <td>NaN</td>\n",
       "    </tr>\n",
       "    <tr>\n",
       "      <th>...</th>\n",
       "      <td>...</td>\n",
       "      <td>...</td>\n",
       "      <td>...</td>\n",
       "      <td>...</td>\n",
       "      <td>...</td>\n",
       "      <td>...</td>\n",
       "      <td>...</td>\n",
       "      <td>...</td>\n",
       "      <td>...</td>\n",
       "      <td>...</td>\n",
       "      <td>...</td>\n",
       "      <td>...</td>\n",
       "      <td>...</td>\n",
       "      <td>...</td>\n",
       "      <td>...</td>\n",
       "      <td>...</td>\n",
       "      <td>...</td>\n",
       "      <td>...</td>\n",
       "    </tr>\n",
       "    <tr>\n",
       "      <th>1324</th>\n",
       "      <td>30570-1</td>\n",
       "      <td>City</td>\n",
       "      <td>Wildlife Rescue</td>\n",
       "      <td>2021</td>\n",
       "      <td>Wildlife Rescue Hovercraft</td>\n",
       "      <td>1.00</td>\n",
       "      <td>35.00</td>\n",
       "      <td>NaN</td>\n",
       "      <td>NaN</td>\n",
       "      <td>NaN</td>\n",
       "      <td>4.89</td>\n",
       "      <td>NaN</td>\n",
       "      <td>01/06/2021</td>\n",
       "      <td>31/12/2022</td>\n",
       "      <td>False</td>\n",
       "      <td>set</td>\n",
       "      <td>NaN</td>\n",
       "      <td>NaN</td>\n",
       "    </tr>\n",
       "    <tr>\n",
       "      <th>1488</th>\n",
       "      <td>43101-13</td>\n",
       "      <td>Vidiyo</td>\n",
       "      <td>Bandmates Series 1</td>\n",
       "      <td>2021</td>\n",
       "      <td>Bandmates Series 1 - Complete</td>\n",
       "      <td>12.00</td>\n",
       "      <td>121.00</td>\n",
       "      <td>NaN</td>\n",
       "      <td>NaN</td>\n",
       "      <td>NaN</td>\n",
       "      <td>NaN</td>\n",
       "      <td>NaN</td>\n",
       "      <td>01/03/2021</td>\n",
       "      <td>31/12/2022</td>\n",
       "      <td>False</td>\n",
       "      <td>set</td>\n",
       "      <td>NaN</td>\n",
       "      <td>NaN</td>\n",
       "    </tr>\n",
       "    <tr>\n",
       "      <th>1396</th>\n",
       "      <td>40502-1</td>\n",
       "      <td>Promotional</td>\n",
       "      <td>LEGO House</td>\n",
       "      <td>2021</td>\n",
       "      <td>The Brick Moulding Machine</td>\n",
       "      <td>NaN</td>\n",
       "      <td>1,205.00</td>\n",
       "      <td>NaN</td>\n",
       "      <td>NaN</td>\n",
       "      <td>NaN</td>\n",
       "      <td>149.38</td>\n",
       "      <td>112.52</td>\n",
       "      <td>01/03/2021</td>\n",
       "      <td>31/12/2022</td>\n",
       "      <td>False</td>\n",
       "      <td>set</td>\n",
       "      <td>NaN</td>\n",
       "      <td>NaN</td>\n",
       "    </tr>\n",
       "    <tr>\n",
       "      <th>1372</th>\n",
       "      <td>40473-1</td>\n",
       "      <td>Promotional</td>\n",
       "      <td>LEGOLAND</td>\n",
       "      <td>2021</td>\n",
       "      <td>Water Park</td>\n",
       "      <td>5.00</td>\n",
       "      <td>359.00</td>\n",
       "      <td>NaN</td>\n",
       "      <td>NaN</td>\n",
       "      <td>NaN</td>\n",
       "      <td>48.52</td>\n",
       "      <td>NaN</td>\n",
       "      <td>01/04/2021</td>\n",
       "      <td>31/12/2021</td>\n",
       "      <td>False</td>\n",
       "      <td>set</td>\n",
       "      <td>NaN</td>\n",
       "      <td>NaN</td>\n",
       "    </tr>\n",
       "    <tr>\n",
       "      <th>2103</th>\n",
       "      <td>6410426-1</td>\n",
       "      <td>Promotional</td>\n",
       "      <td>LEGO Brand Store Opening Set</td>\n",
       "      <td>2021</td>\n",
       "      <td>Mall of Berlin brand store associate figure</td>\n",
       "      <td>NaN</td>\n",
       "      <td>129.00</td>\n",
       "      <td>NaN</td>\n",
       "      <td>NaN</td>\n",
       "      <td>NaN</td>\n",
       "      <td>103.66</td>\n",
       "      <td>NaN</td>\n",
       "      <td>NaN</td>\n",
       "      <td>NaN</td>\n",
       "      <td>False</td>\n",
       "      <td>set</td>\n",
       "      <td>NaN</td>\n",
       "      <td>NaN</td>\n",
       "    </tr>\n",
       "  </tbody>\n",
       "</table>\n",
       "<p>2994 rows × 18 columns</p>\n",
       "</div>"
      ],
      "text/plain": [
       "         number          theme                      subtheme  year  \\\n",
       "92       5166-1  Service Packs                           NaN  1991   \n",
       "93       5271-1  Service Packs                           NaN  1991   \n",
       "102      6352-1           Town                      Vehicles  1991   \n",
       "106      6509-1           Town                        Racing  1991   \n",
       "77       5045-1  Service Packs                           NaN  1991   \n",
       "...         ...            ...                           ...   ...   \n",
       "1324    30570-1           City               Wildlife Rescue  2021   \n",
       "1488   43101-13         Vidiyo            Bandmates Series 1  2021   \n",
       "1396    40502-1    Promotional                    LEGO House  2021   \n",
       "1372    40473-1    Promotional                      LEGOLAND  2021   \n",
       "2103  6410426-1    Promotional  LEGO Brand Store Opening Set  2021   \n",
       "\n",
       "                                         set_name  minifigs   pieces  rrp_gbp  \\\n",
       "92               Lamp Holders, Tool Holder Plates       NaN    18.00      NaN   \n",
       "93                   Tyres and Hubs 49.6 mm White       NaN     4.00      NaN   \n",
       "102                             Cargomaster Crane      1.00   140.00      NaN   \n",
       "106                               Red Devil Racer      1.00    39.00      NaN   \n",
       "77                        Magnets, Magnet Holders       NaN    12.00      NaN   \n",
       "...                                           ...       ...      ...      ...   \n",
       "1324                   Wildlife Rescue Hovercraft      1.00    35.00      NaN   \n",
       "1488                Bandmates Series 1 - Complete     12.00   121.00      NaN   \n",
       "1396                   The Brick Moulding Machine       NaN 1,205.00      NaN   \n",
       "1372                                   Water Park      5.00   359.00      NaN   \n",
       "2103  Mall of Berlin brand store associate figure       NaN   129.00      NaN   \n",
       "\n",
       "      price  rrp_eur  value_new  value_used launch_date   exit_date  \\\n",
       "92      NaN      NaN      12.79         NaN         NaN         NaN   \n",
       "93      NaN      NaN       5.90         NaN         NaN         NaN   \n",
       "102     NaN      NaN     115.92       24.24         NaN         NaN   \n",
       "106     NaN      NaN      17.81        5.40         NaN         NaN   \n",
       "77      NaN      NaN      31.82         NaN         NaN         NaN   \n",
       "...     ...      ...        ...         ...         ...         ...   \n",
       "1324    NaN      NaN       4.89         NaN  01/06/2021  31/12/2022   \n",
       "1488    NaN      NaN        NaN         NaN  01/03/2021  31/12/2022   \n",
       "1396    NaN      NaN     149.38      112.52  01/03/2021  31/12/2022   \n",
       "1372    NaN      NaN      48.52         NaN  01/04/2021  31/12/2021   \n",
       "2103    NaN      NaN     103.66         NaN         NaN         NaN   \n",
       "\n",
       "      numeric_data_nan category  price_eur_calc  price_gbp_calc  \n",
       "92               False      set             NaN             NaN  \n",
       "93               False      set             NaN             NaN  \n",
       "102              False      set             NaN             NaN  \n",
       "106              False      set             NaN             NaN  \n",
       "77               False      set             NaN             NaN  \n",
       "...                ...      ...             ...             ...  \n",
       "1324             False      set             NaN             NaN  \n",
       "1488             False      set             NaN             NaN  \n",
       "1396             False      set             NaN             NaN  \n",
       "1372             False      set             NaN             NaN  \n",
       "2103             False      set             NaN             NaN  \n",
       "\n",
       "[2994 rows x 18 columns]"
      ]
     },
     "execution_count": 525,
     "metadata": {},
     "output_type": "execute_result"
    }
   ],
   "source": [
    "df_sets[df_sets['price'].isnull()]"
   ]
  },
  {
   "cell_type": "code",
   "execution_count": 526,
   "id": "15078332",
   "metadata": {},
   "outputs": [
    {
     "data": {
      "text/plain": [
       "Index(['number', 'theme', 'subtheme', 'year', 'set_name', 'minifigs', 'pieces',\n",
       "       'rrp_gbp', 'price', 'rrp_eur', 'value_new', 'value_used', 'launch_date',\n",
       "       'exit_date', 'numeric_data_nan', 'category', 'price_eur_calc',\n",
       "       'price_gbp_calc'],\n",
       "      dtype='object')"
      ]
     },
     "execution_count": 526,
     "metadata": {},
     "output_type": "execute_result"
    }
   ],
   "source": [
    "df_sets_price = df_sets[df_sets['price'].notnull()]\n",
    "df_sets_price.columns\n"
   ]
  },
  {
   "cell_type": "code",
   "execution_count": 528,
   "id": "b03d33ec",
   "metadata": {},
   "outputs": [],
   "source": [
    "df_sets_price = df_sets_price.drop(['rrp_eur','price_gbp_calc', 'rrp_gbp', 'price_eur_calc'], axis = \"columns\")\n",
    "df_sets = df_sets.drop(['rrp_eur','price_gbp_calc', 'rrp_gbp', 'price_eur_calc'], axis = \"columns\")"
   ]
  },
  {
   "cell_type": "code",
   "execution_count": 537,
   "id": "30eca4d1",
   "metadata": {},
   "outputs": [],
   "source": [
    "df_sets_price = df_sets_price.sort_values(\"year\").reset_index(drop = True)\n",
    "df_sets = df_sets.sort_values(\"year\").reset_index(drop = True)"
   ]
  },
  {
   "cell_type": "code",
   "execution_count": 538,
   "id": "376c7100",
   "metadata": {},
   "outputs": [
    {
     "data": {
      "text/html": [
       "<div>\n",
       "<style scoped>\n",
       "    .dataframe tbody tr th:only-of-type {\n",
       "        vertical-align: middle;\n",
       "    }\n",
       "\n",
       "    .dataframe tbody tr th {\n",
       "        vertical-align: top;\n",
       "    }\n",
       "\n",
       "    .dataframe thead th {\n",
       "        text-align: right;\n",
       "    }\n",
       "</style>\n",
       "<table border=\"1\" class=\"dataframe\">\n",
       "  <thead>\n",
       "    <tr style=\"text-align: right;\">\n",
       "      <th></th>\n",
       "      <th>number</th>\n",
       "      <th>theme</th>\n",
       "      <th>subtheme</th>\n",
       "      <th>year</th>\n",
       "      <th>set_name</th>\n",
       "      <th>minifigs</th>\n",
       "      <th>pieces</th>\n",
       "      <th>price</th>\n",
       "      <th>value_new</th>\n",
       "      <th>value_used</th>\n",
       "      <th>launch_date</th>\n",
       "      <th>exit_date</th>\n",
       "      <th>numeric_data_nan</th>\n",
       "      <th>category</th>\n",
       "    </tr>\n",
       "  </thead>\n",
       "  <tbody>\n",
       "    <tr>\n",
       "      <th>0</th>\n",
       "      <td>819-1</td>\n",
       "      <td>Basic</td>\n",
       "      <td>Supplementaries</td>\n",
       "      <td>1991</td>\n",
       "      <td>Blue baseplate</td>\n",
       "      <td>NaN</td>\n",
       "      <td>1.00</td>\n",
       "      <td>5.50</td>\n",
       "      <td>6.26</td>\n",
       "      <td>NaN</td>\n",
       "      <td>NaN</td>\n",
       "      <td>NaN</td>\n",
       "      <td>False</td>\n",
       "      <td>set</td>\n",
       "    </tr>\n",
       "    <tr>\n",
       "      <th>1</th>\n",
       "      <td>1040-1</td>\n",
       "      <td>Dacta</td>\n",
       "      <td>NaN</td>\n",
       "      <td>1991</td>\n",
       "      <td>Farm</td>\n",
       "      <td>4.00</td>\n",
       "      <td>89.00</td>\n",
       "      <td>NaN</td>\n",
       "      <td>NaN</td>\n",
       "      <td>NaN</td>\n",
       "      <td>NaN</td>\n",
       "      <td>NaN</td>\n",
       "      <td>False</td>\n",
       "      <td>set</td>\n",
       "    </tr>\n",
       "    <tr>\n",
       "      <th>2</th>\n",
       "      <td>1474-1</td>\n",
       "      <td>Basic</td>\n",
       "      <td>Universal Building Set</td>\n",
       "      <td>1991</td>\n",
       "      <td>Basic Building Set with Gift Item</td>\n",
       "      <td>1.00</td>\n",
       "      <td>69.00</td>\n",
       "      <td>NaN</td>\n",
       "      <td>24.64</td>\n",
       "      <td>NaN</td>\n",
       "      <td>NaN</td>\n",
       "      <td>NaN</td>\n",
       "      <td>False</td>\n",
       "      <td>set</td>\n",
       "    </tr>\n",
       "    <tr>\n",
       "      <th>3</th>\n",
       "      <td>1475-1</td>\n",
       "      <td>Town</td>\n",
       "      <td>Flight</td>\n",
       "      <td>1991</td>\n",
       "      <td>Airport Security Squad</td>\n",
       "      <td>2.00</td>\n",
       "      <td>123.00</td>\n",
       "      <td>10.00</td>\n",
       "      <td>165.90</td>\n",
       "      <td>49.80</td>\n",
       "      <td>NaN</td>\n",
       "      <td>NaN</td>\n",
       "      <td>False</td>\n",
       "      <td>set</td>\n",
       "    </tr>\n",
       "    <tr>\n",
       "      <th>4</th>\n",
       "      <td>1476-1</td>\n",
       "      <td>Assorted</td>\n",
       "      <td>Bonus/Value Pack</td>\n",
       "      <td>1991</td>\n",
       "      <td>Five Set Bonus Pack</td>\n",
       "      <td>NaN</td>\n",
       "      <td>158.00</td>\n",
       "      <td>NaN</td>\n",
       "      <td>450.00</td>\n",
       "      <td>100.00</td>\n",
       "      <td>NaN</td>\n",
       "      <td>NaN</td>\n",
       "      <td>False</td>\n",
       "      <td>set</td>\n",
       "    </tr>\n",
       "  </tbody>\n",
       "</table>\n",
       "</div>"
      ],
      "text/plain": [
       "   number     theme                subtheme  year  \\\n",
       "0   819-1     Basic         Supplementaries  1991   \n",
       "1  1040-1     Dacta                     NaN  1991   \n",
       "2  1474-1     Basic  Universal Building Set  1991   \n",
       "3  1475-1      Town                  Flight  1991   \n",
       "4  1476-1  Assorted        Bonus/Value Pack  1991   \n",
       "\n",
       "                            set_name  minifigs  pieces  price  value_new  \\\n",
       "0                     Blue baseplate       NaN    1.00   5.50       6.26   \n",
       "1                               Farm      4.00   89.00    NaN        NaN   \n",
       "2  Basic Building Set with Gift Item      1.00   69.00    NaN      24.64   \n",
       "3             Airport Security Squad      2.00  123.00  10.00     165.90   \n",
       "4                Five Set Bonus Pack       NaN  158.00    NaN     450.00   \n",
       "\n",
       "   value_used launch_date exit_date  numeric_data_nan category  \n",
       "0         NaN         NaN       NaN             False      set  \n",
       "1         NaN         NaN       NaN             False      set  \n",
       "2         NaN         NaN       NaN             False      set  \n",
       "3       49.80         NaN       NaN             False      set  \n",
       "4      100.00         NaN       NaN             False      set  "
      ]
     },
     "execution_count": 538,
     "metadata": {},
     "output_type": "execute_result"
    }
   ],
   "source": [
    "df_sets.head()"
   ]
  },
  {
   "cell_type": "code",
   "execution_count": 539,
   "id": "593f42ee",
   "metadata": {},
   "outputs": [
    {
     "data": {
      "text/html": [
       "<div>\n",
       "<style scoped>\n",
       "    .dataframe tbody tr th:only-of-type {\n",
       "        vertical-align: middle;\n",
       "    }\n",
       "\n",
       "    .dataframe tbody tr th {\n",
       "        vertical-align: top;\n",
       "    }\n",
       "\n",
       "    .dataframe thead th {\n",
       "        text-align: right;\n",
       "    }\n",
       "</style>\n",
       "<table border=\"1\" class=\"dataframe\">\n",
       "  <thead>\n",
       "    <tr style=\"text-align: right;\">\n",
       "      <th></th>\n",
       "      <th>number</th>\n",
       "      <th>theme</th>\n",
       "      <th>subtheme</th>\n",
       "      <th>year</th>\n",
       "      <th>set_name</th>\n",
       "      <th>minifigs</th>\n",
       "      <th>pieces</th>\n",
       "      <th>price</th>\n",
       "      <th>value_new</th>\n",
       "      <th>value_used</th>\n",
       "      <th>launch_date</th>\n",
       "      <th>exit_date</th>\n",
       "      <th>numeric_data_nan</th>\n",
       "      <th>category</th>\n",
       "    </tr>\n",
       "  </thead>\n",
       "  <tbody>\n",
       "    <tr>\n",
       "      <th>0</th>\n",
       "      <td>819-1</td>\n",
       "      <td>Basic</td>\n",
       "      <td>Supplementaries</td>\n",
       "      <td>1991</td>\n",
       "      <td>Blue baseplate</td>\n",
       "      <td>NaN</td>\n",
       "      <td>1.00</td>\n",
       "      <td>5.50</td>\n",
       "      <td>6.26</td>\n",
       "      <td>NaN</td>\n",
       "      <td>NaN</td>\n",
       "      <td>NaN</td>\n",
       "      <td>False</td>\n",
       "      <td>set</td>\n",
       "    </tr>\n",
       "    <tr>\n",
       "      <th>1</th>\n",
       "      <td>2306-1</td>\n",
       "      <td>Duplo</td>\n",
       "      <td>NaN</td>\n",
       "      <td>1991</td>\n",
       "      <td>Large Red Building Plate</td>\n",
       "      <td>NaN</td>\n",
       "      <td>1.00</td>\n",
       "      <td>12.00</td>\n",
       "      <td>NaN</td>\n",
       "      <td>5.61</td>\n",
       "      <td>NaN</td>\n",
       "      <td>NaN</td>\n",
       "      <td>False</td>\n",
       "      <td>set</td>\n",
       "    </tr>\n",
       "    <tr>\n",
       "      <th>2</th>\n",
       "      <td>6646-1</td>\n",
       "      <td>Town</td>\n",
       "      <td>Racing</td>\n",
       "      <td>1991</td>\n",
       "      <td>Screaming Patriot</td>\n",
       "      <td>1.00</td>\n",
       "      <td>65.00</td>\n",
       "      <td>6.75</td>\n",
       "      <td>68.99</td>\n",
       "      <td>9.93</td>\n",
       "      <td>NaN</td>\n",
       "      <td>NaN</td>\n",
       "      <td>False</td>\n",
       "      <td>set</td>\n",
       "    </tr>\n",
       "    <tr>\n",
       "      <th>3</th>\n",
       "      <td>6887-1</td>\n",
       "      <td>Space</td>\n",
       "      <td>Blacktron 2</td>\n",
       "      <td>1991</td>\n",
       "      <td>Allied Avenger</td>\n",
       "      <td>1.00</td>\n",
       "      <td>100.00</td>\n",
       "      <td>7.93</td>\n",
       "      <td>250.00</td>\n",
       "      <td>39.96</td>\n",
       "      <td>NaN</td>\n",
       "      <td>NaN</td>\n",
       "      <td>False</td>\n",
       "      <td>set</td>\n",
       "    </tr>\n",
       "    <tr>\n",
       "      <th>4</th>\n",
       "      <td>6669-1</td>\n",
       "      <td>Town</td>\n",
       "      <td>Vehicles</td>\n",
       "      <td>1991</td>\n",
       "      <td>Diesel Daredevil</td>\n",
       "      <td>1.00</td>\n",
       "      <td>90.00</td>\n",
       "      <td>8.75</td>\n",
       "      <td>39.40</td>\n",
       "      <td>12.37</td>\n",
       "      <td>NaN</td>\n",
       "      <td>NaN</td>\n",
       "      <td>False</td>\n",
       "      <td>set</td>\n",
       "    </tr>\n",
       "  </tbody>\n",
       "</table>\n",
       "</div>"
      ],
      "text/plain": [
       "   number  theme         subtheme  year                  set_name  minifigs  \\\n",
       "0   819-1  Basic  Supplementaries  1991            Blue baseplate       NaN   \n",
       "1  2306-1  Duplo              NaN  1991  Large Red Building Plate       NaN   \n",
       "2  6646-1   Town           Racing  1991         Screaming Patriot      1.00   \n",
       "3  6887-1  Space      Blacktron 2  1991            Allied Avenger      1.00   \n",
       "4  6669-1   Town         Vehicles  1991          Diesel Daredevil      1.00   \n",
       "\n",
       "   pieces  price  value_new  value_used launch_date exit_date  \\\n",
       "0    1.00   5.50       6.26         NaN         NaN       NaN   \n",
       "1    1.00  12.00        NaN        5.61         NaN       NaN   \n",
       "2   65.00   6.75      68.99        9.93         NaN       NaN   \n",
       "3  100.00   7.93     250.00       39.96         NaN       NaN   \n",
       "4   90.00   8.75      39.40       12.37         NaN       NaN   \n",
       "\n",
       "   numeric_data_nan category  \n",
       "0             False      set  \n",
       "1             False      set  \n",
       "2             False      set  \n",
       "3             False      set  \n",
       "4             False      set  "
      ]
     },
     "execution_count": 539,
     "metadata": {},
     "output_type": "execute_result"
    }
   ],
   "source": [
    "df_sets_price.head()"
   ]
  },
  {
   "cell_type": "markdown",
   "id": "71039617",
   "metadata": {},
   "source": [
    "### Further preparation steps for predictive analysis"
   ]
  },
  {
   "cell_type": "code",
   "execution_count": null,
   "id": "a7d0d890",
   "metadata": {},
   "outputs": [],
   "source": []
  },
  {
   "cell_type": "markdown",
   "id": "31e71802",
   "metadata": {},
   "source": [
    "## 4. Analysis"
   ]
  },
  {
   "cell_type": "markdown",
   "id": "8130051a",
   "metadata": {},
   "source": [
    "### A) Exporatory Analysis\n",
    "#### What themes are most dominant over the years by number of sets?\n"
   ]
  },
  {
   "cell_type": "code",
   "execution_count": 540,
   "id": "1aa45c1d",
   "metadata": {},
   "outputs": [
    {
     "data": {
      "text/html": [
       "<div>\n",
       "<style scoped>\n",
       "    .dataframe tbody tr th:only-of-type {\n",
       "        vertical-align: middle;\n",
       "    }\n",
       "\n",
       "    .dataframe tbody tr th {\n",
       "        vertical-align: top;\n",
       "    }\n",
       "\n",
       "    .dataframe thead th {\n",
       "        text-align: right;\n",
       "    }\n",
       "</style>\n",
       "<table border=\"1\" class=\"dataframe\">\n",
       "  <thead>\n",
       "    <tr style=\"text-align: right;\">\n",
       "      <th></th>\n",
       "      <th>year</th>\n",
       "      <th>theme</th>\n",
       "      <th>number</th>\n",
       "    </tr>\n",
       "  </thead>\n",
       "  <tbody>\n",
       "    <tr>\n",
       "      <th>0</th>\n",
       "      <td>1991</td>\n",
       "      <td>Duplo</td>\n",
       "      <td>36</td>\n",
       "    </tr>\n",
       "    <tr>\n",
       "      <th>1</th>\n",
       "      <td>1991</td>\n",
       "      <td>Service Packs</td>\n",
       "      <td>22</td>\n",
       "    </tr>\n",
       "    <tr>\n",
       "      <th>2</th>\n",
       "      <td>1991</td>\n",
       "      <td>Town</td>\n",
       "      <td>22</td>\n",
       "    </tr>\n",
       "    <tr>\n",
       "      <th>3</th>\n",
       "      <td>1991</td>\n",
       "      <td>Space</td>\n",
       "      <td>13</td>\n",
       "    </tr>\n",
       "    <tr>\n",
       "      <th>4</th>\n",
       "      <td>1991</td>\n",
       "      <td>Trains</td>\n",
       "      <td>12</td>\n",
       "    </tr>\n",
       "  </tbody>\n",
       "</table>\n",
       "</div>"
      ],
      "text/plain": [
       "   year          theme  number\n",
       "0  1991          Duplo      36\n",
       "1  1991  Service Packs      22\n",
       "2  1991           Town      22\n",
       "3  1991          Space      13\n",
       "4  1991         Trains      12"
      ]
     },
     "execution_count": 540,
     "metadata": {},
     "output_type": "execute_result"
    }
   ],
   "source": [
    "df_temp = df_sets.groupby(by = [\"year\",\"theme\"]).count().sort_values(by =[\"year\", \"number\"], ascending = (True, False))\n",
    "df_1 = pd.DataFrame(df_temp[\"number\"])\n",
    "df_1.reset_index(inplace = True);\n",
    "df_1.head()"
   ]
  },
  {
   "cell_type": "code",
   "execution_count": 541,
   "id": "a8c64b41",
   "metadata": {},
   "outputs": [
    {
     "data": {
      "application/vnd.plotly.v1+json": {
       "config": {
        "plotlyServerURL": "https://plot.ly"
       },
       "data": [
        {
         "hovertemplate": "theme=%{y}<br>year=%{x}<br>number=%{marker.size}<extra></extra>",
         "legendgroup": "Duplo",
         "marker": {
          "color": "#636efa",
          "size": [
           36,
           17,
           31,
           38,
           37,
           37,
           32,
           38,
           36,
           31,
           54,
           6,
           1,
           27,
           45,
           35,
           34,
           30,
           30,
           33,
           32,
           36,
           34,
           39,
           42,
           38,
           35,
           31,
           22,
           23,
           22
          ],
          "sizemode": "area",
          "sizeref": 0.17,
          "symbol": "circle"
         },
         "mode": "markers+lines",
         "name": "Duplo",
         "orientation": "h",
         "showlegend": true,
         "textfont": {
          "size": 3
         },
         "type": "scatter",
         "x": [
          1991,
          1992,
          1993,
          1994,
          1995,
          1996,
          1997,
          1998,
          1999,
          2000,
          2001,
          2002,
          2003,
          2004,
          2005,
          2006,
          2007,
          2008,
          2009,
          2010,
          2011,
          2012,
          2013,
          2014,
          2015,
          2016,
          2017,
          2018,
          2019,
          2020,
          2021
         ],
         "xaxis": "x",
         "y": [
          "Duplo",
          "Duplo",
          "Duplo",
          "Duplo",
          "Duplo",
          "Duplo",
          "Duplo",
          "Duplo",
          "Duplo",
          "Duplo",
          "Duplo",
          "Duplo",
          "Duplo",
          "Duplo",
          "Duplo",
          "Duplo",
          "Duplo",
          "Duplo",
          "Duplo",
          "Duplo",
          "Duplo",
          "Duplo",
          "Duplo",
          "Duplo",
          "Duplo",
          "Duplo",
          "Duplo",
          "Duplo",
          "Duplo",
          "Duplo",
          "Duplo"
         ],
         "yaxis": "y"
        },
        {
         "hovertemplate": "theme=%{y}<br>year=%{x}<br>number=%{marker.size}<extra></extra>",
         "legendgroup": "Service Packs",
         "marker": {
          "color": "#EF553B",
          "size": [
           22,
           12,
           31,
           17,
           13,
           36,
           11,
           21,
           21
          ],
          "sizemode": "area",
          "sizeref": 0.17,
          "symbol": "circle"
         },
         "mode": "markers+lines",
         "name": "Service Packs",
         "orientation": "h",
         "showlegend": true,
         "textfont": {
          "size": 3
         },
         "type": "scatter",
         "x": [
          1991,
          1992,
          1993,
          1994,
          1995,
          1996,
          1997,
          1998,
          1999
         ],
         "xaxis": "x",
         "y": [
          "Service Packs",
          "Service Packs",
          "Service Packs",
          "Service Packs",
          "Service Packs",
          "Service Packs",
          "Service Packs",
          "Service Packs",
          "Service Packs"
         ],
         "yaxis": "y"
        },
        {
         "hovertemplate": "theme=%{y}<br>year=%{x}<br>number=%{marker.size}<extra></extra>",
         "legendgroup": "Town",
         "marker": {
          "color": "#00cc96",
          "size": [
           22,
           27,
           23,
           29,
           21,
           23,
           47,
           62,
           62,
           43,
           2,
           8,
           1,
           2
          ],
          "sizemode": "area",
          "sizeref": 0.17,
          "symbol": "circle"
         },
         "mode": "markers+lines",
         "name": "Town",
         "orientation": "h",
         "showlegend": true,
         "textfont": {
          "size": 3
         },
         "type": "scatter",
         "x": [
          1991,
          1992,
          1993,
          1994,
          1995,
          1996,
          1997,
          1998,
          1999,
          2000,
          2001,
          2002,
          2003,
          2004
         ],
         "xaxis": "x",
         "y": [
          "Town",
          "Town",
          "Town",
          "Town",
          "Town",
          "Town",
          "Town",
          "Town",
          "Town",
          "Town",
          "Town",
          "Town",
          "Town",
          "Town"
         ],
         "yaxis": "y"
        },
        {
         "hovertemplate": "theme=%{y}<br>year=%{x}<br>number=%{marker.size}<extra></extra>",
         "legendgroup": "Space",
         "marker": {
          "color": "#ab63fa",
          "size": [
           13,
           6,
           12,
           10,
           6,
           9,
           17,
           21,
           6,
           24,
           8,
           9,
           10,
           5,
           10,
           12,
           1,
           1
          ],
          "sizemode": "area",
          "sizeref": 0.17,
          "symbol": "circle"
         },
         "mode": "markers+lines",
         "name": "Space",
         "orientation": "h",
         "showlegend": true,
         "textfont": {
          "size": 3
         },
         "type": "scatter",
         "x": [
          1991,
          1992,
          1993,
          1994,
          1995,
          1996,
          1997,
          1998,
          1999,
          2001,
          2007,
          2008,
          2009,
          2010,
          2011,
          2013,
          2014,
          2015
         ],
         "xaxis": "x",
         "y": [
          "Space",
          "Space",
          "Space",
          "Space",
          "Space",
          "Space",
          "Space",
          "Space",
          "Space",
          "Space",
          "Space",
          "Space",
          "Space",
          "Space",
          "Space",
          "Space",
          "Space",
          "Space"
         ],
         "yaxis": "y"
        },
        {
         "hovertemplate": "theme=%{y}<br>year=%{x}<br>number=%{marker.size}<extra></extra>",
         "legendgroup": "Trains",
         "marker": {
          "color": "#FFA15A",
          "size": [
           12,
           3,
           3,
           2,
           4,
           1,
           2,
           8,
           16,
           10,
           1,
           1,
           2,
           1,
           1
          ],
          "sizemode": "area",
          "sizeref": 0.17,
          "symbol": "circle"
         },
         "mode": "markers+lines",
         "name": "Trains",
         "orientation": "h",
         "showlegend": true,
         "textfont": {
          "size": 3
         },
         "type": "scatter",
         "x": [
          1991,
          1993,
          1994,
          1995,
          1996,
          1997,
          1998,
          1999,
          2001,
          2002,
          2003,
          2004,
          2005,
          2006,
          2007
         ],
         "xaxis": "x",
         "y": [
          "Trains",
          "Trains",
          "Trains",
          "Trains",
          "Trains",
          "Trains",
          "Trains",
          "Trains",
          "Trains",
          "Trains",
          "Trains",
          "Trains",
          "Trains",
          "Trains",
          "Trains"
         ],
         "yaxis": "y"
        },
        {
         "hovertemplate": "theme=%{y}<br>year=%{x}<br>number=%{marker.size}<extra></extra>",
         "legendgroup": "Basic",
         "marker": {
          "color": "#19d3f3",
          "size": [
           11,
           13,
           10,
           11,
           10,
           24,
           33,
           40,
           14,
           13,
           2,
           1,
           1
          ],
          "sizemode": "area",
          "sizeref": 0.17,
          "symbol": "circle"
         },
         "mode": "markers+lines",
         "name": "Basic",
         "orientation": "h",
         "showlegend": true,
         "textfont": {
          "size": 3
         },
         "type": "scatter",
         "x": [
          1991,
          1992,
          1993,
          1994,
          1995,
          1996,
          1997,
          1998,
          1999,
          2000,
          2001,
          2002,
          2003
         ],
         "xaxis": "x",
         "y": [
          "Basic",
          "Basic",
          "Basic",
          "Basic",
          "Basic",
          "Basic",
          "Basic",
          "Basic",
          "Basic",
          "Basic",
          "Basic",
          "Basic",
          "Basic"
         ],
         "yaxis": "y"
        },
        {
         "hovertemplate": "theme=%{y}<br>year=%{x}<br>number=%{marker.size}<extra></extra>",
         "legendgroup": "Dacta",
         "marker": {
          "color": "#FF6692",
          "size": [
           7,
           6,
           9,
           2,
           12,
           5,
           9,
           18,
           1,
           1
          ],
          "sizemode": "area",
          "sizeref": 0.17,
          "symbol": "circle"
         },
         "mode": "markers+lines",
         "name": "Dacta",
         "orientation": "h",
         "showlegend": true,
         "textfont": {
          "size": 3
         },
         "type": "scatter",
         "x": [
          1991,
          1992,
          1993,
          1994,
          1995,
          1996,
          1997,
          1998,
          2002,
          2003
         ],
         "xaxis": "x",
         "y": [
          "Dacta",
          "Dacta",
          "Dacta",
          "Dacta",
          "Dacta",
          "Dacta",
          "Dacta",
          "Dacta",
          "Dacta",
          "Dacta"
         ],
         "yaxis": "y"
        },
        {
         "hovertemplate": "theme=%{y}<br>year=%{x}<br>number=%{marker.size}<extra></extra>",
         "legendgroup": "Technic",
         "marker": {
          "color": "#B6E880",
          "size": [
           6,
           6,
           8,
           8,
           9,
           10,
           14,
           27,
           33,
           34,
           9,
           3,
           6,
           5,
           6,
           8,
           6,
           8,
           11,
           11,
           11,
           10,
           12,
           11,
           13,
           12,
           13,
           14,
           14,
           14,
           15
          ],
          "sizemode": "area",
          "sizeref": 0.17,
          "symbol": "circle"
         },
         "mode": "markers+lines",
         "name": "Technic",
         "orientation": "h",
         "showlegend": true,
         "textfont": {
          "size": 3
         },
         "type": "scatter",
         "x": [
          1991,
          1992,
          1993,
          1994,
          1995,
          1996,
          1997,
          1998,
          1999,
          2000,
          2001,
          2002,
          2003,
          2004,
          2005,
          2006,
          2007,
          2008,
          2009,
          2010,
          2011,
          2012,
          2013,
          2014,
          2015,
          2016,
          2017,
          2018,
          2019,
          2020,
          2021
         ],
         "xaxis": "x",
         "y": [
          "Technic",
          "Technic",
          "Technic",
          "Technic",
          "Technic",
          "Technic",
          "Technic",
          "Technic",
          "Technic",
          "Technic",
          "Technic",
          "Technic",
          "Technic",
          "Technic",
          "Technic",
          "Technic",
          "Technic",
          "Technic",
          "Technic",
          "Technic",
          "Technic",
          "Technic",
          "Technic",
          "Technic",
          "Technic",
          "Technic",
          "Technic",
          "Technic",
          "Technic",
          "Technic",
          "Technic"
         ],
         "yaxis": "y"
        },
        {
         "hovertemplate": "theme=%{y}<br>year=%{x}<br>number=%{marker.size}<extra></extra>",
         "legendgroup": "Pirates",
         "marker": {
          "color": "#FF97FF",
          "size": [
           5,
           9,
           6,
           13,
           4,
           8,
           4,
           3,
           1,
           11,
           1,
           7
          ],
          "sizemode": "area",
          "sizeref": 0.17,
          "symbol": "circle"
         },
         "mode": "markers+lines",
         "name": "Pirates",
         "orientation": "h",
         "showlegend": true,
         "textfont": {
          "size": 3
         },
         "type": "scatter",
         "x": [
          1991,
          1992,
          1993,
          1994,
          1995,
          1996,
          1997,
          2001,
          2002,
          2009,
          2013,
          2015
         ],
         "xaxis": "x",
         "y": [
          "Pirates",
          "Pirates",
          "Pirates",
          "Pirates",
          "Pirates",
          "Pirates",
          "Pirates",
          "Pirates",
          "Pirates",
          "Pirates",
          "Pirates",
          "Pirates"
         ],
         "yaxis": "y"
        },
        {
         "hovertemplate": "theme=%{y}<br>year=%{x}<br>number=%{marker.size}<extra></extra>",
         "legendgroup": "Boats",
         "marker": {
          "color": "#FECB52",
          "size": [
           3,
           3
          ],
          "sizemode": "area",
          "sizeref": 0.17,
          "symbol": "circle"
         },
         "mode": "markers+lines",
         "name": "Boats",
         "orientation": "h",
         "showlegend": true,
         "textfont": {
          "size": 3
         },
         "type": "scatter",
         "x": [
          1991,
          1996
         ],
         "xaxis": "x",
         "y": [
          "Boats",
          "Boats"
         ],
         "yaxis": "y"
        },
        {
         "hovertemplate": "theme=%{y}<br>year=%{x}<br>number=%{marker.size}<extra></extra>",
         "legendgroup": "Assorted",
         "marker": {
          "color": "#636efa",
          "size": [
           1,
           1,
           1,
           3,
           1,
           1
          ],
          "sizemode": "area",
          "sizeref": 0.17,
          "symbol": "circle"
         },
         "mode": "markers+lines",
         "name": "Assorted",
         "orientation": "h",
         "showlegend": true,
         "textfont": {
          "size": 3
         },
         "type": "scatter",
         "x": [
          1991,
          1992,
          1993,
          1994,
          1995,
          1996
         ],
         "xaxis": "x",
         "y": [
          "Assorted",
          "Assorted",
          "Assorted",
          "Assorted",
          "Assorted",
          "Assorted"
         ],
         "yaxis": "y"
        },
        {
         "hovertemplate": "theme=%{y}<br>year=%{x}<br>number=%{marker.size}<extra></extra>",
         "legendgroup": "Books",
         "marker": {
          "color": "#EF553B",
          "size": [
           1,
           1,
           3
          ],
          "sizemode": "area",
          "sizeref": 0.17,
          "symbol": "circle"
         },
         "mode": "markers+lines",
         "name": "Books",
         "orientation": "h",
         "showlegend": true,
         "textfont": {
          "size": 3
         },
         "type": "scatter",
         "x": [
          1991,
          1997,
          2000
         ],
         "xaxis": "x",
         "y": [
          "Books",
          "Books",
          "Books"
         ],
         "yaxis": "y"
        },
        {
         "hovertemplate": "theme=%{y}<br>year=%{x}<br>number=%{marker.size}<extra></extra>",
         "legendgroup": "Castle",
         "marker": {
          "color": "#00cc96",
          "size": [
           1,
           9,
           14,
           4,
           7,
           6,
           12,
           20,
           15,
           22,
           1,
           2,
           24,
           30,
           11,
           8,
           13,
           6,
           12,
           4,
           1,
           5,
           2,
           1
          ],
          "sizemode": "area",
          "sizeref": 0.17,
          "symbol": "circle"
         },
         "mode": "markers+lines",
         "name": "Castle",
         "orientation": "h",
         "showlegend": true,
         "textfont": {
          "size": 3
         },
         "type": "scatter",
         "x": [
          1991,
          1992,
          1993,
          1994,
          1995,
          1996,
          1997,
          1998,
          1999,
          2000,
          2001,
          2002,
          2004,
          2005,
          2006,
          2007,
          2008,
          2009,
          2010,
          2011,
          2012,
          2013,
          2014,
          2016
         ],
         "xaxis": "x",
         "y": [
          "Castle",
          "Castle",
          "Castle",
          "Castle",
          "Castle",
          "Castle",
          "Castle",
          "Castle",
          "Castle",
          "Castle",
          "Castle",
          "Castle",
          "Castle",
          "Castle",
          "Castle",
          "Castle",
          "Castle",
          "Castle",
          "Castle",
          "Castle",
          "Castle",
          "Castle",
          "Castle",
          "Castle"
         ],
         "yaxis": "y"
        },
        {
         "hovertemplate": "theme=%{y}<br>year=%{x}<br>number=%{marker.size}<extra></extra>",
         "legendgroup": "Model Team",
         "marker": {
          "color": "#ab63fa",
          "size": [
           1,
           2,
           1,
           1,
           1,
           1,
           2,
           2,
           1
          ],
          "sizemode": "area",
          "sizeref": 0.17,
          "symbol": "circle"
         },
         "mode": "markers+lines",
         "name": "Model Team",
         "orientation": "h",
         "showlegend": true,
         "textfont": {
          "size": 3
         },
         "type": "scatter",
         "x": [
          1991,
          1993,
          1994,
          1995,
          1996,
          1997,
          1998,
          1999,
          2004
         ],
         "xaxis": "x",
         "y": [
          "Model Team",
          "Model Team",
          "Model Team",
          "Model Team",
          "Model Team",
          "Model Team",
          "Model Team",
          "Model Team",
          "Model Team"
         ],
         "yaxis": "y"
        },
        {
         "hovertemplate": "theme=%{y}<br>year=%{x}<br>number=%{marker.size}<extra></extra>",
         "legendgroup": "Promotional",
         "marker": {
          "color": "#FFA15A",
          "size": [
           1,
           1,
           1,
           1,
           1,
           1,
           4,
           3,
           3,
           4,
           18,
           18,
           27,
           19,
           20,
           24,
           24,
           22,
           33,
           19
          ],
          "sizemode": "area",
          "sizeref": 0.17,
          "symbol": "circle"
         },
         "mode": "markers+lines",
         "name": "Promotional",
         "orientation": "h",
         "showlegend": true,
         "textfont": {
          "size": 3
         },
         "type": "scatter",
         "x": [
          1991,
          1992,
          1993,
          1995,
          1998,
          1999,
          2002,
          2004,
          2010,
          2011,
          2012,
          2013,
          2014,
          2015,
          2016,
          2017,
          2018,
          2019,
          2020,
          2021
         ],
         "xaxis": "x",
         "y": [
          "Promotional",
          "Promotional",
          "Promotional",
          "Promotional",
          "Promotional",
          "Promotional",
          "Promotional",
          "Promotional",
          "Promotional",
          "Promotional",
          "Promotional",
          "Promotional",
          "Promotional",
          "Promotional",
          "Promotional",
          "Promotional",
          "Promotional",
          "Promotional",
          "Promotional",
          "Promotional"
         ],
         "yaxis": "y"
        },
        {
         "hovertemplate": "theme=%{y}<br>year=%{x}<br>number=%{marker.size}<extra></extra>",
         "legendgroup": "Belville",
         "marker": {
          "color": "#19d3f3",
          "size": [
           4,
           3,
           5,
           6,
           7,
           10,
           5,
           5,
           7,
           8,
           6,
           5,
           3,
           4,
           4
          ],
          "sizemode": "area",
          "sizeref": 0.17,
          "symbol": "circle"
         },
         "mode": "markers+lines",
         "name": "Belville",
         "orientation": "h",
         "showlegend": true,
         "textfont": {
          "size": 3
         },
         "type": "scatter",
         "x": [
          1994,
          1995,
          1996,
          1997,
          1998,
          1999,
          2000,
          2001,
          2002,
          2003,
          2004,
          2005,
          2006,
          2007,
          2008
         ],
         "xaxis": "x",
         "y": [
          "Belville",
          "Belville",
          "Belville",
          "Belville",
          "Belville",
          "Belville",
          "Belville",
          "Belville",
          "Belville",
          "Belville",
          "Belville",
          "Belville",
          "Belville",
          "Belville",
          "Belville"
         ],
         "yaxis": "y"
        },
        {
         "hovertemplate": "theme=%{y}<br>year=%{x}<br>number=%{marker.size}<extra></extra>",
         "legendgroup": "Freestyle",
         "marker": {
          "color": "#FF6692",
          "size": [
           28,
           7,
           12,
           22,
           2
          ],
          "sizemode": "area",
          "sizeref": 0.17,
          "symbol": "circle"
         },
         "mode": "markers+lines",
         "name": "Freestyle",
         "orientation": "h",
         "showlegend": true,
         "textfont": {
          "size": 3
         },
         "type": "scatter",
         "x": [
          1995,
          1996,
          1997,
          1998,
          1999
         ],
         "xaxis": "x",
         "y": [
          "Freestyle",
          "Freestyle",
          "Freestyle",
          "Freestyle",
          "Freestyle"
         ],
         "yaxis": "y"
        },
        {
         "hovertemplate": "theme=%{y}<br>year=%{x}<br>number=%{marker.size}<extra></extra>",
         "legendgroup": "Aquazone",
         "marker": {
          "color": "#B6E880",
          "size": [
           6,
           7,
           3,
           11,
           1
          ],
          "sizemode": "area",
          "sizeref": 0.17,
          "symbol": "circle"
         },
         "mode": "markers+lines",
         "name": "Aquazone",
         "orientation": "h",
         "showlegend": true,
         "textfont": {
          "size": 3
         },
         "type": "scatter",
         "x": [
          1995,
          1996,
          1997,
          1998,
          1999
         ],
         "xaxis": "x",
         "y": [
          "Aquazone",
          "Aquazone",
          "Aquazone",
          "Aquazone",
          "Aquazone"
         ],
         "yaxis": "y"
        },
        {
         "hovertemplate": "theme=%{y}<br>year=%{x}<br>number=%{marker.size}<extra></extra>",
         "legendgroup": "Creator",
         "marker": {
          "color": "#FF97FF",
          "size": [
           1,
           22,
           12,
           38,
           44,
           33,
           17,
           22,
           13,
           18,
           12,
           16,
           15,
           22,
           21,
           18,
           19,
           22,
           17,
           18,
           20,
           37
          ],
          "sizemode": "area",
          "sizeref": 0.17,
          "symbol": "circle"
         },
         "mode": "markers+lines",
         "name": "Creator",
         "orientation": "h",
         "showlegend": true,
         "textfont": {
          "size": 3
         },
         "type": "scatter",
         "x": [
          1995,
          2001,
          2002,
          2003,
          2004,
          2005,
          2006,
          2007,
          2008,
          2009,
          2010,
          2011,
          2012,
          2013,
          2014,
          2015,
          2016,
          2017,
          2018,
          2019,
          2020,
          2021
         ],
         "xaxis": "x",
         "y": [
          "Creator",
          "Creator",
          "Creator",
          "Creator",
          "Creator",
          "Creator",
          "Creator",
          "Creator",
          "Creator",
          "Creator",
          "Creator",
          "Creator",
          "Creator",
          "Creator",
          "Creator",
          "Creator",
          "Creator",
          "Creator",
          "Creator",
          "Creator",
          "Creator",
          "Creator"
         ],
         "yaxis": "y"
        },
        {
         "hovertemplate": "theme=%{y}<br>year=%{x}<br>number=%{marker.size}<extra></extra>",
         "legendgroup": "Primo",
         "marker": {
          "color": "#FECB52",
          "size": [
           1,
           2,
           17,
           16,
           18,
           1
          ],
          "sizemode": "area",
          "sizeref": 0.17,
          "symbol": "circle"
         },
         "mode": "markers+lines",
         "name": "Primo",
         "orientation": "h",
         "showlegend": true,
         "textfont": {
          "size": 3
         },
         "type": "scatter",
         "x": [
          1995,
          1996,
          1997,
          1998,
          1999,
          2005
         ],
         "xaxis": "x",
         "y": [
          "Primo",
          "Primo",
          "Primo",
          "Primo",
          "Primo",
          "Primo"
         ],
         "yaxis": "y"
        },
        {
         "hovertemplate": "theme=%{y}<br>year=%{x}<br>number=%{marker.size}<extra></extra>",
         "legendgroup": "Western",
         "marker": {
          "color": "#636efa",
          "size": [
           6,
           11,
           3
          ],
          "sizemode": "area",
          "sizeref": 0.17,
          "symbol": "circle"
         },
         "mode": "markers+lines",
         "name": "Western",
         "orientation": "h",
         "showlegend": true,
         "textfont": {
          "size": 3
         },
         "type": "scatter",
         "x": [
          1996,
          1997,
          2002
         ],
         "xaxis": "x",
         "y": [
          "Western",
          "Western",
          "Western"
         ],
         "yaxis": "y"
        },
        {
         "hovertemplate": "theme=%{y}<br>year=%{x}<br>number=%{marker.size}<extra></extra>",
         "legendgroup": "Time Cruisers",
         "marker": {
          "color": "#EF553B",
          "size": [
           5,
           4
          ],
          "sizemode": "area",
          "sizeref": 0.17,
          "symbol": "circle"
         },
         "mode": "markers+lines",
         "name": "Time Cruisers",
         "orientation": "h",
         "showlegend": true,
         "textfont": {
          "size": 3
         },
         "type": "scatter",
         "x": [
          1996,
          1997
         ],
         "xaxis": "x",
         "y": [
          "Time Cruisers",
          "Time Cruisers"
         ],
         "yaxis": "y"
        },
        {
         "hovertemplate": "theme=%{y}<br>year=%{x}<br>number=%{marker.size}<extra></extra>",
         "legendgroup": "Education",
         "marker": {
          "color": "#00cc96",
          "size": [
           1,
           1,
           1,
           7,
           6,
           7,
           8,
           13,
           9,
           16,
           8,
           18,
           11,
           11,
           20,
           8,
           7,
           12,
           9,
           24,
           23,
           10,
           3,
           4,
           20,
           14
          ],
          "sizemode": "area",
          "sizeref": 0.17,
          "symbol": "circle"
         },
         "mode": "markers+lines",
         "name": "Education",
         "orientation": "h",
         "showlegend": true,
         "textfont": {
          "size": 3
         },
         "type": "scatter",
         "x": [
          1996,
          1997,
          1998,
          1999,
          2000,
          2001,
          2002,
          2003,
          2004,
          2005,
          2006,
          2007,
          2008,
          2009,
          2010,
          2011,
          2012,
          2013,
          2014,
          2015,
          2016,
          2017,
          2018,
          2019,
          2020,
          2021
         ],
         "xaxis": "x",
         "y": [
          "Education",
          "Education",
          "Education",
          "Education",
          "Education",
          "Education",
          "Education",
          "Education",
          "Education",
          "Education",
          "Education",
          "Education",
          "Education",
          "Education",
          "Education",
          "Education",
          "Education",
          "Education",
          "Education",
          "Education",
          "Education",
          "Education",
          "Education",
          "Education",
          "Education",
          "Education"
         ],
         "yaxis": "y"
        },
        {
         "hovertemplate": "theme=%{y}<br>year=%{x}<br>number=%{marker.size}<extra></extra>",
         "legendgroup": "Scala",
         "marker": {
          "color": "#ab63fa",
          "size": [
           10,
           24,
           14,
           11,
           4
          ],
          "sizemode": "area",
          "sizeref": 0.17,
          "symbol": "circle"
         },
         "mode": "markers+lines",
         "name": "Scala",
         "orientation": "h",
         "showlegend": true,
         "textfont": {
          "size": 3
         },
         "type": "scatter",
         "x": [
          1997,
          1998,
          1999,
          2000,
          2001
         ],
         "xaxis": "x",
         "y": [
          "Scala",
          "Scala",
          "Scala",
          "Scala",
          "Scala"
         ],
         "yaxis": "y"
        },
        {
         "hovertemplate": "theme=%{y}<br>year=%{x}<br>number=%{marker.size}<extra></extra>",
         "legendgroup": "Adventurers",
         "marker": {
          "color": "#FFA15A",
          "size": [
           21,
           14,
           17,
           19
          ],
          "sizemode": "area",
          "sizeref": 0.17,
          "symbol": "circle"
         },
         "mode": "markers+lines",
         "name": "Adventurers",
         "orientation": "h",
         "showlegend": true,
         "textfont": {
          "size": 3
         },
         "type": "scatter",
         "x": [
          1998,
          1999,
          2000,
          2003
         ],
         "xaxis": "x",
         "y": [
          "Adventurers",
          "Adventurers",
          "Adventurers",
          "Adventurers"
         ],
         "yaxis": "y"
        },
        {
         "hovertemplate": "theme=%{y}<br>year=%{x}<br>number=%{marker.size}<extra></extra>",
         "legendgroup": "Znap",
         "marker": {
          "color": "#19d3f3",
          "size": [
           12,
           7
          ],
          "sizemode": "area",
          "sizeref": 0.17,
          "symbol": "circle"
         },
         "mode": "markers+lines",
         "name": "Znap",
         "orientation": "h",
         "showlegend": true,
         "textfont": {
          "size": 3
         },
         "type": "scatter",
         "x": [
          1998,
          1999
         ],
         "xaxis": "x",
         "y": [
          "Znap",
          "Znap"
         ],
         "yaxis": "y"
        },
        {
         "hovertemplate": "theme=%{y}<br>year=%{x}<br>number=%{marker.size}<extra></extra>",
         "legendgroup": "Mindstorms",
         "marker": {
          "color": "#FF6692",
          "size": [
           4,
           10,
           4,
           3,
           2,
           12,
           1,
           3,
           1,
           6,
           10,
           1,
           2
          ],
          "sizemode": "area",
          "sizeref": 0.17,
          "symbol": "circle"
         },
         "mode": "markers+lines",
         "name": "Mindstorms",
         "orientation": "h",
         "showlegend": true,
         "textfont": {
          "size": 3
         },
         "type": "scatter",
         "x": [
          1998,
          1999,
          2000,
          2001,
          2004,
          2006,
          2007,
          2009,
          2010,
          2011,
          2013,
          2015,
          2020
         ],
         "xaxis": "x",
         "y": [
          "Mindstorms",
          "Mindstorms",
          "Mindstorms",
          "Mindstorms",
          "Mindstorms",
          "Mindstorms",
          "Mindstorms",
          "Mindstorms",
          "Mindstorms",
          "Mindstorms",
          "Mindstorms",
          "Mindstorms",
          "Mindstorms"
         ],
         "yaxis": "y"
        },
        {
         "hovertemplate": "theme=%{y}<br>year=%{x}<br>number=%{marker.size}<extra></extra>",
         "legendgroup": "Classic",
         "marker": {
          "color": "#B6E880",
          "size": [
           1,
           16,
           10,
           3,
           7,
           13,
           5,
           7,
           6
          ],
          "sizemode": "area",
          "sizeref": 0.17,
          "symbol": "circle"
         },
         "mode": "markers+lines",
         "name": "Classic",
         "orientation": "h",
         "showlegend": true,
         "textfont": {
          "size": 3
         },
         "type": "scatter",
         "x": [
          1998,
          1999,
          2015,
          2016,
          2017,
          2018,
          2019,
          2020,
          2021
         ],
         "xaxis": "x",
         "y": [
          "Classic",
          "Classic",
          "Classic",
          "Classic",
          "Classic",
          "Classic",
          "Classic",
          "Classic",
          "Classic"
         ],
         "yaxis": "y"
        },
        {
         "hovertemplate": "theme=%{y}<br>year=%{x}<br>number=%{marker.size}<extra></extra>",
         "legendgroup": "Racers",
         "marker": {
          "color": "#FF97FF",
          "size": [
           1,
           17,
           27,
           20,
           18,
           29,
           22,
           21,
           24,
           24,
           18,
           9,
           11,
           1
          ],
          "sizemode": "area",
          "sizeref": 0.17,
          "symbol": "circle"
         },
         "mode": "markers+lines",
         "name": "Racers",
         "orientation": "h",
         "showlegend": true,
         "textfont": {
          "size": 3
         },
         "type": "scatter",
         "x": [
          1998,
          2001,
          2002,
          2003,
          2004,
          2005,
          2006,
          2007,
          2008,
          2009,
          2010,
          2011,
          2012,
          2013
         ],
         "xaxis": "x",
         "y": [
          "Racers",
          "Racers",
          "Racers",
          "Racers",
          "Racers",
          "Racers",
          "Racers",
          "Racers",
          "Racers",
          "Racers",
          "Racers",
          "Racers",
          "Racers",
          "Racers"
         ],
         "yaxis": "y"
        },
        {
         "hovertemplate": "theme=%{y}<br>year=%{x}<br>number=%{marker.size}<extra></extra>",
         "legendgroup": "Star Wars",
         "marker": {
          "color": "#FECB52",
          "size": [
           13,
           19,
           10,
           25,
           20,
           15,
           21,
           14,
           16,
           19,
           28,
           29,
           30,
           35,
           38,
           40,
           58,
           65,
           62,
           68,
           57,
           47,
           37
          ],
          "sizemode": "area",
          "sizeref": 0.17,
          "symbol": "circle"
         },
         "mode": "markers+lines",
         "name": "Star Wars",
         "orientation": "h",
         "showlegend": true,
         "textfont": {
          "size": 3
         },
         "type": "scatter",
         "x": [
          1999,
          2000,
          2001,
          2002,
          2003,
          2004,
          2005,
          2006,
          2007,
          2008,
          2009,
          2010,
          2011,
          2012,
          2013,
          2014,
          2015,
          2016,
          2017,
          2018,
          2019,
          2020,
          2021
         ],
         "xaxis": "x",
         "y": [
          "Star Wars",
          "Star Wars",
          "Star Wars",
          "Star Wars",
          "Star Wars",
          "Star Wars",
          "Star Wars",
          "Star Wars",
          "Star Wars",
          "Star Wars",
          "Star Wars",
          "Star Wars",
          "Star Wars",
          "Star Wars",
          "Star Wars",
          "Star Wars",
          "Star Wars",
          "Star Wars",
          "Star Wars",
          "Star Wars",
          "Star Wars",
          "Star Wars",
          "Star Wars"
         ],
         "yaxis": "y"
        },
        {
         "hovertemplate": "theme=%{y}<br>year=%{x}<br>number=%{marker.size}<extra></extra>",
         "legendgroup": "Rock Raiders",
         "marker": {
          "color": "#636efa",
          "size": [
           12,
           3
          ],
          "sizemode": "area",
          "sizeref": 0.17,
          "symbol": "circle"
         },
         "mode": "markers+lines",
         "name": "Rock Raiders",
         "orientation": "h",
         "showlegend": true,
         "textfont": {
          "size": 3
         },
         "type": "scatter",
         "x": [
          1999,
          2000
         ],
         "xaxis": "x",
         "y": [
          "Rock Raiders",
          "Rock Raiders"
         ],
         "yaxis": "y"
        },
        {
         "hovertemplate": "theme=%{y}<br>year=%{x}<br>number=%{marker.size}<extra></extra>",
         "legendgroup": "Seasonal",
         "marker": {
          "color": "#EF553B",
          "size": [
           3,
           2,
           4,
           4,
           4,
           3,
           2,
           1,
           5,
           9,
           14,
           10,
           17,
           11,
           12,
           14,
           12,
           9,
           8,
           15,
           12
          ],
          "sizemode": "area",
          "sizeref": 0.17,
          "symbol": "circle"
         },
         "mode": "markers+lines",
         "name": "Seasonal",
         "orientation": "h",
         "showlegend": true,
         "textfont": {
          "size": 3
         },
         "type": "scatter",
         "x": [
          1999,
          2000,
          2001,
          2002,
          2003,
          2004,
          2005,
          2006,
          2009,
          2010,
          2011,
          2012,
          2013,
          2014,
          2015,
          2016,
          2017,
          2018,
          2019,
          2020,
          2021
         ],
         "xaxis": "x",
         "y": [
          "Seasonal",
          "Seasonal",
          "Seasonal",
          "Seasonal",
          "Seasonal",
          "Seasonal",
          "Seasonal",
          "Seasonal",
          "Seasonal",
          "Seasonal",
          "Seasonal",
          "Seasonal",
          "Seasonal",
          "Seasonal",
          "Seasonal",
          "Seasonal",
          "Seasonal",
          "Seasonal",
          "Seasonal",
          "Seasonal",
          "Seasonal"
         ],
         "yaxis": "y"
        },
        {
         "hovertemplate": "theme=%{y}<br>year=%{x}<br>number=%{marker.size}<extra></extra>",
         "legendgroup": "Bulk Bricks",
         "marker": {
          "color": "#00cc96",
          "size": [
           66,
           24,
           25,
           5,
           10
          ],
          "sizemode": "area",
          "sizeref": 0.17,
          "symbol": "circle"
         },
         "mode": "markers+lines",
         "name": "Bulk Bricks",
         "orientation": "h",
         "showlegend": true,
         "textfont": {
          "size": 3
         },
         "type": "scatter",
         "x": [
          2000,
          2001,
          2002,
          2003,
          2004
         ],
         "xaxis": "x",
         "y": [
          "Bulk Bricks",
          "Bulk Bricks",
          "Bulk Bricks",
          "Bulk Bricks",
          "Bulk Bricks"
         ],
         "yaxis": "y"
        },
        {
         "hovertemplate": "theme=%{y}<br>year=%{x}<br>number=%{marker.size}<extra></extra>",
         "legendgroup": "Sports",
         "marker": {
          "color": "#ab63fa",
          "size": [
           16,
           5,
           43,
           52,
           10,
           3,
           1
          ],
          "sizemode": "area",
          "sizeref": 0.17,
          "symbol": "circle"
         },
         "mode": "markers+lines",
         "name": "Sports",
         "orientation": "h",
         "showlegend": true,
         "textfont": {
          "size": 3
         },
         "type": "scatter",
         "x": [
          2000,
          2001,
          2002,
          2003,
          2004,
          2006,
          2007
         ],
         "xaxis": "x",
         "y": [
          "Sports",
          "Sports",
          "Sports",
          "Sports",
          "Sports",
          "Sports",
          "Sports"
         ],
         "yaxis": "y"
        },
        {
         "hovertemplate": "theme=%{y}<br>year=%{x}<br>number=%{marker.size}<extra></extra>",
         "legendgroup": "Baby",
         "marker": {
          "color": "#FFA15A",
          "size": [
           14,
           18,
           5,
           6
          ],
          "sizemode": "area",
          "sizeref": 0.17,
          "symbol": "circle"
         },
         "mode": "markers+lines",
         "name": "Baby",
         "orientation": "h",
         "showlegend": true,
         "textfont": {
          "size": 3
         },
         "type": "scatter",
         "x": [
          2000,
          2001,
          2004,
          2005
         ],
         "xaxis": "x",
         "y": [
          "Baby",
          "Baby",
          "Baby",
          "Baby"
         ],
         "yaxis": "y"
        },
        {
         "hovertemplate": "theme=%{y}<br>year=%{x}<br>number=%{marker.size}<extra></extra>",
         "legendgroup": "Action Wheelers",
         "marker": {
          "color": "#19d3f3",
          "size": [
           6,
           3
          ],
          "sizemode": "area",
          "sizeref": 0.17,
          "symbol": "circle"
         },
         "mode": "markers+lines",
         "name": "Action Wheelers",
         "orientation": "h",
         "showlegend": true,
         "textfont": {
          "size": 3
         },
         "type": "scatter",
         "x": [
          2000,
          2001
         ],
         "xaxis": "x",
         "y": [
          "Action Wheelers",
          "Action Wheelers"
         ],
         "yaxis": "y"
        },
        {
         "hovertemplate": "theme=%{y}<br>year=%{x}<br>number=%{marker.size}<extra></extra>",
         "legendgroup": "Mickey Mouse",
         "marker": {
          "color": "#FF6692",
          "size": [
           5
          ],
          "sizemode": "area",
          "sizeref": 0.17,
          "symbol": "circle"
         },
         "mode": "markers+lines",
         "name": "Mickey Mouse",
         "orientation": "h",
         "showlegend": true,
         "textfont": {
          "size": 3
         },
         "type": "scatter",
         "x": [
          2000
         ],
         "xaxis": "x",
         "y": [
          "Mickey Mouse"
         ],
         "yaxis": "y"
        },
        {
         "hovertemplate": "theme=%{y}<br>year=%{x}<br>number=%{marker.size}<extra></extra>",
         "legendgroup": "Creator Expert",
         "marker": {
          "color": "#B6E880",
          "size": [
           2,
           2,
           1,
           1,
           1,
           2,
           3,
           5,
           4,
           6,
           5,
           3,
           4,
           5,
           4,
           4,
           5,
           5,
           6,
           8,
           19
          ],
          "sizemode": "area",
          "sizeref": 0.17,
          "symbol": "circle"
         },
         "mode": "markers+lines",
         "name": "Creator Expert",
         "orientation": "h",
         "showlegend": true,
         "textfont": {
          "size": 3
         },
         "type": "scatter",
         "x": [
          2000,
          2001,
          2002,
          2003,
          2004,
          2006,
          2007,
          2008,
          2009,
          2010,
          2011,
          2012,
          2013,
          2014,
          2015,
          2016,
          2017,
          2018,
          2019,
          2020,
          2021
         ],
         "xaxis": "x",
         "y": [
          "Creator Expert",
          "Creator Expert",
          "Creator Expert",
          "Creator Expert",
          "Creator Expert",
          "Creator Expert",
          "Creator Expert",
          "Creator Expert",
          "Creator Expert",
          "Creator Expert",
          "Creator Expert",
          "Creator Expert",
          "Creator Expert",
          "Creator Expert",
          "Creator Expert",
          "Creator Expert",
          "Creator Expert",
          "Creator Expert",
          "Creator Expert",
          "Creator Expert",
          "Creator Expert"
         ],
         "yaxis": "y"
        },
        {
         "hovertemplate": "theme=%{y}<br>year=%{x}<br>number=%{marker.size}<extra></extra>",
         "legendgroup": "Studios",
         "marker": {
          "color": "#FF97FF",
          "size": [
           1,
           46,
           7
          ],
          "sizemode": "area",
          "sizeref": 0.17,
          "symbol": "circle"
         },
         "mode": "markers+lines",
         "name": "Studios",
         "orientation": "h",
         "showlegend": true,
         "textfont": {
          "size": 3
         },
         "type": "scatter",
         "x": [
          2000,
          2001,
          2002
         ],
         "xaxis": "x",
         "y": [
          "Studios",
          "Studios",
          "Studios"
         ],
         "yaxis": "y"
        },
        {
         "hovertemplate": "theme=%{y}<br>year=%{x}<br>number=%{marker.size}<extra></extra>",
         "legendgroup": "Bionicle",
         "marker": {
          "color": "#FECB52",
          "size": [
           30,
           27,
           39,
           55,
           46,
           47,
           31,
           35,
           30,
           6,
           20,
           20
          ],
          "sizemode": "area",
          "sizeref": 0.17,
          "symbol": "circle"
         },
         "mode": "markers+lines",
         "name": "Bionicle",
         "orientation": "h",
         "showlegend": true,
         "textfont": {
          "size": 3
         },
         "type": "scatter",
         "x": [
          2001,
          2002,
          2003,
          2004,
          2005,
          2006,
          2007,
          2008,
          2009,
          2010,
          2015,
          2016
         ],
         "xaxis": "x",
         "y": [
          "Bionicle",
          "Bionicle",
          "Bionicle",
          "Bionicle",
          "Bionicle",
          "Bionicle",
          "Bionicle",
          "Bionicle",
          "Bionicle",
          "Bionicle",
          "Bionicle",
          "Bionicle"
         ],
         "yaxis": "y"
        },
        {
         "hovertemplate": "theme=%{y}<br>year=%{x}<br>number=%{marker.size}<extra></extra>",
         "legendgroup": "Dinosaurs",
         "marker": {
          "color": "#636efa",
          "size": [
           12
          ],
          "sizemode": "area",
          "sizeref": 0.17,
          "symbol": "circle"
         },
         "mode": "markers+lines",
         "name": "Dinosaurs",
         "orientation": "h",
         "showlegend": true,
         "textfont": {
          "size": 3
         },
         "type": "scatter",
         "x": [
          2001
         ],
         "xaxis": "x",
         "y": [
          "Dinosaurs"
         ],
         "yaxis": "y"
        },
        {
         "hovertemplate": "theme=%{y}<br>year=%{x}<br>number=%{marker.size}<extra></extra>",
         "legendgroup": "Harry Potter",
         "marker": {
          "color": "#EF553B",
          "size": [
           11,
           11,
           2,
           12,
           5,
           1,
           6,
           7,
           11,
           9,
           11,
           17
          ],
          "sizemode": "area",
          "sizeref": 0.17,
          "symbol": "circle"
         },
         "mode": "markers+lines",
         "name": "Harry Potter",
         "orientation": "h",
         "showlegend": true,
         "textfont": {
          "size": 3
         },
         "type": "scatter",
         "x": [
          2001,
          2002,
          2003,
          2004,
          2005,
          2007,
          2010,
          2011,
          2018,
          2019,
          2020,
          2021
         ],
         "xaxis": "x",
         "y": [
          "Harry Potter",
          "Harry Potter",
          "Harry Potter",
          "Harry Potter",
          "Harry Potter",
          "Harry Potter",
          "Harry Potter",
          "Harry Potter",
          "Harry Potter",
          "Harry Potter",
          "Harry Potter",
          "Harry Potter"
         ],
         "yaxis": "y"
        },
        {
         "hovertemplate": "theme=%{y}<br>year=%{x}<br>number=%{marker.size}<extra></extra>",
         "legendgroup": "Jack Stone",
         "marker": {
          "color": "#00cc96",
          "size": [
           11,
           14
          ],
          "sizemode": "area",
          "sizeref": 0.17,
          "symbol": "circle"
         },
         "mode": "markers+lines",
         "name": "Jack Stone",
         "orientation": "h",
         "showlegend": true,
         "textfont": {
          "size": 3
         },
         "type": "scatter",
         "x": [
          2001,
          2002
         ],
         "xaxis": "x",
         "y": [
          "Jack Stone",
          "Jack Stone"
         ],
         "yaxis": "y"
        },
        {
         "hovertemplate": "theme=%{y}<br>year=%{x}<br>number=%{marker.size}<extra></extra>",
         "legendgroup": "Alpha Team",
         "marker": {
          "color": "#ab63fa",
          "size": [
           6,
           17,
           1,
           6,
           2
          ],
          "sizemode": "area",
          "sizeref": 0.17,
          "symbol": "circle"
         },
         "mode": "markers+lines",
         "name": "Alpha Team",
         "orientation": "h",
         "showlegend": true,
         "textfont": {
          "size": 3
         },
         "type": "scatter",
         "x": [
          2001,
          2002,
          2003,
          2004,
          2005
         ],
         "xaxis": "x",
         "y": [
          "Alpha Team",
          "Alpha Team",
          "Alpha Team",
          "Alpha Team",
          "Alpha Team"
         ],
         "yaxis": "y"
        },
        {
         "hovertemplate": "theme=%{y}<br>year=%{x}<br>number=%{marker.size}<extra></extra>",
         "legendgroup": "Explore",
         "marker": {
          "color": "#FFA15A",
          "size": [
           68,
           45,
           13
          ],
          "sizemode": "area",
          "sizeref": 0.17,
          "symbol": "circle"
         },
         "mode": "markers+lines",
         "name": "Explore",
         "orientation": "h",
         "showlegend": true,
         "textfont": {
          "size": 3
         },
         "type": "scatter",
         "x": [
          2002,
          2003,
          2004
         ],
         "xaxis": "x",
         "y": [
          "Explore",
          "Explore",
          "Explore"
         ],
         "yaxis": "y"
        },
        {
         "hovertemplate": "theme=%{y}<br>year=%{x}<br>number=%{marker.size}<extra></extra>",
         "legendgroup": "Galidor",
         "marker": {
          "color": "#19d3f3",
          "size": [
           19
          ],
          "sizemode": "area",
          "sizeref": 0.17,
          "symbol": "circle"
         },
         "mode": "markers+lines",
         "name": "Galidor",
         "orientation": "h",
         "showlegend": true,
         "textfont": {
          "size": 3
         },
         "type": "scatter",
         "x": [
          2002
         ],
         "xaxis": "x",
         "y": [
          "Galidor"
         ],
         "yaxis": "y"
        },
        {
         "hovertemplate": "theme=%{y}<br>year=%{x}<br>number=%{marker.size}<extra></extra>",
         "legendgroup": "Island Xtreme Stunts",
         "marker": {
          "color": "#FF6692",
          "size": [
           10,
           3
          ],
          "sizemode": "area",
          "sizeref": 0.17,
          "symbol": "circle"
         },
         "mode": "markers+lines",
         "name": "Island Xtreme Stunts",
         "orientation": "h",
         "showlegend": true,
         "textfont": {
          "size": 3
         },
         "type": "scatter",
         "x": [
          2002,
          2003
         ],
         "xaxis": "x",
         "y": [
          "Island Xtreme Stunts",
          "Island Xtreme Stunts"
         ],
         "yaxis": "y"
        },
        {
         "hovertemplate": "theme=%{y}<br>year=%{x}<br>number=%{marker.size}<extra></extra>",
         "legendgroup": "Spybotics",
         "marker": {
          "color": "#B6E880",
          "size": [
           4
          ],
          "sizemode": "area",
          "sizeref": 0.17,
          "symbol": "circle"
         },
         "mode": "markers+lines",
         "name": "Spybotics",
         "orientation": "h",
         "showlegend": true,
         "textfont": {
          "size": 3
         },
         "type": "scatter",
         "x": [
          2002
         ],
         "xaxis": "x",
         "y": [
          "Spybotics"
         ],
         "yaxis": "y"
        },
        {
         "hovertemplate": "theme=%{y}<br>year=%{x}<br>number=%{marker.size}<extra></extra>",
         "legendgroup": "Miscellaneous",
         "marker": {
          "color": "#FF97FF",
          "size": [
           3,
           2,
           4,
           5,
           6,
           10,
           10,
           9,
           12,
           12,
           11,
           10,
           6,
           6,
           10
          ],
          "sizemode": "area",
          "sizeref": 0.17,
          "symbol": "circle"
         },
         "mode": "markers+lines",
         "name": "Miscellaneous",
         "orientation": "h",
         "showlegend": true,
         "textfont": {
          "size": 3
         },
         "type": "scatter",
         "x": [
          2002,
          2008,
          2009,
          2010,
          2011,
          2012,
          2013,
          2014,
          2015,
          2016,
          2017,
          2018,
          2019,
          2020,
          2021
         ],
         "xaxis": "x",
         "y": [
          "Miscellaneous",
          "Miscellaneous",
          "Miscellaneous",
          "Miscellaneous",
          "Miscellaneous",
          "Miscellaneous",
          "Miscellaneous",
          "Miscellaneous",
          "Miscellaneous",
          "Miscellaneous",
          "Miscellaneous",
          "Miscellaneous",
          "Miscellaneous",
          "Miscellaneous",
          "Miscellaneous"
         ],
         "yaxis": "y"
        },
        {
         "hovertemplate": "theme=%{y}<br>year=%{x}<br>number=%{marker.size}<extra></extra>",
         "legendgroup": "Gear",
         "marker": {
          "color": "#FECB52",
          "size": [
           1,
           1,
           1,
           1,
           1,
           1,
           1,
           1
          ],
          "sizemode": "area",
          "sizeref": 0.17,
          "symbol": "circle"
         },
         "mode": "markers+lines",
         "name": "Gear",
         "orientation": "h",
         "showlegend": true,
         "textfont": {
          "size": 3
         },
         "type": "scatter",
         "x": [
          2002,
          2004,
          2005,
          2006,
          2007,
          2008,
          2009,
          2012
         ],
         "xaxis": "x",
         "y": [
          "Gear",
          "Gear",
          "Gear",
          "Gear",
          "Gear",
          "Gear",
          "Gear",
          "Gear"
         ],
         "yaxis": "y"
        },
        {
         "hovertemplate": "theme=%{y}<br>year=%{x}<br>number=%{marker.size}<extra></extra>",
         "legendgroup": "World City",
         "marker": {
          "color": "#636efa",
          "size": [
           28,
           10
          ],
          "sizemode": "area",
          "sizeref": 0.17,
          "symbol": "circle"
         },
         "mode": "markers+lines",
         "name": "World City",
         "orientation": "h",
         "showlegend": true,
         "textfont": {
          "size": 3
         },
         "type": "scatter",
         "x": [
          2003,
          2004
         ],
         "xaxis": "x",
         "y": [
          "World City",
          "World City"
         ],
         "yaxis": "y"
        },
        {
         "hovertemplate": "theme=%{y}<br>year=%{x}<br>number=%{marker.size}<extra></extra>",
         "legendgroup": "Clikits",
         "marker": {
          "color": "#EF553B",
          "size": [
           17,
           37,
           20,
           7
          ],
          "sizemode": "area",
          "sizeref": 0.17,
          "symbol": "circle"
         },
         "mode": "markers+lines",
         "name": "Clikits",
         "orientation": "h",
         "showlegend": true,
         "textfont": {
          "size": 3
         },
         "type": "scatter",
         "x": [
          2003,
          2004,
          2005,
          2006
         ],
         "xaxis": "x",
         "y": [
          "Clikits",
          "Clikits",
          "Clikits",
          "Clikits"
         ],
         "yaxis": "y"
        },
        {
         "hovertemplate": "theme=%{y}<br>year=%{x}<br>number=%{marker.size}<extra></extra>",
         "legendgroup": "4 Juniors",
         "marker": {
          "color": "#00cc96",
          "size": [
           6,
           18
          ],
          "sizemode": "area",
          "sizeref": 0.17,
          "symbol": "circle"
         },
         "mode": "markers+lines",
         "name": "4 Juniors",
         "orientation": "h",
         "showlegend": true,
         "textfont": {
          "size": 3
         },
         "type": "scatter",
         "x": [
          2003,
          2004
         ],
         "xaxis": "x",
         "y": [
          "4 Juniors",
          "4 Juniors"
         ],
         "yaxis": "y"
        },
        {
         "hovertemplate": "theme=%{y}<br>year=%{x}<br>number=%{marker.size}<extra></extra>",
         "legendgroup": "Discovery",
         "marker": {
          "color": "#ab63fa",
          "size": [
           6
          ],
          "sizemode": "area",
          "sizeref": 0.17,
          "symbol": "circle"
         },
         "mode": "markers+lines",
         "name": "Discovery",
         "orientation": "h",
         "showlegend": true,
         "textfont": {
          "size": 3
         },
         "type": "scatter",
         "x": [
          2003
         ],
         "xaxis": "x",
         "y": [
          "Discovery"
         ],
         "yaxis": "y"
        },
        {
         "hovertemplate": "theme=%{y}<br>year=%{x}<br>number=%{marker.size}<extra></extra>",
         "legendgroup": "Spider-Man",
         "marker": {
          "color": "#FFA15A",
          "size": [
           3,
           8
          ],
          "sizemode": "area",
          "sizeref": 0.17,
          "symbol": "circle"
         },
         "mode": "markers+lines",
         "name": "Spider-Man",
         "orientation": "h",
         "showlegend": true,
         "textfont": {
          "size": 3
         },
         "type": "scatter",
         "x": [
          2003,
          2004
         ],
         "xaxis": "x",
         "y": [
          "Spider-Man",
          "Spider-Man"
         ],
         "yaxis": "y"
        },
        {
         "hovertemplate": "theme=%{y}<br>year=%{x}<br>number=%{marker.size}<extra></extra>",
         "legendgroup": "Hobby Set",
         "marker": {
          "color": "#19d3f3",
          "size": [
           1
          ],
          "sizemode": "area",
          "sizeref": 0.17,
          "symbol": "circle"
         },
         "mode": "markers+lines",
         "name": "Hobby Set",
         "orientation": "h",
         "showlegend": true,
         "textfont": {
          "size": 3
         },
         "type": "scatter",
         "x": [
          2003
         ],
         "xaxis": "x",
         "y": [
          "Hobby Set"
         ],
         "yaxis": "y"
        },
        {
         "hovertemplate": "theme=%{y}<br>year=%{x}<br>number=%{marker.size}<extra></extra>",
         "legendgroup": "Quatro",
         "marker": {
          "color": "#FF6692",
          "size": [
           4,
           4,
           1
          ],
          "sizemode": "area",
          "sizeref": 0.17,
          "symbol": "circle"
         },
         "mode": "markers+lines",
         "name": "Quatro",
         "orientation": "h",
         "showlegend": true,
         "textfont": {
          "size": 3
         },
         "type": "scatter",
         "x": [
          2004,
          2005,
          2006
         ],
         "xaxis": "x",
         "y": [
          "Quatro",
          "Quatro",
          "Quatro"
         ],
         "yaxis": "y"
        },
        {
         "hovertemplate": "theme=%{y}<br>year=%{x}<br>number=%{marker.size}<extra></extra>",
         "legendgroup": "City",
         "marker": {
          "color": "#B6E880",
          "size": [
           46,
           34,
           27,
           44,
           34,
           37,
           28,
           41,
           39,
           40,
           40,
           44,
           52,
           47,
           53,
           56,
           58
          ],
          "sizemode": "area",
          "sizeref": 0.17,
          "symbol": "circle"
         },
         "mode": "markers+lines",
         "name": "City",
         "orientation": "h",
         "showlegend": true,
         "textfont": {
          "size": 3
         },
         "type": "scatter",
         "x": [
          2005,
          2006,
          2007,
          2008,
          2009,
          2010,
          2011,
          2012,
          2013,
          2014,
          2015,
          2016,
          2017,
          2018,
          2019,
          2020,
          2021
         ],
         "xaxis": "x",
         "y": [
          "City",
          "City",
          "City",
          "City",
          "City",
          "City",
          "City",
          "City",
          "City",
          "City",
          "City",
          "City",
          "City",
          "City",
          "City",
          "City",
          "City"
         ],
         "yaxis": "y"
        },
        {
         "hovertemplate": "theme=%{y}<br>year=%{x}<br>number=%{marker.size}<extra></extra>",
         "legendgroup": "Dino 2010",
         "marker": {
          "color": "#FF97FF",
          "size": [
           5
          ],
          "sizemode": "area",
          "sizeref": 0.17,
          "symbol": "circle"
         },
         "mode": "markers+lines",
         "name": "Dino 2010",
         "orientation": "h",
         "showlegend": true,
         "textfont": {
          "size": 3
         },
         "type": "scatter",
         "x": [
          2005
         ],
         "xaxis": "x",
         "y": [
          "Dino 2010"
         ],
         "yaxis": "y"
        },
        {
         "hovertemplate": "theme=%{y}<br>year=%{x}<br>number=%{marker.size}<extra></extra>",
         "legendgroup": "Dino Attack",
         "marker": {
          "color": "#FECB52",
          "size": [
           5
          ],
          "sizemode": "area",
          "sizeref": 0.17,
          "symbol": "circle"
         },
         "mode": "markers+lines",
         "name": "Dino Attack",
         "orientation": "h",
         "showlegend": true,
         "textfont": {
          "size": 3
         },
         "type": "scatter",
         "x": [
          2005
         ],
         "xaxis": "x",
         "y": [
          "Dino Attack"
         ],
         "yaxis": "y"
        },
        {
         "hovertemplate": "theme=%{y}<br>year=%{x}<br>number=%{marker.size}<extra></extra>",
         "legendgroup": "Make and Create",
         "marker": {
          "color": "#636efa",
          "size": [
           5,
           17,
           21,
           1
          ],
          "sizemode": "area",
          "sizeref": 0.17,
          "symbol": "circle"
         },
         "mode": "markers+lines",
         "name": "Make and Create",
         "orientation": "h",
         "showlegend": true,
         "textfont": {
          "size": 3
         },
         "type": "scatter",
         "x": [
          2005,
          2006,
          2007,
          2012
         ],
         "xaxis": "x",
         "y": [
          "Make and Create",
          "Make and Create",
          "Make and Create",
          "Make and Create"
         ],
         "yaxis": "y"
        },
        {
         "hovertemplate": "theme=%{y}<br>year=%{x}<br>number=%{marker.size}<extra></extra>",
         "legendgroup": "Vikings",
         "marker": {
          "color": "#EF553B",
          "size": [
           5,
           2
          ],
          "sizemode": "area",
          "sizeref": 0.17,
          "symbol": "circle"
         },
         "mode": "markers+lines",
         "name": "Vikings",
         "orientation": "h",
         "showlegend": true,
         "textfont": {
          "size": 3
         },
         "type": "scatter",
         "x": [
          2005,
          2006
         ],
         "xaxis": "x",
         "y": [
          "Vikings",
          "Vikings"
         ],
         "yaxis": "y"
        },
        {
         "hovertemplate": "theme=%{y}<br>year=%{x}<br>number=%{marker.size}<extra></extra>",
         "legendgroup": "Factory",
         "marker": {
          "color": "#00cc96",
          "size": [
           3,
           1,
           3
          ],
          "sizemode": "area",
          "sizeref": 0.17,
          "symbol": "circle"
         },
         "mode": "markers+lines",
         "name": "Factory",
         "orientation": "h",
         "showlegend": true,
         "textfont": {
          "size": 3
         },
         "type": "scatter",
         "x": [
          2005,
          2007,
          2008
         ],
         "xaxis": "x",
         "y": [
          "Factory",
          "Factory",
          "Factory"
         ],
         "yaxis": "y"
        },
        {
         "hovertemplate": "theme=%{y}<br>year=%{x}<br>number=%{marker.size}<extra></extra>",
         "legendgroup": "Exo-Force",
         "marker": {
          "color": "#ab63fa",
          "size": [
           18,
           17,
           7
          ],
          "sizemode": "area",
          "sizeref": 0.17,
          "symbol": "circle"
         },
         "mode": "markers+lines",
         "name": "Exo-Force",
         "orientation": "h",
         "showlegend": true,
         "textfont": {
          "size": 3
         },
         "type": "scatter",
         "x": [
          2006,
          2007,
          2008
         ],
         "xaxis": "x",
         "y": [
          "Exo-Force",
          "Exo-Force",
          "Exo-Force"
         ],
         "yaxis": "y"
        },
        {
         "hovertemplate": "theme=%{y}<br>year=%{x}<br>number=%{marker.size}<extra></extra>",
         "legendgroup": "Batman",
         "marker": {
          "color": "#FFA15A",
          "size": [
           7,
           2,
           4
          ],
          "sizemode": "area",
          "sizeref": 0.17,
          "symbol": "circle"
         },
         "mode": "markers+lines",
         "name": "Batman",
         "orientation": "h",
         "showlegend": true,
         "textfont": {
          "size": 3
         },
         "type": "scatter",
         "x": [
          2006,
          2007,
          2008
         ],
         "xaxis": "x",
         "y": [
          "Batman",
          "Batman",
          "Batman"
         ],
         "yaxis": "y"
        },
        {
         "hovertemplate": "theme=%{y}<br>year=%{x}<br>number=%{marker.size}<extra></extra>",
         "legendgroup": "SpongeBob SquarePants",
         "marker": {
          "color": "#19d3f3",
          "size": [
           3,
           2,
           3,
           2,
           2,
           2
          ],
          "sizemode": "area",
          "sizeref": 0.17,
          "symbol": "circle"
         },
         "mode": "markers+lines",
         "name": "SpongeBob SquarePants",
         "orientation": "h",
         "showlegend": true,
         "textfont": {
          "size": 3
         },
         "type": "scatter",
         "x": [
          2006,
          2007,
          2008,
          2009,
          2011,
          2012
         ],
         "xaxis": "x",
         "y": [
          "SpongeBob SquarePants",
          "SpongeBob SquarePants",
          "SpongeBob SquarePants",
          "SpongeBob SquarePants",
          "SpongeBob SquarePants",
          "SpongeBob SquarePants"
         ],
         "yaxis": "y"
        },
        {
         "hovertemplate": "theme=%{y}<br>year=%{x}<br>number=%{marker.size}<extra></extra>",
         "legendgroup": "Avatar The Last Airbender",
         "marker": {
          "color": "#FF6692",
          "size": [
           2
          ],
          "sizemode": "area",
          "sizeref": 0.17,
          "symbol": "circle"
         },
         "mode": "markers+lines",
         "name": "Avatar The Last Airbender",
         "orientation": "h",
         "showlegend": true,
         "textfont": {
          "size": 3
         },
         "type": "scatter",
         "x": [
          2006
         ],
         "xaxis": "x",
         "y": [
          "Avatar The Last Airbender"
         ],
         "yaxis": "y"
        },
        {
         "hovertemplate": "theme=%{y}<br>year=%{x}<br>number=%{marker.size}<extra></extra>",
         "legendgroup": "Bricks and More",
         "marker": {
          "color": "#B6E880",
          "size": [
           1,
           16,
           16,
           9,
           9,
           6,
           9,
           2
          ],
          "sizemode": "area",
          "sizeref": 0.17,
          "symbol": "circle"
         },
         "mode": "markers+lines",
         "name": "Bricks and More",
         "orientation": "h",
         "showlegend": true,
         "textfont": {
          "size": 3
         },
         "type": "scatter",
         "x": [
          2006,
          2008,
          2009,
          2010,
          2011,
          2012,
          2013,
          2014
         ],
         "xaxis": "x",
         "y": [
          "Bricks and More",
          "Bricks and More",
          "Bricks and More",
          "Bricks and More",
          "Bricks and More",
          "Bricks and More",
          "Bricks and More",
          "Bricks and More"
         ],
         "yaxis": "y"
        },
        {
         "hovertemplate": "theme=%{y}<br>year=%{x}<br>number=%{marker.size}<extra></extra>",
         "legendgroup": "Aqua Raiders",
         "marker": {
          "color": "#FF97FF",
          "size": [
           7
          ],
          "sizemode": "area",
          "sizeref": 0.17,
          "symbol": "circle"
         },
         "mode": "markers+lines",
         "name": "Aqua Raiders",
         "orientation": "h",
         "showlegend": true,
         "textfont": {
          "size": 3
         },
         "type": "scatter",
         "x": [
          2007
         ],
         "xaxis": "x",
         "y": [
          "Aqua Raiders"
         ],
         "yaxis": "y"
        },
        {
         "hovertemplate": "theme=%{y}<br>year=%{x}<br>number=%{marker.size}<extra></extra>",
         "legendgroup": "Serious Play",
         "marker": {
          "color": "#FECB52",
          "size": [
           1,
           9,
           1,
           3,
           1
          ],
          "sizemode": "area",
          "sizeref": 0.17,
          "symbol": "circle"
         },
         "mode": "markers+lines",
         "name": "Serious Play",
         "orientation": "h",
         "showlegend": true,
         "textfont": {
          "size": 3
         },
         "type": "scatter",
         "x": [
          2007,
          2010,
          2012,
          2013,
          2015
         ],
         "xaxis": "x",
         "y": [
          "Serious Play",
          "Serious Play",
          "Serious Play",
          "Serious Play",
          "Serious Play"
         ],
         "yaxis": "y"
        },
        {
         "hovertemplate": "theme=%{y}<br>year=%{x}<br>number=%{marker.size}<extra></extra>",
         "legendgroup": "Indiana Jones",
         "marker": {
          "color": "#636efa",
          "size": [
           10,
           7
          ],
          "sizemode": "area",
          "sizeref": 0.17,
          "symbol": "circle"
         },
         "mode": "markers+lines",
         "name": "Indiana Jones",
         "orientation": "h",
         "showlegend": true,
         "textfont": {
          "size": 3
         },
         "type": "scatter",
         "x": [
          2008,
          2009
         ],
         "xaxis": "x",
         "y": [
          "Indiana Jones",
          "Indiana Jones"
         ],
         "yaxis": "y"
        },
        {
         "hovertemplate": "theme=%{y}<br>year=%{x}<br>number=%{marker.size}<extra></extra>",
         "legendgroup": "Agents",
         "marker": {
          "color": "#EF553B",
          "size": [
           8,
           5
          ],
          "sizemode": "area",
          "sizeref": 0.17,
          "symbol": "circle"
         },
         "mode": "markers+lines",
         "name": "Agents",
         "orientation": "h",
         "showlegend": true,
         "textfont": {
          "size": 3
         },
         "type": "scatter",
         "x": [
          2008,
          2009
         ],
         "xaxis": "x",
         "y": [
          "Agents",
          "Agents"
         ],
         "yaxis": "y"
        },
        {
         "hovertemplate": "theme=%{y}<br>year=%{x}<br>number=%{marker.size}<extra></extra>",
         "legendgroup": "Power Functions",
         "marker": {
          "color": "#00cc96",
          "size": [
           7,
           7,
           2,
           2
          ],
          "sizemode": "area",
          "sizeref": 0.17,
          "symbol": "circle"
         },
         "mode": "markers+lines",
         "name": "Power Functions",
         "orientation": "h",
         "showlegend": true,
         "textfont": {
          "size": 3
         },
         "type": "scatter",
         "x": [
          2008,
          2009,
          2011,
          2013
         ],
         "xaxis": "x",
         "y": [
          "Power Functions",
          "Power Functions",
          "Power Functions",
          "Power Functions"
         ],
         "yaxis": "y"
        },
        {
         "hovertemplate": "theme=%{y}<br>year=%{x}<br>number=%{marker.size}<extra></extra>",
         "legendgroup": "Architecture",
         "marker": {
          "color": "#ab63fa",
          "size": [
           4,
           4,
           1,
           6,
           4,
           5,
           2,
           3,
           6,
           6,
           5,
           5,
           3,
           1
          ],
          "sizemode": "area",
          "sizeref": 0.17,
          "symbol": "circle"
         },
         "mode": "markers+lines",
         "name": "Architecture",
         "orientation": "h",
         "showlegend": true,
         "textfont": {
          "size": 3
         },
         "type": "scatter",
         "x": [
          2008,
          2009,
          2010,
          2011,
          2012,
          2013,
          2014,
          2015,
          2016,
          2017,
          2018,
          2019,
          2020,
          2021
         ],
         "xaxis": "x",
         "y": [
          "Architecture",
          "Architecture",
          "Architecture",
          "Architecture",
          "Architecture",
          "Architecture",
          "Architecture",
          "Architecture",
          "Architecture",
          "Architecture",
          "Architecture",
          "Architecture",
          "Architecture",
          "Architecture"
         ],
         "yaxis": "y"
        },
        {
         "hovertemplate": "theme=%{y}<br>year=%{x}<br>number=%{marker.size}<extra></extra>",
         "legendgroup": "Power Miners",
         "marker": {
          "color": "#FFA15A",
          "size": [
           15,
           4
          ],
          "sizemode": "area",
          "sizeref": 0.17,
          "symbol": "circle"
         },
         "mode": "markers+lines",
         "name": "Power Miners",
         "orientation": "h",
         "showlegend": true,
         "textfont": {
          "size": 3
         },
         "type": "scatter",
         "x": [
          2009,
          2010
         ],
         "xaxis": "x",
         "y": [
          "Power Miners",
          "Power Miners"
         ],
         "yaxis": "y"
        },
        {
         "hovertemplate": "theme=%{y}<br>year=%{x}<br>number=%{marker.size}<extra></extra>",
         "legendgroup": "Games",
         "marker": {
          "color": "#19d3f3",
          "size": [
           10,
           9,
           13,
           7,
           3
          ],
          "sizemode": "area",
          "sizeref": 0.17,
          "symbol": "circle"
         },
         "mode": "markers+lines",
         "name": "Games",
         "orientation": "h",
         "showlegend": true,
         "textfont": {
          "size": 3
         },
         "type": "scatter",
         "x": [
          2009,
          2010,
          2011,
          2012,
          2013
         ],
         "xaxis": "x",
         "y": [
          "Games",
          "Games",
          "Games",
          "Games",
          "Games"
         ],
         "yaxis": "y"
        },
        {
         "hovertemplate": "theme=%{y}<br>year=%{x}<br>number=%{marker.size}<extra></extra>",
         "legendgroup": "Atlantis",
         "marker": {
          "color": "#FF6692",
          "size": [
           19,
           5
          ],
          "sizemode": "area",
          "sizeref": 0.17,
          "symbol": "circle"
         },
         "mode": "markers+lines",
         "name": "Atlantis",
         "orientation": "h",
         "showlegend": true,
         "textfont": {
          "size": 3
         },
         "type": "scatter",
         "x": [
          2010,
          2011
         ],
         "xaxis": "x",
         "y": [
          "Atlantis",
          "Atlantis"
         ],
         "yaxis": "y"
        },
        {
         "hovertemplate": "theme=%{y}<br>year=%{x}<br>number=%{marker.size}<extra></extra>",
         "legendgroup": "HERO Factory",
         "marker": {
          "color": "#B6E880",
          "size": [
           15,
           26,
           25,
           23,
           17
          ],
          "sizemode": "area",
          "sizeref": 0.17,
          "symbol": "circle"
         },
         "mode": "markers+lines",
         "name": "HERO Factory",
         "orientation": "h",
         "showlegend": true,
         "textfont": {
          "size": 3
         },
         "type": "scatter",
         "x": [
          2010,
          2011,
          2012,
          2013,
          2014
         ],
         "xaxis": "x",
         "y": [
          "HERO Factory",
          "HERO Factory",
          "HERO Factory",
          "HERO Factory",
          "HERO Factory"
         ],
         "yaxis": "y"
        },
        {
         "hovertemplate": "theme=%{y}<br>year=%{x}<br>number=%{marker.size}<extra></extra>",
         "legendgroup": "Toy Story",
         "marker": {
          "color": "#FF97FF",
          "size": [
           15,
           6
          ],
          "sizemode": "area",
          "sizeref": 0.17,
          "symbol": "circle"
         },
         "mode": "markers+lines",
         "name": "Toy Story",
         "orientation": "h",
         "showlegend": true,
         "textfont": {
          "size": 3
         },
         "type": "scatter",
         "x": [
          2010,
          2019
         ],
         "xaxis": "x",
         "y": [
          "Toy Story",
          "Toy Story"
         ],
         "yaxis": "y"
        },
        {
         "hovertemplate": "theme=%{y}<br>year=%{x}<br>number=%{marker.size}<extra></extra>",
         "legendgroup": "World Racers",
         "marker": {
          "color": "#FECB52",
          "size": [
           9
          ],
          "sizemode": "area",
          "sizeref": 0.17,
          "symbol": "circle"
         },
         "mode": "markers+lines",
         "name": "World Racers",
         "orientation": "h",
         "showlegend": true,
         "textfont": {
          "size": 3
         },
         "type": "scatter",
         "x": [
          2010
         ],
         "xaxis": "x",
         "y": [
          "World Racers"
         ],
         "yaxis": "y"
        },
        {
         "hovertemplate": "theme=%{y}<br>year=%{x}<br>number=%{marker.size}<extra></extra>",
         "legendgroup": "Ben 10: Alien Force",
         "marker": {
          "color": "#636efa",
          "size": [
           6
          ],
          "sizemode": "area",
          "sizeref": 0.17,
          "symbol": "circle"
         },
         "mode": "markers+lines",
         "name": "Ben 10: Alien Force",
         "orientation": "h",
         "showlegend": true,
         "textfont": {
          "size": 3
         },
         "type": "scatter",
         "x": [
          2010
         ],
         "xaxis": "x",
         "y": [
          "Ben 10: Alien Force"
         ],
         "yaxis": "y"
        },
        {
         "hovertemplate": "theme=%{y}<br>year=%{x}<br>number=%{marker.size}<extra></extra>",
         "legendgroup": "Prince of Persia",
         "marker": {
          "color": "#EF553B",
          "size": [
           6
          ],
          "sizemode": "area",
          "sizeref": 0.17,
          "symbol": "circle"
         },
         "mode": "markers+lines",
         "name": "Prince of Persia",
         "orientation": "h",
         "showlegend": true,
         "textfont": {
          "size": 3
         },
         "type": "scatter",
         "x": [
          2010
         ],
         "xaxis": "x",
         "y": [
          "Prince of Persia"
         ],
         "yaxis": "y"
        },
        {
         "hovertemplate": "theme=%{y}<br>year=%{x}<br>number=%{marker.size}<extra></extra>",
         "legendgroup": "Universe",
         "marker": {
          "color": "#00cc96",
          "size": [
           2
          ],
          "sizemode": "area",
          "sizeref": 0.17,
          "symbol": "circle"
         },
         "mode": "markers+lines",
         "name": "Universe",
         "orientation": "h",
         "showlegend": true,
         "textfont": {
          "size": 3
         },
         "type": "scatter",
         "x": [
          2010
         ],
         "xaxis": "x",
         "y": [
          "Universe"
         ],
         "yaxis": "y"
        },
        {
         "hovertemplate": "theme=%{y}<br>year=%{x}<br>number=%{marker.size}<extra></extra>",
         "legendgroup": "Ninjago",
         "marker": {
          "color": "#ab63fa",
          "size": [
           43,
           48,
           8,
           10,
           44,
           37,
           24,
           46,
           54,
           48,
           46
          ],
          "sizemode": "area",
          "sizeref": 0.17,
          "symbol": "circle"
         },
         "mode": "markers+lines",
         "name": "Ninjago",
         "orientation": "h",
         "showlegend": true,
         "textfont": {
          "size": 3
         },
         "type": "scatter",
         "x": [
          2011,
          2012,
          2013,
          2014,
          2015,
          2016,
          2017,
          2018,
          2019,
          2020,
          2021
         ],
         "xaxis": "x",
         "y": [
          "Ninjago",
          "Ninjago",
          "Ninjago",
          "Ninjago",
          "Ninjago",
          "Ninjago",
          "Ninjago",
          "Ninjago",
          "Ninjago",
          "Ninjago",
          "Ninjago"
         ],
         "yaxis": "y"
        },
        {
         "hovertemplate": "theme=%{y}<br>year=%{x}<br>number=%{marker.size}<extra></extra>",
         "legendgroup": "Cars",
         "marker": {
          "color": "#FFA15A",
          "size": [
           18,
           9
          ],
          "sizemode": "area",
          "sizeref": 0.17,
          "symbol": "circle"
         },
         "mode": "markers+lines",
         "name": "Cars",
         "orientation": "h",
         "showlegend": true,
         "textfont": {
          "size": 3
         },
         "type": "scatter",
         "x": [
          2011,
          2012
         ],
         "xaxis": "x",
         "y": [
          "Cars",
          "Cars"
         ],
         "yaxis": "y"
        },
        {
         "hovertemplate": "theme=%{y}<br>year=%{x}<br>number=%{marker.size}<extra></extra>",
         "legendgroup": "Pirates of the Caribbean",
         "marker": {
          "color": "#19d3f3",
          "size": [
           14,
           1
          ],
          "sizemode": "area",
          "sizeref": 0.17,
          "symbol": "circle"
         },
         "mode": "markers+lines",
         "name": "Pirates of the Caribbean",
         "orientation": "h",
         "showlegend": true,
         "textfont": {
          "size": 3
         },
         "type": "scatter",
         "x": [
          2011,
          2017
         ],
         "xaxis": "x",
         "y": [
          "Pirates of the Caribbean",
          "Pirates of the Caribbean"
         ],
         "yaxis": "y"
        },
        {
         "hovertemplate": "theme=%{y}<br>year=%{x}<br>number=%{marker.size}<extra></extra>",
         "legendgroup": "Pharaoh's Quest",
         "marker": {
          "color": "#FF6692",
          "size": [
           9
          ],
          "sizemode": "area",
          "sizeref": 0.17,
          "symbol": "circle"
         },
         "mode": "markers+lines",
         "name": "Pharaoh's Quest",
         "orientation": "h",
         "showlegend": true,
         "textfont": {
          "size": 3
         },
         "type": "scatter",
         "x": [
          2011
         ],
         "xaxis": "x",
         "y": [
          "Pharaoh's Quest"
         ],
         "yaxis": "y"
        },
        {
         "hovertemplate": "theme=%{y}<br>year=%{x}<br>number=%{marker.size}<extra></extra>",
         "legendgroup": "Master Builder Academy",
         "marker": {
          "color": "#B6E880",
          "size": [
           4,
           5,
           5
          ],
          "sizemode": "area",
          "sizeref": 0.17,
          "symbol": "circle"
         },
         "mode": "markers+lines",
         "name": "Master Builder Academy",
         "orientation": "h",
         "showlegend": true,
         "textfont": {
          "size": 3
         },
         "type": "scatter",
         "x": [
          2011,
          2012,
          2013
         ],
         "xaxis": "x",
         "y": [
          "Master Builder Academy",
          "Master Builder Academy",
          "Master Builder Academy"
         ],
         "yaxis": "y"
        },
        {
         "hovertemplate": "theme=%{y}<br>year=%{x}<br>number=%{marker.size}<extra></extra>",
         "legendgroup": "Ideas",
         "marker": {
          "color": "#FF97FF",
          "size": [
           1,
           2,
           1,
           4,
           4,
           3,
           4,
           4,
           6,
           6,
           8
          ],
          "sizemode": "area",
          "sizeref": 0.17,
          "symbol": "circle"
         },
         "mode": "markers+lines",
         "name": "Ideas",
         "orientation": "h",
         "showlegend": true,
         "textfont": {
          "size": 3
         },
         "type": "scatter",
         "x": [
          2011,
          2012,
          2013,
          2014,
          2015,
          2016,
          2017,
          2018,
          2019,
          2020,
          2021
         ],
         "xaxis": "x",
         "y": [
          "Ideas",
          "Ideas",
          "Ideas",
          "Ideas",
          "Ideas",
          "Ideas",
          "Ideas",
          "Ideas",
          "Ideas",
          "Ideas",
          "Ideas"
         ],
         "yaxis": "y"
        },
        {
         "hovertemplate": "theme=%{y}<br>year=%{x}<br>number=%{marker.size}<extra></extra>",
         "legendgroup": "Life of George",
         "marker": {
          "color": "#FECB52",
          "size": [
           1,
           1
          ],
          "sizemode": "area",
          "sizeref": 0.17,
          "symbol": "circle"
         },
         "mode": "markers+lines",
         "name": "Life of George",
         "orientation": "h",
         "showlegend": true,
         "textfont": {
          "size": 3
         },
         "type": "scatter",
         "x": [
          2011,
          2012
         ],
         "xaxis": "x",
         "y": [
          "Life of George",
          "Life of George"
         ],
         "yaxis": "y"
        },
        {
         "hovertemplate": "theme=%{y}<br>year=%{x}<br>number=%{marker.size}<extra></extra>",
         "legendgroup": "Friends",
         "marker": {
          "color": "#636efa",
          "size": [
           34,
           34,
           45,
           50,
           47,
           44,
           47,
           51,
           58,
           46
          ],
          "sizemode": "area",
          "sizeref": 0.17,
          "symbol": "circle"
         },
         "mode": "markers+lines",
         "name": "Friends",
         "orientation": "h",
         "showlegend": true,
         "textfont": {
          "size": 3
         },
         "type": "scatter",
         "x": [
          2012,
          2013,
          2014,
          2015,
          2016,
          2017,
          2018,
          2019,
          2020,
          2021
         ],
         "xaxis": "x",
         "y": [
          "Friends",
          "Friends",
          "Friends",
          "Friends",
          "Friends",
          "Friends",
          "Friends",
          "Friends",
          "Friends",
          "Friends"
         ],
         "yaxis": "y"
        },
        {
         "hovertemplate": "theme=%{y}<br>year=%{x}<br>number=%{marker.size}<extra></extra>",
         "legendgroup": "Marvel Super Heroes",
         "marker": {
          "color": "#EF553B",
          "size": [
           13,
           7,
           12,
           14,
           16,
           15,
           17,
           20,
           25,
           41
          ],
          "sizemode": "area",
          "sizeref": 0.17,
          "symbol": "circle"
         },
         "mode": "markers+lines",
         "name": "Marvel Super Heroes",
         "orientation": "h",
         "showlegend": true,
         "textfont": {
          "size": 3
         },
         "type": "scatter",
         "x": [
          2012,
          2013,
          2014,
          2015,
          2016,
          2017,
          2018,
          2019,
          2020,
          2021
         ],
         "xaxis": "x",
         "y": [
          "Marvel Super Heroes",
          "Marvel Super Heroes",
          "Marvel Super Heroes",
          "Marvel Super Heroes",
          "Marvel Super Heroes",
          "Marvel Super Heroes",
          "Marvel Super Heroes",
          "Marvel Super Heroes",
          "Marvel Super Heroes",
          "Marvel Super Heroes"
         ],
         "yaxis": "y"
        },
        {
         "hovertemplate": "theme=%{y}<br>year=%{x}<br>number=%{marker.size}<extra></extra>",
         "legendgroup": "Monster Fighters",
         "marker": {
          "color": "#00cc96",
          "size": [
           13
          ],
          "sizemode": "area",
          "sizeref": 0.17,
          "symbol": "circle"
         },
         "mode": "markers+lines",
         "name": "Monster Fighters",
         "orientation": "h",
         "showlegend": true,
         "textfont": {
          "size": 3
         },
         "type": "scatter",
         "x": [
          2012
         ],
         "xaxis": "x",
         "y": [
          "Monster Fighters"
         ],
         "yaxis": "y"
        },
        {
         "hovertemplate": "theme=%{y}<br>year=%{x}<br>number=%{marker.size}<extra></extra>",
         "legendgroup": "DC Comics Super Heroes",
         "marker": {
          "color": "#ab63fa",
          "size": [
           12,
           8,
           9,
           9,
           16,
           8,
           14,
           18,
           11,
           13
          ],
          "sizemode": "area",
          "sizeref": 0.17,
          "symbol": "circle"
         },
         "mode": "markers+lines",
         "name": "DC Comics Super Heroes",
         "orientation": "h",
         "showlegend": true,
         "textfont": {
          "size": 3
         },
         "type": "scatter",
         "x": [
          2012,
          2013,
          2014,
          2015,
          2016,
          2017,
          2018,
          2019,
          2020,
          2021
         ],
         "xaxis": "x",
         "y": [
          "DC Comics Super Heroes",
          "DC Comics Super Heroes",
          "DC Comics Super Heroes",
          "DC Comics Super Heroes",
          "DC Comics Super Heroes",
          "DC Comics Super Heroes",
          "DC Comics Super Heroes",
          "DC Comics Super Heroes",
          "DC Comics Super Heroes",
          "DC Comics Super Heroes"
         ],
         "yaxis": "y"
        },
        {
         "hovertemplate": "theme=%{y}<br>year=%{x}<br>number=%{marker.size}<extra></extra>",
         "legendgroup": "The Lord of the Rings",
         "marker": {
          "color": "#FFA15A",
          "size": [
           10,
           5
          ],
          "sizemode": "area",
          "sizeref": 0.17,
          "symbol": "circle"
         },
         "mode": "markers+lines",
         "name": "The Lord of the Rings",
         "orientation": "h",
         "showlegend": true,
         "textfont": {
          "size": 3
         },
         "type": "scatter",
         "x": [
          2012,
          2013
         ],
         "xaxis": "x",
         "y": [
          "The Lord of the Rings",
          "The Lord of the Rings"
         ],
         "yaxis": "y"
        },
        {
         "hovertemplate": "theme=%{y}<br>year=%{x}<br>number=%{marker.size}<extra></extra>",
         "legendgroup": "The Hobbit",
         "marker": {
          "color": "#19d3f3",
          "size": [
           8,
           6,
           5
          ],
          "sizemode": "area",
          "sizeref": 0.17,
          "symbol": "circle"
         },
         "mode": "markers+lines",
         "name": "The Hobbit",
         "orientation": "h",
         "showlegend": true,
         "textfont": {
          "size": 3
         },
         "type": "scatter",
         "x": [
          2012,
          2013,
          2014
         ],
         "xaxis": "x",
         "y": [
          "The Hobbit",
          "The Hobbit",
          "The Hobbit"
         ],
         "yaxis": "y"
        },
        {
         "hovertemplate": "theme=%{y}<br>year=%{x}<br>number=%{marker.size}<extra></extra>",
         "legendgroup": "Dino",
         "marker": {
          "color": "#FF6692",
          "size": [
           7
          ],
          "sizemode": "area",
          "sizeref": 0.17,
          "symbol": "circle"
         },
         "mode": "markers+lines",
         "name": "Dino",
         "orientation": "h",
         "showlegend": true,
         "textfont": {
          "size": 3
         },
         "type": "scatter",
         "x": [
          2012
         ],
         "xaxis": "x",
         "y": [
          "Dino"
         ],
         "yaxis": "y"
        },
        {
         "hovertemplate": "theme=%{y}<br>year=%{x}<br>number=%{marker.size}<extra></extra>",
         "legendgroup": "Legends of Chima",
         "marker": {
          "color": "#B6E880",
          "size": [
           57,
           48,
           14
          ],
          "sizemode": "area",
          "sizeref": 0.17,
          "symbol": "circle"
         },
         "mode": "markers+lines",
         "name": "Legends of Chima",
         "orientation": "h",
         "showlegend": true,
         "textfont": {
          "size": 3
         },
         "type": "scatter",
         "x": [
          2013,
          2014,
          2015
         ],
         "xaxis": "x",
         "y": [
          "Legends of Chima",
          "Legends of Chima",
          "Legends of Chima"
         ],
         "yaxis": "y"
        },
        {
         "hovertemplate": "theme=%{y}<br>year=%{x}<br>number=%{marker.size}<extra></extra>",
         "legendgroup": "The Lone Ranger",
         "marker": {
          "color": "#FF97FF",
          "size": [
           8
          ],
          "sizemode": "area",
          "sizeref": 0.17,
          "symbol": "circle"
         },
         "mode": "markers+lines",
         "name": "The Lone Ranger",
         "orientation": "h",
         "showlegend": true,
         "textfont": {
          "size": 3
         },
         "type": "scatter",
         "x": [
          2013
         ],
         "xaxis": "x",
         "y": [
          "The Lone Ranger"
         ],
         "yaxis": "y"
        },
        {
         "hovertemplate": "theme=%{y}<br>year=%{x}<br>number=%{marker.size}<extra></extra>",
         "legendgroup": "Teenage Mutant Ninja Turtles",
         "marker": {
          "color": "#FECB52",
          "size": [
           7,
           10
          ],
          "sizemode": "area",
          "sizeref": 0.17,
          "symbol": "circle"
         },
         "mode": "markers+lines",
         "name": "Teenage Mutant Ninja Turtles",
         "orientation": "h",
         "showlegend": true,
         "textfont": {
          "size": 3
         },
         "type": "scatter",
         "x": [
          2013,
          2014
         ],
         "xaxis": "x",
         "y": [
          "Teenage Mutant Ninja Turtles",
          "Teenage Mutant Ninja Turtles"
         ],
         "yaxis": "y"
        },
        {
         "hovertemplate": "theme=%{y}<br>year=%{x}<br>number=%{marker.size}<extra></extra>",
         "legendgroup": "Minecraft",
         "marker": {
          "color": "#636efa",
          "size": [
           2,
           7,
           4,
           8,
           9,
           10,
           9,
           13,
           11
          ],
          "sizemode": "area",
          "sizeref": 0.17,
          "symbol": "circle"
         },
         "mode": "markers+lines",
         "name": "Minecraft",
         "orientation": "h",
         "showlegend": true,
         "textfont": {
          "size": 3
         },
         "type": "scatter",
         "x": [
          2013,
          2014,
          2015,
          2016,
          2017,
          2018,
          2019,
          2020,
          2021
         ],
         "xaxis": "x",
         "y": [
          "Minecraft",
          "Minecraft",
          "Minecraft",
          "Minecraft",
          "Minecraft",
          "Minecraft",
          "Minecraft",
          "Minecraft",
          "Minecraft"
         ],
         "yaxis": "y"
        },
        {
         "hovertemplate": "theme=%{y}<br>year=%{x}<br>number=%{marker.size}<extra></extra>",
         "legendgroup": "Mixels",
         "marker": {
          "color": "#EF553B",
          "size": [
           30,
           30,
           29
          ],
          "sizemode": "area",
          "sizeref": 0.17,
          "symbol": "circle"
         },
         "mode": "markers+lines",
         "name": "Mixels",
         "orientation": "h",
         "showlegend": true,
         "textfont": {
          "size": 3
         },
         "type": "scatter",
         "x": [
          2014,
          2015,
          2016
         ],
         "xaxis": "x",
         "y": [
          "Mixels",
          "Mixels",
          "Mixels"
         ],
         "yaxis": "y"
        },
        {
         "hovertemplate": "theme=%{y}<br>year=%{x}<br>number=%{marker.size}<extra></extra>",
         "legendgroup": "The LEGO Movie",
         "marker": {
          "color": "#00cc96",
          "size": [
           24,
           3
          ],
          "sizemode": "area",
          "sizeref": 0.17,
          "symbol": "circle"
         },
         "mode": "markers+lines",
         "name": "The LEGO Movie",
         "orientation": "h",
         "showlegend": true,
         "textfont": {
          "size": 3
         },
         "type": "scatter",
         "x": [
          2014,
          2015
         ],
         "xaxis": "x",
         "y": [
          "The LEGO Movie",
          "The LEGO Movie"
         ],
         "yaxis": "y"
        },
        {
         "hovertemplate": "theme=%{y}<br>year=%{x}<br>number=%{marker.size}<extra></extra>",
         "legendgroup": "Juniors",
         "marker": {
          "color": "#ab63fa",
          "size": [
           11,
           8,
           11,
           18,
           19
          ],
          "sizemode": "area",
          "sizeref": 0.17,
          "symbol": "circle"
         },
         "mode": "markers+lines",
         "name": "Juniors",
         "orientation": "h",
         "showlegend": true,
         "textfont": {
          "size": 3
         },
         "type": "scatter",
         "x": [
          2014,
          2015,
          2016,
          2017,
          2018
         ],
         "xaxis": "x",
         "y": [
          "Juniors",
          "Juniors",
          "Juniors",
          "Juniors",
          "Juniors"
         ],
         "yaxis": "y"
        },
        {
         "hovertemplate": "theme=%{y}<br>year=%{x}<br>number=%{marker.size}<extra></extra>",
         "legendgroup": "Disney",
         "marker": {
          "color": "#FFA15A",
          "size": [
           7,
           4,
           10,
           9,
           11,
           16,
           22,
           26
          ],
          "sizemode": "area",
          "sizeref": 0.17,
          "symbol": "circle"
         },
         "mode": "markers+lines",
         "name": "Disney",
         "orientation": "h",
         "showlegend": true,
         "textfont": {
          "size": 3
         },
         "type": "scatter",
         "x": [
          2014,
          2015,
          2016,
          2017,
          2018,
          2019,
          2020,
          2021
         ],
         "xaxis": "x",
         "y": [
          "Disney",
          "Disney",
          "Disney",
          "Disney",
          "Disney",
          "Disney",
          "Disney",
          "Disney"
         ],
         "yaxis": "y"
        },
        {
         "hovertemplate": "theme=%{y}<br>year=%{x}<br>number=%{marker.size}<extra></extra>",
         "legendgroup": "Ultra Agents",
         "marker": {
          "color": "#19d3f3",
          "size": [
           6,
           8
          ],
          "sizemode": "area",
          "sizeref": 0.17,
          "symbol": "circle"
         },
         "mode": "markers+lines",
         "name": "Ultra Agents",
         "orientation": "h",
         "showlegend": true,
         "textfont": {
          "size": 3
         },
         "type": "scatter",
         "x": [
          2014,
          2015
         ],
         "xaxis": "x",
         "y": [
          "Ultra Agents",
          "Ultra Agents"
         ],
         "yaxis": "y"
        },
        {
         "hovertemplate": "theme=%{y}<br>year=%{x}<br>number=%{marker.size}<extra></extra>",
         "legendgroup": "Fusion",
         "marker": {
          "color": "#FF6692",
          "size": [
           4
          ],
          "sizemode": "area",
          "sizeref": 0.17,
          "symbol": "circle"
         },
         "mode": "markers+lines",
         "name": "Fusion",
         "orientation": "h",
         "showlegend": true,
         "textfont": {
          "size": 3
         },
         "type": "scatter",
         "x": [
          2014
         ],
         "xaxis": "x",
         "y": [
          "Fusion"
         ],
         "yaxis": "y"
        },
        {
         "hovertemplate": "theme=%{y}<br>year=%{x}<br>number=%{marker.size}<extra></extra>",
         "legendgroup": "The Simpsons",
         "marker": {
          "color": "#B6E880",
          "size": [
           1,
           1
          ],
          "sizemode": "area",
          "sizeref": 0.17,
          "symbol": "circle"
         },
         "mode": "markers+lines",
         "name": "The Simpsons",
         "orientation": "h",
         "showlegend": true,
         "textfont": {
          "size": 3
         },
         "type": "scatter",
         "x": [
          2014,
          2015
         ],
         "xaxis": "x",
         "y": [
          "The Simpsons",
          "The Simpsons"
         ],
         "yaxis": "y"
        },
        {
         "hovertemplate": "theme=%{y}<br>year=%{x}<br>number=%{marker.size}<extra></extra>",
         "legendgroup": "Dimensions",
         "marker": {
          "color": "#FF97FF",
          "size": [
           31,
           26,
           11
          ],
          "sizemode": "area",
          "sizeref": 0.17,
          "symbol": "circle"
         },
         "mode": "markers+lines",
         "name": "Dimensions",
         "orientation": "h",
         "showlegend": true,
         "textfont": {
          "size": 3
         },
         "type": "scatter",
         "x": [
          2015,
          2016,
          2017
         ],
         "xaxis": "x",
         "y": [
          "Dimensions",
          "Dimensions",
          "Dimensions"
         ],
         "yaxis": "y"
        },
        {
         "hovertemplate": "theme=%{y}<br>year=%{x}<br>number=%{marker.size}<extra></extra>",
         "legendgroup": "Elves",
         "marker": {
          "color": "#FECB52",
          "size": [
           11,
           13,
           10,
           7
          ],
          "sizemode": "area",
          "sizeref": 0.17,
          "symbol": "circle"
         },
         "mode": "markers+lines",
         "name": "Elves",
         "orientation": "h",
         "showlegend": true,
         "textfont": {
          "size": 3
         },
         "type": "scatter",
         "x": [
          2015,
          2016,
          2017,
          2018
         ],
         "xaxis": "x",
         "y": [
          "Elves",
          "Elves",
          "Elves",
          "Elves"
         ],
         "yaxis": "y"
        },
        {
         "hovertemplate": "theme=%{y}<br>year=%{x}<br>number=%{marker.size}<extra></extra>",
         "legendgroup": "Jurassic World",
         "marker": {
          "color": "#636efa",
          "size": [
           7,
           13,
           7,
           11,
           9
          ],
          "sizemode": "area",
          "sizeref": 0.17,
          "symbol": "circle"
         },
         "mode": "markers+lines",
         "name": "Jurassic World",
         "orientation": "h",
         "showlegend": true,
         "textfont": {
          "size": 3
         },
         "type": "scatter",
         "x": [
          2015,
          2018,
          2019,
          2020,
          2021
         ],
         "xaxis": "x",
         "y": [
          "Jurassic World",
          "Jurassic World",
          "Jurassic World",
          "Jurassic World",
          "Jurassic World"
         ],
         "yaxis": "y"
        },
        {
         "hovertemplate": "theme=%{y}<br>year=%{x}<br>number=%{marker.size}<extra></extra>",
         "legendgroup": "Speed Champions",
         "marker": {
          "color": "#EF553B",
          "size": [
           7,
           7,
           8,
           6,
           6,
           7,
           7
          ],
          "sizemode": "area",
          "sizeref": 0.17,
          "symbol": "circle"
         },
         "mode": "markers+lines",
         "name": "Speed Champions",
         "orientation": "h",
         "showlegend": true,
         "textfont": {
          "size": 3
         },
         "type": "scatter",
         "x": [
          2015,
          2016,
          2017,
          2018,
          2019,
          2020,
          2021
         ],
         "xaxis": "x",
         "y": [
          "Speed Champions",
          "Speed Champions",
          "Speed Champions",
          "Speed Champions",
          "Speed Champions",
          "Speed Champions",
          "Speed Champions"
         ],
         "yaxis": "y"
        },
        {
         "hovertemplate": "theme=%{y}<br>year=%{x}<br>number=%{marker.size}<extra></extra>",
         "legendgroup": "Scooby-Doo",
         "marker": {
          "color": "#00cc96",
          "size": [
           5,
           1
          ],
          "sizemode": "area",
          "sizeref": 0.17,
          "symbol": "circle"
         },
         "mode": "markers+lines",
         "name": "Scooby-Doo",
         "orientation": "h",
         "showlegend": true,
         "textfont": {
          "size": 3
         },
         "type": "scatter",
         "x": [
          2015,
          2016
         ],
         "xaxis": "x",
         "y": [
          "Scooby-Doo",
          "Scooby-Doo"
         ],
         "yaxis": "y"
        },
        {
         "hovertemplate": "theme=%{y}<br>year=%{x}<br>number=%{marker.size}<extra></extra>",
         "legendgroup": "Nexo Knights",
         "marker": {
          "color": "#ab63fa",
          "size": [
           49,
           41,
           15
          ],
          "sizemode": "area",
          "sizeref": 0.17,
          "symbol": "circle"
         },
         "mode": "markers+lines",
         "name": "Nexo Knights",
         "orientation": "h",
         "showlegend": true,
         "textfont": {
          "size": 3
         },
         "type": "scatter",
         "x": [
          2016,
          2017,
          2018
         ],
         "xaxis": "x",
         "y": [
          "Nexo Knights",
          "Nexo Knights",
          "Nexo Knights"
         ],
         "yaxis": "y"
        },
        {
         "hovertemplate": "theme=%{y}<br>year=%{x}<br>number=%{marker.size}<extra></extra>",
         "legendgroup": "The Angry Birds Movie",
         "marker": {
          "color": "#FFA15A",
          "size": [
           6
          ],
          "sizemode": "area",
          "sizeref": 0.17,
          "symbol": "circle"
         },
         "mode": "markers+lines",
         "name": "The Angry Birds Movie",
         "orientation": "h",
         "showlegend": true,
         "textfont": {
          "size": 3
         },
         "type": "scatter",
         "x": [
          2016
         ],
         "xaxis": "x",
         "y": [
          "The Angry Birds Movie"
         ],
         "yaxis": "y"
        },
        {
         "hovertemplate": "theme=%{y}<br>year=%{x}<br>number=%{marker.size}<extra></extra>",
         "legendgroup": "BrickHeadz",
         "marker": {
          "color": "#19d3f3",
          "size": [
           4,
           20,
           42,
           14,
           13,
           17
          ],
          "sizemode": "area",
          "sizeref": 0.17,
          "symbol": "circle"
         },
         "mode": "markers+lines",
         "name": "BrickHeadz",
         "orientation": "h",
         "showlegend": true,
         "textfont": {
          "size": 3
         },
         "type": "scatter",
         "x": [
          2016,
          2017,
          2018,
          2019,
          2020,
          2021
         ],
         "xaxis": "x",
         "y": [
          "BrickHeadz",
          "BrickHeadz",
          "BrickHeadz",
          "BrickHeadz",
          "BrickHeadz",
          "BrickHeadz"
         ],
         "yaxis": "y"
        },
        {
         "hovertemplate": "theme=%{y}<br>year=%{x}<br>number=%{marker.size}<extra></extra>",
         "legendgroup": "Ghostbusters",
         "marker": {
          "color": "#FF6692",
          "size": [
           2
          ],
          "sizemode": "area",
          "sizeref": 0.17,
          "symbol": "circle"
         },
         "mode": "markers+lines",
         "name": "Ghostbusters",
         "orientation": "h",
         "showlegend": true,
         "textfont": {
          "size": 3
         },
         "type": "scatter",
         "x": [
          2016
         ],
         "xaxis": "x",
         "y": [
          "Ghostbusters"
         ],
         "yaxis": "y"
        },
        {
         "hovertemplate": "theme=%{y}<br>year=%{x}<br>number=%{marker.size}<extra></extra>",
         "legendgroup": "The LEGO Batman Movie",
         "marker": {
          "color": "#B6E880",
          "size": [
           33,
           9
          ],
          "sizemode": "area",
          "sizeref": 0.17,
          "symbol": "circle"
         },
         "mode": "markers+lines",
         "name": "The LEGO Batman Movie",
         "orientation": "h",
         "showlegend": true,
         "textfont": {
          "size": 3
         },
         "type": "scatter",
         "x": [
          2017,
          2018
         ],
         "xaxis": "x",
         "y": [
          "The LEGO Batman Movie",
          "The LEGO Batman Movie"
         ],
         "yaxis": "y"
        },
        {
         "hovertemplate": "theme=%{y}<br>year=%{x}<br>number=%{marker.size}<extra></extra>",
         "legendgroup": "The LEGO Ninjago Movie",
         "marker": {
          "color": "#FF97FF",
          "size": [
           27,
           1
          ],
          "sizemode": "area",
          "sizeref": 0.17,
          "symbol": "circle"
         },
         "mode": "markers+lines",
         "name": "The LEGO Ninjago Movie",
         "orientation": "h",
         "showlegend": true,
         "textfont": {
          "size": 3
         },
         "type": "scatter",
         "x": [
          2017,
          2018
         ],
         "xaxis": "x",
         "y": [
          "The LEGO Ninjago Movie",
          "The LEGO Ninjago Movie"
         ],
         "yaxis": "y"
        },
        {
         "hovertemplate": "theme=%{y}<br>year=%{x}<br>number=%{marker.size}<extra></extra>",
         "legendgroup": "DC Super Hero Girls",
         "marker": {
          "color": "#FECB52",
          "size": [
           11
          ],
          "sizemode": "area",
          "sizeref": 0.17,
          "symbol": "circle"
         },
         "mode": "markers+lines",
         "name": "DC Super Hero Girls",
         "orientation": "h",
         "showlegend": true,
         "textfont": {
          "size": 3
         },
         "type": "scatter",
         "x": [
          2017
         ],
         "xaxis": "x",
         "y": [
          "DC Super Hero Girls"
         ],
         "yaxis": "y"
        },
        {
         "hovertemplate": "theme=%{y}<br>year=%{x}<br>number=%{marker.size}<extra></extra>",
         "legendgroup": "Boost",
         "marker": {
          "color": "#636efa",
          "size": [
           1
          ],
          "sizemode": "area",
          "sizeref": 0.17,
          "symbol": "circle"
         },
         "mode": "markers+lines",
         "name": "Boost",
         "orientation": "h",
         "showlegend": true,
         "textfont": {
          "size": 3
         },
         "type": "scatter",
         "x": [
          2017
         ],
         "xaxis": "x",
         "y": [
          "Boost"
         ],
         "yaxis": "y"
        },
        {
         "hovertemplate": "theme=%{y}<br>year=%{x}<br>number=%{marker.size}<extra></extra>",
         "legendgroup": "Unikitty",
         "marker": {
          "color": "#EF553B",
          "size": [
           23
          ],
          "sizemode": "area",
          "sizeref": 0.17,
          "symbol": "circle"
         },
         "mode": "markers+lines",
         "name": "Unikitty",
         "orientation": "h",
         "showlegend": true,
         "textfont": {
          "size": 3
         },
         "type": "scatter",
         "x": [
          2018
         ],
         "xaxis": "x",
         "y": [
          "Unikitty"
         ],
         "yaxis": "y"
        },
        {
         "hovertemplate": "theme=%{y}<br>year=%{x}<br>number=%{marker.size}<extra></extra>",
         "legendgroup": "Xtra",
         "marker": {
          "color": "#00cc96",
          "size": [
           8,
           3,
           4,
           2
          ],
          "sizemode": "area",
          "sizeref": 0.17,
          "symbol": "circle"
         },
         "mode": "markers+lines",
         "name": "Xtra",
         "orientation": "h",
         "showlegend": true,
         "textfont": {
          "size": 3
         },
         "type": "scatter",
         "x": [
          2018,
          2019,
          2020,
          2021
         ],
         "xaxis": "x",
         "y": [
          "Xtra",
          "Xtra",
          "Xtra",
          "Xtra"
         ],
         "yaxis": "y"
        },
        {
         "hovertemplate": "theme=%{y}<br>year=%{x}<br>number=%{marker.size}<extra></extra>",
         "legendgroup": "The Powerpuff Girls",
         "marker": {
          "color": "#ab63fa",
          "size": [
           2
          ],
          "sizemode": "area",
          "sizeref": 0.17,
          "symbol": "circle"
         },
         "mode": "markers+lines",
         "name": "The Powerpuff Girls",
         "orientation": "h",
         "showlegend": true,
         "textfont": {
          "size": 3
         },
         "type": "scatter",
         "x": [
          2018
         ],
         "xaxis": "x",
         "y": [
          "The Powerpuff Girls"
         ],
         "yaxis": "y"
        },
        {
         "hovertemplate": "theme=%{y}<br>year=%{x}<br>number=%{marker.size}<extra></extra>",
         "legendgroup": "Overwatch",
         "marker": {
          "color": "#FFA15A",
          "size": [
           1,
           8
          ],
          "sizemode": "area",
          "sizeref": 0.17,
          "symbol": "circle"
         },
         "mode": "markers+lines",
         "name": "Overwatch",
         "orientation": "h",
         "showlegend": true,
         "textfont": {
          "size": 3
         },
         "type": "scatter",
         "x": [
          2018,
          2019
         ],
         "xaxis": "x",
         "y": [
          "Overwatch",
          "Overwatch"
         ],
         "yaxis": "y"
        },
        {
         "hovertemplate": "theme=%{y}<br>year=%{x}<br>number=%{marker.size}<extra></extra>",
         "legendgroup": "Powered Up",
         "marker": {
          "color": "#19d3f3",
          "size": [
           1,
           6,
           3,
           4
          ],
          "sizemode": "area",
          "sizeref": 0.17,
          "symbol": "circle"
         },
         "mode": "markers+lines",
         "name": "Powered Up",
         "orientation": "h",
         "showlegend": true,
         "textfont": {
          "size": 3
         },
         "type": "scatter",
         "x": [
          2018,
          2019,
          2020,
          2021
         ],
         "xaxis": "x",
         "y": [
          "Powered Up",
          "Powered Up",
          "Powered Up",
          "Powered Up"
         ],
         "yaxis": "y"
        },
        {
         "hovertemplate": "theme=%{y}<br>year=%{x}<br>number=%{marker.size}<extra></extra>",
         "legendgroup": "The LEGO Movie 2",
         "marker": {
          "color": "#FF6692",
          "size": [
           36
          ],
          "sizemode": "area",
          "sizeref": 0.17,
          "symbol": "circle"
         },
         "mode": "markers+lines",
         "name": "The LEGO Movie 2",
         "orientation": "h",
         "showlegend": true,
         "textfont": {
          "size": 3
         },
         "type": "scatter",
         "x": [
          2019
         ],
         "xaxis": "x",
         "y": [
          "The LEGO Movie 2"
         ],
         "yaxis": "y"
        },
        {
         "hovertemplate": "theme=%{y}<br>year=%{x}<br>number=%{marker.size}<extra></extra>",
         "legendgroup": "Hidden Side",
         "marker": {
          "color": "#B6E880",
          "size": [
           12,
           20
          ],
          "sizemode": "area",
          "sizeref": 0.17,
          "symbol": "circle"
         },
         "mode": "markers+lines",
         "name": "Hidden Side",
         "orientation": "h",
         "showlegend": true,
         "textfont": {
          "size": 3
         },
         "type": "scatter",
         "x": [
          2019,
          2020
         ],
         "xaxis": "x",
         "y": [
          "Hidden Side",
          "Hidden Side"
         ],
         "yaxis": "y"
        },
        {
         "hovertemplate": "theme=%{y}<br>year=%{x}<br>number=%{marker.size}<extra></extra>",
         "legendgroup": "FORMA",
         "marker": {
          "color": "#FF97FF",
          "size": [
           4
          ],
          "sizemode": "area",
          "sizeref": 0.17,
          "symbol": "circle"
         },
         "mode": "markers+lines",
         "name": "FORMA",
         "orientation": "h",
         "showlegend": true,
         "textfont": {
          "size": 3
         },
         "type": "scatter",
         "x": [
          2019
         ],
         "xaxis": "x",
         "y": [
          "FORMA"
         ],
         "yaxis": "y"
        },
        {
         "hovertemplate": "theme=%{y}<br>year=%{x}<br>number=%{marker.size}<extra></extra>",
         "legendgroup": "Originals",
         "marker": {
          "color": "#FECB52",
          "size": [
           3
          ],
          "sizemode": "area",
          "sizeref": 0.17,
          "symbol": "circle"
         },
         "mode": "markers+lines",
         "name": "Originals",
         "orientation": "h",
         "showlegend": true,
         "textfont": {
          "size": 3
         },
         "type": "scatter",
         "x": [
          2019
         ],
         "xaxis": "x",
         "y": [
          "Originals"
         ],
         "yaxis": "y"
        },
        {
         "hovertemplate": "theme=%{y}<br>year=%{x}<br>number=%{marker.size}<extra></extra>",
         "legendgroup": "Stranger Things",
         "marker": {
          "color": "#636efa",
          "size": [
           1
          ],
          "sizemode": "area",
          "sizeref": 0.17,
          "symbol": "circle"
         },
         "mode": "markers+lines",
         "name": "Stranger Things",
         "orientation": "h",
         "showlegend": true,
         "textfont": {
          "size": 3
         },
         "type": "scatter",
         "x": [
          2019
         ],
         "xaxis": "x",
         "y": [
          "Stranger Things"
         ],
         "yaxis": "y"
        },
        {
         "hovertemplate": "theme=%{y}<br>year=%{x}<br>number=%{marker.size}<extra></extra>",
         "legendgroup": "Dots",
         "marker": {
          "color": "#EF553B",
          "size": [
           20,
           26
          ],
          "sizemode": "area",
          "sizeref": 0.17,
          "symbol": "circle"
         },
         "mode": "markers+lines",
         "name": "Dots",
         "orientation": "h",
         "showlegend": true,
         "textfont": {
          "size": 3
         },
         "type": "scatter",
         "x": [
          2020,
          2021
         ],
         "xaxis": "x",
         "y": [
          "Dots",
          "Dots"
         ],
         "yaxis": "y"
        },
        {
         "hovertemplate": "theme=%{y}<br>year=%{x}<br>number=%{marker.size}<extra></extra>",
         "legendgroup": "Super Mario",
         "marker": {
          "color": "#00cc96",
          "size": [
           19,
           16
          ],
          "sizemode": "area",
          "sizeref": 0.17,
          "symbol": "circle"
         },
         "mode": "markers+lines",
         "name": "Super Mario",
         "orientation": "h",
         "showlegend": true,
         "textfont": {
          "size": 3
         },
         "type": "scatter",
         "x": [
          2020,
          2021
         ],
         "xaxis": "x",
         "y": [
          "Super Mario",
          "Super Mario"
         ],
         "yaxis": "y"
        },
        {
         "hovertemplate": "theme=%{y}<br>year=%{x}<br>number=%{marker.size}<extra></extra>",
         "legendgroup": "Monkie Kid",
         "marker": {
          "color": "#ab63fa",
          "size": [
           13,
           12
          ],
          "sizemode": "area",
          "sizeref": 0.17,
          "symbol": "circle"
         },
         "mode": "markers+lines",
         "name": "Monkie Kid",
         "orientation": "h",
         "showlegend": true,
         "textfont": {
          "size": 3
         },
         "type": "scatter",
         "x": [
          2020,
          2021
         ],
         "xaxis": "x",
         "y": [
          "Monkie Kid",
          "Monkie Kid"
         ],
         "yaxis": "y"
        },
        {
         "hovertemplate": "theme=%{y}<br>year=%{x}<br>number=%{marker.size}<extra></extra>",
         "legendgroup": "Trolls World Tour",
         "marker": {
          "color": "#FFA15A",
          "size": [
           9
          ],
          "sizemode": "area",
          "sizeref": 0.17,
          "symbol": "circle"
         },
         "mode": "markers+lines",
         "name": "Trolls World Tour",
         "orientation": "h",
         "showlegend": true,
         "textfont": {
          "size": 3
         },
         "type": "scatter",
         "x": [
          2020
         ],
         "xaxis": "x",
         "y": [
          "Trolls World Tour"
         ],
         "yaxis": "y"
        },
        {
         "hovertemplate": "theme=%{y}<br>year=%{x}<br>number=%{marker.size}<extra></extra>",
         "legendgroup": "Art",
         "marker": {
          "color": "#19d3f3",
          "size": [
           4,
           4
          ],
          "sizemode": "area",
          "sizeref": 0.17,
          "symbol": "circle"
         },
         "mode": "markers+lines",
         "name": "Art",
         "orientation": "h",
         "showlegend": true,
         "textfont": {
          "size": 3
         },
         "type": "scatter",
         "x": [
          2020,
          2021
         ],
         "xaxis": "x",
         "y": [
          "Art",
          "Art"
         ],
         "yaxis": "y"
        },
        {
         "hovertemplate": "theme=%{y}<br>year=%{x}<br>number=%{marker.size}<extra></extra>",
         "legendgroup": "Brick Sketches",
         "marker": {
          "color": "#FF6692",
          "size": [
           4,
           2
          ],
          "sizemode": "area",
          "sizeref": 0.17,
          "symbol": "circle"
         },
         "mode": "markers+lines",
         "name": "Brick Sketches",
         "orientation": "h",
         "showlegend": true,
         "textfont": {
          "size": 3
         },
         "type": "scatter",
         "x": [
          2020,
          2021
         ],
         "xaxis": "x",
         "y": [
          "Brick Sketches",
          "Brick Sketches"
         ],
         "yaxis": "y"
        },
        {
         "hovertemplate": "theme=%{y}<br>year=%{x}<br>number=%{marker.size}<extra></extra>",
         "legendgroup": "Minions: The Rise of Gru",
         "marker": {
          "color": "#B6E880",
          "size": [
           2,
           5
          ],
          "sizemode": "area",
          "sizeref": 0.17,
          "symbol": "circle"
         },
         "mode": "markers+lines",
         "name": "Minions: The Rise of Gru",
         "orientation": "h",
         "showlegend": true,
         "textfont": {
          "size": 3
         },
         "type": "scatter",
         "x": [
          2020,
          2021
         ],
         "xaxis": "x",
         "y": [
          "Minions: The Rise of Gru",
          "Minions: The Rise of Gru"
         ],
         "yaxis": "y"
        },
        {
         "hovertemplate": "theme=%{y}<br>year=%{x}<br>number=%{marker.size}<extra></extra>",
         "legendgroup": "Vidiyo",
         "marker": {
          "color": "#FF97FF",
          "size": [
           39
          ],
          "sizemode": "area",
          "sizeref": 0.17,
          "symbol": "circle"
         },
         "mode": "markers+lines",
         "name": "Vidiyo",
         "orientation": "h",
         "showlegend": true,
         "textfont": {
          "size": 3
         },
         "type": "scatter",
         "x": [
          2021
         ],
         "xaxis": "x",
         "y": [
          "Vidiyo"
         ],
         "yaxis": "y"
        },
        {
         "hovertemplate": "theme=%{y}<br>year=%{x}<br>number=%{marker.size}<extra></extra>",
         "legendgroup": "Bricklink",
         "marker": {
          "color": "#FECB52",
          "size": [
           5
          ],
          "sizemode": "area",
          "sizeref": 0.17,
          "symbol": "circle"
         },
         "mode": "markers+lines",
         "name": "Bricklink",
         "orientation": "h",
         "showlegend": true,
         "textfont": {
          "size": 3
         },
         "type": "scatter",
         "x": [
          2021
         ],
         "xaxis": "x",
         "y": [
          "Bricklink"
         ],
         "yaxis": "y"
        }
       ],
       "layout": {
        "font": {
         "size": 9
        },
        "height": 1750,
        "legend": {
         "itemsizing": "constant",
         "title": {
          "text": "theme"
         },
         "tracegroupgap": 0
        },
        "showlegend": false,
        "template": {
         "data": {
          "bar": [
           {
            "error_x": {
             "color": "#2a3f5f"
            },
            "error_y": {
             "color": "#2a3f5f"
            },
            "marker": {
             "line": {
              "color": "#E5ECF6",
              "width": 0.5
             },
             "pattern": {
              "fillmode": "overlay",
              "size": 10,
              "solidity": 0.2
             }
            },
            "type": "bar"
           }
          ],
          "barpolar": [
           {
            "marker": {
             "line": {
              "color": "#E5ECF6",
              "width": 0.5
             },
             "pattern": {
              "fillmode": "overlay",
              "size": 10,
              "solidity": 0.2
             }
            },
            "type": "barpolar"
           }
          ],
          "carpet": [
           {
            "aaxis": {
             "endlinecolor": "#2a3f5f",
             "gridcolor": "white",
             "linecolor": "white",
             "minorgridcolor": "white",
             "startlinecolor": "#2a3f5f"
            },
            "baxis": {
             "endlinecolor": "#2a3f5f",
             "gridcolor": "white",
             "linecolor": "white",
             "minorgridcolor": "white",
             "startlinecolor": "#2a3f5f"
            },
            "type": "carpet"
           }
          ],
          "choropleth": [
           {
            "colorbar": {
             "outlinewidth": 0,
             "ticks": ""
            },
            "type": "choropleth"
           }
          ],
          "contour": [
           {
            "colorbar": {
             "outlinewidth": 0,
             "ticks": ""
            },
            "colorscale": [
             [
              0,
              "#0d0887"
             ],
             [
              0.1111111111111111,
              "#46039f"
             ],
             [
              0.2222222222222222,
              "#7201a8"
             ],
             [
              0.3333333333333333,
              "#9c179e"
             ],
             [
              0.4444444444444444,
              "#bd3786"
             ],
             [
              0.5555555555555556,
              "#d8576b"
             ],
             [
              0.6666666666666666,
              "#ed7953"
             ],
             [
              0.7777777777777778,
              "#fb9f3a"
             ],
             [
              0.8888888888888888,
              "#fdca26"
             ],
             [
              1,
              "#f0f921"
             ]
            ],
            "type": "contour"
           }
          ],
          "contourcarpet": [
           {
            "colorbar": {
             "outlinewidth": 0,
             "ticks": ""
            },
            "type": "contourcarpet"
           }
          ],
          "heatmap": [
           {
            "colorbar": {
             "outlinewidth": 0,
             "ticks": ""
            },
            "colorscale": [
             [
              0,
              "#0d0887"
             ],
             [
              0.1111111111111111,
              "#46039f"
             ],
             [
              0.2222222222222222,
              "#7201a8"
             ],
             [
              0.3333333333333333,
              "#9c179e"
             ],
             [
              0.4444444444444444,
              "#bd3786"
             ],
             [
              0.5555555555555556,
              "#d8576b"
             ],
             [
              0.6666666666666666,
              "#ed7953"
             ],
             [
              0.7777777777777778,
              "#fb9f3a"
             ],
             [
              0.8888888888888888,
              "#fdca26"
             ],
             [
              1,
              "#f0f921"
             ]
            ],
            "type": "heatmap"
           }
          ],
          "heatmapgl": [
           {
            "colorbar": {
             "outlinewidth": 0,
             "ticks": ""
            },
            "colorscale": [
             [
              0,
              "#0d0887"
             ],
             [
              0.1111111111111111,
              "#46039f"
             ],
             [
              0.2222222222222222,
              "#7201a8"
             ],
             [
              0.3333333333333333,
              "#9c179e"
             ],
             [
              0.4444444444444444,
              "#bd3786"
             ],
             [
              0.5555555555555556,
              "#d8576b"
             ],
             [
              0.6666666666666666,
              "#ed7953"
             ],
             [
              0.7777777777777778,
              "#fb9f3a"
             ],
             [
              0.8888888888888888,
              "#fdca26"
             ],
             [
              1,
              "#f0f921"
             ]
            ],
            "type": "heatmapgl"
           }
          ],
          "histogram": [
           {
            "marker": {
             "pattern": {
              "fillmode": "overlay",
              "size": 10,
              "solidity": 0.2
             }
            },
            "type": "histogram"
           }
          ],
          "histogram2d": [
           {
            "colorbar": {
             "outlinewidth": 0,
             "ticks": ""
            },
            "colorscale": [
             [
              0,
              "#0d0887"
             ],
             [
              0.1111111111111111,
              "#46039f"
             ],
             [
              0.2222222222222222,
              "#7201a8"
             ],
             [
              0.3333333333333333,
              "#9c179e"
             ],
             [
              0.4444444444444444,
              "#bd3786"
             ],
             [
              0.5555555555555556,
              "#d8576b"
             ],
             [
              0.6666666666666666,
              "#ed7953"
             ],
             [
              0.7777777777777778,
              "#fb9f3a"
             ],
             [
              0.8888888888888888,
              "#fdca26"
             ],
             [
              1,
              "#f0f921"
             ]
            ],
            "type": "histogram2d"
           }
          ],
          "histogram2dcontour": [
           {
            "colorbar": {
             "outlinewidth": 0,
             "ticks": ""
            },
            "colorscale": [
             [
              0,
              "#0d0887"
             ],
             [
              0.1111111111111111,
              "#46039f"
             ],
             [
              0.2222222222222222,
              "#7201a8"
             ],
             [
              0.3333333333333333,
              "#9c179e"
             ],
             [
              0.4444444444444444,
              "#bd3786"
             ],
             [
              0.5555555555555556,
              "#d8576b"
             ],
             [
              0.6666666666666666,
              "#ed7953"
             ],
             [
              0.7777777777777778,
              "#fb9f3a"
             ],
             [
              0.8888888888888888,
              "#fdca26"
             ],
             [
              1,
              "#f0f921"
             ]
            ],
            "type": "histogram2dcontour"
           }
          ],
          "mesh3d": [
           {
            "colorbar": {
             "outlinewidth": 0,
             "ticks": ""
            },
            "type": "mesh3d"
           }
          ],
          "parcoords": [
           {
            "line": {
             "colorbar": {
              "outlinewidth": 0,
              "ticks": ""
             }
            },
            "type": "parcoords"
           }
          ],
          "pie": [
           {
            "automargin": true,
            "type": "pie"
           }
          ],
          "scatter": [
           {
            "marker": {
             "colorbar": {
              "outlinewidth": 0,
              "ticks": ""
             }
            },
            "type": "scatter"
           }
          ],
          "scatter3d": [
           {
            "line": {
             "colorbar": {
              "outlinewidth": 0,
              "ticks": ""
             }
            },
            "marker": {
             "colorbar": {
              "outlinewidth": 0,
              "ticks": ""
             }
            },
            "type": "scatter3d"
           }
          ],
          "scattercarpet": [
           {
            "marker": {
             "colorbar": {
              "outlinewidth": 0,
              "ticks": ""
             }
            },
            "type": "scattercarpet"
           }
          ],
          "scattergeo": [
           {
            "marker": {
             "colorbar": {
              "outlinewidth": 0,
              "ticks": ""
             }
            },
            "type": "scattergeo"
           }
          ],
          "scattergl": [
           {
            "marker": {
             "colorbar": {
              "outlinewidth": 0,
              "ticks": ""
             }
            },
            "type": "scattergl"
           }
          ],
          "scattermapbox": [
           {
            "marker": {
             "colorbar": {
              "outlinewidth": 0,
              "ticks": ""
             }
            },
            "type": "scattermapbox"
           }
          ],
          "scatterpolar": [
           {
            "marker": {
             "colorbar": {
              "outlinewidth": 0,
              "ticks": ""
             }
            },
            "type": "scatterpolar"
           }
          ],
          "scatterpolargl": [
           {
            "marker": {
             "colorbar": {
              "outlinewidth": 0,
              "ticks": ""
             }
            },
            "type": "scatterpolargl"
           }
          ],
          "scatterternary": [
           {
            "marker": {
             "colorbar": {
              "outlinewidth": 0,
              "ticks": ""
             }
            },
            "type": "scatterternary"
           }
          ],
          "surface": [
           {
            "colorbar": {
             "outlinewidth": 0,
             "ticks": ""
            },
            "colorscale": [
             [
              0,
              "#0d0887"
             ],
             [
              0.1111111111111111,
              "#46039f"
             ],
             [
              0.2222222222222222,
              "#7201a8"
             ],
             [
              0.3333333333333333,
              "#9c179e"
             ],
             [
              0.4444444444444444,
              "#bd3786"
             ],
             [
              0.5555555555555556,
              "#d8576b"
             ],
             [
              0.6666666666666666,
              "#ed7953"
             ],
             [
              0.7777777777777778,
              "#fb9f3a"
             ],
             [
              0.8888888888888888,
              "#fdca26"
             ],
             [
              1,
              "#f0f921"
             ]
            ],
            "type": "surface"
           }
          ],
          "table": [
           {
            "cells": {
             "fill": {
              "color": "#EBF0F8"
             },
             "line": {
              "color": "white"
             }
            },
            "header": {
             "fill": {
              "color": "#C8D4E3"
             },
             "line": {
              "color": "white"
             }
            },
            "type": "table"
           }
          ]
         },
         "layout": {
          "annotationdefaults": {
           "arrowcolor": "#2a3f5f",
           "arrowhead": 0,
           "arrowwidth": 1
          },
          "autotypenumbers": "strict",
          "coloraxis": {
           "colorbar": {
            "outlinewidth": 0,
            "ticks": ""
           }
          },
          "colorscale": {
           "diverging": [
            [
             0,
             "#8e0152"
            ],
            [
             0.1,
             "#c51b7d"
            ],
            [
             0.2,
             "#de77ae"
            ],
            [
             0.3,
             "#f1b6da"
            ],
            [
             0.4,
             "#fde0ef"
            ],
            [
             0.5,
             "#f7f7f7"
            ],
            [
             0.6,
             "#e6f5d0"
            ],
            [
             0.7,
             "#b8e186"
            ],
            [
             0.8,
             "#7fbc41"
            ],
            [
             0.9,
             "#4d9221"
            ],
            [
             1,
             "#276419"
            ]
           ],
           "sequential": [
            [
             0,
             "#0d0887"
            ],
            [
             0.1111111111111111,
             "#46039f"
            ],
            [
             0.2222222222222222,
             "#7201a8"
            ],
            [
             0.3333333333333333,
             "#9c179e"
            ],
            [
             0.4444444444444444,
             "#bd3786"
            ],
            [
             0.5555555555555556,
             "#d8576b"
            ],
            [
             0.6666666666666666,
             "#ed7953"
            ],
            [
             0.7777777777777778,
             "#fb9f3a"
            ],
            [
             0.8888888888888888,
             "#fdca26"
            ],
            [
             1,
             "#f0f921"
            ]
           ],
           "sequentialminus": [
            [
             0,
             "#0d0887"
            ],
            [
             0.1111111111111111,
             "#46039f"
            ],
            [
             0.2222222222222222,
             "#7201a8"
            ],
            [
             0.3333333333333333,
             "#9c179e"
            ],
            [
             0.4444444444444444,
             "#bd3786"
            ],
            [
             0.5555555555555556,
             "#d8576b"
            ],
            [
             0.6666666666666666,
             "#ed7953"
            ],
            [
             0.7777777777777778,
             "#fb9f3a"
            ],
            [
             0.8888888888888888,
             "#fdca26"
            ],
            [
             1,
             "#f0f921"
            ]
           ]
          },
          "colorway": [
           "#636efa",
           "#EF553B",
           "#00cc96",
           "#ab63fa",
           "#FFA15A",
           "#19d3f3",
           "#FF6692",
           "#B6E880",
           "#FF97FF",
           "#FECB52"
          ],
          "font": {
           "color": "#2a3f5f"
          },
          "geo": {
           "bgcolor": "white",
           "lakecolor": "white",
           "landcolor": "#E5ECF6",
           "showlakes": true,
           "showland": true,
           "subunitcolor": "white"
          },
          "hoverlabel": {
           "align": "left"
          },
          "hovermode": "closest",
          "mapbox": {
           "style": "light"
          },
          "paper_bgcolor": "white",
          "plot_bgcolor": "#E5ECF6",
          "polar": {
           "angularaxis": {
            "gridcolor": "white",
            "linecolor": "white",
            "ticks": ""
           },
           "bgcolor": "#E5ECF6",
           "radialaxis": {
            "gridcolor": "white",
            "linecolor": "white",
            "ticks": ""
           }
          },
          "scene": {
           "xaxis": {
            "backgroundcolor": "#E5ECF6",
            "gridcolor": "white",
            "gridwidth": 2,
            "linecolor": "white",
            "showbackground": true,
            "ticks": "",
            "zerolinecolor": "white"
           },
           "yaxis": {
            "backgroundcolor": "#E5ECF6",
            "gridcolor": "white",
            "gridwidth": 2,
            "linecolor": "white",
            "showbackground": true,
            "ticks": "",
            "zerolinecolor": "white"
           },
           "zaxis": {
            "backgroundcolor": "#E5ECF6",
            "gridcolor": "white",
            "gridwidth": 2,
            "linecolor": "white",
            "showbackground": true,
            "ticks": "",
            "zerolinecolor": "white"
           }
          },
          "shapedefaults": {
           "line": {
            "color": "#2a3f5f"
           }
          },
          "ternary": {
           "aaxis": {
            "gridcolor": "white",
            "linecolor": "white",
            "ticks": ""
           },
           "baxis": {
            "gridcolor": "white",
            "linecolor": "white",
            "ticks": ""
           },
           "bgcolor": "#E5ECF6",
           "caxis": {
            "gridcolor": "white",
            "linecolor": "white",
            "ticks": ""
           }
          },
          "title": {
           "x": 0.05
          },
          "xaxis": {
           "automargin": true,
           "gridcolor": "white",
           "linecolor": "white",
           "ticks": "",
           "title": {
            "standoff": 15
           },
           "zerolinecolor": "white",
           "zerolinewidth": 2
          },
          "yaxis": {
           "automargin": true,
           "gridcolor": "white",
           "linecolor": "white",
           "ticks": "",
           "title": {
            "standoff": 15
           },
           "zerolinecolor": "white",
           "zerolinewidth": 2
          }
         }
        },
        "title": {
         "text": "Available themes in the period 1991-2021"
        },
        "xaxis": {
         "anchor": "y",
         "domain": [
          0,
          1
         ],
         "dtick": 1,
         "tick0": 0,
         "tickmode": "linear",
         "title": {
          "text": "year"
         }
        },
        "yaxis": {
         "anchor": "x",
         "categoryarray": [
          "Bricklink",
          "Vidiyo",
          "Minions: The Rise of Gru",
          "Brick Sketches",
          "Art",
          "Trolls World Tour",
          "Monkie Kid",
          "Super Mario",
          "Dots",
          "Stranger Things",
          "Originals",
          "FORMA",
          "Hidden Side",
          "The LEGO Movie 2",
          "Powered Up",
          "Overwatch",
          "The Powerpuff Girls",
          "Xtra",
          "Unikitty",
          "Boost",
          "DC Super Hero Girls",
          "The LEGO Ninjago Movie",
          "The LEGO Batman Movie",
          "Ghostbusters",
          "BrickHeadz",
          "The Angry Birds Movie",
          "Nexo Knights",
          "Scooby-Doo",
          "Speed Champions",
          "Jurassic World",
          "Elves",
          "Dimensions",
          "The Simpsons",
          "Fusion",
          "Ultra Agents",
          "Disney",
          "Juniors",
          "The LEGO Movie",
          "Mixels",
          "Minecraft",
          "Teenage Mutant Ninja Turtles",
          "The Lone Ranger",
          "Legends of Chima",
          "Dino",
          "The Hobbit",
          "The Lord of the Rings",
          "DC Comics Super Heroes",
          "Monster Fighters",
          "Marvel Super Heroes",
          "Friends",
          "Life of George",
          "Ideas",
          "Master Builder Academy",
          "Pharaoh's Quest",
          "Pirates of the Caribbean",
          "Cars",
          "Ninjago",
          "Universe",
          "Prince of Persia",
          "Ben 10: Alien Force",
          "World Racers",
          "Toy Story",
          "HERO Factory",
          "Atlantis",
          "Games",
          "Power Miners",
          "Architecture",
          "Power Functions",
          "Agents",
          "Indiana Jones",
          "Serious Play",
          "Aqua Raiders",
          "Bricks and More",
          "Avatar The Last Airbender",
          "SpongeBob SquarePants",
          "Batman",
          "Exo-Force",
          "Factory",
          "Vikings",
          "Make and Create",
          "Dino Attack",
          "Dino 2010",
          "City",
          "Quatro",
          "Hobby Set",
          "Spider-Man",
          "Discovery",
          "4 Juniors",
          "Clikits",
          "World City",
          "Gear",
          "Miscellaneous",
          "Spybotics",
          "Island Xtreme Stunts",
          "Galidor",
          "Explore",
          "Alpha Team",
          "Jack Stone",
          "Harry Potter",
          "Dinosaurs",
          "Bionicle",
          "Studios",
          "Creator Expert",
          "Mickey Mouse",
          "Action Wheelers",
          "Baby",
          "Sports",
          "Bulk Bricks",
          "Seasonal",
          "Rock Raiders",
          "Star Wars",
          "Racers",
          "Classic",
          "Mindstorms",
          "Znap",
          "Adventurers",
          "Scala",
          "Education",
          "Time Cruisers",
          "Western",
          "Primo",
          "Creator",
          "Aquazone",
          "Freestyle",
          "Belville",
          "Promotional",
          "Model Team",
          "Castle",
          "Books",
          "Assorted",
          "Boats",
          "Pirates",
          "Technic",
          "Dacta",
          "Basic",
          "Trains",
          "Space",
          "Town",
          "Service Packs",
          "Duplo"
         ],
         "categoryorder": "array",
         "domain": [
          0,
          1
         ],
         "dtick": 1,
         "tick0": 1,
         "tickmode": "linear",
         "title": {
          "text": "theme"
         }
        }
       }
      },
      "text/html": [
       "<div>                            <div id=\"27c68b18-414b-4890-9ad5-930877aeca82\" class=\"plotly-graph-div\" style=\"height:1750px; width:100%;\"></div>            <script type=\"text/javascript\">                require([\"plotly\"], function(Plotly) {                    window.PLOTLYENV=window.PLOTLYENV || {};                                    if (document.getElementById(\"27c68b18-414b-4890-9ad5-930877aeca82\")) {                    Plotly.newPlot(                        \"27c68b18-414b-4890-9ad5-930877aeca82\",                        [{\"hovertemplate\":\"theme=%{y}<br>year=%{x}<br>number=%{marker.size}<extra></extra>\",\"legendgroup\":\"Duplo\",\"marker\":{\"color\":\"#636efa\",\"size\":[36,17,31,38,37,37,32,38,36,31,54,6,1,27,45,35,34,30,30,33,32,36,34,39,42,38,35,31,22,23,22],\"sizemode\":\"area\",\"sizeref\":0.17,\"symbol\":\"circle\"},\"mode\":\"markers+lines\",\"name\":\"Duplo\",\"orientation\":\"h\",\"showlegend\":true,\"x\":[1991,1992,1993,1994,1995,1996,1997,1998,1999,2000,2001,2002,2003,2004,2005,2006,2007,2008,2009,2010,2011,2012,2013,2014,2015,2016,2017,2018,2019,2020,2021],\"xaxis\":\"x\",\"y\":[\"Duplo\",\"Duplo\",\"Duplo\",\"Duplo\",\"Duplo\",\"Duplo\",\"Duplo\",\"Duplo\",\"Duplo\",\"Duplo\",\"Duplo\",\"Duplo\",\"Duplo\",\"Duplo\",\"Duplo\",\"Duplo\",\"Duplo\",\"Duplo\",\"Duplo\",\"Duplo\",\"Duplo\",\"Duplo\",\"Duplo\",\"Duplo\",\"Duplo\",\"Duplo\",\"Duplo\",\"Duplo\",\"Duplo\",\"Duplo\",\"Duplo\"],\"yaxis\":\"y\",\"type\":\"scatter\",\"textfont\":{\"size\":3}},{\"hovertemplate\":\"theme=%{y}<br>year=%{x}<br>number=%{marker.size}<extra></extra>\",\"legendgroup\":\"Service Packs\",\"marker\":{\"color\":\"#EF553B\",\"size\":[22,12,31,17,13,36,11,21,21],\"sizemode\":\"area\",\"sizeref\":0.17,\"symbol\":\"circle\"},\"mode\":\"markers+lines\",\"name\":\"Service Packs\",\"orientation\":\"h\",\"showlegend\":true,\"x\":[1991,1992,1993,1994,1995,1996,1997,1998,1999],\"xaxis\":\"x\",\"y\":[\"Service Packs\",\"Service Packs\",\"Service Packs\",\"Service Packs\",\"Service Packs\",\"Service Packs\",\"Service Packs\",\"Service Packs\",\"Service Packs\"],\"yaxis\":\"y\",\"type\":\"scatter\",\"textfont\":{\"size\":3}},{\"hovertemplate\":\"theme=%{y}<br>year=%{x}<br>number=%{marker.size}<extra></extra>\",\"legendgroup\":\"Town\",\"marker\":{\"color\":\"#00cc96\",\"size\":[22,27,23,29,21,23,47,62,62,43,2,8,1,2],\"sizemode\":\"area\",\"sizeref\":0.17,\"symbol\":\"circle\"},\"mode\":\"markers+lines\",\"name\":\"Town\",\"orientation\":\"h\",\"showlegend\":true,\"x\":[1991,1992,1993,1994,1995,1996,1997,1998,1999,2000,2001,2002,2003,2004],\"xaxis\":\"x\",\"y\":[\"Town\",\"Town\",\"Town\",\"Town\",\"Town\",\"Town\",\"Town\",\"Town\",\"Town\",\"Town\",\"Town\",\"Town\",\"Town\",\"Town\"],\"yaxis\":\"y\",\"type\":\"scatter\",\"textfont\":{\"size\":3}},{\"hovertemplate\":\"theme=%{y}<br>year=%{x}<br>number=%{marker.size}<extra></extra>\",\"legendgroup\":\"Space\",\"marker\":{\"color\":\"#ab63fa\",\"size\":[13,6,12,10,6,9,17,21,6,24,8,9,10,5,10,12,1,1],\"sizemode\":\"area\",\"sizeref\":0.17,\"symbol\":\"circle\"},\"mode\":\"markers+lines\",\"name\":\"Space\",\"orientation\":\"h\",\"showlegend\":true,\"x\":[1991,1992,1993,1994,1995,1996,1997,1998,1999,2001,2007,2008,2009,2010,2011,2013,2014,2015],\"xaxis\":\"x\",\"y\":[\"Space\",\"Space\",\"Space\",\"Space\",\"Space\",\"Space\",\"Space\",\"Space\",\"Space\",\"Space\",\"Space\",\"Space\",\"Space\",\"Space\",\"Space\",\"Space\",\"Space\",\"Space\"],\"yaxis\":\"y\",\"type\":\"scatter\",\"textfont\":{\"size\":3}},{\"hovertemplate\":\"theme=%{y}<br>year=%{x}<br>number=%{marker.size}<extra></extra>\",\"legendgroup\":\"Trains\",\"marker\":{\"color\":\"#FFA15A\",\"size\":[12,3,3,2,4,1,2,8,16,10,1,1,2,1,1],\"sizemode\":\"area\",\"sizeref\":0.17,\"symbol\":\"circle\"},\"mode\":\"markers+lines\",\"name\":\"Trains\",\"orientation\":\"h\",\"showlegend\":true,\"x\":[1991,1993,1994,1995,1996,1997,1998,1999,2001,2002,2003,2004,2005,2006,2007],\"xaxis\":\"x\",\"y\":[\"Trains\",\"Trains\",\"Trains\",\"Trains\",\"Trains\",\"Trains\",\"Trains\",\"Trains\",\"Trains\",\"Trains\",\"Trains\",\"Trains\",\"Trains\",\"Trains\",\"Trains\"],\"yaxis\":\"y\",\"type\":\"scatter\",\"textfont\":{\"size\":3}},{\"hovertemplate\":\"theme=%{y}<br>year=%{x}<br>number=%{marker.size}<extra></extra>\",\"legendgroup\":\"Basic\",\"marker\":{\"color\":\"#19d3f3\",\"size\":[11,13,10,11,10,24,33,40,14,13,2,1,1],\"sizemode\":\"area\",\"sizeref\":0.17,\"symbol\":\"circle\"},\"mode\":\"markers+lines\",\"name\":\"Basic\",\"orientation\":\"h\",\"showlegend\":true,\"x\":[1991,1992,1993,1994,1995,1996,1997,1998,1999,2000,2001,2002,2003],\"xaxis\":\"x\",\"y\":[\"Basic\",\"Basic\",\"Basic\",\"Basic\",\"Basic\",\"Basic\",\"Basic\",\"Basic\",\"Basic\",\"Basic\",\"Basic\",\"Basic\",\"Basic\"],\"yaxis\":\"y\",\"type\":\"scatter\",\"textfont\":{\"size\":3}},{\"hovertemplate\":\"theme=%{y}<br>year=%{x}<br>number=%{marker.size}<extra></extra>\",\"legendgroup\":\"Dacta\",\"marker\":{\"color\":\"#FF6692\",\"size\":[7,6,9,2,12,5,9,18,1,1],\"sizemode\":\"area\",\"sizeref\":0.17,\"symbol\":\"circle\"},\"mode\":\"markers+lines\",\"name\":\"Dacta\",\"orientation\":\"h\",\"showlegend\":true,\"x\":[1991,1992,1993,1994,1995,1996,1997,1998,2002,2003],\"xaxis\":\"x\",\"y\":[\"Dacta\",\"Dacta\",\"Dacta\",\"Dacta\",\"Dacta\",\"Dacta\",\"Dacta\",\"Dacta\",\"Dacta\",\"Dacta\"],\"yaxis\":\"y\",\"type\":\"scatter\",\"textfont\":{\"size\":3}},{\"hovertemplate\":\"theme=%{y}<br>year=%{x}<br>number=%{marker.size}<extra></extra>\",\"legendgroup\":\"Technic\",\"marker\":{\"color\":\"#B6E880\",\"size\":[6,6,8,8,9,10,14,27,33,34,9,3,6,5,6,8,6,8,11,11,11,10,12,11,13,12,13,14,14,14,15],\"sizemode\":\"area\",\"sizeref\":0.17,\"symbol\":\"circle\"},\"mode\":\"markers+lines\",\"name\":\"Technic\",\"orientation\":\"h\",\"showlegend\":true,\"x\":[1991,1992,1993,1994,1995,1996,1997,1998,1999,2000,2001,2002,2003,2004,2005,2006,2007,2008,2009,2010,2011,2012,2013,2014,2015,2016,2017,2018,2019,2020,2021],\"xaxis\":\"x\",\"y\":[\"Technic\",\"Technic\",\"Technic\",\"Technic\",\"Technic\",\"Technic\",\"Technic\",\"Technic\",\"Technic\",\"Technic\",\"Technic\",\"Technic\",\"Technic\",\"Technic\",\"Technic\",\"Technic\",\"Technic\",\"Technic\",\"Technic\",\"Technic\",\"Technic\",\"Technic\",\"Technic\",\"Technic\",\"Technic\",\"Technic\",\"Technic\",\"Technic\",\"Technic\",\"Technic\",\"Technic\"],\"yaxis\":\"y\",\"type\":\"scatter\",\"textfont\":{\"size\":3}},{\"hovertemplate\":\"theme=%{y}<br>year=%{x}<br>number=%{marker.size}<extra></extra>\",\"legendgroup\":\"Pirates\",\"marker\":{\"color\":\"#FF97FF\",\"size\":[5,9,6,13,4,8,4,3,1,11,1,7],\"sizemode\":\"area\",\"sizeref\":0.17,\"symbol\":\"circle\"},\"mode\":\"markers+lines\",\"name\":\"Pirates\",\"orientation\":\"h\",\"showlegend\":true,\"x\":[1991,1992,1993,1994,1995,1996,1997,2001,2002,2009,2013,2015],\"xaxis\":\"x\",\"y\":[\"Pirates\",\"Pirates\",\"Pirates\",\"Pirates\",\"Pirates\",\"Pirates\",\"Pirates\",\"Pirates\",\"Pirates\",\"Pirates\",\"Pirates\",\"Pirates\"],\"yaxis\":\"y\",\"type\":\"scatter\",\"textfont\":{\"size\":3}},{\"hovertemplate\":\"theme=%{y}<br>year=%{x}<br>number=%{marker.size}<extra></extra>\",\"legendgroup\":\"Boats\",\"marker\":{\"color\":\"#FECB52\",\"size\":[3,3],\"sizemode\":\"area\",\"sizeref\":0.17,\"symbol\":\"circle\"},\"mode\":\"markers+lines\",\"name\":\"Boats\",\"orientation\":\"h\",\"showlegend\":true,\"x\":[1991,1996],\"xaxis\":\"x\",\"y\":[\"Boats\",\"Boats\"],\"yaxis\":\"y\",\"type\":\"scatter\",\"textfont\":{\"size\":3}},{\"hovertemplate\":\"theme=%{y}<br>year=%{x}<br>number=%{marker.size}<extra></extra>\",\"legendgroup\":\"Assorted\",\"marker\":{\"color\":\"#636efa\",\"size\":[1,1,1,3,1,1],\"sizemode\":\"area\",\"sizeref\":0.17,\"symbol\":\"circle\"},\"mode\":\"markers+lines\",\"name\":\"Assorted\",\"orientation\":\"h\",\"showlegend\":true,\"x\":[1991,1992,1993,1994,1995,1996],\"xaxis\":\"x\",\"y\":[\"Assorted\",\"Assorted\",\"Assorted\",\"Assorted\",\"Assorted\",\"Assorted\"],\"yaxis\":\"y\",\"type\":\"scatter\",\"textfont\":{\"size\":3}},{\"hovertemplate\":\"theme=%{y}<br>year=%{x}<br>number=%{marker.size}<extra></extra>\",\"legendgroup\":\"Books\",\"marker\":{\"color\":\"#EF553B\",\"size\":[1,1,3],\"sizemode\":\"area\",\"sizeref\":0.17,\"symbol\":\"circle\"},\"mode\":\"markers+lines\",\"name\":\"Books\",\"orientation\":\"h\",\"showlegend\":true,\"x\":[1991,1997,2000],\"xaxis\":\"x\",\"y\":[\"Books\",\"Books\",\"Books\"],\"yaxis\":\"y\",\"type\":\"scatter\",\"textfont\":{\"size\":3}},{\"hovertemplate\":\"theme=%{y}<br>year=%{x}<br>number=%{marker.size}<extra></extra>\",\"legendgroup\":\"Castle\",\"marker\":{\"color\":\"#00cc96\",\"size\":[1,9,14,4,7,6,12,20,15,22,1,2,24,30,11,8,13,6,12,4,1,5,2,1],\"sizemode\":\"area\",\"sizeref\":0.17,\"symbol\":\"circle\"},\"mode\":\"markers+lines\",\"name\":\"Castle\",\"orientation\":\"h\",\"showlegend\":true,\"x\":[1991,1992,1993,1994,1995,1996,1997,1998,1999,2000,2001,2002,2004,2005,2006,2007,2008,2009,2010,2011,2012,2013,2014,2016],\"xaxis\":\"x\",\"y\":[\"Castle\",\"Castle\",\"Castle\",\"Castle\",\"Castle\",\"Castle\",\"Castle\",\"Castle\",\"Castle\",\"Castle\",\"Castle\",\"Castle\",\"Castle\",\"Castle\",\"Castle\",\"Castle\",\"Castle\",\"Castle\",\"Castle\",\"Castle\",\"Castle\",\"Castle\",\"Castle\",\"Castle\"],\"yaxis\":\"y\",\"type\":\"scatter\",\"textfont\":{\"size\":3}},{\"hovertemplate\":\"theme=%{y}<br>year=%{x}<br>number=%{marker.size}<extra></extra>\",\"legendgroup\":\"Model Team\",\"marker\":{\"color\":\"#ab63fa\",\"size\":[1,2,1,1,1,1,2,2,1],\"sizemode\":\"area\",\"sizeref\":0.17,\"symbol\":\"circle\"},\"mode\":\"markers+lines\",\"name\":\"Model Team\",\"orientation\":\"h\",\"showlegend\":true,\"x\":[1991,1993,1994,1995,1996,1997,1998,1999,2004],\"xaxis\":\"x\",\"y\":[\"Model Team\",\"Model Team\",\"Model Team\",\"Model Team\",\"Model Team\",\"Model Team\",\"Model Team\",\"Model Team\",\"Model Team\"],\"yaxis\":\"y\",\"type\":\"scatter\",\"textfont\":{\"size\":3}},{\"hovertemplate\":\"theme=%{y}<br>year=%{x}<br>number=%{marker.size}<extra></extra>\",\"legendgroup\":\"Promotional\",\"marker\":{\"color\":\"#FFA15A\",\"size\":[1,1,1,1,1,1,4,3,3,4,18,18,27,19,20,24,24,22,33,19],\"sizemode\":\"area\",\"sizeref\":0.17,\"symbol\":\"circle\"},\"mode\":\"markers+lines\",\"name\":\"Promotional\",\"orientation\":\"h\",\"showlegend\":true,\"x\":[1991,1992,1993,1995,1998,1999,2002,2004,2010,2011,2012,2013,2014,2015,2016,2017,2018,2019,2020,2021],\"xaxis\":\"x\",\"y\":[\"Promotional\",\"Promotional\",\"Promotional\",\"Promotional\",\"Promotional\",\"Promotional\",\"Promotional\",\"Promotional\",\"Promotional\",\"Promotional\",\"Promotional\",\"Promotional\",\"Promotional\",\"Promotional\",\"Promotional\",\"Promotional\",\"Promotional\",\"Promotional\",\"Promotional\",\"Promotional\"],\"yaxis\":\"y\",\"type\":\"scatter\",\"textfont\":{\"size\":3}},{\"hovertemplate\":\"theme=%{y}<br>year=%{x}<br>number=%{marker.size}<extra></extra>\",\"legendgroup\":\"Belville\",\"marker\":{\"color\":\"#19d3f3\",\"size\":[4,3,5,6,7,10,5,5,7,8,6,5,3,4,4],\"sizemode\":\"area\",\"sizeref\":0.17,\"symbol\":\"circle\"},\"mode\":\"markers+lines\",\"name\":\"Belville\",\"orientation\":\"h\",\"showlegend\":true,\"x\":[1994,1995,1996,1997,1998,1999,2000,2001,2002,2003,2004,2005,2006,2007,2008],\"xaxis\":\"x\",\"y\":[\"Belville\",\"Belville\",\"Belville\",\"Belville\",\"Belville\",\"Belville\",\"Belville\",\"Belville\",\"Belville\",\"Belville\",\"Belville\",\"Belville\",\"Belville\",\"Belville\",\"Belville\"],\"yaxis\":\"y\",\"type\":\"scatter\",\"textfont\":{\"size\":3}},{\"hovertemplate\":\"theme=%{y}<br>year=%{x}<br>number=%{marker.size}<extra></extra>\",\"legendgroup\":\"Freestyle\",\"marker\":{\"color\":\"#FF6692\",\"size\":[28,7,12,22,2],\"sizemode\":\"area\",\"sizeref\":0.17,\"symbol\":\"circle\"},\"mode\":\"markers+lines\",\"name\":\"Freestyle\",\"orientation\":\"h\",\"showlegend\":true,\"x\":[1995,1996,1997,1998,1999],\"xaxis\":\"x\",\"y\":[\"Freestyle\",\"Freestyle\",\"Freestyle\",\"Freestyle\",\"Freestyle\"],\"yaxis\":\"y\",\"type\":\"scatter\",\"textfont\":{\"size\":3}},{\"hovertemplate\":\"theme=%{y}<br>year=%{x}<br>number=%{marker.size}<extra></extra>\",\"legendgroup\":\"Aquazone\",\"marker\":{\"color\":\"#B6E880\",\"size\":[6,7,3,11,1],\"sizemode\":\"area\",\"sizeref\":0.17,\"symbol\":\"circle\"},\"mode\":\"markers+lines\",\"name\":\"Aquazone\",\"orientation\":\"h\",\"showlegend\":true,\"x\":[1995,1996,1997,1998,1999],\"xaxis\":\"x\",\"y\":[\"Aquazone\",\"Aquazone\",\"Aquazone\",\"Aquazone\",\"Aquazone\"],\"yaxis\":\"y\",\"type\":\"scatter\",\"textfont\":{\"size\":3}},{\"hovertemplate\":\"theme=%{y}<br>year=%{x}<br>number=%{marker.size}<extra></extra>\",\"legendgroup\":\"Creator\",\"marker\":{\"color\":\"#FF97FF\",\"size\":[1,22,12,38,44,33,17,22,13,18,12,16,15,22,21,18,19,22,17,18,20,37],\"sizemode\":\"area\",\"sizeref\":0.17,\"symbol\":\"circle\"},\"mode\":\"markers+lines\",\"name\":\"Creator\",\"orientation\":\"h\",\"showlegend\":true,\"x\":[1995,2001,2002,2003,2004,2005,2006,2007,2008,2009,2010,2011,2012,2013,2014,2015,2016,2017,2018,2019,2020,2021],\"xaxis\":\"x\",\"y\":[\"Creator\",\"Creator\",\"Creator\",\"Creator\",\"Creator\",\"Creator\",\"Creator\",\"Creator\",\"Creator\",\"Creator\",\"Creator\",\"Creator\",\"Creator\",\"Creator\",\"Creator\",\"Creator\",\"Creator\",\"Creator\",\"Creator\",\"Creator\",\"Creator\",\"Creator\"],\"yaxis\":\"y\",\"type\":\"scatter\",\"textfont\":{\"size\":3}},{\"hovertemplate\":\"theme=%{y}<br>year=%{x}<br>number=%{marker.size}<extra></extra>\",\"legendgroup\":\"Primo\",\"marker\":{\"color\":\"#FECB52\",\"size\":[1,2,17,16,18,1],\"sizemode\":\"area\",\"sizeref\":0.17,\"symbol\":\"circle\"},\"mode\":\"markers+lines\",\"name\":\"Primo\",\"orientation\":\"h\",\"showlegend\":true,\"x\":[1995,1996,1997,1998,1999,2005],\"xaxis\":\"x\",\"y\":[\"Primo\",\"Primo\",\"Primo\",\"Primo\",\"Primo\",\"Primo\"],\"yaxis\":\"y\",\"type\":\"scatter\",\"textfont\":{\"size\":3}},{\"hovertemplate\":\"theme=%{y}<br>year=%{x}<br>number=%{marker.size}<extra></extra>\",\"legendgroup\":\"Western\",\"marker\":{\"color\":\"#636efa\",\"size\":[6,11,3],\"sizemode\":\"area\",\"sizeref\":0.17,\"symbol\":\"circle\"},\"mode\":\"markers+lines\",\"name\":\"Western\",\"orientation\":\"h\",\"showlegend\":true,\"x\":[1996,1997,2002],\"xaxis\":\"x\",\"y\":[\"Western\",\"Western\",\"Western\"],\"yaxis\":\"y\",\"type\":\"scatter\",\"textfont\":{\"size\":3}},{\"hovertemplate\":\"theme=%{y}<br>year=%{x}<br>number=%{marker.size}<extra></extra>\",\"legendgroup\":\"Time Cruisers\",\"marker\":{\"color\":\"#EF553B\",\"size\":[5,4],\"sizemode\":\"area\",\"sizeref\":0.17,\"symbol\":\"circle\"},\"mode\":\"markers+lines\",\"name\":\"Time Cruisers\",\"orientation\":\"h\",\"showlegend\":true,\"x\":[1996,1997],\"xaxis\":\"x\",\"y\":[\"Time Cruisers\",\"Time Cruisers\"],\"yaxis\":\"y\",\"type\":\"scatter\",\"textfont\":{\"size\":3}},{\"hovertemplate\":\"theme=%{y}<br>year=%{x}<br>number=%{marker.size}<extra></extra>\",\"legendgroup\":\"Education\",\"marker\":{\"color\":\"#00cc96\",\"size\":[1,1,1,7,6,7,8,13,9,16,8,18,11,11,20,8,7,12,9,24,23,10,3,4,20,14],\"sizemode\":\"area\",\"sizeref\":0.17,\"symbol\":\"circle\"},\"mode\":\"markers+lines\",\"name\":\"Education\",\"orientation\":\"h\",\"showlegend\":true,\"x\":[1996,1997,1998,1999,2000,2001,2002,2003,2004,2005,2006,2007,2008,2009,2010,2011,2012,2013,2014,2015,2016,2017,2018,2019,2020,2021],\"xaxis\":\"x\",\"y\":[\"Education\",\"Education\",\"Education\",\"Education\",\"Education\",\"Education\",\"Education\",\"Education\",\"Education\",\"Education\",\"Education\",\"Education\",\"Education\",\"Education\",\"Education\",\"Education\",\"Education\",\"Education\",\"Education\",\"Education\",\"Education\",\"Education\",\"Education\",\"Education\",\"Education\",\"Education\"],\"yaxis\":\"y\",\"type\":\"scatter\",\"textfont\":{\"size\":3}},{\"hovertemplate\":\"theme=%{y}<br>year=%{x}<br>number=%{marker.size}<extra></extra>\",\"legendgroup\":\"Scala\",\"marker\":{\"color\":\"#ab63fa\",\"size\":[10,24,14,11,4],\"sizemode\":\"area\",\"sizeref\":0.17,\"symbol\":\"circle\"},\"mode\":\"markers+lines\",\"name\":\"Scala\",\"orientation\":\"h\",\"showlegend\":true,\"x\":[1997,1998,1999,2000,2001],\"xaxis\":\"x\",\"y\":[\"Scala\",\"Scala\",\"Scala\",\"Scala\",\"Scala\"],\"yaxis\":\"y\",\"type\":\"scatter\",\"textfont\":{\"size\":3}},{\"hovertemplate\":\"theme=%{y}<br>year=%{x}<br>number=%{marker.size}<extra></extra>\",\"legendgroup\":\"Adventurers\",\"marker\":{\"color\":\"#FFA15A\",\"size\":[21,14,17,19],\"sizemode\":\"area\",\"sizeref\":0.17,\"symbol\":\"circle\"},\"mode\":\"markers+lines\",\"name\":\"Adventurers\",\"orientation\":\"h\",\"showlegend\":true,\"x\":[1998,1999,2000,2003],\"xaxis\":\"x\",\"y\":[\"Adventurers\",\"Adventurers\",\"Adventurers\",\"Adventurers\"],\"yaxis\":\"y\",\"type\":\"scatter\",\"textfont\":{\"size\":3}},{\"hovertemplate\":\"theme=%{y}<br>year=%{x}<br>number=%{marker.size}<extra></extra>\",\"legendgroup\":\"Znap\",\"marker\":{\"color\":\"#19d3f3\",\"size\":[12,7],\"sizemode\":\"area\",\"sizeref\":0.17,\"symbol\":\"circle\"},\"mode\":\"markers+lines\",\"name\":\"Znap\",\"orientation\":\"h\",\"showlegend\":true,\"x\":[1998,1999],\"xaxis\":\"x\",\"y\":[\"Znap\",\"Znap\"],\"yaxis\":\"y\",\"type\":\"scatter\",\"textfont\":{\"size\":3}},{\"hovertemplate\":\"theme=%{y}<br>year=%{x}<br>number=%{marker.size}<extra></extra>\",\"legendgroup\":\"Mindstorms\",\"marker\":{\"color\":\"#FF6692\",\"size\":[4,10,4,3,2,12,1,3,1,6,10,1,2],\"sizemode\":\"area\",\"sizeref\":0.17,\"symbol\":\"circle\"},\"mode\":\"markers+lines\",\"name\":\"Mindstorms\",\"orientation\":\"h\",\"showlegend\":true,\"x\":[1998,1999,2000,2001,2004,2006,2007,2009,2010,2011,2013,2015,2020],\"xaxis\":\"x\",\"y\":[\"Mindstorms\",\"Mindstorms\",\"Mindstorms\",\"Mindstorms\",\"Mindstorms\",\"Mindstorms\",\"Mindstorms\",\"Mindstorms\",\"Mindstorms\",\"Mindstorms\",\"Mindstorms\",\"Mindstorms\",\"Mindstorms\"],\"yaxis\":\"y\",\"type\":\"scatter\",\"textfont\":{\"size\":3}},{\"hovertemplate\":\"theme=%{y}<br>year=%{x}<br>number=%{marker.size}<extra></extra>\",\"legendgroup\":\"Classic\",\"marker\":{\"color\":\"#B6E880\",\"size\":[1,16,10,3,7,13,5,7,6],\"sizemode\":\"area\",\"sizeref\":0.17,\"symbol\":\"circle\"},\"mode\":\"markers+lines\",\"name\":\"Classic\",\"orientation\":\"h\",\"showlegend\":true,\"x\":[1998,1999,2015,2016,2017,2018,2019,2020,2021],\"xaxis\":\"x\",\"y\":[\"Classic\",\"Classic\",\"Classic\",\"Classic\",\"Classic\",\"Classic\",\"Classic\",\"Classic\",\"Classic\"],\"yaxis\":\"y\",\"type\":\"scatter\",\"textfont\":{\"size\":3}},{\"hovertemplate\":\"theme=%{y}<br>year=%{x}<br>number=%{marker.size}<extra></extra>\",\"legendgroup\":\"Racers\",\"marker\":{\"color\":\"#FF97FF\",\"size\":[1,17,27,20,18,29,22,21,24,24,18,9,11,1],\"sizemode\":\"area\",\"sizeref\":0.17,\"symbol\":\"circle\"},\"mode\":\"markers+lines\",\"name\":\"Racers\",\"orientation\":\"h\",\"showlegend\":true,\"x\":[1998,2001,2002,2003,2004,2005,2006,2007,2008,2009,2010,2011,2012,2013],\"xaxis\":\"x\",\"y\":[\"Racers\",\"Racers\",\"Racers\",\"Racers\",\"Racers\",\"Racers\",\"Racers\",\"Racers\",\"Racers\",\"Racers\",\"Racers\",\"Racers\",\"Racers\",\"Racers\"],\"yaxis\":\"y\",\"type\":\"scatter\",\"textfont\":{\"size\":3}},{\"hovertemplate\":\"theme=%{y}<br>year=%{x}<br>number=%{marker.size}<extra></extra>\",\"legendgroup\":\"Star Wars\",\"marker\":{\"color\":\"#FECB52\",\"size\":[13,19,10,25,20,15,21,14,16,19,28,29,30,35,38,40,58,65,62,68,57,47,37],\"sizemode\":\"area\",\"sizeref\":0.17,\"symbol\":\"circle\"},\"mode\":\"markers+lines\",\"name\":\"Star Wars\",\"orientation\":\"h\",\"showlegend\":true,\"x\":[1999,2000,2001,2002,2003,2004,2005,2006,2007,2008,2009,2010,2011,2012,2013,2014,2015,2016,2017,2018,2019,2020,2021],\"xaxis\":\"x\",\"y\":[\"Star Wars\",\"Star Wars\",\"Star Wars\",\"Star Wars\",\"Star Wars\",\"Star Wars\",\"Star Wars\",\"Star Wars\",\"Star Wars\",\"Star Wars\",\"Star Wars\",\"Star Wars\",\"Star Wars\",\"Star Wars\",\"Star Wars\",\"Star Wars\",\"Star Wars\",\"Star Wars\",\"Star Wars\",\"Star Wars\",\"Star Wars\",\"Star Wars\",\"Star Wars\"],\"yaxis\":\"y\",\"type\":\"scatter\",\"textfont\":{\"size\":3}},{\"hovertemplate\":\"theme=%{y}<br>year=%{x}<br>number=%{marker.size}<extra></extra>\",\"legendgroup\":\"Rock Raiders\",\"marker\":{\"color\":\"#636efa\",\"size\":[12,3],\"sizemode\":\"area\",\"sizeref\":0.17,\"symbol\":\"circle\"},\"mode\":\"markers+lines\",\"name\":\"Rock Raiders\",\"orientation\":\"h\",\"showlegend\":true,\"x\":[1999,2000],\"xaxis\":\"x\",\"y\":[\"Rock Raiders\",\"Rock Raiders\"],\"yaxis\":\"y\",\"type\":\"scatter\",\"textfont\":{\"size\":3}},{\"hovertemplate\":\"theme=%{y}<br>year=%{x}<br>number=%{marker.size}<extra></extra>\",\"legendgroup\":\"Seasonal\",\"marker\":{\"color\":\"#EF553B\",\"size\":[3,2,4,4,4,3,2,1,5,9,14,10,17,11,12,14,12,9,8,15,12],\"sizemode\":\"area\",\"sizeref\":0.17,\"symbol\":\"circle\"},\"mode\":\"markers+lines\",\"name\":\"Seasonal\",\"orientation\":\"h\",\"showlegend\":true,\"x\":[1999,2000,2001,2002,2003,2004,2005,2006,2009,2010,2011,2012,2013,2014,2015,2016,2017,2018,2019,2020,2021],\"xaxis\":\"x\",\"y\":[\"Seasonal\",\"Seasonal\",\"Seasonal\",\"Seasonal\",\"Seasonal\",\"Seasonal\",\"Seasonal\",\"Seasonal\",\"Seasonal\",\"Seasonal\",\"Seasonal\",\"Seasonal\",\"Seasonal\",\"Seasonal\",\"Seasonal\",\"Seasonal\",\"Seasonal\",\"Seasonal\",\"Seasonal\",\"Seasonal\",\"Seasonal\"],\"yaxis\":\"y\",\"type\":\"scatter\",\"textfont\":{\"size\":3}},{\"hovertemplate\":\"theme=%{y}<br>year=%{x}<br>number=%{marker.size}<extra></extra>\",\"legendgroup\":\"Bulk Bricks\",\"marker\":{\"color\":\"#00cc96\",\"size\":[66,24,25,5,10],\"sizemode\":\"area\",\"sizeref\":0.17,\"symbol\":\"circle\"},\"mode\":\"markers+lines\",\"name\":\"Bulk Bricks\",\"orientation\":\"h\",\"showlegend\":true,\"x\":[2000,2001,2002,2003,2004],\"xaxis\":\"x\",\"y\":[\"Bulk Bricks\",\"Bulk Bricks\",\"Bulk Bricks\",\"Bulk Bricks\",\"Bulk Bricks\"],\"yaxis\":\"y\",\"type\":\"scatter\",\"textfont\":{\"size\":3}},{\"hovertemplate\":\"theme=%{y}<br>year=%{x}<br>number=%{marker.size}<extra></extra>\",\"legendgroup\":\"Sports\",\"marker\":{\"color\":\"#ab63fa\",\"size\":[16,5,43,52,10,3,1],\"sizemode\":\"area\",\"sizeref\":0.17,\"symbol\":\"circle\"},\"mode\":\"markers+lines\",\"name\":\"Sports\",\"orientation\":\"h\",\"showlegend\":true,\"x\":[2000,2001,2002,2003,2004,2006,2007],\"xaxis\":\"x\",\"y\":[\"Sports\",\"Sports\",\"Sports\",\"Sports\",\"Sports\",\"Sports\",\"Sports\"],\"yaxis\":\"y\",\"type\":\"scatter\",\"textfont\":{\"size\":3}},{\"hovertemplate\":\"theme=%{y}<br>year=%{x}<br>number=%{marker.size}<extra></extra>\",\"legendgroup\":\"Baby\",\"marker\":{\"color\":\"#FFA15A\",\"size\":[14,18,5,6],\"sizemode\":\"area\",\"sizeref\":0.17,\"symbol\":\"circle\"},\"mode\":\"markers+lines\",\"name\":\"Baby\",\"orientation\":\"h\",\"showlegend\":true,\"x\":[2000,2001,2004,2005],\"xaxis\":\"x\",\"y\":[\"Baby\",\"Baby\",\"Baby\",\"Baby\"],\"yaxis\":\"y\",\"type\":\"scatter\",\"textfont\":{\"size\":3}},{\"hovertemplate\":\"theme=%{y}<br>year=%{x}<br>number=%{marker.size}<extra></extra>\",\"legendgroup\":\"Action Wheelers\",\"marker\":{\"color\":\"#19d3f3\",\"size\":[6,3],\"sizemode\":\"area\",\"sizeref\":0.17,\"symbol\":\"circle\"},\"mode\":\"markers+lines\",\"name\":\"Action Wheelers\",\"orientation\":\"h\",\"showlegend\":true,\"x\":[2000,2001],\"xaxis\":\"x\",\"y\":[\"Action Wheelers\",\"Action Wheelers\"],\"yaxis\":\"y\",\"type\":\"scatter\",\"textfont\":{\"size\":3}},{\"hovertemplate\":\"theme=%{y}<br>year=%{x}<br>number=%{marker.size}<extra></extra>\",\"legendgroup\":\"Mickey Mouse\",\"marker\":{\"color\":\"#FF6692\",\"size\":[5],\"sizemode\":\"area\",\"sizeref\":0.17,\"symbol\":\"circle\"},\"mode\":\"markers+lines\",\"name\":\"Mickey Mouse\",\"orientation\":\"h\",\"showlegend\":true,\"x\":[2000],\"xaxis\":\"x\",\"y\":[\"Mickey Mouse\"],\"yaxis\":\"y\",\"type\":\"scatter\",\"textfont\":{\"size\":3}},{\"hovertemplate\":\"theme=%{y}<br>year=%{x}<br>number=%{marker.size}<extra></extra>\",\"legendgroup\":\"Creator Expert\",\"marker\":{\"color\":\"#B6E880\",\"size\":[2,2,1,1,1,2,3,5,4,6,5,3,4,5,4,4,5,5,6,8,19],\"sizemode\":\"area\",\"sizeref\":0.17,\"symbol\":\"circle\"},\"mode\":\"markers+lines\",\"name\":\"Creator Expert\",\"orientation\":\"h\",\"showlegend\":true,\"x\":[2000,2001,2002,2003,2004,2006,2007,2008,2009,2010,2011,2012,2013,2014,2015,2016,2017,2018,2019,2020,2021],\"xaxis\":\"x\",\"y\":[\"Creator Expert\",\"Creator Expert\",\"Creator Expert\",\"Creator Expert\",\"Creator Expert\",\"Creator Expert\",\"Creator Expert\",\"Creator Expert\",\"Creator Expert\",\"Creator Expert\",\"Creator Expert\",\"Creator Expert\",\"Creator Expert\",\"Creator Expert\",\"Creator Expert\",\"Creator Expert\",\"Creator Expert\",\"Creator Expert\",\"Creator Expert\",\"Creator Expert\",\"Creator Expert\"],\"yaxis\":\"y\",\"type\":\"scatter\",\"textfont\":{\"size\":3}},{\"hovertemplate\":\"theme=%{y}<br>year=%{x}<br>number=%{marker.size}<extra></extra>\",\"legendgroup\":\"Studios\",\"marker\":{\"color\":\"#FF97FF\",\"size\":[1,46,7],\"sizemode\":\"area\",\"sizeref\":0.17,\"symbol\":\"circle\"},\"mode\":\"markers+lines\",\"name\":\"Studios\",\"orientation\":\"h\",\"showlegend\":true,\"x\":[2000,2001,2002],\"xaxis\":\"x\",\"y\":[\"Studios\",\"Studios\",\"Studios\"],\"yaxis\":\"y\",\"type\":\"scatter\",\"textfont\":{\"size\":3}},{\"hovertemplate\":\"theme=%{y}<br>year=%{x}<br>number=%{marker.size}<extra></extra>\",\"legendgroup\":\"Bionicle\",\"marker\":{\"color\":\"#FECB52\",\"size\":[30,27,39,55,46,47,31,35,30,6,20,20],\"sizemode\":\"area\",\"sizeref\":0.17,\"symbol\":\"circle\"},\"mode\":\"markers+lines\",\"name\":\"Bionicle\",\"orientation\":\"h\",\"showlegend\":true,\"x\":[2001,2002,2003,2004,2005,2006,2007,2008,2009,2010,2015,2016],\"xaxis\":\"x\",\"y\":[\"Bionicle\",\"Bionicle\",\"Bionicle\",\"Bionicle\",\"Bionicle\",\"Bionicle\",\"Bionicle\",\"Bionicle\",\"Bionicle\",\"Bionicle\",\"Bionicle\",\"Bionicle\"],\"yaxis\":\"y\",\"type\":\"scatter\",\"textfont\":{\"size\":3}},{\"hovertemplate\":\"theme=%{y}<br>year=%{x}<br>number=%{marker.size}<extra></extra>\",\"legendgroup\":\"Dinosaurs\",\"marker\":{\"color\":\"#636efa\",\"size\":[12],\"sizemode\":\"area\",\"sizeref\":0.17,\"symbol\":\"circle\"},\"mode\":\"markers+lines\",\"name\":\"Dinosaurs\",\"orientation\":\"h\",\"showlegend\":true,\"x\":[2001],\"xaxis\":\"x\",\"y\":[\"Dinosaurs\"],\"yaxis\":\"y\",\"type\":\"scatter\",\"textfont\":{\"size\":3}},{\"hovertemplate\":\"theme=%{y}<br>year=%{x}<br>number=%{marker.size}<extra></extra>\",\"legendgroup\":\"Harry Potter\",\"marker\":{\"color\":\"#EF553B\",\"size\":[11,11,2,12,5,1,6,7,11,9,11,17],\"sizemode\":\"area\",\"sizeref\":0.17,\"symbol\":\"circle\"},\"mode\":\"markers+lines\",\"name\":\"Harry Potter\",\"orientation\":\"h\",\"showlegend\":true,\"x\":[2001,2002,2003,2004,2005,2007,2010,2011,2018,2019,2020,2021],\"xaxis\":\"x\",\"y\":[\"Harry Potter\",\"Harry Potter\",\"Harry Potter\",\"Harry Potter\",\"Harry Potter\",\"Harry Potter\",\"Harry Potter\",\"Harry Potter\",\"Harry Potter\",\"Harry Potter\",\"Harry Potter\",\"Harry Potter\"],\"yaxis\":\"y\",\"type\":\"scatter\",\"textfont\":{\"size\":3}},{\"hovertemplate\":\"theme=%{y}<br>year=%{x}<br>number=%{marker.size}<extra></extra>\",\"legendgroup\":\"Jack Stone\",\"marker\":{\"color\":\"#00cc96\",\"size\":[11,14],\"sizemode\":\"area\",\"sizeref\":0.17,\"symbol\":\"circle\"},\"mode\":\"markers+lines\",\"name\":\"Jack Stone\",\"orientation\":\"h\",\"showlegend\":true,\"x\":[2001,2002],\"xaxis\":\"x\",\"y\":[\"Jack Stone\",\"Jack Stone\"],\"yaxis\":\"y\",\"type\":\"scatter\",\"textfont\":{\"size\":3}},{\"hovertemplate\":\"theme=%{y}<br>year=%{x}<br>number=%{marker.size}<extra></extra>\",\"legendgroup\":\"Alpha Team\",\"marker\":{\"color\":\"#ab63fa\",\"size\":[6,17,1,6,2],\"sizemode\":\"area\",\"sizeref\":0.17,\"symbol\":\"circle\"},\"mode\":\"markers+lines\",\"name\":\"Alpha Team\",\"orientation\":\"h\",\"showlegend\":true,\"x\":[2001,2002,2003,2004,2005],\"xaxis\":\"x\",\"y\":[\"Alpha Team\",\"Alpha Team\",\"Alpha Team\",\"Alpha Team\",\"Alpha Team\"],\"yaxis\":\"y\",\"type\":\"scatter\",\"textfont\":{\"size\":3}},{\"hovertemplate\":\"theme=%{y}<br>year=%{x}<br>number=%{marker.size}<extra></extra>\",\"legendgroup\":\"Explore\",\"marker\":{\"color\":\"#FFA15A\",\"size\":[68,45,13],\"sizemode\":\"area\",\"sizeref\":0.17,\"symbol\":\"circle\"},\"mode\":\"markers+lines\",\"name\":\"Explore\",\"orientation\":\"h\",\"showlegend\":true,\"x\":[2002,2003,2004],\"xaxis\":\"x\",\"y\":[\"Explore\",\"Explore\",\"Explore\"],\"yaxis\":\"y\",\"type\":\"scatter\",\"textfont\":{\"size\":3}},{\"hovertemplate\":\"theme=%{y}<br>year=%{x}<br>number=%{marker.size}<extra></extra>\",\"legendgroup\":\"Galidor\",\"marker\":{\"color\":\"#19d3f3\",\"size\":[19],\"sizemode\":\"area\",\"sizeref\":0.17,\"symbol\":\"circle\"},\"mode\":\"markers+lines\",\"name\":\"Galidor\",\"orientation\":\"h\",\"showlegend\":true,\"x\":[2002],\"xaxis\":\"x\",\"y\":[\"Galidor\"],\"yaxis\":\"y\",\"type\":\"scatter\",\"textfont\":{\"size\":3}},{\"hovertemplate\":\"theme=%{y}<br>year=%{x}<br>number=%{marker.size}<extra></extra>\",\"legendgroup\":\"Island Xtreme Stunts\",\"marker\":{\"color\":\"#FF6692\",\"size\":[10,3],\"sizemode\":\"area\",\"sizeref\":0.17,\"symbol\":\"circle\"},\"mode\":\"markers+lines\",\"name\":\"Island Xtreme Stunts\",\"orientation\":\"h\",\"showlegend\":true,\"x\":[2002,2003],\"xaxis\":\"x\",\"y\":[\"Island Xtreme Stunts\",\"Island Xtreme Stunts\"],\"yaxis\":\"y\",\"type\":\"scatter\",\"textfont\":{\"size\":3}},{\"hovertemplate\":\"theme=%{y}<br>year=%{x}<br>number=%{marker.size}<extra></extra>\",\"legendgroup\":\"Spybotics\",\"marker\":{\"color\":\"#B6E880\",\"size\":[4],\"sizemode\":\"area\",\"sizeref\":0.17,\"symbol\":\"circle\"},\"mode\":\"markers+lines\",\"name\":\"Spybotics\",\"orientation\":\"h\",\"showlegend\":true,\"x\":[2002],\"xaxis\":\"x\",\"y\":[\"Spybotics\"],\"yaxis\":\"y\",\"type\":\"scatter\",\"textfont\":{\"size\":3}},{\"hovertemplate\":\"theme=%{y}<br>year=%{x}<br>number=%{marker.size}<extra></extra>\",\"legendgroup\":\"Miscellaneous\",\"marker\":{\"color\":\"#FF97FF\",\"size\":[3,2,4,5,6,10,10,9,12,12,11,10,6,6,10],\"sizemode\":\"area\",\"sizeref\":0.17,\"symbol\":\"circle\"},\"mode\":\"markers+lines\",\"name\":\"Miscellaneous\",\"orientation\":\"h\",\"showlegend\":true,\"x\":[2002,2008,2009,2010,2011,2012,2013,2014,2015,2016,2017,2018,2019,2020,2021],\"xaxis\":\"x\",\"y\":[\"Miscellaneous\",\"Miscellaneous\",\"Miscellaneous\",\"Miscellaneous\",\"Miscellaneous\",\"Miscellaneous\",\"Miscellaneous\",\"Miscellaneous\",\"Miscellaneous\",\"Miscellaneous\",\"Miscellaneous\",\"Miscellaneous\",\"Miscellaneous\",\"Miscellaneous\",\"Miscellaneous\"],\"yaxis\":\"y\",\"type\":\"scatter\",\"textfont\":{\"size\":3}},{\"hovertemplate\":\"theme=%{y}<br>year=%{x}<br>number=%{marker.size}<extra></extra>\",\"legendgroup\":\"Gear\",\"marker\":{\"color\":\"#FECB52\",\"size\":[1,1,1,1,1,1,1,1],\"sizemode\":\"area\",\"sizeref\":0.17,\"symbol\":\"circle\"},\"mode\":\"markers+lines\",\"name\":\"Gear\",\"orientation\":\"h\",\"showlegend\":true,\"x\":[2002,2004,2005,2006,2007,2008,2009,2012],\"xaxis\":\"x\",\"y\":[\"Gear\",\"Gear\",\"Gear\",\"Gear\",\"Gear\",\"Gear\",\"Gear\",\"Gear\"],\"yaxis\":\"y\",\"type\":\"scatter\",\"textfont\":{\"size\":3}},{\"hovertemplate\":\"theme=%{y}<br>year=%{x}<br>number=%{marker.size}<extra></extra>\",\"legendgroup\":\"World City\",\"marker\":{\"color\":\"#636efa\",\"size\":[28,10],\"sizemode\":\"area\",\"sizeref\":0.17,\"symbol\":\"circle\"},\"mode\":\"markers+lines\",\"name\":\"World City\",\"orientation\":\"h\",\"showlegend\":true,\"x\":[2003,2004],\"xaxis\":\"x\",\"y\":[\"World City\",\"World City\"],\"yaxis\":\"y\",\"type\":\"scatter\",\"textfont\":{\"size\":3}},{\"hovertemplate\":\"theme=%{y}<br>year=%{x}<br>number=%{marker.size}<extra></extra>\",\"legendgroup\":\"Clikits\",\"marker\":{\"color\":\"#EF553B\",\"size\":[17,37,20,7],\"sizemode\":\"area\",\"sizeref\":0.17,\"symbol\":\"circle\"},\"mode\":\"markers+lines\",\"name\":\"Clikits\",\"orientation\":\"h\",\"showlegend\":true,\"x\":[2003,2004,2005,2006],\"xaxis\":\"x\",\"y\":[\"Clikits\",\"Clikits\",\"Clikits\",\"Clikits\"],\"yaxis\":\"y\",\"type\":\"scatter\",\"textfont\":{\"size\":3}},{\"hovertemplate\":\"theme=%{y}<br>year=%{x}<br>number=%{marker.size}<extra></extra>\",\"legendgroup\":\"4 Juniors\",\"marker\":{\"color\":\"#00cc96\",\"size\":[6,18],\"sizemode\":\"area\",\"sizeref\":0.17,\"symbol\":\"circle\"},\"mode\":\"markers+lines\",\"name\":\"4 Juniors\",\"orientation\":\"h\",\"showlegend\":true,\"x\":[2003,2004],\"xaxis\":\"x\",\"y\":[\"4 Juniors\",\"4 Juniors\"],\"yaxis\":\"y\",\"type\":\"scatter\",\"textfont\":{\"size\":3}},{\"hovertemplate\":\"theme=%{y}<br>year=%{x}<br>number=%{marker.size}<extra></extra>\",\"legendgroup\":\"Discovery\",\"marker\":{\"color\":\"#ab63fa\",\"size\":[6],\"sizemode\":\"area\",\"sizeref\":0.17,\"symbol\":\"circle\"},\"mode\":\"markers+lines\",\"name\":\"Discovery\",\"orientation\":\"h\",\"showlegend\":true,\"x\":[2003],\"xaxis\":\"x\",\"y\":[\"Discovery\"],\"yaxis\":\"y\",\"type\":\"scatter\",\"textfont\":{\"size\":3}},{\"hovertemplate\":\"theme=%{y}<br>year=%{x}<br>number=%{marker.size}<extra></extra>\",\"legendgroup\":\"Spider-Man\",\"marker\":{\"color\":\"#FFA15A\",\"size\":[3,8],\"sizemode\":\"area\",\"sizeref\":0.17,\"symbol\":\"circle\"},\"mode\":\"markers+lines\",\"name\":\"Spider-Man\",\"orientation\":\"h\",\"showlegend\":true,\"x\":[2003,2004],\"xaxis\":\"x\",\"y\":[\"Spider-Man\",\"Spider-Man\"],\"yaxis\":\"y\",\"type\":\"scatter\",\"textfont\":{\"size\":3}},{\"hovertemplate\":\"theme=%{y}<br>year=%{x}<br>number=%{marker.size}<extra></extra>\",\"legendgroup\":\"Hobby Set\",\"marker\":{\"color\":\"#19d3f3\",\"size\":[1],\"sizemode\":\"area\",\"sizeref\":0.17,\"symbol\":\"circle\"},\"mode\":\"markers+lines\",\"name\":\"Hobby Set\",\"orientation\":\"h\",\"showlegend\":true,\"x\":[2003],\"xaxis\":\"x\",\"y\":[\"Hobby Set\"],\"yaxis\":\"y\",\"type\":\"scatter\",\"textfont\":{\"size\":3}},{\"hovertemplate\":\"theme=%{y}<br>year=%{x}<br>number=%{marker.size}<extra></extra>\",\"legendgroup\":\"Quatro\",\"marker\":{\"color\":\"#FF6692\",\"size\":[4,4,1],\"sizemode\":\"area\",\"sizeref\":0.17,\"symbol\":\"circle\"},\"mode\":\"markers+lines\",\"name\":\"Quatro\",\"orientation\":\"h\",\"showlegend\":true,\"x\":[2004,2005,2006],\"xaxis\":\"x\",\"y\":[\"Quatro\",\"Quatro\",\"Quatro\"],\"yaxis\":\"y\",\"type\":\"scatter\",\"textfont\":{\"size\":3}},{\"hovertemplate\":\"theme=%{y}<br>year=%{x}<br>number=%{marker.size}<extra></extra>\",\"legendgroup\":\"City\",\"marker\":{\"color\":\"#B6E880\",\"size\":[46,34,27,44,34,37,28,41,39,40,40,44,52,47,53,56,58],\"sizemode\":\"area\",\"sizeref\":0.17,\"symbol\":\"circle\"},\"mode\":\"markers+lines\",\"name\":\"City\",\"orientation\":\"h\",\"showlegend\":true,\"x\":[2005,2006,2007,2008,2009,2010,2011,2012,2013,2014,2015,2016,2017,2018,2019,2020,2021],\"xaxis\":\"x\",\"y\":[\"City\",\"City\",\"City\",\"City\",\"City\",\"City\",\"City\",\"City\",\"City\",\"City\",\"City\",\"City\",\"City\",\"City\",\"City\",\"City\",\"City\"],\"yaxis\":\"y\",\"type\":\"scatter\",\"textfont\":{\"size\":3}},{\"hovertemplate\":\"theme=%{y}<br>year=%{x}<br>number=%{marker.size}<extra></extra>\",\"legendgroup\":\"Dino 2010\",\"marker\":{\"color\":\"#FF97FF\",\"size\":[5],\"sizemode\":\"area\",\"sizeref\":0.17,\"symbol\":\"circle\"},\"mode\":\"markers+lines\",\"name\":\"Dino 2010\",\"orientation\":\"h\",\"showlegend\":true,\"x\":[2005],\"xaxis\":\"x\",\"y\":[\"Dino 2010\"],\"yaxis\":\"y\",\"type\":\"scatter\",\"textfont\":{\"size\":3}},{\"hovertemplate\":\"theme=%{y}<br>year=%{x}<br>number=%{marker.size}<extra></extra>\",\"legendgroup\":\"Dino Attack\",\"marker\":{\"color\":\"#FECB52\",\"size\":[5],\"sizemode\":\"area\",\"sizeref\":0.17,\"symbol\":\"circle\"},\"mode\":\"markers+lines\",\"name\":\"Dino Attack\",\"orientation\":\"h\",\"showlegend\":true,\"x\":[2005],\"xaxis\":\"x\",\"y\":[\"Dino Attack\"],\"yaxis\":\"y\",\"type\":\"scatter\",\"textfont\":{\"size\":3}},{\"hovertemplate\":\"theme=%{y}<br>year=%{x}<br>number=%{marker.size}<extra></extra>\",\"legendgroup\":\"Make and Create\",\"marker\":{\"color\":\"#636efa\",\"size\":[5,17,21,1],\"sizemode\":\"area\",\"sizeref\":0.17,\"symbol\":\"circle\"},\"mode\":\"markers+lines\",\"name\":\"Make and Create\",\"orientation\":\"h\",\"showlegend\":true,\"x\":[2005,2006,2007,2012],\"xaxis\":\"x\",\"y\":[\"Make and Create\",\"Make and Create\",\"Make and Create\",\"Make and Create\"],\"yaxis\":\"y\",\"type\":\"scatter\",\"textfont\":{\"size\":3}},{\"hovertemplate\":\"theme=%{y}<br>year=%{x}<br>number=%{marker.size}<extra></extra>\",\"legendgroup\":\"Vikings\",\"marker\":{\"color\":\"#EF553B\",\"size\":[5,2],\"sizemode\":\"area\",\"sizeref\":0.17,\"symbol\":\"circle\"},\"mode\":\"markers+lines\",\"name\":\"Vikings\",\"orientation\":\"h\",\"showlegend\":true,\"x\":[2005,2006],\"xaxis\":\"x\",\"y\":[\"Vikings\",\"Vikings\"],\"yaxis\":\"y\",\"type\":\"scatter\",\"textfont\":{\"size\":3}},{\"hovertemplate\":\"theme=%{y}<br>year=%{x}<br>number=%{marker.size}<extra></extra>\",\"legendgroup\":\"Factory\",\"marker\":{\"color\":\"#00cc96\",\"size\":[3,1,3],\"sizemode\":\"area\",\"sizeref\":0.17,\"symbol\":\"circle\"},\"mode\":\"markers+lines\",\"name\":\"Factory\",\"orientation\":\"h\",\"showlegend\":true,\"x\":[2005,2007,2008],\"xaxis\":\"x\",\"y\":[\"Factory\",\"Factory\",\"Factory\"],\"yaxis\":\"y\",\"type\":\"scatter\",\"textfont\":{\"size\":3}},{\"hovertemplate\":\"theme=%{y}<br>year=%{x}<br>number=%{marker.size}<extra></extra>\",\"legendgroup\":\"Exo-Force\",\"marker\":{\"color\":\"#ab63fa\",\"size\":[18,17,7],\"sizemode\":\"area\",\"sizeref\":0.17,\"symbol\":\"circle\"},\"mode\":\"markers+lines\",\"name\":\"Exo-Force\",\"orientation\":\"h\",\"showlegend\":true,\"x\":[2006,2007,2008],\"xaxis\":\"x\",\"y\":[\"Exo-Force\",\"Exo-Force\",\"Exo-Force\"],\"yaxis\":\"y\",\"type\":\"scatter\",\"textfont\":{\"size\":3}},{\"hovertemplate\":\"theme=%{y}<br>year=%{x}<br>number=%{marker.size}<extra></extra>\",\"legendgroup\":\"Batman\",\"marker\":{\"color\":\"#FFA15A\",\"size\":[7,2,4],\"sizemode\":\"area\",\"sizeref\":0.17,\"symbol\":\"circle\"},\"mode\":\"markers+lines\",\"name\":\"Batman\",\"orientation\":\"h\",\"showlegend\":true,\"x\":[2006,2007,2008],\"xaxis\":\"x\",\"y\":[\"Batman\",\"Batman\",\"Batman\"],\"yaxis\":\"y\",\"type\":\"scatter\",\"textfont\":{\"size\":3}},{\"hovertemplate\":\"theme=%{y}<br>year=%{x}<br>number=%{marker.size}<extra></extra>\",\"legendgroup\":\"SpongeBob SquarePants\",\"marker\":{\"color\":\"#19d3f3\",\"size\":[3,2,3,2,2,2],\"sizemode\":\"area\",\"sizeref\":0.17,\"symbol\":\"circle\"},\"mode\":\"markers+lines\",\"name\":\"SpongeBob SquarePants\",\"orientation\":\"h\",\"showlegend\":true,\"x\":[2006,2007,2008,2009,2011,2012],\"xaxis\":\"x\",\"y\":[\"SpongeBob SquarePants\",\"SpongeBob SquarePants\",\"SpongeBob SquarePants\",\"SpongeBob SquarePants\",\"SpongeBob SquarePants\",\"SpongeBob SquarePants\"],\"yaxis\":\"y\",\"type\":\"scatter\",\"textfont\":{\"size\":3}},{\"hovertemplate\":\"theme=%{y}<br>year=%{x}<br>number=%{marker.size}<extra></extra>\",\"legendgroup\":\"Avatar The Last Airbender\",\"marker\":{\"color\":\"#FF6692\",\"size\":[2],\"sizemode\":\"area\",\"sizeref\":0.17,\"symbol\":\"circle\"},\"mode\":\"markers+lines\",\"name\":\"Avatar The Last Airbender\",\"orientation\":\"h\",\"showlegend\":true,\"x\":[2006],\"xaxis\":\"x\",\"y\":[\"Avatar The Last Airbender\"],\"yaxis\":\"y\",\"type\":\"scatter\",\"textfont\":{\"size\":3}},{\"hovertemplate\":\"theme=%{y}<br>year=%{x}<br>number=%{marker.size}<extra></extra>\",\"legendgroup\":\"Bricks and More\",\"marker\":{\"color\":\"#B6E880\",\"size\":[1,16,16,9,9,6,9,2],\"sizemode\":\"area\",\"sizeref\":0.17,\"symbol\":\"circle\"},\"mode\":\"markers+lines\",\"name\":\"Bricks and More\",\"orientation\":\"h\",\"showlegend\":true,\"x\":[2006,2008,2009,2010,2011,2012,2013,2014],\"xaxis\":\"x\",\"y\":[\"Bricks and More\",\"Bricks and More\",\"Bricks and More\",\"Bricks and More\",\"Bricks and More\",\"Bricks and More\",\"Bricks and More\",\"Bricks and More\"],\"yaxis\":\"y\",\"type\":\"scatter\",\"textfont\":{\"size\":3}},{\"hovertemplate\":\"theme=%{y}<br>year=%{x}<br>number=%{marker.size}<extra></extra>\",\"legendgroup\":\"Aqua Raiders\",\"marker\":{\"color\":\"#FF97FF\",\"size\":[7],\"sizemode\":\"area\",\"sizeref\":0.17,\"symbol\":\"circle\"},\"mode\":\"markers+lines\",\"name\":\"Aqua Raiders\",\"orientation\":\"h\",\"showlegend\":true,\"x\":[2007],\"xaxis\":\"x\",\"y\":[\"Aqua Raiders\"],\"yaxis\":\"y\",\"type\":\"scatter\",\"textfont\":{\"size\":3}},{\"hovertemplate\":\"theme=%{y}<br>year=%{x}<br>number=%{marker.size}<extra></extra>\",\"legendgroup\":\"Serious Play\",\"marker\":{\"color\":\"#FECB52\",\"size\":[1,9,1,3,1],\"sizemode\":\"area\",\"sizeref\":0.17,\"symbol\":\"circle\"},\"mode\":\"markers+lines\",\"name\":\"Serious Play\",\"orientation\":\"h\",\"showlegend\":true,\"x\":[2007,2010,2012,2013,2015],\"xaxis\":\"x\",\"y\":[\"Serious Play\",\"Serious Play\",\"Serious Play\",\"Serious Play\",\"Serious Play\"],\"yaxis\":\"y\",\"type\":\"scatter\",\"textfont\":{\"size\":3}},{\"hovertemplate\":\"theme=%{y}<br>year=%{x}<br>number=%{marker.size}<extra></extra>\",\"legendgroup\":\"Indiana Jones\",\"marker\":{\"color\":\"#636efa\",\"size\":[10,7],\"sizemode\":\"area\",\"sizeref\":0.17,\"symbol\":\"circle\"},\"mode\":\"markers+lines\",\"name\":\"Indiana Jones\",\"orientation\":\"h\",\"showlegend\":true,\"x\":[2008,2009],\"xaxis\":\"x\",\"y\":[\"Indiana Jones\",\"Indiana Jones\"],\"yaxis\":\"y\",\"type\":\"scatter\",\"textfont\":{\"size\":3}},{\"hovertemplate\":\"theme=%{y}<br>year=%{x}<br>number=%{marker.size}<extra></extra>\",\"legendgroup\":\"Agents\",\"marker\":{\"color\":\"#EF553B\",\"size\":[8,5],\"sizemode\":\"area\",\"sizeref\":0.17,\"symbol\":\"circle\"},\"mode\":\"markers+lines\",\"name\":\"Agents\",\"orientation\":\"h\",\"showlegend\":true,\"x\":[2008,2009],\"xaxis\":\"x\",\"y\":[\"Agents\",\"Agents\"],\"yaxis\":\"y\",\"type\":\"scatter\",\"textfont\":{\"size\":3}},{\"hovertemplate\":\"theme=%{y}<br>year=%{x}<br>number=%{marker.size}<extra></extra>\",\"legendgroup\":\"Power Functions\",\"marker\":{\"color\":\"#00cc96\",\"size\":[7,7,2,2],\"sizemode\":\"area\",\"sizeref\":0.17,\"symbol\":\"circle\"},\"mode\":\"markers+lines\",\"name\":\"Power Functions\",\"orientation\":\"h\",\"showlegend\":true,\"x\":[2008,2009,2011,2013],\"xaxis\":\"x\",\"y\":[\"Power Functions\",\"Power Functions\",\"Power Functions\",\"Power Functions\"],\"yaxis\":\"y\",\"type\":\"scatter\",\"textfont\":{\"size\":3}},{\"hovertemplate\":\"theme=%{y}<br>year=%{x}<br>number=%{marker.size}<extra></extra>\",\"legendgroup\":\"Architecture\",\"marker\":{\"color\":\"#ab63fa\",\"size\":[4,4,1,6,4,5,2,3,6,6,5,5,3,1],\"sizemode\":\"area\",\"sizeref\":0.17,\"symbol\":\"circle\"},\"mode\":\"markers+lines\",\"name\":\"Architecture\",\"orientation\":\"h\",\"showlegend\":true,\"x\":[2008,2009,2010,2011,2012,2013,2014,2015,2016,2017,2018,2019,2020,2021],\"xaxis\":\"x\",\"y\":[\"Architecture\",\"Architecture\",\"Architecture\",\"Architecture\",\"Architecture\",\"Architecture\",\"Architecture\",\"Architecture\",\"Architecture\",\"Architecture\",\"Architecture\",\"Architecture\",\"Architecture\",\"Architecture\"],\"yaxis\":\"y\",\"type\":\"scatter\",\"textfont\":{\"size\":3}},{\"hovertemplate\":\"theme=%{y}<br>year=%{x}<br>number=%{marker.size}<extra></extra>\",\"legendgroup\":\"Power Miners\",\"marker\":{\"color\":\"#FFA15A\",\"size\":[15,4],\"sizemode\":\"area\",\"sizeref\":0.17,\"symbol\":\"circle\"},\"mode\":\"markers+lines\",\"name\":\"Power Miners\",\"orientation\":\"h\",\"showlegend\":true,\"x\":[2009,2010],\"xaxis\":\"x\",\"y\":[\"Power Miners\",\"Power Miners\"],\"yaxis\":\"y\",\"type\":\"scatter\",\"textfont\":{\"size\":3}},{\"hovertemplate\":\"theme=%{y}<br>year=%{x}<br>number=%{marker.size}<extra></extra>\",\"legendgroup\":\"Games\",\"marker\":{\"color\":\"#19d3f3\",\"size\":[10,9,13,7,3],\"sizemode\":\"area\",\"sizeref\":0.17,\"symbol\":\"circle\"},\"mode\":\"markers+lines\",\"name\":\"Games\",\"orientation\":\"h\",\"showlegend\":true,\"x\":[2009,2010,2011,2012,2013],\"xaxis\":\"x\",\"y\":[\"Games\",\"Games\",\"Games\",\"Games\",\"Games\"],\"yaxis\":\"y\",\"type\":\"scatter\",\"textfont\":{\"size\":3}},{\"hovertemplate\":\"theme=%{y}<br>year=%{x}<br>number=%{marker.size}<extra></extra>\",\"legendgroup\":\"Atlantis\",\"marker\":{\"color\":\"#FF6692\",\"size\":[19,5],\"sizemode\":\"area\",\"sizeref\":0.17,\"symbol\":\"circle\"},\"mode\":\"markers+lines\",\"name\":\"Atlantis\",\"orientation\":\"h\",\"showlegend\":true,\"x\":[2010,2011],\"xaxis\":\"x\",\"y\":[\"Atlantis\",\"Atlantis\"],\"yaxis\":\"y\",\"type\":\"scatter\",\"textfont\":{\"size\":3}},{\"hovertemplate\":\"theme=%{y}<br>year=%{x}<br>number=%{marker.size}<extra></extra>\",\"legendgroup\":\"HERO Factory\",\"marker\":{\"color\":\"#B6E880\",\"size\":[15,26,25,23,17],\"sizemode\":\"area\",\"sizeref\":0.17,\"symbol\":\"circle\"},\"mode\":\"markers+lines\",\"name\":\"HERO Factory\",\"orientation\":\"h\",\"showlegend\":true,\"x\":[2010,2011,2012,2013,2014],\"xaxis\":\"x\",\"y\":[\"HERO Factory\",\"HERO Factory\",\"HERO Factory\",\"HERO Factory\",\"HERO Factory\"],\"yaxis\":\"y\",\"type\":\"scatter\",\"textfont\":{\"size\":3}},{\"hovertemplate\":\"theme=%{y}<br>year=%{x}<br>number=%{marker.size}<extra></extra>\",\"legendgroup\":\"Toy Story\",\"marker\":{\"color\":\"#FF97FF\",\"size\":[15,6],\"sizemode\":\"area\",\"sizeref\":0.17,\"symbol\":\"circle\"},\"mode\":\"markers+lines\",\"name\":\"Toy Story\",\"orientation\":\"h\",\"showlegend\":true,\"x\":[2010,2019],\"xaxis\":\"x\",\"y\":[\"Toy Story\",\"Toy Story\"],\"yaxis\":\"y\",\"type\":\"scatter\",\"textfont\":{\"size\":3}},{\"hovertemplate\":\"theme=%{y}<br>year=%{x}<br>number=%{marker.size}<extra></extra>\",\"legendgroup\":\"World Racers\",\"marker\":{\"color\":\"#FECB52\",\"size\":[9],\"sizemode\":\"area\",\"sizeref\":0.17,\"symbol\":\"circle\"},\"mode\":\"markers+lines\",\"name\":\"World Racers\",\"orientation\":\"h\",\"showlegend\":true,\"x\":[2010],\"xaxis\":\"x\",\"y\":[\"World Racers\"],\"yaxis\":\"y\",\"type\":\"scatter\",\"textfont\":{\"size\":3}},{\"hovertemplate\":\"theme=%{y}<br>year=%{x}<br>number=%{marker.size}<extra></extra>\",\"legendgroup\":\"Ben 10: Alien Force\",\"marker\":{\"color\":\"#636efa\",\"size\":[6],\"sizemode\":\"area\",\"sizeref\":0.17,\"symbol\":\"circle\"},\"mode\":\"markers+lines\",\"name\":\"Ben 10: Alien Force\",\"orientation\":\"h\",\"showlegend\":true,\"x\":[2010],\"xaxis\":\"x\",\"y\":[\"Ben 10: Alien Force\"],\"yaxis\":\"y\",\"type\":\"scatter\",\"textfont\":{\"size\":3}},{\"hovertemplate\":\"theme=%{y}<br>year=%{x}<br>number=%{marker.size}<extra></extra>\",\"legendgroup\":\"Prince of Persia\",\"marker\":{\"color\":\"#EF553B\",\"size\":[6],\"sizemode\":\"area\",\"sizeref\":0.17,\"symbol\":\"circle\"},\"mode\":\"markers+lines\",\"name\":\"Prince of Persia\",\"orientation\":\"h\",\"showlegend\":true,\"x\":[2010],\"xaxis\":\"x\",\"y\":[\"Prince of Persia\"],\"yaxis\":\"y\",\"type\":\"scatter\",\"textfont\":{\"size\":3}},{\"hovertemplate\":\"theme=%{y}<br>year=%{x}<br>number=%{marker.size}<extra></extra>\",\"legendgroup\":\"Universe\",\"marker\":{\"color\":\"#00cc96\",\"size\":[2],\"sizemode\":\"area\",\"sizeref\":0.17,\"symbol\":\"circle\"},\"mode\":\"markers+lines\",\"name\":\"Universe\",\"orientation\":\"h\",\"showlegend\":true,\"x\":[2010],\"xaxis\":\"x\",\"y\":[\"Universe\"],\"yaxis\":\"y\",\"type\":\"scatter\",\"textfont\":{\"size\":3}},{\"hovertemplate\":\"theme=%{y}<br>year=%{x}<br>number=%{marker.size}<extra></extra>\",\"legendgroup\":\"Ninjago\",\"marker\":{\"color\":\"#ab63fa\",\"size\":[43,48,8,10,44,37,24,46,54,48,46],\"sizemode\":\"area\",\"sizeref\":0.17,\"symbol\":\"circle\"},\"mode\":\"markers+lines\",\"name\":\"Ninjago\",\"orientation\":\"h\",\"showlegend\":true,\"x\":[2011,2012,2013,2014,2015,2016,2017,2018,2019,2020,2021],\"xaxis\":\"x\",\"y\":[\"Ninjago\",\"Ninjago\",\"Ninjago\",\"Ninjago\",\"Ninjago\",\"Ninjago\",\"Ninjago\",\"Ninjago\",\"Ninjago\",\"Ninjago\",\"Ninjago\"],\"yaxis\":\"y\",\"type\":\"scatter\",\"textfont\":{\"size\":3}},{\"hovertemplate\":\"theme=%{y}<br>year=%{x}<br>number=%{marker.size}<extra></extra>\",\"legendgroup\":\"Cars\",\"marker\":{\"color\":\"#FFA15A\",\"size\":[18,9],\"sizemode\":\"area\",\"sizeref\":0.17,\"symbol\":\"circle\"},\"mode\":\"markers+lines\",\"name\":\"Cars\",\"orientation\":\"h\",\"showlegend\":true,\"x\":[2011,2012],\"xaxis\":\"x\",\"y\":[\"Cars\",\"Cars\"],\"yaxis\":\"y\",\"type\":\"scatter\",\"textfont\":{\"size\":3}},{\"hovertemplate\":\"theme=%{y}<br>year=%{x}<br>number=%{marker.size}<extra></extra>\",\"legendgroup\":\"Pirates of the Caribbean\",\"marker\":{\"color\":\"#19d3f3\",\"size\":[14,1],\"sizemode\":\"area\",\"sizeref\":0.17,\"symbol\":\"circle\"},\"mode\":\"markers+lines\",\"name\":\"Pirates of the Caribbean\",\"orientation\":\"h\",\"showlegend\":true,\"x\":[2011,2017],\"xaxis\":\"x\",\"y\":[\"Pirates of the Caribbean\",\"Pirates of the Caribbean\"],\"yaxis\":\"y\",\"type\":\"scatter\",\"textfont\":{\"size\":3}},{\"hovertemplate\":\"theme=%{y}<br>year=%{x}<br>number=%{marker.size}<extra></extra>\",\"legendgroup\":\"Pharaoh's Quest\",\"marker\":{\"color\":\"#FF6692\",\"size\":[9],\"sizemode\":\"area\",\"sizeref\":0.17,\"symbol\":\"circle\"},\"mode\":\"markers+lines\",\"name\":\"Pharaoh's Quest\",\"orientation\":\"h\",\"showlegend\":true,\"x\":[2011],\"xaxis\":\"x\",\"y\":[\"Pharaoh's Quest\"],\"yaxis\":\"y\",\"type\":\"scatter\",\"textfont\":{\"size\":3}},{\"hovertemplate\":\"theme=%{y}<br>year=%{x}<br>number=%{marker.size}<extra></extra>\",\"legendgroup\":\"Master Builder Academy\",\"marker\":{\"color\":\"#B6E880\",\"size\":[4,5,5],\"sizemode\":\"area\",\"sizeref\":0.17,\"symbol\":\"circle\"},\"mode\":\"markers+lines\",\"name\":\"Master Builder Academy\",\"orientation\":\"h\",\"showlegend\":true,\"x\":[2011,2012,2013],\"xaxis\":\"x\",\"y\":[\"Master Builder Academy\",\"Master Builder Academy\",\"Master Builder Academy\"],\"yaxis\":\"y\",\"type\":\"scatter\",\"textfont\":{\"size\":3}},{\"hovertemplate\":\"theme=%{y}<br>year=%{x}<br>number=%{marker.size}<extra></extra>\",\"legendgroup\":\"Ideas\",\"marker\":{\"color\":\"#FF97FF\",\"size\":[1,2,1,4,4,3,4,4,6,6,8],\"sizemode\":\"area\",\"sizeref\":0.17,\"symbol\":\"circle\"},\"mode\":\"markers+lines\",\"name\":\"Ideas\",\"orientation\":\"h\",\"showlegend\":true,\"x\":[2011,2012,2013,2014,2015,2016,2017,2018,2019,2020,2021],\"xaxis\":\"x\",\"y\":[\"Ideas\",\"Ideas\",\"Ideas\",\"Ideas\",\"Ideas\",\"Ideas\",\"Ideas\",\"Ideas\",\"Ideas\",\"Ideas\",\"Ideas\"],\"yaxis\":\"y\",\"type\":\"scatter\",\"textfont\":{\"size\":3}},{\"hovertemplate\":\"theme=%{y}<br>year=%{x}<br>number=%{marker.size}<extra></extra>\",\"legendgroup\":\"Life of George\",\"marker\":{\"color\":\"#FECB52\",\"size\":[1,1],\"sizemode\":\"area\",\"sizeref\":0.17,\"symbol\":\"circle\"},\"mode\":\"markers+lines\",\"name\":\"Life of George\",\"orientation\":\"h\",\"showlegend\":true,\"x\":[2011,2012],\"xaxis\":\"x\",\"y\":[\"Life of George\",\"Life of George\"],\"yaxis\":\"y\",\"type\":\"scatter\",\"textfont\":{\"size\":3}},{\"hovertemplate\":\"theme=%{y}<br>year=%{x}<br>number=%{marker.size}<extra></extra>\",\"legendgroup\":\"Friends\",\"marker\":{\"color\":\"#636efa\",\"size\":[34,34,45,50,47,44,47,51,58,46],\"sizemode\":\"area\",\"sizeref\":0.17,\"symbol\":\"circle\"},\"mode\":\"markers+lines\",\"name\":\"Friends\",\"orientation\":\"h\",\"showlegend\":true,\"x\":[2012,2013,2014,2015,2016,2017,2018,2019,2020,2021],\"xaxis\":\"x\",\"y\":[\"Friends\",\"Friends\",\"Friends\",\"Friends\",\"Friends\",\"Friends\",\"Friends\",\"Friends\",\"Friends\",\"Friends\"],\"yaxis\":\"y\",\"type\":\"scatter\",\"textfont\":{\"size\":3}},{\"hovertemplate\":\"theme=%{y}<br>year=%{x}<br>number=%{marker.size}<extra></extra>\",\"legendgroup\":\"Marvel Super Heroes\",\"marker\":{\"color\":\"#EF553B\",\"size\":[13,7,12,14,16,15,17,20,25,41],\"sizemode\":\"area\",\"sizeref\":0.17,\"symbol\":\"circle\"},\"mode\":\"markers+lines\",\"name\":\"Marvel Super Heroes\",\"orientation\":\"h\",\"showlegend\":true,\"x\":[2012,2013,2014,2015,2016,2017,2018,2019,2020,2021],\"xaxis\":\"x\",\"y\":[\"Marvel Super Heroes\",\"Marvel Super Heroes\",\"Marvel Super Heroes\",\"Marvel Super Heroes\",\"Marvel Super Heroes\",\"Marvel Super Heroes\",\"Marvel Super Heroes\",\"Marvel Super Heroes\",\"Marvel Super Heroes\",\"Marvel Super Heroes\"],\"yaxis\":\"y\",\"type\":\"scatter\",\"textfont\":{\"size\":3}},{\"hovertemplate\":\"theme=%{y}<br>year=%{x}<br>number=%{marker.size}<extra></extra>\",\"legendgroup\":\"Monster Fighters\",\"marker\":{\"color\":\"#00cc96\",\"size\":[13],\"sizemode\":\"area\",\"sizeref\":0.17,\"symbol\":\"circle\"},\"mode\":\"markers+lines\",\"name\":\"Monster Fighters\",\"orientation\":\"h\",\"showlegend\":true,\"x\":[2012],\"xaxis\":\"x\",\"y\":[\"Monster Fighters\"],\"yaxis\":\"y\",\"type\":\"scatter\",\"textfont\":{\"size\":3}},{\"hovertemplate\":\"theme=%{y}<br>year=%{x}<br>number=%{marker.size}<extra></extra>\",\"legendgroup\":\"DC Comics Super Heroes\",\"marker\":{\"color\":\"#ab63fa\",\"size\":[12,8,9,9,16,8,14,18,11,13],\"sizemode\":\"area\",\"sizeref\":0.17,\"symbol\":\"circle\"},\"mode\":\"markers+lines\",\"name\":\"DC Comics Super Heroes\",\"orientation\":\"h\",\"showlegend\":true,\"x\":[2012,2013,2014,2015,2016,2017,2018,2019,2020,2021],\"xaxis\":\"x\",\"y\":[\"DC Comics Super Heroes\",\"DC Comics Super Heroes\",\"DC Comics Super Heroes\",\"DC Comics Super Heroes\",\"DC Comics Super Heroes\",\"DC Comics Super Heroes\",\"DC Comics Super Heroes\",\"DC Comics Super Heroes\",\"DC Comics Super Heroes\",\"DC Comics Super Heroes\"],\"yaxis\":\"y\",\"type\":\"scatter\",\"textfont\":{\"size\":3}},{\"hovertemplate\":\"theme=%{y}<br>year=%{x}<br>number=%{marker.size}<extra></extra>\",\"legendgroup\":\"The Lord of the Rings\",\"marker\":{\"color\":\"#FFA15A\",\"size\":[10,5],\"sizemode\":\"area\",\"sizeref\":0.17,\"symbol\":\"circle\"},\"mode\":\"markers+lines\",\"name\":\"The Lord of the Rings\",\"orientation\":\"h\",\"showlegend\":true,\"x\":[2012,2013],\"xaxis\":\"x\",\"y\":[\"The Lord of the Rings\",\"The Lord of the Rings\"],\"yaxis\":\"y\",\"type\":\"scatter\",\"textfont\":{\"size\":3}},{\"hovertemplate\":\"theme=%{y}<br>year=%{x}<br>number=%{marker.size}<extra></extra>\",\"legendgroup\":\"The Hobbit\",\"marker\":{\"color\":\"#19d3f3\",\"size\":[8,6,5],\"sizemode\":\"area\",\"sizeref\":0.17,\"symbol\":\"circle\"},\"mode\":\"markers+lines\",\"name\":\"The Hobbit\",\"orientation\":\"h\",\"showlegend\":true,\"x\":[2012,2013,2014],\"xaxis\":\"x\",\"y\":[\"The Hobbit\",\"The Hobbit\",\"The Hobbit\"],\"yaxis\":\"y\",\"type\":\"scatter\",\"textfont\":{\"size\":3}},{\"hovertemplate\":\"theme=%{y}<br>year=%{x}<br>number=%{marker.size}<extra></extra>\",\"legendgroup\":\"Dino\",\"marker\":{\"color\":\"#FF6692\",\"size\":[7],\"sizemode\":\"area\",\"sizeref\":0.17,\"symbol\":\"circle\"},\"mode\":\"markers+lines\",\"name\":\"Dino\",\"orientation\":\"h\",\"showlegend\":true,\"x\":[2012],\"xaxis\":\"x\",\"y\":[\"Dino\"],\"yaxis\":\"y\",\"type\":\"scatter\",\"textfont\":{\"size\":3}},{\"hovertemplate\":\"theme=%{y}<br>year=%{x}<br>number=%{marker.size}<extra></extra>\",\"legendgroup\":\"Legends of Chima\",\"marker\":{\"color\":\"#B6E880\",\"size\":[57,48,14],\"sizemode\":\"area\",\"sizeref\":0.17,\"symbol\":\"circle\"},\"mode\":\"markers+lines\",\"name\":\"Legends of Chima\",\"orientation\":\"h\",\"showlegend\":true,\"x\":[2013,2014,2015],\"xaxis\":\"x\",\"y\":[\"Legends of Chima\",\"Legends of Chima\",\"Legends of Chima\"],\"yaxis\":\"y\",\"type\":\"scatter\",\"textfont\":{\"size\":3}},{\"hovertemplate\":\"theme=%{y}<br>year=%{x}<br>number=%{marker.size}<extra></extra>\",\"legendgroup\":\"The Lone Ranger\",\"marker\":{\"color\":\"#FF97FF\",\"size\":[8],\"sizemode\":\"area\",\"sizeref\":0.17,\"symbol\":\"circle\"},\"mode\":\"markers+lines\",\"name\":\"The Lone Ranger\",\"orientation\":\"h\",\"showlegend\":true,\"x\":[2013],\"xaxis\":\"x\",\"y\":[\"The Lone Ranger\"],\"yaxis\":\"y\",\"type\":\"scatter\",\"textfont\":{\"size\":3}},{\"hovertemplate\":\"theme=%{y}<br>year=%{x}<br>number=%{marker.size}<extra></extra>\",\"legendgroup\":\"Teenage Mutant Ninja Turtles\",\"marker\":{\"color\":\"#FECB52\",\"size\":[7,10],\"sizemode\":\"area\",\"sizeref\":0.17,\"symbol\":\"circle\"},\"mode\":\"markers+lines\",\"name\":\"Teenage Mutant Ninja Turtles\",\"orientation\":\"h\",\"showlegend\":true,\"x\":[2013,2014],\"xaxis\":\"x\",\"y\":[\"Teenage Mutant Ninja Turtles\",\"Teenage Mutant Ninja Turtles\"],\"yaxis\":\"y\",\"type\":\"scatter\",\"textfont\":{\"size\":3}},{\"hovertemplate\":\"theme=%{y}<br>year=%{x}<br>number=%{marker.size}<extra></extra>\",\"legendgroup\":\"Minecraft\",\"marker\":{\"color\":\"#636efa\",\"size\":[2,7,4,8,9,10,9,13,11],\"sizemode\":\"area\",\"sizeref\":0.17,\"symbol\":\"circle\"},\"mode\":\"markers+lines\",\"name\":\"Minecraft\",\"orientation\":\"h\",\"showlegend\":true,\"x\":[2013,2014,2015,2016,2017,2018,2019,2020,2021],\"xaxis\":\"x\",\"y\":[\"Minecraft\",\"Minecraft\",\"Minecraft\",\"Minecraft\",\"Minecraft\",\"Minecraft\",\"Minecraft\",\"Minecraft\",\"Minecraft\"],\"yaxis\":\"y\",\"type\":\"scatter\",\"textfont\":{\"size\":3}},{\"hovertemplate\":\"theme=%{y}<br>year=%{x}<br>number=%{marker.size}<extra></extra>\",\"legendgroup\":\"Mixels\",\"marker\":{\"color\":\"#EF553B\",\"size\":[30,30,29],\"sizemode\":\"area\",\"sizeref\":0.17,\"symbol\":\"circle\"},\"mode\":\"markers+lines\",\"name\":\"Mixels\",\"orientation\":\"h\",\"showlegend\":true,\"x\":[2014,2015,2016],\"xaxis\":\"x\",\"y\":[\"Mixels\",\"Mixels\",\"Mixels\"],\"yaxis\":\"y\",\"type\":\"scatter\",\"textfont\":{\"size\":3}},{\"hovertemplate\":\"theme=%{y}<br>year=%{x}<br>number=%{marker.size}<extra></extra>\",\"legendgroup\":\"The LEGO Movie\",\"marker\":{\"color\":\"#00cc96\",\"size\":[24,3],\"sizemode\":\"area\",\"sizeref\":0.17,\"symbol\":\"circle\"},\"mode\":\"markers+lines\",\"name\":\"The LEGO Movie\",\"orientation\":\"h\",\"showlegend\":true,\"x\":[2014,2015],\"xaxis\":\"x\",\"y\":[\"The LEGO Movie\",\"The LEGO Movie\"],\"yaxis\":\"y\",\"type\":\"scatter\",\"textfont\":{\"size\":3}},{\"hovertemplate\":\"theme=%{y}<br>year=%{x}<br>number=%{marker.size}<extra></extra>\",\"legendgroup\":\"Juniors\",\"marker\":{\"color\":\"#ab63fa\",\"size\":[11,8,11,18,19],\"sizemode\":\"area\",\"sizeref\":0.17,\"symbol\":\"circle\"},\"mode\":\"markers+lines\",\"name\":\"Juniors\",\"orientation\":\"h\",\"showlegend\":true,\"x\":[2014,2015,2016,2017,2018],\"xaxis\":\"x\",\"y\":[\"Juniors\",\"Juniors\",\"Juniors\",\"Juniors\",\"Juniors\"],\"yaxis\":\"y\",\"type\":\"scatter\",\"textfont\":{\"size\":3}},{\"hovertemplate\":\"theme=%{y}<br>year=%{x}<br>number=%{marker.size}<extra></extra>\",\"legendgroup\":\"Disney\",\"marker\":{\"color\":\"#FFA15A\",\"size\":[7,4,10,9,11,16,22,26],\"sizemode\":\"area\",\"sizeref\":0.17,\"symbol\":\"circle\"},\"mode\":\"markers+lines\",\"name\":\"Disney\",\"orientation\":\"h\",\"showlegend\":true,\"x\":[2014,2015,2016,2017,2018,2019,2020,2021],\"xaxis\":\"x\",\"y\":[\"Disney\",\"Disney\",\"Disney\",\"Disney\",\"Disney\",\"Disney\",\"Disney\",\"Disney\"],\"yaxis\":\"y\",\"type\":\"scatter\",\"textfont\":{\"size\":3}},{\"hovertemplate\":\"theme=%{y}<br>year=%{x}<br>number=%{marker.size}<extra></extra>\",\"legendgroup\":\"Ultra Agents\",\"marker\":{\"color\":\"#19d3f3\",\"size\":[6,8],\"sizemode\":\"area\",\"sizeref\":0.17,\"symbol\":\"circle\"},\"mode\":\"markers+lines\",\"name\":\"Ultra Agents\",\"orientation\":\"h\",\"showlegend\":true,\"x\":[2014,2015],\"xaxis\":\"x\",\"y\":[\"Ultra Agents\",\"Ultra Agents\"],\"yaxis\":\"y\",\"type\":\"scatter\",\"textfont\":{\"size\":3}},{\"hovertemplate\":\"theme=%{y}<br>year=%{x}<br>number=%{marker.size}<extra></extra>\",\"legendgroup\":\"Fusion\",\"marker\":{\"color\":\"#FF6692\",\"size\":[4],\"sizemode\":\"area\",\"sizeref\":0.17,\"symbol\":\"circle\"},\"mode\":\"markers+lines\",\"name\":\"Fusion\",\"orientation\":\"h\",\"showlegend\":true,\"x\":[2014],\"xaxis\":\"x\",\"y\":[\"Fusion\"],\"yaxis\":\"y\",\"type\":\"scatter\",\"textfont\":{\"size\":3}},{\"hovertemplate\":\"theme=%{y}<br>year=%{x}<br>number=%{marker.size}<extra></extra>\",\"legendgroup\":\"The Simpsons\",\"marker\":{\"color\":\"#B6E880\",\"size\":[1,1],\"sizemode\":\"area\",\"sizeref\":0.17,\"symbol\":\"circle\"},\"mode\":\"markers+lines\",\"name\":\"The Simpsons\",\"orientation\":\"h\",\"showlegend\":true,\"x\":[2014,2015],\"xaxis\":\"x\",\"y\":[\"The Simpsons\",\"The Simpsons\"],\"yaxis\":\"y\",\"type\":\"scatter\",\"textfont\":{\"size\":3}},{\"hovertemplate\":\"theme=%{y}<br>year=%{x}<br>number=%{marker.size}<extra></extra>\",\"legendgroup\":\"Dimensions\",\"marker\":{\"color\":\"#FF97FF\",\"size\":[31,26,11],\"sizemode\":\"area\",\"sizeref\":0.17,\"symbol\":\"circle\"},\"mode\":\"markers+lines\",\"name\":\"Dimensions\",\"orientation\":\"h\",\"showlegend\":true,\"x\":[2015,2016,2017],\"xaxis\":\"x\",\"y\":[\"Dimensions\",\"Dimensions\",\"Dimensions\"],\"yaxis\":\"y\",\"type\":\"scatter\",\"textfont\":{\"size\":3}},{\"hovertemplate\":\"theme=%{y}<br>year=%{x}<br>number=%{marker.size}<extra></extra>\",\"legendgroup\":\"Elves\",\"marker\":{\"color\":\"#FECB52\",\"size\":[11,13,10,7],\"sizemode\":\"area\",\"sizeref\":0.17,\"symbol\":\"circle\"},\"mode\":\"markers+lines\",\"name\":\"Elves\",\"orientation\":\"h\",\"showlegend\":true,\"x\":[2015,2016,2017,2018],\"xaxis\":\"x\",\"y\":[\"Elves\",\"Elves\",\"Elves\",\"Elves\"],\"yaxis\":\"y\",\"type\":\"scatter\",\"textfont\":{\"size\":3}},{\"hovertemplate\":\"theme=%{y}<br>year=%{x}<br>number=%{marker.size}<extra></extra>\",\"legendgroup\":\"Jurassic World\",\"marker\":{\"color\":\"#636efa\",\"size\":[7,13,7,11,9],\"sizemode\":\"area\",\"sizeref\":0.17,\"symbol\":\"circle\"},\"mode\":\"markers+lines\",\"name\":\"Jurassic World\",\"orientation\":\"h\",\"showlegend\":true,\"x\":[2015,2018,2019,2020,2021],\"xaxis\":\"x\",\"y\":[\"Jurassic World\",\"Jurassic World\",\"Jurassic World\",\"Jurassic World\",\"Jurassic World\"],\"yaxis\":\"y\",\"type\":\"scatter\",\"textfont\":{\"size\":3}},{\"hovertemplate\":\"theme=%{y}<br>year=%{x}<br>number=%{marker.size}<extra></extra>\",\"legendgroup\":\"Speed Champions\",\"marker\":{\"color\":\"#EF553B\",\"size\":[7,7,8,6,6,7,7],\"sizemode\":\"area\",\"sizeref\":0.17,\"symbol\":\"circle\"},\"mode\":\"markers+lines\",\"name\":\"Speed Champions\",\"orientation\":\"h\",\"showlegend\":true,\"x\":[2015,2016,2017,2018,2019,2020,2021],\"xaxis\":\"x\",\"y\":[\"Speed Champions\",\"Speed Champions\",\"Speed Champions\",\"Speed Champions\",\"Speed Champions\",\"Speed Champions\",\"Speed Champions\"],\"yaxis\":\"y\",\"type\":\"scatter\",\"textfont\":{\"size\":3}},{\"hovertemplate\":\"theme=%{y}<br>year=%{x}<br>number=%{marker.size}<extra></extra>\",\"legendgroup\":\"Scooby-Doo\",\"marker\":{\"color\":\"#00cc96\",\"size\":[5,1],\"sizemode\":\"area\",\"sizeref\":0.17,\"symbol\":\"circle\"},\"mode\":\"markers+lines\",\"name\":\"Scooby-Doo\",\"orientation\":\"h\",\"showlegend\":true,\"x\":[2015,2016],\"xaxis\":\"x\",\"y\":[\"Scooby-Doo\",\"Scooby-Doo\"],\"yaxis\":\"y\",\"type\":\"scatter\",\"textfont\":{\"size\":3}},{\"hovertemplate\":\"theme=%{y}<br>year=%{x}<br>number=%{marker.size}<extra></extra>\",\"legendgroup\":\"Nexo Knights\",\"marker\":{\"color\":\"#ab63fa\",\"size\":[49,41,15],\"sizemode\":\"area\",\"sizeref\":0.17,\"symbol\":\"circle\"},\"mode\":\"markers+lines\",\"name\":\"Nexo Knights\",\"orientation\":\"h\",\"showlegend\":true,\"x\":[2016,2017,2018],\"xaxis\":\"x\",\"y\":[\"Nexo Knights\",\"Nexo Knights\",\"Nexo Knights\"],\"yaxis\":\"y\",\"type\":\"scatter\",\"textfont\":{\"size\":3}},{\"hovertemplate\":\"theme=%{y}<br>year=%{x}<br>number=%{marker.size}<extra></extra>\",\"legendgroup\":\"The Angry Birds Movie\",\"marker\":{\"color\":\"#FFA15A\",\"size\":[6],\"sizemode\":\"area\",\"sizeref\":0.17,\"symbol\":\"circle\"},\"mode\":\"markers+lines\",\"name\":\"The Angry Birds Movie\",\"orientation\":\"h\",\"showlegend\":true,\"x\":[2016],\"xaxis\":\"x\",\"y\":[\"The Angry Birds Movie\"],\"yaxis\":\"y\",\"type\":\"scatter\",\"textfont\":{\"size\":3}},{\"hovertemplate\":\"theme=%{y}<br>year=%{x}<br>number=%{marker.size}<extra></extra>\",\"legendgroup\":\"BrickHeadz\",\"marker\":{\"color\":\"#19d3f3\",\"size\":[4,20,42,14,13,17],\"sizemode\":\"area\",\"sizeref\":0.17,\"symbol\":\"circle\"},\"mode\":\"markers+lines\",\"name\":\"BrickHeadz\",\"orientation\":\"h\",\"showlegend\":true,\"x\":[2016,2017,2018,2019,2020,2021],\"xaxis\":\"x\",\"y\":[\"BrickHeadz\",\"BrickHeadz\",\"BrickHeadz\",\"BrickHeadz\",\"BrickHeadz\",\"BrickHeadz\"],\"yaxis\":\"y\",\"type\":\"scatter\",\"textfont\":{\"size\":3}},{\"hovertemplate\":\"theme=%{y}<br>year=%{x}<br>number=%{marker.size}<extra></extra>\",\"legendgroup\":\"Ghostbusters\",\"marker\":{\"color\":\"#FF6692\",\"size\":[2],\"sizemode\":\"area\",\"sizeref\":0.17,\"symbol\":\"circle\"},\"mode\":\"markers+lines\",\"name\":\"Ghostbusters\",\"orientation\":\"h\",\"showlegend\":true,\"x\":[2016],\"xaxis\":\"x\",\"y\":[\"Ghostbusters\"],\"yaxis\":\"y\",\"type\":\"scatter\",\"textfont\":{\"size\":3}},{\"hovertemplate\":\"theme=%{y}<br>year=%{x}<br>number=%{marker.size}<extra></extra>\",\"legendgroup\":\"The LEGO Batman Movie\",\"marker\":{\"color\":\"#B6E880\",\"size\":[33,9],\"sizemode\":\"area\",\"sizeref\":0.17,\"symbol\":\"circle\"},\"mode\":\"markers+lines\",\"name\":\"The LEGO Batman Movie\",\"orientation\":\"h\",\"showlegend\":true,\"x\":[2017,2018],\"xaxis\":\"x\",\"y\":[\"The LEGO Batman Movie\",\"The LEGO Batman Movie\"],\"yaxis\":\"y\",\"type\":\"scatter\",\"textfont\":{\"size\":3}},{\"hovertemplate\":\"theme=%{y}<br>year=%{x}<br>number=%{marker.size}<extra></extra>\",\"legendgroup\":\"The LEGO Ninjago Movie\",\"marker\":{\"color\":\"#FF97FF\",\"size\":[27,1],\"sizemode\":\"area\",\"sizeref\":0.17,\"symbol\":\"circle\"},\"mode\":\"markers+lines\",\"name\":\"The LEGO Ninjago Movie\",\"orientation\":\"h\",\"showlegend\":true,\"x\":[2017,2018],\"xaxis\":\"x\",\"y\":[\"The LEGO Ninjago Movie\",\"The LEGO Ninjago Movie\"],\"yaxis\":\"y\",\"type\":\"scatter\",\"textfont\":{\"size\":3}},{\"hovertemplate\":\"theme=%{y}<br>year=%{x}<br>number=%{marker.size}<extra></extra>\",\"legendgroup\":\"DC Super Hero Girls\",\"marker\":{\"color\":\"#FECB52\",\"size\":[11],\"sizemode\":\"area\",\"sizeref\":0.17,\"symbol\":\"circle\"},\"mode\":\"markers+lines\",\"name\":\"DC Super Hero Girls\",\"orientation\":\"h\",\"showlegend\":true,\"x\":[2017],\"xaxis\":\"x\",\"y\":[\"DC Super Hero Girls\"],\"yaxis\":\"y\",\"type\":\"scatter\",\"textfont\":{\"size\":3}},{\"hovertemplate\":\"theme=%{y}<br>year=%{x}<br>number=%{marker.size}<extra></extra>\",\"legendgroup\":\"Boost\",\"marker\":{\"color\":\"#636efa\",\"size\":[1],\"sizemode\":\"area\",\"sizeref\":0.17,\"symbol\":\"circle\"},\"mode\":\"markers+lines\",\"name\":\"Boost\",\"orientation\":\"h\",\"showlegend\":true,\"x\":[2017],\"xaxis\":\"x\",\"y\":[\"Boost\"],\"yaxis\":\"y\",\"type\":\"scatter\",\"textfont\":{\"size\":3}},{\"hovertemplate\":\"theme=%{y}<br>year=%{x}<br>number=%{marker.size}<extra></extra>\",\"legendgroup\":\"Unikitty\",\"marker\":{\"color\":\"#EF553B\",\"size\":[23],\"sizemode\":\"area\",\"sizeref\":0.17,\"symbol\":\"circle\"},\"mode\":\"markers+lines\",\"name\":\"Unikitty\",\"orientation\":\"h\",\"showlegend\":true,\"x\":[2018],\"xaxis\":\"x\",\"y\":[\"Unikitty\"],\"yaxis\":\"y\",\"type\":\"scatter\",\"textfont\":{\"size\":3}},{\"hovertemplate\":\"theme=%{y}<br>year=%{x}<br>number=%{marker.size}<extra></extra>\",\"legendgroup\":\"Xtra\",\"marker\":{\"color\":\"#00cc96\",\"size\":[8,3,4,2],\"sizemode\":\"area\",\"sizeref\":0.17,\"symbol\":\"circle\"},\"mode\":\"markers+lines\",\"name\":\"Xtra\",\"orientation\":\"h\",\"showlegend\":true,\"x\":[2018,2019,2020,2021],\"xaxis\":\"x\",\"y\":[\"Xtra\",\"Xtra\",\"Xtra\",\"Xtra\"],\"yaxis\":\"y\",\"type\":\"scatter\",\"textfont\":{\"size\":3}},{\"hovertemplate\":\"theme=%{y}<br>year=%{x}<br>number=%{marker.size}<extra></extra>\",\"legendgroup\":\"The Powerpuff Girls\",\"marker\":{\"color\":\"#ab63fa\",\"size\":[2],\"sizemode\":\"area\",\"sizeref\":0.17,\"symbol\":\"circle\"},\"mode\":\"markers+lines\",\"name\":\"The Powerpuff Girls\",\"orientation\":\"h\",\"showlegend\":true,\"x\":[2018],\"xaxis\":\"x\",\"y\":[\"The Powerpuff Girls\"],\"yaxis\":\"y\",\"type\":\"scatter\",\"textfont\":{\"size\":3}},{\"hovertemplate\":\"theme=%{y}<br>year=%{x}<br>number=%{marker.size}<extra></extra>\",\"legendgroup\":\"Overwatch\",\"marker\":{\"color\":\"#FFA15A\",\"size\":[1,8],\"sizemode\":\"area\",\"sizeref\":0.17,\"symbol\":\"circle\"},\"mode\":\"markers+lines\",\"name\":\"Overwatch\",\"orientation\":\"h\",\"showlegend\":true,\"x\":[2018,2019],\"xaxis\":\"x\",\"y\":[\"Overwatch\",\"Overwatch\"],\"yaxis\":\"y\",\"type\":\"scatter\",\"textfont\":{\"size\":3}},{\"hovertemplate\":\"theme=%{y}<br>year=%{x}<br>number=%{marker.size}<extra></extra>\",\"legendgroup\":\"Powered Up\",\"marker\":{\"color\":\"#19d3f3\",\"size\":[1,6,3,4],\"sizemode\":\"area\",\"sizeref\":0.17,\"symbol\":\"circle\"},\"mode\":\"markers+lines\",\"name\":\"Powered Up\",\"orientation\":\"h\",\"showlegend\":true,\"x\":[2018,2019,2020,2021],\"xaxis\":\"x\",\"y\":[\"Powered Up\",\"Powered Up\",\"Powered Up\",\"Powered Up\"],\"yaxis\":\"y\",\"type\":\"scatter\",\"textfont\":{\"size\":3}},{\"hovertemplate\":\"theme=%{y}<br>year=%{x}<br>number=%{marker.size}<extra></extra>\",\"legendgroup\":\"The LEGO Movie 2\",\"marker\":{\"color\":\"#FF6692\",\"size\":[36],\"sizemode\":\"area\",\"sizeref\":0.17,\"symbol\":\"circle\"},\"mode\":\"markers+lines\",\"name\":\"The LEGO Movie 2\",\"orientation\":\"h\",\"showlegend\":true,\"x\":[2019],\"xaxis\":\"x\",\"y\":[\"The LEGO Movie 2\"],\"yaxis\":\"y\",\"type\":\"scatter\",\"textfont\":{\"size\":3}},{\"hovertemplate\":\"theme=%{y}<br>year=%{x}<br>number=%{marker.size}<extra></extra>\",\"legendgroup\":\"Hidden Side\",\"marker\":{\"color\":\"#B6E880\",\"size\":[12,20],\"sizemode\":\"area\",\"sizeref\":0.17,\"symbol\":\"circle\"},\"mode\":\"markers+lines\",\"name\":\"Hidden Side\",\"orientation\":\"h\",\"showlegend\":true,\"x\":[2019,2020],\"xaxis\":\"x\",\"y\":[\"Hidden Side\",\"Hidden Side\"],\"yaxis\":\"y\",\"type\":\"scatter\",\"textfont\":{\"size\":3}},{\"hovertemplate\":\"theme=%{y}<br>year=%{x}<br>number=%{marker.size}<extra></extra>\",\"legendgroup\":\"FORMA\",\"marker\":{\"color\":\"#FF97FF\",\"size\":[4],\"sizemode\":\"area\",\"sizeref\":0.17,\"symbol\":\"circle\"},\"mode\":\"markers+lines\",\"name\":\"FORMA\",\"orientation\":\"h\",\"showlegend\":true,\"x\":[2019],\"xaxis\":\"x\",\"y\":[\"FORMA\"],\"yaxis\":\"y\",\"type\":\"scatter\",\"textfont\":{\"size\":3}},{\"hovertemplate\":\"theme=%{y}<br>year=%{x}<br>number=%{marker.size}<extra></extra>\",\"legendgroup\":\"Originals\",\"marker\":{\"color\":\"#FECB52\",\"size\":[3],\"sizemode\":\"area\",\"sizeref\":0.17,\"symbol\":\"circle\"},\"mode\":\"markers+lines\",\"name\":\"Originals\",\"orientation\":\"h\",\"showlegend\":true,\"x\":[2019],\"xaxis\":\"x\",\"y\":[\"Originals\"],\"yaxis\":\"y\",\"type\":\"scatter\",\"textfont\":{\"size\":3}},{\"hovertemplate\":\"theme=%{y}<br>year=%{x}<br>number=%{marker.size}<extra></extra>\",\"legendgroup\":\"Stranger Things\",\"marker\":{\"color\":\"#636efa\",\"size\":[1],\"sizemode\":\"area\",\"sizeref\":0.17,\"symbol\":\"circle\"},\"mode\":\"markers+lines\",\"name\":\"Stranger Things\",\"orientation\":\"h\",\"showlegend\":true,\"x\":[2019],\"xaxis\":\"x\",\"y\":[\"Stranger Things\"],\"yaxis\":\"y\",\"type\":\"scatter\",\"textfont\":{\"size\":3}},{\"hovertemplate\":\"theme=%{y}<br>year=%{x}<br>number=%{marker.size}<extra></extra>\",\"legendgroup\":\"Dots\",\"marker\":{\"color\":\"#EF553B\",\"size\":[20,26],\"sizemode\":\"area\",\"sizeref\":0.17,\"symbol\":\"circle\"},\"mode\":\"markers+lines\",\"name\":\"Dots\",\"orientation\":\"h\",\"showlegend\":true,\"x\":[2020,2021],\"xaxis\":\"x\",\"y\":[\"Dots\",\"Dots\"],\"yaxis\":\"y\",\"type\":\"scatter\",\"textfont\":{\"size\":3}},{\"hovertemplate\":\"theme=%{y}<br>year=%{x}<br>number=%{marker.size}<extra></extra>\",\"legendgroup\":\"Super Mario\",\"marker\":{\"color\":\"#00cc96\",\"size\":[19,16],\"sizemode\":\"area\",\"sizeref\":0.17,\"symbol\":\"circle\"},\"mode\":\"markers+lines\",\"name\":\"Super Mario\",\"orientation\":\"h\",\"showlegend\":true,\"x\":[2020,2021],\"xaxis\":\"x\",\"y\":[\"Super Mario\",\"Super Mario\"],\"yaxis\":\"y\",\"type\":\"scatter\",\"textfont\":{\"size\":3}},{\"hovertemplate\":\"theme=%{y}<br>year=%{x}<br>number=%{marker.size}<extra></extra>\",\"legendgroup\":\"Monkie Kid\",\"marker\":{\"color\":\"#ab63fa\",\"size\":[13,12],\"sizemode\":\"area\",\"sizeref\":0.17,\"symbol\":\"circle\"},\"mode\":\"markers+lines\",\"name\":\"Monkie Kid\",\"orientation\":\"h\",\"showlegend\":true,\"x\":[2020,2021],\"xaxis\":\"x\",\"y\":[\"Monkie Kid\",\"Monkie Kid\"],\"yaxis\":\"y\",\"type\":\"scatter\",\"textfont\":{\"size\":3}},{\"hovertemplate\":\"theme=%{y}<br>year=%{x}<br>number=%{marker.size}<extra></extra>\",\"legendgroup\":\"Trolls World Tour\",\"marker\":{\"color\":\"#FFA15A\",\"size\":[9],\"sizemode\":\"area\",\"sizeref\":0.17,\"symbol\":\"circle\"},\"mode\":\"markers+lines\",\"name\":\"Trolls World Tour\",\"orientation\":\"h\",\"showlegend\":true,\"x\":[2020],\"xaxis\":\"x\",\"y\":[\"Trolls World Tour\"],\"yaxis\":\"y\",\"type\":\"scatter\",\"textfont\":{\"size\":3}},{\"hovertemplate\":\"theme=%{y}<br>year=%{x}<br>number=%{marker.size}<extra></extra>\",\"legendgroup\":\"Art\",\"marker\":{\"color\":\"#19d3f3\",\"size\":[4,4],\"sizemode\":\"area\",\"sizeref\":0.17,\"symbol\":\"circle\"},\"mode\":\"markers+lines\",\"name\":\"Art\",\"orientation\":\"h\",\"showlegend\":true,\"x\":[2020,2021],\"xaxis\":\"x\",\"y\":[\"Art\",\"Art\"],\"yaxis\":\"y\",\"type\":\"scatter\",\"textfont\":{\"size\":3}},{\"hovertemplate\":\"theme=%{y}<br>year=%{x}<br>number=%{marker.size}<extra></extra>\",\"legendgroup\":\"Brick Sketches\",\"marker\":{\"color\":\"#FF6692\",\"size\":[4,2],\"sizemode\":\"area\",\"sizeref\":0.17,\"symbol\":\"circle\"},\"mode\":\"markers+lines\",\"name\":\"Brick Sketches\",\"orientation\":\"h\",\"showlegend\":true,\"x\":[2020,2021],\"xaxis\":\"x\",\"y\":[\"Brick Sketches\",\"Brick Sketches\"],\"yaxis\":\"y\",\"type\":\"scatter\",\"textfont\":{\"size\":3}},{\"hovertemplate\":\"theme=%{y}<br>year=%{x}<br>number=%{marker.size}<extra></extra>\",\"legendgroup\":\"Minions: The Rise of Gru\",\"marker\":{\"color\":\"#B6E880\",\"size\":[2,5],\"sizemode\":\"area\",\"sizeref\":0.17,\"symbol\":\"circle\"},\"mode\":\"markers+lines\",\"name\":\"Minions: The Rise of Gru\",\"orientation\":\"h\",\"showlegend\":true,\"x\":[2020,2021],\"xaxis\":\"x\",\"y\":[\"Minions: The Rise of Gru\",\"Minions: The Rise of Gru\"],\"yaxis\":\"y\",\"type\":\"scatter\",\"textfont\":{\"size\":3}},{\"hovertemplate\":\"theme=%{y}<br>year=%{x}<br>number=%{marker.size}<extra></extra>\",\"legendgroup\":\"Vidiyo\",\"marker\":{\"color\":\"#FF97FF\",\"size\":[39],\"sizemode\":\"area\",\"sizeref\":0.17,\"symbol\":\"circle\"},\"mode\":\"markers+lines\",\"name\":\"Vidiyo\",\"orientation\":\"h\",\"showlegend\":true,\"x\":[2021],\"xaxis\":\"x\",\"y\":[\"Vidiyo\"],\"yaxis\":\"y\",\"type\":\"scatter\",\"textfont\":{\"size\":3}},{\"hovertemplate\":\"theme=%{y}<br>year=%{x}<br>number=%{marker.size}<extra></extra>\",\"legendgroup\":\"Bricklink\",\"marker\":{\"color\":\"#FECB52\",\"size\":[5],\"sizemode\":\"area\",\"sizeref\":0.17,\"symbol\":\"circle\"},\"mode\":\"markers+lines\",\"name\":\"Bricklink\",\"orientation\":\"h\",\"showlegend\":true,\"x\":[2021],\"xaxis\":\"x\",\"y\":[\"Bricklink\"],\"yaxis\":\"y\",\"type\":\"scatter\",\"textfont\":{\"size\":3}}],                        {\"template\":{\"data\":{\"bar\":[{\"error_x\":{\"color\":\"#2a3f5f\"},\"error_y\":{\"color\":\"#2a3f5f\"},\"marker\":{\"line\":{\"color\":\"#E5ECF6\",\"width\":0.5},\"pattern\":{\"fillmode\":\"overlay\",\"size\":10,\"solidity\":0.2}},\"type\":\"bar\"}],\"barpolar\":[{\"marker\":{\"line\":{\"color\":\"#E5ECF6\",\"width\":0.5},\"pattern\":{\"fillmode\":\"overlay\",\"size\":10,\"solidity\":0.2}},\"type\":\"barpolar\"}],\"carpet\":[{\"aaxis\":{\"endlinecolor\":\"#2a3f5f\",\"gridcolor\":\"white\",\"linecolor\":\"white\",\"minorgridcolor\":\"white\",\"startlinecolor\":\"#2a3f5f\"},\"baxis\":{\"endlinecolor\":\"#2a3f5f\",\"gridcolor\":\"white\",\"linecolor\":\"white\",\"minorgridcolor\":\"white\",\"startlinecolor\":\"#2a3f5f\"},\"type\":\"carpet\"}],\"choropleth\":[{\"colorbar\":{\"outlinewidth\":0,\"ticks\":\"\"},\"type\":\"choropleth\"}],\"contour\":[{\"colorbar\":{\"outlinewidth\":0,\"ticks\":\"\"},\"colorscale\":[[0.0,\"#0d0887\"],[0.1111111111111111,\"#46039f\"],[0.2222222222222222,\"#7201a8\"],[0.3333333333333333,\"#9c179e\"],[0.4444444444444444,\"#bd3786\"],[0.5555555555555556,\"#d8576b\"],[0.6666666666666666,\"#ed7953\"],[0.7777777777777778,\"#fb9f3a\"],[0.8888888888888888,\"#fdca26\"],[1.0,\"#f0f921\"]],\"type\":\"contour\"}],\"contourcarpet\":[{\"colorbar\":{\"outlinewidth\":0,\"ticks\":\"\"},\"type\":\"contourcarpet\"}],\"heatmap\":[{\"colorbar\":{\"outlinewidth\":0,\"ticks\":\"\"},\"colorscale\":[[0.0,\"#0d0887\"],[0.1111111111111111,\"#46039f\"],[0.2222222222222222,\"#7201a8\"],[0.3333333333333333,\"#9c179e\"],[0.4444444444444444,\"#bd3786\"],[0.5555555555555556,\"#d8576b\"],[0.6666666666666666,\"#ed7953\"],[0.7777777777777778,\"#fb9f3a\"],[0.8888888888888888,\"#fdca26\"],[1.0,\"#f0f921\"]],\"type\":\"heatmap\"}],\"heatmapgl\":[{\"colorbar\":{\"outlinewidth\":0,\"ticks\":\"\"},\"colorscale\":[[0.0,\"#0d0887\"],[0.1111111111111111,\"#46039f\"],[0.2222222222222222,\"#7201a8\"],[0.3333333333333333,\"#9c179e\"],[0.4444444444444444,\"#bd3786\"],[0.5555555555555556,\"#d8576b\"],[0.6666666666666666,\"#ed7953\"],[0.7777777777777778,\"#fb9f3a\"],[0.8888888888888888,\"#fdca26\"],[1.0,\"#f0f921\"]],\"type\":\"heatmapgl\"}],\"histogram\":[{\"marker\":{\"pattern\":{\"fillmode\":\"overlay\",\"size\":10,\"solidity\":0.2}},\"type\":\"histogram\"}],\"histogram2d\":[{\"colorbar\":{\"outlinewidth\":0,\"ticks\":\"\"},\"colorscale\":[[0.0,\"#0d0887\"],[0.1111111111111111,\"#46039f\"],[0.2222222222222222,\"#7201a8\"],[0.3333333333333333,\"#9c179e\"],[0.4444444444444444,\"#bd3786\"],[0.5555555555555556,\"#d8576b\"],[0.6666666666666666,\"#ed7953\"],[0.7777777777777778,\"#fb9f3a\"],[0.8888888888888888,\"#fdca26\"],[1.0,\"#f0f921\"]],\"type\":\"histogram2d\"}],\"histogram2dcontour\":[{\"colorbar\":{\"outlinewidth\":0,\"ticks\":\"\"},\"colorscale\":[[0.0,\"#0d0887\"],[0.1111111111111111,\"#46039f\"],[0.2222222222222222,\"#7201a8\"],[0.3333333333333333,\"#9c179e\"],[0.4444444444444444,\"#bd3786\"],[0.5555555555555556,\"#d8576b\"],[0.6666666666666666,\"#ed7953\"],[0.7777777777777778,\"#fb9f3a\"],[0.8888888888888888,\"#fdca26\"],[1.0,\"#f0f921\"]],\"type\":\"histogram2dcontour\"}],\"mesh3d\":[{\"colorbar\":{\"outlinewidth\":0,\"ticks\":\"\"},\"type\":\"mesh3d\"}],\"parcoords\":[{\"line\":{\"colorbar\":{\"outlinewidth\":0,\"ticks\":\"\"}},\"type\":\"parcoords\"}],\"pie\":[{\"automargin\":true,\"type\":\"pie\"}],\"scatter\":[{\"marker\":{\"colorbar\":{\"outlinewidth\":0,\"ticks\":\"\"}},\"type\":\"scatter\"}],\"scatter3d\":[{\"line\":{\"colorbar\":{\"outlinewidth\":0,\"ticks\":\"\"}},\"marker\":{\"colorbar\":{\"outlinewidth\":0,\"ticks\":\"\"}},\"type\":\"scatter3d\"}],\"scattercarpet\":[{\"marker\":{\"colorbar\":{\"outlinewidth\":0,\"ticks\":\"\"}},\"type\":\"scattercarpet\"}],\"scattergeo\":[{\"marker\":{\"colorbar\":{\"outlinewidth\":0,\"ticks\":\"\"}},\"type\":\"scattergeo\"}],\"scattergl\":[{\"marker\":{\"colorbar\":{\"outlinewidth\":0,\"ticks\":\"\"}},\"type\":\"scattergl\"}],\"scattermapbox\":[{\"marker\":{\"colorbar\":{\"outlinewidth\":0,\"ticks\":\"\"}},\"type\":\"scattermapbox\"}],\"scatterpolar\":[{\"marker\":{\"colorbar\":{\"outlinewidth\":0,\"ticks\":\"\"}},\"type\":\"scatterpolar\"}],\"scatterpolargl\":[{\"marker\":{\"colorbar\":{\"outlinewidth\":0,\"ticks\":\"\"}},\"type\":\"scatterpolargl\"}],\"scatterternary\":[{\"marker\":{\"colorbar\":{\"outlinewidth\":0,\"ticks\":\"\"}},\"type\":\"scatterternary\"}],\"surface\":[{\"colorbar\":{\"outlinewidth\":0,\"ticks\":\"\"},\"colorscale\":[[0.0,\"#0d0887\"],[0.1111111111111111,\"#46039f\"],[0.2222222222222222,\"#7201a8\"],[0.3333333333333333,\"#9c179e\"],[0.4444444444444444,\"#bd3786\"],[0.5555555555555556,\"#d8576b\"],[0.6666666666666666,\"#ed7953\"],[0.7777777777777778,\"#fb9f3a\"],[0.8888888888888888,\"#fdca26\"],[1.0,\"#f0f921\"]],\"type\":\"surface\"}],\"table\":[{\"cells\":{\"fill\":{\"color\":\"#EBF0F8\"},\"line\":{\"color\":\"white\"}},\"header\":{\"fill\":{\"color\":\"#C8D4E3\"},\"line\":{\"color\":\"white\"}},\"type\":\"table\"}]},\"layout\":{\"annotationdefaults\":{\"arrowcolor\":\"#2a3f5f\",\"arrowhead\":0,\"arrowwidth\":1},\"autotypenumbers\":\"strict\",\"coloraxis\":{\"colorbar\":{\"outlinewidth\":0,\"ticks\":\"\"}},\"colorscale\":{\"diverging\":[[0,\"#8e0152\"],[0.1,\"#c51b7d\"],[0.2,\"#de77ae\"],[0.3,\"#f1b6da\"],[0.4,\"#fde0ef\"],[0.5,\"#f7f7f7\"],[0.6,\"#e6f5d0\"],[0.7,\"#b8e186\"],[0.8,\"#7fbc41\"],[0.9,\"#4d9221\"],[1,\"#276419\"]],\"sequential\":[[0.0,\"#0d0887\"],[0.1111111111111111,\"#46039f\"],[0.2222222222222222,\"#7201a8\"],[0.3333333333333333,\"#9c179e\"],[0.4444444444444444,\"#bd3786\"],[0.5555555555555556,\"#d8576b\"],[0.6666666666666666,\"#ed7953\"],[0.7777777777777778,\"#fb9f3a\"],[0.8888888888888888,\"#fdca26\"],[1.0,\"#f0f921\"]],\"sequentialminus\":[[0.0,\"#0d0887\"],[0.1111111111111111,\"#46039f\"],[0.2222222222222222,\"#7201a8\"],[0.3333333333333333,\"#9c179e\"],[0.4444444444444444,\"#bd3786\"],[0.5555555555555556,\"#d8576b\"],[0.6666666666666666,\"#ed7953\"],[0.7777777777777778,\"#fb9f3a\"],[0.8888888888888888,\"#fdca26\"],[1.0,\"#f0f921\"]]},\"colorway\":[\"#636efa\",\"#EF553B\",\"#00cc96\",\"#ab63fa\",\"#FFA15A\",\"#19d3f3\",\"#FF6692\",\"#B6E880\",\"#FF97FF\",\"#FECB52\"],\"font\":{\"color\":\"#2a3f5f\"},\"geo\":{\"bgcolor\":\"white\",\"lakecolor\":\"white\",\"landcolor\":\"#E5ECF6\",\"showlakes\":true,\"showland\":true,\"subunitcolor\":\"white\"},\"hoverlabel\":{\"align\":\"left\"},\"hovermode\":\"closest\",\"mapbox\":{\"style\":\"light\"},\"paper_bgcolor\":\"white\",\"plot_bgcolor\":\"#E5ECF6\",\"polar\":{\"angularaxis\":{\"gridcolor\":\"white\",\"linecolor\":\"white\",\"ticks\":\"\"},\"bgcolor\":\"#E5ECF6\",\"radialaxis\":{\"gridcolor\":\"white\",\"linecolor\":\"white\",\"ticks\":\"\"}},\"scene\":{\"xaxis\":{\"backgroundcolor\":\"#E5ECF6\",\"gridcolor\":\"white\",\"gridwidth\":2,\"linecolor\":\"white\",\"showbackground\":true,\"ticks\":\"\",\"zerolinecolor\":\"white\"},\"yaxis\":{\"backgroundcolor\":\"#E5ECF6\",\"gridcolor\":\"white\",\"gridwidth\":2,\"linecolor\":\"white\",\"showbackground\":true,\"ticks\":\"\",\"zerolinecolor\":\"white\"},\"zaxis\":{\"backgroundcolor\":\"#E5ECF6\",\"gridcolor\":\"white\",\"gridwidth\":2,\"linecolor\":\"white\",\"showbackground\":true,\"ticks\":\"\",\"zerolinecolor\":\"white\"}},\"shapedefaults\":{\"line\":{\"color\":\"#2a3f5f\"}},\"ternary\":{\"aaxis\":{\"gridcolor\":\"white\",\"linecolor\":\"white\",\"ticks\":\"\"},\"baxis\":{\"gridcolor\":\"white\",\"linecolor\":\"white\",\"ticks\":\"\"},\"bgcolor\":\"#E5ECF6\",\"caxis\":{\"gridcolor\":\"white\",\"linecolor\":\"white\",\"ticks\":\"\"}},\"title\":{\"x\":0.05},\"xaxis\":{\"automargin\":true,\"gridcolor\":\"white\",\"linecolor\":\"white\",\"ticks\":\"\",\"title\":{\"standoff\":15},\"zerolinecolor\":\"white\",\"zerolinewidth\":2},\"yaxis\":{\"automargin\":true,\"gridcolor\":\"white\",\"linecolor\":\"white\",\"ticks\":\"\",\"title\":{\"standoff\":15},\"zerolinecolor\":\"white\",\"zerolinewidth\":2}}},\"xaxis\":{\"anchor\":\"y\",\"domain\":[0.0,1.0],\"title\":{\"text\":\"year\"},\"tickmode\":\"linear\",\"tick0\":0,\"dtick\":1},\"yaxis\":{\"anchor\":\"x\",\"domain\":[0.0,1.0],\"title\":{\"text\":\"theme\"},\"categoryorder\":\"array\",\"categoryarray\":[\"Bricklink\",\"Vidiyo\",\"Minions: The Rise of Gru\",\"Brick Sketches\",\"Art\",\"Trolls World Tour\",\"Monkie Kid\",\"Super Mario\",\"Dots\",\"Stranger Things\",\"Originals\",\"FORMA\",\"Hidden Side\",\"The LEGO Movie 2\",\"Powered Up\",\"Overwatch\",\"The Powerpuff Girls\",\"Xtra\",\"Unikitty\",\"Boost\",\"DC Super Hero Girls\",\"The LEGO Ninjago Movie\",\"The LEGO Batman Movie\",\"Ghostbusters\",\"BrickHeadz\",\"The Angry Birds Movie\",\"Nexo Knights\",\"Scooby-Doo\",\"Speed Champions\",\"Jurassic World\",\"Elves\",\"Dimensions\",\"The Simpsons\",\"Fusion\",\"Ultra Agents\",\"Disney\",\"Juniors\",\"The LEGO Movie\",\"Mixels\",\"Minecraft\",\"Teenage Mutant Ninja Turtles\",\"The Lone Ranger\",\"Legends of Chima\",\"Dino\",\"The Hobbit\",\"The Lord of the Rings\",\"DC Comics Super Heroes\",\"Monster Fighters\",\"Marvel Super Heroes\",\"Friends\",\"Life of George\",\"Ideas\",\"Master Builder Academy\",\"Pharaoh's Quest\",\"Pirates of the Caribbean\",\"Cars\",\"Ninjago\",\"Universe\",\"Prince of Persia\",\"Ben 10: Alien Force\",\"World Racers\",\"Toy Story\",\"HERO Factory\",\"Atlantis\",\"Games\",\"Power Miners\",\"Architecture\",\"Power Functions\",\"Agents\",\"Indiana Jones\",\"Serious Play\",\"Aqua Raiders\",\"Bricks and More\",\"Avatar The Last Airbender\",\"SpongeBob SquarePants\",\"Batman\",\"Exo-Force\",\"Factory\",\"Vikings\",\"Make and Create\",\"Dino Attack\",\"Dino 2010\",\"City\",\"Quatro\",\"Hobby Set\",\"Spider-Man\",\"Discovery\",\"4 Juniors\",\"Clikits\",\"World City\",\"Gear\",\"Miscellaneous\",\"Spybotics\",\"Island Xtreme Stunts\",\"Galidor\",\"Explore\",\"Alpha Team\",\"Jack Stone\",\"Harry Potter\",\"Dinosaurs\",\"Bionicle\",\"Studios\",\"Creator Expert\",\"Mickey Mouse\",\"Action Wheelers\",\"Baby\",\"Sports\",\"Bulk Bricks\",\"Seasonal\",\"Rock Raiders\",\"Star Wars\",\"Racers\",\"Classic\",\"Mindstorms\",\"Znap\",\"Adventurers\",\"Scala\",\"Education\",\"Time Cruisers\",\"Western\",\"Primo\",\"Creator\",\"Aquazone\",\"Freestyle\",\"Belville\",\"Promotional\",\"Model Team\",\"Castle\",\"Books\",\"Assorted\",\"Boats\",\"Pirates\",\"Technic\",\"Dacta\",\"Basic\",\"Trains\",\"Space\",\"Town\",\"Service Packs\",\"Duplo\"],\"tickmode\":\"linear\",\"tick0\":1,\"dtick\":1},\"legend\":{\"title\":{\"text\":\"theme\"},\"tracegroupgap\":0,\"itemsizing\":\"constant\"},\"title\":{\"text\":\"Available themes in the period 1991-2021\"},\"font\":{\"size\":9},\"height\":1750,\"showlegend\":false},                        {\"responsive\": true}                    ).then(function(){\n",
       "                            \n",
       "var gd = document.getElementById('27c68b18-414b-4890-9ad5-930877aeca82');\n",
       "var x = new MutationObserver(function (mutations, observer) {{\n",
       "        var display = window.getComputedStyle(gd).display;\n",
       "        if (!display || display === 'none') {{\n",
       "            console.log([gd, 'removed!']);\n",
       "            Plotly.purge(gd);\n",
       "            observer.disconnect();\n",
       "        }}\n",
       "}});\n",
       "\n",
       "// Listen for the removal of the full notebook cells\n",
       "var notebookContainer = gd.closest('#notebook-container');\n",
       "if (notebookContainer) {{\n",
       "    x.observe(notebookContainer, {childList: true});\n",
       "}}\n",
       "\n",
       "// Listen for the clearing of the current output cell\n",
       "var outputEl = gd.closest('.output');\n",
       "if (outputEl) {{\n",
       "    x.observe(outputEl, {childList: true});\n",
       "}}\n",
       "\n",
       "                        })                };                });            </script>        </div>"
      ]
     },
     "metadata": {},
     "output_type": "display_data"
    }
   ],
   "source": [
    "fig = px.scatter(df_1, x = \"year\", y = \"theme\", color = \"theme\", size = \"number\",\n",
    "              title = \"Available themes in the period 1991-2021\")\n",
    "fig.update_layout(height=1750,\n",
    "                  font=dict(size=9),\n",
    "                  yaxis = dict(tickmode = 'linear',tick0 = 1,dtick = 1),\n",
    "                  xaxis = dict(tickmode = 'linear',tick0 = 0,dtick = 1),\n",
    "                  showlegend = False)\n",
    "fig.update_traces(mode='markers+lines', textfont_size=3)"
   ]
  },
  {
   "cell_type": "code",
   "execution_count": 542,
   "id": "0eafe112",
   "metadata": {},
   "outputs": [
    {
     "data": {
      "text/html": [
       "<div>\n",
       "<style scoped>\n",
       "    .dataframe tbody tr th:only-of-type {\n",
       "        vertical-align: middle;\n",
       "    }\n",
       "\n",
       "    .dataframe tbody tr th {\n",
       "        vertical-align: top;\n",
       "    }\n",
       "\n",
       "    .dataframe thead th {\n",
       "        text-align: right;\n",
       "    }\n",
       "</style>\n",
       "<table border=\"1\" class=\"dataframe\">\n",
       "  <thead>\n",
       "    <tr style=\"text-align: right;\">\n",
       "      <th></th>\n",
       "      <th>index</th>\n",
       "      <th>year</th>\n",
       "      <th>theme</th>\n",
       "      <th>number</th>\n",
       "    </tr>\n",
       "  </thead>\n",
       "  <tbody>\n",
       "    <tr>\n",
       "      <th>0</th>\n",
       "      <td>0</td>\n",
       "      <td>1991</td>\n",
       "      <td>Duplo</td>\n",
       "      <td>36</td>\n",
       "    </tr>\n",
       "    <tr>\n",
       "      <th>1</th>\n",
       "      <td>1</td>\n",
       "      <td>1991</td>\n",
       "      <td>Service Packs</td>\n",
       "      <td>22</td>\n",
       "    </tr>\n",
       "    <tr>\n",
       "      <th>2</th>\n",
       "      <td>2</td>\n",
       "      <td>1991</td>\n",
       "      <td>Town</td>\n",
       "      <td>22</td>\n",
       "    </tr>\n",
       "    <tr>\n",
       "      <th>3</th>\n",
       "      <td>3</td>\n",
       "      <td>1991</td>\n",
       "      <td>Space</td>\n",
       "      <td>13</td>\n",
       "    </tr>\n",
       "    <tr>\n",
       "      <th>4</th>\n",
       "      <td>4</td>\n",
       "      <td>1991</td>\n",
       "      <td>Trains</td>\n",
       "      <td>12</td>\n",
       "    </tr>\n",
       "    <tr>\n",
       "      <th>5</th>\n",
       "      <td>5</td>\n",
       "      <td>1991</td>\n",
       "      <td>Basic</td>\n",
       "      <td>11</td>\n",
       "    </tr>\n",
       "    <tr>\n",
       "      <th>6</th>\n",
       "      <td>6</td>\n",
       "      <td>1991</td>\n",
       "      <td>Dacta</td>\n",
       "      <td>7</td>\n",
       "    </tr>\n",
       "    <tr>\n",
       "      <th>7</th>\n",
       "      <td>7</td>\n",
       "      <td>1991</td>\n",
       "      <td>Technic</td>\n",
       "      <td>6</td>\n",
       "    </tr>\n",
       "    <tr>\n",
       "      <th>8</th>\n",
       "      <td>8</td>\n",
       "      <td>1991</td>\n",
       "      <td>Pirates</td>\n",
       "      <td>5</td>\n",
       "    </tr>\n",
       "    <tr>\n",
       "      <th>9</th>\n",
       "      <td>9</td>\n",
       "      <td>1991</td>\n",
       "      <td>Boats</td>\n",
       "      <td>3</td>\n",
       "    </tr>\n",
       "    <tr>\n",
       "      <th>10</th>\n",
       "      <td>15</td>\n",
       "      <td>1992</td>\n",
       "      <td>Town</td>\n",
       "      <td>27</td>\n",
       "    </tr>\n",
       "    <tr>\n",
       "      <th>11</th>\n",
       "      <td>16</td>\n",
       "      <td>1992</td>\n",
       "      <td>Duplo</td>\n",
       "      <td>17</td>\n",
       "    </tr>\n",
       "    <tr>\n",
       "      <th>12</th>\n",
       "      <td>17</td>\n",
       "      <td>1992</td>\n",
       "      <td>Basic</td>\n",
       "      <td>13</td>\n",
       "    </tr>\n",
       "    <tr>\n",
       "      <th>13</th>\n",
       "      <td>18</td>\n",
       "      <td>1992</td>\n",
       "      <td>Service Packs</td>\n",
       "      <td>12</td>\n",
       "    </tr>\n",
       "    <tr>\n",
       "      <th>14</th>\n",
       "      <td>19</td>\n",
       "      <td>1992</td>\n",
       "      <td>Castle</td>\n",
       "      <td>9</td>\n",
       "    </tr>\n",
       "  </tbody>\n",
       "</table>\n",
       "</div>"
      ],
      "text/plain": [
       "    index  year          theme  number\n",
       "0       0  1991          Duplo      36\n",
       "1       1  1991  Service Packs      22\n",
       "2       2  1991           Town      22\n",
       "3       3  1991          Space      13\n",
       "4       4  1991         Trains      12\n",
       "5       5  1991          Basic      11\n",
       "6       6  1991          Dacta       7\n",
       "7       7  1991        Technic       6\n",
       "8       8  1991        Pirates       5\n",
       "9       9  1991          Boats       3\n",
       "10     15  1992           Town      27\n",
       "11     16  1992          Duplo      17\n",
       "12     17  1992          Basic      13\n",
       "13     18  1992  Service Packs      12\n",
       "14     19  1992         Castle       9"
      ]
     },
     "execution_count": 542,
     "metadata": {},
     "output_type": "execute_result"
    }
   ],
   "source": [
    "df_2 = df_1.groupby(by = [\"year\"]).head(10).reset_index()\n",
    "df_2.head(15)"
   ]
  },
  {
   "cell_type": "code",
   "execution_count": 543,
   "id": "61f451c9",
   "metadata": {},
   "outputs": [
    {
     "data": {
      "application/vnd.plotly.v1+json": {
       "config": {
        "plotlyServerURL": "https://plot.ly"
       },
       "data": [
        {
         "alignmentgroup": "True",
         "hovertemplate": "theme=%{text}<br>number=%{x}<br>year=%{y}<extra></extra>",
         "legendgroup": "Duplo",
         "marker": {
          "color": "#636efa",
          "pattern": {
           "shape": ""
          }
         },
         "name": "Duplo",
         "offsetgroup": "Duplo",
         "orientation": "h",
         "showlegend": true,
         "text": [
          "Duplo",
          "Duplo",
          "Duplo",
          "Duplo",
          "Duplo",
          "Duplo",
          "Duplo",
          "Duplo",
          "Duplo",
          "Duplo",
          "Duplo",
          "Duplo",
          "Duplo",
          "Duplo",
          "Duplo",
          "Duplo",
          "Duplo",
          "Duplo",
          "Duplo",
          "Duplo",
          "Duplo",
          "Duplo",
          "Duplo",
          "Duplo",
          "Duplo",
          "Duplo",
          "Duplo",
          "Duplo",
          "Duplo"
         ],
         "textangle": 0,
         "textfont": {
          "size": 12
         },
         "textposition": "inside",
         "type": "bar",
         "x": [
          36,
          17,
          31,
          38,
          37,
          37,
          32,
          38,
          36,
          31,
          54,
          27,
          45,
          35,
          34,
          30,
          30,
          33,
          32,
          36,
          34,
          39,
          42,
          38,
          35,
          31,
          22,
          23,
          22
         ],
         "xaxis": "x",
         "y": [
          1991,
          1992,
          1993,
          1994,
          1995,
          1996,
          1997,
          1998,
          1999,
          2000,
          2001,
          2004,
          2005,
          2006,
          2007,
          2008,
          2009,
          2010,
          2011,
          2012,
          2013,
          2014,
          2015,
          2016,
          2017,
          2018,
          2019,
          2020,
          2021
         ],
         "yaxis": "y"
        },
        {
         "alignmentgroup": "True",
         "hovertemplate": "theme=%{text}<br>number=%{x}<br>year=%{y}<extra></extra>",
         "legendgroup": "Service Packs",
         "marker": {
          "color": "#EF553B",
          "pattern": {
           "shape": ""
          }
         },
         "name": "Service Packs",
         "offsetgroup": "Service Packs",
         "orientation": "h",
         "showlegend": true,
         "text": [
          "Service Packs",
          "Service Packs",
          "Service Packs",
          "Service Packs",
          "Service Packs",
          "Service Packs",
          "Service Packs",
          "Service Packs",
          "Service Packs"
         ],
         "textangle": 0,
         "textfont": {
          "size": 12
         },
         "textposition": "inside",
         "type": "bar",
         "x": [
          22,
          12,
          31,
          17,
          13,
          36,
          11,
          21,
          21
         ],
         "xaxis": "x",
         "y": [
          1991,
          1992,
          1993,
          1994,
          1995,
          1996,
          1997,
          1998,
          1999
         ],
         "yaxis": "y"
        },
        {
         "alignmentgroup": "True",
         "hovertemplate": "theme=%{text}<br>number=%{x}<br>year=%{y}<extra></extra>",
         "legendgroup": "Town",
         "marker": {
          "color": "#00cc96",
          "pattern": {
           "shape": ""
          }
         },
         "name": "Town",
         "offsetgroup": "Town",
         "orientation": "h",
         "showlegend": true,
         "text": [
          "Town",
          "Town",
          "Town",
          "Town",
          "Town",
          "Town",
          "Town",
          "Town",
          "Town",
          "Town"
         ],
         "textangle": 0,
         "textfont": {
          "size": 12
         },
         "textposition": "inside",
         "type": "bar",
         "x": [
          22,
          27,
          23,
          29,
          21,
          23,
          47,
          62,
          62,
          43
         ],
         "xaxis": "x",
         "y": [
          1991,
          1992,
          1993,
          1994,
          1995,
          1996,
          1997,
          1998,
          1999,
          2000
         ],
         "yaxis": "y"
        },
        {
         "alignmentgroup": "True",
         "hovertemplate": "theme=%{text}<br>number=%{x}<br>year=%{y}<extra></extra>",
         "legendgroup": "Space",
         "marker": {
          "color": "#ab63fa",
          "pattern": {
           "shape": ""
          }
         },
         "name": "Space",
         "offsetgroup": "Space",
         "orientation": "h",
         "showlegend": true,
         "text": [
          "Space",
          "Space",
          "Space",
          "Space",
          "Space",
          "Space",
          "Space",
          "Space",
          "Space"
         ],
         "textangle": 0,
         "textfont": {
          "size": 12
         },
         "textposition": "inside",
         "type": "bar",
         "x": [
          13,
          6,
          12,
          10,
          6,
          9,
          17,
          21,
          24
         ],
         "xaxis": "x",
         "y": [
          1991,
          1992,
          1993,
          1994,
          1995,
          1996,
          1997,
          1998,
          2001
         ],
         "yaxis": "y"
        },
        {
         "alignmentgroup": "True",
         "hovertemplate": "theme=%{text}<br>number=%{x}<br>year=%{y}<extra></extra>",
         "legendgroup": "Trains",
         "marker": {
          "color": "#FFA15A",
          "pattern": {
           "shape": ""
          }
         },
         "name": "Trains",
         "offsetgroup": "Trains",
         "orientation": "h",
         "showlegend": true,
         "text": [
          "Trains",
          "Trains",
          "Trains"
         ],
         "textangle": 0,
         "textfont": {
          "size": 12
         },
         "textposition": "inside",
         "type": "bar",
         "x": [
          12,
          3,
          16
         ],
         "xaxis": "x",
         "y": [
          1991,
          1993,
          2001
         ],
         "yaxis": "y"
        },
        {
         "alignmentgroup": "True",
         "hovertemplate": "theme=%{text}<br>number=%{x}<br>year=%{y}<extra></extra>",
         "legendgroup": "Basic",
         "marker": {
          "color": "#19d3f3",
          "pattern": {
           "shape": ""
          }
         },
         "name": "Basic",
         "offsetgroup": "Basic",
         "orientation": "h",
         "showlegend": true,
         "text": [
          "Basic",
          "Basic",
          "Basic",
          "Basic",
          "Basic",
          "Basic",
          "Basic",
          "Basic",
          "Basic",
          "Basic"
         ],
         "textangle": 0,
         "textfont": {
          "size": 12
         },
         "textposition": "inside",
         "type": "bar",
         "x": [
          11,
          13,
          10,
          11,
          10,
          24,
          33,
          40,
          14,
          13
         ],
         "xaxis": "x",
         "y": [
          1991,
          1992,
          1993,
          1994,
          1995,
          1996,
          1997,
          1998,
          1999,
          2000
         ],
         "yaxis": "y"
        },
        {
         "alignmentgroup": "True",
         "hovertemplate": "theme=%{text}<br>number=%{x}<br>year=%{y}<extra></extra>",
         "legendgroup": "Dacta",
         "marker": {
          "color": "#FF6692",
          "pattern": {
           "shape": ""
          }
         },
         "name": "Dacta",
         "offsetgroup": "Dacta",
         "orientation": "h",
         "showlegend": true,
         "text": [
          "Dacta",
          "Dacta",
          "Dacta",
          "Dacta"
         ],
         "textangle": 0,
         "textfont": {
          "size": 12
         },
         "textposition": "inside",
         "type": "bar",
         "x": [
          7,
          6,
          9,
          12
         ],
         "xaxis": "x",
         "y": [
          1991,
          1992,
          1993,
          1995
         ],
         "yaxis": "y"
        },
        {
         "alignmentgroup": "True",
         "hovertemplate": "theme=%{text}<br>number=%{x}<br>year=%{y}<extra></extra>",
         "legendgroup": "Technic",
         "marker": {
          "color": "#B6E880",
          "pattern": {
           "shape": ""
          }
         },
         "name": "Technic",
         "offsetgroup": "Technic",
         "orientation": "h",
         "showlegend": true,
         "text": [
          "Technic",
          "Technic",
          "Technic",
          "Technic",
          "Technic",
          "Technic",
          "Technic",
          "Technic",
          "Technic",
          "Technic"
         ],
         "textangle": 0,
         "textfont": {
          "size": 12
         },
         "textposition": "inside",
         "type": "bar",
         "x": [
          6,
          6,
          8,
          8,
          9,
          10,
          14,
          27,
          33,
          34
         ],
         "xaxis": "x",
         "y": [
          1991,
          1992,
          1993,
          1994,
          1995,
          1996,
          1997,
          1998,
          1999,
          2000
         ],
         "yaxis": "y"
        },
        {
         "alignmentgroup": "True",
         "hovertemplate": "theme=%{text}<br>number=%{x}<br>year=%{y}<extra></extra>",
         "legendgroup": "Pirates",
         "marker": {
          "color": "#FF97FF",
          "pattern": {
           "shape": ""
          }
         },
         "name": "Pirates",
         "offsetgroup": "Pirates",
         "orientation": "h",
         "showlegend": true,
         "text": [
          "Pirates",
          "Pirates",
          "Pirates",
          "Pirates",
          "Pirates",
          "Pirates"
         ],
         "textangle": 0,
         "textfont": {
          "size": 12
         },
         "textposition": "inside",
         "type": "bar",
         "x": [
          5,
          9,
          6,
          13,
          8,
          11
         ],
         "xaxis": "x",
         "y": [
          1991,
          1992,
          1993,
          1994,
          1996,
          2009
         ],
         "yaxis": "y"
        },
        {
         "alignmentgroup": "True",
         "hovertemplate": "theme=%{text}<br>number=%{x}<br>year=%{y}<extra></extra>",
         "legendgroup": "Boats",
         "marker": {
          "color": "#FECB52",
          "pattern": {
           "shape": ""
          }
         },
         "name": "Boats",
         "offsetgroup": "Boats",
         "orientation": "h",
         "showlegend": true,
         "text": [
          "Boats"
         ],
         "textangle": 0,
         "textfont": {
          "size": 12
         },
         "textposition": "inside",
         "type": "bar",
         "x": [
          3
         ],
         "xaxis": "x",
         "y": [
          1991
         ],
         "yaxis": "y"
        },
        {
         "alignmentgroup": "True",
         "hovertemplate": "theme=%{text}<br>number=%{x}<br>year=%{y}<extra></extra>",
         "legendgroup": "Castle",
         "marker": {
          "color": "#636efa",
          "pattern": {
           "shape": ""
          }
         },
         "name": "Castle",
         "offsetgroup": "Castle",
         "orientation": "h",
         "showlegend": true,
         "text": [
          "Castle",
          "Castle",
          "Castle",
          "Castle",
          "Castle",
          "Castle",
          "Castle",
          "Castle",
          "Castle",
          "Castle",
          "Castle",
          "Castle",
          "Castle",
          "Castle",
          "Castle"
         ],
         "textangle": 0,
         "textfont": {
          "size": 12
         },
         "textposition": "inside",
         "type": "bar",
         "x": [
          9,
          14,
          4,
          7,
          6,
          12,
          20,
          15,
          22,
          24,
          30,
          11,
          8,
          13,
          12
         ],
         "xaxis": "x",
         "y": [
          1992,
          1993,
          1994,
          1995,
          1996,
          1997,
          1998,
          1999,
          2000,
          2004,
          2005,
          2006,
          2007,
          2008,
          2010
         ],
         "yaxis": "y"
        },
        {
         "alignmentgroup": "True",
         "hovertemplate": "theme=%{text}<br>number=%{x}<br>year=%{y}<extra></extra>",
         "legendgroup": "Assorted",
         "marker": {
          "color": "#EF553B",
          "pattern": {
           "shape": ""
          }
         },
         "name": "Assorted",
         "offsetgroup": "Assorted",
         "orientation": "h",
         "showlegend": true,
         "text": [
          "Assorted",
          "Assorted"
         ],
         "textangle": 0,
         "textfont": {
          "size": 12
         },
         "textposition": "inside",
         "type": "bar",
         "x": [
          1,
          3
         ],
         "xaxis": "x",
         "y": [
          1992,
          1994
         ],
         "yaxis": "y"
        },
        {
         "alignmentgroup": "True",
         "hovertemplate": "theme=%{text}<br>number=%{x}<br>year=%{y}<extra></extra>",
         "legendgroup": "Belville",
         "marker": {
          "color": "#00cc96",
          "pattern": {
           "shape": ""
          }
         },
         "name": "Belville",
         "offsetgroup": "Belville",
         "orientation": "h",
         "showlegend": true,
         "text": [
          "Belville"
         ],
         "textangle": 0,
         "textfont": {
          "size": 12
         },
         "textposition": "inside",
         "type": "bar",
         "x": [
          4
         ],
         "xaxis": "x",
         "y": [
          1994
         ],
         "yaxis": "y"
        },
        {
         "alignmentgroup": "True",
         "hovertemplate": "theme=%{text}<br>number=%{x}<br>year=%{y}<extra></extra>",
         "legendgroup": "Freestyle",
         "marker": {
          "color": "#ab63fa",
          "pattern": {
           "shape": ""
          }
         },
         "name": "Freestyle",
         "offsetgroup": "Freestyle",
         "orientation": "h",
         "showlegend": true,
         "text": [
          "Freestyle",
          "Freestyle",
          "Freestyle",
          "Freestyle"
         ],
         "textangle": 0,
         "textfont": {
          "size": 12
         },
         "textposition": "inside",
         "type": "bar",
         "x": [
          28,
          7,
          12,
          22
         ],
         "xaxis": "x",
         "y": [
          1995,
          1996,
          1997,
          1998
         ],
         "yaxis": "y"
        },
        {
         "alignmentgroup": "True",
         "hovertemplate": "theme=%{text}<br>number=%{x}<br>year=%{y}<extra></extra>",
         "legendgroup": "Aquazone",
         "marker": {
          "color": "#FFA15A",
          "pattern": {
           "shape": ""
          }
         },
         "name": "Aquazone",
         "offsetgroup": "Aquazone",
         "orientation": "h",
         "showlegend": true,
         "text": [
          "Aquazone",
          "Aquazone"
         ],
         "textangle": 0,
         "textfont": {
          "size": 12
         },
         "textposition": "inside",
         "type": "bar",
         "x": [
          6,
          7
         ],
         "xaxis": "x",
         "y": [
          1995,
          1996
         ],
         "yaxis": "y"
        },
        {
         "alignmentgroup": "True",
         "hovertemplate": "theme=%{text}<br>number=%{x}<br>year=%{y}<extra></extra>",
         "legendgroup": "Primo",
         "marker": {
          "color": "#19d3f3",
          "pattern": {
           "shape": ""
          }
         },
         "name": "Primo",
         "offsetgroup": "Primo",
         "orientation": "h",
         "showlegend": true,
         "text": [
          "Primo",
          "Primo"
         ],
         "textangle": 0,
         "textfont": {
          "size": 12
         },
         "textposition": "inside",
         "type": "bar",
         "x": [
          17,
          18
         ],
         "xaxis": "x",
         "y": [
          1997,
          1999
         ],
         "yaxis": "y"
        },
        {
         "alignmentgroup": "True",
         "hovertemplate": "theme=%{text}<br>number=%{x}<br>year=%{y}<extra></extra>",
         "legendgroup": "Western",
         "marker": {
          "color": "#FF6692",
          "pattern": {
           "shape": ""
          }
         },
         "name": "Western",
         "offsetgroup": "Western",
         "orientation": "h",
         "showlegend": true,
         "text": [
          "Western"
         ],
         "textangle": 0,
         "textfont": {
          "size": 12
         },
         "textposition": "inside",
         "type": "bar",
         "x": [
          11
         ],
         "xaxis": "x",
         "y": [
          1997
         ],
         "yaxis": "y"
        },
        {
         "alignmentgroup": "True",
         "hovertemplate": "theme=%{text}<br>number=%{x}<br>year=%{y}<extra></extra>",
         "legendgroup": "Scala",
         "marker": {
          "color": "#B6E880",
          "pattern": {
           "shape": ""
          }
         },
         "name": "Scala",
         "offsetgroup": "Scala",
         "orientation": "h",
         "showlegend": true,
         "text": [
          "Scala",
          "Scala"
         ],
         "textangle": 0,
         "textfont": {
          "size": 12
         },
         "textposition": "inside",
         "type": "bar",
         "x": [
          24,
          14
         ],
         "xaxis": "x",
         "y": [
          1998,
          1999
         ],
         "yaxis": "y"
        },
        {
         "alignmentgroup": "True",
         "hovertemplate": "theme=%{text}<br>number=%{x}<br>year=%{y}<extra></extra>",
         "legendgroup": "Adventurers",
         "marker": {
          "color": "#FF97FF",
          "pattern": {
           "shape": ""
          }
         },
         "name": "Adventurers",
         "offsetgroup": "Adventurers",
         "orientation": "h",
         "showlegend": true,
         "text": [
          "Adventurers",
          "Adventurers",
          "Adventurers",
          "Adventurers"
         ],
         "textangle": 0,
         "textfont": {
          "size": 12
         },
         "textposition": "inside",
         "type": "bar",
         "x": [
          21,
          14,
          17,
          19
         ],
         "xaxis": "x",
         "y": [
          1998,
          1999,
          2000,
          2003
         ],
         "yaxis": "y"
        },
        {
         "alignmentgroup": "True",
         "hovertemplate": "theme=%{text}<br>number=%{x}<br>year=%{y}<extra></extra>",
         "legendgroup": "Classic",
         "marker": {
          "color": "#FECB52",
          "pattern": {
           "shape": ""
          }
         },
         "name": "Classic",
         "offsetgroup": "Classic",
         "orientation": "h",
         "showlegend": true,
         "text": [
          "Classic"
         ],
         "textangle": 0,
         "textfont": {
          "size": 12
         },
         "textposition": "inside",
         "type": "bar",
         "x": [
          16
         ],
         "xaxis": "x",
         "y": [
          1999
         ],
         "yaxis": "y"
        },
        {
         "alignmentgroup": "True",
         "hovertemplate": "theme=%{text}<br>number=%{x}<br>year=%{y}<extra></extra>",
         "legendgroup": "Bulk Bricks",
         "marker": {
          "color": "#636efa",
          "pattern": {
           "shape": ""
          }
         },
         "name": "Bulk Bricks",
         "offsetgroup": "Bulk Bricks",
         "orientation": "h",
         "showlegend": true,
         "text": [
          "Bulk Bricks",
          "Bulk Bricks",
          "Bulk Bricks"
         ],
         "textangle": 0,
         "textfont": {
          "size": 12
         },
         "textposition": "inside",
         "type": "bar",
         "x": [
          66,
          24,
          25
         ],
         "xaxis": "x",
         "y": [
          2000,
          2001,
          2002
         ],
         "yaxis": "y"
        },
        {
         "alignmentgroup": "True",
         "hovertemplate": "theme=%{text}<br>number=%{x}<br>year=%{y}<extra></extra>",
         "legendgroup": "Star Wars",
         "marker": {
          "color": "#EF553B",
          "pattern": {
           "shape": ""
          }
         },
         "name": "Star Wars",
         "offsetgroup": "Star Wars",
         "orientation": "h",
         "showlegend": true,
         "text": [
          "Star Wars",
          "Star Wars",
          "Star Wars",
          "Star Wars",
          "Star Wars",
          "Star Wars",
          "Star Wars",
          "Star Wars",
          "Star Wars",
          "Star Wars",
          "Star Wars",
          "Star Wars",
          "Star Wars",
          "Star Wars",
          "Star Wars",
          "Star Wars",
          "Star Wars",
          "Star Wars",
          "Star Wars",
          "Star Wars",
          "Star Wars"
         ],
         "textangle": 0,
         "textfont": {
          "size": 12
         },
         "textposition": "inside",
         "type": "bar",
         "x": [
          19,
          25,
          20,
          15,
          21,
          14,
          16,
          19,
          28,
          29,
          30,
          35,
          38,
          40,
          58,
          65,
          62,
          68,
          57,
          47,
          37
         ],
         "xaxis": "x",
         "y": [
          2000,
          2002,
          2003,
          2004,
          2005,
          2006,
          2007,
          2008,
          2009,
          2010,
          2011,
          2012,
          2013,
          2014,
          2015,
          2016,
          2017,
          2018,
          2019,
          2020,
          2021
         ],
         "yaxis": "y"
        },
        {
         "alignmentgroup": "True",
         "hovertemplate": "theme=%{text}<br>number=%{x}<br>year=%{y}<extra></extra>",
         "legendgroup": "Sports",
         "marker": {
          "color": "#00cc96",
          "pattern": {
           "shape": ""
          }
         },
         "name": "Sports",
         "offsetgroup": "Sports",
         "orientation": "h",
         "showlegend": true,
         "text": [
          "Sports",
          "Sports",
          "Sports"
         ],
         "textangle": 0,
         "textfont": {
          "size": 12
         },
         "textposition": "inside",
         "type": "bar",
         "x": [
          16,
          43,
          52
         ],
         "xaxis": "x",
         "y": [
          2000,
          2002,
          2003
         ],
         "yaxis": "y"
        },
        {
         "alignmentgroup": "True",
         "hovertemplate": "theme=%{text}<br>number=%{x}<br>year=%{y}<extra></extra>",
         "legendgroup": "Baby",
         "marker": {
          "color": "#ab63fa",
          "pattern": {
           "shape": ""
          }
         },
         "name": "Baby",
         "offsetgroup": "Baby",
         "orientation": "h",
         "showlegend": true,
         "text": [
          "Baby",
          "Baby",
          "Baby"
         ],
         "textangle": 0,
         "textfont": {
          "size": 12
         },
         "textposition": "inside",
         "type": "bar",
         "x": [
          14,
          18,
          6
         ],
         "xaxis": "x",
         "y": [
          2000,
          2001,
          2005
         ],
         "yaxis": "y"
        },
        {
         "alignmentgroup": "True",
         "hovertemplate": "theme=%{text}<br>number=%{x}<br>year=%{y}<extra></extra>",
         "legendgroup": "Studios",
         "marker": {
          "color": "#FFA15A",
          "pattern": {
           "shape": ""
          }
         },
         "name": "Studios",
         "offsetgroup": "Studios",
         "orientation": "h",
         "showlegend": true,
         "text": [
          "Studios"
         ],
         "textangle": 0,
         "textfont": {
          "size": 12
         },
         "textposition": "inside",
         "type": "bar",
         "x": [
          46
         ],
         "xaxis": "x",
         "y": [
          2001
         ],
         "yaxis": "y"
        },
        {
         "alignmentgroup": "True",
         "hovertemplate": "theme=%{text}<br>number=%{x}<br>year=%{y}<extra></extra>",
         "legendgroup": "Bionicle",
         "marker": {
          "color": "#19d3f3",
          "pattern": {
           "shape": ""
          }
         },
         "name": "Bionicle",
         "offsetgroup": "Bionicle",
         "orientation": "h",
         "showlegend": true,
         "text": [
          "Bionicle",
          "Bionicle",
          "Bionicle",
          "Bionicle",
          "Bionicle",
          "Bionicle",
          "Bionicle",
          "Bionicle",
          "Bionicle",
          "Bionicle",
          "Bionicle"
         ],
         "textangle": 0,
         "textfont": {
          "size": 12
         },
         "textposition": "inside",
         "type": "bar",
         "x": [
          30,
          27,
          39,
          55,
          46,
          47,
          31,
          35,
          30,
          20,
          20
         ],
         "xaxis": "x",
         "y": [
          2001,
          2002,
          2003,
          2004,
          2005,
          2006,
          2007,
          2008,
          2009,
          2015,
          2016
         ],
         "yaxis": "y"
        },
        {
         "alignmentgroup": "True",
         "hovertemplate": "theme=%{text}<br>number=%{x}<br>year=%{y}<extra></extra>",
         "legendgroup": "Creator",
         "marker": {
          "color": "#FF6692",
          "pattern": {
           "shape": ""
          }
         },
         "name": "Creator",
         "offsetgroup": "Creator",
         "orientation": "h",
         "showlegend": true,
         "text": [
          "Creator",
          "Creator",
          "Creator",
          "Creator",
          "Creator",
          "Creator",
          "Creator",
          "Creator",
          "Creator",
          "Creator",
          "Creator",
          "Creator",
          "Creator",
          "Creator",
          "Creator",
          "Creator",
          "Creator",
          "Creator",
          "Creator"
         ],
         "textangle": 0,
         "textfont": {
          "size": 12
         },
         "textposition": "inside",
         "type": "bar",
         "x": [
          22,
          12,
          38,
          44,
          33,
          17,
          22,
          13,
          18,
          12,
          16,
          15,
          22,
          21,
          22,
          17,
          18,
          20,
          37
         ],
         "xaxis": "x",
         "y": [
          2001,
          2002,
          2003,
          2004,
          2005,
          2006,
          2007,
          2008,
          2009,
          2010,
          2011,
          2012,
          2013,
          2014,
          2017,
          2018,
          2019,
          2020,
          2021
         ],
         "yaxis": "y"
        },
        {
         "alignmentgroup": "True",
         "hovertemplate": "theme=%{text}<br>number=%{x}<br>year=%{y}<extra></extra>",
         "legendgroup": "Racers",
         "marker": {
          "color": "#B6E880",
          "pattern": {
           "shape": ""
          }
         },
         "name": "Racers",
         "offsetgroup": "Racers",
         "orientation": "h",
         "showlegend": true,
         "text": [
          "Racers",
          "Racers",
          "Racers",
          "Racers",
          "Racers",
          "Racers",
          "Racers",
          "Racers",
          "Racers",
          "Racers"
         ],
         "textangle": 0,
         "textfont": {
          "size": 12
         },
         "textposition": "inside",
         "type": "bar",
         "x": [
          17,
          27,
          20,
          18,
          29,
          22,
          21,
          24,
          24,
          18
         ],
         "xaxis": "x",
         "y": [
          2001,
          2002,
          2003,
          2004,
          2005,
          2006,
          2007,
          2008,
          2009,
          2010
         ],
         "yaxis": "y"
        },
        {
         "alignmentgroup": "True",
         "hovertemplate": "theme=%{text}<br>number=%{x}<br>year=%{y}<extra></extra>",
         "legendgroup": "Dinosaurs",
         "marker": {
          "color": "#FF97FF",
          "pattern": {
           "shape": ""
          }
         },
         "name": "Dinosaurs",
         "offsetgroup": "Dinosaurs",
         "orientation": "h",
         "showlegend": true,
         "text": [
          "Dinosaurs"
         ],
         "textangle": 0,
         "textfont": {
          "size": 12
         },
         "textposition": "inside",
         "type": "bar",
         "x": [
          12
         ],
         "xaxis": "x",
         "y": [
          2001
         ],
         "yaxis": "y"
        },
        {
         "alignmentgroup": "True",
         "hovertemplate": "theme=%{text}<br>number=%{x}<br>year=%{y}<extra></extra>",
         "legendgroup": "Explore",
         "marker": {
          "color": "#FECB52",
          "pattern": {
           "shape": ""
          }
         },
         "name": "Explore",
         "offsetgroup": "Explore",
         "orientation": "h",
         "showlegend": true,
         "text": [
          "Explore",
          "Explore",
          "Explore"
         ],
         "textangle": 0,
         "textfont": {
          "size": 12
         },
         "textposition": "inside",
         "type": "bar",
         "x": [
          68,
          45,
          13
         ],
         "xaxis": "x",
         "y": [
          2002,
          2003,
          2004
         ],
         "yaxis": "y"
        },
        {
         "alignmentgroup": "True",
         "hovertemplate": "theme=%{text}<br>number=%{x}<br>year=%{y}<extra></extra>",
         "legendgroup": "Galidor",
         "marker": {
          "color": "#636efa",
          "pattern": {
           "shape": ""
          }
         },
         "name": "Galidor",
         "offsetgroup": "Galidor",
         "orientation": "h",
         "showlegend": true,
         "text": [
          "Galidor"
         ],
         "textangle": 0,
         "textfont": {
          "size": 12
         },
         "textposition": "inside",
         "type": "bar",
         "x": [
          19
         ],
         "xaxis": "x",
         "y": [
          2002
         ],
         "yaxis": "y"
        },
        {
         "alignmentgroup": "True",
         "hovertemplate": "theme=%{text}<br>number=%{x}<br>year=%{y}<extra></extra>",
         "legendgroup": "Alpha Team",
         "marker": {
          "color": "#EF553B",
          "pattern": {
           "shape": ""
          }
         },
         "name": "Alpha Team",
         "offsetgroup": "Alpha Team",
         "orientation": "h",
         "showlegend": true,
         "text": [
          "Alpha Team"
         ],
         "textangle": 0,
         "textfont": {
          "size": 12
         },
         "textposition": "inside",
         "type": "bar",
         "x": [
          17
         ],
         "xaxis": "x",
         "y": [
          2002
         ],
         "yaxis": "y"
        },
        {
         "alignmentgroup": "True",
         "hovertemplate": "theme=%{text}<br>number=%{x}<br>year=%{y}<extra></extra>",
         "legendgroup": "Jack Stone",
         "marker": {
          "color": "#00cc96",
          "pattern": {
           "shape": ""
          }
         },
         "name": "Jack Stone",
         "offsetgroup": "Jack Stone",
         "orientation": "h",
         "showlegend": true,
         "text": [
          "Jack Stone"
         ],
         "textangle": 0,
         "textfont": {
          "size": 12
         },
         "textposition": "inside",
         "type": "bar",
         "x": [
          14
         ],
         "xaxis": "x",
         "y": [
          2002
         ],
         "yaxis": "y"
        },
        {
         "alignmentgroup": "True",
         "hovertemplate": "theme=%{text}<br>number=%{x}<br>year=%{y}<extra></extra>",
         "legendgroup": "World City",
         "marker": {
          "color": "#ab63fa",
          "pattern": {
           "shape": ""
          }
         },
         "name": "World City",
         "offsetgroup": "World City",
         "orientation": "h",
         "showlegend": true,
         "text": [
          "World City"
         ],
         "textangle": 0,
         "textfont": {
          "size": 12
         },
         "textposition": "inside",
         "type": "bar",
         "x": [
          28
         ],
         "xaxis": "x",
         "y": [
          2003
         ],
         "yaxis": "y"
        },
        {
         "alignmentgroup": "True",
         "hovertemplate": "theme=%{text}<br>number=%{x}<br>year=%{y}<extra></extra>",
         "legendgroup": "Clikits",
         "marker": {
          "color": "#FFA15A",
          "pattern": {
           "shape": ""
          }
         },
         "name": "Clikits",
         "offsetgroup": "Clikits",
         "orientation": "h",
         "showlegend": true,
         "text": [
          "Clikits",
          "Clikits",
          "Clikits"
         ],
         "textangle": 0,
         "textfont": {
          "size": 12
         },
         "textposition": "inside",
         "type": "bar",
         "x": [
          17,
          37,
          20
         ],
         "xaxis": "x",
         "y": [
          2003,
          2004,
          2005
         ],
         "yaxis": "y"
        },
        {
         "alignmentgroup": "True",
         "hovertemplate": "theme=%{text}<br>number=%{x}<br>year=%{y}<extra></extra>",
         "legendgroup": "Education",
         "marker": {
          "color": "#19d3f3",
          "pattern": {
           "shape": ""
          }
         },
         "name": "Education",
         "offsetgroup": "Education",
         "orientation": "h",
         "showlegend": true,
         "text": [
          "Education",
          "Education",
          "Education",
          "Education",
          "Education",
          "Education",
          "Education",
          "Education",
          "Education"
         ],
         "textangle": 0,
         "textfont": {
          "size": 12
         },
         "textposition": "inside",
         "type": "bar",
         "x": [
          13,
          16,
          18,
          11,
          11,
          20,
          12,
          24,
          23
         ],
         "xaxis": "x",
         "y": [
          2003,
          2005,
          2007,
          2008,
          2009,
          2010,
          2013,
          2015,
          2016
         ],
         "yaxis": "y"
        },
        {
         "alignmentgroup": "True",
         "hovertemplate": "theme=%{text}<br>number=%{x}<br>year=%{y}<extra></extra>",
         "legendgroup": "4 Juniors",
         "marker": {
          "color": "#FF6692",
          "pattern": {
           "shape": ""
          }
         },
         "name": "4 Juniors",
         "offsetgroup": "4 Juniors",
         "orientation": "h",
         "showlegend": true,
         "text": [
          "4 Juniors"
         ],
         "textangle": 0,
         "textfont": {
          "size": 12
         },
         "textposition": "inside",
         "type": "bar",
         "x": [
          18
         ],
         "xaxis": "x",
         "y": [
          2004
         ],
         "yaxis": "y"
        },
        {
         "alignmentgroup": "True",
         "hovertemplate": "theme=%{text}<br>number=%{x}<br>year=%{y}<extra></extra>",
         "legendgroup": "Harry Potter",
         "marker": {
          "color": "#B6E880",
          "pattern": {
           "shape": ""
          }
         },
         "name": "Harry Potter",
         "offsetgroup": "Harry Potter",
         "orientation": "h",
         "showlegend": true,
         "text": [
          "Harry Potter"
         ],
         "textangle": 0,
         "textfont": {
          "size": 12
         },
         "textposition": "inside",
         "type": "bar",
         "x": [
          12
         ],
         "xaxis": "x",
         "y": [
          2004
         ],
         "yaxis": "y"
        },
        {
         "alignmentgroup": "True",
         "hovertemplate": "theme=%{text}<br>number=%{x}<br>year=%{y}<extra></extra>",
         "legendgroup": "City",
         "marker": {
          "color": "#FF97FF",
          "pattern": {
           "shape": ""
          }
         },
         "name": "City",
         "offsetgroup": "City",
         "orientation": "h",
         "showlegend": true,
         "text": [
          "City",
          "City",
          "City",
          "City",
          "City",
          "City",
          "City",
          "City",
          "City",
          "City",
          "City",
          "City",
          "City",
          "City",
          "City",
          "City",
          "City"
         ],
         "textangle": 0,
         "textfont": {
          "size": 12
         },
         "textposition": "inside",
         "type": "bar",
         "x": [
          46,
          34,
          27,
          44,
          34,
          37,
          28,
          41,
          39,
          40,
          40,
          44,
          52,
          47,
          53,
          56,
          58
         ],
         "xaxis": "x",
         "y": [
          2005,
          2006,
          2007,
          2008,
          2009,
          2010,
          2011,
          2012,
          2013,
          2014,
          2015,
          2016,
          2017,
          2018,
          2019,
          2020,
          2021
         ],
         "yaxis": "y"
        },
        {
         "alignmentgroup": "True",
         "hovertemplate": "theme=%{text}<br>number=%{x}<br>year=%{y}<extra></extra>",
         "legendgroup": "Exo-Force",
         "marker": {
          "color": "#FECB52",
          "pattern": {
           "shape": ""
          }
         },
         "name": "Exo-Force",
         "offsetgroup": "Exo-Force",
         "orientation": "h",
         "showlegend": true,
         "text": [
          "Exo-Force",
          "Exo-Force"
         ],
         "textangle": 0,
         "textfont": {
          "size": 12
         },
         "textposition": "inside",
         "type": "bar",
         "x": [
          18,
          17
         ],
         "xaxis": "x",
         "y": [
          2006,
          2007
         ],
         "yaxis": "y"
        },
        {
         "alignmentgroup": "True",
         "hovertemplate": "theme=%{text}<br>number=%{x}<br>year=%{y}<extra></extra>",
         "legendgroup": "Make and Create",
         "marker": {
          "color": "#636efa",
          "pattern": {
           "shape": ""
          }
         },
         "name": "Make and Create",
         "offsetgroup": "Make and Create",
         "orientation": "h",
         "showlegend": true,
         "text": [
          "Make and Create",
          "Make and Create"
         ],
         "textangle": 0,
         "textfont": {
          "size": 12
         },
         "textposition": "inside",
         "type": "bar",
         "x": [
          17,
          21
         ],
         "xaxis": "x",
         "y": [
          2006,
          2007
         ],
         "yaxis": "y"
        },
        {
         "alignmentgroup": "True",
         "hovertemplate": "theme=%{text}<br>number=%{x}<br>year=%{y}<extra></extra>",
         "legendgroup": "Mindstorms",
         "marker": {
          "color": "#EF553B",
          "pattern": {
           "shape": ""
          }
         },
         "name": "Mindstorms",
         "offsetgroup": "Mindstorms",
         "orientation": "h",
         "showlegend": true,
         "text": [
          "Mindstorms"
         ],
         "textangle": 0,
         "textfont": {
          "size": 12
         },
         "textposition": "inside",
         "type": "bar",
         "x": [
          12
         ],
         "xaxis": "x",
         "y": [
          2006
         ],
         "yaxis": "y"
        },
        {
         "alignmentgroup": "True",
         "hovertemplate": "theme=%{text}<br>number=%{x}<br>year=%{y}<extra></extra>",
         "legendgroup": "Bricks and More",
         "marker": {
          "color": "#00cc96",
          "pattern": {
           "shape": ""
          }
         },
         "name": "Bricks and More",
         "offsetgroup": "Bricks and More",
         "orientation": "h",
         "showlegend": true,
         "text": [
          "Bricks and More",
          "Bricks and More"
         ],
         "textangle": 0,
         "textfont": {
          "size": 12
         },
         "textposition": "inside",
         "type": "bar",
         "x": [
          16,
          16
         ],
         "xaxis": "x",
         "y": [
          2008,
          2009
         ],
         "yaxis": "y"
        },
        {
         "alignmentgroup": "True",
         "hovertemplate": "theme=%{text}<br>number=%{x}<br>year=%{y}<extra></extra>",
         "legendgroup": "Indiana Jones",
         "marker": {
          "color": "#ab63fa",
          "pattern": {
           "shape": ""
          }
         },
         "name": "Indiana Jones",
         "offsetgroup": "Indiana Jones",
         "orientation": "h",
         "showlegend": true,
         "text": [
          "Indiana Jones"
         ],
         "textangle": 0,
         "textfont": {
          "size": 12
         },
         "textposition": "inside",
         "type": "bar",
         "x": [
          10
         ],
         "xaxis": "x",
         "y": [
          2008
         ],
         "yaxis": "y"
        },
        {
         "alignmentgroup": "True",
         "hovertemplate": "theme=%{text}<br>number=%{x}<br>year=%{y}<extra></extra>",
         "legendgroup": "Power Miners",
         "marker": {
          "color": "#FFA15A",
          "pattern": {
           "shape": ""
          }
         },
         "name": "Power Miners",
         "offsetgroup": "Power Miners",
         "orientation": "h",
         "showlegend": true,
         "text": [
          "Power Miners"
         ],
         "textangle": 0,
         "textfont": {
          "size": 12
         },
         "textposition": "inside",
         "type": "bar",
         "x": [
          15
         ],
         "xaxis": "x",
         "y": [
          2009
         ],
         "yaxis": "y"
        },
        {
         "alignmentgroup": "True",
         "hovertemplate": "theme=%{text}<br>number=%{x}<br>year=%{y}<extra></extra>",
         "legendgroup": "Atlantis",
         "marker": {
          "color": "#19d3f3",
          "pattern": {
           "shape": ""
          }
         },
         "name": "Atlantis",
         "offsetgroup": "Atlantis",
         "orientation": "h",
         "showlegend": true,
         "text": [
          "Atlantis"
         ],
         "textangle": 0,
         "textfont": {
          "size": 12
         },
         "textposition": "inside",
         "type": "bar",
         "x": [
          19
         ],
         "xaxis": "x",
         "y": [
          2010
         ],
         "yaxis": "y"
        },
        {
         "alignmentgroup": "True",
         "hovertemplate": "theme=%{text}<br>number=%{x}<br>year=%{y}<extra></extra>",
         "legendgroup": "HERO Factory",
         "marker": {
          "color": "#FF6692",
          "pattern": {
           "shape": ""
          }
         },
         "name": "HERO Factory",
         "offsetgroup": "HERO Factory",
         "orientation": "h",
         "showlegend": true,
         "text": [
          "HERO Factory",
          "HERO Factory",
          "HERO Factory",
          "HERO Factory",
          "HERO Factory"
         ],
         "textangle": 0,
         "textfont": {
          "size": 12
         },
         "textposition": "inside",
         "type": "bar",
         "x": [
          15,
          26,
          25,
          23,
          17
         ],
         "xaxis": "x",
         "y": [
          2010,
          2011,
          2012,
          2013,
          2014
         ],
         "yaxis": "y"
        },
        {
         "alignmentgroup": "True",
         "hovertemplate": "theme=%{text}<br>number=%{x}<br>year=%{y}<extra></extra>",
         "legendgroup": "Toy Story",
         "marker": {
          "color": "#B6E880",
          "pattern": {
           "shape": ""
          }
         },
         "name": "Toy Story",
         "offsetgroup": "Toy Story",
         "orientation": "h",
         "showlegend": true,
         "text": [
          "Toy Story"
         ],
         "textangle": 0,
         "textfont": {
          "size": 12
         },
         "textposition": "inside",
         "type": "bar",
         "x": [
          15
         ],
         "xaxis": "x",
         "y": [
          2010
         ],
         "yaxis": "y"
        },
        {
         "alignmentgroup": "True",
         "hovertemplate": "theme=%{text}<br>number=%{x}<br>year=%{y}<extra></extra>",
         "legendgroup": "Ninjago",
         "marker": {
          "color": "#FF97FF",
          "pattern": {
           "shape": ""
          }
         },
         "name": "Ninjago",
         "offsetgroup": "Ninjago",
         "orientation": "h",
         "showlegend": true,
         "text": [
          "Ninjago",
          "Ninjago",
          "Ninjago",
          "Ninjago",
          "Ninjago",
          "Ninjago",
          "Ninjago",
          "Ninjago",
          "Ninjago"
         ],
         "textangle": 0,
         "textfont": {
          "size": 12
         },
         "textposition": "inside",
         "type": "bar",
         "x": [
          43,
          48,
          44,
          37,
          24,
          46,
          54,
          48,
          46
         ],
         "xaxis": "x",
         "y": [
          2011,
          2012,
          2015,
          2016,
          2017,
          2018,
          2019,
          2020,
          2021
         ],
         "yaxis": "y"
        },
        {
         "alignmentgroup": "True",
         "hovertemplate": "theme=%{text}<br>number=%{x}<br>year=%{y}<extra></extra>",
         "legendgroup": "Cars",
         "marker": {
          "color": "#FECB52",
          "pattern": {
           "shape": ""
          }
         },
         "name": "Cars",
         "offsetgroup": "Cars",
         "orientation": "h",
         "showlegend": true,
         "text": [
          "Cars"
         ],
         "textangle": 0,
         "textfont": {
          "size": 12
         },
         "textposition": "inside",
         "type": "bar",
         "x": [
          18
         ],
         "xaxis": "x",
         "y": [
          2011
         ],
         "yaxis": "y"
        },
        {
         "alignmentgroup": "True",
         "hovertemplate": "theme=%{text}<br>number=%{x}<br>year=%{y}<extra></extra>",
         "legendgroup": "Pirates of the Caribbean",
         "marker": {
          "color": "#636efa",
          "pattern": {
           "shape": ""
          }
         },
         "name": "Pirates of the Caribbean",
         "offsetgroup": "Pirates of the Caribbean",
         "orientation": "h",
         "showlegend": true,
         "text": [
          "Pirates of the Caribbean"
         ],
         "textangle": 0,
         "textfont": {
          "size": 12
         },
         "textposition": "inside",
         "type": "bar",
         "x": [
          14
         ],
         "xaxis": "x",
         "y": [
          2011
         ],
         "yaxis": "y"
        },
        {
         "alignmentgroup": "True",
         "hovertemplate": "theme=%{text}<br>number=%{x}<br>year=%{y}<extra></extra>",
         "legendgroup": "Seasonal",
         "marker": {
          "color": "#EF553B",
          "pattern": {
           "shape": ""
          }
         },
         "name": "Seasonal",
         "offsetgroup": "Seasonal",
         "orientation": "h",
         "showlegend": true,
         "text": [
          "Seasonal",
          "Seasonal"
         ],
         "textangle": 0,
         "textfont": {
          "size": 12
         },
         "textposition": "inside",
         "type": "bar",
         "x": [
          14,
          17
         ],
         "xaxis": "x",
         "y": [
          2011,
          2013
         ],
         "yaxis": "y"
        },
        {
         "alignmentgroup": "True",
         "hovertemplate": "theme=%{text}<br>number=%{x}<br>year=%{y}<extra></extra>",
         "legendgroup": "Games",
         "marker": {
          "color": "#00cc96",
          "pattern": {
           "shape": ""
          }
         },
         "name": "Games",
         "offsetgroup": "Games",
         "orientation": "h",
         "showlegend": true,
         "text": [
          "Games"
         ],
         "textangle": 0,
         "textfont": {
          "size": 12
         },
         "textposition": "inside",
         "type": "bar",
         "x": [
          13
         ],
         "xaxis": "x",
         "y": [
          2011
         ],
         "yaxis": "y"
        },
        {
         "alignmentgroup": "True",
         "hovertemplate": "theme=%{text}<br>number=%{x}<br>year=%{y}<extra></extra>",
         "legendgroup": "Friends",
         "marker": {
          "color": "#ab63fa",
          "pattern": {
           "shape": ""
          }
         },
         "name": "Friends",
         "offsetgroup": "Friends",
         "orientation": "h",
         "showlegend": true,
         "text": [
          "Friends",
          "Friends",
          "Friends",
          "Friends",
          "Friends",
          "Friends",
          "Friends",
          "Friends",
          "Friends",
          "Friends"
         ],
         "textangle": 0,
         "textfont": {
          "size": 12
         },
         "textposition": "inside",
         "type": "bar",
         "x": [
          34,
          34,
          45,
          50,
          47,
          44,
          47,
          51,
          58,
          46
         ],
         "xaxis": "x",
         "y": [
          2012,
          2013,
          2014,
          2015,
          2016,
          2017,
          2018,
          2019,
          2020,
          2021
         ],
         "yaxis": "y"
        },
        {
         "alignmentgroup": "True",
         "hovertemplate": "theme=%{text}<br>number=%{x}<br>year=%{y}<extra></extra>",
         "legendgroup": "Promotional",
         "marker": {
          "color": "#FFA15A",
          "pattern": {
           "shape": ""
          }
         },
         "name": "Promotional",
         "offsetgroup": "Promotional",
         "orientation": "h",
         "showlegend": true,
         "text": [
          "Promotional",
          "Promotional",
          "Promotional",
          "Promotional",
          "Promotional",
          "Promotional",
          "Promotional",
          "Promotional"
         ],
         "textangle": 0,
         "textfont": {
          "size": 12
         },
         "textposition": "inside",
         "type": "bar",
         "x": [
          18,
          18,
          27,
          19,
          24,
          24,
          22,
          33
         ],
         "xaxis": "x",
         "y": [
          2012,
          2013,
          2014,
          2015,
          2017,
          2018,
          2019,
          2020
         ],
         "yaxis": "y"
        },
        {
         "alignmentgroup": "True",
         "hovertemplate": "theme=%{text}<br>number=%{x}<br>year=%{y}<extra></extra>",
         "legendgroup": "Marvel Super Heroes",
         "marker": {
          "color": "#19d3f3",
          "pattern": {
           "shape": ""
          }
         },
         "name": "Marvel Super Heroes",
         "offsetgroup": "Marvel Super Heroes",
         "orientation": "h",
         "showlegend": true,
         "text": [
          "Marvel Super Heroes",
          "Marvel Super Heroes",
          "Marvel Super Heroes",
          "Marvel Super Heroes"
         ],
         "textangle": 0,
         "textfont": {
          "size": 12
         },
         "textposition": "inside",
         "type": "bar",
         "x": [
          13,
          20,
          25,
          41
         ],
         "xaxis": "x",
         "y": [
          2012,
          2019,
          2020,
          2021
         ],
         "yaxis": "y"
        },
        {
         "alignmentgroup": "True",
         "hovertemplate": "theme=%{text}<br>number=%{x}<br>year=%{y}<extra></extra>",
         "legendgroup": "Monster Fighters",
         "marker": {
          "color": "#FF6692",
          "pattern": {
           "shape": ""
          }
         },
         "name": "Monster Fighters",
         "offsetgroup": "Monster Fighters",
         "orientation": "h",
         "showlegend": true,
         "text": [
          "Monster Fighters"
         ],
         "textangle": 0,
         "textfont": {
          "size": 12
         },
         "textposition": "inside",
         "type": "bar",
         "x": [
          13
         ],
         "xaxis": "x",
         "y": [
          2012
         ],
         "yaxis": "y"
        },
        {
         "alignmentgroup": "True",
         "hovertemplate": "theme=%{text}<br>number=%{x}<br>year=%{y}<extra></extra>",
         "legendgroup": "Legends of Chima",
         "marker": {
          "color": "#B6E880",
          "pattern": {
           "shape": ""
          }
         },
         "name": "Legends of Chima",
         "offsetgroup": "Legends of Chima",
         "orientation": "h",
         "showlegend": true,
         "text": [
          "Legends of Chima",
          "Legends of Chima"
         ],
         "textangle": 0,
         "textfont": {
          "size": 12
         },
         "textposition": "inside",
         "type": "bar",
         "x": [
          57,
          48
         ],
         "xaxis": "x",
         "y": [
          2013,
          2014
         ],
         "yaxis": "y"
        },
        {
         "alignmentgroup": "True",
         "hovertemplate": "theme=%{text}<br>number=%{x}<br>year=%{y}<extra></extra>",
         "legendgroup": "Mixels",
         "marker": {
          "color": "#FF97FF",
          "pattern": {
           "shape": ""
          }
         },
         "name": "Mixels",
         "offsetgroup": "Mixels",
         "orientation": "h",
         "showlegend": true,
         "text": [
          "Mixels",
          "Mixels",
          "Mixels"
         ],
         "textangle": 0,
         "textfont": {
          "size": 12
         },
         "textposition": "inside",
         "type": "bar",
         "x": [
          30,
          30,
          29
         ],
         "xaxis": "x",
         "y": [
          2014,
          2015,
          2016
         ],
         "yaxis": "y"
        },
        {
         "alignmentgroup": "True",
         "hovertemplate": "theme=%{text}<br>number=%{x}<br>year=%{y}<extra></extra>",
         "legendgroup": "The LEGO Movie",
         "marker": {
          "color": "#FECB52",
          "pattern": {
           "shape": ""
          }
         },
         "name": "The LEGO Movie",
         "offsetgroup": "The LEGO Movie",
         "orientation": "h",
         "showlegend": true,
         "text": [
          "The LEGO Movie"
         ],
         "textangle": 0,
         "textfont": {
          "size": 12
         },
         "textposition": "inside",
         "type": "bar",
         "x": [
          24
         ],
         "xaxis": "x",
         "y": [
          2014
         ],
         "yaxis": "y"
        },
        {
         "alignmentgroup": "True",
         "hovertemplate": "theme=%{text}<br>number=%{x}<br>year=%{y}<extra></extra>",
         "legendgroup": "Dimensions",
         "marker": {
          "color": "#636efa",
          "pattern": {
           "shape": ""
          }
         },
         "name": "Dimensions",
         "offsetgroup": "Dimensions",
         "orientation": "h",
         "showlegend": true,
         "text": [
          "Dimensions",
          "Dimensions"
         ],
         "textangle": 0,
         "textfont": {
          "size": 12
         },
         "textposition": "inside",
         "type": "bar",
         "x": [
          31,
          26
         ],
         "xaxis": "x",
         "y": [
          2015,
          2016
         ],
         "yaxis": "y"
        },
        {
         "alignmentgroup": "True",
         "hovertemplate": "theme=%{text}<br>number=%{x}<br>year=%{y}<extra></extra>",
         "legendgroup": "Nexo Knights",
         "marker": {
          "color": "#EF553B",
          "pattern": {
           "shape": ""
          }
         },
         "name": "Nexo Knights",
         "offsetgroup": "Nexo Knights",
         "orientation": "h",
         "showlegend": true,
         "text": [
          "Nexo Knights",
          "Nexo Knights"
         ],
         "textangle": 0,
         "textfont": {
          "size": 12
         },
         "textposition": "inside",
         "type": "bar",
         "x": [
          49,
          41
         ],
         "xaxis": "x",
         "y": [
          2016,
          2017
         ],
         "yaxis": "y"
        },
        {
         "alignmentgroup": "True",
         "hovertemplate": "theme=%{text}<br>number=%{x}<br>year=%{y}<extra></extra>",
         "legendgroup": "The LEGO Batman Movie",
         "marker": {
          "color": "#00cc96",
          "pattern": {
           "shape": ""
          }
         },
         "name": "The LEGO Batman Movie",
         "offsetgroup": "The LEGO Batman Movie",
         "orientation": "h",
         "showlegend": true,
         "text": [
          "The LEGO Batman Movie"
         ],
         "textangle": 0,
         "textfont": {
          "size": 12
         },
         "textposition": "inside",
         "type": "bar",
         "x": [
          33
         ],
         "xaxis": "x",
         "y": [
          2017
         ],
         "yaxis": "y"
        },
        {
         "alignmentgroup": "True",
         "hovertemplate": "theme=%{text}<br>number=%{x}<br>year=%{y}<extra></extra>",
         "legendgroup": "The LEGO Ninjago Movie",
         "marker": {
          "color": "#ab63fa",
          "pattern": {
           "shape": ""
          }
         },
         "name": "The LEGO Ninjago Movie",
         "offsetgroup": "The LEGO Ninjago Movie",
         "orientation": "h",
         "showlegend": true,
         "text": [
          "The LEGO Ninjago Movie"
         ],
         "textangle": 0,
         "textfont": {
          "size": 12
         },
         "textposition": "inside",
         "type": "bar",
         "x": [
          27
         ],
         "xaxis": "x",
         "y": [
          2017
         ],
         "yaxis": "y"
        },
        {
         "alignmentgroup": "True",
         "hovertemplate": "theme=%{text}<br>number=%{x}<br>year=%{y}<extra></extra>",
         "legendgroup": "BrickHeadz",
         "marker": {
          "color": "#FFA15A",
          "pattern": {
           "shape": ""
          }
         },
         "name": "BrickHeadz",
         "offsetgroup": "BrickHeadz",
         "orientation": "h",
         "showlegend": true,
         "text": [
          "BrickHeadz"
         ],
         "textangle": 0,
         "textfont": {
          "size": 12
         },
         "textposition": "inside",
         "type": "bar",
         "x": [
          42
         ],
         "xaxis": "x",
         "y": [
          2018
         ],
         "yaxis": "y"
        },
        {
         "alignmentgroup": "True",
         "hovertemplate": "theme=%{text}<br>number=%{x}<br>year=%{y}<extra></extra>",
         "legendgroup": "Unikitty",
         "marker": {
          "color": "#19d3f3",
          "pattern": {
           "shape": ""
          }
         },
         "name": "Unikitty",
         "offsetgroup": "Unikitty",
         "orientation": "h",
         "showlegend": true,
         "text": [
          "Unikitty"
         ],
         "textangle": 0,
         "textfont": {
          "size": 12
         },
         "textposition": "inside",
         "type": "bar",
         "x": [
          23
         ],
         "xaxis": "x",
         "y": [
          2018
         ],
         "yaxis": "y"
        },
        {
         "alignmentgroup": "True",
         "hovertemplate": "theme=%{text}<br>number=%{x}<br>year=%{y}<extra></extra>",
         "legendgroup": "Juniors",
         "marker": {
          "color": "#FF6692",
          "pattern": {
           "shape": ""
          }
         },
         "name": "Juniors",
         "offsetgroup": "Juniors",
         "orientation": "h",
         "showlegend": true,
         "text": [
          "Juniors"
         ],
         "textangle": 0,
         "textfont": {
          "size": 12
         },
         "textposition": "inside",
         "type": "bar",
         "x": [
          19
         ],
         "xaxis": "x",
         "y": [
          2018
         ],
         "yaxis": "y"
        },
        {
         "alignmentgroup": "True",
         "hovertemplate": "theme=%{text}<br>number=%{x}<br>year=%{y}<extra></extra>",
         "legendgroup": "The LEGO Movie 2",
         "marker": {
          "color": "#B6E880",
          "pattern": {
           "shape": ""
          }
         },
         "name": "The LEGO Movie 2",
         "offsetgroup": "The LEGO Movie 2",
         "orientation": "h",
         "showlegend": true,
         "text": [
          "The LEGO Movie 2"
         ],
         "textangle": 0,
         "textfont": {
          "size": 12
         },
         "textposition": "inside",
         "type": "bar",
         "x": [
          36
         ],
         "xaxis": "x",
         "y": [
          2019
         ],
         "yaxis": "y"
        },
        {
         "alignmentgroup": "True",
         "hovertemplate": "theme=%{text}<br>number=%{x}<br>year=%{y}<extra></extra>",
         "legendgroup": "DC Comics Super Heroes",
         "marker": {
          "color": "#FF97FF",
          "pattern": {
           "shape": ""
          }
         },
         "name": "DC Comics Super Heroes",
         "offsetgroup": "DC Comics Super Heroes",
         "orientation": "h",
         "showlegend": true,
         "text": [
          "DC Comics Super Heroes"
         ],
         "textangle": 0,
         "textfont": {
          "size": 12
         },
         "textposition": "inside",
         "type": "bar",
         "x": [
          18
         ],
         "xaxis": "x",
         "y": [
          2019
         ],
         "yaxis": "y"
        },
        {
         "alignmentgroup": "True",
         "hovertemplate": "theme=%{text}<br>number=%{x}<br>year=%{y}<extra></extra>",
         "legendgroup": "Disney",
         "marker": {
          "color": "#FECB52",
          "pattern": {
           "shape": ""
          }
         },
         "name": "Disney",
         "offsetgroup": "Disney",
         "orientation": "h",
         "showlegend": true,
         "text": [
          "Disney",
          "Disney"
         ],
         "textangle": 0,
         "textfont": {
          "size": 12
         },
         "textposition": "inside",
         "type": "bar",
         "x": [
          22,
          26
         ],
         "xaxis": "x",
         "y": [
          2020,
          2021
         ],
         "yaxis": "y"
        },
        {
         "alignmentgroup": "True",
         "hovertemplate": "theme=%{text}<br>number=%{x}<br>year=%{y}<extra></extra>",
         "legendgroup": "Dots",
         "marker": {
          "color": "#636efa",
          "pattern": {
           "shape": ""
          }
         },
         "name": "Dots",
         "offsetgroup": "Dots",
         "orientation": "h",
         "showlegend": true,
         "text": [
          "Dots",
          "Dots"
         ],
         "textangle": 0,
         "textfont": {
          "size": 12
         },
         "textposition": "inside",
         "type": "bar",
         "x": [
          20,
          26
         ],
         "xaxis": "x",
         "y": [
          2020,
          2021
         ],
         "yaxis": "y"
        },
        {
         "alignmentgroup": "True",
         "hovertemplate": "theme=%{text}<br>number=%{x}<br>year=%{y}<extra></extra>",
         "legendgroup": "Vidiyo",
         "marker": {
          "color": "#EF553B",
          "pattern": {
           "shape": ""
          }
         },
         "name": "Vidiyo",
         "offsetgroup": "Vidiyo",
         "orientation": "h",
         "showlegend": true,
         "text": [
          "Vidiyo"
         ],
         "textangle": 0,
         "textfont": {
          "size": 12
         },
         "textposition": "inside",
         "type": "bar",
         "x": [
          39
         ],
         "xaxis": "x",
         "y": [
          2021
         ],
         "yaxis": "y"
        }
       ],
       "layout": {
        "barmode": "relative",
        "height": 1000,
        "legend": {
         "title": {
          "text": "theme"
         },
         "tracegroupgap": 0
        },
        "showlegend": false,
        "template": {
         "data": {
          "bar": [
           {
            "error_x": {
             "color": "#2a3f5f"
            },
            "error_y": {
             "color": "#2a3f5f"
            },
            "marker": {
             "line": {
              "color": "#E5ECF6",
              "width": 0.5
             },
             "pattern": {
              "fillmode": "overlay",
              "size": 10,
              "solidity": 0.2
             }
            },
            "type": "bar"
           }
          ],
          "barpolar": [
           {
            "marker": {
             "line": {
              "color": "#E5ECF6",
              "width": 0.5
             },
             "pattern": {
              "fillmode": "overlay",
              "size": 10,
              "solidity": 0.2
             }
            },
            "type": "barpolar"
           }
          ],
          "carpet": [
           {
            "aaxis": {
             "endlinecolor": "#2a3f5f",
             "gridcolor": "white",
             "linecolor": "white",
             "minorgridcolor": "white",
             "startlinecolor": "#2a3f5f"
            },
            "baxis": {
             "endlinecolor": "#2a3f5f",
             "gridcolor": "white",
             "linecolor": "white",
             "minorgridcolor": "white",
             "startlinecolor": "#2a3f5f"
            },
            "type": "carpet"
           }
          ],
          "choropleth": [
           {
            "colorbar": {
             "outlinewidth": 0,
             "ticks": ""
            },
            "type": "choropleth"
           }
          ],
          "contour": [
           {
            "colorbar": {
             "outlinewidth": 0,
             "ticks": ""
            },
            "colorscale": [
             [
              0,
              "#0d0887"
             ],
             [
              0.1111111111111111,
              "#46039f"
             ],
             [
              0.2222222222222222,
              "#7201a8"
             ],
             [
              0.3333333333333333,
              "#9c179e"
             ],
             [
              0.4444444444444444,
              "#bd3786"
             ],
             [
              0.5555555555555556,
              "#d8576b"
             ],
             [
              0.6666666666666666,
              "#ed7953"
             ],
             [
              0.7777777777777778,
              "#fb9f3a"
             ],
             [
              0.8888888888888888,
              "#fdca26"
             ],
             [
              1,
              "#f0f921"
             ]
            ],
            "type": "contour"
           }
          ],
          "contourcarpet": [
           {
            "colorbar": {
             "outlinewidth": 0,
             "ticks": ""
            },
            "type": "contourcarpet"
           }
          ],
          "heatmap": [
           {
            "colorbar": {
             "outlinewidth": 0,
             "ticks": ""
            },
            "colorscale": [
             [
              0,
              "#0d0887"
             ],
             [
              0.1111111111111111,
              "#46039f"
             ],
             [
              0.2222222222222222,
              "#7201a8"
             ],
             [
              0.3333333333333333,
              "#9c179e"
             ],
             [
              0.4444444444444444,
              "#bd3786"
             ],
             [
              0.5555555555555556,
              "#d8576b"
             ],
             [
              0.6666666666666666,
              "#ed7953"
             ],
             [
              0.7777777777777778,
              "#fb9f3a"
             ],
             [
              0.8888888888888888,
              "#fdca26"
             ],
             [
              1,
              "#f0f921"
             ]
            ],
            "type": "heatmap"
           }
          ],
          "heatmapgl": [
           {
            "colorbar": {
             "outlinewidth": 0,
             "ticks": ""
            },
            "colorscale": [
             [
              0,
              "#0d0887"
             ],
             [
              0.1111111111111111,
              "#46039f"
             ],
             [
              0.2222222222222222,
              "#7201a8"
             ],
             [
              0.3333333333333333,
              "#9c179e"
             ],
             [
              0.4444444444444444,
              "#bd3786"
             ],
             [
              0.5555555555555556,
              "#d8576b"
             ],
             [
              0.6666666666666666,
              "#ed7953"
             ],
             [
              0.7777777777777778,
              "#fb9f3a"
             ],
             [
              0.8888888888888888,
              "#fdca26"
             ],
             [
              1,
              "#f0f921"
             ]
            ],
            "type": "heatmapgl"
           }
          ],
          "histogram": [
           {
            "marker": {
             "pattern": {
              "fillmode": "overlay",
              "size": 10,
              "solidity": 0.2
             }
            },
            "type": "histogram"
           }
          ],
          "histogram2d": [
           {
            "colorbar": {
             "outlinewidth": 0,
             "ticks": ""
            },
            "colorscale": [
             [
              0,
              "#0d0887"
             ],
             [
              0.1111111111111111,
              "#46039f"
             ],
             [
              0.2222222222222222,
              "#7201a8"
             ],
             [
              0.3333333333333333,
              "#9c179e"
             ],
             [
              0.4444444444444444,
              "#bd3786"
             ],
             [
              0.5555555555555556,
              "#d8576b"
             ],
             [
              0.6666666666666666,
              "#ed7953"
             ],
             [
              0.7777777777777778,
              "#fb9f3a"
             ],
             [
              0.8888888888888888,
              "#fdca26"
             ],
             [
              1,
              "#f0f921"
             ]
            ],
            "type": "histogram2d"
           }
          ],
          "histogram2dcontour": [
           {
            "colorbar": {
             "outlinewidth": 0,
             "ticks": ""
            },
            "colorscale": [
             [
              0,
              "#0d0887"
             ],
             [
              0.1111111111111111,
              "#46039f"
             ],
             [
              0.2222222222222222,
              "#7201a8"
             ],
             [
              0.3333333333333333,
              "#9c179e"
             ],
             [
              0.4444444444444444,
              "#bd3786"
             ],
             [
              0.5555555555555556,
              "#d8576b"
             ],
             [
              0.6666666666666666,
              "#ed7953"
             ],
             [
              0.7777777777777778,
              "#fb9f3a"
             ],
             [
              0.8888888888888888,
              "#fdca26"
             ],
             [
              1,
              "#f0f921"
             ]
            ],
            "type": "histogram2dcontour"
           }
          ],
          "mesh3d": [
           {
            "colorbar": {
             "outlinewidth": 0,
             "ticks": ""
            },
            "type": "mesh3d"
           }
          ],
          "parcoords": [
           {
            "line": {
             "colorbar": {
              "outlinewidth": 0,
              "ticks": ""
             }
            },
            "type": "parcoords"
           }
          ],
          "pie": [
           {
            "automargin": true,
            "type": "pie"
           }
          ],
          "scatter": [
           {
            "marker": {
             "colorbar": {
              "outlinewidth": 0,
              "ticks": ""
             }
            },
            "type": "scatter"
           }
          ],
          "scatter3d": [
           {
            "line": {
             "colorbar": {
              "outlinewidth": 0,
              "ticks": ""
             }
            },
            "marker": {
             "colorbar": {
              "outlinewidth": 0,
              "ticks": ""
             }
            },
            "type": "scatter3d"
           }
          ],
          "scattercarpet": [
           {
            "marker": {
             "colorbar": {
              "outlinewidth": 0,
              "ticks": ""
             }
            },
            "type": "scattercarpet"
           }
          ],
          "scattergeo": [
           {
            "marker": {
             "colorbar": {
              "outlinewidth": 0,
              "ticks": ""
             }
            },
            "type": "scattergeo"
           }
          ],
          "scattergl": [
           {
            "marker": {
             "colorbar": {
              "outlinewidth": 0,
              "ticks": ""
             }
            },
            "type": "scattergl"
           }
          ],
          "scattermapbox": [
           {
            "marker": {
             "colorbar": {
              "outlinewidth": 0,
              "ticks": ""
             }
            },
            "type": "scattermapbox"
           }
          ],
          "scatterpolar": [
           {
            "marker": {
             "colorbar": {
              "outlinewidth": 0,
              "ticks": ""
             }
            },
            "type": "scatterpolar"
           }
          ],
          "scatterpolargl": [
           {
            "marker": {
             "colorbar": {
              "outlinewidth": 0,
              "ticks": ""
             }
            },
            "type": "scatterpolargl"
           }
          ],
          "scatterternary": [
           {
            "marker": {
             "colorbar": {
              "outlinewidth": 0,
              "ticks": ""
             }
            },
            "type": "scatterternary"
           }
          ],
          "surface": [
           {
            "colorbar": {
             "outlinewidth": 0,
             "ticks": ""
            },
            "colorscale": [
             [
              0,
              "#0d0887"
             ],
             [
              0.1111111111111111,
              "#46039f"
             ],
             [
              0.2222222222222222,
              "#7201a8"
             ],
             [
              0.3333333333333333,
              "#9c179e"
             ],
             [
              0.4444444444444444,
              "#bd3786"
             ],
             [
              0.5555555555555556,
              "#d8576b"
             ],
             [
              0.6666666666666666,
              "#ed7953"
             ],
             [
              0.7777777777777778,
              "#fb9f3a"
             ],
             [
              0.8888888888888888,
              "#fdca26"
             ],
             [
              1,
              "#f0f921"
             ]
            ],
            "type": "surface"
           }
          ],
          "table": [
           {
            "cells": {
             "fill": {
              "color": "#EBF0F8"
             },
             "line": {
              "color": "white"
             }
            },
            "header": {
             "fill": {
              "color": "#C8D4E3"
             },
             "line": {
              "color": "white"
             }
            },
            "type": "table"
           }
          ]
         },
         "layout": {
          "annotationdefaults": {
           "arrowcolor": "#2a3f5f",
           "arrowhead": 0,
           "arrowwidth": 1
          },
          "autotypenumbers": "strict",
          "coloraxis": {
           "colorbar": {
            "outlinewidth": 0,
            "ticks": ""
           }
          },
          "colorscale": {
           "diverging": [
            [
             0,
             "#8e0152"
            ],
            [
             0.1,
             "#c51b7d"
            ],
            [
             0.2,
             "#de77ae"
            ],
            [
             0.3,
             "#f1b6da"
            ],
            [
             0.4,
             "#fde0ef"
            ],
            [
             0.5,
             "#f7f7f7"
            ],
            [
             0.6,
             "#e6f5d0"
            ],
            [
             0.7,
             "#b8e186"
            ],
            [
             0.8,
             "#7fbc41"
            ],
            [
             0.9,
             "#4d9221"
            ],
            [
             1,
             "#276419"
            ]
           ],
           "sequential": [
            [
             0,
             "#0d0887"
            ],
            [
             0.1111111111111111,
             "#46039f"
            ],
            [
             0.2222222222222222,
             "#7201a8"
            ],
            [
             0.3333333333333333,
             "#9c179e"
            ],
            [
             0.4444444444444444,
             "#bd3786"
            ],
            [
             0.5555555555555556,
             "#d8576b"
            ],
            [
             0.6666666666666666,
             "#ed7953"
            ],
            [
             0.7777777777777778,
             "#fb9f3a"
            ],
            [
             0.8888888888888888,
             "#fdca26"
            ],
            [
             1,
             "#f0f921"
            ]
           ],
           "sequentialminus": [
            [
             0,
             "#0d0887"
            ],
            [
             0.1111111111111111,
             "#46039f"
            ],
            [
             0.2222222222222222,
             "#7201a8"
            ],
            [
             0.3333333333333333,
             "#9c179e"
            ],
            [
             0.4444444444444444,
             "#bd3786"
            ],
            [
             0.5555555555555556,
             "#d8576b"
            ],
            [
             0.6666666666666666,
             "#ed7953"
            ],
            [
             0.7777777777777778,
             "#fb9f3a"
            ],
            [
             0.8888888888888888,
             "#fdca26"
            ],
            [
             1,
             "#f0f921"
            ]
           ]
          },
          "colorway": [
           "#636efa",
           "#EF553B",
           "#00cc96",
           "#ab63fa",
           "#FFA15A",
           "#19d3f3",
           "#FF6692",
           "#B6E880",
           "#FF97FF",
           "#FECB52"
          ],
          "font": {
           "color": "#2a3f5f"
          },
          "geo": {
           "bgcolor": "white",
           "lakecolor": "white",
           "landcolor": "#E5ECF6",
           "showlakes": true,
           "showland": true,
           "subunitcolor": "white"
          },
          "hoverlabel": {
           "align": "left"
          },
          "hovermode": "closest",
          "mapbox": {
           "style": "light"
          },
          "paper_bgcolor": "white",
          "plot_bgcolor": "#E5ECF6",
          "polar": {
           "angularaxis": {
            "gridcolor": "white",
            "linecolor": "white",
            "ticks": ""
           },
           "bgcolor": "#E5ECF6",
           "radialaxis": {
            "gridcolor": "white",
            "linecolor": "white",
            "ticks": ""
           }
          },
          "scene": {
           "xaxis": {
            "backgroundcolor": "#E5ECF6",
            "gridcolor": "white",
            "gridwidth": 2,
            "linecolor": "white",
            "showbackground": true,
            "ticks": "",
            "zerolinecolor": "white"
           },
           "yaxis": {
            "backgroundcolor": "#E5ECF6",
            "gridcolor": "white",
            "gridwidth": 2,
            "linecolor": "white",
            "showbackground": true,
            "ticks": "",
            "zerolinecolor": "white"
           },
           "zaxis": {
            "backgroundcolor": "#E5ECF6",
            "gridcolor": "white",
            "gridwidth": 2,
            "linecolor": "white",
            "showbackground": true,
            "ticks": "",
            "zerolinecolor": "white"
           }
          },
          "shapedefaults": {
           "line": {
            "color": "#2a3f5f"
           }
          },
          "ternary": {
           "aaxis": {
            "gridcolor": "white",
            "linecolor": "white",
            "ticks": ""
           },
           "baxis": {
            "gridcolor": "white",
            "linecolor": "white",
            "ticks": ""
           },
           "bgcolor": "#E5ECF6",
           "caxis": {
            "gridcolor": "white",
            "linecolor": "white",
            "ticks": ""
           }
          },
          "title": {
           "x": 0.05
          },
          "xaxis": {
           "automargin": true,
           "gridcolor": "white",
           "linecolor": "white",
           "ticks": "",
           "title": {
            "standoff": 15
           },
           "zerolinecolor": "white",
           "zerolinewidth": 2
          },
          "yaxis": {
           "automargin": true,
           "gridcolor": "white",
           "linecolor": "white",
           "ticks": "",
           "title": {
            "standoff": 15
           },
           "zerolinecolor": "white",
           "zerolinewidth": 2
          }
         }
        },
        "title": {
         "text": "Yearly top 10 themes by number of sets"
        },
        "xaxis": {
         "anchor": "y",
         "domain": [
          0,
          1
         ],
         "dtick": 50,
         "tick0": 0,
         "tickmode": "linear",
         "title": {
          "text": "number"
         }
        },
        "yaxis": {
         "anchor": "x",
         "autorange": "reversed",
         "domain": [
          0,
          1
         ],
         "dtick": 1,
         "tick0": 0,
         "tickmode": "linear",
         "title": {
          "text": "year"
         }
        }
       }
      },
      "text/html": [
       "<div>                            <div id=\"fb7b2dde-70fa-4f56-b32d-97d3c93bf69f\" class=\"plotly-graph-div\" style=\"height:1000px; width:100%;\"></div>            <script type=\"text/javascript\">                require([\"plotly\"], function(Plotly) {                    window.PLOTLYENV=window.PLOTLYENV || {};                                    if (document.getElementById(\"fb7b2dde-70fa-4f56-b32d-97d3c93bf69f\")) {                    Plotly.newPlot(                        \"fb7b2dde-70fa-4f56-b32d-97d3c93bf69f\",                        [{\"alignmentgroup\":\"True\",\"hovertemplate\":\"theme=%{text}<br>number=%{x}<br>year=%{y}<extra></extra>\",\"legendgroup\":\"Duplo\",\"marker\":{\"color\":\"#636efa\",\"pattern\":{\"shape\":\"\"}},\"name\":\"Duplo\",\"offsetgroup\":\"Duplo\",\"orientation\":\"h\",\"showlegend\":true,\"text\":[\"Duplo\",\"Duplo\",\"Duplo\",\"Duplo\",\"Duplo\",\"Duplo\",\"Duplo\",\"Duplo\",\"Duplo\",\"Duplo\",\"Duplo\",\"Duplo\",\"Duplo\",\"Duplo\",\"Duplo\",\"Duplo\",\"Duplo\",\"Duplo\",\"Duplo\",\"Duplo\",\"Duplo\",\"Duplo\",\"Duplo\",\"Duplo\",\"Duplo\",\"Duplo\",\"Duplo\",\"Duplo\",\"Duplo\"],\"textposition\":\"inside\",\"x\":[36,17,31,38,37,37,32,38,36,31,54,27,45,35,34,30,30,33,32,36,34,39,42,38,35,31,22,23,22],\"xaxis\":\"x\",\"y\":[1991,1992,1993,1994,1995,1996,1997,1998,1999,2000,2001,2004,2005,2006,2007,2008,2009,2010,2011,2012,2013,2014,2015,2016,2017,2018,2019,2020,2021],\"yaxis\":\"y\",\"type\":\"bar\",\"textfont\":{\"size\":12},\"textangle\":0},{\"alignmentgroup\":\"True\",\"hovertemplate\":\"theme=%{text}<br>number=%{x}<br>year=%{y}<extra></extra>\",\"legendgroup\":\"Service Packs\",\"marker\":{\"color\":\"#EF553B\",\"pattern\":{\"shape\":\"\"}},\"name\":\"Service Packs\",\"offsetgroup\":\"Service Packs\",\"orientation\":\"h\",\"showlegend\":true,\"text\":[\"Service Packs\",\"Service Packs\",\"Service Packs\",\"Service Packs\",\"Service Packs\",\"Service Packs\",\"Service Packs\",\"Service Packs\",\"Service Packs\"],\"textposition\":\"inside\",\"x\":[22,12,31,17,13,36,11,21,21],\"xaxis\":\"x\",\"y\":[1991,1992,1993,1994,1995,1996,1997,1998,1999],\"yaxis\":\"y\",\"type\":\"bar\",\"textfont\":{\"size\":12},\"textangle\":0},{\"alignmentgroup\":\"True\",\"hovertemplate\":\"theme=%{text}<br>number=%{x}<br>year=%{y}<extra></extra>\",\"legendgroup\":\"Town\",\"marker\":{\"color\":\"#00cc96\",\"pattern\":{\"shape\":\"\"}},\"name\":\"Town\",\"offsetgroup\":\"Town\",\"orientation\":\"h\",\"showlegend\":true,\"text\":[\"Town\",\"Town\",\"Town\",\"Town\",\"Town\",\"Town\",\"Town\",\"Town\",\"Town\",\"Town\"],\"textposition\":\"inside\",\"x\":[22,27,23,29,21,23,47,62,62,43],\"xaxis\":\"x\",\"y\":[1991,1992,1993,1994,1995,1996,1997,1998,1999,2000],\"yaxis\":\"y\",\"type\":\"bar\",\"textfont\":{\"size\":12},\"textangle\":0},{\"alignmentgroup\":\"True\",\"hovertemplate\":\"theme=%{text}<br>number=%{x}<br>year=%{y}<extra></extra>\",\"legendgroup\":\"Space\",\"marker\":{\"color\":\"#ab63fa\",\"pattern\":{\"shape\":\"\"}},\"name\":\"Space\",\"offsetgroup\":\"Space\",\"orientation\":\"h\",\"showlegend\":true,\"text\":[\"Space\",\"Space\",\"Space\",\"Space\",\"Space\",\"Space\",\"Space\",\"Space\",\"Space\"],\"textposition\":\"inside\",\"x\":[13,6,12,10,6,9,17,21,24],\"xaxis\":\"x\",\"y\":[1991,1992,1993,1994,1995,1996,1997,1998,2001],\"yaxis\":\"y\",\"type\":\"bar\",\"textfont\":{\"size\":12},\"textangle\":0},{\"alignmentgroup\":\"True\",\"hovertemplate\":\"theme=%{text}<br>number=%{x}<br>year=%{y}<extra></extra>\",\"legendgroup\":\"Trains\",\"marker\":{\"color\":\"#FFA15A\",\"pattern\":{\"shape\":\"\"}},\"name\":\"Trains\",\"offsetgroup\":\"Trains\",\"orientation\":\"h\",\"showlegend\":true,\"text\":[\"Trains\",\"Trains\",\"Trains\"],\"textposition\":\"inside\",\"x\":[12,3,16],\"xaxis\":\"x\",\"y\":[1991,1993,2001],\"yaxis\":\"y\",\"type\":\"bar\",\"textfont\":{\"size\":12},\"textangle\":0},{\"alignmentgroup\":\"True\",\"hovertemplate\":\"theme=%{text}<br>number=%{x}<br>year=%{y}<extra></extra>\",\"legendgroup\":\"Basic\",\"marker\":{\"color\":\"#19d3f3\",\"pattern\":{\"shape\":\"\"}},\"name\":\"Basic\",\"offsetgroup\":\"Basic\",\"orientation\":\"h\",\"showlegend\":true,\"text\":[\"Basic\",\"Basic\",\"Basic\",\"Basic\",\"Basic\",\"Basic\",\"Basic\",\"Basic\",\"Basic\",\"Basic\"],\"textposition\":\"inside\",\"x\":[11,13,10,11,10,24,33,40,14,13],\"xaxis\":\"x\",\"y\":[1991,1992,1993,1994,1995,1996,1997,1998,1999,2000],\"yaxis\":\"y\",\"type\":\"bar\",\"textfont\":{\"size\":12},\"textangle\":0},{\"alignmentgroup\":\"True\",\"hovertemplate\":\"theme=%{text}<br>number=%{x}<br>year=%{y}<extra></extra>\",\"legendgroup\":\"Dacta\",\"marker\":{\"color\":\"#FF6692\",\"pattern\":{\"shape\":\"\"}},\"name\":\"Dacta\",\"offsetgroup\":\"Dacta\",\"orientation\":\"h\",\"showlegend\":true,\"text\":[\"Dacta\",\"Dacta\",\"Dacta\",\"Dacta\"],\"textposition\":\"inside\",\"x\":[7,6,9,12],\"xaxis\":\"x\",\"y\":[1991,1992,1993,1995],\"yaxis\":\"y\",\"type\":\"bar\",\"textfont\":{\"size\":12},\"textangle\":0},{\"alignmentgroup\":\"True\",\"hovertemplate\":\"theme=%{text}<br>number=%{x}<br>year=%{y}<extra></extra>\",\"legendgroup\":\"Technic\",\"marker\":{\"color\":\"#B6E880\",\"pattern\":{\"shape\":\"\"}},\"name\":\"Technic\",\"offsetgroup\":\"Technic\",\"orientation\":\"h\",\"showlegend\":true,\"text\":[\"Technic\",\"Technic\",\"Technic\",\"Technic\",\"Technic\",\"Technic\",\"Technic\",\"Technic\",\"Technic\",\"Technic\"],\"textposition\":\"inside\",\"x\":[6,6,8,8,9,10,14,27,33,34],\"xaxis\":\"x\",\"y\":[1991,1992,1993,1994,1995,1996,1997,1998,1999,2000],\"yaxis\":\"y\",\"type\":\"bar\",\"textfont\":{\"size\":12},\"textangle\":0},{\"alignmentgroup\":\"True\",\"hovertemplate\":\"theme=%{text}<br>number=%{x}<br>year=%{y}<extra></extra>\",\"legendgroup\":\"Pirates\",\"marker\":{\"color\":\"#FF97FF\",\"pattern\":{\"shape\":\"\"}},\"name\":\"Pirates\",\"offsetgroup\":\"Pirates\",\"orientation\":\"h\",\"showlegend\":true,\"text\":[\"Pirates\",\"Pirates\",\"Pirates\",\"Pirates\",\"Pirates\",\"Pirates\"],\"textposition\":\"inside\",\"x\":[5,9,6,13,8,11],\"xaxis\":\"x\",\"y\":[1991,1992,1993,1994,1996,2009],\"yaxis\":\"y\",\"type\":\"bar\",\"textfont\":{\"size\":12},\"textangle\":0},{\"alignmentgroup\":\"True\",\"hovertemplate\":\"theme=%{text}<br>number=%{x}<br>year=%{y}<extra></extra>\",\"legendgroup\":\"Boats\",\"marker\":{\"color\":\"#FECB52\",\"pattern\":{\"shape\":\"\"}},\"name\":\"Boats\",\"offsetgroup\":\"Boats\",\"orientation\":\"h\",\"showlegend\":true,\"text\":[\"Boats\"],\"textposition\":\"inside\",\"x\":[3],\"xaxis\":\"x\",\"y\":[1991],\"yaxis\":\"y\",\"type\":\"bar\",\"textfont\":{\"size\":12},\"textangle\":0},{\"alignmentgroup\":\"True\",\"hovertemplate\":\"theme=%{text}<br>number=%{x}<br>year=%{y}<extra></extra>\",\"legendgroup\":\"Castle\",\"marker\":{\"color\":\"#636efa\",\"pattern\":{\"shape\":\"\"}},\"name\":\"Castle\",\"offsetgroup\":\"Castle\",\"orientation\":\"h\",\"showlegend\":true,\"text\":[\"Castle\",\"Castle\",\"Castle\",\"Castle\",\"Castle\",\"Castle\",\"Castle\",\"Castle\",\"Castle\",\"Castle\",\"Castle\",\"Castle\",\"Castle\",\"Castle\",\"Castle\"],\"textposition\":\"inside\",\"x\":[9,14,4,7,6,12,20,15,22,24,30,11,8,13,12],\"xaxis\":\"x\",\"y\":[1992,1993,1994,1995,1996,1997,1998,1999,2000,2004,2005,2006,2007,2008,2010],\"yaxis\":\"y\",\"type\":\"bar\",\"textfont\":{\"size\":12},\"textangle\":0},{\"alignmentgroup\":\"True\",\"hovertemplate\":\"theme=%{text}<br>number=%{x}<br>year=%{y}<extra></extra>\",\"legendgroup\":\"Assorted\",\"marker\":{\"color\":\"#EF553B\",\"pattern\":{\"shape\":\"\"}},\"name\":\"Assorted\",\"offsetgroup\":\"Assorted\",\"orientation\":\"h\",\"showlegend\":true,\"text\":[\"Assorted\",\"Assorted\"],\"textposition\":\"inside\",\"x\":[1,3],\"xaxis\":\"x\",\"y\":[1992,1994],\"yaxis\":\"y\",\"type\":\"bar\",\"textfont\":{\"size\":12},\"textangle\":0},{\"alignmentgroup\":\"True\",\"hovertemplate\":\"theme=%{text}<br>number=%{x}<br>year=%{y}<extra></extra>\",\"legendgroup\":\"Belville\",\"marker\":{\"color\":\"#00cc96\",\"pattern\":{\"shape\":\"\"}},\"name\":\"Belville\",\"offsetgroup\":\"Belville\",\"orientation\":\"h\",\"showlegend\":true,\"text\":[\"Belville\"],\"textposition\":\"inside\",\"x\":[4],\"xaxis\":\"x\",\"y\":[1994],\"yaxis\":\"y\",\"type\":\"bar\",\"textfont\":{\"size\":12},\"textangle\":0},{\"alignmentgroup\":\"True\",\"hovertemplate\":\"theme=%{text}<br>number=%{x}<br>year=%{y}<extra></extra>\",\"legendgroup\":\"Freestyle\",\"marker\":{\"color\":\"#ab63fa\",\"pattern\":{\"shape\":\"\"}},\"name\":\"Freestyle\",\"offsetgroup\":\"Freestyle\",\"orientation\":\"h\",\"showlegend\":true,\"text\":[\"Freestyle\",\"Freestyle\",\"Freestyle\",\"Freestyle\"],\"textposition\":\"inside\",\"x\":[28,7,12,22],\"xaxis\":\"x\",\"y\":[1995,1996,1997,1998],\"yaxis\":\"y\",\"type\":\"bar\",\"textfont\":{\"size\":12},\"textangle\":0},{\"alignmentgroup\":\"True\",\"hovertemplate\":\"theme=%{text}<br>number=%{x}<br>year=%{y}<extra></extra>\",\"legendgroup\":\"Aquazone\",\"marker\":{\"color\":\"#FFA15A\",\"pattern\":{\"shape\":\"\"}},\"name\":\"Aquazone\",\"offsetgroup\":\"Aquazone\",\"orientation\":\"h\",\"showlegend\":true,\"text\":[\"Aquazone\",\"Aquazone\"],\"textposition\":\"inside\",\"x\":[6,7],\"xaxis\":\"x\",\"y\":[1995,1996],\"yaxis\":\"y\",\"type\":\"bar\",\"textfont\":{\"size\":12},\"textangle\":0},{\"alignmentgroup\":\"True\",\"hovertemplate\":\"theme=%{text}<br>number=%{x}<br>year=%{y}<extra></extra>\",\"legendgroup\":\"Primo\",\"marker\":{\"color\":\"#19d3f3\",\"pattern\":{\"shape\":\"\"}},\"name\":\"Primo\",\"offsetgroup\":\"Primo\",\"orientation\":\"h\",\"showlegend\":true,\"text\":[\"Primo\",\"Primo\"],\"textposition\":\"inside\",\"x\":[17,18],\"xaxis\":\"x\",\"y\":[1997,1999],\"yaxis\":\"y\",\"type\":\"bar\",\"textfont\":{\"size\":12},\"textangle\":0},{\"alignmentgroup\":\"True\",\"hovertemplate\":\"theme=%{text}<br>number=%{x}<br>year=%{y}<extra></extra>\",\"legendgroup\":\"Western\",\"marker\":{\"color\":\"#FF6692\",\"pattern\":{\"shape\":\"\"}},\"name\":\"Western\",\"offsetgroup\":\"Western\",\"orientation\":\"h\",\"showlegend\":true,\"text\":[\"Western\"],\"textposition\":\"inside\",\"x\":[11],\"xaxis\":\"x\",\"y\":[1997],\"yaxis\":\"y\",\"type\":\"bar\",\"textfont\":{\"size\":12},\"textangle\":0},{\"alignmentgroup\":\"True\",\"hovertemplate\":\"theme=%{text}<br>number=%{x}<br>year=%{y}<extra></extra>\",\"legendgroup\":\"Scala\",\"marker\":{\"color\":\"#B6E880\",\"pattern\":{\"shape\":\"\"}},\"name\":\"Scala\",\"offsetgroup\":\"Scala\",\"orientation\":\"h\",\"showlegend\":true,\"text\":[\"Scala\",\"Scala\"],\"textposition\":\"inside\",\"x\":[24,14],\"xaxis\":\"x\",\"y\":[1998,1999],\"yaxis\":\"y\",\"type\":\"bar\",\"textfont\":{\"size\":12},\"textangle\":0},{\"alignmentgroup\":\"True\",\"hovertemplate\":\"theme=%{text}<br>number=%{x}<br>year=%{y}<extra></extra>\",\"legendgroup\":\"Adventurers\",\"marker\":{\"color\":\"#FF97FF\",\"pattern\":{\"shape\":\"\"}},\"name\":\"Adventurers\",\"offsetgroup\":\"Adventurers\",\"orientation\":\"h\",\"showlegend\":true,\"text\":[\"Adventurers\",\"Adventurers\",\"Adventurers\",\"Adventurers\"],\"textposition\":\"inside\",\"x\":[21,14,17,19],\"xaxis\":\"x\",\"y\":[1998,1999,2000,2003],\"yaxis\":\"y\",\"type\":\"bar\",\"textfont\":{\"size\":12},\"textangle\":0},{\"alignmentgroup\":\"True\",\"hovertemplate\":\"theme=%{text}<br>number=%{x}<br>year=%{y}<extra></extra>\",\"legendgroup\":\"Classic\",\"marker\":{\"color\":\"#FECB52\",\"pattern\":{\"shape\":\"\"}},\"name\":\"Classic\",\"offsetgroup\":\"Classic\",\"orientation\":\"h\",\"showlegend\":true,\"text\":[\"Classic\"],\"textposition\":\"inside\",\"x\":[16],\"xaxis\":\"x\",\"y\":[1999],\"yaxis\":\"y\",\"type\":\"bar\",\"textfont\":{\"size\":12},\"textangle\":0},{\"alignmentgroup\":\"True\",\"hovertemplate\":\"theme=%{text}<br>number=%{x}<br>year=%{y}<extra></extra>\",\"legendgroup\":\"Bulk Bricks\",\"marker\":{\"color\":\"#636efa\",\"pattern\":{\"shape\":\"\"}},\"name\":\"Bulk Bricks\",\"offsetgroup\":\"Bulk Bricks\",\"orientation\":\"h\",\"showlegend\":true,\"text\":[\"Bulk Bricks\",\"Bulk Bricks\",\"Bulk Bricks\"],\"textposition\":\"inside\",\"x\":[66,24,25],\"xaxis\":\"x\",\"y\":[2000,2001,2002],\"yaxis\":\"y\",\"type\":\"bar\",\"textfont\":{\"size\":12},\"textangle\":0},{\"alignmentgroup\":\"True\",\"hovertemplate\":\"theme=%{text}<br>number=%{x}<br>year=%{y}<extra></extra>\",\"legendgroup\":\"Star Wars\",\"marker\":{\"color\":\"#EF553B\",\"pattern\":{\"shape\":\"\"}},\"name\":\"Star Wars\",\"offsetgroup\":\"Star Wars\",\"orientation\":\"h\",\"showlegend\":true,\"text\":[\"Star Wars\",\"Star Wars\",\"Star Wars\",\"Star Wars\",\"Star Wars\",\"Star Wars\",\"Star Wars\",\"Star Wars\",\"Star Wars\",\"Star Wars\",\"Star Wars\",\"Star Wars\",\"Star Wars\",\"Star Wars\",\"Star Wars\",\"Star Wars\",\"Star Wars\",\"Star Wars\",\"Star Wars\",\"Star Wars\",\"Star Wars\"],\"textposition\":\"inside\",\"x\":[19,25,20,15,21,14,16,19,28,29,30,35,38,40,58,65,62,68,57,47,37],\"xaxis\":\"x\",\"y\":[2000,2002,2003,2004,2005,2006,2007,2008,2009,2010,2011,2012,2013,2014,2015,2016,2017,2018,2019,2020,2021],\"yaxis\":\"y\",\"type\":\"bar\",\"textfont\":{\"size\":12},\"textangle\":0},{\"alignmentgroup\":\"True\",\"hovertemplate\":\"theme=%{text}<br>number=%{x}<br>year=%{y}<extra></extra>\",\"legendgroup\":\"Sports\",\"marker\":{\"color\":\"#00cc96\",\"pattern\":{\"shape\":\"\"}},\"name\":\"Sports\",\"offsetgroup\":\"Sports\",\"orientation\":\"h\",\"showlegend\":true,\"text\":[\"Sports\",\"Sports\",\"Sports\"],\"textposition\":\"inside\",\"x\":[16,43,52],\"xaxis\":\"x\",\"y\":[2000,2002,2003],\"yaxis\":\"y\",\"type\":\"bar\",\"textfont\":{\"size\":12},\"textangle\":0},{\"alignmentgroup\":\"True\",\"hovertemplate\":\"theme=%{text}<br>number=%{x}<br>year=%{y}<extra></extra>\",\"legendgroup\":\"Baby\",\"marker\":{\"color\":\"#ab63fa\",\"pattern\":{\"shape\":\"\"}},\"name\":\"Baby\",\"offsetgroup\":\"Baby\",\"orientation\":\"h\",\"showlegend\":true,\"text\":[\"Baby\",\"Baby\",\"Baby\"],\"textposition\":\"inside\",\"x\":[14,18,6],\"xaxis\":\"x\",\"y\":[2000,2001,2005],\"yaxis\":\"y\",\"type\":\"bar\",\"textfont\":{\"size\":12},\"textangle\":0},{\"alignmentgroup\":\"True\",\"hovertemplate\":\"theme=%{text}<br>number=%{x}<br>year=%{y}<extra></extra>\",\"legendgroup\":\"Studios\",\"marker\":{\"color\":\"#FFA15A\",\"pattern\":{\"shape\":\"\"}},\"name\":\"Studios\",\"offsetgroup\":\"Studios\",\"orientation\":\"h\",\"showlegend\":true,\"text\":[\"Studios\"],\"textposition\":\"inside\",\"x\":[46],\"xaxis\":\"x\",\"y\":[2001],\"yaxis\":\"y\",\"type\":\"bar\",\"textfont\":{\"size\":12},\"textangle\":0},{\"alignmentgroup\":\"True\",\"hovertemplate\":\"theme=%{text}<br>number=%{x}<br>year=%{y}<extra></extra>\",\"legendgroup\":\"Bionicle\",\"marker\":{\"color\":\"#19d3f3\",\"pattern\":{\"shape\":\"\"}},\"name\":\"Bionicle\",\"offsetgroup\":\"Bionicle\",\"orientation\":\"h\",\"showlegend\":true,\"text\":[\"Bionicle\",\"Bionicle\",\"Bionicle\",\"Bionicle\",\"Bionicle\",\"Bionicle\",\"Bionicle\",\"Bionicle\",\"Bionicle\",\"Bionicle\",\"Bionicle\"],\"textposition\":\"inside\",\"x\":[30,27,39,55,46,47,31,35,30,20,20],\"xaxis\":\"x\",\"y\":[2001,2002,2003,2004,2005,2006,2007,2008,2009,2015,2016],\"yaxis\":\"y\",\"type\":\"bar\",\"textfont\":{\"size\":12},\"textangle\":0},{\"alignmentgroup\":\"True\",\"hovertemplate\":\"theme=%{text}<br>number=%{x}<br>year=%{y}<extra></extra>\",\"legendgroup\":\"Creator\",\"marker\":{\"color\":\"#FF6692\",\"pattern\":{\"shape\":\"\"}},\"name\":\"Creator\",\"offsetgroup\":\"Creator\",\"orientation\":\"h\",\"showlegend\":true,\"text\":[\"Creator\",\"Creator\",\"Creator\",\"Creator\",\"Creator\",\"Creator\",\"Creator\",\"Creator\",\"Creator\",\"Creator\",\"Creator\",\"Creator\",\"Creator\",\"Creator\",\"Creator\",\"Creator\",\"Creator\",\"Creator\",\"Creator\"],\"textposition\":\"inside\",\"x\":[22,12,38,44,33,17,22,13,18,12,16,15,22,21,22,17,18,20,37],\"xaxis\":\"x\",\"y\":[2001,2002,2003,2004,2005,2006,2007,2008,2009,2010,2011,2012,2013,2014,2017,2018,2019,2020,2021],\"yaxis\":\"y\",\"type\":\"bar\",\"textfont\":{\"size\":12},\"textangle\":0},{\"alignmentgroup\":\"True\",\"hovertemplate\":\"theme=%{text}<br>number=%{x}<br>year=%{y}<extra></extra>\",\"legendgroup\":\"Racers\",\"marker\":{\"color\":\"#B6E880\",\"pattern\":{\"shape\":\"\"}},\"name\":\"Racers\",\"offsetgroup\":\"Racers\",\"orientation\":\"h\",\"showlegend\":true,\"text\":[\"Racers\",\"Racers\",\"Racers\",\"Racers\",\"Racers\",\"Racers\",\"Racers\",\"Racers\",\"Racers\",\"Racers\"],\"textposition\":\"inside\",\"x\":[17,27,20,18,29,22,21,24,24,18],\"xaxis\":\"x\",\"y\":[2001,2002,2003,2004,2005,2006,2007,2008,2009,2010],\"yaxis\":\"y\",\"type\":\"bar\",\"textfont\":{\"size\":12},\"textangle\":0},{\"alignmentgroup\":\"True\",\"hovertemplate\":\"theme=%{text}<br>number=%{x}<br>year=%{y}<extra></extra>\",\"legendgroup\":\"Dinosaurs\",\"marker\":{\"color\":\"#FF97FF\",\"pattern\":{\"shape\":\"\"}},\"name\":\"Dinosaurs\",\"offsetgroup\":\"Dinosaurs\",\"orientation\":\"h\",\"showlegend\":true,\"text\":[\"Dinosaurs\"],\"textposition\":\"inside\",\"x\":[12],\"xaxis\":\"x\",\"y\":[2001],\"yaxis\":\"y\",\"type\":\"bar\",\"textfont\":{\"size\":12},\"textangle\":0},{\"alignmentgroup\":\"True\",\"hovertemplate\":\"theme=%{text}<br>number=%{x}<br>year=%{y}<extra></extra>\",\"legendgroup\":\"Explore\",\"marker\":{\"color\":\"#FECB52\",\"pattern\":{\"shape\":\"\"}},\"name\":\"Explore\",\"offsetgroup\":\"Explore\",\"orientation\":\"h\",\"showlegend\":true,\"text\":[\"Explore\",\"Explore\",\"Explore\"],\"textposition\":\"inside\",\"x\":[68,45,13],\"xaxis\":\"x\",\"y\":[2002,2003,2004],\"yaxis\":\"y\",\"type\":\"bar\",\"textfont\":{\"size\":12},\"textangle\":0},{\"alignmentgroup\":\"True\",\"hovertemplate\":\"theme=%{text}<br>number=%{x}<br>year=%{y}<extra></extra>\",\"legendgroup\":\"Galidor\",\"marker\":{\"color\":\"#636efa\",\"pattern\":{\"shape\":\"\"}},\"name\":\"Galidor\",\"offsetgroup\":\"Galidor\",\"orientation\":\"h\",\"showlegend\":true,\"text\":[\"Galidor\"],\"textposition\":\"inside\",\"x\":[19],\"xaxis\":\"x\",\"y\":[2002],\"yaxis\":\"y\",\"type\":\"bar\",\"textfont\":{\"size\":12},\"textangle\":0},{\"alignmentgroup\":\"True\",\"hovertemplate\":\"theme=%{text}<br>number=%{x}<br>year=%{y}<extra></extra>\",\"legendgroup\":\"Alpha Team\",\"marker\":{\"color\":\"#EF553B\",\"pattern\":{\"shape\":\"\"}},\"name\":\"Alpha Team\",\"offsetgroup\":\"Alpha Team\",\"orientation\":\"h\",\"showlegend\":true,\"text\":[\"Alpha Team\"],\"textposition\":\"inside\",\"x\":[17],\"xaxis\":\"x\",\"y\":[2002],\"yaxis\":\"y\",\"type\":\"bar\",\"textfont\":{\"size\":12},\"textangle\":0},{\"alignmentgroup\":\"True\",\"hovertemplate\":\"theme=%{text}<br>number=%{x}<br>year=%{y}<extra></extra>\",\"legendgroup\":\"Jack Stone\",\"marker\":{\"color\":\"#00cc96\",\"pattern\":{\"shape\":\"\"}},\"name\":\"Jack Stone\",\"offsetgroup\":\"Jack Stone\",\"orientation\":\"h\",\"showlegend\":true,\"text\":[\"Jack Stone\"],\"textposition\":\"inside\",\"x\":[14],\"xaxis\":\"x\",\"y\":[2002],\"yaxis\":\"y\",\"type\":\"bar\",\"textfont\":{\"size\":12},\"textangle\":0},{\"alignmentgroup\":\"True\",\"hovertemplate\":\"theme=%{text}<br>number=%{x}<br>year=%{y}<extra></extra>\",\"legendgroup\":\"World City\",\"marker\":{\"color\":\"#ab63fa\",\"pattern\":{\"shape\":\"\"}},\"name\":\"World City\",\"offsetgroup\":\"World City\",\"orientation\":\"h\",\"showlegend\":true,\"text\":[\"World City\"],\"textposition\":\"inside\",\"x\":[28],\"xaxis\":\"x\",\"y\":[2003],\"yaxis\":\"y\",\"type\":\"bar\",\"textfont\":{\"size\":12},\"textangle\":0},{\"alignmentgroup\":\"True\",\"hovertemplate\":\"theme=%{text}<br>number=%{x}<br>year=%{y}<extra></extra>\",\"legendgroup\":\"Clikits\",\"marker\":{\"color\":\"#FFA15A\",\"pattern\":{\"shape\":\"\"}},\"name\":\"Clikits\",\"offsetgroup\":\"Clikits\",\"orientation\":\"h\",\"showlegend\":true,\"text\":[\"Clikits\",\"Clikits\",\"Clikits\"],\"textposition\":\"inside\",\"x\":[17,37,20],\"xaxis\":\"x\",\"y\":[2003,2004,2005],\"yaxis\":\"y\",\"type\":\"bar\",\"textfont\":{\"size\":12},\"textangle\":0},{\"alignmentgroup\":\"True\",\"hovertemplate\":\"theme=%{text}<br>number=%{x}<br>year=%{y}<extra></extra>\",\"legendgroup\":\"Education\",\"marker\":{\"color\":\"#19d3f3\",\"pattern\":{\"shape\":\"\"}},\"name\":\"Education\",\"offsetgroup\":\"Education\",\"orientation\":\"h\",\"showlegend\":true,\"text\":[\"Education\",\"Education\",\"Education\",\"Education\",\"Education\",\"Education\",\"Education\",\"Education\",\"Education\"],\"textposition\":\"inside\",\"x\":[13,16,18,11,11,20,12,24,23],\"xaxis\":\"x\",\"y\":[2003,2005,2007,2008,2009,2010,2013,2015,2016],\"yaxis\":\"y\",\"type\":\"bar\",\"textfont\":{\"size\":12},\"textangle\":0},{\"alignmentgroup\":\"True\",\"hovertemplate\":\"theme=%{text}<br>number=%{x}<br>year=%{y}<extra></extra>\",\"legendgroup\":\"4 Juniors\",\"marker\":{\"color\":\"#FF6692\",\"pattern\":{\"shape\":\"\"}},\"name\":\"4 Juniors\",\"offsetgroup\":\"4 Juniors\",\"orientation\":\"h\",\"showlegend\":true,\"text\":[\"4 Juniors\"],\"textposition\":\"inside\",\"x\":[18],\"xaxis\":\"x\",\"y\":[2004],\"yaxis\":\"y\",\"type\":\"bar\",\"textfont\":{\"size\":12},\"textangle\":0},{\"alignmentgroup\":\"True\",\"hovertemplate\":\"theme=%{text}<br>number=%{x}<br>year=%{y}<extra></extra>\",\"legendgroup\":\"Harry Potter\",\"marker\":{\"color\":\"#B6E880\",\"pattern\":{\"shape\":\"\"}},\"name\":\"Harry Potter\",\"offsetgroup\":\"Harry Potter\",\"orientation\":\"h\",\"showlegend\":true,\"text\":[\"Harry Potter\"],\"textposition\":\"inside\",\"x\":[12],\"xaxis\":\"x\",\"y\":[2004],\"yaxis\":\"y\",\"type\":\"bar\",\"textfont\":{\"size\":12},\"textangle\":0},{\"alignmentgroup\":\"True\",\"hovertemplate\":\"theme=%{text}<br>number=%{x}<br>year=%{y}<extra></extra>\",\"legendgroup\":\"City\",\"marker\":{\"color\":\"#FF97FF\",\"pattern\":{\"shape\":\"\"}},\"name\":\"City\",\"offsetgroup\":\"City\",\"orientation\":\"h\",\"showlegend\":true,\"text\":[\"City\",\"City\",\"City\",\"City\",\"City\",\"City\",\"City\",\"City\",\"City\",\"City\",\"City\",\"City\",\"City\",\"City\",\"City\",\"City\",\"City\"],\"textposition\":\"inside\",\"x\":[46,34,27,44,34,37,28,41,39,40,40,44,52,47,53,56,58],\"xaxis\":\"x\",\"y\":[2005,2006,2007,2008,2009,2010,2011,2012,2013,2014,2015,2016,2017,2018,2019,2020,2021],\"yaxis\":\"y\",\"type\":\"bar\",\"textfont\":{\"size\":12},\"textangle\":0},{\"alignmentgroup\":\"True\",\"hovertemplate\":\"theme=%{text}<br>number=%{x}<br>year=%{y}<extra></extra>\",\"legendgroup\":\"Exo-Force\",\"marker\":{\"color\":\"#FECB52\",\"pattern\":{\"shape\":\"\"}},\"name\":\"Exo-Force\",\"offsetgroup\":\"Exo-Force\",\"orientation\":\"h\",\"showlegend\":true,\"text\":[\"Exo-Force\",\"Exo-Force\"],\"textposition\":\"inside\",\"x\":[18,17],\"xaxis\":\"x\",\"y\":[2006,2007],\"yaxis\":\"y\",\"type\":\"bar\",\"textfont\":{\"size\":12},\"textangle\":0},{\"alignmentgroup\":\"True\",\"hovertemplate\":\"theme=%{text}<br>number=%{x}<br>year=%{y}<extra></extra>\",\"legendgroup\":\"Make and Create\",\"marker\":{\"color\":\"#636efa\",\"pattern\":{\"shape\":\"\"}},\"name\":\"Make and Create\",\"offsetgroup\":\"Make and Create\",\"orientation\":\"h\",\"showlegend\":true,\"text\":[\"Make and Create\",\"Make and Create\"],\"textposition\":\"inside\",\"x\":[17,21],\"xaxis\":\"x\",\"y\":[2006,2007],\"yaxis\":\"y\",\"type\":\"bar\",\"textfont\":{\"size\":12},\"textangle\":0},{\"alignmentgroup\":\"True\",\"hovertemplate\":\"theme=%{text}<br>number=%{x}<br>year=%{y}<extra></extra>\",\"legendgroup\":\"Mindstorms\",\"marker\":{\"color\":\"#EF553B\",\"pattern\":{\"shape\":\"\"}},\"name\":\"Mindstorms\",\"offsetgroup\":\"Mindstorms\",\"orientation\":\"h\",\"showlegend\":true,\"text\":[\"Mindstorms\"],\"textposition\":\"inside\",\"x\":[12],\"xaxis\":\"x\",\"y\":[2006],\"yaxis\":\"y\",\"type\":\"bar\",\"textfont\":{\"size\":12},\"textangle\":0},{\"alignmentgroup\":\"True\",\"hovertemplate\":\"theme=%{text}<br>number=%{x}<br>year=%{y}<extra></extra>\",\"legendgroup\":\"Bricks and More\",\"marker\":{\"color\":\"#00cc96\",\"pattern\":{\"shape\":\"\"}},\"name\":\"Bricks and More\",\"offsetgroup\":\"Bricks and More\",\"orientation\":\"h\",\"showlegend\":true,\"text\":[\"Bricks and More\",\"Bricks and More\"],\"textposition\":\"inside\",\"x\":[16,16],\"xaxis\":\"x\",\"y\":[2008,2009],\"yaxis\":\"y\",\"type\":\"bar\",\"textfont\":{\"size\":12},\"textangle\":0},{\"alignmentgroup\":\"True\",\"hovertemplate\":\"theme=%{text}<br>number=%{x}<br>year=%{y}<extra></extra>\",\"legendgroup\":\"Indiana Jones\",\"marker\":{\"color\":\"#ab63fa\",\"pattern\":{\"shape\":\"\"}},\"name\":\"Indiana Jones\",\"offsetgroup\":\"Indiana Jones\",\"orientation\":\"h\",\"showlegend\":true,\"text\":[\"Indiana Jones\"],\"textposition\":\"inside\",\"x\":[10],\"xaxis\":\"x\",\"y\":[2008],\"yaxis\":\"y\",\"type\":\"bar\",\"textfont\":{\"size\":12},\"textangle\":0},{\"alignmentgroup\":\"True\",\"hovertemplate\":\"theme=%{text}<br>number=%{x}<br>year=%{y}<extra></extra>\",\"legendgroup\":\"Power Miners\",\"marker\":{\"color\":\"#FFA15A\",\"pattern\":{\"shape\":\"\"}},\"name\":\"Power Miners\",\"offsetgroup\":\"Power Miners\",\"orientation\":\"h\",\"showlegend\":true,\"text\":[\"Power Miners\"],\"textposition\":\"inside\",\"x\":[15],\"xaxis\":\"x\",\"y\":[2009],\"yaxis\":\"y\",\"type\":\"bar\",\"textfont\":{\"size\":12},\"textangle\":0},{\"alignmentgroup\":\"True\",\"hovertemplate\":\"theme=%{text}<br>number=%{x}<br>year=%{y}<extra></extra>\",\"legendgroup\":\"Atlantis\",\"marker\":{\"color\":\"#19d3f3\",\"pattern\":{\"shape\":\"\"}},\"name\":\"Atlantis\",\"offsetgroup\":\"Atlantis\",\"orientation\":\"h\",\"showlegend\":true,\"text\":[\"Atlantis\"],\"textposition\":\"inside\",\"x\":[19],\"xaxis\":\"x\",\"y\":[2010],\"yaxis\":\"y\",\"type\":\"bar\",\"textfont\":{\"size\":12},\"textangle\":0},{\"alignmentgroup\":\"True\",\"hovertemplate\":\"theme=%{text}<br>number=%{x}<br>year=%{y}<extra></extra>\",\"legendgroup\":\"HERO Factory\",\"marker\":{\"color\":\"#FF6692\",\"pattern\":{\"shape\":\"\"}},\"name\":\"HERO Factory\",\"offsetgroup\":\"HERO Factory\",\"orientation\":\"h\",\"showlegend\":true,\"text\":[\"HERO Factory\",\"HERO Factory\",\"HERO Factory\",\"HERO Factory\",\"HERO Factory\"],\"textposition\":\"inside\",\"x\":[15,26,25,23,17],\"xaxis\":\"x\",\"y\":[2010,2011,2012,2013,2014],\"yaxis\":\"y\",\"type\":\"bar\",\"textfont\":{\"size\":12},\"textangle\":0},{\"alignmentgroup\":\"True\",\"hovertemplate\":\"theme=%{text}<br>number=%{x}<br>year=%{y}<extra></extra>\",\"legendgroup\":\"Toy Story\",\"marker\":{\"color\":\"#B6E880\",\"pattern\":{\"shape\":\"\"}},\"name\":\"Toy Story\",\"offsetgroup\":\"Toy Story\",\"orientation\":\"h\",\"showlegend\":true,\"text\":[\"Toy Story\"],\"textposition\":\"inside\",\"x\":[15],\"xaxis\":\"x\",\"y\":[2010],\"yaxis\":\"y\",\"type\":\"bar\",\"textfont\":{\"size\":12},\"textangle\":0},{\"alignmentgroup\":\"True\",\"hovertemplate\":\"theme=%{text}<br>number=%{x}<br>year=%{y}<extra></extra>\",\"legendgroup\":\"Ninjago\",\"marker\":{\"color\":\"#FF97FF\",\"pattern\":{\"shape\":\"\"}},\"name\":\"Ninjago\",\"offsetgroup\":\"Ninjago\",\"orientation\":\"h\",\"showlegend\":true,\"text\":[\"Ninjago\",\"Ninjago\",\"Ninjago\",\"Ninjago\",\"Ninjago\",\"Ninjago\",\"Ninjago\",\"Ninjago\",\"Ninjago\"],\"textposition\":\"inside\",\"x\":[43,48,44,37,24,46,54,48,46],\"xaxis\":\"x\",\"y\":[2011,2012,2015,2016,2017,2018,2019,2020,2021],\"yaxis\":\"y\",\"type\":\"bar\",\"textfont\":{\"size\":12},\"textangle\":0},{\"alignmentgroup\":\"True\",\"hovertemplate\":\"theme=%{text}<br>number=%{x}<br>year=%{y}<extra></extra>\",\"legendgroup\":\"Cars\",\"marker\":{\"color\":\"#FECB52\",\"pattern\":{\"shape\":\"\"}},\"name\":\"Cars\",\"offsetgroup\":\"Cars\",\"orientation\":\"h\",\"showlegend\":true,\"text\":[\"Cars\"],\"textposition\":\"inside\",\"x\":[18],\"xaxis\":\"x\",\"y\":[2011],\"yaxis\":\"y\",\"type\":\"bar\",\"textfont\":{\"size\":12},\"textangle\":0},{\"alignmentgroup\":\"True\",\"hovertemplate\":\"theme=%{text}<br>number=%{x}<br>year=%{y}<extra></extra>\",\"legendgroup\":\"Pirates of the Caribbean\",\"marker\":{\"color\":\"#636efa\",\"pattern\":{\"shape\":\"\"}},\"name\":\"Pirates of the Caribbean\",\"offsetgroup\":\"Pirates of the Caribbean\",\"orientation\":\"h\",\"showlegend\":true,\"text\":[\"Pirates of the Caribbean\"],\"textposition\":\"inside\",\"x\":[14],\"xaxis\":\"x\",\"y\":[2011],\"yaxis\":\"y\",\"type\":\"bar\",\"textfont\":{\"size\":12},\"textangle\":0},{\"alignmentgroup\":\"True\",\"hovertemplate\":\"theme=%{text}<br>number=%{x}<br>year=%{y}<extra></extra>\",\"legendgroup\":\"Seasonal\",\"marker\":{\"color\":\"#EF553B\",\"pattern\":{\"shape\":\"\"}},\"name\":\"Seasonal\",\"offsetgroup\":\"Seasonal\",\"orientation\":\"h\",\"showlegend\":true,\"text\":[\"Seasonal\",\"Seasonal\"],\"textposition\":\"inside\",\"x\":[14,17],\"xaxis\":\"x\",\"y\":[2011,2013],\"yaxis\":\"y\",\"type\":\"bar\",\"textfont\":{\"size\":12},\"textangle\":0},{\"alignmentgroup\":\"True\",\"hovertemplate\":\"theme=%{text}<br>number=%{x}<br>year=%{y}<extra></extra>\",\"legendgroup\":\"Games\",\"marker\":{\"color\":\"#00cc96\",\"pattern\":{\"shape\":\"\"}},\"name\":\"Games\",\"offsetgroup\":\"Games\",\"orientation\":\"h\",\"showlegend\":true,\"text\":[\"Games\"],\"textposition\":\"inside\",\"x\":[13],\"xaxis\":\"x\",\"y\":[2011],\"yaxis\":\"y\",\"type\":\"bar\",\"textfont\":{\"size\":12},\"textangle\":0},{\"alignmentgroup\":\"True\",\"hovertemplate\":\"theme=%{text}<br>number=%{x}<br>year=%{y}<extra></extra>\",\"legendgroup\":\"Friends\",\"marker\":{\"color\":\"#ab63fa\",\"pattern\":{\"shape\":\"\"}},\"name\":\"Friends\",\"offsetgroup\":\"Friends\",\"orientation\":\"h\",\"showlegend\":true,\"text\":[\"Friends\",\"Friends\",\"Friends\",\"Friends\",\"Friends\",\"Friends\",\"Friends\",\"Friends\",\"Friends\",\"Friends\"],\"textposition\":\"inside\",\"x\":[34,34,45,50,47,44,47,51,58,46],\"xaxis\":\"x\",\"y\":[2012,2013,2014,2015,2016,2017,2018,2019,2020,2021],\"yaxis\":\"y\",\"type\":\"bar\",\"textfont\":{\"size\":12},\"textangle\":0},{\"alignmentgroup\":\"True\",\"hovertemplate\":\"theme=%{text}<br>number=%{x}<br>year=%{y}<extra></extra>\",\"legendgroup\":\"Promotional\",\"marker\":{\"color\":\"#FFA15A\",\"pattern\":{\"shape\":\"\"}},\"name\":\"Promotional\",\"offsetgroup\":\"Promotional\",\"orientation\":\"h\",\"showlegend\":true,\"text\":[\"Promotional\",\"Promotional\",\"Promotional\",\"Promotional\",\"Promotional\",\"Promotional\",\"Promotional\",\"Promotional\"],\"textposition\":\"inside\",\"x\":[18,18,27,19,24,24,22,33],\"xaxis\":\"x\",\"y\":[2012,2013,2014,2015,2017,2018,2019,2020],\"yaxis\":\"y\",\"type\":\"bar\",\"textfont\":{\"size\":12},\"textangle\":0},{\"alignmentgroup\":\"True\",\"hovertemplate\":\"theme=%{text}<br>number=%{x}<br>year=%{y}<extra></extra>\",\"legendgroup\":\"Marvel Super Heroes\",\"marker\":{\"color\":\"#19d3f3\",\"pattern\":{\"shape\":\"\"}},\"name\":\"Marvel Super Heroes\",\"offsetgroup\":\"Marvel Super Heroes\",\"orientation\":\"h\",\"showlegend\":true,\"text\":[\"Marvel Super Heroes\",\"Marvel Super Heroes\",\"Marvel Super Heroes\",\"Marvel Super Heroes\"],\"textposition\":\"inside\",\"x\":[13,20,25,41],\"xaxis\":\"x\",\"y\":[2012,2019,2020,2021],\"yaxis\":\"y\",\"type\":\"bar\",\"textfont\":{\"size\":12},\"textangle\":0},{\"alignmentgroup\":\"True\",\"hovertemplate\":\"theme=%{text}<br>number=%{x}<br>year=%{y}<extra></extra>\",\"legendgroup\":\"Monster Fighters\",\"marker\":{\"color\":\"#FF6692\",\"pattern\":{\"shape\":\"\"}},\"name\":\"Monster Fighters\",\"offsetgroup\":\"Monster Fighters\",\"orientation\":\"h\",\"showlegend\":true,\"text\":[\"Monster Fighters\"],\"textposition\":\"inside\",\"x\":[13],\"xaxis\":\"x\",\"y\":[2012],\"yaxis\":\"y\",\"type\":\"bar\",\"textfont\":{\"size\":12},\"textangle\":0},{\"alignmentgroup\":\"True\",\"hovertemplate\":\"theme=%{text}<br>number=%{x}<br>year=%{y}<extra></extra>\",\"legendgroup\":\"Legends of Chima\",\"marker\":{\"color\":\"#B6E880\",\"pattern\":{\"shape\":\"\"}},\"name\":\"Legends of Chima\",\"offsetgroup\":\"Legends of Chima\",\"orientation\":\"h\",\"showlegend\":true,\"text\":[\"Legends of Chima\",\"Legends of Chima\"],\"textposition\":\"inside\",\"x\":[57,48],\"xaxis\":\"x\",\"y\":[2013,2014],\"yaxis\":\"y\",\"type\":\"bar\",\"textfont\":{\"size\":12},\"textangle\":0},{\"alignmentgroup\":\"True\",\"hovertemplate\":\"theme=%{text}<br>number=%{x}<br>year=%{y}<extra></extra>\",\"legendgroup\":\"Mixels\",\"marker\":{\"color\":\"#FF97FF\",\"pattern\":{\"shape\":\"\"}},\"name\":\"Mixels\",\"offsetgroup\":\"Mixels\",\"orientation\":\"h\",\"showlegend\":true,\"text\":[\"Mixels\",\"Mixels\",\"Mixels\"],\"textposition\":\"inside\",\"x\":[30,30,29],\"xaxis\":\"x\",\"y\":[2014,2015,2016],\"yaxis\":\"y\",\"type\":\"bar\",\"textfont\":{\"size\":12},\"textangle\":0},{\"alignmentgroup\":\"True\",\"hovertemplate\":\"theme=%{text}<br>number=%{x}<br>year=%{y}<extra></extra>\",\"legendgroup\":\"The LEGO Movie\",\"marker\":{\"color\":\"#FECB52\",\"pattern\":{\"shape\":\"\"}},\"name\":\"The LEGO Movie\",\"offsetgroup\":\"The LEGO Movie\",\"orientation\":\"h\",\"showlegend\":true,\"text\":[\"The LEGO Movie\"],\"textposition\":\"inside\",\"x\":[24],\"xaxis\":\"x\",\"y\":[2014],\"yaxis\":\"y\",\"type\":\"bar\",\"textfont\":{\"size\":12},\"textangle\":0},{\"alignmentgroup\":\"True\",\"hovertemplate\":\"theme=%{text}<br>number=%{x}<br>year=%{y}<extra></extra>\",\"legendgroup\":\"Dimensions\",\"marker\":{\"color\":\"#636efa\",\"pattern\":{\"shape\":\"\"}},\"name\":\"Dimensions\",\"offsetgroup\":\"Dimensions\",\"orientation\":\"h\",\"showlegend\":true,\"text\":[\"Dimensions\",\"Dimensions\"],\"textposition\":\"inside\",\"x\":[31,26],\"xaxis\":\"x\",\"y\":[2015,2016],\"yaxis\":\"y\",\"type\":\"bar\",\"textfont\":{\"size\":12},\"textangle\":0},{\"alignmentgroup\":\"True\",\"hovertemplate\":\"theme=%{text}<br>number=%{x}<br>year=%{y}<extra></extra>\",\"legendgroup\":\"Nexo Knights\",\"marker\":{\"color\":\"#EF553B\",\"pattern\":{\"shape\":\"\"}},\"name\":\"Nexo Knights\",\"offsetgroup\":\"Nexo Knights\",\"orientation\":\"h\",\"showlegend\":true,\"text\":[\"Nexo Knights\",\"Nexo Knights\"],\"textposition\":\"inside\",\"x\":[49,41],\"xaxis\":\"x\",\"y\":[2016,2017],\"yaxis\":\"y\",\"type\":\"bar\",\"textfont\":{\"size\":12},\"textangle\":0},{\"alignmentgroup\":\"True\",\"hovertemplate\":\"theme=%{text}<br>number=%{x}<br>year=%{y}<extra></extra>\",\"legendgroup\":\"The LEGO Batman Movie\",\"marker\":{\"color\":\"#00cc96\",\"pattern\":{\"shape\":\"\"}},\"name\":\"The LEGO Batman Movie\",\"offsetgroup\":\"The LEGO Batman Movie\",\"orientation\":\"h\",\"showlegend\":true,\"text\":[\"The LEGO Batman Movie\"],\"textposition\":\"inside\",\"x\":[33],\"xaxis\":\"x\",\"y\":[2017],\"yaxis\":\"y\",\"type\":\"bar\",\"textfont\":{\"size\":12},\"textangle\":0},{\"alignmentgroup\":\"True\",\"hovertemplate\":\"theme=%{text}<br>number=%{x}<br>year=%{y}<extra></extra>\",\"legendgroup\":\"The LEGO Ninjago Movie\",\"marker\":{\"color\":\"#ab63fa\",\"pattern\":{\"shape\":\"\"}},\"name\":\"The LEGO Ninjago Movie\",\"offsetgroup\":\"The LEGO Ninjago Movie\",\"orientation\":\"h\",\"showlegend\":true,\"text\":[\"The LEGO Ninjago Movie\"],\"textposition\":\"inside\",\"x\":[27],\"xaxis\":\"x\",\"y\":[2017],\"yaxis\":\"y\",\"type\":\"bar\",\"textfont\":{\"size\":12},\"textangle\":0},{\"alignmentgroup\":\"True\",\"hovertemplate\":\"theme=%{text}<br>number=%{x}<br>year=%{y}<extra></extra>\",\"legendgroup\":\"BrickHeadz\",\"marker\":{\"color\":\"#FFA15A\",\"pattern\":{\"shape\":\"\"}},\"name\":\"BrickHeadz\",\"offsetgroup\":\"BrickHeadz\",\"orientation\":\"h\",\"showlegend\":true,\"text\":[\"BrickHeadz\"],\"textposition\":\"inside\",\"x\":[42],\"xaxis\":\"x\",\"y\":[2018],\"yaxis\":\"y\",\"type\":\"bar\",\"textfont\":{\"size\":12},\"textangle\":0},{\"alignmentgroup\":\"True\",\"hovertemplate\":\"theme=%{text}<br>number=%{x}<br>year=%{y}<extra></extra>\",\"legendgroup\":\"Unikitty\",\"marker\":{\"color\":\"#19d3f3\",\"pattern\":{\"shape\":\"\"}},\"name\":\"Unikitty\",\"offsetgroup\":\"Unikitty\",\"orientation\":\"h\",\"showlegend\":true,\"text\":[\"Unikitty\"],\"textposition\":\"inside\",\"x\":[23],\"xaxis\":\"x\",\"y\":[2018],\"yaxis\":\"y\",\"type\":\"bar\",\"textfont\":{\"size\":12},\"textangle\":0},{\"alignmentgroup\":\"True\",\"hovertemplate\":\"theme=%{text}<br>number=%{x}<br>year=%{y}<extra></extra>\",\"legendgroup\":\"Juniors\",\"marker\":{\"color\":\"#FF6692\",\"pattern\":{\"shape\":\"\"}},\"name\":\"Juniors\",\"offsetgroup\":\"Juniors\",\"orientation\":\"h\",\"showlegend\":true,\"text\":[\"Juniors\"],\"textposition\":\"inside\",\"x\":[19],\"xaxis\":\"x\",\"y\":[2018],\"yaxis\":\"y\",\"type\":\"bar\",\"textfont\":{\"size\":12},\"textangle\":0},{\"alignmentgroup\":\"True\",\"hovertemplate\":\"theme=%{text}<br>number=%{x}<br>year=%{y}<extra></extra>\",\"legendgroup\":\"The LEGO Movie 2\",\"marker\":{\"color\":\"#B6E880\",\"pattern\":{\"shape\":\"\"}},\"name\":\"The LEGO Movie 2\",\"offsetgroup\":\"The LEGO Movie 2\",\"orientation\":\"h\",\"showlegend\":true,\"text\":[\"The LEGO Movie 2\"],\"textposition\":\"inside\",\"x\":[36],\"xaxis\":\"x\",\"y\":[2019],\"yaxis\":\"y\",\"type\":\"bar\",\"textfont\":{\"size\":12},\"textangle\":0},{\"alignmentgroup\":\"True\",\"hovertemplate\":\"theme=%{text}<br>number=%{x}<br>year=%{y}<extra></extra>\",\"legendgroup\":\"DC Comics Super Heroes\",\"marker\":{\"color\":\"#FF97FF\",\"pattern\":{\"shape\":\"\"}},\"name\":\"DC Comics Super Heroes\",\"offsetgroup\":\"DC Comics Super Heroes\",\"orientation\":\"h\",\"showlegend\":true,\"text\":[\"DC Comics Super Heroes\"],\"textposition\":\"inside\",\"x\":[18],\"xaxis\":\"x\",\"y\":[2019],\"yaxis\":\"y\",\"type\":\"bar\",\"textfont\":{\"size\":12},\"textangle\":0},{\"alignmentgroup\":\"True\",\"hovertemplate\":\"theme=%{text}<br>number=%{x}<br>year=%{y}<extra></extra>\",\"legendgroup\":\"Disney\",\"marker\":{\"color\":\"#FECB52\",\"pattern\":{\"shape\":\"\"}},\"name\":\"Disney\",\"offsetgroup\":\"Disney\",\"orientation\":\"h\",\"showlegend\":true,\"text\":[\"Disney\",\"Disney\"],\"textposition\":\"inside\",\"x\":[22,26],\"xaxis\":\"x\",\"y\":[2020,2021],\"yaxis\":\"y\",\"type\":\"bar\",\"textfont\":{\"size\":12},\"textangle\":0},{\"alignmentgroup\":\"True\",\"hovertemplate\":\"theme=%{text}<br>number=%{x}<br>year=%{y}<extra></extra>\",\"legendgroup\":\"Dots\",\"marker\":{\"color\":\"#636efa\",\"pattern\":{\"shape\":\"\"}},\"name\":\"Dots\",\"offsetgroup\":\"Dots\",\"orientation\":\"h\",\"showlegend\":true,\"text\":[\"Dots\",\"Dots\"],\"textposition\":\"inside\",\"x\":[20,26],\"xaxis\":\"x\",\"y\":[2020,2021],\"yaxis\":\"y\",\"type\":\"bar\",\"textfont\":{\"size\":12},\"textangle\":0},{\"alignmentgroup\":\"True\",\"hovertemplate\":\"theme=%{text}<br>number=%{x}<br>year=%{y}<extra></extra>\",\"legendgroup\":\"Vidiyo\",\"marker\":{\"color\":\"#EF553B\",\"pattern\":{\"shape\":\"\"}},\"name\":\"Vidiyo\",\"offsetgroup\":\"Vidiyo\",\"orientation\":\"h\",\"showlegend\":true,\"text\":[\"Vidiyo\"],\"textposition\":\"inside\",\"x\":[39],\"xaxis\":\"x\",\"y\":[2021],\"yaxis\":\"y\",\"type\":\"bar\",\"textfont\":{\"size\":12},\"textangle\":0}],                        {\"template\":{\"data\":{\"bar\":[{\"error_x\":{\"color\":\"#2a3f5f\"},\"error_y\":{\"color\":\"#2a3f5f\"},\"marker\":{\"line\":{\"color\":\"#E5ECF6\",\"width\":0.5},\"pattern\":{\"fillmode\":\"overlay\",\"size\":10,\"solidity\":0.2}},\"type\":\"bar\"}],\"barpolar\":[{\"marker\":{\"line\":{\"color\":\"#E5ECF6\",\"width\":0.5},\"pattern\":{\"fillmode\":\"overlay\",\"size\":10,\"solidity\":0.2}},\"type\":\"barpolar\"}],\"carpet\":[{\"aaxis\":{\"endlinecolor\":\"#2a3f5f\",\"gridcolor\":\"white\",\"linecolor\":\"white\",\"minorgridcolor\":\"white\",\"startlinecolor\":\"#2a3f5f\"},\"baxis\":{\"endlinecolor\":\"#2a3f5f\",\"gridcolor\":\"white\",\"linecolor\":\"white\",\"minorgridcolor\":\"white\",\"startlinecolor\":\"#2a3f5f\"},\"type\":\"carpet\"}],\"choropleth\":[{\"colorbar\":{\"outlinewidth\":0,\"ticks\":\"\"},\"type\":\"choropleth\"}],\"contour\":[{\"colorbar\":{\"outlinewidth\":0,\"ticks\":\"\"},\"colorscale\":[[0.0,\"#0d0887\"],[0.1111111111111111,\"#46039f\"],[0.2222222222222222,\"#7201a8\"],[0.3333333333333333,\"#9c179e\"],[0.4444444444444444,\"#bd3786\"],[0.5555555555555556,\"#d8576b\"],[0.6666666666666666,\"#ed7953\"],[0.7777777777777778,\"#fb9f3a\"],[0.8888888888888888,\"#fdca26\"],[1.0,\"#f0f921\"]],\"type\":\"contour\"}],\"contourcarpet\":[{\"colorbar\":{\"outlinewidth\":0,\"ticks\":\"\"},\"type\":\"contourcarpet\"}],\"heatmap\":[{\"colorbar\":{\"outlinewidth\":0,\"ticks\":\"\"},\"colorscale\":[[0.0,\"#0d0887\"],[0.1111111111111111,\"#46039f\"],[0.2222222222222222,\"#7201a8\"],[0.3333333333333333,\"#9c179e\"],[0.4444444444444444,\"#bd3786\"],[0.5555555555555556,\"#d8576b\"],[0.6666666666666666,\"#ed7953\"],[0.7777777777777778,\"#fb9f3a\"],[0.8888888888888888,\"#fdca26\"],[1.0,\"#f0f921\"]],\"type\":\"heatmap\"}],\"heatmapgl\":[{\"colorbar\":{\"outlinewidth\":0,\"ticks\":\"\"},\"colorscale\":[[0.0,\"#0d0887\"],[0.1111111111111111,\"#46039f\"],[0.2222222222222222,\"#7201a8\"],[0.3333333333333333,\"#9c179e\"],[0.4444444444444444,\"#bd3786\"],[0.5555555555555556,\"#d8576b\"],[0.6666666666666666,\"#ed7953\"],[0.7777777777777778,\"#fb9f3a\"],[0.8888888888888888,\"#fdca26\"],[1.0,\"#f0f921\"]],\"type\":\"heatmapgl\"}],\"histogram\":[{\"marker\":{\"pattern\":{\"fillmode\":\"overlay\",\"size\":10,\"solidity\":0.2}},\"type\":\"histogram\"}],\"histogram2d\":[{\"colorbar\":{\"outlinewidth\":0,\"ticks\":\"\"},\"colorscale\":[[0.0,\"#0d0887\"],[0.1111111111111111,\"#46039f\"],[0.2222222222222222,\"#7201a8\"],[0.3333333333333333,\"#9c179e\"],[0.4444444444444444,\"#bd3786\"],[0.5555555555555556,\"#d8576b\"],[0.6666666666666666,\"#ed7953\"],[0.7777777777777778,\"#fb9f3a\"],[0.8888888888888888,\"#fdca26\"],[1.0,\"#f0f921\"]],\"type\":\"histogram2d\"}],\"histogram2dcontour\":[{\"colorbar\":{\"outlinewidth\":0,\"ticks\":\"\"},\"colorscale\":[[0.0,\"#0d0887\"],[0.1111111111111111,\"#46039f\"],[0.2222222222222222,\"#7201a8\"],[0.3333333333333333,\"#9c179e\"],[0.4444444444444444,\"#bd3786\"],[0.5555555555555556,\"#d8576b\"],[0.6666666666666666,\"#ed7953\"],[0.7777777777777778,\"#fb9f3a\"],[0.8888888888888888,\"#fdca26\"],[1.0,\"#f0f921\"]],\"type\":\"histogram2dcontour\"}],\"mesh3d\":[{\"colorbar\":{\"outlinewidth\":0,\"ticks\":\"\"},\"type\":\"mesh3d\"}],\"parcoords\":[{\"line\":{\"colorbar\":{\"outlinewidth\":0,\"ticks\":\"\"}},\"type\":\"parcoords\"}],\"pie\":[{\"automargin\":true,\"type\":\"pie\"}],\"scatter\":[{\"marker\":{\"colorbar\":{\"outlinewidth\":0,\"ticks\":\"\"}},\"type\":\"scatter\"}],\"scatter3d\":[{\"line\":{\"colorbar\":{\"outlinewidth\":0,\"ticks\":\"\"}},\"marker\":{\"colorbar\":{\"outlinewidth\":0,\"ticks\":\"\"}},\"type\":\"scatter3d\"}],\"scattercarpet\":[{\"marker\":{\"colorbar\":{\"outlinewidth\":0,\"ticks\":\"\"}},\"type\":\"scattercarpet\"}],\"scattergeo\":[{\"marker\":{\"colorbar\":{\"outlinewidth\":0,\"ticks\":\"\"}},\"type\":\"scattergeo\"}],\"scattergl\":[{\"marker\":{\"colorbar\":{\"outlinewidth\":0,\"ticks\":\"\"}},\"type\":\"scattergl\"}],\"scattermapbox\":[{\"marker\":{\"colorbar\":{\"outlinewidth\":0,\"ticks\":\"\"}},\"type\":\"scattermapbox\"}],\"scatterpolar\":[{\"marker\":{\"colorbar\":{\"outlinewidth\":0,\"ticks\":\"\"}},\"type\":\"scatterpolar\"}],\"scatterpolargl\":[{\"marker\":{\"colorbar\":{\"outlinewidth\":0,\"ticks\":\"\"}},\"type\":\"scatterpolargl\"}],\"scatterternary\":[{\"marker\":{\"colorbar\":{\"outlinewidth\":0,\"ticks\":\"\"}},\"type\":\"scatterternary\"}],\"surface\":[{\"colorbar\":{\"outlinewidth\":0,\"ticks\":\"\"},\"colorscale\":[[0.0,\"#0d0887\"],[0.1111111111111111,\"#46039f\"],[0.2222222222222222,\"#7201a8\"],[0.3333333333333333,\"#9c179e\"],[0.4444444444444444,\"#bd3786\"],[0.5555555555555556,\"#d8576b\"],[0.6666666666666666,\"#ed7953\"],[0.7777777777777778,\"#fb9f3a\"],[0.8888888888888888,\"#fdca26\"],[1.0,\"#f0f921\"]],\"type\":\"surface\"}],\"table\":[{\"cells\":{\"fill\":{\"color\":\"#EBF0F8\"},\"line\":{\"color\":\"white\"}},\"header\":{\"fill\":{\"color\":\"#C8D4E3\"},\"line\":{\"color\":\"white\"}},\"type\":\"table\"}]},\"layout\":{\"annotationdefaults\":{\"arrowcolor\":\"#2a3f5f\",\"arrowhead\":0,\"arrowwidth\":1},\"autotypenumbers\":\"strict\",\"coloraxis\":{\"colorbar\":{\"outlinewidth\":0,\"ticks\":\"\"}},\"colorscale\":{\"diverging\":[[0,\"#8e0152\"],[0.1,\"#c51b7d\"],[0.2,\"#de77ae\"],[0.3,\"#f1b6da\"],[0.4,\"#fde0ef\"],[0.5,\"#f7f7f7\"],[0.6,\"#e6f5d0\"],[0.7,\"#b8e186\"],[0.8,\"#7fbc41\"],[0.9,\"#4d9221\"],[1,\"#276419\"]],\"sequential\":[[0.0,\"#0d0887\"],[0.1111111111111111,\"#46039f\"],[0.2222222222222222,\"#7201a8\"],[0.3333333333333333,\"#9c179e\"],[0.4444444444444444,\"#bd3786\"],[0.5555555555555556,\"#d8576b\"],[0.6666666666666666,\"#ed7953\"],[0.7777777777777778,\"#fb9f3a\"],[0.8888888888888888,\"#fdca26\"],[1.0,\"#f0f921\"]],\"sequentialminus\":[[0.0,\"#0d0887\"],[0.1111111111111111,\"#46039f\"],[0.2222222222222222,\"#7201a8\"],[0.3333333333333333,\"#9c179e\"],[0.4444444444444444,\"#bd3786\"],[0.5555555555555556,\"#d8576b\"],[0.6666666666666666,\"#ed7953\"],[0.7777777777777778,\"#fb9f3a\"],[0.8888888888888888,\"#fdca26\"],[1.0,\"#f0f921\"]]},\"colorway\":[\"#636efa\",\"#EF553B\",\"#00cc96\",\"#ab63fa\",\"#FFA15A\",\"#19d3f3\",\"#FF6692\",\"#B6E880\",\"#FF97FF\",\"#FECB52\"],\"font\":{\"color\":\"#2a3f5f\"},\"geo\":{\"bgcolor\":\"white\",\"lakecolor\":\"white\",\"landcolor\":\"#E5ECF6\",\"showlakes\":true,\"showland\":true,\"subunitcolor\":\"white\"},\"hoverlabel\":{\"align\":\"left\"},\"hovermode\":\"closest\",\"mapbox\":{\"style\":\"light\"},\"paper_bgcolor\":\"white\",\"plot_bgcolor\":\"#E5ECF6\",\"polar\":{\"angularaxis\":{\"gridcolor\":\"white\",\"linecolor\":\"white\",\"ticks\":\"\"},\"bgcolor\":\"#E5ECF6\",\"radialaxis\":{\"gridcolor\":\"white\",\"linecolor\":\"white\",\"ticks\":\"\"}},\"scene\":{\"xaxis\":{\"backgroundcolor\":\"#E5ECF6\",\"gridcolor\":\"white\",\"gridwidth\":2,\"linecolor\":\"white\",\"showbackground\":true,\"ticks\":\"\",\"zerolinecolor\":\"white\"},\"yaxis\":{\"backgroundcolor\":\"#E5ECF6\",\"gridcolor\":\"white\",\"gridwidth\":2,\"linecolor\":\"white\",\"showbackground\":true,\"ticks\":\"\",\"zerolinecolor\":\"white\"},\"zaxis\":{\"backgroundcolor\":\"#E5ECF6\",\"gridcolor\":\"white\",\"gridwidth\":2,\"linecolor\":\"white\",\"showbackground\":true,\"ticks\":\"\",\"zerolinecolor\":\"white\"}},\"shapedefaults\":{\"line\":{\"color\":\"#2a3f5f\"}},\"ternary\":{\"aaxis\":{\"gridcolor\":\"white\",\"linecolor\":\"white\",\"ticks\":\"\"},\"baxis\":{\"gridcolor\":\"white\",\"linecolor\":\"white\",\"ticks\":\"\"},\"bgcolor\":\"#E5ECF6\",\"caxis\":{\"gridcolor\":\"white\",\"linecolor\":\"white\",\"ticks\":\"\"}},\"title\":{\"x\":0.05},\"xaxis\":{\"automargin\":true,\"gridcolor\":\"white\",\"linecolor\":\"white\",\"ticks\":\"\",\"title\":{\"standoff\":15},\"zerolinecolor\":\"white\",\"zerolinewidth\":2},\"yaxis\":{\"automargin\":true,\"gridcolor\":\"white\",\"linecolor\":\"white\",\"ticks\":\"\",\"title\":{\"standoff\":15},\"zerolinecolor\":\"white\",\"zerolinewidth\":2}}},\"xaxis\":{\"anchor\":\"y\",\"domain\":[0.0,1.0],\"title\":{\"text\":\"number\"},\"tickmode\":\"linear\",\"tick0\":0,\"dtick\":50},\"yaxis\":{\"anchor\":\"x\",\"domain\":[0.0,1.0],\"title\":{\"text\":\"year\"},\"tickmode\":\"linear\",\"tick0\":0,\"dtick\":1,\"autorange\":\"reversed\"},\"legend\":{\"title\":{\"text\":\"theme\"},\"tracegroupgap\":0},\"title\":{\"text\":\"Yearly top 10 themes by number of sets\"},\"barmode\":\"relative\",\"height\":1000,\"showlegend\":false},                        {\"responsive\": true}                    ).then(function(){\n",
       "                            \n",
       "var gd = document.getElementById('fb7b2dde-70fa-4f56-b32d-97d3c93bf69f');\n",
       "var x = new MutationObserver(function (mutations, observer) {{\n",
       "        var display = window.getComputedStyle(gd).display;\n",
       "        if (!display || display === 'none') {{\n",
       "            console.log([gd, 'removed!']);\n",
       "            Plotly.purge(gd);\n",
       "            observer.disconnect();\n",
       "        }}\n",
       "}});\n",
       "\n",
       "// Listen for the removal of the full notebook cells\n",
       "var notebookContainer = gd.closest('#notebook-container');\n",
       "if (notebookContainer) {{\n",
       "    x.observe(notebookContainer, {childList: true});\n",
       "}}\n",
       "\n",
       "// Listen for the clearing of the current output cell\n",
       "var outputEl = gd.closest('.output');\n",
       "if (outputEl) {{\n",
       "    x.observe(outputEl, {childList: true});\n",
       "}}\n",
       "\n",
       "                        })                };                });            </script>        </div>"
      ]
     },
     "metadata": {},
     "output_type": "display_data"
    }
   ],
   "source": [
    "fig = px.bar(df_2, x = \"number\",y= \"year\", color = \"theme\", \n",
    "             orientation='h', text = \"theme\", \n",
    "             title = \"Yearly top 10 themes by number of sets\")\n",
    "fig.update_layout(height=1000,showlegend = False,\n",
    "                  yaxis = dict(tickmode = 'linear',tick0 = 0,dtick =1, autorange = \"reversed\"),\n",
    "                  xaxis = dict(tickmode = 'linear',tick0 = 0,dtick = 50))\n",
    "fig.update_traces(textfont_size=12, textangle=0, textposition=\"inside\")"
   ]
  },
  {
   "cell_type": "markdown",
   "id": "0f1821f2",
   "metadata": {},
   "source": [
    "#### What sets where record breakers in terms of piece count?"
   ]
  },
  {
   "cell_type": "code",
   "execution_count": 544,
   "id": "56f85ba9",
   "metadata": {},
   "outputs": [],
   "source": [
    "def create_record_breaker_dataset(df, col):\n",
    "    #Record-winner in 1991\n",
    "    df_winner_1991 = df_sets[df_sets.year == 1991].sort_values(col, ascending = False).head(1)\n",
    "    \n",
    "    mask = df_sets[col].values >= df_winner_1991[col].values[0]\n",
    "    df_winners = df_sets[mask].sort_values(by = [\"year\", \"launch_date\"])\n",
    "    \n",
    "    df_winners[\"cummulative\"] = df_winners[col].cummax()\n",
    "    df_winners.drop_duplicates(subset = \"cummulative\", inplace = True)\n",
    "    df_winners.reset_index(drop = True, inplace = True)\n",
    "    \n",
    "    return df_winners"
   ]
  },
  {
   "cell_type": "code",
   "execution_count": 545,
   "id": "b98ccd87",
   "metadata": {},
   "outputs": [
    {
     "data": {
      "text/html": [
       "<div>\n",
       "<style scoped>\n",
       "    .dataframe tbody tr th:only-of-type {\n",
       "        vertical-align: middle;\n",
       "    }\n",
       "\n",
       "    .dataframe tbody tr th {\n",
       "        vertical-align: top;\n",
       "    }\n",
       "\n",
       "    .dataframe thead th {\n",
       "        text-align: right;\n",
       "    }\n",
       "</style>\n",
       "<table border=\"1\" class=\"dataframe\">\n",
       "  <thead>\n",
       "    <tr style=\"text-align: right;\">\n",
       "      <th></th>\n",
       "      <th>number</th>\n",
       "      <th>theme</th>\n",
       "      <th>subtheme</th>\n",
       "      <th>year</th>\n",
       "      <th>set_name</th>\n",
       "      <th>minifigs</th>\n",
       "      <th>pieces</th>\n",
       "      <th>price</th>\n",
       "      <th>value_new</th>\n",
       "      <th>value_used</th>\n",
       "      <th>launch_date</th>\n",
       "      <th>exit_date</th>\n",
       "      <th>numeric_data_nan</th>\n",
       "      <th>category</th>\n",
       "      <th>cummulative</th>\n",
       "    </tr>\n",
       "  </thead>\n",
       "  <tbody>\n",
       "    <tr>\n",
       "      <th>0</th>\n",
       "      <td>9452-1</td>\n",
       "      <td>Dacta</td>\n",
       "      <td>NaN</td>\n",
       "      <td>1991</td>\n",
       "      <td>Giant LEGO topic set</td>\n",
       "      <td>NaN</td>\n",
       "      <td>2,165.00</td>\n",
       "      <td>NaN</td>\n",
       "      <td>NaN</td>\n",
       "      <td>NaN</td>\n",
       "      <td>NaN</td>\n",
       "      <td>NaN</td>\n",
       "      <td>False</td>\n",
       "      <td>set</td>\n",
       "      <td>2,165.00</td>\n",
       "    </tr>\n",
       "    <tr>\n",
       "      <th>1</th>\n",
       "      <td>9287-1</td>\n",
       "      <td>Education</td>\n",
       "      <td>Town</td>\n",
       "      <td>1996</td>\n",
       "      <td>Bonus Lego Basic Town</td>\n",
       "      <td>11.00</td>\n",
       "      <td>2,456.00</td>\n",
       "      <td>NaN</td>\n",
       "      <td>511.29</td>\n",
       "      <td>NaN</td>\n",
       "      <td>NaN</td>\n",
       "      <td>NaN</td>\n",
       "      <td>False</td>\n",
       "      <td>set</td>\n",
       "      <td>2,456.00</td>\n",
       "    </tr>\n",
       "    <tr>\n",
       "      <th>2</th>\n",
       "      <td>3450-1</td>\n",
       "      <td>Creator Expert</td>\n",
       "      <td>Sculptures</td>\n",
       "      <td>2000</td>\n",
       "      <td>Statue of Liberty</td>\n",
       "      <td>NaN</td>\n",
       "      <td>2,882.00</td>\n",
       "      <td>199.00</td>\n",
       "      <td>200.00</td>\n",
       "      <td>793.69</td>\n",
       "      <td>15/11/2000</td>\n",
       "      <td>31/12/2002</td>\n",
       "      <td>False</td>\n",
       "      <td>set</td>\n",
       "      <td>2,882.00</td>\n",
       "    </tr>\n",
       "    <tr>\n",
       "      <th>3</th>\n",
       "      <td>10030-1</td>\n",
       "      <td>Star Wars</td>\n",
       "      <td>Ultimate Collector Series</td>\n",
       "      <td>2002</td>\n",
       "      <td>Imperial Star Destroyer</td>\n",
       "      <td>NaN</td>\n",
       "      <td>3,096.00</td>\n",
       "      <td>269.99</td>\n",
       "      <td>1,471.58</td>\n",
       "      <td>535.00</td>\n",
       "      <td>06/12/2002</td>\n",
       "      <td>31/12/2007</td>\n",
       "      <td>False</td>\n",
       "      <td>set</td>\n",
       "      <td>3,096.00</td>\n",
       "    </tr>\n",
       "    <tr>\n",
       "      <th>4</th>\n",
       "      <td>10143-1</td>\n",
       "      <td>Star Wars</td>\n",
       "      <td>Ultimate Collector Series</td>\n",
       "      <td>2005</td>\n",
       "      <td>Death Star II</td>\n",
       "      <td>NaN</td>\n",
       "      <td>3,441.00</td>\n",
       "      <td>269.99</td>\n",
       "      <td>2,449.00</td>\n",
       "      <td>1,206.66</td>\n",
       "      <td>01/09/2005</td>\n",
       "      <td>31/12/2007</td>\n",
       "      <td>False</td>\n",
       "      <td>set</td>\n",
       "      <td>3,441.00</td>\n",
       "    </tr>\n",
       "  </tbody>\n",
       "</table>\n",
       "</div>"
      ],
      "text/plain": [
       "    number           theme                   subtheme  year  \\\n",
       "0   9452-1           Dacta                        NaN  1991   \n",
       "1   9287-1       Education                       Town  1996   \n",
       "2   3450-1  Creator Expert                 Sculptures  2000   \n",
       "3  10030-1       Star Wars  Ultimate Collector Series  2002   \n",
       "4  10143-1       Star Wars  Ultimate Collector Series  2005   \n",
       "\n",
       "                  set_name  minifigs   pieces  price  value_new  value_used  \\\n",
       "0     Giant LEGO topic set       NaN 2,165.00    NaN        NaN         NaN   \n",
       "1    Bonus Lego Basic Town     11.00 2,456.00    NaN     511.29         NaN   \n",
       "2        Statue of Liberty       NaN 2,882.00 199.00     200.00      793.69   \n",
       "3  Imperial Star Destroyer       NaN 3,096.00 269.99   1,471.58      535.00   \n",
       "4            Death Star II       NaN 3,441.00 269.99   2,449.00    1,206.66   \n",
       "\n",
       "  launch_date   exit_date  numeric_data_nan category  cummulative  \n",
       "0         NaN         NaN             False      set     2,165.00  \n",
       "1         NaN         NaN             False      set     2,456.00  \n",
       "2  15/11/2000  31/12/2002             False      set     2,882.00  \n",
       "3  06/12/2002  31/12/2007             False      set     3,096.00  \n",
       "4  01/09/2005  31/12/2007             False      set     3,441.00  "
      ]
     },
     "execution_count": 545,
     "metadata": {},
     "output_type": "execute_result"
    }
   ],
   "source": [
    "df_piece_count_winners = create_record_breaker_dataset(df_sets,\"pieces\")\n",
    "df_piece_count_winners.head()"
   ]
  },
  {
   "cell_type": "code",
   "execution_count": 546,
   "id": "3e3d468c",
   "metadata": {},
   "outputs": [],
   "source": [
    "df_piece_count_winners[\"text\"] = df_piece_count_winners[\"set_name\"] +\" \"+ \"(\" + df_piece_count_winners[\"number\"] +\")\""
   ]
  },
  {
   "cell_type": "code",
   "execution_count": 547,
   "id": "99b2a3bf",
   "metadata": {},
   "outputs": [],
   "source": [
    "def make_h_bar_chart(df, x, y, color, text, title):\n",
    "    \n",
    "    fig = px.bar(df, \n",
    "             x=x, y=y, \n",
    "             color = color, orientation='h', text = text,  \n",
    "             title = title,labels = {\"index\":\"year\"})\n",
    "    fig.update_layout(yaxis = dict(tickmode = 'array',tickvals = df.index, ticktext = list(df.year)))\n",
    "    fig.update_layout(xaxis = dict(tickmode = 'linear',tick0 = 0,dtick = 1000))\n",
    "    fig.update_traces(textfont_size=12, textangle=0, textposition=\"inside\")\n",
    "    return fig"
   ]
  },
  {
   "cell_type": "code",
   "execution_count": 548,
   "id": "9372e315",
   "metadata": {},
   "outputs": [
    {
     "data": {
      "application/vnd.plotly.v1+json": {
       "config": {
        "plotlyServerURL": "https://plot.ly"
       },
       "data": [
        {
         "alignmentgroup": "True",
         "hovertemplate": "theme=Dacta<br>pieces=%{x}<br>year=%{y}<br>text=%{text}<extra></extra>",
         "legendgroup": "Dacta",
         "marker": {
          "color": "#636efa",
          "pattern": {
           "shape": ""
          }
         },
         "name": "Dacta",
         "offsetgroup": "Dacta",
         "orientation": "h",
         "showlegend": true,
         "text": [
          "Giant LEGO topic set (9452-1)"
         ],
         "textangle": 0,
         "textfont": {
          "size": 12
         },
         "textposition": "inside",
         "type": "bar",
         "x": [
          2165
         ],
         "xaxis": "x",
         "y": [
          0
         ],
         "yaxis": "y"
        },
        {
         "alignmentgroup": "True",
         "hovertemplate": "theme=Education<br>pieces=%{x}<br>year=%{y}<br>text=%{text}<extra></extra>",
         "legendgroup": "Education",
         "marker": {
          "color": "#EF553B",
          "pattern": {
           "shape": ""
          }
         },
         "name": "Education",
         "offsetgroup": "Education",
         "orientation": "h",
         "showlegend": true,
         "text": [
          "Bonus Lego Basic Town (9287-1)"
         ],
         "textangle": 0,
         "textfont": {
          "size": 12
         },
         "textposition": "inside",
         "type": "bar",
         "x": [
          2456
         ],
         "xaxis": "x",
         "y": [
          1
         ],
         "yaxis": "y"
        },
        {
         "alignmentgroup": "True",
         "hovertemplate": "theme=Creator Expert<br>pieces=%{x}<br>year=%{y}<br>text=%{text}<extra></extra>",
         "legendgroup": "Creator Expert",
         "marker": {
          "color": "#00cc96",
          "pattern": {
           "shape": ""
          }
         },
         "name": "Creator Expert",
         "offsetgroup": "Creator Expert",
         "orientation": "h",
         "showlegend": true,
         "text": [
          "Statue of Liberty (3450-1)",
          "Taj Mahal (10189-1)",
          "Colosseum (10276-1)"
         ],
         "textangle": 0,
         "textfont": {
          "size": 12
         },
         "textposition": "inside",
         "type": "bar",
         "x": [
          2882,
          5922,
          9036
         ],
         "xaxis": "x",
         "y": [
          2,
          6,
          8
         ],
         "yaxis": "y"
        },
        {
         "alignmentgroup": "True",
         "hovertemplate": "theme=Star Wars<br>pieces=%{x}<br>year=%{y}<br>text=%{text}<extra></extra>",
         "legendgroup": "Star Wars",
         "marker": {
          "color": "#ab63fa",
          "pattern": {
           "shape": ""
          }
         },
         "name": "Star Wars",
         "offsetgroup": "Star Wars",
         "orientation": "h",
         "showlegend": true,
         "text": [
          "Imperial Star Destroyer (10030-1)",
          "Death Star II (10143-1)",
          "Ultimate Collector's Millennium Falcon (10179-1)",
          "Millennium Falcon (75192-1)"
         ],
         "textangle": 0,
         "textfont": {
          "size": 12
         },
         "textposition": "inside",
         "type": "bar",
         "x": [
          3096,
          3441,
          5197,
          7541
         ],
         "xaxis": "x",
         "y": [
          3,
          4,
          5,
          7
         ],
         "yaxis": "y"
        },
        {
         "alignmentgroup": "True",
         "hovertemplate": "theme=Art<br>pieces=%{x}<br>year=%{y}<br>text=%{text}<extra></extra>",
         "legendgroup": "Art",
         "marker": {
          "color": "#FFA15A",
          "pattern": {
           "shape": ""
          }
         },
         "name": "Art",
         "offsetgroup": "Art",
         "orientation": "h",
         "showlegend": true,
         "text": [
          "World Map (31203-1)"
         ],
         "textangle": 0,
         "textfont": {
          "size": 12
         },
         "textposition": "inside",
         "type": "bar",
         "x": [
          11695
         ],
         "xaxis": "x",
         "y": [
          9
         ],
         "yaxis": "y"
        }
       ],
       "layout": {
        "barmode": "relative",
        "legend": {
         "title": {
          "text": "theme"
         },
         "tracegroupgap": 0
        },
        "template": {
         "data": {
          "bar": [
           {
            "error_x": {
             "color": "#2a3f5f"
            },
            "error_y": {
             "color": "#2a3f5f"
            },
            "marker": {
             "line": {
              "color": "#E5ECF6",
              "width": 0.5
             },
             "pattern": {
              "fillmode": "overlay",
              "size": 10,
              "solidity": 0.2
             }
            },
            "type": "bar"
           }
          ],
          "barpolar": [
           {
            "marker": {
             "line": {
              "color": "#E5ECF6",
              "width": 0.5
             },
             "pattern": {
              "fillmode": "overlay",
              "size": 10,
              "solidity": 0.2
             }
            },
            "type": "barpolar"
           }
          ],
          "carpet": [
           {
            "aaxis": {
             "endlinecolor": "#2a3f5f",
             "gridcolor": "white",
             "linecolor": "white",
             "minorgridcolor": "white",
             "startlinecolor": "#2a3f5f"
            },
            "baxis": {
             "endlinecolor": "#2a3f5f",
             "gridcolor": "white",
             "linecolor": "white",
             "minorgridcolor": "white",
             "startlinecolor": "#2a3f5f"
            },
            "type": "carpet"
           }
          ],
          "choropleth": [
           {
            "colorbar": {
             "outlinewidth": 0,
             "ticks": ""
            },
            "type": "choropleth"
           }
          ],
          "contour": [
           {
            "colorbar": {
             "outlinewidth": 0,
             "ticks": ""
            },
            "colorscale": [
             [
              0,
              "#0d0887"
             ],
             [
              0.1111111111111111,
              "#46039f"
             ],
             [
              0.2222222222222222,
              "#7201a8"
             ],
             [
              0.3333333333333333,
              "#9c179e"
             ],
             [
              0.4444444444444444,
              "#bd3786"
             ],
             [
              0.5555555555555556,
              "#d8576b"
             ],
             [
              0.6666666666666666,
              "#ed7953"
             ],
             [
              0.7777777777777778,
              "#fb9f3a"
             ],
             [
              0.8888888888888888,
              "#fdca26"
             ],
             [
              1,
              "#f0f921"
             ]
            ],
            "type": "contour"
           }
          ],
          "contourcarpet": [
           {
            "colorbar": {
             "outlinewidth": 0,
             "ticks": ""
            },
            "type": "contourcarpet"
           }
          ],
          "heatmap": [
           {
            "colorbar": {
             "outlinewidth": 0,
             "ticks": ""
            },
            "colorscale": [
             [
              0,
              "#0d0887"
             ],
             [
              0.1111111111111111,
              "#46039f"
             ],
             [
              0.2222222222222222,
              "#7201a8"
             ],
             [
              0.3333333333333333,
              "#9c179e"
             ],
             [
              0.4444444444444444,
              "#bd3786"
             ],
             [
              0.5555555555555556,
              "#d8576b"
             ],
             [
              0.6666666666666666,
              "#ed7953"
             ],
             [
              0.7777777777777778,
              "#fb9f3a"
             ],
             [
              0.8888888888888888,
              "#fdca26"
             ],
             [
              1,
              "#f0f921"
             ]
            ],
            "type": "heatmap"
           }
          ],
          "heatmapgl": [
           {
            "colorbar": {
             "outlinewidth": 0,
             "ticks": ""
            },
            "colorscale": [
             [
              0,
              "#0d0887"
             ],
             [
              0.1111111111111111,
              "#46039f"
             ],
             [
              0.2222222222222222,
              "#7201a8"
             ],
             [
              0.3333333333333333,
              "#9c179e"
             ],
             [
              0.4444444444444444,
              "#bd3786"
             ],
             [
              0.5555555555555556,
              "#d8576b"
             ],
             [
              0.6666666666666666,
              "#ed7953"
             ],
             [
              0.7777777777777778,
              "#fb9f3a"
             ],
             [
              0.8888888888888888,
              "#fdca26"
             ],
             [
              1,
              "#f0f921"
             ]
            ],
            "type": "heatmapgl"
           }
          ],
          "histogram": [
           {
            "marker": {
             "pattern": {
              "fillmode": "overlay",
              "size": 10,
              "solidity": 0.2
             }
            },
            "type": "histogram"
           }
          ],
          "histogram2d": [
           {
            "colorbar": {
             "outlinewidth": 0,
             "ticks": ""
            },
            "colorscale": [
             [
              0,
              "#0d0887"
             ],
             [
              0.1111111111111111,
              "#46039f"
             ],
             [
              0.2222222222222222,
              "#7201a8"
             ],
             [
              0.3333333333333333,
              "#9c179e"
             ],
             [
              0.4444444444444444,
              "#bd3786"
             ],
             [
              0.5555555555555556,
              "#d8576b"
             ],
             [
              0.6666666666666666,
              "#ed7953"
             ],
             [
              0.7777777777777778,
              "#fb9f3a"
             ],
             [
              0.8888888888888888,
              "#fdca26"
             ],
             [
              1,
              "#f0f921"
             ]
            ],
            "type": "histogram2d"
           }
          ],
          "histogram2dcontour": [
           {
            "colorbar": {
             "outlinewidth": 0,
             "ticks": ""
            },
            "colorscale": [
             [
              0,
              "#0d0887"
             ],
             [
              0.1111111111111111,
              "#46039f"
             ],
             [
              0.2222222222222222,
              "#7201a8"
             ],
             [
              0.3333333333333333,
              "#9c179e"
             ],
             [
              0.4444444444444444,
              "#bd3786"
             ],
             [
              0.5555555555555556,
              "#d8576b"
             ],
             [
              0.6666666666666666,
              "#ed7953"
             ],
             [
              0.7777777777777778,
              "#fb9f3a"
             ],
             [
              0.8888888888888888,
              "#fdca26"
             ],
             [
              1,
              "#f0f921"
             ]
            ],
            "type": "histogram2dcontour"
           }
          ],
          "mesh3d": [
           {
            "colorbar": {
             "outlinewidth": 0,
             "ticks": ""
            },
            "type": "mesh3d"
           }
          ],
          "parcoords": [
           {
            "line": {
             "colorbar": {
              "outlinewidth": 0,
              "ticks": ""
             }
            },
            "type": "parcoords"
           }
          ],
          "pie": [
           {
            "automargin": true,
            "type": "pie"
           }
          ],
          "scatter": [
           {
            "marker": {
             "colorbar": {
              "outlinewidth": 0,
              "ticks": ""
             }
            },
            "type": "scatter"
           }
          ],
          "scatter3d": [
           {
            "line": {
             "colorbar": {
              "outlinewidth": 0,
              "ticks": ""
             }
            },
            "marker": {
             "colorbar": {
              "outlinewidth": 0,
              "ticks": ""
             }
            },
            "type": "scatter3d"
           }
          ],
          "scattercarpet": [
           {
            "marker": {
             "colorbar": {
              "outlinewidth": 0,
              "ticks": ""
             }
            },
            "type": "scattercarpet"
           }
          ],
          "scattergeo": [
           {
            "marker": {
             "colorbar": {
              "outlinewidth": 0,
              "ticks": ""
             }
            },
            "type": "scattergeo"
           }
          ],
          "scattergl": [
           {
            "marker": {
             "colorbar": {
              "outlinewidth": 0,
              "ticks": ""
             }
            },
            "type": "scattergl"
           }
          ],
          "scattermapbox": [
           {
            "marker": {
             "colorbar": {
              "outlinewidth": 0,
              "ticks": ""
             }
            },
            "type": "scattermapbox"
           }
          ],
          "scatterpolar": [
           {
            "marker": {
             "colorbar": {
              "outlinewidth": 0,
              "ticks": ""
             }
            },
            "type": "scatterpolar"
           }
          ],
          "scatterpolargl": [
           {
            "marker": {
             "colorbar": {
              "outlinewidth": 0,
              "ticks": ""
             }
            },
            "type": "scatterpolargl"
           }
          ],
          "scatterternary": [
           {
            "marker": {
             "colorbar": {
              "outlinewidth": 0,
              "ticks": ""
             }
            },
            "type": "scatterternary"
           }
          ],
          "surface": [
           {
            "colorbar": {
             "outlinewidth": 0,
             "ticks": ""
            },
            "colorscale": [
             [
              0,
              "#0d0887"
             ],
             [
              0.1111111111111111,
              "#46039f"
             ],
             [
              0.2222222222222222,
              "#7201a8"
             ],
             [
              0.3333333333333333,
              "#9c179e"
             ],
             [
              0.4444444444444444,
              "#bd3786"
             ],
             [
              0.5555555555555556,
              "#d8576b"
             ],
             [
              0.6666666666666666,
              "#ed7953"
             ],
             [
              0.7777777777777778,
              "#fb9f3a"
             ],
             [
              0.8888888888888888,
              "#fdca26"
             ],
             [
              1,
              "#f0f921"
             ]
            ],
            "type": "surface"
           }
          ],
          "table": [
           {
            "cells": {
             "fill": {
              "color": "#EBF0F8"
             },
             "line": {
              "color": "white"
             }
            },
            "header": {
             "fill": {
              "color": "#C8D4E3"
             },
             "line": {
              "color": "white"
             }
            },
            "type": "table"
           }
          ]
         },
         "layout": {
          "annotationdefaults": {
           "arrowcolor": "#2a3f5f",
           "arrowhead": 0,
           "arrowwidth": 1
          },
          "autotypenumbers": "strict",
          "coloraxis": {
           "colorbar": {
            "outlinewidth": 0,
            "ticks": ""
           }
          },
          "colorscale": {
           "diverging": [
            [
             0,
             "#8e0152"
            ],
            [
             0.1,
             "#c51b7d"
            ],
            [
             0.2,
             "#de77ae"
            ],
            [
             0.3,
             "#f1b6da"
            ],
            [
             0.4,
             "#fde0ef"
            ],
            [
             0.5,
             "#f7f7f7"
            ],
            [
             0.6,
             "#e6f5d0"
            ],
            [
             0.7,
             "#b8e186"
            ],
            [
             0.8,
             "#7fbc41"
            ],
            [
             0.9,
             "#4d9221"
            ],
            [
             1,
             "#276419"
            ]
           ],
           "sequential": [
            [
             0,
             "#0d0887"
            ],
            [
             0.1111111111111111,
             "#46039f"
            ],
            [
             0.2222222222222222,
             "#7201a8"
            ],
            [
             0.3333333333333333,
             "#9c179e"
            ],
            [
             0.4444444444444444,
             "#bd3786"
            ],
            [
             0.5555555555555556,
             "#d8576b"
            ],
            [
             0.6666666666666666,
             "#ed7953"
            ],
            [
             0.7777777777777778,
             "#fb9f3a"
            ],
            [
             0.8888888888888888,
             "#fdca26"
            ],
            [
             1,
             "#f0f921"
            ]
           ],
           "sequentialminus": [
            [
             0,
             "#0d0887"
            ],
            [
             0.1111111111111111,
             "#46039f"
            ],
            [
             0.2222222222222222,
             "#7201a8"
            ],
            [
             0.3333333333333333,
             "#9c179e"
            ],
            [
             0.4444444444444444,
             "#bd3786"
            ],
            [
             0.5555555555555556,
             "#d8576b"
            ],
            [
             0.6666666666666666,
             "#ed7953"
            ],
            [
             0.7777777777777778,
             "#fb9f3a"
            ],
            [
             0.8888888888888888,
             "#fdca26"
            ],
            [
             1,
             "#f0f921"
            ]
           ]
          },
          "colorway": [
           "#636efa",
           "#EF553B",
           "#00cc96",
           "#ab63fa",
           "#FFA15A",
           "#19d3f3",
           "#FF6692",
           "#B6E880",
           "#FF97FF",
           "#FECB52"
          ],
          "font": {
           "color": "#2a3f5f"
          },
          "geo": {
           "bgcolor": "white",
           "lakecolor": "white",
           "landcolor": "#E5ECF6",
           "showlakes": true,
           "showland": true,
           "subunitcolor": "white"
          },
          "hoverlabel": {
           "align": "left"
          },
          "hovermode": "closest",
          "mapbox": {
           "style": "light"
          },
          "paper_bgcolor": "white",
          "plot_bgcolor": "#E5ECF6",
          "polar": {
           "angularaxis": {
            "gridcolor": "white",
            "linecolor": "white",
            "ticks": ""
           },
           "bgcolor": "#E5ECF6",
           "radialaxis": {
            "gridcolor": "white",
            "linecolor": "white",
            "ticks": ""
           }
          },
          "scene": {
           "xaxis": {
            "backgroundcolor": "#E5ECF6",
            "gridcolor": "white",
            "gridwidth": 2,
            "linecolor": "white",
            "showbackground": true,
            "ticks": "",
            "zerolinecolor": "white"
           },
           "yaxis": {
            "backgroundcolor": "#E5ECF6",
            "gridcolor": "white",
            "gridwidth": 2,
            "linecolor": "white",
            "showbackground": true,
            "ticks": "",
            "zerolinecolor": "white"
           },
           "zaxis": {
            "backgroundcolor": "#E5ECF6",
            "gridcolor": "white",
            "gridwidth": 2,
            "linecolor": "white",
            "showbackground": true,
            "ticks": "",
            "zerolinecolor": "white"
           }
          },
          "shapedefaults": {
           "line": {
            "color": "#2a3f5f"
           }
          },
          "ternary": {
           "aaxis": {
            "gridcolor": "white",
            "linecolor": "white",
            "ticks": ""
           },
           "baxis": {
            "gridcolor": "white",
            "linecolor": "white",
            "ticks": ""
           },
           "bgcolor": "#E5ECF6",
           "caxis": {
            "gridcolor": "white",
            "linecolor": "white",
            "ticks": ""
           }
          },
          "title": {
           "x": 0.05
          },
          "xaxis": {
           "automargin": true,
           "gridcolor": "white",
           "linecolor": "white",
           "ticks": "",
           "title": {
            "standoff": 15
           },
           "zerolinecolor": "white",
           "zerolinewidth": 2
          },
          "yaxis": {
           "automargin": true,
           "gridcolor": "white",
           "linecolor": "white",
           "ticks": "",
           "title": {
            "standoff": 15
           },
           "zerolinecolor": "white",
           "zerolinewidth": 2
          }
         }
        },
        "title": {
         "text": "Record breaking sets by piece count"
        },
        "xaxis": {
         "anchor": "y",
         "domain": [
          0,
          1
         ],
         "dtick": 1000,
         "tick0": 0,
         "tickmode": "linear",
         "title": {
          "text": "pieces"
         }
        },
        "yaxis": {
         "anchor": "x",
         "domain": [
          0,
          1
         ],
         "tickmode": "array",
         "ticktext": [
          1991,
          1996,
          2000,
          2002,
          2005,
          2007,
          2008,
          2017,
          2020,
          2021
         ],
         "tickvals": [
          0,
          1,
          2,
          3,
          4,
          5,
          6,
          7,
          8,
          9
         ],
         "title": {
          "text": "year"
         }
        }
       }
      },
      "text/html": [
       "<div>                            <div id=\"bf8546d2-dc60-455f-8aa0-01294298a2b1\" class=\"plotly-graph-div\" style=\"height:525px; width:100%;\"></div>            <script type=\"text/javascript\">                require([\"plotly\"], function(Plotly) {                    window.PLOTLYENV=window.PLOTLYENV || {};                                    if (document.getElementById(\"bf8546d2-dc60-455f-8aa0-01294298a2b1\")) {                    Plotly.newPlot(                        \"bf8546d2-dc60-455f-8aa0-01294298a2b1\",                        [{\"alignmentgroup\":\"True\",\"hovertemplate\":\"theme=Dacta<br>pieces=%{x}<br>year=%{y}<br>text=%{text}<extra></extra>\",\"legendgroup\":\"Dacta\",\"marker\":{\"color\":\"#636efa\",\"pattern\":{\"shape\":\"\"}},\"name\":\"Dacta\",\"offsetgroup\":\"Dacta\",\"orientation\":\"h\",\"showlegend\":true,\"text\":[\"Giant LEGO topic set (9452-1)\"],\"textposition\":\"inside\",\"x\":[2165.0],\"xaxis\":\"x\",\"y\":[0],\"yaxis\":\"y\",\"type\":\"bar\",\"textfont\":{\"size\":12},\"textangle\":0},{\"alignmentgroup\":\"True\",\"hovertemplate\":\"theme=Education<br>pieces=%{x}<br>year=%{y}<br>text=%{text}<extra></extra>\",\"legendgroup\":\"Education\",\"marker\":{\"color\":\"#EF553B\",\"pattern\":{\"shape\":\"\"}},\"name\":\"Education\",\"offsetgroup\":\"Education\",\"orientation\":\"h\",\"showlegend\":true,\"text\":[\"Bonus Lego Basic Town (9287-1)\"],\"textposition\":\"inside\",\"x\":[2456.0],\"xaxis\":\"x\",\"y\":[1],\"yaxis\":\"y\",\"type\":\"bar\",\"textfont\":{\"size\":12},\"textangle\":0},{\"alignmentgroup\":\"True\",\"hovertemplate\":\"theme=Creator Expert<br>pieces=%{x}<br>year=%{y}<br>text=%{text}<extra></extra>\",\"legendgroup\":\"Creator Expert\",\"marker\":{\"color\":\"#00cc96\",\"pattern\":{\"shape\":\"\"}},\"name\":\"Creator Expert\",\"offsetgroup\":\"Creator Expert\",\"orientation\":\"h\",\"showlegend\":true,\"text\":[\"Statue of Liberty (3450-1)\",\"Taj Mahal (10189-1)\",\"Colosseum (10276-1)\"],\"textposition\":\"inside\",\"x\":[2882.0,5922.0,9036.0],\"xaxis\":\"x\",\"y\":[2,6,8],\"yaxis\":\"y\",\"type\":\"bar\",\"textfont\":{\"size\":12},\"textangle\":0},{\"alignmentgroup\":\"True\",\"hovertemplate\":\"theme=Star Wars<br>pieces=%{x}<br>year=%{y}<br>text=%{text}<extra></extra>\",\"legendgroup\":\"Star Wars\",\"marker\":{\"color\":\"#ab63fa\",\"pattern\":{\"shape\":\"\"}},\"name\":\"Star Wars\",\"offsetgroup\":\"Star Wars\",\"orientation\":\"h\",\"showlegend\":true,\"text\":[\"Imperial Star Destroyer (10030-1)\",\"Death Star II (10143-1)\",\"Ultimate Collector's Millennium Falcon (10179-1)\",\"Millennium Falcon (75192-1)\"],\"textposition\":\"inside\",\"x\":[3096.0,3441.0,5197.0,7541.0],\"xaxis\":\"x\",\"y\":[3,4,5,7],\"yaxis\":\"y\",\"type\":\"bar\",\"textfont\":{\"size\":12},\"textangle\":0},{\"alignmentgroup\":\"True\",\"hovertemplate\":\"theme=Art<br>pieces=%{x}<br>year=%{y}<br>text=%{text}<extra></extra>\",\"legendgroup\":\"Art\",\"marker\":{\"color\":\"#FFA15A\",\"pattern\":{\"shape\":\"\"}},\"name\":\"Art\",\"offsetgroup\":\"Art\",\"orientation\":\"h\",\"showlegend\":true,\"text\":[\"World Map (31203-1)\"],\"textposition\":\"inside\",\"x\":[11695.0],\"xaxis\":\"x\",\"y\":[9],\"yaxis\":\"y\",\"type\":\"bar\",\"textfont\":{\"size\":12},\"textangle\":0}],                        {\"template\":{\"data\":{\"bar\":[{\"error_x\":{\"color\":\"#2a3f5f\"},\"error_y\":{\"color\":\"#2a3f5f\"},\"marker\":{\"line\":{\"color\":\"#E5ECF6\",\"width\":0.5},\"pattern\":{\"fillmode\":\"overlay\",\"size\":10,\"solidity\":0.2}},\"type\":\"bar\"}],\"barpolar\":[{\"marker\":{\"line\":{\"color\":\"#E5ECF6\",\"width\":0.5},\"pattern\":{\"fillmode\":\"overlay\",\"size\":10,\"solidity\":0.2}},\"type\":\"barpolar\"}],\"carpet\":[{\"aaxis\":{\"endlinecolor\":\"#2a3f5f\",\"gridcolor\":\"white\",\"linecolor\":\"white\",\"minorgridcolor\":\"white\",\"startlinecolor\":\"#2a3f5f\"},\"baxis\":{\"endlinecolor\":\"#2a3f5f\",\"gridcolor\":\"white\",\"linecolor\":\"white\",\"minorgridcolor\":\"white\",\"startlinecolor\":\"#2a3f5f\"},\"type\":\"carpet\"}],\"choropleth\":[{\"colorbar\":{\"outlinewidth\":0,\"ticks\":\"\"},\"type\":\"choropleth\"}],\"contour\":[{\"colorbar\":{\"outlinewidth\":0,\"ticks\":\"\"},\"colorscale\":[[0.0,\"#0d0887\"],[0.1111111111111111,\"#46039f\"],[0.2222222222222222,\"#7201a8\"],[0.3333333333333333,\"#9c179e\"],[0.4444444444444444,\"#bd3786\"],[0.5555555555555556,\"#d8576b\"],[0.6666666666666666,\"#ed7953\"],[0.7777777777777778,\"#fb9f3a\"],[0.8888888888888888,\"#fdca26\"],[1.0,\"#f0f921\"]],\"type\":\"contour\"}],\"contourcarpet\":[{\"colorbar\":{\"outlinewidth\":0,\"ticks\":\"\"},\"type\":\"contourcarpet\"}],\"heatmap\":[{\"colorbar\":{\"outlinewidth\":0,\"ticks\":\"\"},\"colorscale\":[[0.0,\"#0d0887\"],[0.1111111111111111,\"#46039f\"],[0.2222222222222222,\"#7201a8\"],[0.3333333333333333,\"#9c179e\"],[0.4444444444444444,\"#bd3786\"],[0.5555555555555556,\"#d8576b\"],[0.6666666666666666,\"#ed7953\"],[0.7777777777777778,\"#fb9f3a\"],[0.8888888888888888,\"#fdca26\"],[1.0,\"#f0f921\"]],\"type\":\"heatmap\"}],\"heatmapgl\":[{\"colorbar\":{\"outlinewidth\":0,\"ticks\":\"\"},\"colorscale\":[[0.0,\"#0d0887\"],[0.1111111111111111,\"#46039f\"],[0.2222222222222222,\"#7201a8\"],[0.3333333333333333,\"#9c179e\"],[0.4444444444444444,\"#bd3786\"],[0.5555555555555556,\"#d8576b\"],[0.6666666666666666,\"#ed7953\"],[0.7777777777777778,\"#fb9f3a\"],[0.8888888888888888,\"#fdca26\"],[1.0,\"#f0f921\"]],\"type\":\"heatmapgl\"}],\"histogram\":[{\"marker\":{\"pattern\":{\"fillmode\":\"overlay\",\"size\":10,\"solidity\":0.2}},\"type\":\"histogram\"}],\"histogram2d\":[{\"colorbar\":{\"outlinewidth\":0,\"ticks\":\"\"},\"colorscale\":[[0.0,\"#0d0887\"],[0.1111111111111111,\"#46039f\"],[0.2222222222222222,\"#7201a8\"],[0.3333333333333333,\"#9c179e\"],[0.4444444444444444,\"#bd3786\"],[0.5555555555555556,\"#d8576b\"],[0.6666666666666666,\"#ed7953\"],[0.7777777777777778,\"#fb9f3a\"],[0.8888888888888888,\"#fdca26\"],[1.0,\"#f0f921\"]],\"type\":\"histogram2d\"}],\"histogram2dcontour\":[{\"colorbar\":{\"outlinewidth\":0,\"ticks\":\"\"},\"colorscale\":[[0.0,\"#0d0887\"],[0.1111111111111111,\"#46039f\"],[0.2222222222222222,\"#7201a8\"],[0.3333333333333333,\"#9c179e\"],[0.4444444444444444,\"#bd3786\"],[0.5555555555555556,\"#d8576b\"],[0.6666666666666666,\"#ed7953\"],[0.7777777777777778,\"#fb9f3a\"],[0.8888888888888888,\"#fdca26\"],[1.0,\"#f0f921\"]],\"type\":\"histogram2dcontour\"}],\"mesh3d\":[{\"colorbar\":{\"outlinewidth\":0,\"ticks\":\"\"},\"type\":\"mesh3d\"}],\"parcoords\":[{\"line\":{\"colorbar\":{\"outlinewidth\":0,\"ticks\":\"\"}},\"type\":\"parcoords\"}],\"pie\":[{\"automargin\":true,\"type\":\"pie\"}],\"scatter\":[{\"marker\":{\"colorbar\":{\"outlinewidth\":0,\"ticks\":\"\"}},\"type\":\"scatter\"}],\"scatter3d\":[{\"line\":{\"colorbar\":{\"outlinewidth\":0,\"ticks\":\"\"}},\"marker\":{\"colorbar\":{\"outlinewidth\":0,\"ticks\":\"\"}},\"type\":\"scatter3d\"}],\"scattercarpet\":[{\"marker\":{\"colorbar\":{\"outlinewidth\":0,\"ticks\":\"\"}},\"type\":\"scattercarpet\"}],\"scattergeo\":[{\"marker\":{\"colorbar\":{\"outlinewidth\":0,\"ticks\":\"\"}},\"type\":\"scattergeo\"}],\"scattergl\":[{\"marker\":{\"colorbar\":{\"outlinewidth\":0,\"ticks\":\"\"}},\"type\":\"scattergl\"}],\"scattermapbox\":[{\"marker\":{\"colorbar\":{\"outlinewidth\":0,\"ticks\":\"\"}},\"type\":\"scattermapbox\"}],\"scatterpolar\":[{\"marker\":{\"colorbar\":{\"outlinewidth\":0,\"ticks\":\"\"}},\"type\":\"scatterpolar\"}],\"scatterpolargl\":[{\"marker\":{\"colorbar\":{\"outlinewidth\":0,\"ticks\":\"\"}},\"type\":\"scatterpolargl\"}],\"scatterternary\":[{\"marker\":{\"colorbar\":{\"outlinewidth\":0,\"ticks\":\"\"}},\"type\":\"scatterternary\"}],\"surface\":[{\"colorbar\":{\"outlinewidth\":0,\"ticks\":\"\"},\"colorscale\":[[0.0,\"#0d0887\"],[0.1111111111111111,\"#46039f\"],[0.2222222222222222,\"#7201a8\"],[0.3333333333333333,\"#9c179e\"],[0.4444444444444444,\"#bd3786\"],[0.5555555555555556,\"#d8576b\"],[0.6666666666666666,\"#ed7953\"],[0.7777777777777778,\"#fb9f3a\"],[0.8888888888888888,\"#fdca26\"],[1.0,\"#f0f921\"]],\"type\":\"surface\"}],\"table\":[{\"cells\":{\"fill\":{\"color\":\"#EBF0F8\"},\"line\":{\"color\":\"white\"}},\"header\":{\"fill\":{\"color\":\"#C8D4E3\"},\"line\":{\"color\":\"white\"}},\"type\":\"table\"}]},\"layout\":{\"annotationdefaults\":{\"arrowcolor\":\"#2a3f5f\",\"arrowhead\":0,\"arrowwidth\":1},\"autotypenumbers\":\"strict\",\"coloraxis\":{\"colorbar\":{\"outlinewidth\":0,\"ticks\":\"\"}},\"colorscale\":{\"diverging\":[[0,\"#8e0152\"],[0.1,\"#c51b7d\"],[0.2,\"#de77ae\"],[0.3,\"#f1b6da\"],[0.4,\"#fde0ef\"],[0.5,\"#f7f7f7\"],[0.6,\"#e6f5d0\"],[0.7,\"#b8e186\"],[0.8,\"#7fbc41\"],[0.9,\"#4d9221\"],[1,\"#276419\"]],\"sequential\":[[0.0,\"#0d0887\"],[0.1111111111111111,\"#46039f\"],[0.2222222222222222,\"#7201a8\"],[0.3333333333333333,\"#9c179e\"],[0.4444444444444444,\"#bd3786\"],[0.5555555555555556,\"#d8576b\"],[0.6666666666666666,\"#ed7953\"],[0.7777777777777778,\"#fb9f3a\"],[0.8888888888888888,\"#fdca26\"],[1.0,\"#f0f921\"]],\"sequentialminus\":[[0.0,\"#0d0887\"],[0.1111111111111111,\"#46039f\"],[0.2222222222222222,\"#7201a8\"],[0.3333333333333333,\"#9c179e\"],[0.4444444444444444,\"#bd3786\"],[0.5555555555555556,\"#d8576b\"],[0.6666666666666666,\"#ed7953\"],[0.7777777777777778,\"#fb9f3a\"],[0.8888888888888888,\"#fdca26\"],[1.0,\"#f0f921\"]]},\"colorway\":[\"#636efa\",\"#EF553B\",\"#00cc96\",\"#ab63fa\",\"#FFA15A\",\"#19d3f3\",\"#FF6692\",\"#B6E880\",\"#FF97FF\",\"#FECB52\"],\"font\":{\"color\":\"#2a3f5f\"},\"geo\":{\"bgcolor\":\"white\",\"lakecolor\":\"white\",\"landcolor\":\"#E5ECF6\",\"showlakes\":true,\"showland\":true,\"subunitcolor\":\"white\"},\"hoverlabel\":{\"align\":\"left\"},\"hovermode\":\"closest\",\"mapbox\":{\"style\":\"light\"},\"paper_bgcolor\":\"white\",\"plot_bgcolor\":\"#E5ECF6\",\"polar\":{\"angularaxis\":{\"gridcolor\":\"white\",\"linecolor\":\"white\",\"ticks\":\"\"},\"bgcolor\":\"#E5ECF6\",\"radialaxis\":{\"gridcolor\":\"white\",\"linecolor\":\"white\",\"ticks\":\"\"}},\"scene\":{\"xaxis\":{\"backgroundcolor\":\"#E5ECF6\",\"gridcolor\":\"white\",\"gridwidth\":2,\"linecolor\":\"white\",\"showbackground\":true,\"ticks\":\"\",\"zerolinecolor\":\"white\"},\"yaxis\":{\"backgroundcolor\":\"#E5ECF6\",\"gridcolor\":\"white\",\"gridwidth\":2,\"linecolor\":\"white\",\"showbackground\":true,\"ticks\":\"\",\"zerolinecolor\":\"white\"},\"zaxis\":{\"backgroundcolor\":\"#E5ECF6\",\"gridcolor\":\"white\",\"gridwidth\":2,\"linecolor\":\"white\",\"showbackground\":true,\"ticks\":\"\",\"zerolinecolor\":\"white\"}},\"shapedefaults\":{\"line\":{\"color\":\"#2a3f5f\"}},\"ternary\":{\"aaxis\":{\"gridcolor\":\"white\",\"linecolor\":\"white\",\"ticks\":\"\"},\"baxis\":{\"gridcolor\":\"white\",\"linecolor\":\"white\",\"ticks\":\"\"},\"bgcolor\":\"#E5ECF6\",\"caxis\":{\"gridcolor\":\"white\",\"linecolor\":\"white\",\"ticks\":\"\"}},\"title\":{\"x\":0.05},\"xaxis\":{\"automargin\":true,\"gridcolor\":\"white\",\"linecolor\":\"white\",\"ticks\":\"\",\"title\":{\"standoff\":15},\"zerolinecolor\":\"white\",\"zerolinewidth\":2},\"yaxis\":{\"automargin\":true,\"gridcolor\":\"white\",\"linecolor\":\"white\",\"ticks\":\"\",\"title\":{\"standoff\":15},\"zerolinecolor\":\"white\",\"zerolinewidth\":2}}},\"xaxis\":{\"anchor\":\"y\",\"domain\":[0.0,1.0],\"title\":{\"text\":\"pieces\"},\"tickmode\":\"linear\",\"tick0\":0,\"dtick\":1000},\"yaxis\":{\"anchor\":\"x\",\"domain\":[0.0,1.0],\"title\":{\"text\":\"year\"},\"tickmode\":\"array\",\"tickvals\":[0,1,2,3,4,5,6,7,8,9],\"ticktext\":[1991,1996,2000,2002,2005,2007,2008,2017,2020,2021]},\"legend\":{\"title\":{\"text\":\"theme\"},\"tracegroupgap\":0},\"title\":{\"text\":\"Record breaking sets by piece count\"},\"barmode\":\"relative\"},                        {\"responsive\": true}                    ).then(function(){\n",
       "                            \n",
       "var gd = document.getElementById('bf8546d2-dc60-455f-8aa0-01294298a2b1');\n",
       "var x = new MutationObserver(function (mutations, observer) {{\n",
       "        var display = window.getComputedStyle(gd).display;\n",
       "        if (!display || display === 'none') {{\n",
       "            console.log([gd, 'removed!']);\n",
       "            Plotly.purge(gd);\n",
       "            observer.disconnect();\n",
       "        }}\n",
       "}});\n",
       "\n",
       "// Listen for the removal of the full notebook cells\n",
       "var notebookContainer = gd.closest('#notebook-container');\n",
       "if (notebookContainer) {{\n",
       "    x.observe(notebookContainer, {childList: true});\n",
       "}}\n",
       "\n",
       "// Listen for the clearing of the current output cell\n",
       "var outputEl = gd.closest('.output');\n",
       "if (outputEl) {{\n",
       "    x.observe(outputEl, {childList: true});\n",
       "}}\n",
       "\n",
       "                        })                };                });            </script>        </div>"
      ]
     },
     "metadata": {},
     "output_type": "display_data"
    }
   ],
   "source": [
    "fig = make_h_bar_chart(df_piece_count_winners, \"pieces\",df_piece_count_winners.index, \"theme\",\n",
    "                 \"text\", \"Record breaking sets by piece count\")\n",
    "\n",
    "fig.show()"
   ]
  },
  {
   "cell_type": "markdown",
   "id": "5851c934",
   "metadata": {},
   "source": [
    "#### What sets where record breakers in terms of piece count?\n"
   ]
  },
  {
   "cell_type": "code",
   "execution_count": 549,
   "id": "226c6375",
   "metadata": {},
   "outputs": [
    {
     "data": {
      "text/html": [
       "<div>\n",
       "<style scoped>\n",
       "    .dataframe tbody tr th:only-of-type {\n",
       "        vertical-align: middle;\n",
       "    }\n",
       "\n",
       "    .dataframe tbody tr th {\n",
       "        vertical-align: top;\n",
       "    }\n",
       "\n",
       "    .dataframe thead th {\n",
       "        text-align: right;\n",
       "    }\n",
       "</style>\n",
       "<table border=\"1\" class=\"dataframe\">\n",
       "  <thead>\n",
       "    <tr style=\"text-align: right;\">\n",
       "      <th></th>\n",
       "      <th>number</th>\n",
       "      <th>theme</th>\n",
       "      <th>subtheme</th>\n",
       "      <th>year</th>\n",
       "      <th>set_name</th>\n",
       "      <th>minifigs</th>\n",
       "      <th>pieces</th>\n",
       "      <th>price</th>\n",
       "      <th>value_new</th>\n",
       "      <th>value_used</th>\n",
       "      <th>launch_date</th>\n",
       "      <th>exit_date</th>\n",
       "      <th>numeric_data_nan</th>\n",
       "      <th>category</th>\n",
       "      <th>cummulative</th>\n",
       "    </tr>\n",
       "  </thead>\n",
       "  <tbody>\n",
       "    <tr>\n",
       "      <th>0</th>\n",
       "      <td>9361-1</td>\n",
       "      <td>Dacta</td>\n",
       "      <td>NaN</td>\n",
       "      <td>1991</td>\n",
       "      <td>People</td>\n",
       "      <td>24.00</td>\n",
       "      <td>36.00</td>\n",
       "      <td>NaN</td>\n",
       "      <td>150.00</td>\n",
       "      <td>NaN</td>\n",
       "      <td>NaN</td>\n",
       "      <td>NaN</td>\n",
       "      <td>False</td>\n",
       "      <td>set</td>\n",
       "      <td>24.00</td>\n",
       "    </tr>\n",
       "    <tr>\n",
       "      <th>1</th>\n",
       "      <td>9293-1</td>\n",
       "      <td>Dacta</td>\n",
       "      <td>NaN</td>\n",
       "      <td>1996</td>\n",
       "      <td>Community Workers</td>\n",
       "      <td>30.00</td>\n",
       "      <td>182.00</td>\n",
       "      <td>31.50</td>\n",
       "      <td>83.00</td>\n",
       "      <td>69.00</td>\n",
       "      <td>NaN</td>\n",
       "      <td>NaN</td>\n",
       "      <td>False</td>\n",
       "      <td>set</td>\n",
       "      <td>30.00</td>\n",
       "    </tr>\n",
       "    <tr>\n",
       "      <th>2</th>\n",
       "      <td>9247-1</td>\n",
       "      <td>Education</td>\n",
       "      <td>NaN</td>\n",
       "      <td>2005</td>\n",
       "      <td>Community Workers</td>\n",
       "      <td>31.00</td>\n",
       "      <td>202.00</td>\n",
       "      <td>49.99</td>\n",
       "      <td>138.20</td>\n",
       "      <td>46.34</td>\n",
       "      <td>NaN</td>\n",
       "      <td>NaN</td>\n",
       "      <td>False</td>\n",
       "      <td>set</td>\n",
       "      <td>31.00</td>\n",
       "    </tr>\n",
       "    <tr>\n",
       "      <th>3</th>\n",
       "      <td>852293-1</td>\n",
       "      <td>Gear</td>\n",
       "      <td>Board Games</td>\n",
       "      <td>2008</td>\n",
       "      <td>Castle Giant Chess Set</td>\n",
       "      <td>33.00</td>\n",
       "      <td>2,292.00</td>\n",
       "      <td>199.99</td>\n",
       "      <td>NaN</td>\n",
       "      <td>NaN</td>\n",
       "      <td>NaN</td>\n",
       "      <td>NaN</td>\n",
       "      <td>False</td>\n",
       "      <td>set</td>\n",
       "      <td>33.00</td>\n",
       "    </tr>\n",
       "  </tbody>\n",
       "</table>\n",
       "</div>"
      ],
      "text/plain": [
       "     number      theme     subtheme  year                set_name  minifigs  \\\n",
       "0    9361-1      Dacta          NaN  1991                  People     24.00   \n",
       "1    9293-1      Dacta          NaN  1996       Community Workers     30.00   \n",
       "2    9247-1  Education          NaN  2005       Community Workers     31.00   \n",
       "3  852293-1       Gear  Board Games  2008  Castle Giant Chess Set     33.00   \n",
       "\n",
       "    pieces  price  value_new  value_used launch_date exit_date  \\\n",
       "0    36.00    NaN     150.00         NaN         NaN       NaN   \n",
       "1   182.00  31.50      83.00       69.00         NaN       NaN   \n",
       "2   202.00  49.99     138.20       46.34         NaN       NaN   \n",
       "3 2,292.00 199.99        NaN         NaN         NaN       NaN   \n",
       "\n",
       "   numeric_data_nan category  cummulative  \n",
       "0             False      set        24.00  \n",
       "1             False      set        30.00  \n",
       "2             False      set        31.00  \n",
       "3             False      set        33.00  "
      ]
     },
     "execution_count": 549,
     "metadata": {},
     "output_type": "execute_result"
    }
   ],
   "source": [
    "df_minifig_winners = create_record_breaker_dataset(df_sets,\"minifigs\")\n",
    "df_minifig_winners.head()"
   ]
  },
  {
   "cell_type": "code",
   "execution_count": 550,
   "id": "9d6c7f2a",
   "metadata": {},
   "outputs": [
    {
     "data": {
      "application/vnd.plotly.v1+json": {
       "config": {
        "plotlyServerURL": "https://plot.ly"
       },
       "data": [
        {
         "alignmentgroup": "True",
         "hovertemplate": "theme=Dacta<br>minifigs=%{x}<br>year=%{y}<br>set_name=%{text}<extra></extra>",
         "legendgroup": "Dacta",
         "marker": {
          "color": "#636efa",
          "pattern": {
           "shape": ""
          }
         },
         "name": "Dacta",
         "offsetgroup": "Dacta",
         "orientation": "h",
         "showlegend": true,
         "text": [
          "People",
          "Community Workers"
         ],
         "textangle": 0,
         "textfont": {
          "size": 12
         },
         "textposition": "inside",
         "type": "bar",
         "x": [
          24,
          30
         ],
         "xaxis": "x",
         "y": [
          0,
          1
         ],
         "yaxis": "y"
        },
        {
         "alignmentgroup": "True",
         "hovertemplate": "theme=Education<br>minifigs=%{x}<br>year=%{y}<br>set_name=%{text}<extra></extra>",
         "legendgroup": "Education",
         "marker": {
          "color": "#EF553B",
          "pattern": {
           "shape": ""
          }
         },
         "name": "Education",
         "offsetgroup": "Education",
         "orientation": "h",
         "showlegend": true,
         "text": [
          "Community Workers"
         ],
         "textangle": 0,
         "textfont": {
          "size": 12
         },
         "textposition": "inside",
         "type": "bar",
         "x": [
          31
         ],
         "xaxis": "x",
         "y": [
          2
         ],
         "yaxis": "y"
        },
        {
         "alignmentgroup": "True",
         "hovertemplate": "theme=Gear<br>minifigs=%{x}<br>year=%{y}<br>set_name=%{text}<extra></extra>",
         "legendgroup": "Gear",
         "marker": {
          "color": "#00cc96",
          "pattern": {
           "shape": ""
          }
         },
         "name": "Gear",
         "offsetgroup": "Gear",
         "orientation": "h",
         "showlegend": true,
         "text": [
          "Castle Giant Chess Set"
         ],
         "textangle": 0,
         "textfont": {
          "size": 12
         },
         "textposition": "inside",
         "type": "bar",
         "x": [
          33
         ],
         "xaxis": "x",
         "y": [
          3
         ],
         "yaxis": "y"
        }
       ],
       "layout": {
        "barmode": "relative",
        "legend": {
         "title": {
          "text": "theme"
         },
         "tracegroupgap": 0
        },
        "template": {
         "data": {
          "bar": [
           {
            "error_x": {
             "color": "#2a3f5f"
            },
            "error_y": {
             "color": "#2a3f5f"
            },
            "marker": {
             "line": {
              "color": "#E5ECF6",
              "width": 0.5
             },
             "pattern": {
              "fillmode": "overlay",
              "size": 10,
              "solidity": 0.2
             }
            },
            "type": "bar"
           }
          ],
          "barpolar": [
           {
            "marker": {
             "line": {
              "color": "#E5ECF6",
              "width": 0.5
             },
             "pattern": {
              "fillmode": "overlay",
              "size": 10,
              "solidity": 0.2
             }
            },
            "type": "barpolar"
           }
          ],
          "carpet": [
           {
            "aaxis": {
             "endlinecolor": "#2a3f5f",
             "gridcolor": "white",
             "linecolor": "white",
             "minorgridcolor": "white",
             "startlinecolor": "#2a3f5f"
            },
            "baxis": {
             "endlinecolor": "#2a3f5f",
             "gridcolor": "white",
             "linecolor": "white",
             "minorgridcolor": "white",
             "startlinecolor": "#2a3f5f"
            },
            "type": "carpet"
           }
          ],
          "choropleth": [
           {
            "colorbar": {
             "outlinewidth": 0,
             "ticks": ""
            },
            "type": "choropleth"
           }
          ],
          "contour": [
           {
            "colorbar": {
             "outlinewidth": 0,
             "ticks": ""
            },
            "colorscale": [
             [
              0,
              "#0d0887"
             ],
             [
              0.1111111111111111,
              "#46039f"
             ],
             [
              0.2222222222222222,
              "#7201a8"
             ],
             [
              0.3333333333333333,
              "#9c179e"
             ],
             [
              0.4444444444444444,
              "#bd3786"
             ],
             [
              0.5555555555555556,
              "#d8576b"
             ],
             [
              0.6666666666666666,
              "#ed7953"
             ],
             [
              0.7777777777777778,
              "#fb9f3a"
             ],
             [
              0.8888888888888888,
              "#fdca26"
             ],
             [
              1,
              "#f0f921"
             ]
            ],
            "type": "contour"
           }
          ],
          "contourcarpet": [
           {
            "colorbar": {
             "outlinewidth": 0,
             "ticks": ""
            },
            "type": "contourcarpet"
           }
          ],
          "heatmap": [
           {
            "colorbar": {
             "outlinewidth": 0,
             "ticks": ""
            },
            "colorscale": [
             [
              0,
              "#0d0887"
             ],
             [
              0.1111111111111111,
              "#46039f"
             ],
             [
              0.2222222222222222,
              "#7201a8"
             ],
             [
              0.3333333333333333,
              "#9c179e"
             ],
             [
              0.4444444444444444,
              "#bd3786"
             ],
             [
              0.5555555555555556,
              "#d8576b"
             ],
             [
              0.6666666666666666,
              "#ed7953"
             ],
             [
              0.7777777777777778,
              "#fb9f3a"
             ],
             [
              0.8888888888888888,
              "#fdca26"
             ],
             [
              1,
              "#f0f921"
             ]
            ],
            "type": "heatmap"
           }
          ],
          "heatmapgl": [
           {
            "colorbar": {
             "outlinewidth": 0,
             "ticks": ""
            },
            "colorscale": [
             [
              0,
              "#0d0887"
             ],
             [
              0.1111111111111111,
              "#46039f"
             ],
             [
              0.2222222222222222,
              "#7201a8"
             ],
             [
              0.3333333333333333,
              "#9c179e"
             ],
             [
              0.4444444444444444,
              "#bd3786"
             ],
             [
              0.5555555555555556,
              "#d8576b"
             ],
             [
              0.6666666666666666,
              "#ed7953"
             ],
             [
              0.7777777777777778,
              "#fb9f3a"
             ],
             [
              0.8888888888888888,
              "#fdca26"
             ],
             [
              1,
              "#f0f921"
             ]
            ],
            "type": "heatmapgl"
           }
          ],
          "histogram": [
           {
            "marker": {
             "pattern": {
              "fillmode": "overlay",
              "size": 10,
              "solidity": 0.2
             }
            },
            "type": "histogram"
           }
          ],
          "histogram2d": [
           {
            "colorbar": {
             "outlinewidth": 0,
             "ticks": ""
            },
            "colorscale": [
             [
              0,
              "#0d0887"
             ],
             [
              0.1111111111111111,
              "#46039f"
             ],
             [
              0.2222222222222222,
              "#7201a8"
             ],
             [
              0.3333333333333333,
              "#9c179e"
             ],
             [
              0.4444444444444444,
              "#bd3786"
             ],
             [
              0.5555555555555556,
              "#d8576b"
             ],
             [
              0.6666666666666666,
              "#ed7953"
             ],
             [
              0.7777777777777778,
              "#fb9f3a"
             ],
             [
              0.8888888888888888,
              "#fdca26"
             ],
             [
              1,
              "#f0f921"
             ]
            ],
            "type": "histogram2d"
           }
          ],
          "histogram2dcontour": [
           {
            "colorbar": {
             "outlinewidth": 0,
             "ticks": ""
            },
            "colorscale": [
             [
              0,
              "#0d0887"
             ],
             [
              0.1111111111111111,
              "#46039f"
             ],
             [
              0.2222222222222222,
              "#7201a8"
             ],
             [
              0.3333333333333333,
              "#9c179e"
             ],
             [
              0.4444444444444444,
              "#bd3786"
             ],
             [
              0.5555555555555556,
              "#d8576b"
             ],
             [
              0.6666666666666666,
              "#ed7953"
             ],
             [
              0.7777777777777778,
              "#fb9f3a"
             ],
             [
              0.8888888888888888,
              "#fdca26"
             ],
             [
              1,
              "#f0f921"
             ]
            ],
            "type": "histogram2dcontour"
           }
          ],
          "mesh3d": [
           {
            "colorbar": {
             "outlinewidth": 0,
             "ticks": ""
            },
            "type": "mesh3d"
           }
          ],
          "parcoords": [
           {
            "line": {
             "colorbar": {
              "outlinewidth": 0,
              "ticks": ""
             }
            },
            "type": "parcoords"
           }
          ],
          "pie": [
           {
            "automargin": true,
            "type": "pie"
           }
          ],
          "scatter": [
           {
            "marker": {
             "colorbar": {
              "outlinewidth": 0,
              "ticks": ""
             }
            },
            "type": "scatter"
           }
          ],
          "scatter3d": [
           {
            "line": {
             "colorbar": {
              "outlinewidth": 0,
              "ticks": ""
             }
            },
            "marker": {
             "colorbar": {
              "outlinewidth": 0,
              "ticks": ""
             }
            },
            "type": "scatter3d"
           }
          ],
          "scattercarpet": [
           {
            "marker": {
             "colorbar": {
              "outlinewidth": 0,
              "ticks": ""
             }
            },
            "type": "scattercarpet"
           }
          ],
          "scattergeo": [
           {
            "marker": {
             "colorbar": {
              "outlinewidth": 0,
              "ticks": ""
             }
            },
            "type": "scattergeo"
           }
          ],
          "scattergl": [
           {
            "marker": {
             "colorbar": {
              "outlinewidth": 0,
              "ticks": ""
             }
            },
            "type": "scattergl"
           }
          ],
          "scattermapbox": [
           {
            "marker": {
             "colorbar": {
              "outlinewidth": 0,
              "ticks": ""
             }
            },
            "type": "scattermapbox"
           }
          ],
          "scatterpolar": [
           {
            "marker": {
             "colorbar": {
              "outlinewidth": 0,
              "ticks": ""
             }
            },
            "type": "scatterpolar"
           }
          ],
          "scatterpolargl": [
           {
            "marker": {
             "colorbar": {
              "outlinewidth": 0,
              "ticks": ""
             }
            },
            "type": "scatterpolargl"
           }
          ],
          "scatterternary": [
           {
            "marker": {
             "colorbar": {
              "outlinewidth": 0,
              "ticks": ""
             }
            },
            "type": "scatterternary"
           }
          ],
          "surface": [
           {
            "colorbar": {
             "outlinewidth": 0,
             "ticks": ""
            },
            "colorscale": [
             [
              0,
              "#0d0887"
             ],
             [
              0.1111111111111111,
              "#46039f"
             ],
             [
              0.2222222222222222,
              "#7201a8"
             ],
             [
              0.3333333333333333,
              "#9c179e"
             ],
             [
              0.4444444444444444,
              "#bd3786"
             ],
             [
              0.5555555555555556,
              "#d8576b"
             ],
             [
              0.6666666666666666,
              "#ed7953"
             ],
             [
              0.7777777777777778,
              "#fb9f3a"
             ],
             [
              0.8888888888888888,
              "#fdca26"
             ],
             [
              1,
              "#f0f921"
             ]
            ],
            "type": "surface"
           }
          ],
          "table": [
           {
            "cells": {
             "fill": {
              "color": "#EBF0F8"
             },
             "line": {
              "color": "white"
             }
            },
            "header": {
             "fill": {
              "color": "#C8D4E3"
             },
             "line": {
              "color": "white"
             }
            },
            "type": "table"
           }
          ]
         },
         "layout": {
          "annotationdefaults": {
           "arrowcolor": "#2a3f5f",
           "arrowhead": 0,
           "arrowwidth": 1
          },
          "autotypenumbers": "strict",
          "coloraxis": {
           "colorbar": {
            "outlinewidth": 0,
            "ticks": ""
           }
          },
          "colorscale": {
           "diverging": [
            [
             0,
             "#8e0152"
            ],
            [
             0.1,
             "#c51b7d"
            ],
            [
             0.2,
             "#de77ae"
            ],
            [
             0.3,
             "#f1b6da"
            ],
            [
             0.4,
             "#fde0ef"
            ],
            [
             0.5,
             "#f7f7f7"
            ],
            [
             0.6,
             "#e6f5d0"
            ],
            [
             0.7,
             "#b8e186"
            ],
            [
             0.8,
             "#7fbc41"
            ],
            [
             0.9,
             "#4d9221"
            ],
            [
             1,
             "#276419"
            ]
           ],
           "sequential": [
            [
             0,
             "#0d0887"
            ],
            [
             0.1111111111111111,
             "#46039f"
            ],
            [
             0.2222222222222222,
             "#7201a8"
            ],
            [
             0.3333333333333333,
             "#9c179e"
            ],
            [
             0.4444444444444444,
             "#bd3786"
            ],
            [
             0.5555555555555556,
             "#d8576b"
            ],
            [
             0.6666666666666666,
             "#ed7953"
            ],
            [
             0.7777777777777778,
             "#fb9f3a"
            ],
            [
             0.8888888888888888,
             "#fdca26"
            ],
            [
             1,
             "#f0f921"
            ]
           ],
           "sequentialminus": [
            [
             0,
             "#0d0887"
            ],
            [
             0.1111111111111111,
             "#46039f"
            ],
            [
             0.2222222222222222,
             "#7201a8"
            ],
            [
             0.3333333333333333,
             "#9c179e"
            ],
            [
             0.4444444444444444,
             "#bd3786"
            ],
            [
             0.5555555555555556,
             "#d8576b"
            ],
            [
             0.6666666666666666,
             "#ed7953"
            ],
            [
             0.7777777777777778,
             "#fb9f3a"
            ],
            [
             0.8888888888888888,
             "#fdca26"
            ],
            [
             1,
             "#f0f921"
            ]
           ]
          },
          "colorway": [
           "#636efa",
           "#EF553B",
           "#00cc96",
           "#ab63fa",
           "#FFA15A",
           "#19d3f3",
           "#FF6692",
           "#B6E880",
           "#FF97FF",
           "#FECB52"
          ],
          "font": {
           "color": "#2a3f5f"
          },
          "geo": {
           "bgcolor": "white",
           "lakecolor": "white",
           "landcolor": "#E5ECF6",
           "showlakes": true,
           "showland": true,
           "subunitcolor": "white"
          },
          "hoverlabel": {
           "align": "left"
          },
          "hovermode": "closest",
          "mapbox": {
           "style": "light"
          },
          "paper_bgcolor": "white",
          "plot_bgcolor": "#E5ECF6",
          "polar": {
           "angularaxis": {
            "gridcolor": "white",
            "linecolor": "white",
            "ticks": ""
           },
           "bgcolor": "#E5ECF6",
           "radialaxis": {
            "gridcolor": "white",
            "linecolor": "white",
            "ticks": ""
           }
          },
          "scene": {
           "xaxis": {
            "backgroundcolor": "#E5ECF6",
            "gridcolor": "white",
            "gridwidth": 2,
            "linecolor": "white",
            "showbackground": true,
            "ticks": "",
            "zerolinecolor": "white"
           },
           "yaxis": {
            "backgroundcolor": "#E5ECF6",
            "gridcolor": "white",
            "gridwidth": 2,
            "linecolor": "white",
            "showbackground": true,
            "ticks": "",
            "zerolinecolor": "white"
           },
           "zaxis": {
            "backgroundcolor": "#E5ECF6",
            "gridcolor": "white",
            "gridwidth": 2,
            "linecolor": "white",
            "showbackground": true,
            "ticks": "",
            "zerolinecolor": "white"
           }
          },
          "shapedefaults": {
           "line": {
            "color": "#2a3f5f"
           }
          },
          "ternary": {
           "aaxis": {
            "gridcolor": "white",
            "linecolor": "white",
            "ticks": ""
           },
           "baxis": {
            "gridcolor": "white",
            "linecolor": "white",
            "ticks": ""
           },
           "bgcolor": "#E5ECF6",
           "caxis": {
            "gridcolor": "white",
            "linecolor": "white",
            "ticks": ""
           }
          },
          "title": {
           "x": 0.05
          },
          "xaxis": {
           "automargin": true,
           "gridcolor": "white",
           "linecolor": "white",
           "ticks": "",
           "title": {
            "standoff": 15
           },
           "zerolinecolor": "white",
           "zerolinewidth": 2
          },
          "yaxis": {
           "automargin": true,
           "gridcolor": "white",
           "linecolor": "white",
           "ticks": "",
           "title": {
            "standoff": 15
           },
           "zerolinecolor": "white",
           "zerolinewidth": 2
          }
         }
        },
        "title": {
         "text": "Record breaking sets by no of minifigures"
        },
        "xaxis": {
         "anchor": "y",
         "domain": [
          0,
          1
         ],
         "dtick": 1000,
         "tick0": 0,
         "tickmode": "linear",
         "title": {
          "text": "minifigs"
         }
        },
        "yaxis": {
         "anchor": "x",
         "domain": [
          0,
          1
         ],
         "tickmode": "array",
         "ticktext": [
          1991,
          1996,
          2005,
          2008
         ],
         "tickvals": [
          0,
          1,
          2,
          3
         ],
         "title": {
          "text": "year"
         }
        }
       }
      },
      "text/html": [
       "<div>                            <div id=\"e4ce8b91-5d3c-4765-bf7a-55c9b5c3d376\" class=\"plotly-graph-div\" style=\"height:525px; width:100%;\"></div>            <script type=\"text/javascript\">                require([\"plotly\"], function(Plotly) {                    window.PLOTLYENV=window.PLOTLYENV || {};                                    if (document.getElementById(\"e4ce8b91-5d3c-4765-bf7a-55c9b5c3d376\")) {                    Plotly.newPlot(                        \"e4ce8b91-5d3c-4765-bf7a-55c9b5c3d376\",                        [{\"alignmentgroup\":\"True\",\"hovertemplate\":\"theme=Dacta<br>minifigs=%{x}<br>year=%{y}<br>set_name=%{text}<extra></extra>\",\"legendgroup\":\"Dacta\",\"marker\":{\"color\":\"#636efa\",\"pattern\":{\"shape\":\"\"}},\"name\":\"Dacta\",\"offsetgroup\":\"Dacta\",\"orientation\":\"h\",\"showlegend\":true,\"text\":[\"People\",\"Community Workers\"],\"textposition\":\"inside\",\"x\":[24.0,30.0],\"xaxis\":\"x\",\"y\":[0,1],\"yaxis\":\"y\",\"type\":\"bar\",\"textfont\":{\"size\":12},\"textangle\":0},{\"alignmentgroup\":\"True\",\"hovertemplate\":\"theme=Education<br>minifigs=%{x}<br>year=%{y}<br>set_name=%{text}<extra></extra>\",\"legendgroup\":\"Education\",\"marker\":{\"color\":\"#EF553B\",\"pattern\":{\"shape\":\"\"}},\"name\":\"Education\",\"offsetgroup\":\"Education\",\"orientation\":\"h\",\"showlegend\":true,\"text\":[\"Community Workers\"],\"textposition\":\"inside\",\"x\":[31.0],\"xaxis\":\"x\",\"y\":[2],\"yaxis\":\"y\",\"type\":\"bar\",\"textfont\":{\"size\":12},\"textangle\":0},{\"alignmentgroup\":\"True\",\"hovertemplate\":\"theme=Gear<br>minifigs=%{x}<br>year=%{y}<br>set_name=%{text}<extra></extra>\",\"legendgroup\":\"Gear\",\"marker\":{\"color\":\"#00cc96\",\"pattern\":{\"shape\":\"\"}},\"name\":\"Gear\",\"offsetgroup\":\"Gear\",\"orientation\":\"h\",\"showlegend\":true,\"text\":[\"Castle Giant Chess Set\"],\"textposition\":\"inside\",\"x\":[33.0],\"xaxis\":\"x\",\"y\":[3],\"yaxis\":\"y\",\"type\":\"bar\",\"textfont\":{\"size\":12},\"textangle\":0}],                        {\"template\":{\"data\":{\"bar\":[{\"error_x\":{\"color\":\"#2a3f5f\"},\"error_y\":{\"color\":\"#2a3f5f\"},\"marker\":{\"line\":{\"color\":\"#E5ECF6\",\"width\":0.5},\"pattern\":{\"fillmode\":\"overlay\",\"size\":10,\"solidity\":0.2}},\"type\":\"bar\"}],\"barpolar\":[{\"marker\":{\"line\":{\"color\":\"#E5ECF6\",\"width\":0.5},\"pattern\":{\"fillmode\":\"overlay\",\"size\":10,\"solidity\":0.2}},\"type\":\"barpolar\"}],\"carpet\":[{\"aaxis\":{\"endlinecolor\":\"#2a3f5f\",\"gridcolor\":\"white\",\"linecolor\":\"white\",\"minorgridcolor\":\"white\",\"startlinecolor\":\"#2a3f5f\"},\"baxis\":{\"endlinecolor\":\"#2a3f5f\",\"gridcolor\":\"white\",\"linecolor\":\"white\",\"minorgridcolor\":\"white\",\"startlinecolor\":\"#2a3f5f\"},\"type\":\"carpet\"}],\"choropleth\":[{\"colorbar\":{\"outlinewidth\":0,\"ticks\":\"\"},\"type\":\"choropleth\"}],\"contour\":[{\"colorbar\":{\"outlinewidth\":0,\"ticks\":\"\"},\"colorscale\":[[0.0,\"#0d0887\"],[0.1111111111111111,\"#46039f\"],[0.2222222222222222,\"#7201a8\"],[0.3333333333333333,\"#9c179e\"],[0.4444444444444444,\"#bd3786\"],[0.5555555555555556,\"#d8576b\"],[0.6666666666666666,\"#ed7953\"],[0.7777777777777778,\"#fb9f3a\"],[0.8888888888888888,\"#fdca26\"],[1.0,\"#f0f921\"]],\"type\":\"contour\"}],\"contourcarpet\":[{\"colorbar\":{\"outlinewidth\":0,\"ticks\":\"\"},\"type\":\"contourcarpet\"}],\"heatmap\":[{\"colorbar\":{\"outlinewidth\":0,\"ticks\":\"\"},\"colorscale\":[[0.0,\"#0d0887\"],[0.1111111111111111,\"#46039f\"],[0.2222222222222222,\"#7201a8\"],[0.3333333333333333,\"#9c179e\"],[0.4444444444444444,\"#bd3786\"],[0.5555555555555556,\"#d8576b\"],[0.6666666666666666,\"#ed7953\"],[0.7777777777777778,\"#fb9f3a\"],[0.8888888888888888,\"#fdca26\"],[1.0,\"#f0f921\"]],\"type\":\"heatmap\"}],\"heatmapgl\":[{\"colorbar\":{\"outlinewidth\":0,\"ticks\":\"\"},\"colorscale\":[[0.0,\"#0d0887\"],[0.1111111111111111,\"#46039f\"],[0.2222222222222222,\"#7201a8\"],[0.3333333333333333,\"#9c179e\"],[0.4444444444444444,\"#bd3786\"],[0.5555555555555556,\"#d8576b\"],[0.6666666666666666,\"#ed7953\"],[0.7777777777777778,\"#fb9f3a\"],[0.8888888888888888,\"#fdca26\"],[1.0,\"#f0f921\"]],\"type\":\"heatmapgl\"}],\"histogram\":[{\"marker\":{\"pattern\":{\"fillmode\":\"overlay\",\"size\":10,\"solidity\":0.2}},\"type\":\"histogram\"}],\"histogram2d\":[{\"colorbar\":{\"outlinewidth\":0,\"ticks\":\"\"},\"colorscale\":[[0.0,\"#0d0887\"],[0.1111111111111111,\"#46039f\"],[0.2222222222222222,\"#7201a8\"],[0.3333333333333333,\"#9c179e\"],[0.4444444444444444,\"#bd3786\"],[0.5555555555555556,\"#d8576b\"],[0.6666666666666666,\"#ed7953\"],[0.7777777777777778,\"#fb9f3a\"],[0.8888888888888888,\"#fdca26\"],[1.0,\"#f0f921\"]],\"type\":\"histogram2d\"}],\"histogram2dcontour\":[{\"colorbar\":{\"outlinewidth\":0,\"ticks\":\"\"},\"colorscale\":[[0.0,\"#0d0887\"],[0.1111111111111111,\"#46039f\"],[0.2222222222222222,\"#7201a8\"],[0.3333333333333333,\"#9c179e\"],[0.4444444444444444,\"#bd3786\"],[0.5555555555555556,\"#d8576b\"],[0.6666666666666666,\"#ed7953\"],[0.7777777777777778,\"#fb9f3a\"],[0.8888888888888888,\"#fdca26\"],[1.0,\"#f0f921\"]],\"type\":\"histogram2dcontour\"}],\"mesh3d\":[{\"colorbar\":{\"outlinewidth\":0,\"ticks\":\"\"},\"type\":\"mesh3d\"}],\"parcoords\":[{\"line\":{\"colorbar\":{\"outlinewidth\":0,\"ticks\":\"\"}},\"type\":\"parcoords\"}],\"pie\":[{\"automargin\":true,\"type\":\"pie\"}],\"scatter\":[{\"marker\":{\"colorbar\":{\"outlinewidth\":0,\"ticks\":\"\"}},\"type\":\"scatter\"}],\"scatter3d\":[{\"line\":{\"colorbar\":{\"outlinewidth\":0,\"ticks\":\"\"}},\"marker\":{\"colorbar\":{\"outlinewidth\":0,\"ticks\":\"\"}},\"type\":\"scatter3d\"}],\"scattercarpet\":[{\"marker\":{\"colorbar\":{\"outlinewidth\":0,\"ticks\":\"\"}},\"type\":\"scattercarpet\"}],\"scattergeo\":[{\"marker\":{\"colorbar\":{\"outlinewidth\":0,\"ticks\":\"\"}},\"type\":\"scattergeo\"}],\"scattergl\":[{\"marker\":{\"colorbar\":{\"outlinewidth\":0,\"ticks\":\"\"}},\"type\":\"scattergl\"}],\"scattermapbox\":[{\"marker\":{\"colorbar\":{\"outlinewidth\":0,\"ticks\":\"\"}},\"type\":\"scattermapbox\"}],\"scatterpolar\":[{\"marker\":{\"colorbar\":{\"outlinewidth\":0,\"ticks\":\"\"}},\"type\":\"scatterpolar\"}],\"scatterpolargl\":[{\"marker\":{\"colorbar\":{\"outlinewidth\":0,\"ticks\":\"\"}},\"type\":\"scatterpolargl\"}],\"scatterternary\":[{\"marker\":{\"colorbar\":{\"outlinewidth\":0,\"ticks\":\"\"}},\"type\":\"scatterternary\"}],\"surface\":[{\"colorbar\":{\"outlinewidth\":0,\"ticks\":\"\"},\"colorscale\":[[0.0,\"#0d0887\"],[0.1111111111111111,\"#46039f\"],[0.2222222222222222,\"#7201a8\"],[0.3333333333333333,\"#9c179e\"],[0.4444444444444444,\"#bd3786\"],[0.5555555555555556,\"#d8576b\"],[0.6666666666666666,\"#ed7953\"],[0.7777777777777778,\"#fb9f3a\"],[0.8888888888888888,\"#fdca26\"],[1.0,\"#f0f921\"]],\"type\":\"surface\"}],\"table\":[{\"cells\":{\"fill\":{\"color\":\"#EBF0F8\"},\"line\":{\"color\":\"white\"}},\"header\":{\"fill\":{\"color\":\"#C8D4E3\"},\"line\":{\"color\":\"white\"}},\"type\":\"table\"}]},\"layout\":{\"annotationdefaults\":{\"arrowcolor\":\"#2a3f5f\",\"arrowhead\":0,\"arrowwidth\":1},\"autotypenumbers\":\"strict\",\"coloraxis\":{\"colorbar\":{\"outlinewidth\":0,\"ticks\":\"\"}},\"colorscale\":{\"diverging\":[[0,\"#8e0152\"],[0.1,\"#c51b7d\"],[0.2,\"#de77ae\"],[0.3,\"#f1b6da\"],[0.4,\"#fde0ef\"],[0.5,\"#f7f7f7\"],[0.6,\"#e6f5d0\"],[0.7,\"#b8e186\"],[0.8,\"#7fbc41\"],[0.9,\"#4d9221\"],[1,\"#276419\"]],\"sequential\":[[0.0,\"#0d0887\"],[0.1111111111111111,\"#46039f\"],[0.2222222222222222,\"#7201a8\"],[0.3333333333333333,\"#9c179e\"],[0.4444444444444444,\"#bd3786\"],[0.5555555555555556,\"#d8576b\"],[0.6666666666666666,\"#ed7953\"],[0.7777777777777778,\"#fb9f3a\"],[0.8888888888888888,\"#fdca26\"],[1.0,\"#f0f921\"]],\"sequentialminus\":[[0.0,\"#0d0887\"],[0.1111111111111111,\"#46039f\"],[0.2222222222222222,\"#7201a8\"],[0.3333333333333333,\"#9c179e\"],[0.4444444444444444,\"#bd3786\"],[0.5555555555555556,\"#d8576b\"],[0.6666666666666666,\"#ed7953\"],[0.7777777777777778,\"#fb9f3a\"],[0.8888888888888888,\"#fdca26\"],[1.0,\"#f0f921\"]]},\"colorway\":[\"#636efa\",\"#EF553B\",\"#00cc96\",\"#ab63fa\",\"#FFA15A\",\"#19d3f3\",\"#FF6692\",\"#B6E880\",\"#FF97FF\",\"#FECB52\"],\"font\":{\"color\":\"#2a3f5f\"},\"geo\":{\"bgcolor\":\"white\",\"lakecolor\":\"white\",\"landcolor\":\"#E5ECF6\",\"showlakes\":true,\"showland\":true,\"subunitcolor\":\"white\"},\"hoverlabel\":{\"align\":\"left\"},\"hovermode\":\"closest\",\"mapbox\":{\"style\":\"light\"},\"paper_bgcolor\":\"white\",\"plot_bgcolor\":\"#E5ECF6\",\"polar\":{\"angularaxis\":{\"gridcolor\":\"white\",\"linecolor\":\"white\",\"ticks\":\"\"},\"bgcolor\":\"#E5ECF6\",\"radialaxis\":{\"gridcolor\":\"white\",\"linecolor\":\"white\",\"ticks\":\"\"}},\"scene\":{\"xaxis\":{\"backgroundcolor\":\"#E5ECF6\",\"gridcolor\":\"white\",\"gridwidth\":2,\"linecolor\":\"white\",\"showbackground\":true,\"ticks\":\"\",\"zerolinecolor\":\"white\"},\"yaxis\":{\"backgroundcolor\":\"#E5ECF6\",\"gridcolor\":\"white\",\"gridwidth\":2,\"linecolor\":\"white\",\"showbackground\":true,\"ticks\":\"\",\"zerolinecolor\":\"white\"},\"zaxis\":{\"backgroundcolor\":\"#E5ECF6\",\"gridcolor\":\"white\",\"gridwidth\":2,\"linecolor\":\"white\",\"showbackground\":true,\"ticks\":\"\",\"zerolinecolor\":\"white\"}},\"shapedefaults\":{\"line\":{\"color\":\"#2a3f5f\"}},\"ternary\":{\"aaxis\":{\"gridcolor\":\"white\",\"linecolor\":\"white\",\"ticks\":\"\"},\"baxis\":{\"gridcolor\":\"white\",\"linecolor\":\"white\",\"ticks\":\"\"},\"bgcolor\":\"#E5ECF6\",\"caxis\":{\"gridcolor\":\"white\",\"linecolor\":\"white\",\"ticks\":\"\"}},\"title\":{\"x\":0.05},\"xaxis\":{\"automargin\":true,\"gridcolor\":\"white\",\"linecolor\":\"white\",\"ticks\":\"\",\"title\":{\"standoff\":15},\"zerolinecolor\":\"white\",\"zerolinewidth\":2},\"yaxis\":{\"automargin\":true,\"gridcolor\":\"white\",\"linecolor\":\"white\",\"ticks\":\"\",\"title\":{\"standoff\":15},\"zerolinecolor\":\"white\",\"zerolinewidth\":2}}},\"xaxis\":{\"anchor\":\"y\",\"domain\":[0.0,1.0],\"title\":{\"text\":\"minifigs\"},\"tickmode\":\"linear\",\"tick0\":0,\"dtick\":1000},\"yaxis\":{\"anchor\":\"x\",\"domain\":[0.0,1.0],\"title\":{\"text\":\"year\"},\"tickmode\":\"array\",\"tickvals\":[0,1,2,3],\"ticktext\":[1991,1996,2005,2008]},\"legend\":{\"title\":{\"text\":\"theme\"},\"tracegroupgap\":0},\"title\":{\"text\":\"Record breaking sets by no of minifigures\"},\"barmode\":\"relative\"},                        {\"responsive\": true}                    ).then(function(){\n",
       "                            \n",
       "var gd = document.getElementById('e4ce8b91-5d3c-4765-bf7a-55c9b5c3d376');\n",
       "var x = new MutationObserver(function (mutations, observer) {{\n",
       "        var display = window.getComputedStyle(gd).display;\n",
       "        if (!display || display === 'none') {{\n",
       "            console.log([gd, 'removed!']);\n",
       "            Plotly.purge(gd);\n",
       "            observer.disconnect();\n",
       "        }}\n",
       "}});\n",
       "\n",
       "// Listen for the removal of the full notebook cells\n",
       "var notebookContainer = gd.closest('#notebook-container');\n",
       "if (notebookContainer) {{\n",
       "    x.observe(notebookContainer, {childList: true});\n",
       "}}\n",
       "\n",
       "// Listen for the clearing of the current output cell\n",
       "var outputEl = gd.closest('.output');\n",
       "if (outputEl) {{\n",
       "    x.observe(outputEl, {childList: true});\n",
       "}}\n",
       "\n",
       "                        })                };                });            </script>        </div>"
      ]
     },
     "metadata": {},
     "output_type": "display_data"
    }
   ],
   "source": [
    "fig = make_h_bar_chart(df_minifig_winners, \"minifigs\", df_minifig_winners.index,\n",
    "                 \"theme\", \"set_name\", \n",
    "                 \"Record breaking sets by no of minifigures\")\n",
    "\n",
    "fig.show()"
   ]
  },
  {
   "cell_type": "markdown",
   "id": "a1ec6fbb",
   "metadata": {},
   "source": [
    "#### What words do most often come up in set names?"
   ]
  },
  {
   "cell_type": "code",
   "execution_count": 551,
   "id": "ca359604",
   "metadata": {},
   "outputs": [],
   "source": [
    "def tokenize(text):\n",
    "    \"\"\"Function for text processing, in particular it replaces urls, tokenizes and lemmatizes the words in a given text.\n",
    "    INPUT\n",
    "    text: text to process as str\n",
    "    OUTPUT:\n",
    "    tokens: list of tokenized words\"\"\"\n",
    "    \n",
    "   # url_regex = 'http[s]?://(?:[a-zA-Z]|[0-9]|[$-_@.&+]|[!*\\(\\),]|(?:%[0-9a-fA-F][0-9a-fA-F]))+'\n",
    "    \n",
    "    #detected_urls = re.findall(url_regex, text)\n",
    "    #for url in detected_urls:\n",
    "    #    text = text.replace(url, \"urlplaceholder\")\n",
    " \n",
    "    # normalize case and remove punctuation using regex\n",
    "    text = re.sub(r\"[^a-zA-Z]\", \" \", text.lower()) #[^a-zA-Z0-9]\n",
    "    \n",
    "    # tokenize text with the tokenizer\n",
    "    tokens = word_tokenize(text)\n",
    "    \n",
    "    # lemmatize and remove stop words\n",
    "    lemmatizer = WordNetLemmatizer()\n",
    "    tokens = [lemmatizer.lemmatize(word) for word in tokens if word not in stopwords.words(\"english\")]\n",
    "\n",
    "    return tokens"
   ]
  },
  {
   "cell_type": "code",
   "execution_count": 552,
   "id": "4b348aa5",
   "metadata": {},
   "outputs": [
    {
     "name": "stdout",
     "output_type": "stream",
     "text": [
      "['blue', 'baseplate', 'farm', 'basic', 'building', 'set', 'gift', 'item', 'airport', 'security']\n"
     ]
    }
   ],
   "source": [
    "results_list = []\n",
    "df_sets.set_name.apply(lambda x: results_list.extend(tokenize(x)));\n",
    "print(results_list[:10])"
   ]
  },
  {
   "cell_type": "code",
   "execution_count": 553,
   "id": "338b86a3",
   "metadata": {},
   "outputs": [
    {
     "data": {
      "text/html": [
       "<div>\n",
       "<style scoped>\n",
       "    .dataframe tbody tr th:only-of-type {\n",
       "        vertical-align: middle;\n",
       "    }\n",
       "\n",
       "    .dataframe tbody tr th {\n",
       "        vertical-align: top;\n",
       "    }\n",
       "\n",
       "    .dataframe thead th {\n",
       "        text-align: right;\n",
       "    }\n",
       "</style>\n",
       "<table border=\"1\" class=\"dataframe\">\n",
       "  <thead>\n",
       "    <tr style=\"text-align: right;\">\n",
       "      <th></th>\n",
       "      <th>word</th>\n",
       "      <th>occurances</th>\n",
       "    </tr>\n",
       "  </thead>\n",
       "  <tbody>\n",
       "    <tr>\n",
       "      <th>0</th>\n",
       "      <td>pack</td>\n",
       "      <td>572</td>\n",
       "    </tr>\n",
       "    <tr>\n",
       "      <th>1</th>\n",
       "      <td>set</td>\n",
       "      <td>496</td>\n",
       "    </tr>\n",
       "    <tr>\n",
       "      <th>2</th>\n",
       "      <td>brick</td>\n",
       "      <td>237</td>\n",
       "    </tr>\n",
       "    <tr>\n",
       "      <th>3</th>\n",
       "      <td>value</td>\n",
       "      <td>224</td>\n",
       "    </tr>\n",
       "    <tr>\n",
       "      <th>4</th>\n",
       "      <td>truck</td>\n",
       "      <td>208</td>\n",
       "    </tr>\n",
       "    <tr>\n",
       "      <th>5</th>\n",
       "      <td>bucket</td>\n",
       "      <td>186</td>\n",
       "    </tr>\n",
       "    <tr>\n",
       "      <th>6</th>\n",
       "      <td>lego</td>\n",
       "      <td>180</td>\n",
       "    </tr>\n",
       "    <tr>\n",
       "      <th>7</th>\n",
       "      <td>fire</td>\n",
       "      <td>176</td>\n",
       "    </tr>\n",
       "    <tr>\n",
       "      <th>8</th>\n",
       "      <td>bonus</td>\n",
       "      <td>175</td>\n",
       "    </tr>\n",
       "    <tr>\n",
       "      <th>9</th>\n",
       "      <td>x</td>\n",
       "      <td>164</td>\n",
       "    </tr>\n",
       "  </tbody>\n",
       "</table>\n",
       "</div>"
      ],
      "text/plain": [
       "     word  occurances\n",
       "0    pack         572\n",
       "1     set         496\n",
       "2   brick         237\n",
       "3   value         224\n",
       "4   truck         208\n",
       "5  bucket         186\n",
       "6    lego         180\n",
       "7    fire         176\n",
       "8   bonus         175\n",
       "9       x         164"
      ]
     },
     "execution_count": 553,
     "metadata": {},
     "output_type": "execute_result"
    }
   ],
   "source": [
    "results_count = Counter(results_list)\n",
    "df_results_count = pd.DataFrame.from_dict(results_count, orient='index', columns = [\"col\"]).reset_index()\n",
    "df_results_count.rename(columns = {'index':\"word\", \"col\":\"occurances\"}, inplace = True)\n",
    "df_results_count.sort_values(by = \"occurances\", ascending = False, inplace = True)\n",
    "df_results_count.reset_index(drop = True, inplace = True)\n",
    "df_results_count.head(10)"
   ]
  },
  {
   "cell_type": "code",
   "execution_count": 554,
   "id": "32357315",
   "metadata": {},
   "outputs": [
    {
     "data": {
      "application/vnd.plotly.v1+json": {
       "config": {
        "plotlyServerURL": "https://plot.ly"
       },
       "data": [
        {
         "alignmentgroup": "True",
         "hovertemplate": "word=%{x}<br>occurances=%{text}<extra></extra>",
         "legendgroup": "pack",
         "marker": {
          "color": "#636efa",
          "pattern": {
           "shape": ""
          }
         },
         "name": "pack",
         "offsetgroup": "pack",
         "orientation": "v",
         "showlegend": true,
         "text": [
          572
         ],
         "textposition": "auto",
         "type": "bar",
         "x": [
          "pack"
         ],
         "xaxis": "x",
         "y": [
          572
         ],
         "yaxis": "y"
        },
        {
         "alignmentgroup": "True",
         "hovertemplate": "word=%{x}<br>occurances=%{text}<extra></extra>",
         "legendgroup": "set",
         "marker": {
          "color": "#EF553B",
          "pattern": {
           "shape": ""
          }
         },
         "name": "set",
         "offsetgroup": "set",
         "orientation": "v",
         "showlegend": true,
         "text": [
          496
         ],
         "textposition": "auto",
         "type": "bar",
         "x": [
          "set"
         ],
         "xaxis": "x",
         "y": [
          496
         ],
         "yaxis": "y"
        },
        {
         "alignmentgroup": "True",
         "hovertemplate": "word=%{x}<br>occurances=%{text}<extra></extra>",
         "legendgroup": "brick",
         "marker": {
          "color": "#00cc96",
          "pattern": {
           "shape": ""
          }
         },
         "name": "brick",
         "offsetgroup": "brick",
         "orientation": "v",
         "showlegend": true,
         "text": [
          237
         ],
         "textposition": "auto",
         "type": "bar",
         "x": [
          "brick"
         ],
         "xaxis": "x",
         "y": [
          237
         ],
         "yaxis": "y"
        },
        {
         "alignmentgroup": "True",
         "hovertemplate": "word=%{x}<br>occurances=%{text}<extra></extra>",
         "legendgroup": "value",
         "marker": {
          "color": "#ab63fa",
          "pattern": {
           "shape": ""
          }
         },
         "name": "value",
         "offsetgroup": "value",
         "orientation": "v",
         "showlegend": true,
         "text": [
          224
         ],
         "textposition": "auto",
         "type": "bar",
         "x": [
          "value"
         ],
         "xaxis": "x",
         "y": [
          224
         ],
         "yaxis": "y"
        },
        {
         "alignmentgroup": "True",
         "hovertemplate": "word=%{x}<br>occurances=%{text}<extra></extra>",
         "legendgroup": "truck",
         "marker": {
          "color": "#FFA15A",
          "pattern": {
           "shape": ""
          }
         },
         "name": "truck",
         "offsetgroup": "truck",
         "orientation": "v",
         "showlegend": true,
         "text": [
          208
         ],
         "textposition": "auto",
         "type": "bar",
         "x": [
          "truck"
         ],
         "xaxis": "x",
         "y": [
          208
         ],
         "yaxis": "y"
        },
        {
         "alignmentgroup": "True",
         "hovertemplate": "word=%{x}<br>occurances=%{text}<extra></extra>",
         "legendgroup": "bucket",
         "marker": {
          "color": "#19d3f3",
          "pattern": {
           "shape": ""
          }
         },
         "name": "bucket",
         "offsetgroup": "bucket",
         "orientation": "v",
         "showlegend": true,
         "text": [
          186
         ],
         "textposition": "auto",
         "type": "bar",
         "x": [
          "bucket"
         ],
         "xaxis": "x",
         "y": [
          186
         ],
         "yaxis": "y"
        },
        {
         "alignmentgroup": "True",
         "hovertemplate": "word=%{x}<br>occurances=%{text}<extra></extra>",
         "legendgroup": "lego",
         "marker": {
          "color": "#FF6692",
          "pattern": {
           "shape": ""
          }
         },
         "name": "lego",
         "offsetgroup": "lego",
         "orientation": "v",
         "showlegend": true,
         "text": [
          180
         ],
         "textposition": "auto",
         "type": "bar",
         "x": [
          "lego"
         ],
         "xaxis": "x",
         "y": [
          180
         ],
         "yaxis": "y"
        },
        {
         "alignmentgroup": "True",
         "hovertemplate": "word=%{x}<br>occurances=%{text}<extra></extra>",
         "legendgroup": "fire",
         "marker": {
          "color": "#B6E880",
          "pattern": {
           "shape": ""
          }
         },
         "name": "fire",
         "offsetgroup": "fire",
         "orientation": "v",
         "showlegend": true,
         "text": [
          176
         ],
         "textposition": "auto",
         "type": "bar",
         "x": [
          "fire"
         ],
         "xaxis": "x",
         "y": [
          176
         ],
         "yaxis": "y"
        },
        {
         "alignmentgroup": "True",
         "hovertemplate": "word=%{x}<br>occurances=%{text}<extra></extra>",
         "legendgroup": "bonus",
         "marker": {
          "color": "#FF97FF",
          "pattern": {
           "shape": ""
          }
         },
         "name": "bonus",
         "offsetgroup": "bonus",
         "orientation": "v",
         "showlegend": true,
         "text": [
          175
         ],
         "textposition": "auto",
         "type": "bar",
         "x": [
          "bonus"
         ],
         "xaxis": "x",
         "y": [
          175
         ],
         "yaxis": "y"
        },
        {
         "alignmentgroup": "True",
         "hovertemplate": "word=%{x}<br>occurances=%{text}<extra></extra>",
         "legendgroup": "x",
         "marker": {
          "color": "#FECB52",
          "pattern": {
           "shape": ""
          }
         },
         "name": "x",
         "offsetgroup": "x",
         "orientation": "v",
         "showlegend": true,
         "text": [
          164
         ],
         "textposition": "auto",
         "type": "bar",
         "x": [
          "x"
         ],
         "xaxis": "x",
         "y": [
          164
         ],
         "yaxis": "y"
        },
        {
         "alignmentgroup": "True",
         "hovertemplate": "word=%{x}<br>occurances=%{text}<extra></extra>",
         "legendgroup": "v",
         "marker": {
          "color": "#636efa",
          "pattern": {
           "shape": ""
          }
         },
         "name": "v",
         "offsetgroup": "v",
         "orientation": "v",
         "showlegend": true,
         "text": [
          157
         ],
         "textposition": "auto",
         "type": "bar",
         "x": [
          "v"
         ],
         "xaxis": "x",
         "y": [
          157
         ],
         "yaxis": "y"
        },
        {
         "alignmentgroup": "True",
         "hovertemplate": "word=%{x}<br>occurances=%{text}<extra></extra>",
         "legendgroup": "city",
         "marker": {
          "color": "#EF553B",
          "pattern": {
           "shape": ""
          }
         },
         "name": "city",
         "offsetgroup": "city",
         "orientation": "v",
         "showlegend": true,
         "text": [
          156
         ],
         "textposition": "auto",
         "type": "bar",
         "x": [
          "city"
         ],
         "xaxis": "x",
         "y": [
          156
         ],
         "yaxis": "y"
        },
        {
         "alignmentgroup": "True",
         "hovertemplate": "word=%{x}<br>occurances=%{text}<extra></extra>",
         "legendgroup": "car",
         "marker": {
          "color": "#00cc96",
          "pattern": {
           "shape": ""
          }
         },
         "name": "car",
         "offsetgroup": "car",
         "orientation": "v",
         "showlegend": true,
         "text": [
          153
         ],
         "textposition": "auto",
         "type": "bar",
         "x": [
          "car"
         ],
         "xaxis": "x",
         "y": [
          153
         ],
         "yaxis": "y"
        },
        {
         "alignmentgroup": "True",
         "hovertemplate": "word=%{x}<br>occurances=%{text}<extra></extra>",
         "legendgroup": "police",
         "marker": {
          "color": "#ab63fa",
          "pattern": {
           "shape": ""
          }
         },
         "name": "police",
         "offsetgroup": "police",
         "orientation": "v",
         "showlegend": true,
         "text": [
          150
         ],
         "textposition": "auto",
         "type": "bar",
         "x": [
          "police"
         ],
         "xaxis": "x",
         "y": [
          150
         ],
         "yaxis": "y"
        },
        {
         "alignmentgroup": "True",
         "hovertemplate": "word=%{x}<br>occurances=%{text}<extra></extra>",
         "legendgroup": "building",
         "marker": {
          "color": "#FFA15A",
          "pattern": {
           "shape": ""
          }
         },
         "name": "building",
         "offsetgroup": "building",
         "orientation": "v",
         "showlegend": true,
         "text": [
          145
         ],
         "textposition": "auto",
         "type": "bar",
         "x": [
          "building"
         ],
         "xaxis": "x",
         "y": [
          145
         ],
         "yaxis": "y"
        },
        {
         "alignmentgroup": "True",
         "hovertemplate": "word=%{x}<br>occurances=%{text}<extra></extra>",
         "legendgroup": "super",
         "marker": {
          "color": "#19d3f3",
          "pattern": {
           "shape": ""
          }
         },
         "name": "super",
         "offsetgroup": "super",
         "orientation": "v",
         "showlegend": true,
         "text": [
          140
         ],
         "textposition": "auto",
         "type": "bar",
         "x": [
          "super"
         ],
         "xaxis": "x",
         "y": [
          140
         ],
         "yaxis": "y"
        },
        {
         "alignmentgroup": "True",
         "hovertemplate": "word=%{x}<br>occurances=%{text}<extra></extra>",
         "legendgroup": "battle",
         "marker": {
          "color": "#FF6692",
          "pattern": {
           "shape": ""
          }
         },
         "name": "battle",
         "offsetgroup": "battle",
         "orientation": "v",
         "showlegend": true,
         "text": [
          139
         ],
         "textposition": "auto",
         "type": "bar",
         "x": [
          "battle"
         ],
         "xaxis": "x",
         "y": [
          139
         ],
         "yaxis": "y"
        },
        {
         "alignmentgroup": "True",
         "hovertemplate": "word=%{x}<br>occurances=%{text}<extra></extra>",
         "legendgroup": "train",
         "marker": {
          "color": "#B6E880",
          "pattern": {
           "shape": ""
          }
         },
         "name": "train",
         "offsetgroup": "train",
         "orientation": "v",
         "showlegend": true,
         "text": [
          132
         ],
         "textposition": "auto",
         "type": "bar",
         "x": [
          "train"
         ],
         "xaxis": "x",
         "y": [
          132
         ],
         "yaxis": "y"
        },
        {
         "alignmentgroup": "True",
         "hovertemplate": "word=%{x}<br>occurances=%{text}<extra></extra>",
         "legendgroup": "box",
         "marker": {
          "color": "#FF97FF",
          "pattern": {
           "shape": ""
          }
         },
         "name": "box",
         "offsetgroup": "box",
         "orientation": "v",
         "showlegend": true,
         "text": [
          132
         ],
         "textposition": "auto",
         "type": "bar",
         "x": [
          "box"
         ],
         "xaxis": "x",
         "y": [
          132
         ],
         "yaxis": "y"
        },
        {
         "alignmentgroup": "True",
         "hovertemplate": "word=%{x}<br>occurances=%{text}<extra></extra>",
         "legendgroup": "first",
         "marker": {
          "color": "#FECB52",
          "pattern": {
           "shape": ""
          }
         },
         "name": "first",
         "offsetgroup": "first",
         "orientation": "v",
         "showlegend": true,
         "text": [
          111
         ],
         "textposition": "auto",
         "type": "bar",
         "x": [
          "first"
         ],
         "xaxis": "x",
         "y": [
          111
         ],
         "yaxis": "y"
        },
        {
         "alignmentgroup": "True",
         "hovertemplate": "word=%{x}<br>occurances=%{text}<extra></extra>",
         "legendgroup": "fun",
         "marker": {
          "color": "#636efa",
          "pattern": {
           "shape": ""
          }
         },
         "name": "fun",
         "offsetgroup": "fun",
         "orientation": "v",
         "showlegend": true,
         "text": [
          109
         ],
         "textposition": "auto",
         "type": "bar",
         "x": [
          "fun"
         ],
         "xaxis": "x",
         "y": [
          109
         ],
         "yaxis": "y"
        },
        {
         "alignmentgroup": "True",
         "hovertemplate": "word=%{x}<br>occurances=%{text}<extra></extra>",
         "legendgroup": "mini",
         "marker": {
          "color": "#EF553B",
          "pattern": {
           "shape": ""
          }
         },
         "name": "mini",
         "offsetgroup": "mini",
         "orientation": "v",
         "showlegend": true,
         "text": [
          104
         ],
         "textposition": "auto",
         "type": "bar",
         "x": [
          "mini"
         ],
         "xaxis": "x",
         "y": [
          104
         ],
         "yaxis": "y"
        },
        {
         "alignmentgroup": "True",
         "hovertemplate": "word=%{x}<br>occurances=%{text}<extra></extra>",
         "legendgroup": "house",
         "marker": {
          "color": "#00cc96",
          "pattern": {
           "shape": ""
          }
         },
         "name": "house",
         "offsetgroup": "house",
         "orientation": "v",
         "showlegend": true,
         "text": [
          102
         ],
         "textposition": "auto",
         "type": "bar",
         "x": [
          "house"
         ],
         "xaxis": "x",
         "y": [
          102
         ],
         "yaxis": "y"
        },
        {
         "alignmentgroup": "True",
         "hovertemplate": "word=%{x}<br>occurances=%{text}<extra></extra>",
         "legendgroup": "accessory",
         "marker": {
          "color": "#ab63fa",
          "pattern": {
           "shape": ""
          }
         },
         "name": "accessory",
         "offsetgroup": "accessory",
         "orientation": "v",
         "showlegend": true,
         "text": [
          97
         ],
         "textposition": "auto",
         "type": "bar",
         "x": [
          "accessory"
         ],
         "xaxis": "x",
         "y": [
          97
         ],
         "yaxis": "y"
        },
        {
         "alignmentgroup": "True",
         "hovertemplate": "word=%{x}<br>occurances=%{text}<extra></extra>",
         "legendgroup": "helicopter",
         "marker": {
          "color": "#FFA15A",
          "pattern": {
           "shape": ""
          }
         },
         "name": "helicopter",
         "offsetgroup": "helicopter",
         "orientation": "v",
         "showlegend": true,
         "text": [
          97
         ],
         "textposition": "auto",
         "type": "bar",
         "x": [
          "helicopter"
         ],
         "xaxis": "x",
         "y": [
          97
         ],
         "yaxis": "y"
        }
       ],
       "layout": {
        "barmode": "relative",
        "legend": {
         "title": {
          "text": "word"
         },
         "tracegroupgap": 0
        },
        "template": {
         "data": {
          "bar": [
           {
            "error_x": {
             "color": "#2a3f5f"
            },
            "error_y": {
             "color": "#2a3f5f"
            },
            "marker": {
             "line": {
              "color": "#E5ECF6",
              "width": 0.5
             },
             "pattern": {
              "fillmode": "overlay",
              "size": 10,
              "solidity": 0.2
             }
            },
            "type": "bar"
           }
          ],
          "barpolar": [
           {
            "marker": {
             "line": {
              "color": "#E5ECF6",
              "width": 0.5
             },
             "pattern": {
              "fillmode": "overlay",
              "size": 10,
              "solidity": 0.2
             }
            },
            "type": "barpolar"
           }
          ],
          "carpet": [
           {
            "aaxis": {
             "endlinecolor": "#2a3f5f",
             "gridcolor": "white",
             "linecolor": "white",
             "minorgridcolor": "white",
             "startlinecolor": "#2a3f5f"
            },
            "baxis": {
             "endlinecolor": "#2a3f5f",
             "gridcolor": "white",
             "linecolor": "white",
             "minorgridcolor": "white",
             "startlinecolor": "#2a3f5f"
            },
            "type": "carpet"
           }
          ],
          "choropleth": [
           {
            "colorbar": {
             "outlinewidth": 0,
             "ticks": ""
            },
            "type": "choropleth"
           }
          ],
          "contour": [
           {
            "colorbar": {
             "outlinewidth": 0,
             "ticks": ""
            },
            "colorscale": [
             [
              0,
              "#0d0887"
             ],
             [
              0.1111111111111111,
              "#46039f"
             ],
             [
              0.2222222222222222,
              "#7201a8"
             ],
             [
              0.3333333333333333,
              "#9c179e"
             ],
             [
              0.4444444444444444,
              "#bd3786"
             ],
             [
              0.5555555555555556,
              "#d8576b"
             ],
             [
              0.6666666666666666,
              "#ed7953"
             ],
             [
              0.7777777777777778,
              "#fb9f3a"
             ],
             [
              0.8888888888888888,
              "#fdca26"
             ],
             [
              1,
              "#f0f921"
             ]
            ],
            "type": "contour"
           }
          ],
          "contourcarpet": [
           {
            "colorbar": {
             "outlinewidth": 0,
             "ticks": ""
            },
            "type": "contourcarpet"
           }
          ],
          "heatmap": [
           {
            "colorbar": {
             "outlinewidth": 0,
             "ticks": ""
            },
            "colorscale": [
             [
              0,
              "#0d0887"
             ],
             [
              0.1111111111111111,
              "#46039f"
             ],
             [
              0.2222222222222222,
              "#7201a8"
             ],
             [
              0.3333333333333333,
              "#9c179e"
             ],
             [
              0.4444444444444444,
              "#bd3786"
             ],
             [
              0.5555555555555556,
              "#d8576b"
             ],
             [
              0.6666666666666666,
              "#ed7953"
             ],
             [
              0.7777777777777778,
              "#fb9f3a"
             ],
             [
              0.8888888888888888,
              "#fdca26"
             ],
             [
              1,
              "#f0f921"
             ]
            ],
            "type": "heatmap"
           }
          ],
          "heatmapgl": [
           {
            "colorbar": {
             "outlinewidth": 0,
             "ticks": ""
            },
            "colorscale": [
             [
              0,
              "#0d0887"
             ],
             [
              0.1111111111111111,
              "#46039f"
             ],
             [
              0.2222222222222222,
              "#7201a8"
             ],
             [
              0.3333333333333333,
              "#9c179e"
             ],
             [
              0.4444444444444444,
              "#bd3786"
             ],
             [
              0.5555555555555556,
              "#d8576b"
             ],
             [
              0.6666666666666666,
              "#ed7953"
             ],
             [
              0.7777777777777778,
              "#fb9f3a"
             ],
             [
              0.8888888888888888,
              "#fdca26"
             ],
             [
              1,
              "#f0f921"
             ]
            ],
            "type": "heatmapgl"
           }
          ],
          "histogram": [
           {
            "marker": {
             "pattern": {
              "fillmode": "overlay",
              "size": 10,
              "solidity": 0.2
             }
            },
            "type": "histogram"
           }
          ],
          "histogram2d": [
           {
            "colorbar": {
             "outlinewidth": 0,
             "ticks": ""
            },
            "colorscale": [
             [
              0,
              "#0d0887"
             ],
             [
              0.1111111111111111,
              "#46039f"
             ],
             [
              0.2222222222222222,
              "#7201a8"
             ],
             [
              0.3333333333333333,
              "#9c179e"
             ],
             [
              0.4444444444444444,
              "#bd3786"
             ],
             [
              0.5555555555555556,
              "#d8576b"
             ],
             [
              0.6666666666666666,
              "#ed7953"
             ],
             [
              0.7777777777777778,
              "#fb9f3a"
             ],
             [
              0.8888888888888888,
              "#fdca26"
             ],
             [
              1,
              "#f0f921"
             ]
            ],
            "type": "histogram2d"
           }
          ],
          "histogram2dcontour": [
           {
            "colorbar": {
             "outlinewidth": 0,
             "ticks": ""
            },
            "colorscale": [
             [
              0,
              "#0d0887"
             ],
             [
              0.1111111111111111,
              "#46039f"
             ],
             [
              0.2222222222222222,
              "#7201a8"
             ],
             [
              0.3333333333333333,
              "#9c179e"
             ],
             [
              0.4444444444444444,
              "#bd3786"
             ],
             [
              0.5555555555555556,
              "#d8576b"
             ],
             [
              0.6666666666666666,
              "#ed7953"
             ],
             [
              0.7777777777777778,
              "#fb9f3a"
             ],
             [
              0.8888888888888888,
              "#fdca26"
             ],
             [
              1,
              "#f0f921"
             ]
            ],
            "type": "histogram2dcontour"
           }
          ],
          "mesh3d": [
           {
            "colorbar": {
             "outlinewidth": 0,
             "ticks": ""
            },
            "type": "mesh3d"
           }
          ],
          "parcoords": [
           {
            "line": {
             "colorbar": {
              "outlinewidth": 0,
              "ticks": ""
             }
            },
            "type": "parcoords"
           }
          ],
          "pie": [
           {
            "automargin": true,
            "type": "pie"
           }
          ],
          "scatter": [
           {
            "marker": {
             "colorbar": {
              "outlinewidth": 0,
              "ticks": ""
             }
            },
            "type": "scatter"
           }
          ],
          "scatter3d": [
           {
            "line": {
             "colorbar": {
              "outlinewidth": 0,
              "ticks": ""
             }
            },
            "marker": {
             "colorbar": {
              "outlinewidth": 0,
              "ticks": ""
             }
            },
            "type": "scatter3d"
           }
          ],
          "scattercarpet": [
           {
            "marker": {
             "colorbar": {
              "outlinewidth": 0,
              "ticks": ""
             }
            },
            "type": "scattercarpet"
           }
          ],
          "scattergeo": [
           {
            "marker": {
             "colorbar": {
              "outlinewidth": 0,
              "ticks": ""
             }
            },
            "type": "scattergeo"
           }
          ],
          "scattergl": [
           {
            "marker": {
             "colorbar": {
              "outlinewidth": 0,
              "ticks": ""
             }
            },
            "type": "scattergl"
           }
          ],
          "scattermapbox": [
           {
            "marker": {
             "colorbar": {
              "outlinewidth": 0,
              "ticks": ""
             }
            },
            "type": "scattermapbox"
           }
          ],
          "scatterpolar": [
           {
            "marker": {
             "colorbar": {
              "outlinewidth": 0,
              "ticks": ""
             }
            },
            "type": "scatterpolar"
           }
          ],
          "scatterpolargl": [
           {
            "marker": {
             "colorbar": {
              "outlinewidth": 0,
              "ticks": ""
             }
            },
            "type": "scatterpolargl"
           }
          ],
          "scatterternary": [
           {
            "marker": {
             "colorbar": {
              "outlinewidth": 0,
              "ticks": ""
             }
            },
            "type": "scatterternary"
           }
          ],
          "surface": [
           {
            "colorbar": {
             "outlinewidth": 0,
             "ticks": ""
            },
            "colorscale": [
             [
              0,
              "#0d0887"
             ],
             [
              0.1111111111111111,
              "#46039f"
             ],
             [
              0.2222222222222222,
              "#7201a8"
             ],
             [
              0.3333333333333333,
              "#9c179e"
             ],
             [
              0.4444444444444444,
              "#bd3786"
             ],
             [
              0.5555555555555556,
              "#d8576b"
             ],
             [
              0.6666666666666666,
              "#ed7953"
             ],
             [
              0.7777777777777778,
              "#fb9f3a"
             ],
             [
              0.8888888888888888,
              "#fdca26"
             ],
             [
              1,
              "#f0f921"
             ]
            ],
            "type": "surface"
           }
          ],
          "table": [
           {
            "cells": {
             "fill": {
              "color": "#EBF0F8"
             },
             "line": {
              "color": "white"
             }
            },
            "header": {
             "fill": {
              "color": "#C8D4E3"
             },
             "line": {
              "color": "white"
             }
            },
            "type": "table"
           }
          ]
         },
         "layout": {
          "annotationdefaults": {
           "arrowcolor": "#2a3f5f",
           "arrowhead": 0,
           "arrowwidth": 1
          },
          "autotypenumbers": "strict",
          "coloraxis": {
           "colorbar": {
            "outlinewidth": 0,
            "ticks": ""
           }
          },
          "colorscale": {
           "diverging": [
            [
             0,
             "#8e0152"
            ],
            [
             0.1,
             "#c51b7d"
            ],
            [
             0.2,
             "#de77ae"
            ],
            [
             0.3,
             "#f1b6da"
            ],
            [
             0.4,
             "#fde0ef"
            ],
            [
             0.5,
             "#f7f7f7"
            ],
            [
             0.6,
             "#e6f5d0"
            ],
            [
             0.7,
             "#b8e186"
            ],
            [
             0.8,
             "#7fbc41"
            ],
            [
             0.9,
             "#4d9221"
            ],
            [
             1,
             "#276419"
            ]
           ],
           "sequential": [
            [
             0,
             "#0d0887"
            ],
            [
             0.1111111111111111,
             "#46039f"
            ],
            [
             0.2222222222222222,
             "#7201a8"
            ],
            [
             0.3333333333333333,
             "#9c179e"
            ],
            [
             0.4444444444444444,
             "#bd3786"
            ],
            [
             0.5555555555555556,
             "#d8576b"
            ],
            [
             0.6666666666666666,
             "#ed7953"
            ],
            [
             0.7777777777777778,
             "#fb9f3a"
            ],
            [
             0.8888888888888888,
             "#fdca26"
            ],
            [
             1,
             "#f0f921"
            ]
           ],
           "sequentialminus": [
            [
             0,
             "#0d0887"
            ],
            [
             0.1111111111111111,
             "#46039f"
            ],
            [
             0.2222222222222222,
             "#7201a8"
            ],
            [
             0.3333333333333333,
             "#9c179e"
            ],
            [
             0.4444444444444444,
             "#bd3786"
            ],
            [
             0.5555555555555556,
             "#d8576b"
            ],
            [
             0.6666666666666666,
             "#ed7953"
            ],
            [
             0.7777777777777778,
             "#fb9f3a"
            ],
            [
             0.8888888888888888,
             "#fdca26"
            ],
            [
             1,
             "#f0f921"
            ]
           ]
          },
          "colorway": [
           "#636efa",
           "#EF553B",
           "#00cc96",
           "#ab63fa",
           "#FFA15A",
           "#19d3f3",
           "#FF6692",
           "#B6E880",
           "#FF97FF",
           "#FECB52"
          ],
          "font": {
           "color": "#2a3f5f"
          },
          "geo": {
           "bgcolor": "white",
           "lakecolor": "white",
           "landcolor": "#E5ECF6",
           "showlakes": true,
           "showland": true,
           "subunitcolor": "white"
          },
          "hoverlabel": {
           "align": "left"
          },
          "hovermode": "closest",
          "mapbox": {
           "style": "light"
          },
          "paper_bgcolor": "white",
          "plot_bgcolor": "#E5ECF6",
          "polar": {
           "angularaxis": {
            "gridcolor": "white",
            "linecolor": "white",
            "ticks": ""
           },
           "bgcolor": "#E5ECF6",
           "radialaxis": {
            "gridcolor": "white",
            "linecolor": "white",
            "ticks": ""
           }
          },
          "scene": {
           "xaxis": {
            "backgroundcolor": "#E5ECF6",
            "gridcolor": "white",
            "gridwidth": 2,
            "linecolor": "white",
            "showbackground": true,
            "ticks": "",
            "zerolinecolor": "white"
           },
           "yaxis": {
            "backgroundcolor": "#E5ECF6",
            "gridcolor": "white",
            "gridwidth": 2,
            "linecolor": "white",
            "showbackground": true,
            "ticks": "",
            "zerolinecolor": "white"
           },
           "zaxis": {
            "backgroundcolor": "#E5ECF6",
            "gridcolor": "white",
            "gridwidth": 2,
            "linecolor": "white",
            "showbackground": true,
            "ticks": "",
            "zerolinecolor": "white"
           }
          },
          "shapedefaults": {
           "line": {
            "color": "#2a3f5f"
           }
          },
          "ternary": {
           "aaxis": {
            "gridcolor": "white",
            "linecolor": "white",
            "ticks": ""
           },
           "baxis": {
            "gridcolor": "white",
            "linecolor": "white",
            "ticks": ""
           },
           "bgcolor": "#E5ECF6",
           "caxis": {
            "gridcolor": "white",
            "linecolor": "white",
            "ticks": ""
           }
          },
          "title": {
           "x": 0.05
          },
          "xaxis": {
           "automargin": true,
           "gridcolor": "white",
           "linecolor": "white",
           "ticks": "",
           "title": {
            "standoff": 15
           },
           "zerolinecolor": "white",
           "zerolinewidth": 2
          },
          "yaxis": {
           "automargin": true,
           "gridcolor": "white",
           "linecolor": "white",
           "ticks": "",
           "title": {
            "standoff": 15
           },
           "zerolinecolor": "white",
           "zerolinewidth": 2
          }
         }
        },
        "title": {
         "text": "Top 25 most frequent words in set names"
        },
        "xaxis": {
         "anchor": "y",
         "categoryarray": [
          "pack",
          "set",
          "brick",
          "value",
          "truck",
          "bucket",
          "lego",
          "fire",
          "bonus",
          "x",
          "v",
          "city",
          "car",
          "police",
          "building",
          "super",
          "battle",
          "train",
          "box",
          "first",
          "fun",
          "mini",
          "house",
          "accessory",
          "helicopter"
         ],
         "categoryorder": "array",
         "domain": [
          0,
          1
         ],
         "title": {
          "text": "word"
         }
        },
        "yaxis": {
         "anchor": "x",
         "domain": [
          0,
          1
         ],
         "title": {
          "text": "occurances"
         }
        }
       }
      },
      "text/html": [
       "<div>                            <div id=\"00cc5c02-c9c8-4b09-b402-b4f6465a7682\" class=\"plotly-graph-div\" style=\"height:525px; width:100%;\"></div>            <script type=\"text/javascript\">                require([\"plotly\"], function(Plotly) {                    window.PLOTLYENV=window.PLOTLYENV || {};                                    if (document.getElementById(\"00cc5c02-c9c8-4b09-b402-b4f6465a7682\")) {                    Plotly.newPlot(                        \"00cc5c02-c9c8-4b09-b402-b4f6465a7682\",                        [{\"alignmentgroup\":\"True\",\"hovertemplate\":\"word=%{x}<br>occurances=%{text}<extra></extra>\",\"legendgroup\":\"pack\",\"marker\":{\"color\":\"#636efa\",\"pattern\":{\"shape\":\"\"}},\"name\":\"pack\",\"offsetgroup\":\"pack\",\"orientation\":\"v\",\"showlegend\":true,\"text\":[572.0],\"textposition\":\"auto\",\"x\":[\"pack\"],\"xaxis\":\"x\",\"y\":[572],\"yaxis\":\"y\",\"type\":\"bar\"},{\"alignmentgroup\":\"True\",\"hovertemplate\":\"word=%{x}<br>occurances=%{text}<extra></extra>\",\"legendgroup\":\"set\",\"marker\":{\"color\":\"#EF553B\",\"pattern\":{\"shape\":\"\"}},\"name\":\"set\",\"offsetgroup\":\"set\",\"orientation\":\"v\",\"showlegend\":true,\"text\":[496.0],\"textposition\":\"auto\",\"x\":[\"set\"],\"xaxis\":\"x\",\"y\":[496],\"yaxis\":\"y\",\"type\":\"bar\"},{\"alignmentgroup\":\"True\",\"hovertemplate\":\"word=%{x}<br>occurances=%{text}<extra></extra>\",\"legendgroup\":\"brick\",\"marker\":{\"color\":\"#00cc96\",\"pattern\":{\"shape\":\"\"}},\"name\":\"brick\",\"offsetgroup\":\"brick\",\"orientation\":\"v\",\"showlegend\":true,\"text\":[237.0],\"textposition\":\"auto\",\"x\":[\"brick\"],\"xaxis\":\"x\",\"y\":[237],\"yaxis\":\"y\",\"type\":\"bar\"},{\"alignmentgroup\":\"True\",\"hovertemplate\":\"word=%{x}<br>occurances=%{text}<extra></extra>\",\"legendgroup\":\"value\",\"marker\":{\"color\":\"#ab63fa\",\"pattern\":{\"shape\":\"\"}},\"name\":\"value\",\"offsetgroup\":\"value\",\"orientation\":\"v\",\"showlegend\":true,\"text\":[224.0],\"textposition\":\"auto\",\"x\":[\"value\"],\"xaxis\":\"x\",\"y\":[224],\"yaxis\":\"y\",\"type\":\"bar\"},{\"alignmentgroup\":\"True\",\"hovertemplate\":\"word=%{x}<br>occurances=%{text}<extra></extra>\",\"legendgroup\":\"truck\",\"marker\":{\"color\":\"#FFA15A\",\"pattern\":{\"shape\":\"\"}},\"name\":\"truck\",\"offsetgroup\":\"truck\",\"orientation\":\"v\",\"showlegend\":true,\"text\":[208.0],\"textposition\":\"auto\",\"x\":[\"truck\"],\"xaxis\":\"x\",\"y\":[208],\"yaxis\":\"y\",\"type\":\"bar\"},{\"alignmentgroup\":\"True\",\"hovertemplate\":\"word=%{x}<br>occurances=%{text}<extra></extra>\",\"legendgroup\":\"bucket\",\"marker\":{\"color\":\"#19d3f3\",\"pattern\":{\"shape\":\"\"}},\"name\":\"bucket\",\"offsetgroup\":\"bucket\",\"orientation\":\"v\",\"showlegend\":true,\"text\":[186.0],\"textposition\":\"auto\",\"x\":[\"bucket\"],\"xaxis\":\"x\",\"y\":[186],\"yaxis\":\"y\",\"type\":\"bar\"},{\"alignmentgroup\":\"True\",\"hovertemplate\":\"word=%{x}<br>occurances=%{text}<extra></extra>\",\"legendgroup\":\"lego\",\"marker\":{\"color\":\"#FF6692\",\"pattern\":{\"shape\":\"\"}},\"name\":\"lego\",\"offsetgroup\":\"lego\",\"orientation\":\"v\",\"showlegend\":true,\"text\":[180.0],\"textposition\":\"auto\",\"x\":[\"lego\"],\"xaxis\":\"x\",\"y\":[180],\"yaxis\":\"y\",\"type\":\"bar\"},{\"alignmentgroup\":\"True\",\"hovertemplate\":\"word=%{x}<br>occurances=%{text}<extra></extra>\",\"legendgroup\":\"fire\",\"marker\":{\"color\":\"#B6E880\",\"pattern\":{\"shape\":\"\"}},\"name\":\"fire\",\"offsetgroup\":\"fire\",\"orientation\":\"v\",\"showlegend\":true,\"text\":[176.0],\"textposition\":\"auto\",\"x\":[\"fire\"],\"xaxis\":\"x\",\"y\":[176],\"yaxis\":\"y\",\"type\":\"bar\"},{\"alignmentgroup\":\"True\",\"hovertemplate\":\"word=%{x}<br>occurances=%{text}<extra></extra>\",\"legendgroup\":\"bonus\",\"marker\":{\"color\":\"#FF97FF\",\"pattern\":{\"shape\":\"\"}},\"name\":\"bonus\",\"offsetgroup\":\"bonus\",\"orientation\":\"v\",\"showlegend\":true,\"text\":[175.0],\"textposition\":\"auto\",\"x\":[\"bonus\"],\"xaxis\":\"x\",\"y\":[175],\"yaxis\":\"y\",\"type\":\"bar\"},{\"alignmentgroup\":\"True\",\"hovertemplate\":\"word=%{x}<br>occurances=%{text}<extra></extra>\",\"legendgroup\":\"x\",\"marker\":{\"color\":\"#FECB52\",\"pattern\":{\"shape\":\"\"}},\"name\":\"x\",\"offsetgroup\":\"x\",\"orientation\":\"v\",\"showlegend\":true,\"text\":[164.0],\"textposition\":\"auto\",\"x\":[\"x\"],\"xaxis\":\"x\",\"y\":[164],\"yaxis\":\"y\",\"type\":\"bar\"},{\"alignmentgroup\":\"True\",\"hovertemplate\":\"word=%{x}<br>occurances=%{text}<extra></extra>\",\"legendgroup\":\"v\",\"marker\":{\"color\":\"#636efa\",\"pattern\":{\"shape\":\"\"}},\"name\":\"v\",\"offsetgroup\":\"v\",\"orientation\":\"v\",\"showlegend\":true,\"text\":[157.0],\"textposition\":\"auto\",\"x\":[\"v\"],\"xaxis\":\"x\",\"y\":[157],\"yaxis\":\"y\",\"type\":\"bar\"},{\"alignmentgroup\":\"True\",\"hovertemplate\":\"word=%{x}<br>occurances=%{text}<extra></extra>\",\"legendgroup\":\"city\",\"marker\":{\"color\":\"#EF553B\",\"pattern\":{\"shape\":\"\"}},\"name\":\"city\",\"offsetgroup\":\"city\",\"orientation\":\"v\",\"showlegend\":true,\"text\":[156.0],\"textposition\":\"auto\",\"x\":[\"city\"],\"xaxis\":\"x\",\"y\":[156],\"yaxis\":\"y\",\"type\":\"bar\"},{\"alignmentgroup\":\"True\",\"hovertemplate\":\"word=%{x}<br>occurances=%{text}<extra></extra>\",\"legendgroup\":\"car\",\"marker\":{\"color\":\"#00cc96\",\"pattern\":{\"shape\":\"\"}},\"name\":\"car\",\"offsetgroup\":\"car\",\"orientation\":\"v\",\"showlegend\":true,\"text\":[153.0],\"textposition\":\"auto\",\"x\":[\"car\"],\"xaxis\":\"x\",\"y\":[153],\"yaxis\":\"y\",\"type\":\"bar\"},{\"alignmentgroup\":\"True\",\"hovertemplate\":\"word=%{x}<br>occurances=%{text}<extra></extra>\",\"legendgroup\":\"police\",\"marker\":{\"color\":\"#ab63fa\",\"pattern\":{\"shape\":\"\"}},\"name\":\"police\",\"offsetgroup\":\"police\",\"orientation\":\"v\",\"showlegend\":true,\"text\":[150.0],\"textposition\":\"auto\",\"x\":[\"police\"],\"xaxis\":\"x\",\"y\":[150],\"yaxis\":\"y\",\"type\":\"bar\"},{\"alignmentgroup\":\"True\",\"hovertemplate\":\"word=%{x}<br>occurances=%{text}<extra></extra>\",\"legendgroup\":\"building\",\"marker\":{\"color\":\"#FFA15A\",\"pattern\":{\"shape\":\"\"}},\"name\":\"building\",\"offsetgroup\":\"building\",\"orientation\":\"v\",\"showlegend\":true,\"text\":[145.0],\"textposition\":\"auto\",\"x\":[\"building\"],\"xaxis\":\"x\",\"y\":[145],\"yaxis\":\"y\",\"type\":\"bar\"},{\"alignmentgroup\":\"True\",\"hovertemplate\":\"word=%{x}<br>occurances=%{text}<extra></extra>\",\"legendgroup\":\"super\",\"marker\":{\"color\":\"#19d3f3\",\"pattern\":{\"shape\":\"\"}},\"name\":\"super\",\"offsetgroup\":\"super\",\"orientation\":\"v\",\"showlegend\":true,\"text\":[140.0],\"textposition\":\"auto\",\"x\":[\"super\"],\"xaxis\":\"x\",\"y\":[140],\"yaxis\":\"y\",\"type\":\"bar\"},{\"alignmentgroup\":\"True\",\"hovertemplate\":\"word=%{x}<br>occurances=%{text}<extra></extra>\",\"legendgroup\":\"battle\",\"marker\":{\"color\":\"#FF6692\",\"pattern\":{\"shape\":\"\"}},\"name\":\"battle\",\"offsetgroup\":\"battle\",\"orientation\":\"v\",\"showlegend\":true,\"text\":[139.0],\"textposition\":\"auto\",\"x\":[\"battle\"],\"xaxis\":\"x\",\"y\":[139],\"yaxis\":\"y\",\"type\":\"bar\"},{\"alignmentgroup\":\"True\",\"hovertemplate\":\"word=%{x}<br>occurances=%{text}<extra></extra>\",\"legendgroup\":\"train\",\"marker\":{\"color\":\"#B6E880\",\"pattern\":{\"shape\":\"\"}},\"name\":\"train\",\"offsetgroup\":\"train\",\"orientation\":\"v\",\"showlegend\":true,\"text\":[132.0],\"textposition\":\"auto\",\"x\":[\"train\"],\"xaxis\":\"x\",\"y\":[132],\"yaxis\":\"y\",\"type\":\"bar\"},{\"alignmentgroup\":\"True\",\"hovertemplate\":\"word=%{x}<br>occurances=%{text}<extra></extra>\",\"legendgroup\":\"box\",\"marker\":{\"color\":\"#FF97FF\",\"pattern\":{\"shape\":\"\"}},\"name\":\"box\",\"offsetgroup\":\"box\",\"orientation\":\"v\",\"showlegend\":true,\"text\":[132.0],\"textposition\":\"auto\",\"x\":[\"box\"],\"xaxis\":\"x\",\"y\":[132],\"yaxis\":\"y\",\"type\":\"bar\"},{\"alignmentgroup\":\"True\",\"hovertemplate\":\"word=%{x}<br>occurances=%{text}<extra></extra>\",\"legendgroup\":\"first\",\"marker\":{\"color\":\"#FECB52\",\"pattern\":{\"shape\":\"\"}},\"name\":\"first\",\"offsetgroup\":\"first\",\"orientation\":\"v\",\"showlegend\":true,\"text\":[111.0],\"textposition\":\"auto\",\"x\":[\"first\"],\"xaxis\":\"x\",\"y\":[111],\"yaxis\":\"y\",\"type\":\"bar\"},{\"alignmentgroup\":\"True\",\"hovertemplate\":\"word=%{x}<br>occurances=%{text}<extra></extra>\",\"legendgroup\":\"fun\",\"marker\":{\"color\":\"#636efa\",\"pattern\":{\"shape\":\"\"}},\"name\":\"fun\",\"offsetgroup\":\"fun\",\"orientation\":\"v\",\"showlegend\":true,\"text\":[109.0],\"textposition\":\"auto\",\"x\":[\"fun\"],\"xaxis\":\"x\",\"y\":[109],\"yaxis\":\"y\",\"type\":\"bar\"},{\"alignmentgroup\":\"True\",\"hovertemplate\":\"word=%{x}<br>occurances=%{text}<extra></extra>\",\"legendgroup\":\"mini\",\"marker\":{\"color\":\"#EF553B\",\"pattern\":{\"shape\":\"\"}},\"name\":\"mini\",\"offsetgroup\":\"mini\",\"orientation\":\"v\",\"showlegend\":true,\"text\":[104.0],\"textposition\":\"auto\",\"x\":[\"mini\"],\"xaxis\":\"x\",\"y\":[104],\"yaxis\":\"y\",\"type\":\"bar\"},{\"alignmentgroup\":\"True\",\"hovertemplate\":\"word=%{x}<br>occurances=%{text}<extra></extra>\",\"legendgroup\":\"house\",\"marker\":{\"color\":\"#00cc96\",\"pattern\":{\"shape\":\"\"}},\"name\":\"house\",\"offsetgroup\":\"house\",\"orientation\":\"v\",\"showlegend\":true,\"text\":[102.0],\"textposition\":\"auto\",\"x\":[\"house\"],\"xaxis\":\"x\",\"y\":[102],\"yaxis\":\"y\",\"type\":\"bar\"},{\"alignmentgroup\":\"True\",\"hovertemplate\":\"word=%{x}<br>occurances=%{text}<extra></extra>\",\"legendgroup\":\"accessory\",\"marker\":{\"color\":\"#ab63fa\",\"pattern\":{\"shape\":\"\"}},\"name\":\"accessory\",\"offsetgroup\":\"accessory\",\"orientation\":\"v\",\"showlegend\":true,\"text\":[97.0],\"textposition\":\"auto\",\"x\":[\"accessory\"],\"xaxis\":\"x\",\"y\":[97],\"yaxis\":\"y\",\"type\":\"bar\"},{\"alignmentgroup\":\"True\",\"hovertemplate\":\"word=%{x}<br>occurances=%{text}<extra></extra>\",\"legendgroup\":\"helicopter\",\"marker\":{\"color\":\"#FFA15A\",\"pattern\":{\"shape\":\"\"}},\"name\":\"helicopter\",\"offsetgroup\":\"helicopter\",\"orientation\":\"v\",\"showlegend\":true,\"text\":[97.0],\"textposition\":\"auto\",\"x\":[\"helicopter\"],\"xaxis\":\"x\",\"y\":[97],\"yaxis\":\"y\",\"type\":\"bar\"}],                        {\"template\":{\"data\":{\"bar\":[{\"error_x\":{\"color\":\"#2a3f5f\"},\"error_y\":{\"color\":\"#2a3f5f\"},\"marker\":{\"line\":{\"color\":\"#E5ECF6\",\"width\":0.5},\"pattern\":{\"fillmode\":\"overlay\",\"size\":10,\"solidity\":0.2}},\"type\":\"bar\"}],\"barpolar\":[{\"marker\":{\"line\":{\"color\":\"#E5ECF6\",\"width\":0.5},\"pattern\":{\"fillmode\":\"overlay\",\"size\":10,\"solidity\":0.2}},\"type\":\"barpolar\"}],\"carpet\":[{\"aaxis\":{\"endlinecolor\":\"#2a3f5f\",\"gridcolor\":\"white\",\"linecolor\":\"white\",\"minorgridcolor\":\"white\",\"startlinecolor\":\"#2a3f5f\"},\"baxis\":{\"endlinecolor\":\"#2a3f5f\",\"gridcolor\":\"white\",\"linecolor\":\"white\",\"minorgridcolor\":\"white\",\"startlinecolor\":\"#2a3f5f\"},\"type\":\"carpet\"}],\"choropleth\":[{\"colorbar\":{\"outlinewidth\":0,\"ticks\":\"\"},\"type\":\"choropleth\"}],\"contour\":[{\"colorbar\":{\"outlinewidth\":0,\"ticks\":\"\"},\"colorscale\":[[0.0,\"#0d0887\"],[0.1111111111111111,\"#46039f\"],[0.2222222222222222,\"#7201a8\"],[0.3333333333333333,\"#9c179e\"],[0.4444444444444444,\"#bd3786\"],[0.5555555555555556,\"#d8576b\"],[0.6666666666666666,\"#ed7953\"],[0.7777777777777778,\"#fb9f3a\"],[0.8888888888888888,\"#fdca26\"],[1.0,\"#f0f921\"]],\"type\":\"contour\"}],\"contourcarpet\":[{\"colorbar\":{\"outlinewidth\":0,\"ticks\":\"\"},\"type\":\"contourcarpet\"}],\"heatmap\":[{\"colorbar\":{\"outlinewidth\":0,\"ticks\":\"\"},\"colorscale\":[[0.0,\"#0d0887\"],[0.1111111111111111,\"#46039f\"],[0.2222222222222222,\"#7201a8\"],[0.3333333333333333,\"#9c179e\"],[0.4444444444444444,\"#bd3786\"],[0.5555555555555556,\"#d8576b\"],[0.6666666666666666,\"#ed7953\"],[0.7777777777777778,\"#fb9f3a\"],[0.8888888888888888,\"#fdca26\"],[1.0,\"#f0f921\"]],\"type\":\"heatmap\"}],\"heatmapgl\":[{\"colorbar\":{\"outlinewidth\":0,\"ticks\":\"\"},\"colorscale\":[[0.0,\"#0d0887\"],[0.1111111111111111,\"#46039f\"],[0.2222222222222222,\"#7201a8\"],[0.3333333333333333,\"#9c179e\"],[0.4444444444444444,\"#bd3786\"],[0.5555555555555556,\"#d8576b\"],[0.6666666666666666,\"#ed7953\"],[0.7777777777777778,\"#fb9f3a\"],[0.8888888888888888,\"#fdca26\"],[1.0,\"#f0f921\"]],\"type\":\"heatmapgl\"}],\"histogram\":[{\"marker\":{\"pattern\":{\"fillmode\":\"overlay\",\"size\":10,\"solidity\":0.2}},\"type\":\"histogram\"}],\"histogram2d\":[{\"colorbar\":{\"outlinewidth\":0,\"ticks\":\"\"},\"colorscale\":[[0.0,\"#0d0887\"],[0.1111111111111111,\"#46039f\"],[0.2222222222222222,\"#7201a8\"],[0.3333333333333333,\"#9c179e\"],[0.4444444444444444,\"#bd3786\"],[0.5555555555555556,\"#d8576b\"],[0.6666666666666666,\"#ed7953\"],[0.7777777777777778,\"#fb9f3a\"],[0.8888888888888888,\"#fdca26\"],[1.0,\"#f0f921\"]],\"type\":\"histogram2d\"}],\"histogram2dcontour\":[{\"colorbar\":{\"outlinewidth\":0,\"ticks\":\"\"},\"colorscale\":[[0.0,\"#0d0887\"],[0.1111111111111111,\"#46039f\"],[0.2222222222222222,\"#7201a8\"],[0.3333333333333333,\"#9c179e\"],[0.4444444444444444,\"#bd3786\"],[0.5555555555555556,\"#d8576b\"],[0.6666666666666666,\"#ed7953\"],[0.7777777777777778,\"#fb9f3a\"],[0.8888888888888888,\"#fdca26\"],[1.0,\"#f0f921\"]],\"type\":\"histogram2dcontour\"}],\"mesh3d\":[{\"colorbar\":{\"outlinewidth\":0,\"ticks\":\"\"},\"type\":\"mesh3d\"}],\"parcoords\":[{\"line\":{\"colorbar\":{\"outlinewidth\":0,\"ticks\":\"\"}},\"type\":\"parcoords\"}],\"pie\":[{\"automargin\":true,\"type\":\"pie\"}],\"scatter\":[{\"marker\":{\"colorbar\":{\"outlinewidth\":0,\"ticks\":\"\"}},\"type\":\"scatter\"}],\"scatter3d\":[{\"line\":{\"colorbar\":{\"outlinewidth\":0,\"ticks\":\"\"}},\"marker\":{\"colorbar\":{\"outlinewidth\":0,\"ticks\":\"\"}},\"type\":\"scatter3d\"}],\"scattercarpet\":[{\"marker\":{\"colorbar\":{\"outlinewidth\":0,\"ticks\":\"\"}},\"type\":\"scattercarpet\"}],\"scattergeo\":[{\"marker\":{\"colorbar\":{\"outlinewidth\":0,\"ticks\":\"\"}},\"type\":\"scattergeo\"}],\"scattergl\":[{\"marker\":{\"colorbar\":{\"outlinewidth\":0,\"ticks\":\"\"}},\"type\":\"scattergl\"}],\"scattermapbox\":[{\"marker\":{\"colorbar\":{\"outlinewidth\":0,\"ticks\":\"\"}},\"type\":\"scattermapbox\"}],\"scatterpolar\":[{\"marker\":{\"colorbar\":{\"outlinewidth\":0,\"ticks\":\"\"}},\"type\":\"scatterpolar\"}],\"scatterpolargl\":[{\"marker\":{\"colorbar\":{\"outlinewidth\":0,\"ticks\":\"\"}},\"type\":\"scatterpolargl\"}],\"scatterternary\":[{\"marker\":{\"colorbar\":{\"outlinewidth\":0,\"ticks\":\"\"}},\"type\":\"scatterternary\"}],\"surface\":[{\"colorbar\":{\"outlinewidth\":0,\"ticks\":\"\"},\"colorscale\":[[0.0,\"#0d0887\"],[0.1111111111111111,\"#46039f\"],[0.2222222222222222,\"#7201a8\"],[0.3333333333333333,\"#9c179e\"],[0.4444444444444444,\"#bd3786\"],[0.5555555555555556,\"#d8576b\"],[0.6666666666666666,\"#ed7953\"],[0.7777777777777778,\"#fb9f3a\"],[0.8888888888888888,\"#fdca26\"],[1.0,\"#f0f921\"]],\"type\":\"surface\"}],\"table\":[{\"cells\":{\"fill\":{\"color\":\"#EBF0F8\"},\"line\":{\"color\":\"white\"}},\"header\":{\"fill\":{\"color\":\"#C8D4E3\"},\"line\":{\"color\":\"white\"}},\"type\":\"table\"}]},\"layout\":{\"annotationdefaults\":{\"arrowcolor\":\"#2a3f5f\",\"arrowhead\":0,\"arrowwidth\":1},\"autotypenumbers\":\"strict\",\"coloraxis\":{\"colorbar\":{\"outlinewidth\":0,\"ticks\":\"\"}},\"colorscale\":{\"diverging\":[[0,\"#8e0152\"],[0.1,\"#c51b7d\"],[0.2,\"#de77ae\"],[0.3,\"#f1b6da\"],[0.4,\"#fde0ef\"],[0.5,\"#f7f7f7\"],[0.6,\"#e6f5d0\"],[0.7,\"#b8e186\"],[0.8,\"#7fbc41\"],[0.9,\"#4d9221\"],[1,\"#276419\"]],\"sequential\":[[0.0,\"#0d0887\"],[0.1111111111111111,\"#46039f\"],[0.2222222222222222,\"#7201a8\"],[0.3333333333333333,\"#9c179e\"],[0.4444444444444444,\"#bd3786\"],[0.5555555555555556,\"#d8576b\"],[0.6666666666666666,\"#ed7953\"],[0.7777777777777778,\"#fb9f3a\"],[0.8888888888888888,\"#fdca26\"],[1.0,\"#f0f921\"]],\"sequentialminus\":[[0.0,\"#0d0887\"],[0.1111111111111111,\"#46039f\"],[0.2222222222222222,\"#7201a8\"],[0.3333333333333333,\"#9c179e\"],[0.4444444444444444,\"#bd3786\"],[0.5555555555555556,\"#d8576b\"],[0.6666666666666666,\"#ed7953\"],[0.7777777777777778,\"#fb9f3a\"],[0.8888888888888888,\"#fdca26\"],[1.0,\"#f0f921\"]]},\"colorway\":[\"#636efa\",\"#EF553B\",\"#00cc96\",\"#ab63fa\",\"#FFA15A\",\"#19d3f3\",\"#FF6692\",\"#B6E880\",\"#FF97FF\",\"#FECB52\"],\"font\":{\"color\":\"#2a3f5f\"},\"geo\":{\"bgcolor\":\"white\",\"lakecolor\":\"white\",\"landcolor\":\"#E5ECF6\",\"showlakes\":true,\"showland\":true,\"subunitcolor\":\"white\"},\"hoverlabel\":{\"align\":\"left\"},\"hovermode\":\"closest\",\"mapbox\":{\"style\":\"light\"},\"paper_bgcolor\":\"white\",\"plot_bgcolor\":\"#E5ECF6\",\"polar\":{\"angularaxis\":{\"gridcolor\":\"white\",\"linecolor\":\"white\",\"ticks\":\"\"},\"bgcolor\":\"#E5ECF6\",\"radialaxis\":{\"gridcolor\":\"white\",\"linecolor\":\"white\",\"ticks\":\"\"}},\"scene\":{\"xaxis\":{\"backgroundcolor\":\"#E5ECF6\",\"gridcolor\":\"white\",\"gridwidth\":2,\"linecolor\":\"white\",\"showbackground\":true,\"ticks\":\"\",\"zerolinecolor\":\"white\"},\"yaxis\":{\"backgroundcolor\":\"#E5ECF6\",\"gridcolor\":\"white\",\"gridwidth\":2,\"linecolor\":\"white\",\"showbackground\":true,\"ticks\":\"\",\"zerolinecolor\":\"white\"},\"zaxis\":{\"backgroundcolor\":\"#E5ECF6\",\"gridcolor\":\"white\",\"gridwidth\":2,\"linecolor\":\"white\",\"showbackground\":true,\"ticks\":\"\",\"zerolinecolor\":\"white\"}},\"shapedefaults\":{\"line\":{\"color\":\"#2a3f5f\"}},\"ternary\":{\"aaxis\":{\"gridcolor\":\"white\",\"linecolor\":\"white\",\"ticks\":\"\"},\"baxis\":{\"gridcolor\":\"white\",\"linecolor\":\"white\",\"ticks\":\"\"},\"bgcolor\":\"#E5ECF6\",\"caxis\":{\"gridcolor\":\"white\",\"linecolor\":\"white\",\"ticks\":\"\"}},\"title\":{\"x\":0.05},\"xaxis\":{\"automargin\":true,\"gridcolor\":\"white\",\"linecolor\":\"white\",\"ticks\":\"\",\"title\":{\"standoff\":15},\"zerolinecolor\":\"white\",\"zerolinewidth\":2},\"yaxis\":{\"automargin\":true,\"gridcolor\":\"white\",\"linecolor\":\"white\",\"ticks\":\"\",\"title\":{\"standoff\":15},\"zerolinecolor\":\"white\",\"zerolinewidth\":2}}},\"xaxis\":{\"anchor\":\"y\",\"domain\":[0.0,1.0],\"title\":{\"text\":\"word\"},\"categoryorder\":\"array\",\"categoryarray\":[\"pack\",\"set\",\"brick\",\"value\",\"truck\",\"bucket\",\"lego\",\"fire\",\"bonus\",\"x\",\"v\",\"city\",\"car\",\"police\",\"building\",\"super\",\"battle\",\"train\",\"box\",\"first\",\"fun\",\"mini\",\"house\",\"accessory\",\"helicopter\"]},\"yaxis\":{\"anchor\":\"x\",\"domain\":[0.0,1.0],\"title\":{\"text\":\"occurances\"}},\"legend\":{\"title\":{\"text\":\"word\"},\"tracegroupgap\":0},\"title\":{\"text\":\"Top 25 most frequent words in set names\"},\"barmode\":\"relative\"},                        {\"responsive\": true}                    ).then(function(){\n",
       "                            \n",
       "var gd = document.getElementById('00cc5c02-c9c8-4b09-b402-b4f6465a7682');\n",
       "var x = new MutationObserver(function (mutations, observer) {{\n",
       "        var display = window.getComputedStyle(gd).display;\n",
       "        if (!display || display === 'none') {{\n",
       "            console.log([gd, 'removed!']);\n",
       "            Plotly.purge(gd);\n",
       "            observer.disconnect();\n",
       "        }}\n",
       "}});\n",
       "\n",
       "// Listen for the removal of the full notebook cells\n",
       "var notebookContainer = gd.closest('#notebook-container');\n",
       "if (notebookContainer) {{\n",
       "    x.observe(notebookContainer, {childList: true});\n",
       "}}\n",
       "\n",
       "// Listen for the clearing of the current output cell\n",
       "var outputEl = gd.closest('.output');\n",
       "if (outputEl) {{\n",
       "    x.observe(outputEl, {childList: true});\n",
       "}}\n",
       "\n",
       "                        })                };                });            </script>        </div>"
      ]
     },
     "metadata": {},
     "output_type": "display_data"
    }
   ],
   "source": [
    "fig = px.bar(df_results_count.head(25), \"word\", \"occurances\",\n",
    "       color = \"word\", text = \"occurances\",\n",
    "       title = \"Top 25 most frequent words in set names\")\n",
    "fig.show()                     \n",
    "#fig.update_layout(xaxis = dict(visible = False, matches = None))\n"
   ]
  },
  {
   "cell_type": "markdown",
   "id": "e107c9a7",
   "metadata": {},
   "source": [
    "#### Are lego sets becomming more and more expensive?"
   ]
  },
  {
   "cell_type": "code",
   "execution_count": 598,
   "id": "729b2c72",
   "metadata": {},
   "outputs": [
    {
     "data": {
      "text/html": [
       "<div>\n",
       "<style scoped>\n",
       "    .dataframe tbody tr th:only-of-type {\n",
       "        vertical-align: middle;\n",
       "    }\n",
       "\n",
       "    .dataframe tbody tr th {\n",
       "        vertical-align: top;\n",
       "    }\n",
       "\n",
       "    .dataframe thead th {\n",
       "        text-align: right;\n",
       "    }\n",
       "</style>\n",
       "<table border=\"1\" class=\"dataframe\">\n",
       "  <thead>\n",
       "    <tr style=\"text-align: right;\">\n",
       "      <th></th>\n",
       "      <th>year</th>\n",
       "      <th>minifigs</th>\n",
       "      <th>pieces</th>\n",
       "      <th>price</th>\n",
       "      <th>value_new</th>\n",
       "      <th>value_used</th>\n",
       "      <th>numeric_data_nan</th>\n",
       "    </tr>\n",
       "  </thead>\n",
       "  <tbody>\n",
       "    <tr>\n",
       "      <th>0</th>\n",
       "      <td>1991</td>\n",
       "      <td>2.83</td>\n",
       "      <td>127.90</td>\n",
       "      <td>22.60</td>\n",
       "      <td>195.91</td>\n",
       "      <td>62.36</td>\n",
       "      <td>0.00</td>\n",
       "    </tr>\n",
       "    <tr>\n",
       "      <th>1</th>\n",
       "      <td>1992</td>\n",
       "      <td>3.03</td>\n",
       "      <td>155.44</td>\n",
       "      <td>23.37</td>\n",
       "      <td>191.67</td>\n",
       "      <td>56.31</td>\n",
       "      <td>0.00</td>\n",
       "    </tr>\n",
       "    <tr>\n",
       "      <th>2</th>\n",
       "      <td>1993</td>\n",
       "      <td>2.79</td>\n",
       "      <td>150.68</td>\n",
       "      <td>21.33</td>\n",
       "      <td>173.64</td>\n",
       "      <td>52.11</td>\n",
       "      <td>0.00</td>\n",
       "    </tr>\n",
       "    <tr>\n",
       "      <th>3</th>\n",
       "      <td>1994</td>\n",
       "      <td>2.69</td>\n",
       "      <td>167.21</td>\n",
       "      <td>28.49</td>\n",
       "      <td>179.69</td>\n",
       "      <td>59.67</td>\n",
       "      <td>0.00</td>\n",
       "    </tr>\n",
       "    <tr>\n",
       "      <th>4</th>\n",
       "      <td>1995</td>\n",
       "      <td>2.84</td>\n",
       "      <td>187.92</td>\n",
       "      <td>25.27</td>\n",
       "      <td>156.63</td>\n",
       "      <td>47.19</td>\n",
       "      <td>0.00</td>\n",
       "    </tr>\n",
       "  </tbody>\n",
       "</table>\n",
       "</div>"
      ],
      "text/plain": [
       "   year  minifigs  pieces  price  value_new  value_used  numeric_data_nan\n",
       "0  1991      2.83  127.90  22.60     195.91       62.36              0.00\n",
       "1  1992      3.03  155.44  23.37     191.67       56.31              0.00\n",
       "2  1993      2.79  150.68  21.33     173.64       52.11              0.00\n",
       "3  1994      2.69  167.21  28.49     179.69       59.67              0.00\n",
       "4  1995      2.84  187.92  25.27     156.63       47.19              0.00"
      ]
     },
     "execution_count": 598,
     "metadata": {},
     "output_type": "execute_result"
    }
   ],
   "source": [
    "df_expense = pd.DataFrame(df_sets_price.groupby(by = \"year\").mean()).reset_index()\n",
    "df_expense.head()"
   ]
  },
  {
   "cell_type": "code",
   "execution_count": 605,
   "id": "923f70cf",
   "metadata": {},
   "outputs": [
    {
     "data": {
      "text/html": [
       "<div>\n",
       "<style scoped>\n",
       "    .dataframe tbody tr th:only-of-type {\n",
       "        vertical-align: middle;\n",
       "    }\n",
       "\n",
       "    .dataframe tbody tr th {\n",
       "        vertical-align: top;\n",
       "    }\n",
       "\n",
       "    .dataframe thead th {\n",
       "        text-align: right;\n",
       "    }\n",
       "</style>\n",
       "<table border=\"1\" class=\"dataframe\">\n",
       "  <thead>\n",
       "    <tr style=\"text-align: right;\">\n",
       "      <th></th>\n",
       "      <th>year</th>\n",
       "      <th>minifigs</th>\n",
       "      <th>pieces</th>\n",
       "      <th>price</th>\n",
       "      <th>value_new</th>\n",
       "      <th>value_used</th>\n",
       "      <th>numeric_data_nan</th>\n",
       "      <th>price_per_piece</th>\n",
       "    </tr>\n",
       "  </thead>\n",
       "  <tbody>\n",
       "    <tr>\n",
       "      <th>0</th>\n",
       "      <td>1991</td>\n",
       "      <td>2.83</td>\n",
       "      <td>127.90</td>\n",
       "      <td>22.60</td>\n",
       "      <td>195.91</td>\n",
       "      <td>62.36</td>\n",
       "      <td>0.00</td>\n",
       "      <td>0.18</td>\n",
       "    </tr>\n",
       "    <tr>\n",
       "      <th>1</th>\n",
       "      <td>1992</td>\n",
       "      <td>3.03</td>\n",
       "      <td>155.44</td>\n",
       "      <td>23.37</td>\n",
       "      <td>191.67</td>\n",
       "      <td>56.31</td>\n",
       "      <td>0.00</td>\n",
       "      <td>0.15</td>\n",
       "    </tr>\n",
       "    <tr>\n",
       "      <th>2</th>\n",
       "      <td>1993</td>\n",
       "      <td>2.79</td>\n",
       "      <td>150.68</td>\n",
       "      <td>21.33</td>\n",
       "      <td>173.64</td>\n",
       "      <td>52.11</td>\n",
       "      <td>0.00</td>\n",
       "      <td>0.14</td>\n",
       "    </tr>\n",
       "    <tr>\n",
       "      <th>3</th>\n",
       "      <td>1994</td>\n",
       "      <td>2.69</td>\n",
       "      <td>167.21</td>\n",
       "      <td>28.49</td>\n",
       "      <td>179.69</td>\n",
       "      <td>59.67</td>\n",
       "      <td>0.00</td>\n",
       "      <td>0.17</td>\n",
       "    </tr>\n",
       "    <tr>\n",
       "      <th>4</th>\n",
       "      <td>1995</td>\n",
       "      <td>2.84</td>\n",
       "      <td>187.92</td>\n",
       "      <td>25.27</td>\n",
       "      <td>156.63</td>\n",
       "      <td>47.19</td>\n",
       "      <td>0.00</td>\n",
       "      <td>0.13</td>\n",
       "    </tr>\n",
       "  </tbody>\n",
       "</table>\n",
       "</div>"
      ],
      "text/plain": [
       "   year  minifigs  pieces  price  value_new  value_used  numeric_data_nan  \\\n",
       "0  1991      2.83  127.90  22.60     195.91       62.36              0.00   \n",
       "1  1992      3.03  155.44  23.37     191.67       56.31              0.00   \n",
       "2  1993      2.79  150.68  21.33     173.64       52.11              0.00   \n",
       "3  1994      2.69  167.21  28.49     179.69       59.67              0.00   \n",
       "4  1995      2.84  187.92  25.27     156.63       47.19              0.00   \n",
       "\n",
       "   price_per_piece  \n",
       "0             0.18  \n",
       "1             0.15  \n",
       "2             0.14  \n",
       "3             0.17  \n",
       "4             0.13  "
      ]
     },
     "execution_count": 605,
     "metadata": {},
     "output_type": "execute_result"
    }
   ],
   "source": [
    "df_expense[\"price_per_piece\"] = df_expense.price.values / df_expense.pieces.values\n",
    "df_expense.head()"
   ]
  },
  {
   "cell_type": "code",
   "execution_count": 624,
   "id": "97ffa92c",
   "metadata": {},
   "outputs": [
    {
     "data": {
      "application/vnd.plotly.v1+json": {
       "config": {
        "plotlyServerURL": "https://plot.ly"
       },
       "data": [
        {
         "hovertemplate": "year=%{x}<br>average price in USD=%{y}<br>price_per_piece=%{marker.color}<extra></extra>",
         "legendgroup": "",
         "marker": {
          "color": [
           0.17673633767171923,
           0.15036004514672685,
           0.14157696642856032,
           0.17037716290566937,
           0.13449566517189834,
           0.13553193313330475,
           0.1605952380952381,
           0.15449565160100143,
           0.18083857949959645,
           0.1589784930418665,
           0.15252395694869314,
           0.16513317371100417,
           0.13617418245651727,
           0.12813393224382133,
           0.11549404935012038,
           0.11223942559404079,
           0.10547025317671534,
           0.1079395435107324,
           0.1325184083024073,
           0.12347956309489024,
           0.13263361717053526,
           0.12101187934209078,
           0.1423943152473144,
           0.1135275436847636,
           0.11963257036497887,
           0.11032750147392147,
           0.10538435783472803,
           0.10818115061969406,
           0.11147761364175916,
           0.10302834613973104,
           0.09575692072489597
          ],
          "coloraxis": "coloraxis",
          "size": [
           0.17673633767171923,
           0.15036004514672685,
           0.14157696642856032,
           0.17037716290566937,
           0.13449566517189834,
           0.13553193313330475,
           0.1605952380952381,
           0.15449565160100143,
           0.18083857949959645,
           0.1589784930418665,
           0.15252395694869314,
           0.16513317371100417,
           0.13617418245651727,
           0.12813393224382133,
           0.11549404935012038,
           0.11223942559404079,
           0.10547025317671534,
           0.1079395435107324,
           0.1325184083024073,
           0.12347956309489024,
           0.13263361717053526,
           0.12101187934209078,
           0.1423943152473144,
           0.1135275436847636,
           0.11963257036497887,
           0.11032750147392147,
           0.10538435783472803,
           0.10818115061969406,
           0.11147761364175916,
           0.10302834613973104,
           0.09575692072489597
          ],
          "sizemode": "area",
          "sizeref": 0.0004520964487489911,
          "symbol": "circle"
         },
         "mode": "markers",
         "name": "",
         "orientation": "v",
         "showlegend": false,
         "type": "scatter",
         "x": [
          1991,
          1992,
          1993,
          1994,
          1995,
          1996,
          1997,
          1998,
          1999,
          2000,
          2001,
          2002,
          2003,
          2004,
          2005,
          2006,
          2007,
          2008,
          2009,
          2010,
          2011,
          2012,
          2013,
          2014,
          2015,
          2016,
          2017,
          2018,
          2019,
          2020,
          2021
         ],
         "xaxis": "x",
         "y": [
          22.60486731991399,
          23.371754385964913,
          21.332615048646286,
          28.48933333333333,
          25.274606741573034,
          23.954242424242423,
          23.513819444444444,
          23.927908163265304,
          22.184059405940594,
          21.52796812749004,
          20.94623679495399,
          23.943179138960595,
          24.856561932016753,
          22.4970357318501,
          27.509758602803874,
          33.35099233901418,
          37.68555323425625,
          37.1785791474229,
          37.62127865174658,
          37.0236989599934,
          34.68039856626449,
          30.258945730798846,
          41.800550866097474,
          33.17633334501481,
          35.22619764365626,
          38.619222495100594,
          43.40841844131311,
          39.6211470634483,
          46.88477268009478,
          47.715763949182055,
          53.609056082496224
         ],
         "yaxis": "y"
        }
       ],
       "layout": {
        "coloraxis": {
         "colorbar": {
          "title": {
           "text": "price_per_piece"
          }
         },
         "colorscale": [
          [
           0,
           "#0d0887"
          ],
          [
           0.1111111111111111,
           "#46039f"
          ],
          [
           0.2222222222222222,
           "#7201a8"
          ],
          [
           0.3333333333333333,
           "#9c179e"
          ],
          [
           0.4444444444444444,
           "#bd3786"
          ],
          [
           0.5555555555555556,
           "#d8576b"
          ],
          [
           0.6666666666666666,
           "#ed7953"
          ],
          [
           0.7777777777777778,
           "#fb9f3a"
          ],
          [
           0.8888888888888888,
           "#fdca26"
          ],
          [
           1,
           "#f0f921"
          ]
         ]
        },
        "legend": {
         "itemsizing": "constant",
         "tracegroupgap": 0
        },
        "template": {
         "data": {
          "bar": [
           {
            "error_x": {
             "color": "#2a3f5f"
            },
            "error_y": {
             "color": "#2a3f5f"
            },
            "marker": {
             "line": {
              "color": "#E5ECF6",
              "width": 0.5
             },
             "pattern": {
              "fillmode": "overlay",
              "size": 10,
              "solidity": 0.2
             }
            },
            "type": "bar"
           }
          ],
          "barpolar": [
           {
            "marker": {
             "line": {
              "color": "#E5ECF6",
              "width": 0.5
             },
             "pattern": {
              "fillmode": "overlay",
              "size": 10,
              "solidity": 0.2
             }
            },
            "type": "barpolar"
           }
          ],
          "carpet": [
           {
            "aaxis": {
             "endlinecolor": "#2a3f5f",
             "gridcolor": "white",
             "linecolor": "white",
             "minorgridcolor": "white",
             "startlinecolor": "#2a3f5f"
            },
            "baxis": {
             "endlinecolor": "#2a3f5f",
             "gridcolor": "white",
             "linecolor": "white",
             "minorgridcolor": "white",
             "startlinecolor": "#2a3f5f"
            },
            "type": "carpet"
           }
          ],
          "choropleth": [
           {
            "colorbar": {
             "outlinewidth": 0,
             "ticks": ""
            },
            "type": "choropleth"
           }
          ],
          "contour": [
           {
            "colorbar": {
             "outlinewidth": 0,
             "ticks": ""
            },
            "colorscale": [
             [
              0,
              "#0d0887"
             ],
             [
              0.1111111111111111,
              "#46039f"
             ],
             [
              0.2222222222222222,
              "#7201a8"
             ],
             [
              0.3333333333333333,
              "#9c179e"
             ],
             [
              0.4444444444444444,
              "#bd3786"
             ],
             [
              0.5555555555555556,
              "#d8576b"
             ],
             [
              0.6666666666666666,
              "#ed7953"
             ],
             [
              0.7777777777777778,
              "#fb9f3a"
             ],
             [
              0.8888888888888888,
              "#fdca26"
             ],
             [
              1,
              "#f0f921"
             ]
            ],
            "type": "contour"
           }
          ],
          "contourcarpet": [
           {
            "colorbar": {
             "outlinewidth": 0,
             "ticks": ""
            },
            "type": "contourcarpet"
           }
          ],
          "heatmap": [
           {
            "colorbar": {
             "outlinewidth": 0,
             "ticks": ""
            },
            "colorscale": [
             [
              0,
              "#0d0887"
             ],
             [
              0.1111111111111111,
              "#46039f"
             ],
             [
              0.2222222222222222,
              "#7201a8"
             ],
             [
              0.3333333333333333,
              "#9c179e"
             ],
             [
              0.4444444444444444,
              "#bd3786"
             ],
             [
              0.5555555555555556,
              "#d8576b"
             ],
             [
              0.6666666666666666,
              "#ed7953"
             ],
             [
              0.7777777777777778,
              "#fb9f3a"
             ],
             [
              0.8888888888888888,
              "#fdca26"
             ],
             [
              1,
              "#f0f921"
             ]
            ],
            "type": "heatmap"
           }
          ],
          "heatmapgl": [
           {
            "colorbar": {
             "outlinewidth": 0,
             "ticks": ""
            },
            "colorscale": [
             [
              0,
              "#0d0887"
             ],
             [
              0.1111111111111111,
              "#46039f"
             ],
             [
              0.2222222222222222,
              "#7201a8"
             ],
             [
              0.3333333333333333,
              "#9c179e"
             ],
             [
              0.4444444444444444,
              "#bd3786"
             ],
             [
              0.5555555555555556,
              "#d8576b"
             ],
             [
              0.6666666666666666,
              "#ed7953"
             ],
             [
              0.7777777777777778,
              "#fb9f3a"
             ],
             [
              0.8888888888888888,
              "#fdca26"
             ],
             [
              1,
              "#f0f921"
             ]
            ],
            "type": "heatmapgl"
           }
          ],
          "histogram": [
           {
            "marker": {
             "pattern": {
              "fillmode": "overlay",
              "size": 10,
              "solidity": 0.2
             }
            },
            "type": "histogram"
           }
          ],
          "histogram2d": [
           {
            "colorbar": {
             "outlinewidth": 0,
             "ticks": ""
            },
            "colorscale": [
             [
              0,
              "#0d0887"
             ],
             [
              0.1111111111111111,
              "#46039f"
             ],
             [
              0.2222222222222222,
              "#7201a8"
             ],
             [
              0.3333333333333333,
              "#9c179e"
             ],
             [
              0.4444444444444444,
              "#bd3786"
             ],
             [
              0.5555555555555556,
              "#d8576b"
             ],
             [
              0.6666666666666666,
              "#ed7953"
             ],
             [
              0.7777777777777778,
              "#fb9f3a"
             ],
             [
              0.8888888888888888,
              "#fdca26"
             ],
             [
              1,
              "#f0f921"
             ]
            ],
            "type": "histogram2d"
           }
          ],
          "histogram2dcontour": [
           {
            "colorbar": {
             "outlinewidth": 0,
             "ticks": ""
            },
            "colorscale": [
             [
              0,
              "#0d0887"
             ],
             [
              0.1111111111111111,
              "#46039f"
             ],
             [
              0.2222222222222222,
              "#7201a8"
             ],
             [
              0.3333333333333333,
              "#9c179e"
             ],
             [
              0.4444444444444444,
              "#bd3786"
             ],
             [
              0.5555555555555556,
              "#d8576b"
             ],
             [
              0.6666666666666666,
              "#ed7953"
             ],
             [
              0.7777777777777778,
              "#fb9f3a"
             ],
             [
              0.8888888888888888,
              "#fdca26"
             ],
             [
              1,
              "#f0f921"
             ]
            ],
            "type": "histogram2dcontour"
           }
          ],
          "mesh3d": [
           {
            "colorbar": {
             "outlinewidth": 0,
             "ticks": ""
            },
            "type": "mesh3d"
           }
          ],
          "parcoords": [
           {
            "line": {
             "colorbar": {
              "outlinewidth": 0,
              "ticks": ""
             }
            },
            "type": "parcoords"
           }
          ],
          "pie": [
           {
            "automargin": true,
            "type": "pie"
           }
          ],
          "scatter": [
           {
            "marker": {
             "colorbar": {
              "outlinewidth": 0,
              "ticks": ""
             }
            },
            "type": "scatter"
           }
          ],
          "scatter3d": [
           {
            "line": {
             "colorbar": {
              "outlinewidth": 0,
              "ticks": ""
             }
            },
            "marker": {
             "colorbar": {
              "outlinewidth": 0,
              "ticks": ""
             }
            },
            "type": "scatter3d"
           }
          ],
          "scattercarpet": [
           {
            "marker": {
             "colorbar": {
              "outlinewidth": 0,
              "ticks": ""
             }
            },
            "type": "scattercarpet"
           }
          ],
          "scattergeo": [
           {
            "marker": {
             "colorbar": {
              "outlinewidth": 0,
              "ticks": ""
             }
            },
            "type": "scattergeo"
           }
          ],
          "scattergl": [
           {
            "marker": {
             "colorbar": {
              "outlinewidth": 0,
              "ticks": ""
             }
            },
            "type": "scattergl"
           }
          ],
          "scattermapbox": [
           {
            "marker": {
             "colorbar": {
              "outlinewidth": 0,
              "ticks": ""
             }
            },
            "type": "scattermapbox"
           }
          ],
          "scatterpolar": [
           {
            "marker": {
             "colorbar": {
              "outlinewidth": 0,
              "ticks": ""
             }
            },
            "type": "scatterpolar"
           }
          ],
          "scatterpolargl": [
           {
            "marker": {
             "colorbar": {
              "outlinewidth": 0,
              "ticks": ""
             }
            },
            "type": "scatterpolargl"
           }
          ],
          "scatterternary": [
           {
            "marker": {
             "colorbar": {
              "outlinewidth": 0,
              "ticks": ""
             }
            },
            "type": "scatterternary"
           }
          ],
          "surface": [
           {
            "colorbar": {
             "outlinewidth": 0,
             "ticks": ""
            },
            "colorscale": [
             [
              0,
              "#0d0887"
             ],
             [
              0.1111111111111111,
              "#46039f"
             ],
             [
              0.2222222222222222,
              "#7201a8"
             ],
             [
              0.3333333333333333,
              "#9c179e"
             ],
             [
              0.4444444444444444,
              "#bd3786"
             ],
             [
              0.5555555555555556,
              "#d8576b"
             ],
             [
              0.6666666666666666,
              "#ed7953"
             ],
             [
              0.7777777777777778,
              "#fb9f3a"
             ],
             [
              0.8888888888888888,
              "#fdca26"
             ],
             [
              1,
              "#f0f921"
             ]
            ],
            "type": "surface"
           }
          ],
          "table": [
           {
            "cells": {
             "fill": {
              "color": "#EBF0F8"
             },
             "line": {
              "color": "white"
             }
            },
            "header": {
             "fill": {
              "color": "#C8D4E3"
             },
             "line": {
              "color": "white"
             }
            },
            "type": "table"
           }
          ]
         },
         "layout": {
          "annotationdefaults": {
           "arrowcolor": "#2a3f5f",
           "arrowhead": 0,
           "arrowwidth": 1
          },
          "autotypenumbers": "strict",
          "coloraxis": {
           "colorbar": {
            "outlinewidth": 0,
            "ticks": ""
           }
          },
          "colorscale": {
           "diverging": [
            [
             0,
             "#8e0152"
            ],
            [
             0.1,
             "#c51b7d"
            ],
            [
             0.2,
             "#de77ae"
            ],
            [
             0.3,
             "#f1b6da"
            ],
            [
             0.4,
             "#fde0ef"
            ],
            [
             0.5,
             "#f7f7f7"
            ],
            [
             0.6,
             "#e6f5d0"
            ],
            [
             0.7,
             "#b8e186"
            ],
            [
             0.8,
             "#7fbc41"
            ],
            [
             0.9,
             "#4d9221"
            ],
            [
             1,
             "#276419"
            ]
           ],
           "sequential": [
            [
             0,
             "#0d0887"
            ],
            [
             0.1111111111111111,
             "#46039f"
            ],
            [
             0.2222222222222222,
             "#7201a8"
            ],
            [
             0.3333333333333333,
             "#9c179e"
            ],
            [
             0.4444444444444444,
             "#bd3786"
            ],
            [
             0.5555555555555556,
             "#d8576b"
            ],
            [
             0.6666666666666666,
             "#ed7953"
            ],
            [
             0.7777777777777778,
             "#fb9f3a"
            ],
            [
             0.8888888888888888,
             "#fdca26"
            ],
            [
             1,
             "#f0f921"
            ]
           ],
           "sequentialminus": [
            [
             0,
             "#0d0887"
            ],
            [
             0.1111111111111111,
             "#46039f"
            ],
            [
             0.2222222222222222,
             "#7201a8"
            ],
            [
             0.3333333333333333,
             "#9c179e"
            ],
            [
             0.4444444444444444,
             "#bd3786"
            ],
            [
             0.5555555555555556,
             "#d8576b"
            ],
            [
             0.6666666666666666,
             "#ed7953"
            ],
            [
             0.7777777777777778,
             "#fb9f3a"
            ],
            [
             0.8888888888888888,
             "#fdca26"
            ],
            [
             1,
             "#f0f921"
            ]
           ]
          },
          "colorway": [
           "#636efa",
           "#EF553B",
           "#00cc96",
           "#ab63fa",
           "#FFA15A",
           "#19d3f3",
           "#FF6692",
           "#B6E880",
           "#FF97FF",
           "#FECB52"
          ],
          "font": {
           "color": "#2a3f5f"
          },
          "geo": {
           "bgcolor": "white",
           "lakecolor": "white",
           "landcolor": "#E5ECF6",
           "showlakes": true,
           "showland": true,
           "subunitcolor": "white"
          },
          "hoverlabel": {
           "align": "left"
          },
          "hovermode": "closest",
          "mapbox": {
           "style": "light"
          },
          "paper_bgcolor": "white",
          "plot_bgcolor": "#E5ECF6",
          "polar": {
           "angularaxis": {
            "gridcolor": "white",
            "linecolor": "white",
            "ticks": ""
           },
           "bgcolor": "#E5ECF6",
           "radialaxis": {
            "gridcolor": "white",
            "linecolor": "white",
            "ticks": ""
           }
          },
          "scene": {
           "xaxis": {
            "backgroundcolor": "#E5ECF6",
            "gridcolor": "white",
            "gridwidth": 2,
            "linecolor": "white",
            "showbackground": true,
            "ticks": "",
            "zerolinecolor": "white"
           },
           "yaxis": {
            "backgroundcolor": "#E5ECF6",
            "gridcolor": "white",
            "gridwidth": 2,
            "linecolor": "white",
            "showbackground": true,
            "ticks": "",
            "zerolinecolor": "white"
           },
           "zaxis": {
            "backgroundcolor": "#E5ECF6",
            "gridcolor": "white",
            "gridwidth": 2,
            "linecolor": "white",
            "showbackground": true,
            "ticks": "",
            "zerolinecolor": "white"
           }
          },
          "shapedefaults": {
           "line": {
            "color": "#2a3f5f"
           }
          },
          "ternary": {
           "aaxis": {
            "gridcolor": "white",
            "linecolor": "white",
            "ticks": ""
           },
           "baxis": {
            "gridcolor": "white",
            "linecolor": "white",
            "ticks": ""
           },
           "bgcolor": "#E5ECF6",
           "caxis": {
            "gridcolor": "white",
            "linecolor": "white",
            "ticks": ""
           }
          },
          "title": {
           "x": 0.05
          },
          "xaxis": {
           "automargin": true,
           "gridcolor": "white",
           "linecolor": "white",
           "ticks": "",
           "title": {
            "standoff": 15
           },
           "zerolinecolor": "white",
           "zerolinewidth": 2
          },
          "yaxis": {
           "automargin": true,
           "gridcolor": "white",
           "linecolor": "white",
           "ticks": "",
           "title": {
            "standoff": 15
           },
           "zerolinecolor": "white",
           "zerolinewidth": 2
          }
         }
        },
        "title": {
         "text": "Yearly mean price per set 1991-2021"
        },
        "xaxis": {
         "anchor": "y",
         "domain": [
          0,
          1
         ],
         "dtick": 2,
         "tick0": 1,
         "tickmode": "linear",
         "title": {
          "text": "year"
         }
        },
        "yaxis": {
         "anchor": "x",
         "domain": [
          0,
          1
         ],
         "title": {
          "text": "average price in USD"
         }
        }
       }
      },
      "text/html": [
       "<div>                            <div id=\"fc35fee3-9b81-4429-902c-7aac8b7b8e4d\" class=\"plotly-graph-div\" style=\"height:525px; width:100%;\"></div>            <script type=\"text/javascript\">                require([\"plotly\"], function(Plotly) {                    window.PLOTLYENV=window.PLOTLYENV || {};                                    if (document.getElementById(\"fc35fee3-9b81-4429-902c-7aac8b7b8e4d\")) {                    Plotly.newPlot(                        \"fc35fee3-9b81-4429-902c-7aac8b7b8e4d\",                        [{\"hovertemplate\":\"year=%{x}<br>average price in USD=%{y}<br>price_per_piece=%{marker.color}<extra></extra>\",\"legendgroup\":\"\",\"marker\":{\"color\":[0.17673633767171923,0.15036004514672685,0.14157696642856032,0.17037716290566937,0.13449566517189834,0.13553193313330475,0.1605952380952381,0.15449565160100143,0.18083857949959645,0.1589784930418665,0.15252395694869314,0.16513317371100417,0.13617418245651727,0.12813393224382133,0.11549404935012038,0.11223942559404079,0.10547025317671534,0.1079395435107324,0.1325184083024073,0.12347956309489024,0.13263361717053526,0.12101187934209078,0.1423943152473144,0.1135275436847636,0.11963257036497887,0.11032750147392147,0.10538435783472803,0.10818115061969406,0.11147761364175916,0.10302834613973104,0.09575692072489597],\"coloraxis\":\"coloraxis\",\"size\":[0.17673633767171923,0.15036004514672685,0.14157696642856032,0.17037716290566937,0.13449566517189834,0.13553193313330475,0.1605952380952381,0.15449565160100143,0.18083857949959645,0.1589784930418665,0.15252395694869314,0.16513317371100417,0.13617418245651727,0.12813393224382133,0.11549404935012038,0.11223942559404079,0.10547025317671534,0.1079395435107324,0.1325184083024073,0.12347956309489024,0.13263361717053526,0.12101187934209078,0.1423943152473144,0.1135275436847636,0.11963257036497887,0.11032750147392147,0.10538435783472803,0.10818115061969406,0.11147761364175916,0.10302834613973104,0.09575692072489597],\"sizemode\":\"area\",\"sizeref\":0.0004520964487489911,\"symbol\":\"circle\"},\"mode\":\"markers\",\"name\":\"\",\"orientation\":\"v\",\"showlegend\":false,\"x\":[1991,1992,1993,1994,1995,1996,1997,1998,1999,2000,2001,2002,2003,2004,2005,2006,2007,2008,2009,2010,2011,2012,2013,2014,2015,2016,2017,2018,2019,2020,2021],\"xaxis\":\"x\",\"y\":[22.60486731991399,23.371754385964913,21.332615048646286,28.48933333333333,25.274606741573034,23.954242424242423,23.513819444444444,23.927908163265304,22.184059405940594,21.52796812749004,20.94623679495399,23.943179138960595,24.856561932016753,22.4970357318501,27.509758602803874,33.35099233901418,37.68555323425625,37.1785791474229,37.62127865174658,37.0236989599934,34.68039856626449,30.258945730798846,41.800550866097474,33.17633334501481,35.22619764365626,38.619222495100594,43.40841844131311,39.6211470634483,46.88477268009478,47.715763949182055,53.609056082496224],\"yaxis\":\"y\",\"type\":\"scatter\"}],                        {\"template\":{\"data\":{\"bar\":[{\"error_x\":{\"color\":\"#2a3f5f\"},\"error_y\":{\"color\":\"#2a3f5f\"},\"marker\":{\"line\":{\"color\":\"#E5ECF6\",\"width\":0.5},\"pattern\":{\"fillmode\":\"overlay\",\"size\":10,\"solidity\":0.2}},\"type\":\"bar\"}],\"barpolar\":[{\"marker\":{\"line\":{\"color\":\"#E5ECF6\",\"width\":0.5},\"pattern\":{\"fillmode\":\"overlay\",\"size\":10,\"solidity\":0.2}},\"type\":\"barpolar\"}],\"carpet\":[{\"aaxis\":{\"endlinecolor\":\"#2a3f5f\",\"gridcolor\":\"white\",\"linecolor\":\"white\",\"minorgridcolor\":\"white\",\"startlinecolor\":\"#2a3f5f\"},\"baxis\":{\"endlinecolor\":\"#2a3f5f\",\"gridcolor\":\"white\",\"linecolor\":\"white\",\"minorgridcolor\":\"white\",\"startlinecolor\":\"#2a3f5f\"},\"type\":\"carpet\"}],\"choropleth\":[{\"colorbar\":{\"outlinewidth\":0,\"ticks\":\"\"},\"type\":\"choropleth\"}],\"contour\":[{\"colorbar\":{\"outlinewidth\":0,\"ticks\":\"\"},\"colorscale\":[[0.0,\"#0d0887\"],[0.1111111111111111,\"#46039f\"],[0.2222222222222222,\"#7201a8\"],[0.3333333333333333,\"#9c179e\"],[0.4444444444444444,\"#bd3786\"],[0.5555555555555556,\"#d8576b\"],[0.6666666666666666,\"#ed7953\"],[0.7777777777777778,\"#fb9f3a\"],[0.8888888888888888,\"#fdca26\"],[1.0,\"#f0f921\"]],\"type\":\"contour\"}],\"contourcarpet\":[{\"colorbar\":{\"outlinewidth\":0,\"ticks\":\"\"},\"type\":\"contourcarpet\"}],\"heatmap\":[{\"colorbar\":{\"outlinewidth\":0,\"ticks\":\"\"},\"colorscale\":[[0.0,\"#0d0887\"],[0.1111111111111111,\"#46039f\"],[0.2222222222222222,\"#7201a8\"],[0.3333333333333333,\"#9c179e\"],[0.4444444444444444,\"#bd3786\"],[0.5555555555555556,\"#d8576b\"],[0.6666666666666666,\"#ed7953\"],[0.7777777777777778,\"#fb9f3a\"],[0.8888888888888888,\"#fdca26\"],[1.0,\"#f0f921\"]],\"type\":\"heatmap\"}],\"heatmapgl\":[{\"colorbar\":{\"outlinewidth\":0,\"ticks\":\"\"},\"colorscale\":[[0.0,\"#0d0887\"],[0.1111111111111111,\"#46039f\"],[0.2222222222222222,\"#7201a8\"],[0.3333333333333333,\"#9c179e\"],[0.4444444444444444,\"#bd3786\"],[0.5555555555555556,\"#d8576b\"],[0.6666666666666666,\"#ed7953\"],[0.7777777777777778,\"#fb9f3a\"],[0.8888888888888888,\"#fdca26\"],[1.0,\"#f0f921\"]],\"type\":\"heatmapgl\"}],\"histogram\":[{\"marker\":{\"pattern\":{\"fillmode\":\"overlay\",\"size\":10,\"solidity\":0.2}},\"type\":\"histogram\"}],\"histogram2d\":[{\"colorbar\":{\"outlinewidth\":0,\"ticks\":\"\"},\"colorscale\":[[0.0,\"#0d0887\"],[0.1111111111111111,\"#46039f\"],[0.2222222222222222,\"#7201a8\"],[0.3333333333333333,\"#9c179e\"],[0.4444444444444444,\"#bd3786\"],[0.5555555555555556,\"#d8576b\"],[0.6666666666666666,\"#ed7953\"],[0.7777777777777778,\"#fb9f3a\"],[0.8888888888888888,\"#fdca26\"],[1.0,\"#f0f921\"]],\"type\":\"histogram2d\"}],\"histogram2dcontour\":[{\"colorbar\":{\"outlinewidth\":0,\"ticks\":\"\"},\"colorscale\":[[0.0,\"#0d0887\"],[0.1111111111111111,\"#46039f\"],[0.2222222222222222,\"#7201a8\"],[0.3333333333333333,\"#9c179e\"],[0.4444444444444444,\"#bd3786\"],[0.5555555555555556,\"#d8576b\"],[0.6666666666666666,\"#ed7953\"],[0.7777777777777778,\"#fb9f3a\"],[0.8888888888888888,\"#fdca26\"],[1.0,\"#f0f921\"]],\"type\":\"histogram2dcontour\"}],\"mesh3d\":[{\"colorbar\":{\"outlinewidth\":0,\"ticks\":\"\"},\"type\":\"mesh3d\"}],\"parcoords\":[{\"line\":{\"colorbar\":{\"outlinewidth\":0,\"ticks\":\"\"}},\"type\":\"parcoords\"}],\"pie\":[{\"automargin\":true,\"type\":\"pie\"}],\"scatter\":[{\"marker\":{\"colorbar\":{\"outlinewidth\":0,\"ticks\":\"\"}},\"type\":\"scatter\"}],\"scatter3d\":[{\"line\":{\"colorbar\":{\"outlinewidth\":0,\"ticks\":\"\"}},\"marker\":{\"colorbar\":{\"outlinewidth\":0,\"ticks\":\"\"}},\"type\":\"scatter3d\"}],\"scattercarpet\":[{\"marker\":{\"colorbar\":{\"outlinewidth\":0,\"ticks\":\"\"}},\"type\":\"scattercarpet\"}],\"scattergeo\":[{\"marker\":{\"colorbar\":{\"outlinewidth\":0,\"ticks\":\"\"}},\"type\":\"scattergeo\"}],\"scattergl\":[{\"marker\":{\"colorbar\":{\"outlinewidth\":0,\"ticks\":\"\"}},\"type\":\"scattergl\"}],\"scattermapbox\":[{\"marker\":{\"colorbar\":{\"outlinewidth\":0,\"ticks\":\"\"}},\"type\":\"scattermapbox\"}],\"scatterpolar\":[{\"marker\":{\"colorbar\":{\"outlinewidth\":0,\"ticks\":\"\"}},\"type\":\"scatterpolar\"}],\"scatterpolargl\":[{\"marker\":{\"colorbar\":{\"outlinewidth\":0,\"ticks\":\"\"}},\"type\":\"scatterpolargl\"}],\"scatterternary\":[{\"marker\":{\"colorbar\":{\"outlinewidth\":0,\"ticks\":\"\"}},\"type\":\"scatterternary\"}],\"surface\":[{\"colorbar\":{\"outlinewidth\":0,\"ticks\":\"\"},\"colorscale\":[[0.0,\"#0d0887\"],[0.1111111111111111,\"#46039f\"],[0.2222222222222222,\"#7201a8\"],[0.3333333333333333,\"#9c179e\"],[0.4444444444444444,\"#bd3786\"],[0.5555555555555556,\"#d8576b\"],[0.6666666666666666,\"#ed7953\"],[0.7777777777777778,\"#fb9f3a\"],[0.8888888888888888,\"#fdca26\"],[1.0,\"#f0f921\"]],\"type\":\"surface\"}],\"table\":[{\"cells\":{\"fill\":{\"color\":\"#EBF0F8\"},\"line\":{\"color\":\"white\"}},\"header\":{\"fill\":{\"color\":\"#C8D4E3\"},\"line\":{\"color\":\"white\"}},\"type\":\"table\"}]},\"layout\":{\"annotationdefaults\":{\"arrowcolor\":\"#2a3f5f\",\"arrowhead\":0,\"arrowwidth\":1},\"autotypenumbers\":\"strict\",\"coloraxis\":{\"colorbar\":{\"outlinewidth\":0,\"ticks\":\"\"}},\"colorscale\":{\"diverging\":[[0,\"#8e0152\"],[0.1,\"#c51b7d\"],[0.2,\"#de77ae\"],[0.3,\"#f1b6da\"],[0.4,\"#fde0ef\"],[0.5,\"#f7f7f7\"],[0.6,\"#e6f5d0\"],[0.7,\"#b8e186\"],[0.8,\"#7fbc41\"],[0.9,\"#4d9221\"],[1,\"#276419\"]],\"sequential\":[[0.0,\"#0d0887\"],[0.1111111111111111,\"#46039f\"],[0.2222222222222222,\"#7201a8\"],[0.3333333333333333,\"#9c179e\"],[0.4444444444444444,\"#bd3786\"],[0.5555555555555556,\"#d8576b\"],[0.6666666666666666,\"#ed7953\"],[0.7777777777777778,\"#fb9f3a\"],[0.8888888888888888,\"#fdca26\"],[1.0,\"#f0f921\"]],\"sequentialminus\":[[0.0,\"#0d0887\"],[0.1111111111111111,\"#46039f\"],[0.2222222222222222,\"#7201a8\"],[0.3333333333333333,\"#9c179e\"],[0.4444444444444444,\"#bd3786\"],[0.5555555555555556,\"#d8576b\"],[0.6666666666666666,\"#ed7953\"],[0.7777777777777778,\"#fb9f3a\"],[0.8888888888888888,\"#fdca26\"],[1.0,\"#f0f921\"]]},\"colorway\":[\"#636efa\",\"#EF553B\",\"#00cc96\",\"#ab63fa\",\"#FFA15A\",\"#19d3f3\",\"#FF6692\",\"#B6E880\",\"#FF97FF\",\"#FECB52\"],\"font\":{\"color\":\"#2a3f5f\"},\"geo\":{\"bgcolor\":\"white\",\"lakecolor\":\"white\",\"landcolor\":\"#E5ECF6\",\"showlakes\":true,\"showland\":true,\"subunitcolor\":\"white\"},\"hoverlabel\":{\"align\":\"left\"},\"hovermode\":\"closest\",\"mapbox\":{\"style\":\"light\"},\"paper_bgcolor\":\"white\",\"plot_bgcolor\":\"#E5ECF6\",\"polar\":{\"angularaxis\":{\"gridcolor\":\"white\",\"linecolor\":\"white\",\"ticks\":\"\"},\"bgcolor\":\"#E5ECF6\",\"radialaxis\":{\"gridcolor\":\"white\",\"linecolor\":\"white\",\"ticks\":\"\"}},\"scene\":{\"xaxis\":{\"backgroundcolor\":\"#E5ECF6\",\"gridcolor\":\"white\",\"gridwidth\":2,\"linecolor\":\"white\",\"showbackground\":true,\"ticks\":\"\",\"zerolinecolor\":\"white\"},\"yaxis\":{\"backgroundcolor\":\"#E5ECF6\",\"gridcolor\":\"white\",\"gridwidth\":2,\"linecolor\":\"white\",\"showbackground\":true,\"ticks\":\"\",\"zerolinecolor\":\"white\"},\"zaxis\":{\"backgroundcolor\":\"#E5ECF6\",\"gridcolor\":\"white\",\"gridwidth\":2,\"linecolor\":\"white\",\"showbackground\":true,\"ticks\":\"\",\"zerolinecolor\":\"white\"}},\"shapedefaults\":{\"line\":{\"color\":\"#2a3f5f\"}},\"ternary\":{\"aaxis\":{\"gridcolor\":\"white\",\"linecolor\":\"white\",\"ticks\":\"\"},\"baxis\":{\"gridcolor\":\"white\",\"linecolor\":\"white\",\"ticks\":\"\"},\"bgcolor\":\"#E5ECF6\",\"caxis\":{\"gridcolor\":\"white\",\"linecolor\":\"white\",\"ticks\":\"\"}},\"title\":{\"x\":0.05},\"xaxis\":{\"automargin\":true,\"gridcolor\":\"white\",\"linecolor\":\"white\",\"ticks\":\"\",\"title\":{\"standoff\":15},\"zerolinecolor\":\"white\",\"zerolinewidth\":2},\"yaxis\":{\"automargin\":true,\"gridcolor\":\"white\",\"linecolor\":\"white\",\"ticks\":\"\",\"title\":{\"standoff\":15},\"zerolinecolor\":\"white\",\"zerolinewidth\":2}}},\"xaxis\":{\"anchor\":\"y\",\"domain\":[0.0,1.0],\"title\":{\"text\":\"year\"},\"tickmode\":\"linear\",\"tick0\":1,\"dtick\":2},\"yaxis\":{\"anchor\":\"x\",\"domain\":[0.0,1.0],\"title\":{\"text\":\"average price in USD\"}},\"coloraxis\":{\"colorbar\":{\"title\":{\"text\":\"price_per_piece\"}},\"colorscale\":[[0.0,\"#0d0887\"],[0.1111111111111111,\"#46039f\"],[0.2222222222222222,\"#7201a8\"],[0.3333333333333333,\"#9c179e\"],[0.4444444444444444,\"#bd3786\"],[0.5555555555555556,\"#d8576b\"],[0.6666666666666666,\"#ed7953\"],[0.7777777777777778,\"#fb9f3a\"],[0.8888888888888888,\"#fdca26\"],[1.0,\"#f0f921\"]]},\"legend\":{\"tracegroupgap\":0,\"itemsizing\":\"constant\"},\"title\":{\"text\":\"Yearly mean price per set 1991-2021\"}},                        {\"responsive\": true}                    ).then(function(){\n",
       "                            \n",
       "var gd = document.getElementById('fc35fee3-9b81-4429-902c-7aac8b7b8e4d');\n",
       "var x = new MutationObserver(function (mutations, observer) {{\n",
       "        var display = window.getComputedStyle(gd).display;\n",
       "        if (!display || display === 'none') {{\n",
       "            console.log([gd, 'removed!']);\n",
       "            Plotly.purge(gd);\n",
       "            observer.disconnect();\n",
       "        }}\n",
       "}});\n",
       "\n",
       "// Listen for the removal of the full notebook cells\n",
       "var notebookContainer = gd.closest('#notebook-container');\n",
       "if (notebookContainer) {{\n",
       "    x.observe(notebookContainer, {childList: true});\n",
       "}}\n",
       "\n",
       "// Listen for the clearing of the current output cell\n",
       "var outputEl = gd.closest('.output');\n",
       "if (outputEl) {{\n",
       "    x.observe(outputEl, {childList: true});\n",
       "}}\n",
       "\n",
       "                        })                };                });            </script>        </div>"
      ]
     },
     "metadata": {},
     "output_type": "display_data"
    }
   ],
   "source": [
    "fig = px.scatter(df_expense,\"year\", \"price\", size = \"price_per_piece\",\n",
    "       color = \"price_per_piece\", #markers=True,\n",
    "       title = \"Yearly mean price per set 1991-2021\",labels = {\"price\":\"average price in USD\"})\n",
    "#fig.update_layout(yaxis = dict(tickmode = 'linear',tick0 = 0,dtick = 5))\n",
    "fig.update_layout(xaxis = dict(tickmode = 'linear',tick0 = 1,dtick = 2))\n",
    "fig.show()\n",
    "#fig.update_traces(mode='markers', textfont_size=3)"
   ]
  },
  {
   "cell_type": "code",
   "execution_count": null,
   "id": "9445c4bc",
   "metadata": {},
   "outputs": [],
   "source": []
  },
  {
   "cell_type": "code",
   "execution_count": null,
   "id": "dca08375",
   "metadata": {},
   "outputs": [],
   "source": []
  },
  {
   "cell_type": "code",
   "execution_count": null,
   "id": "d11177b1",
   "metadata": {},
   "outputs": [],
   "source": []
  },
  {
   "cell_type": "markdown",
   "id": "9be4dc0a",
   "metadata": {},
   "source": [
    "### Questions of interest\n",
    "\n",
    "**A) Exploratory Analysis**\n",
    "* **What themes are most dominant over the years?**\n",
    "* **What sets where record breakers in terms of piece count?**\n",
    "* **What sets where record breakers in terms of number of minifigs?**\n",
    "* **What words do most often come up in set names?**\n",
    "* **Are lego sets becomming more and more expensive?**\n",
    "* Does the value of sets go up after eol on average?\n",
    "* What sets do best after eol? (eol = lego-term for end-of-life meaning the date when the set is not being produced \n",
    "\n",
    "**B) Predictive Analysis**\n",
    "* What are features of the data set are good predictors that will rise in value after eol?\n",
    "* What do the words contained in the set names tell us about the rise of value after eol.\n",
    "* What sets that are currently being sold can I predicte to be a good investment after eol?* \n",
    "\n",
    "*e.g. price increase of at least 10 usd (for package and shipment when selling) + at least 25% profit"
   ]
  },
  {
   "cell_type": "code",
   "execution_count": 331,
   "id": "deea4f1c",
   "metadata": {},
   "outputs": [
    {
     "data": {
      "text/html": [
       "<div>\n",
       "<style scoped>\n",
       "    .dataframe tbody tr th:only-of-type {\n",
       "        vertical-align: middle;\n",
       "    }\n",
       "\n",
       "    .dataframe tbody tr th {\n",
       "        vertical-align: top;\n",
       "    }\n",
       "\n",
       "    .dataframe thead th {\n",
       "        text-align: right;\n",
       "    }\n",
       "</style>\n",
       "<table border=\"1\" class=\"dataframe\">\n",
       "  <thead>\n",
       "    <tr style=\"text-align: right;\">\n",
       "      <th></th>\n",
       "      <th>number</th>\n",
       "      <th>theme</th>\n",
       "      <th>subtheme</th>\n",
       "      <th>year</th>\n",
       "      <th>set_name</th>\n",
       "      <th>minifigs</th>\n",
       "      <th>pieces</th>\n",
       "      <th>rrp_gbp</th>\n",
       "      <th>price</th>\n",
       "      <th>rrp_eur</th>\n",
       "      <th>value_new</th>\n",
       "      <th>value_used</th>\n",
       "      <th>launch_date</th>\n",
       "      <th>exit_date</th>\n",
       "      <th>numeric_data_nan</th>\n",
       "      <th>category</th>\n",
       "    </tr>\n",
       "  </thead>\n",
       "  <tbody>\n",
       "    <tr>\n",
       "      <th>0</th>\n",
       "      <td>819-1</td>\n",
       "      <td>Basic</td>\n",
       "      <td>Supplementaries</td>\n",
       "      <td>1991</td>\n",
       "      <td>Blue baseplate</td>\n",
       "      <td>NaN</td>\n",
       "      <td>1.00</td>\n",
       "      <td>NaN</td>\n",
       "      <td>5.50</td>\n",
       "      <td>NaN</td>\n",
       "      <td>6.26</td>\n",
       "      <td>NaN</td>\n",
       "      <td>NaN</td>\n",
       "      <td>NaN</td>\n",
       "      <td>False</td>\n",
       "      <td>set</td>\n",
       "    </tr>\n",
       "    <tr>\n",
       "      <th>91</th>\n",
       "      <td>5165-1</td>\n",
       "      <td>Service Packs</td>\n",
       "      <td>NaN</td>\n",
       "      <td>1991</td>\n",
       "      <td>Hinges, Couplings and Tilting Bearings</td>\n",
       "      <td>NaN</td>\n",
       "      <td>31.00</td>\n",
       "      <td>NaN</td>\n",
       "      <td>3.00</td>\n",
       "      <td>NaN</td>\n",
       "      <td>20.00</td>\n",
       "      <td>NaN</td>\n",
       "      <td>NaN</td>\n",
       "      <td>NaN</td>\n",
       "      <td>False</td>\n",
       "      <td>set</td>\n",
       "    </tr>\n",
       "    <tr>\n",
       "      <th>92</th>\n",
       "      <td>5166-1</td>\n",
       "      <td>Service Packs</td>\n",
       "      <td>NaN</td>\n",
       "      <td>1991</td>\n",
       "      <td>Lamp Holders, Tool Holder Plates</td>\n",
       "      <td>NaN</td>\n",
       "      <td>18.00</td>\n",
       "      <td>NaN</td>\n",
       "      <td>NaN</td>\n",
       "      <td>NaN</td>\n",
       "      <td>12.79</td>\n",
       "      <td>NaN</td>\n",
       "      <td>NaN</td>\n",
       "      <td>NaN</td>\n",
       "      <td>False</td>\n",
       "      <td>set</td>\n",
       "    </tr>\n",
       "    <tr>\n",
       "      <th>93</th>\n",
       "      <td>5271-1</td>\n",
       "      <td>Service Packs</td>\n",
       "      <td>NaN</td>\n",
       "      <td>1991</td>\n",
       "      <td>Tyres and Hubs 49.6 mm White</td>\n",
       "      <td>NaN</td>\n",
       "      <td>4.00</td>\n",
       "      <td>NaN</td>\n",
       "      <td>NaN</td>\n",
       "      <td>NaN</td>\n",
       "      <td>5.90</td>\n",
       "      <td>NaN</td>\n",
       "      <td>NaN</td>\n",
       "      <td>NaN</td>\n",
       "      <td>False</td>\n",
       "      <td>set</td>\n",
       "    </tr>\n",
       "    <tr>\n",
       "      <th>94</th>\n",
       "      <td>5272-1</td>\n",
       "      <td>Service Packs</td>\n",
       "      <td>Technic</td>\n",
       "      <td>1991</td>\n",
       "      <td>Cylinder Motor</td>\n",
       "      <td>NaN</td>\n",
       "      <td>9.00</td>\n",
       "      <td>NaN</td>\n",
       "      <td>3.00</td>\n",
       "      <td>NaN</td>\n",
       "      <td>3.67</td>\n",
       "      <td>NaN</td>\n",
       "      <td>NaN</td>\n",
       "      <td>NaN</td>\n",
       "      <td>False</td>\n",
       "      <td>set</td>\n",
       "    </tr>\n",
       "    <tr>\n",
       "      <th>...</th>\n",
       "      <td>...</td>\n",
       "      <td>...</td>\n",
       "      <td>...</td>\n",
       "      <td>...</td>\n",
       "      <td>...</td>\n",
       "      <td>...</td>\n",
       "      <td>...</td>\n",
       "      <td>...</td>\n",
       "      <td>...</td>\n",
       "      <td>...</td>\n",
       "      <td>...</td>\n",
       "      <td>...</td>\n",
       "      <td>...</td>\n",
       "      <td>...</td>\n",
       "      <td>...</td>\n",
       "      <td>...</td>\n",
       "    </tr>\n",
       "    <tr>\n",
       "      <th>1797</th>\n",
       "      <td>80022-1</td>\n",
       "      <td>Monkie Kid</td>\n",
       "      <td>Season 2</td>\n",
       "      <td>2021</td>\n",
       "      <td>Spider Queen's Arachnoid Base</td>\n",
       "      <td>6.00</td>\n",
       "      <td>1,170.00</td>\n",
       "      <td>89.99</td>\n",
       "      <td>119.99</td>\n",
       "      <td>99.99</td>\n",
       "      <td>140.26</td>\n",
       "      <td>NaN</td>\n",
       "      <td>01/03/2021</td>\n",
       "      <td>31/12/2022</td>\n",
       "      <td>False</td>\n",
       "      <td>set</td>\n",
       "    </tr>\n",
       "    <tr>\n",
       "      <th>1798</th>\n",
       "      <td>80023-1</td>\n",
       "      <td>Monkie Kid</td>\n",
       "      <td>Season 2</td>\n",
       "      <td>2021</td>\n",
       "      <td>Monkie Kid's Team Dronecopter</td>\n",
       "      <td>9.00</td>\n",
       "      <td>1,462.00</td>\n",
       "      <td>114.99</td>\n",
       "      <td>149.99</td>\n",
       "      <td>129.99</td>\n",
       "      <td>154.21</td>\n",
       "      <td>NaN</td>\n",
       "      <td>01/03/2021</td>\n",
       "      <td>31/12/2022</td>\n",
       "      <td>False</td>\n",
       "      <td>set</td>\n",
       "    </tr>\n",
       "    <tr>\n",
       "      <th>1230</th>\n",
       "      <td>10283-1</td>\n",
       "      <td>Creator Expert</td>\n",
       "      <td>Space</td>\n",
       "      <td>2021</td>\n",
       "      <td>NASA Space Shuttle Discovery</td>\n",
       "      <td>NaN</td>\n",
       "      <td>2,354.00</td>\n",
       "      <td>159.99</td>\n",
       "      <td>199.99</td>\n",
       "      <td>179.99</td>\n",
       "      <td>197.60</td>\n",
       "      <td>151.00</td>\n",
       "      <td>01/04/2021</td>\n",
       "      <td>31/12/2024</td>\n",
       "      <td>False</td>\n",
       "      <td>set</td>\n",
       "    </tr>\n",
       "    <tr>\n",
       "      <th>1358</th>\n",
       "      <td>40454-1</td>\n",
       "      <td>Marvel Super Heroes</td>\n",
       "      <td>Spider-Man</td>\n",
       "      <td>2021</td>\n",
       "      <td>Spider-Man versus Venom and Iron Venom</td>\n",
       "      <td>4.00</td>\n",
       "      <td>63.00</td>\n",
       "      <td>13.49</td>\n",
       "      <td>14.99</td>\n",
       "      <td>14.99</td>\n",
       "      <td>24.20</td>\n",
       "      <td>NaN</td>\n",
       "      <td>01/04/2021</td>\n",
       "      <td>31/12/2022</td>\n",
       "      <td>False</td>\n",
       "      <td>set</td>\n",
       "    </tr>\n",
       "    <tr>\n",
       "      <th>2103</th>\n",
       "      <td>6410426-1</td>\n",
       "      <td>Promotional</td>\n",
       "      <td>LEGO Brand Store Opening Set</td>\n",
       "      <td>2021</td>\n",
       "      <td>Mall of Berlin brand store associate figure</td>\n",
       "      <td>NaN</td>\n",
       "      <td>129.00</td>\n",
       "      <td>NaN</td>\n",
       "      <td>NaN</td>\n",
       "      <td>NaN</td>\n",
       "      <td>103.66</td>\n",
       "      <td>NaN</td>\n",
       "      <td>NaN</td>\n",
       "      <td>NaN</td>\n",
       "      <td>False</td>\n",
       "      <td>set</td>\n",
       "    </tr>\n",
       "  </tbody>\n",
       "</table>\n",
       "<p>10903 rows × 16 columns</p>\n",
       "</div>"
      ],
      "text/plain": [
       "         number                theme                      subtheme  year  \\\n",
       "0         819-1                Basic               Supplementaries  1991   \n",
       "91       5165-1        Service Packs                           NaN  1991   \n",
       "92       5166-1        Service Packs                           NaN  1991   \n",
       "93       5271-1        Service Packs                           NaN  1991   \n",
       "94       5272-1        Service Packs                       Technic  1991   \n",
       "...         ...                  ...                           ...   ...   \n",
       "1797    80022-1           Monkie Kid                      Season 2  2021   \n",
       "1798    80023-1           Monkie Kid                      Season 2  2021   \n",
       "1230    10283-1       Creator Expert                         Space  2021   \n",
       "1358    40454-1  Marvel Super Heroes                    Spider-Man  2021   \n",
       "2103  6410426-1          Promotional  LEGO Brand Store Opening Set  2021   \n",
       "\n",
       "                                         set_name  minifigs   pieces  rrp_gbp  \\\n",
       "0                                  Blue baseplate       NaN     1.00      NaN   \n",
       "91         Hinges, Couplings and Tilting Bearings       NaN    31.00      NaN   \n",
       "92               Lamp Holders, Tool Holder Plates       NaN    18.00      NaN   \n",
       "93                   Tyres and Hubs 49.6 mm White       NaN     4.00      NaN   \n",
       "94                                 Cylinder Motor       NaN     9.00      NaN   \n",
       "...                                           ...       ...      ...      ...   \n",
       "1797                Spider Queen's Arachnoid Base      6.00 1,170.00    89.99   \n",
       "1798                Monkie Kid's Team Dronecopter      9.00 1,462.00   114.99   \n",
       "1230                 NASA Space Shuttle Discovery       NaN 2,354.00   159.99   \n",
       "1358       Spider-Man versus Venom and Iron Venom      4.00    63.00    13.49   \n",
       "2103  Mall of Berlin brand store associate figure       NaN   129.00      NaN   \n",
       "\n",
       "      price  rrp_eur  value_new  value_used launch_date   exit_date  \\\n",
       "0      5.50      NaN       6.26         NaN         NaN         NaN   \n",
       "91     3.00      NaN      20.00         NaN         NaN         NaN   \n",
       "92      NaN      NaN      12.79         NaN         NaN         NaN   \n",
       "93      NaN      NaN       5.90         NaN         NaN         NaN   \n",
       "94     3.00      NaN       3.67         NaN         NaN         NaN   \n",
       "...     ...      ...        ...         ...         ...         ...   \n",
       "1797 119.99    99.99     140.26         NaN  01/03/2021  31/12/2022   \n",
       "1798 149.99   129.99     154.21         NaN  01/03/2021  31/12/2022   \n",
       "1230 199.99   179.99     197.60      151.00  01/04/2021  31/12/2024   \n",
       "1358  14.99    14.99      24.20         NaN  01/04/2021  31/12/2022   \n",
       "2103    NaN      NaN     103.66         NaN         NaN         NaN   \n",
       "\n",
       "      numeric_data_nan category  \n",
       "0                False      set  \n",
       "91               False      set  \n",
       "92               False      set  \n",
       "93               False      set  \n",
       "94               False      set  \n",
       "...                ...      ...  \n",
       "1797             False      set  \n",
       "1798             False      set  \n",
       "1230             False      set  \n",
       "1358             False      set  \n",
       "2103             False      set  \n",
       "\n",
       "[10903 rows x 16 columns]"
      ]
     },
     "execution_count": 331,
     "metadata": {},
     "output_type": "execute_result"
    }
   ],
   "source": [
    "df_sets_price"
   ]
  },
  {
   "cell_type": "code",
   "execution_count": null,
   "id": "047724e2",
   "metadata": {},
   "outputs": [],
   "source": []
  },
  {
   "cell_type": "code",
   "execution_count": null,
   "id": "2d1b604f",
   "metadata": {},
   "outputs": [],
   "source": []
  },
  {
   "cell_type": "code",
   "execution_count": null,
   "id": "da7137bc",
   "metadata": {},
   "outputs": [],
   "source": []
  },
  {
   "cell_type": "code",
   "execution_count": null,
   "id": "af3fe071",
   "metadata": {},
   "outputs": [],
   "source": []
  },
  {
   "cell_type": "code",
   "execution_count": null,
   "id": "32864ebb",
   "metadata": {},
   "outputs": [],
   "source": []
  },
  {
   "cell_type": "code",
   "execution_count": null,
   "id": "eb22710d",
   "metadata": {},
   "outputs": [],
   "source": []
  },
  {
   "cell_type": "code",
   "execution_count": null,
   "id": "65b9fd74",
   "metadata": {},
   "outputs": [],
   "source": []
  },
  {
   "cell_type": "markdown",
   "id": "34c36ef0",
   "metadata": {},
   "source": [
    "### B) Predictive Analysis"
   ]
  },
  {
   "cell_type": "code",
   "execution_count": null,
   "id": "843459f1",
   "metadata": {},
   "outputs": [],
   "source": []
  },
  {
   "cell_type": "markdown",
   "id": "ecf469c8",
   "metadata": {},
   "source": [
    "## 5. Evaluation"
   ]
  },
  {
   "cell_type": "code",
   "execution_count": null,
   "id": "09aa856d",
   "metadata": {},
   "outputs": [],
   "source": []
  },
  {
   "cell_type": "code",
   "execution_count": null,
   "id": "c3e394db",
   "metadata": {},
   "outputs": [],
   "source": [
    "corr = df.drop([\"year\",\"rrp_gbp\",\"rrp_eur\"], axis = \"columns\").corr()\n",
    "mask = np.triu(np.ones_like(corr, dtype = bool))\n",
    "\n",
    "f, ax = plt.subplots(figsize = (20,20))\n",
    "\n",
    "cmap = sns.diverging_palette(200, 20, as_cmap = True)\n",
    "sns.heatmap(corr, mask = mask, cmap = cmap, vmax = 1, center = 0, square = True, linewidth = 4, cbar_kws = {\"shrink\":.5})"
   ]
  }
 ],
 "metadata": {
  "kernelspec": {
   "display_name": "Python 3 (ipykernel)",
   "language": "python",
   "name": "python3"
  },
  "language_info": {
   "codemirror_mode": {
    "name": "ipython",
    "version": 3
   },
   "file_extension": ".py",
   "mimetype": "text/x-python",
   "name": "python",
   "nbconvert_exporter": "python",
   "pygments_lexer": "ipython3",
   "version": "3.9.7"
  }
 },
 "nbformat": 4,
 "nbformat_minor": 5
}
